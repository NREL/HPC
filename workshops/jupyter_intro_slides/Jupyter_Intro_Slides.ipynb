{
 "cells": [
  {
   "cell_type": "markdown",
   "metadata": {
    "slideshow": {
     "slide_type": "slide"
    }
   },
   "source": [
    "## Jupyter on Eagle\n",
    "\n",
    "<img src=\"jup-logo.png\" height=200 width=200>\n",
    "\n",
    "\n",
    "\n",
    "HPC User Operations/Support\n",
    "\n",
    "Presenter: Tim Thatcher\n",
    "\n",
    "March 2021"
   ]
  },
  {
   "cell_type": "markdown",
   "metadata": {
    "slideshow": {
     "slide_type": "slide"
    }
   },
   "source": [
    "## What is Jupyter?\n",
    "\n",
    "\n",
    "**A web app for interactive Python in a browser** \n",
    "\n",
    "- \"Live coding\"\n",
    "- Instant visualization\n",
    "- Sharable\n",
    "- Reproducible\n",
    "- Customizable\n",
    "- Now supports other languages besides Python (R, Julia..)   \n",
    "    - https://github.com/jupyter/jupyter/wiki/Jupyter-kernels\n",
    "    - these slides were created using Markdown in Jupyter!"
   ]
  },
  {
   "cell_type": "markdown",
   "metadata": {
    "slideshow": {
     "slide_type": "subslide"
    }
   },
   "source": [
    "<img src=\"sshot1.png\">"
   ]
  },
  {
   "cell_type": "markdown",
   "metadata": {
    "slideshow": {
     "slide_type": "subslide"
    }
   },
   "source": [
    "<img src=\"sshot2.png\">"
   ]
  },
  {
   "cell_type": "code",
   "execution_count": 5,
   "metadata": {
    "slideshow": {
     "slide_type": "subslide"
    }
   },
   "outputs": [
    {
     "data": {
      "image/png": "[encoded data removed]",
      "text/plain": [
       "<Figure size 864x216 with 4 Axes>"
      ]
     },
     "metadata": {
      "needs_background": "light"
     },
     "output_type": "display_data"
    }
   ],
   "source": [
    "import chart_studio.plotly as py\n",
    "import plotly.figure_factory as ff\n",
    "import pandas as pd\n",
    "import numpy as np\n",
    "import matplotlib\n",
    "import matplotlib.pyplot as plt\n",
    "x = np.linspace(0, 5, 10)\n",
    "y = x ** 2\n",
    "n = np.array([0,1,2,3,4,5])\n",
    "xx = np.linspace(-0.75, 1., 100)\n",
    "\n",
    "fig, axes = plt.subplots(1, 4, figsize=(12,3))\n",
    "\n",
    "axes[0].scatter(xx, xx + 1.25*np.random.randn(len(xx)))\n",
    "#axes[0].scatter(xx, xx + 0.25*np.random.randn(len(xx)))\n",
    "axes[0].set_title(\"scatter\")\n",
    "\n",
    "axes[1].step(n, n**2.0, lw=2)\n",
    "axes[1].set_title(\"step\")\n",
    "\n",
    "axes[2].bar(n, n**2, align=\"center\", width=0.5, alpha=0.5)\n",
    "axes[2].set_title(\"bar\")\n",
    "\n",
    "axes[3].fill_between(x, x**2.5, x**3, color=\"green\", alpha=0.5);\n",
    "axes[3].set_title(\"fill_between\");"
   ]
  },
  {
   "cell_type": "markdown",
   "metadata": {
    "slideshow": {
     "slide_type": "slide"
    }
   },
   "source": [
    "## Terminology - a Confusion of Words\n",
    "\n"
   ]
  },
  {
   "cell_type": "markdown",
   "metadata": {
    "slideshow": {
     "slide_type": "subslide"
    }
   },
   "source": [
    "### **Jupyterhub**\n",
    "    * Multi-user \"backend\" server\n",
    "    * Controls launching the single-user Jupyter server\n",
    "    * NREL's \"Europa\" runs Jupyterhub\n",
    " \n",
    "(In general, don't worry about JupyterHub--unless you're a sysadmin)"
   ]
  },
  {
   "cell_type": "markdown",
   "metadata": {
    "slideshow": {
     "slide_type": "subslide"
    }
   },
   "source": [
    "### **Jupyter/Jupyter Server/Notebook server**\n",
    "    * The single-user server/web interface\n",
    "    * Create/save/load .ipynb notebook files\n",
    "    * What users generally interact with"
   ]
  },
  {
   "cell_type": "markdown",
   "metadata": {
    "slideshow": {
     "slide_type": "subslide"
    }
   },
   "source": [
    "### **Jupyter Notebook**\n",
    "    * An individual .pynb file\n",
    "    * Contains your Python code and visualizations\n",
    "    * Sharable/downloadable"
   ]
  },
  {
   "cell_type": "markdown",
   "metadata": {
    "slideshow": {
     "slide_type": "subslide"
    }
   },
   "source": [
    "###  **Jupyter lab**\n",
    "    * A \"nicer\" web interface for Jupyter - \"notebooks 2.0\"\n",
    "    * Preferred by some\n",
    "    * Lacking some features of \"classic\" notebooks"
   ]
  },
  {
   "cell_type": "markdown",
   "metadata": {
    "slideshow": {
     "slide_type": "subslide"
    }
   },
   "source": [
    "### **Kernel**\n",
    "    * The Python environment used by a notebook\n",
    "    * More on kernels later"
   ]
  },
  {
   "cell_type": "markdown",
   "metadata": {
    "slideshow": {
     "slide_type": "slide"
    }
   },
   "source": [
    "## Using Jupyter at NREL"
   ]
  },
  {
   "cell_type": "markdown",
   "metadata": {
    "slideshow": {
     "slide_type": "slide"
    }
   },
   "source": [
    "## Using Europa\n",
    "\n",
    "We run a Jupyterhub server that is available. \n",
    "\n",
    "### Europa's Advantages:\n",
    "    * Fast and easy access\n",
    "    * Use regular Eagle credentials\n",
    "    * Great for light to moderate processing/debugging/testing\n",
    "\n",
    "### Europa's Disadvantages:\n",
    "    * Limited resource: 8 cores/128GB RAM per user beefore automatic throttling\n",
    "    * Compete with other users for CPU/RAM on a single machine\n",
    "    * No custom environments (for now)"
   ]
  },
  {
   "cell_type": "markdown",
   "metadata": {
    "slideshow": {
     "slide_type": "slide"
    }
   },
   "source": [
    "## Using Europa\n",
    "\n",
    "### Simple Instructions:\n",
    "    \n",
    "    - Visit Europa at (https://europa.hpc.nrel.gov/)\n",
    "    \n",
    "    - Log in using your HPC credentials\n",
    "     \n",
    "    - Opens a standard \"notebooks\" interface\n",
    "     \n",
    "    - Change url end /tree to /lab for Lab interface\n"
   ]
  },
  {
   "cell_type": "markdown",
   "metadata": {
    "slideshow": {
     "slide_type": "slide"
    }
   },
   "source": [
    "## Using a Compute Node\n",
    "\n",
    "### Advantages:\n",
    "    * Custom environments\n",
    "    * 36 cores and up to ~750GB RAM\n",
    "    * No competing with other users for cores\n",
    "\n",
    "### Disadvantages:\n",
    "    * Compete with other users for nodes\n",
    "    * Costs AU\n",
    "    \n",
    "    \n"
   ]
  },
  {
   "cell_type": "markdown",
   "metadata": {
    "slideshow": {
     "slide_type": "subslide"
    }
   },
   "source": [
    "#### ...Is more than one node possible?\n",
    "\n",
    "Yes... In part 2 of this talk, scheduled for Thursday, May 13th 10:00 - 11:00 AM Mountain Time"
   ]
  },
  {
   "cell_type": "markdown",
   "metadata": {
    "slideshow": {
     "slide_type": "slide"
    }
   },
   "source": [
    "## Using a Compute Node - Hard Way\n",
    "\n",
    "### Start on a login node:\n",
    "\n",
    "`ssh eagle.hpc.nrel.gov`\n",
    "\n",
    "`[user@el1:]$ srun -A <account> -t 02:00:00 --pty /bin/bash`\n",
    "\n",
    "\n",
    "\n"
   ]
  },
  {
   "cell_type": "markdown",
   "metadata": {
    "slideshow": {
     "slide_type": "subslide"
    }
   },
   "source": [
    "### When the job starts on the compute node:\n",
    "\n",
    "`[user@r2i7n35]$ module load conda`\n",
    "\n",
    "`source activate myjupenv`\n",
    "\n",
    "`jupyter-notebook --no-browser --ip=$(hostname -s)`\n",
    "\n",
    "note the node name (r2i7n35 in this example)\n",
    "\n",
    "and the url, e.g. `http://127.0.0.1:8888/?token=<alphabet soup>`"
   ]
  },
  {
   "cell_type": "markdown",
   "metadata": {
    "slideshow": {
     "slide_type": "subslide"
    }
   },
   "source": [
    "### In a terminal on your computer:\n",
    "\n",
    "`[user@laptop]$ ssh -N -L 8888:<nodename>:8888 username@eagle.hpc.nrel.gov`\n",
    "    \n",
    "copy full url from jupyter startup into your web browser. e.g.: \n",
    "\n",
    "`http://127.0.0.1:8888/?token=<alphabet soup>`"
   ]
  },
  {
   "cell_type": "markdown",
   "metadata": {
    "slideshow": {
     "slide_type": "slide"
    }
   },
   "source": [
    "\n",
    "## Using a Compute Node - Easy Way\n",
    "\n",
    "\n",
    "Automation makes life better!\n",
    "\n",
    "###  Auto-launching with an sbatch script\n",
    "\n",
    "https://github.com/NREL/HPC/tree/master/languages/python/jupyter\n",
    "\n",
    "\n",
    "        "
   ]
  },
  {
   "cell_type": "markdown",
   "metadata": {
    "slideshow": {
     "slide_type": "subslide"
    }
   },
   "source": [
    "### Summary:\n",
    "Full directions included in the git repo above.\n",
    "\n",
    "Download `sbatch_jupyter.sh` and `auto_launch_jupyter.sh`\n",
    "\n",
    "Edit sbatch_jupyter.sh to change:\n",
    "\n",
    "`--account=*yourallocation*`\n",
    "\n",
    "`--time=*timelimit*`\n",
    "\n",
    "Run `auto_launch_jupyter.sh` and follow directions\n",
    "\n",
    "That's it!"
   ]
  },
  {
   "cell_type": "markdown",
   "metadata": {
    "slideshow": {
     "slide_type": "slide"
    }
   },
   "source": [
    "## Using a Login Node\n",
    "\n",
    "\n",
    "Yes, you can run jupyter directly on a login node.\n",
    "\n",
    "\n",
    "\n",
    "Should you run jupyter directly on a login node?\n",
    "\n"
   ]
  },
  {
   "cell_type": "markdown",
   "metadata": {
    "slideshow": {
     "slide_type": "fragment"
    }
   },
   "source": [
    "### Reasons to Not Run Jupyter Directly on a Login Node\n",
    "    * Heavy lifting should be done via Europa or compute nodes\n",
    "    * Using a highly shared resource (login nodes)\n",
    "        * Competition for cycles\n",
    "        * arbiter2 will throttle moderate to heavy usage"
   ]
  },
  {
   "cell_type": "markdown",
   "metadata": {
    "slideshow": {
     "slide_type": "slide"
    }
   },
   "source": [
    "## Custom Conda Environments and Jupyter Kernels\n",
    "\n",
    "https://github.com/NREL/HPC/tree/master/general/intermediate/Jupyterhub\n",
    "\n"
   ]
  },
  {
   "cell_type": "markdown",
   "metadata": {
    "slideshow": {
     "slide_type": "slide"
    }
   },
   "source": [
    "### creating a conda environment:\n",
    "\n",
    "`conda create -n myjupyter -c conda-forge jupyter ipykernel`\n",
    "\n",
    "`source activate myjupyter`\n",
    "\n",
    "`conda install -c conda-forge scipy numpy matplotlib`\n"
   ]
  },
  {
   "cell_type": "markdown",
   "metadata": {
    "slideshow": {
     "slide_type": "slide"
    }
   },
   "source": [
    "\n",
    "### Add custom ipykernel\n",
    "\n",
    "`python -m ipykernel install --user --name=myjupyter`\n",
    "\n",
    "Restart your jupyter server\n",
    "\n",
    "New kernel will appear in drop-down as an option"
   ]
  },
  {
   "cell_type": "markdown",
   "metadata": {
    "slideshow": {
     "slide_type": "slide"
    }
   },
   "source": [
    "### Remove custom ipykernel\n",
    "\n",
    "`jupyter kernelspec list`\n",
    "\n",
    "`jupyter kernelspec remove myoldjupyter`\n"
   ]
  },
  {
   "cell_type": "markdown",
   "metadata": {
    "slideshow": {
     "slide_type": "slide"
    }
   },
   "source": [
    "## Magic commands\n",
    "\n",
    "\n",
    "Magic commands are \"meta commands\" that add extra functionality.\n",
    "\n",
    "Magic commands begin with % or %%."
   ]
  },
  {
   "cell_type": "markdown",
   "metadata": {
    "slideshow": {
     "slide_type": "fragment"
    }
   },
   "source": [
    "### A Few Useful Examples\n",
    " \n",
    "    * %lsmagic - list all magic commands\n",
    "    * %run _file.py_ - run an external python script\n",
    "    * %%time - placed at top of cell, prints execution time\n",
    "    * %who - list all defined variables in notebook\n",
    "    \n"
   ]
  },
  {
   "cell_type": "code",
   "execution_count": 1,
   "metadata": {
    "slideshow": {
     "slide_type": "subslide"
    }
   },
   "outputs": [
    {
     "data": {
      "application/json": {
       "cell": {
        "!": "OSMagics",
        "HTML": "Other",
        "SVG": "Other",
        "bash": "Other",
        "capture": "ExecutionMagics",
        "debug": "ExecutionMagics",
        "file": "Other",
        "html": "DisplayMagics",
        "javascript": "DisplayMagics",
        "js": "DisplayMagics",
        "latex": "DisplayMagics",
        "markdown": "DisplayMagics",
        "perl": "Other",
        "prun": "ExecutionMagics",
        "pypy": "Other",
        "python": "Other",
        "python2": "Other",
        "python3": "Other",
        "ruby": "Other",
        "script": "ScriptMagics",
        "sh": "Other",
        "svg": "DisplayMagics",
        "sx": "OSMagics",
        "system": "OSMagics",
        "time": "ExecutionMagics",
        "timeit": "ExecutionMagics",
        "writefile": "OSMagics"
       },
       "line": {
        "alias": "OSMagics",
        "alias_magic": "BasicMagics",
        "autoawait": "AsyncMagics",
        "autocall": "AutoMagics",
        "automagic": "AutoMagics",
        "autosave": "KernelMagics",
        "bookmark": "OSMagics",
        "cat": "Other",
        "cd": "OSMagics",
        "clear": "KernelMagics",
        "colors": "BasicMagics",
        "conda": "PackagingMagics",
        "config": "ConfigMagics",
        "connect_info": "KernelMagics",
        "cp": "Other",
        "debug": "ExecutionMagics",
        "dhist": "OSMagics",
        "dirs": "OSMagics",
        "doctest_mode": "BasicMagics",
        "ed": "Other",
        "edit": "KernelMagics",
        "env": "OSMagics",
        "gui": "BasicMagics",
        "hist": "Other",
        "history": "HistoryMagics",
        "killbgscripts": "ScriptMagics",
        "ldir": "Other",
        "less": "KernelMagics",
        "lf": "Other",
        "lk": "Other",
        "ll": "Other",
        "load": "CodeMagics",
        "load_ext": "ExtensionMagics",
        "loadpy": "CodeMagics",
        "logoff": "LoggingMagics",
        "logon": "LoggingMagics",
        "logstart": "LoggingMagics",
        "logstate": "LoggingMagics",
        "logstop": "LoggingMagics",
        "ls": "Other",
        "lsmagic": "BasicMagics",
        "lx": "Other",
        "macro": "ExecutionMagics",
        "magic": "BasicMagics",
        "man": "KernelMagics",
        "matplotlib": "PylabMagics",
        "mkdir": "Other",
        "more": "KernelMagics",
        "mv": "Other",
        "notebook": "BasicMagics",
        "page": "BasicMagics",
        "pastebin": "CodeMagics",
        "pdb": "ExecutionMagics",
        "pdef": "NamespaceMagics",
        "pdoc": "NamespaceMagics",
        "pfile": "NamespaceMagics",
        "pinfo": "NamespaceMagics",
        "pinfo2": "NamespaceMagics",
        "pip": "PackagingMagics",
        "popd": "OSMagics",
        "pprint": "BasicMagics",
        "precision": "BasicMagics",
        "prun": "ExecutionMagics",
        "psearch": "NamespaceMagics",
        "psource": "NamespaceMagics",
        "pushd": "OSMagics",
        "pwd": "OSMagics",
        "pycat": "OSMagics",
        "pylab": "PylabMagics",
        "qtconsole": "KernelMagics",
        "quickref": "BasicMagics",
        "recall": "HistoryMagics",
        "rehashx": "OSMagics",
        "reload_ext": "ExtensionMagics",
        "rep": "Other",
        "rerun": "HistoryMagics",
        "reset": "NamespaceMagics",
        "reset_selective": "NamespaceMagics",
        "rm": "Other",
        "rmdir": "Other",
        "run": "ExecutionMagics",
        "save": "CodeMagics",
        "sc": "OSMagics",
        "set_env": "OSMagics",
        "store": "StoreMagics",
        "sx": "OSMagics",
        "system": "OSMagics",
        "tb": "ExecutionMagics",
        "time": "ExecutionMagics",
        "timeit": "ExecutionMagics",
        "unalias": "OSMagics",
        "unload_ext": "ExtensionMagics",
        "who": "NamespaceMagics",
        "who_ls": "NamespaceMagics",
        "whos": "NamespaceMagics",
        "xdel": "NamespaceMagics",
        "xmode": "BasicMagics"
       }
      },
      "text/plain": [
       "Available line magics:\n",
       "%alias  %alias_magic  %autoawait  %autocall  %automagic  %autosave  %bookmark  %cat  %cd  %clear  %colors  %conda  %config  %connect_info  %cp  %debug  %dhist  %dirs  %doctest_mode  %ed  %edit  %env  %gui  %hist  %history  %killbgscripts  %ldir  %less  %lf  %lk  %ll  %load  %load_ext  %loadpy  %logoff  %logon  %logstart  %logstate  %logstop  %ls  %lsmagic  %lx  %macro  %magic  %man  %matplotlib  %mkdir  %more  %mv  %notebook  %page  %pastebin  %pdb  %pdef  %pdoc  %pfile  %pinfo  %pinfo2  %pip  %popd  %pprint  %precision  %prun  %psearch  %psource  %pushd  %pwd  %pycat  %pylab  %qtconsole  %quickref  %recall  %rehashx  %reload_ext  %rep  %rerun  %reset  %reset_selective  %rm  %rmdir  %run  %save  %sc  %set_env  %store  %sx  %system  %tb  %time  %timeit  %unalias  %unload_ext  %who  %who_ls  %whos  %xdel  %xmode\n",
       "\n",
       "Available cell magics:\n",
       "%%!  %%HTML  %%SVG  %%bash  %%capture  %%debug  %%file  %%html  %%javascript  %%js  %%latex  %%markdown  %%perl  %%prun  %%pypy  %%python  %%python2  %%python3  %%ruby  %%script  %%sh  %%svg  %%sx  %%system  %%time  %%timeit  %%writefile\n",
       "\n",
       "Automagic is ON, % prefix IS NOT needed for line magics."
      ]
     },
     "execution_count": 1,
     "metadata": {},
     "output_type": "execute_result"
    }
   ],
   "source": [
    "%lsmagic\n"
   ]
  },
  {
   "cell_type": "markdown",
   "metadata": {
    "slideshow": {
     "slide_type": "slide"
    }
   },
   "source": [
    "## Shell Commands\n",
    "\n",
    "You can also run shell commands inside a cell. For example:\n",
    "\n",
    "`!conda list` - see the packages installed in the environment you're using"
   ]
  },
  {
   "cell_type": "code",
   "execution_count": 7,
   "metadata": {
    "slideshow": {
     "slide_type": "subslide"
    }
   },
   "outputs": [
    {
     "name": "stdout",
     "output_type": "stream",
     "text": [
      "/home/tthatche/jup\n",
      "auto_launch_jupyter.sh\t  Jupyter Presentation.ipynb  slurm-6445885.out\n",
      "geojsondemo.ipynb\t  old\t\t\t      sshot1.png\n",
      "Interesting Graphs.ipynb  sbatch_jupyter.sh\t      sshot2.png\n",
      "jup-logo.png\t\t  slurm\n"
     ]
    }
   ],
   "source": [
    "!pwd\n",
    "!ls"
   ]
  },
  {
   "cell_type": "markdown",
   "metadata": {
    "slideshow": {
     "slide_type": "slide"
    }
   },
   "source": [
    "## Interesting/Useful Notebooks\n"
   ]
  },
  {
   "cell_type": "markdown",
   "metadata": {
    "slideshow": {
     "slide_type": "subslide"
    }
   },
   "source": [
    "### RISE Slides \n",
    "https://rise.readthedocs.io/en/stable/ - used for this presentation\n",
    "\n",
    "\n",
    "### Awesome Jupyter \n",
    "https://github.com/markusschanta/awesome-jupyter\n",
    "\n",
    "    \n",
    "### Awesome Jupyterlab\n",
    "https://github.com/mauhai/awesome-jupyterlab\n",
    "\n",
    "\n"
   ]
  },
  {
   "cell_type": "markdown",
   "metadata": {
    "slideshow": {
     "slide_type": "subslide"
    }
   },
   "source": [
    "### Other sample notebooks\n",
    "\n",
    "https://github.com/jupyter/jupyter/wiki/A-gallery-of-interesting-Jupyter-Notebooks\n",
    "\n",
    "https://nbviewer.jupyter.org/github/jrjohansson/scientific-python-lectures/blob/master/Lecture-4-Matplotlib.ipynb\n",
    "\n",
    "https://nbviewer.jupyter.org/github/gumption/Python_for_Data_Science/blob/master/Python_for_Data_Science_all.ipynb\n",
    "\n",
    "https://nbviewer.jupyter.org/github/phelps-sg/python-bigdata/blob/master/src/main/ipynb/numerical-slides.ipynb\n",
    "\n",
    "https://nbviewer.jupyter.org/github/Carreau/posts/blob/master/07-the-sound-of-hydrogen.ipynb\n",
    "\n",
    "https://anaconda.org/jbednar/plotting_pitfalls/notebook\n",
    "\n",
    "https://github.com/jupyterlab/jupyter-renderers/tree/master/packages/geojson-extension\n",
    "\n"
   ]
  },
  {
   "cell_type": "markdown",
   "metadata": {
    "slideshow": {
     "slide_type": "slide"
    }
   },
   "source": [
    "\n",
    "## Upcoming Events\n"
   ]
  },
  {
   "cell_type": "markdown",
   "metadata": {
    "slideshow": {
     "slide_type": "fragment"
    }
   },
   "source": [
    "### HPC Office Hours – Jupyter Use Feedback Requested\n",
    "Thursday, April 1st 11:00 - 12:00 PM Mountain\n",
    "\n",
    "Jupyter usage has been growing on Eagle. In this special focused HPC Office Hours, we would like to hear from Jupyter users. How are you using Jupyter? Are there any pain points we can help with?  We are currently working on new ways to support Jupyter users at NREL and your input will help shape these efforts.\n"
   ]
  },
  {
   "cell_type": "markdown",
   "metadata": {
    "slideshow": {
     "slide_type": "fragment"
    }
   },
   "source": [
    "\n",
    "### HPC Workshop Series - Advanced Jupyter\n",
    "Thursday, May 13th 10:00 - 11:00 AM Mountain\n",
    "\n",
    "Beyond the basics. This advanced workshop will cover topics such as: slurm integrations, mulit-node parallel computations, JupyterLab Extensions, etc. Content for this workshop will be announced soon based on feedback received. If you cannot attend a feedback session listed above, please email suggestions or topics to HPC-Help@nrel.gov."
   ]
  },
  {
   "cell_type": "markdown",
   "metadata": {
    "slideshow": {
     "slide_type": "slide"
    }
   },
   "source": [
    "## Questions or Comments?\n"
   ]
  },
  {
   "cell_type": "code",
   "execution_count": 9,
   "metadata": {
    "slideshow": {
     "slide_type": "fragment"
    }
   },
   "outputs": [
    {
     "name": "stdout",
     "output_type": "stream",
     "text": [
      "\n",
      "\n",
      "  _   _   ____    _____   _\n",
      " | \\ | | |  _ \\  | ____| | |\n",
      " |  \\| | | |_) | |  _|   | |\n",
      " | |\\  | |  _ <  | |___  | |___\n",
      " |_| \\_| |_| \\_\\ |_____| |_____| \n",
      "\n",
      "     Thanks for attending!\n",
      "     Thanks for attending!\n",
      "     Thanks for attending!\n",
      "     Thanks for attending!\n",
      "     Thanks for attending!\n"
     ]
    }
   ],
   "source": [
    "\n",
    "print(\"\\n\")\n",
    "print(\"  _   _   ____    _____   _\")\n",
    "print(\" | \\ | | |  _ \\  | ____| | |\")\n",
    "print(\" |  \\| | | |_) | |  _|   | |\")\n",
    "print(\" | |\\  | |  _ <  | |___  | |___\")\n",
    "print(\" |_| \\_| |_| \\_\\ |_____| |_____| \\n\")\n",
    "                                \n",
    "for i in range(0,5):\n",
    "   print(\"     Thanks for attending!\")\n"
   ]
  },
  {
   "cell_type": "markdown",
   "metadata": {
    "slideshow": {
     "slide_type": "slide"
    }
   },
   "source": [
    "\n",
    "## Happy Notebooking!\n"
   ]
  }
 ],
 "metadata": {
  "celltoolbar": "Slideshow",
  "kernelspec": {
   "display_name": "Jupyterenv (demo env)",
   "language": "python",
   "name": "jupyterenv"
  },
  "language_info": {
   "codemirror_mode": {
    "name": "ipython",
    "version": 3
   },
   "file_extension": ".py",
   "mimetype": "text/x-python",
   "name": "python",
   "nbconvert_exporter": "python",
   "pygments_lexer": "ipython3",
   "version": "3.8.8"
  }
 },
 "nbformat": 4,
 "nbformat_minor": 4
}
