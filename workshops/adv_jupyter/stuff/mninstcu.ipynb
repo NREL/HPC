{
 "cells": [
  {
   "cell_type": "markdown",
   "id": "55d02549",
   "metadata": {},
   "source": [
    "# slurm magics, Mnist using Tensorflow,horovod,mpi4py and cupy\n",
    "\n",
    "```\n",
    "We run the \"mnist\" example using a single and multiple GPUs.  Multigpu \n",
    "support is enabled by using Horovod and Mpi4py.\n",
    "\n",
    "Finally we take an image and blur it using the GPU running Fourier \n",
    "transforms from the cupy package.  We progressively increase the blurring.\n",
    "As the the bluring gets more intense we use the trained network to \n",
    "check if we still recognize the image.\n",
    "```\n",
    "\n",
    "## Load slurm commands\n"
   ]
  },
  {
   "cell_type": "code",
   "execution_count": 1,
   "id": "d3c7f7d9",
   "metadata": {},
   "outputs": [],
   "source": [
    "%load_ext slurm_magic"
   ]
  },
  {
   "cell_type": "markdown",
   "id": "91496bbf",
   "metadata": {},
   "source": [
    "## Run a parallel version of mnist\n",
    "```\n",
    "This will use both GPUs with each GPU getting two tasks.\n",
    "\n",
    "We send output to mnist.err and minst.out.  You can let\n",
    "the output come back \"here\" but it is a bit messy.\n",
    "\n",
    "Note we are running \"srun\" directly because it is a command\n",
    "enabled by loading slurm_magic.\n",
    "\n",
    "We can run this multiple times.  However, if we try to run\n",
    "it after running the inline example below it will hang because\n",
    "the inline run ties up the GPUs\n",
    "\n",
    "```\n",
    "\n",
    "#### Here is the output from nvidia-smi while this is running:\n",
    "```\n",
    "\n",
    "Thu Apr 22 09:57:00 2021       \n",
    "+-----------------------------------------------------------------------------+\n",
    "| NVIDIA-SMI 460.32.03    Driver Version: 460.32.03    CUDA Version: 11.2     |\n",
    "|-------------------------------+----------------------+----------------------+\n",
    "| GPU  Name        Persistence-M| Bus-Id        Disp.A | Volatile Uncorr. ECC |\n",
    "| Fan  Temp  Perf  Pwr:Usage/Cap|         Memory-Usage | GPU-Util  Compute M. |\n",
    "|                               |                      |               MIG M. |\n",
    "|===============================+======================+======================|\n",
    "|   0  Tesla V100-PCIE...  Off  | 00000000:37:00.0 Off |                    0 |\n",
    "| N/A   47C    P0    63W / 250W |   3754MiB / 16160MiB |     36%      Default |\n",
    "|                               |                      |                  N/A |\n",
    "+-------------------------------+----------------------+----------------------+\n",
    "|   1  Tesla V100-PCIE...  Off  | 00000000:86:00.0 Off |                    0 |\n",
    "| N/A   45C    P0    83W / 250W |   3754MiB / 16160MiB |     38%      Default |\n",
    "|                               |                      |                  N/A |\n",
    "+-------------------------------+----------------------+----------------------+\n",
    "                                                                               \n",
    "+-----------------------------------------------------------------------------+\n",
    "| Processes:                                                                  |\n",
    "|  GPU   GI   CI        PID   Type   Process name                  GPU Memory |\n",
    "|        ID   ID                                                   Usage      |\n",
    "|=============================================================================|\n",
    "|    0   N/A  N/A       997      C   python                           1875MiB |\n",
    "|    0   N/A  N/A       999      C   python                           1875MiB |\n",
    "|    1   N/A  N/A       998      C   python                           1875MiB |\n",
    "|    1   N/A  N/A      1000      C   python                           1875MiB |\n",
    "+-----------------------------------------------------------------------------+\n",
    "```\n"
   ]
  },
  {
   "cell_type": "code",
   "execution_count": 2,
   "id": "53d97d61",
   "metadata": {},
   "outputs": [
    {
     "data": {
      "text/plain": [
       "''"
      ]
     },
     "execution_count": 2,
     "metadata": {},
     "output_type": "execute_result"
    }
   ],
   "source": [
    "srun -n 4 -e mnist.err -o minst.out /home/tkaiser2/newdriver/tensorflow2_mnist.py"
   ]
  },
  {
   "cell_type": "code",
   "execution_count": 3,
   "id": "8766c685",
   "metadata": {},
   "outputs": [
    {
     "name": "stdout",
     "output_type": "stream",
     "text": [
      "2021-04-23 13:15:19.429012: I tensorflow/stream_executor/platform/default/dso_loader.cc:44] Successfully opened dynamic library libcuda.so.1\r\n",
      "2021-04-23 13:15:19.429346: I tensorflow/stream_executor/platform/default/dso_loader.cc:44] Successfully opened dynamic library libcuda.so.1\r\n",
      "2021-04-23 13:15:19.429343: I tensorflow/stream_executor/platform/default/dso_loader.cc:44] Successfully opened dynamic library libcuda.so.1\r\n",
      "2021-04-23 13:15:19.429347: I tensorflow/stream_executor/platform/default/dso_loader.cc:44] Successfully opened dynamic library libcuda.so.1\r\n",
      "2021-04-23 13:15:19.503545: I tensorflow/core/common_runtime/gpu/gpu_device.cc:1561] Found device 0 with properties: \r\n",
      "pciBusID: 0000:37:00.0 name: Tesla V100-PCIE-16GB computeCapability: 7.0\r\n",
      "coreClock: 1.38GHz coreCount: 80 deviceMemorySize: 15.78GiB deviceMemoryBandwidth: 836.37GiB/s\r\n",
      "2021-04-23 13:15:19.503885: I tensorflow/core/common_runtime/gpu/gpu_device.cc:1561] Found device 0 with properties: \r\n",
      "pciBusID: 0000:37:00.0 name: Tesla V100-PCIE-16GB computeCapability: 7.0\r\n",
      "coreClock: 1.38GHz coreCount: 80 deviceMemorySize: 15.78GiB deviceMemoryBandwidth: 836.37GiB/s\r\n",
      "2021-04-23 13:15:19.503901: I tensorflow/core/common_runtime/gpu/gpu_device.cc:1561] Found device 0 with properties: \r\n",
      "pciBusID: 0000:37:00.0 name: Tesla V100-PCIE-16GB computeCapability: 7.0\r\n",
      "coreClock: 1.38GHz coreCount: 80 deviceMemorySize: 15.78GiB deviceMemoryBandwidth: 836.37GiB/s\r\n",
      "2021-04-23 13:15:19.503922: I tensorflow/core/common_runtime/gpu/gpu_device.cc:1561] Found device 0 with properties: \r\n",
      "pciBusID: 0000:37:00.0 name: Tesla V100-PCIE-16GB computeCapability: 7.0\r\n",
      "coreClock: 1.38GHz coreCount: 80 deviceMemorySize: 15.78GiB deviceMemoryBandwidth: 836.37GiB/s\r\n",
      "2021-04-23 13:15:19.504792: I tensorflow/core/common_runtime/gpu/gpu_device.cc:1561] Found device 1 with properties: \r\n",
      "pciBusID: 0000:86:00.0 name: Tesla V100-PCIE-16GB computeCapability: 7.0\r\n",
      "coreClock: 1.38GHz coreCount: 80 deviceMemorySize: 15.78GiB deviceMemoryBandwidth: 836.37GiB/s\r\n",
      "2021-04-23 13:15:19.506042: I tensorflow/core/common_runtime/gpu/gpu_device.cc:1561] Found device 1 with properties: \r\n",
      "pciBusID: 0000:86:00.0 name: Tesla V100-PCIE-16GB computeCapability: 7.0\r\n",
      "coreClock: 1.38GHz coreCount: 80 deviceMemorySize: 15.78GiB deviceMemoryBandwidth: 836.37GiB/s\r\n",
      "2021-04-23 13:15:19.506062: I tensorflow/core/common_runtime/gpu/gpu_device.cc:1561] Found device 1 with properties: \r\n",
      "pciBusID: 0000:86:00.0 name: Tesla V100-PCIE-16GB computeCapability: 7.0\r\n",
      "coreClock: 1.38GHz coreCount: 80 deviceMemorySize: 15.78GiB deviceMemoryBandwidth: 836.37GiB/s\r\n",
      "2021-04-23 13:15:19.506079: I tensorflow/core/common_runtime/gpu/gpu_device.cc:1561] Found device 1 with properties: \r\n",
      "pciBusID: 0000:86:00.0 name: Tesla V100-PCIE-16GB computeCapability: 7.0\r\n",
      "coreClock: 1.38GHz coreCount: 80 deviceMemorySize: 15.78GiB deviceMemoryBandwidth: 836.37GiB/s\r\n",
      "2021-04-23 13:15:19.513589: I tensorflow/stream_executor/platform/default/dso_loader.cc:44] Successfully opened dynamic library libcudart.so.10.1\r\n",
      "2021-04-23 13:15:19.513638: I tensorflow/stream_executor/platform/default/dso_loader.cc:44] Successfully opened dynamic library libcudart.so.10.1\r\n",
      "2021-04-23 13:15:19.513728: I tensorflow/stream_executor/platform/default/dso_loader.cc:44] Successfully opened dynamic library libcudart.so.10.1\r\n",
      "2021-04-23 13:15:19.513721: I tensorflow/stream_executor/platform/default/dso_loader.cc:44] Successfully opened dynamic library libcudart.so.10.1\r\n",
      "2021-04-23 13:15:19.521889: I tensorflow/stream_executor/platform/default/dso_loader.cc:44] Successfully opened dynamic library libcublas.so.10\r\n",
      "2021-04-23 13:15:19.521888: I tensorflow/stream_executor/platform/default/dso_loader.cc:44] Successfully opened dynamic library libcublas.so.10\r\n",
      "2021-04-23 13:15:19.521890: I tensorflow/stream_executor/platform/default/dso_loader.cc:44] Successfully opened dynamic library libcublas.so.10\r\n",
      "2021-04-23 13:15:19.521892: I tensorflow/stream_executor/platform/default/dso_loader.cc:44] Successfully opened dynamic library libcublas.so.10\r\n",
      "2021-04-23 13:15:19.529905: I tensorflow/stream_executor/platform/default/dso_loader.cc:44] Successfully opened dynamic library libcufft.so.10\r\n",
      "2021-04-23 13:15:19.529905: I tensorflow/stream_executor/platform/default/dso_loader.cc:44] Successfully opened dynamic library libcufft.so.10\r\n",
      "2021-04-23 13:15:19.529895: I tensorflow/stream_executor/platform/default/dso_loader.cc:44] Successfully opened dynamic library libcufft.so.10\r\n",
      "2021-04-23 13:15:19.529908: I tensorflow/stream_executor/platform/default/dso_loader.cc:44] Successfully opened dynamic library libcufft.so.10\r\n",
      "2021-04-23 13:15:19.535598: I tensorflow/stream_executor/platform/default/dso_loader.cc:44] Successfully opened dynamic library libcurand.so.10\r\n",
      "2021-04-23 13:15:19.535629: I tensorflow/stream_executor/platform/default/dso_loader.cc:44] Successfully opened dynamic library libcurand.so.10\r\n",
      "2021-04-23 13:15:19.535978: I tensorflow/stream_executor/platform/default/dso_loader.cc:44] Successfully opened dynamic library libcurand.so.10\r\n",
      "2021-04-23 13:15:19.536043: I tensorflow/stream_executor/platform/default/dso_loader.cc:44] Successfully opened dynamic library libcurand.so.10\r\n",
      "2021-04-23 13:15:19.574154: I tensorflow/stream_executor/platform/default/dso_loader.cc:44] Successfully opened dynamic library libcusolver.so.10\r\n",
      "2021-04-23 13:15:19.576696: I tensorflow/stream_executor/platform/default/dso_loader.cc:44] Successfully opened dynamic library libcusolver.so.10\r\n",
      "2021-04-23 13:15:19.576765: I tensorflow/stream_executor/platform/default/dso_loader.cc:44] Successfully opened dynamic library libcusolver.so.10\r\n",
      "2021-04-23 13:15:19.577840: I tensorflow/stream_executor/platform/default/dso_loader.cc:44] Successfully opened dynamic library libcusolver.so.10\r\n",
      "2021-04-23 13:15:19.584241: I tensorflow/stream_executor/platform/default/dso_loader.cc:44] Successfully opened dynamic library libcusparse.so.10\r\n",
      "2021-04-23 13:15:19.584239: I tensorflow/stream_executor/platform/default/dso_loader.cc:44] Successfully opened dynamic library libcusparse.so.10\r\n",
      "2021-04-23 13:15:19.584238: I tensorflow/stream_executor/platform/default/dso_loader.cc:44] Successfully opened dynamic library libcusparse.so.10\r\n",
      "2021-04-23 13:15:19.584241: I tensorflow/stream_executor/platform/default/dso_loader.cc:44] Successfully opened dynamic library libcusparse.so.10\r\n",
      "2021-04-23 13:15:19.811793: I tensorflow/stream_executor/platform/default/dso_loader.cc:44] Successfully opened dynamic library libcudnn.so.7\r\n",
      "2021-04-23 13:15:19.811806: I tensorflow/stream_executor/platform/default/dso_loader.cc:44] Successfully opened dynamic library libcudnn.so.7\r\n",
      "2021-04-23 13:15:19.811806: I tensorflow/stream_executor/platform/default/dso_loader.cc:44] Successfully opened dynamic library libcudnn.so.7\r\n",
      "2021-04-23 13:15:19.813085: I tensorflow/stream_executor/platform/default/dso_loader.cc:44] Successfully opened dynamic library libcudnn.so.7\r\n",
      "2021-04-23 13:15:19.820419: I tensorflow/core/common_runtime/gpu/gpu_device.cc:1703] Adding visible gpu devices: 0, 1\r\n",
      "2021-04-23 13:15:19.820685: I tensorflow/core/common_runtime/gpu/gpu_device.cc:1703] Adding visible gpu devices: 0, 1\r\n",
      "2021-04-23 13:15:19.820707: I tensorflow/core/common_runtime/gpu/gpu_device.cc:1703] Adding visible gpu devices: 0, 1\r\n",
      "2021-04-23 13:15:19.821094: I tensorflow/core/common_runtime/gpu/gpu_device.cc:1703] Adding visible gpu devices: 0, 1\r\n",
      "2021-04-23 13:15:20.251601: I tensorflow/core/platform/cpu_feature_guard.cc:143] Your CPU supports instructions that this TensorFlow binary was not compiled to use: AVX2 AVX512F FMA\r\n",
      "2021-04-23 13:15:20.251654: I tensorflow/core/platform/cpu_feature_guard.cc:143] Your CPU supports instructions that this TensorFlow binary was not compiled to use: AVX2 AVX512F FMA\r\n",
      "2021-04-23 13:15:20.258964: I tensorflow/core/platform/cpu_feature_guard.cc:143] Your CPU supports instructions that this TensorFlow binary was not compiled to use: AVX2 AVX512F FMA\r\n",
      "2021-04-23 13:15:20.260595: I tensorflow/core/platform/profile_utils/cpu_utils.cc:102] CPU Frequency: 3000000000 Hz\r\n",
      "2021-04-23 13:15:20.260840: I tensorflow/core/platform/profile_utils/cpu_utils.cc:102] CPU Frequency: 3000000000 Hz\r\n",
      "2021-04-23 13:15:20.262516: I tensorflow/compiler/xla/service/service.cc:168] XLA service 0x55bfdc948510 initialized for platform Host (this does not guarantee that XLA will be used). Devices:\r\n",
      "2021-04-23 13:15:20.262540: I tensorflow/compiler/xla/service/service.cc:176]   StreamExecutor device (0): Host, Default Version\r\n",
      "2021-04-23 13:15:20.263105: I tensorflow/compiler/xla/service/service.cc:168] XLA service 0x55e254db7850 initialized for platform Host (this does not guarantee that XLA will be used). Devices:\r\n",
      "2021-04-23 13:15:20.263137: I tensorflow/compiler/xla/service/service.cc:176]   StreamExecutor device (0): Host, Default Version\r\n",
      "2021-04-23 13:15:20.266658: I tensorflow/core/platform/profile_utils/cpu_utils.cc:102] CPU Frequency: 3000000000 Hz\r\n",
      "2021-04-23 13:15:20.268864: I tensorflow/compiler/xla/service/service.cc:168] XLA service 0x556224605710 initialized for platform Host (this does not guarantee that XLA will be used). Devices:\r\n",
      "2021-04-23 13:15:20.268884: I tensorflow/compiler/xla/service/service.cc:176]   StreamExecutor device (0): Host, Default Version\r\n",
      "2021-04-23 13:15:20.286060: I tensorflow/core/platform/cpu_feature_guard.cc:143] Your CPU supports instructions that this TensorFlow binary was not compiled to use: AVX2 AVX512F FMA\r\n",
      "2021-04-23 13:15:20.294324: I tensorflow/core/platform/profile_utils/cpu_utils.cc:102] CPU Frequency: 3000000000 Hz\r\n",
      "2021-04-23 13:15:20.296411: I tensorflow/compiler/xla/service/service.cc:168] XLA service 0x562554d04580 initialized for platform Host (this does not guarantee that XLA will be used). Devices:\r\n",
      "2021-04-23 13:15:20.296431: I tensorflow/compiler/xla/service/service.cc:176]   StreamExecutor device (0): Host, Default Version\r\n",
      "2021-04-23 13:15:20.580346: I tensorflow/compiler/xla/service/service.cc:168] XLA service 0x55bfdc9b27e0 initialized for platform CUDA (this does not guarantee that XLA will be used). Devices:\r\n",
      "2021-04-23 13:15:20.580391: I tensorflow/compiler/xla/service/service.cc:176]   StreamExecutor device (0): Tesla V100-PCIE-16GB, Compute Capability 7.0\r\n",
      "2021-04-23 13:15:20.581956: I tensorflow/core/common_runtime/gpu/gpu_device.cc:1561] Found device 0 with properties: \r\n",
      "pciBusID: 0000:37:00.0 name: Tesla V100-PCIE-16GB computeCapability: 7.0\r\n",
      "coreClock: 1.38GHz coreCount: 80 deviceMemorySize: 15.78GiB deviceMemoryBandwidth: 836.37GiB/s\r\n",
      "2021-04-23 13:15:20.582013: I tensorflow/stream_executor/platform/default/dso_loader.cc:44] Successfully opened dynamic library libcudart.so.10.1\r\n",
      "2021-04-23 13:15:20.582025: I tensorflow/stream_executor/platform/default/dso_loader.cc:44] Successfully opened dynamic library libcublas.so.10\r\n",
      "2021-04-23 13:15:20.582035: I tensorflow/stream_executor/platform/default/dso_loader.cc:44] Successfully opened dynamic library libcufft.so.10\r\n",
      "2021-04-23 13:15:20.582044: I tensorflow/stream_executor/platform/default/dso_loader.cc:44] Successfully opened dynamic library libcurand.so.10\r\n",
      "2021-04-23 13:15:20.582054: I tensorflow/stream_executor/platform/default/dso_loader.cc:44] Successfully opened dynamic library libcusolver.so.10\r\n",
      "2021-04-23 13:15:20.582063: I tensorflow/stream_executor/platform/default/dso_loader.cc:44] Successfully opened dynamic library libcusparse.so.10\r\n",
      "2021-04-23 13:15:20.582073: I tensorflow/stream_executor/platform/default/dso_loader.cc:44] Successfully opened dynamic library libcudnn.so.7\r\n",
      "2021-04-23 13:15:20.583496: I tensorflow/core/common_runtime/gpu/gpu_device.cc:1703] Adding visible gpu devices: 0\r\n",
      "2021-04-23 13:15:20.583533: I tensorflow/stream_executor/platform/default/dso_loader.cc:44] Successfully opened dynamic library libcudart.so.10.1\r\n",
      "2021-04-23 13:15:20.584016: I tensorflow/compiler/xla/service/service.cc:168] XLA service 0x55e254e21ae0 initialized for platform CUDA (this does not guarantee that XLA will be used). Devices:\r\n",
      "2021-04-23 13:15:20.584056: I tensorflow/compiler/xla/service/service.cc:176]   StreamExecutor device (0): Tesla V100-PCIE-16GB, Compute Capability 7.0\r\n",
      "2021-04-23 13:15:20.587113: I tensorflow/core/common_runtime/gpu/gpu_device.cc:1561] Found device 0 with properties: \r\n",
      "pciBusID: 0000:37:00.0 name: Tesla V100-PCIE-16GB computeCapability: 7.0\r\n",
      "coreClock: 1.38GHz coreCount: 80 deviceMemorySize: 15.78GiB deviceMemoryBandwidth: 836.37GiB/s\r\n",
      "2021-04-23 13:15:20.587177: I tensorflow/stream_executor/platform/default/dso_loader.cc:44] Successfully opened dynamic library libcudart.so.10.1\r\n",
      "2021-04-23 13:15:20.587188: I tensorflow/stream_executor/platform/default/dso_loader.cc:44] Successfully opened dynamic library libcublas.so.10\r\n",
      "2021-04-23 13:15:20.587197: I tensorflow/stream_executor/platform/default/dso_loader.cc:44] Successfully opened dynamic library libcufft.so.10\r\n",
      "2021-04-23 13:15:20.587207: I tensorflow/stream_executor/platform/default/dso_loader.cc:44] Successfully opened dynamic library libcurand.so.10\r\n",
      "2021-04-23 13:15:20.587221: I tensorflow/stream_executor/platform/default/dso_loader.cc:44] Successfully opened dynamic library libcusolver.so.10\r\n",
      "2021-04-23 13:15:20.587231: I tensorflow/stream_executor/platform/default/dso_loader.cc:44] Successfully opened dynamic library libcusparse.so.10\r\n",
      "2021-04-23 13:15:20.587241: I tensorflow/stream_executor/platform/default/dso_loader.cc:44] Successfully opened dynamic library libcudnn.so.7\r\n",
      "2021-04-23 13:15:20.588520: I tensorflow/core/common_runtime/gpu/gpu_device.cc:1102] Device interconnect StreamExecutor with strength 1 edge matrix:\r\n",
      "2021-04-23 13:15:20.588544: I tensorflow/core/common_runtime/gpu/gpu_device.cc:1108]      0 \r\n",
      "2021-04-23 13:15:20.588554: I tensorflow/core/common_runtime/gpu/gpu_device.cc:1121] 0:   N \r\n",
      "2021-04-23 13:15:20.590279: I tensorflow/compiler/xla/service/service.cc:168] XLA service 0x562554d6e830 initialized for platform CUDA (this does not guarantee that XLA will be used). Devices:\r\n",
      "2021-04-23 13:15:20.590301: I tensorflow/compiler/xla/service/service.cc:176]   StreamExecutor device (0): Tesla V100-PCIE-16GB, Compute Capability 7.0\r\n",
      "2021-04-23 13:15:20.590601: I tensorflow/core/common_runtime/gpu/gpu_device.cc:1703] Adding visible gpu devices: 0\r\n",
      "2021-04-23 13:15:20.590636: I tensorflow/stream_executor/platform/default/dso_loader.cc:44] Successfully opened dynamic library libcudart.so.10.1\r\n",
      "2021-04-23 13:15:20.591860: I tensorflow/core/common_runtime/gpu/gpu_device.cc:1561] Found device 0 with properties: \r\n",
      "pciBusID: 0000:86:00.0 name: Tesla V100-PCIE-16GB computeCapability: 7.0\r\n",
      "coreClock: 1.38GHz coreCount: 80 deviceMemorySize: 15.78GiB deviceMemoryBandwidth: 836.37GiB/s\r\n",
      "2021-04-23 13:15:20.591905: I tensorflow/stream_executor/platform/default/dso_loader.cc:44] Successfully opened dynamic library libcudart.so.10.1\r\n",
      "2021-04-23 13:15:20.591917: I tensorflow/stream_executor/platform/default/dso_loader.cc:44] Successfully opened dynamic library libcublas.so.10\r\n",
      "2021-04-23 13:15:20.591925: I tensorflow/stream_executor/platform/default/dso_loader.cc:44] Successfully opened dynamic library libcufft.so.10\r\n",
      "2021-04-23 13:15:20.591934: I tensorflow/stream_executor/platform/default/dso_loader.cc:44] Successfully opened dynamic library libcurand.so.10\r\n",
      "2021-04-23 13:15:20.591943: I tensorflow/stream_executor/platform/default/dso_loader.cc:44] Successfully opened dynamic library libcusolver.so.10\r\n",
      "2021-04-23 13:15:20.591952: I tensorflow/stream_executor/platform/default/dso_loader.cc:44] Successfully opened dynamic library libcusparse.so.10\r\n",
      "2021-04-23 13:15:20.591961: I tensorflow/stream_executor/platform/default/dso_loader.cc:44] Successfully opened dynamic library libcudnn.so.7\r\n",
      "2021-04-23 13:15:20.593158: I tensorflow/core/common_runtime/gpu/gpu_device.cc:1247] Created TensorFlow device (/job:localhost/replica:0/task:0/device:GPU:0 with 14605 MB memory) -> physical GPU (device: 0, name: Tesla V100-PCIE-16GB, pci bus id: 0000:37:00.0, compute capability: 7.0)\r\n",
      "2021-04-23 13:15:20.593188: I tensorflow/compiler/xla/service/service.cc:168] XLA service 0x55622466f9d0 initialized for platform CUDA (this does not guarantee that XLA will be used). Devices:\r\n",
      "2021-04-23 13:15:20.593213: I tensorflow/compiler/xla/service/service.cc:176]   StreamExecutor device (0): Tesla V100-PCIE-16GB, Compute Capability 7.0\r\n",
      "2021-04-23 13:15:20.595025: I tensorflow/core/common_runtime/gpu/gpu_device.cc:1561] Found device 0 with properties: \r\n",
      "pciBusID: 0000:86:00.0 name: Tesla V100-PCIE-16GB computeCapability: 7.0\r\n",
      "coreClock: 1.38GHz coreCount: 80 deviceMemorySize: 15.78GiB deviceMemoryBandwidth: 836.37GiB/s\r\n",
      "2021-04-23 13:15:20.595066: I tensorflow/stream_executor/platform/default/dso_loader.cc:44] Successfully opened dynamic library libcudart.so.10.1\r\n",
      "2021-04-23 13:15:20.595078: I tensorflow/stream_executor/platform/default/dso_loader.cc:44] Successfully opened dynamic library libcublas.so.10\r\n",
      "2021-04-23 13:15:20.595087: I tensorflow/stream_executor/platform/default/dso_loader.cc:44] Successfully opened dynamic library libcufft.so.10\r\n",
      "2021-04-23 13:15:20.595096: I tensorflow/stream_executor/platform/default/dso_loader.cc:44] Successfully opened dynamic library libcurand.so.10\r\n",
      "2021-04-23 13:15:20.595105: I tensorflow/stream_executor/platform/default/dso_loader.cc:44] Successfully opened dynamic library libcusolver.so.10\r\n",
      "2021-04-23 13:15:20.595113: I tensorflow/stream_executor/platform/default/dso_loader.cc:44] Successfully opened dynamic library libcusparse.so.10\r\n",
      "2021-04-23 13:15:20.595122: I tensorflow/stream_executor/platform/default/dso_loader.cc:44] Successfully opened dynamic library libcudnn.so.7\r\n",
      "2021-04-23 13:15:20.596566: I tensorflow/core/common_runtime/gpu/gpu_device.cc:1102] Device interconnect StreamExecutor with strength 1 edge matrix:\r\n",
      "2021-04-23 13:15:20.596586: I tensorflow/core/common_runtime/gpu/gpu_device.cc:1108]      0 \r\n",
      "2021-04-23 13:15:20.596594: I tensorflow/core/common_runtime/gpu/gpu_device.cc:1121] 0:   N \r\n",
      "2021-04-23 13:15:20.596787: I tensorflow/core/common_runtime/gpu/gpu_device.cc:1703] Adding visible gpu devices: 1\r\n",
      "2021-04-23 13:15:20.596840: I tensorflow/stream_executor/platform/default/dso_loader.cc:44] Successfully opened dynamic library libcudart.so.10.1\r\n",
      "2021-04-23 13:15:20.599154: I tensorflow/core/common_runtime/gpu/gpu_device.cc:1703] Adding visible gpu devices: 1\r\n",
      "2021-04-23 13:15:20.599188: I tensorflow/stream_executor/platform/default/dso_loader.cc:44] Successfully opened dynamic library libcudart.so.10.1\r\n",
      "2021-04-23 13:15:20.600401: I tensorflow/core/common_runtime/gpu/gpu_device.cc:1247] Created TensorFlow device (/job:localhost/replica:0/task:0/device:GPU:0 with 14604 MB memory) -> physical GPU (device: 0, name: Tesla V100-PCIE-16GB, pci bus id: 0000:37:00.0, compute capability: 7.0)\r\n",
      "2021-04-23 13:15:20.600951: I tensorflow/core/common_runtime/gpu/gpu_device.cc:1102] Device interconnect StreamExecutor with strength 1 edge matrix:\r\n",
      "2021-04-23 13:15:20.600966: I tensorflow/core/common_runtime/gpu/gpu_device.cc:1108]      1 \r\n",
      "2021-04-23 13:15:20.600973: I tensorflow/core/common_runtime/gpu/gpu_device.cc:1121] 1:   N \r\n",
      "2021-04-23 13:15:20.602294: I tensorflow/core/common_runtime/gpu/gpu_device.cc:1102] Device interconnect StreamExecutor with strength 1 edge matrix:\r\n",
      "2021-04-23 13:15:20.602311: I tensorflow/core/common_runtime/gpu/gpu_device.cc:1108]      1 \r\n",
      "2021-04-23 13:15:20.602319: I tensorflow/core/common_runtime/gpu/gpu_device.cc:1121] 1:   N \r\n",
      "2021-04-23 13:15:20.603067: I tensorflow/core/common_runtime/gpu/gpu_device.cc:1247] Created TensorFlow device (/job:localhost/replica:0/task:0/device:GPU:0 with 14605 MB memory) -> physical GPU (device: 1, name: Tesla V100-PCIE-16GB, pci bus id: 0000:86:00.0, compute capability: 7.0)\r\n",
      "2021-04-23 13:15:20.604946: I tensorflow/core/common_runtime/gpu/gpu_device.cc:1247] Created TensorFlow device (/job:localhost/replica:0/task:0/device:GPU:0 with 14605 MB memory) -> physical GPU (device: 1, name: Tesla V100-PCIE-16GB, pci bus id: 0000:86:00.0, compute capability: 7.0)\r\n",
      "2021-04-23 13:15:24.098348: I tensorflow/stream_executor/platform/default/dso_loader.cc:44] Successfully opened dynamic library libcublas.so.10\r\n",
      "2021-04-23 13:15:24.100909: I tensorflow/stream_executor/platform/default/dso_loader.cc:44] Successfully opened dynamic library libcublas.so.10\r\n",
      "2021-04-23 13:15:24.108882: I tensorflow/stream_executor/platform/default/dso_loader.cc:44] Successfully opened dynamic library libcublas.so.10\r\n",
      "2021-04-23 13:15:24.115923: I tensorflow/stream_executor/platform/default/dso_loader.cc:44] Successfully opened dynamic library libcublas.so.10\r\n",
      "2021-04-23 13:15:24.264560: I tensorflow/stream_executor/platform/default/dso_loader.cc:44] Successfully opened dynamic library libcudnn.so.7\r\n",
      "2021-04-23 13:15:24.273431: I tensorflow/stream_executor/platform/default/dso_loader.cc:44] Successfully opened dynamic library libcudnn.so.7\r\n",
      "2021-04-23 13:15:24.278721: I tensorflow/stream_executor/platform/default/dso_loader.cc:44] Successfully opened dynamic library libcudnn.so.7\r\n",
      "2021-04-23 13:15:24.280668: I tensorflow/stream_executor/platform/default/dso_loader.cc:44] Successfully opened dynamic library libcudnn.so.7\r\n"
     ]
    }
   ],
   "source": [
    "cat mnist.err"
   ]
  },
  {
   "cell_type": "code",
   "execution_count": 4,
   "id": "189de10c",
   "metadata": {},
   "outputs": [
    {
     "name": "stdout",
     "output_type": "stream",
     "text": [
      "1619205317.340108 Fri Apr 23 13:15:17 2021      0.000      0.000 start\r\n",
      "hello from  1  of  4\r\n",
      "gpus  [PhysicalDevice(name='/physical_device:GPU:0', device_type='GPU'), PhysicalDevice(name='/physical_device:GPU:1', device_type='GPU')]  on  r104u33 mpi task  1  of  4\r\n",
      "1619205319.821191 Fri Apr 23 13:15:19 2021      2.481      2.481 [PhysicalDevice(name='/physical_device:GPU:0', device_type='GPU'), PhysicalDevice(name='/physical_device:GPU:1', device_type='GPU')]\r\n",
      "hvd.local_rank() 1\r\n",
      "gpu=  1 PhysicalDevice(name='/physical_device:GPU:0', device_type='GPU')\r\n",
      "gpu=  2 PhysicalDevice(name='/physical_device:GPU:1', device_type='GPU')\r\n",
      "gpus detected:  2\r\n",
      "1619205363.503278 Fri Apr 23 13:16:03 2021     46.163     43.682 done\r\n",
      "1619205317.340106 Fri Apr 23 13:15:17 2021      0.000      0.000 start\r\n",
      "hello from  2  of  4\r\n",
      "gpus  [PhysicalDevice(name='/physical_device:GPU:0', device_type='GPU'), PhysicalDevice(name='/physical_device:GPU:1', device_type='GPU')]  on  r104u33 mpi task  2  of  4\r\n",
      "1619205319.820843 Fri Apr 23 13:15:19 2021      2.481      2.481 [PhysicalDevice(name='/physical_device:GPU:0', device_type='GPU'), PhysicalDevice(name='/physical_device:GPU:1', device_type='GPU')]\r\n",
      "hvd.local_rank() 2\r\n",
      "gpu=  1 PhysicalDevice(name='/physical_device:GPU:0', device_type='GPU')\r\n",
      "gpu=  2 PhysicalDevice(name='/physical_device:GPU:1', device_type='GPU')\r\n",
      "gpus detected:  2\r\n",
      "1619205363.503587 Fri Apr 23 13:16:03 2021     46.163     43.683 done\r\n",
      "1619205317.340106 Fri Apr 23 13:15:17 2021      0.000      0.000 start\r\n",
      "hello from  3  of  4\r\n",
      "gpus  [PhysicalDevice(name='/physical_device:GPU:0', device_type='GPU'), PhysicalDevice(name='/physical_device:GPU:1', device_type='GPU')]  on  r104u33 mpi task  3  of  4\r\n",
      "1619205319.820557 Fri Apr 23 13:15:19 2021      2.480      2.480 [PhysicalDevice(name='/physical_device:GPU:0', device_type='GPU'), PhysicalDevice(name='/physical_device:GPU:1', device_type='GPU')]\r\n",
      "hvd.local_rank() 3\r\n",
      "gpu=  1 PhysicalDevice(name='/physical_device:GPU:0', device_type='GPU')\r\n",
      "gpu=  2 PhysicalDevice(name='/physical_device:GPU:1', device_type='GPU')\r\n",
      "gpus detected:  2\r\n",
      "1619205363.506162 Fri Apr 23 13:16:03 2021     46.166     43.686 done\r\n",
      "1619205317.340096 Fri Apr 23 13:15:17 2021      0.000      0.000 start\r\n",
      "hello from  0  of  4\r\n",
      "gpus  [PhysicalDevice(name='/physical_device:GPU:0', device_type='GPU'), PhysicalDevice(name='/physical_device:GPU:1', device_type='GPU')]  on  r104u33 mpi task  0  of  4\r\n",
      "1619205319.820822 Fri Apr 23 13:15:19 2021      2.481      2.481 [PhysicalDevice(name='/physical_device:GPU:0', device_type='GPU'), PhysicalDevice(name='/physical_device:GPU:1', device_type='GPU')]\r\n",
      "hvd.local_rank() 0\r\n",
      "gpu=  1 PhysicalDevice(name='/physical_device:GPU:0', device_type='GPU')\r\n",
      "gpu=  2 PhysicalDevice(name='/physical_device:GPU:1', device_type='GPU')\r\n",
      "gpus detected:  2\r\n",
      "Step #0\tLoss: 2.312591\r\n",
      "Step #10\tLoss: 0.631896\r\n",
      "Step #20\tLoss: 0.398126\r\n",
      "Step #30\tLoss: 0.192657\r\n",
      "Step #40\tLoss: 0.265702\r\n",
      "Step #50\tLoss: 0.239651\r\n",
      "Step #60\tLoss: 0.148873\r\n",
      "Step #70\tLoss: 0.338296\r\n",
      "Step #80\tLoss: 0.115954\r\n",
      "Step #90\tLoss: 0.198801\r\n",
      "Step #100\tLoss: 0.057008\r\n",
      "Step #110\tLoss: 0.104730\r\n",
      "Step #120\tLoss: 0.132058\r\n",
      "Step #130\tLoss: 0.253037\r\n",
      "Step #140\tLoss: 0.073930\r\n",
      "Step #150\tLoss: 0.043975\r\n",
      "Step #160\tLoss: 0.125685\r\n",
      "Step #170\tLoss: 0.077315\r\n",
      "Step #180\tLoss: 0.043275\r\n",
      "Step #190\tLoss: 0.081952\r\n",
      "Step #200\tLoss: 0.225931\r\n",
      "Step #210\tLoss: 0.067216\r\n",
      "Step #220\tLoss: 0.166252\r\n",
      "Step #230\tLoss: 0.052083\r\n",
      "Step #240\tLoss: 0.035706\r\n",
      "Step #250\tLoss: 0.034024\r\n",
      "Step #260\tLoss: 0.073770\r\n",
      "Step #270\tLoss: 0.132993\r\n",
      "Step #280\tLoss: 0.096154\r\n",
      "Step #290\tLoss: 0.065598\r\n",
      "Step #300\tLoss: 0.143712\r\n",
      "Step #310\tLoss: 0.095060\r\n",
      "Step #320\tLoss: 0.062011\r\n",
      "Step #330\tLoss: 0.027954\r\n",
      "Step #340\tLoss: 0.040182\r\n",
      "Step #350\tLoss: 0.065472\r\n",
      "Step #360\tLoss: 0.070246\r\n",
      "Step #370\tLoss: 0.041243\r\n",
      "Step #380\tLoss: 0.151022\r\n",
      "Step #390\tLoss: 0.027147\r\n",
      "Step #400\tLoss: 0.073244\r\n",
      "Step #410\tLoss: 0.046126\r\n",
      "Step #420\tLoss: 0.084201\r\n",
      "Step #430\tLoss: 0.017243\r\n",
      "Step #440\tLoss: 0.062900\r\n",
      "Step #450\tLoss: 0.023607\r\n",
      "Step #460\tLoss: 0.028844\r\n",
      "Step #470\tLoss: 0.025886\r\n",
      "Step #480\tLoss: 0.007057\r\n",
      "Step #490\tLoss: 0.032724\r\n",
      "Step #500\tLoss: 0.052073\r\n",
      "Step #510\tLoss: 0.070730\r\n",
      "Step #520\tLoss: 0.028519\r\n",
      "Step #530\tLoss: 0.054975\r\n",
      "Step #540\tLoss: 0.037307\r\n",
      "Step #550\tLoss: 0.020414\r\n",
      "Step #560\tLoss: 0.030658\r\n",
      "Step #570\tLoss: 0.062436\r\n",
      "Step #580\tLoss: 0.007644\r\n",
      "Step #590\tLoss: 0.012863\r\n",
      "Step #600\tLoss: 0.144368\r\n",
      "Step #610\tLoss: 0.044123\r\n",
      "Step #620\tLoss: 0.100712\r\n",
      "Step #630\tLoss: 0.027542\r\n",
      "Step #640\tLoss: 0.011588\r\n",
      "Step #650\tLoss: 0.012648\r\n",
      "Step #660\tLoss: 0.011745\r\n",
      "Step #670\tLoss: 0.056633\r\n",
      "Step #680\tLoss: 0.049471\r\n",
      "Step #690\tLoss: 0.003340\r\n",
      "Step #700\tLoss: 0.056999\r\n",
      "Step #710\tLoss: 0.030744\r\n",
      "Step #720\tLoss: 0.073926\r\n",
      "Step #730\tLoss: 0.034915\r\n",
      "Step #740\tLoss: 0.013706\r\n",
      "Step #750\tLoss: 0.057191\r\n",
      "Step #760\tLoss: 0.055308\r\n",
      "Step #770\tLoss: 0.070972\r\n",
      "Step #780\tLoss: 0.018967\r\n",
      "Step #790\tLoss: 0.065906\r\n",
      "Step #800\tLoss: 0.026873\r\n",
      "Step #810\tLoss: 0.026136\r\n",
      "Step #820\tLoss: 0.015444\r\n",
      "Step #830\tLoss: 0.017996\r\n",
      "Step #840\tLoss: 0.038228\r\n",
      "Step #850\tLoss: 0.034923\r\n",
      "Step #860\tLoss: 0.023450\r\n",
      "Step #870\tLoss: 0.012746\r\n",
      "Step #880\tLoss: 0.019181\r\n",
      "Step #890\tLoss: 0.014528\r\n",
      "Step #900\tLoss: 0.056469\r\n",
      "Step #910\tLoss: 0.025526\r\n",
      "Step #920\tLoss: 0.015578\r\n",
      "Step #930\tLoss: 0.010704\r\n",
      "Step #940\tLoss: 0.098806\r\n",
      "Step #950\tLoss: 0.046375\r\n",
      "Step #960\tLoss: 0.014831\r\n",
      "Step #970\tLoss: 0.049470\r\n",
      "Step #980\tLoss: 0.032377\r\n",
      "Step #990\tLoss: 0.085765\r\n",
      "Step #1000\tLoss: 0.010428\r\n",
      "Step #1010\tLoss: 0.006878\r\n",
      "Step #1020\tLoss: 0.010667\r\n",
      "Step #1030\tLoss: 0.008657\r\n",
      "Step #1040\tLoss: 0.019841\r\n",
      "Step #1050\tLoss: 0.003201\r\n",
      "Step #1060\tLoss: 0.071903\r\n",
      "Step #1070\tLoss: 0.018954\r\n",
      "Step #1080\tLoss: 0.004126\r\n",
      "Step #1090\tLoss: 0.003144\r\n",
      "Step #1100\tLoss: 0.004045\r\n",
      "Step #1110\tLoss: 0.027407\r\n",
      "Step #1120\tLoss: 0.034604\r\n",
      "Step #1130\tLoss: 0.023003\r\n",
      "Step #1140\tLoss: 0.057976\r\n",
      "Step #1150\tLoss: 0.022025\r\n",
      "Step #1160\tLoss: 0.003682\r\n",
      "Step #1170\tLoss: 0.021425\r\n",
      "Step #1180\tLoss: 0.029380\r\n",
      "Step #1190\tLoss: 0.031577\r\n",
      "Step #1200\tLoss: 0.061022\r\n",
      "Step #1210\tLoss: 0.005572\r\n",
      "Step #1220\tLoss: 0.008355\r\n",
      "Step #1230\tLoss: 0.042957\r\n",
      "Step #1240\tLoss: 0.013246\r\n",
      "Step #1250\tLoss: 0.073694\r\n",
      "Step #1260\tLoss: 0.021666\r\n",
      "Step #1270\tLoss: 0.025513\r\n",
      "Step #1280\tLoss: 0.052394\r\n",
      "Step #1290\tLoss: 0.002059\r\n",
      "Step #1300\tLoss: 0.040695\r\n",
      "Step #1310\tLoss: 0.019550\r\n",
      "Step #1320\tLoss: 0.060349\r\n",
      "Step #1330\tLoss: 0.025049\r\n",
      "Step #1340\tLoss: 0.003101\r\n",
      "Step #1350\tLoss: 0.016582\r\n",
      "Step #1360\tLoss: 0.005316\r\n",
      "Step #1370\tLoss: 0.004419\r\n",
      "Step #1380\tLoss: 0.003536\r\n",
      "Step #1390\tLoss: 0.022216\r\n",
      "Step #1400\tLoss: 0.037477\r\n",
      "Step #1410\tLoss: 0.008659\r\n",
      "Step #1420\tLoss: 0.039184\r\n",
      "Step #1430\tLoss: 0.059281\r\n",
      "Step #1440\tLoss: 0.009518\r\n",
      "Step #1450\tLoss: 0.062530\r\n",
      "Step #1460\tLoss: 0.031430\r\n",
      "Step #1470\tLoss: 0.018100\r\n",
      "Step #1480\tLoss: 0.022252\r\n",
      "Step #1490\tLoss: 0.015897\r\n",
      "Step #1500\tLoss: 0.019654\r\n",
      "Step #1510\tLoss: 0.047503\r\n",
      "Step #1520\tLoss: 0.026576\r\n",
      "Step #1530\tLoss: 0.018670\r\n",
      "Step #1540\tLoss: 0.001224\r\n",
      "Step #1550\tLoss: 0.018659\r\n",
      "Step #1560\tLoss: 0.007011\r\n",
      "Step #1570\tLoss: 0.017619\r\n",
      "Step #1580\tLoss: 0.008796\r\n",
      "Step #1590\tLoss: 0.024480\r\n",
      "Step #1600\tLoss: 0.019805\r\n",
      "Step #1610\tLoss: 0.066587\r\n",
      "Step #1620\tLoss: 0.003888\r\n",
      "Step #1630\tLoss: 0.005162\r\n",
      "Step #1640\tLoss: 0.011990\r\n",
      "Step #1650\tLoss: 0.023899\r\n",
      "Step #1660\tLoss: 0.031953\r\n",
      "Step #1670\tLoss: 0.008827\r\n",
      "Step #1680\tLoss: 0.007387\r\n",
      "Step #1690\tLoss: 0.039383\r\n",
      "Step #1700\tLoss: 0.008253\r\n",
      "Step #1710\tLoss: 0.011291\r\n",
      "Step #1720\tLoss: 0.040306\r\n",
      "Step #1730\tLoss: 0.036211\r\n",
      "Step #1740\tLoss: 0.013080\r\n",
      "Step #1750\tLoss: 0.017824\r\n",
      "Step #1760\tLoss: 0.000415\r\n",
      "Step #1770\tLoss: 0.040679\r\n",
      "Step #1780\tLoss: 0.024047\r\n",
      "Step #1790\tLoss: 0.030631\r\n",
      "Step #1800\tLoss: 0.009832\r\n",
      "Step #1810\tLoss: 0.024302\r\n",
      "Step #1820\tLoss: 0.010101\r\n",
      "Step #1830\tLoss: 0.053920\r\n",
      "Step #1840\tLoss: 0.051595\r\n",
      "Step #1850\tLoss: 0.021646\r\n",
      "Step #1860\tLoss: 0.071587\r\n",
      "Step #1870\tLoss: 0.003062\r\n",
      "Step #1880\tLoss: 0.036824\r\n",
      "Step #1890\tLoss: 0.057927\r\n",
      "Step #1900\tLoss: 0.011330\r\n",
      "Step #1910\tLoss: 0.051689\r\n",
      "Step #1920\tLoss: 0.042177\r\n",
      "Step #1930\tLoss: 0.024058\r\n",
      "Step #1940\tLoss: 0.004489\r\n",
      "Step #1950\tLoss: 0.005071\r\n",
      "Step #1960\tLoss: 0.024697\r\n",
      "Step #1970\tLoss: 0.017977\r\n",
      "Step #1980\tLoss: 0.007591\r\n",
      "Step #1990\tLoss: 0.007804\r\n",
      "Step #2000\tLoss: 0.038395\r\n",
      "Step #2010\tLoss: 0.005720\r\n",
      "Step #2020\tLoss: 0.030267\r\n",
      "Step #2030\tLoss: 0.006560\r\n",
      "Step #2040\tLoss: 0.002706\r\n",
      "Step #2050\tLoss: 0.029974\r\n",
      "Step #2060\tLoss: 0.026893\r\n",
      "Step #2070\tLoss: 0.019223\r\n",
      "Step #2080\tLoss: 0.004505\r\n",
      "Step #2090\tLoss: 0.002489\r\n",
      "Step #2100\tLoss: 0.009575\r\n",
      "Step #2110\tLoss: 0.070672\r\n",
      "Step #2120\tLoss: 0.011416\r\n",
      "Step #2130\tLoss: 0.001797\r\n",
      "Step #2140\tLoss: 0.026124\r\n",
      "Step #2150\tLoss: 0.009765\r\n",
      "Step #2160\tLoss: 0.058942\r\n",
      "Step #2170\tLoss: 0.023971\r\n",
      "Step #2180\tLoss: 0.001480\r\n",
      "Step #2190\tLoss: 0.002538\r\n",
      "Step #2200\tLoss: 0.019405\r\n",
      "Step #2210\tLoss: 0.004363\r\n",
      "Step #2220\tLoss: 0.002884\r\n",
      "Step #2230\tLoss: 0.020519\r\n",
      "Step #2240\tLoss: 0.022560\r\n",
      "Step #2250\tLoss: 0.009748\r\n",
      "Step #2260\tLoss: 0.084984\r\n",
      "Step #2270\tLoss: 0.031772\r\n",
      "Step #2280\tLoss: 0.043695\r\n",
      "Step #2290\tLoss: 0.009212\r\n",
      "Step #2300\tLoss: 0.014522\r\n",
      "Step #2310\tLoss: 0.012886\r\n",
      "Step #2320\tLoss: 0.006544\r\n",
      "Step #2330\tLoss: 0.002315\r\n",
      "Step #2340\tLoss: 0.032293\r\n",
      "Step #2350\tLoss: 0.034086\r\n",
      "Step #2360\tLoss: 0.066885\r\n",
      "Step #2370\tLoss: 0.031152\r\n",
      "Step #2380\tLoss: 0.077716\r\n",
      "Step #2390\tLoss: 0.011663\r\n",
      "Step #2400\tLoss: 0.001788\r\n",
      "Step #2410\tLoss: 0.011103\r\n",
      "Step #2420\tLoss: 0.005015\r\n",
      "Step #2430\tLoss: 0.011491\r\n",
      "Step #2440\tLoss: 0.023810\r\n",
      "Step #2450\tLoss: 0.008325\r\n",
      "Step #2460\tLoss: 0.014728\r\n",
      "Step #2470\tLoss: 0.003677\r\n",
      "Step #2480\tLoss: 0.017794\r\n",
      "Step #2490\tLoss: 0.005385\r\n",
      "1619205363.597970 Fri Apr 23 13:16:03 2021     46.258     43.777 done\r\n"
     ]
    }
   ],
   "source": [
    "cat minst.out"
   ]
  },
  {
   "cell_type": "markdown",
   "id": "bc259123",
   "metadata": {},
   "source": [
    "### Simpler example three different ways\n",
    "```\n",
    "Here we run the example from\n",
    "\n",
    "[https://towardsdatascience.com/image-classification-in-10-minutes-with-mnist-dataset-54c35b77a38d]\n",
    "\n",
    "three different ways.  We run it:\n",
    "```\n",
    "- From the command line\n",
    "- Reading it in as a file and then running exec on the input\n",
    "- As individual cells within the notebook\n"
   ]
  },
  {
   "cell_type": "code",
   "execution_count": 5,
   "id": "f9c9ca7a",
   "metadata": {},
   "outputs": [
    {
     "name": "stdout",
     "output_type": "stream",
     "text": [
      "SLURM_JOB_GPUS : 0,1\n",
      "GPU_DEVICE_ORDINAL : 0,1\n",
      "SLURM_GPUS_PER_NODE : 2\n",
      "8\n",
      "x_train shape: (60000, 28, 28, 1)\n",
      "Number of images in x_train 60000\n",
      "Number of images in x_test 10000\n",
      "2021-04-23 13:16:09.069100: I tensorflow/stream_executor/platform/default/dso_loader.cc:44] Successfully opened dynamic library libcuda.so.1\n",
      "2021-04-23 13:16:09.118785: I tensorflow/core/common_runtime/gpu/gpu_device.cc:1561] Found device 0 with properties: \n",
      "pciBusID: 0000:37:00.0 name: Tesla V100-PCIE-16GB computeCapability: 7.0\n",
      "coreClock: 1.38GHz coreCount: 80 deviceMemorySize: 15.78GiB deviceMemoryBandwidth: 836.37GiB/s\n",
      "2021-04-23 13:16:09.119462: I tensorflow/core/common_runtime/gpu/gpu_device.cc:1561] Found device 1 with properties: \n",
      "pciBusID: 0000:86:00.0 name: Tesla V100-PCIE-16GB computeCapability: 7.0\n",
      "coreClock: 1.38GHz coreCount: 80 deviceMemorySize: 15.78GiB deviceMemoryBandwidth: 836.37GiB/s\n",
      "2021-04-23 13:16:09.120336: I tensorflow/stream_executor/platform/default/dso_loader.cc:44] Successfully opened dynamic library libcudart.so.10.1\n",
      "2021-04-23 13:16:09.122739: I tensorflow/stream_executor/platform/default/dso_loader.cc:44] Successfully opened dynamic library libcublas.so.10\n",
      "2021-04-23 13:16:09.125036: I tensorflow/stream_executor/platform/default/dso_loader.cc:44] Successfully opened dynamic library libcufft.so.10\n",
      "2021-04-23 13:16:09.125958: I tensorflow/stream_executor/platform/default/dso_loader.cc:44] Successfully opened dynamic library libcurand.so.10\n",
      "2021-04-23 13:16:09.129723: I tensorflow/stream_executor/platform/default/dso_loader.cc:44] Successfully opened dynamic library libcusolver.so.10\n",
      "2021-04-23 13:16:09.132092: I tensorflow/stream_executor/platform/default/dso_loader.cc:44] Successfully opened dynamic library libcusparse.so.10\n",
      "2021-04-23 13:16:09.137233: I tensorflow/stream_executor/platform/default/dso_loader.cc:44] Successfully opened dynamic library libcudnn.so.7\n",
      "2021-04-23 13:16:09.139483: I tensorflow/core/common_runtime/gpu/gpu_device.cc:1703] Adding visible gpu devices: 0, 1\n",
      "2021-04-23 13:16:09.139861: I tensorflow/core/platform/cpu_feature_guard.cc:143] Your CPU supports instructions that this TensorFlow binary was not compiled to use: AVX2 AVX512F FMA\n",
      "2021-04-23 13:16:09.148606: I tensorflow/core/platform/profile_utils/cpu_utils.cc:102] CPU Frequency: 3000000000 Hz\n",
      "2021-04-23 13:16:09.150415: I tensorflow/compiler/xla/service/service.cc:168] XLA service 0x5582ef753220 initialized for platform Host (this does not guarantee that XLA will be used). Devices:\n",
      "2021-04-23 13:16:09.150451: I tensorflow/compiler/xla/service/service.cc:176]   StreamExecutor device (0): Host, Default Version\n",
      "2021-04-23 13:16:09.338582: I tensorflow/compiler/xla/service/service.cc:168] XLA service 0x5582ef7bd4e0 initialized for platform CUDA (this does not guarantee that XLA will be used). Devices:\n",
      "2021-04-23 13:16:09.338638: I tensorflow/compiler/xla/service/service.cc:176]   StreamExecutor device (0): Tesla V100-PCIE-16GB, Compute Capability 7.0\n",
      "2021-04-23 13:16:09.338650: I tensorflow/compiler/xla/service/service.cc:176]   StreamExecutor device (1): Tesla V100-PCIE-16GB, Compute Capability 7.0\n",
      "2021-04-23 13:16:09.340977: I tensorflow/core/common_runtime/gpu/gpu_device.cc:1561] Found device 0 with properties: \n",
      "pciBusID: 0000:37:00.0 name: Tesla V100-PCIE-16GB computeCapability: 7.0\n",
      "coreClock: 1.38GHz coreCount: 80 deviceMemorySize: 15.78GiB deviceMemoryBandwidth: 836.37GiB/s\n",
      "2021-04-23 13:16:09.341573: I tensorflow/core/common_runtime/gpu/gpu_device.cc:1561] Found device 1 with properties: \n",
      "pciBusID: 0000:86:00.0 name: Tesla V100-PCIE-16GB computeCapability: 7.0\n",
      "coreClock: 1.38GHz coreCount: 80 deviceMemorySize: 15.78GiB deviceMemoryBandwidth: 836.37GiB/s\n",
      "2021-04-23 13:16:09.341639: I tensorflow/stream_executor/platform/default/dso_loader.cc:44] Successfully opened dynamic library libcudart.so.10.1\n",
      "2021-04-23 13:16:09.341655: I tensorflow/stream_executor/platform/default/dso_loader.cc:44] Successfully opened dynamic library libcublas.so.10\n",
      "2021-04-23 13:16:09.341669: I tensorflow/stream_executor/platform/default/dso_loader.cc:44] Successfully opened dynamic library libcufft.so.10\n",
      "2021-04-23 13:16:09.341683: I tensorflow/stream_executor/platform/default/dso_loader.cc:44] Successfully opened dynamic library libcurand.so.10\n",
      "2021-04-23 13:16:09.341697: I tensorflow/stream_executor/platform/default/dso_loader.cc:44] Successfully opened dynamic library libcusolver.so.10\n",
      "2021-04-23 13:16:09.341711: I tensorflow/stream_executor/platform/default/dso_loader.cc:44] Successfully opened dynamic library libcusparse.so.10\n",
      "2021-04-23 13:16:09.341725: I tensorflow/stream_executor/platform/default/dso_loader.cc:44] Successfully opened dynamic library libcudnn.so.7\n",
      "2021-04-23 13:16:09.343775: I tensorflow/core/common_runtime/gpu/gpu_device.cc:1703] Adding visible gpu devices: 0, 1\n",
      "2021-04-23 13:16:09.343818: I tensorflow/stream_executor/platform/default/dso_loader.cc:44] Successfully opened dynamic library libcudart.so.10.1\n",
      "2021-04-23 13:16:09.345425: I tensorflow/core/common_runtime/gpu/gpu_device.cc:1102] Device interconnect StreamExecutor with strength 1 edge matrix:\n",
      "2021-04-23 13:16:09.345458: I tensorflow/core/common_runtime/gpu/gpu_device.cc:1108]      0 1 \n",
      "2021-04-23 13:16:09.345471: I tensorflow/core/common_runtime/gpu/gpu_device.cc:1121] 0:   N Y \n",
      "2021-04-23 13:16:09.345481: I tensorflow/core/common_runtime/gpu/gpu_device.cc:1121] 1:   Y N \n",
      "2021-04-23 13:16:09.347160: I tensorflow/core/common_runtime/gpu/gpu_device.cc:1247] Created TensorFlow device (/job:localhost/replica:0/task:0/device:GPU:0 with 14892 MB memory) -> physical GPU (device: 0, name: Tesla V100-PCIE-16GB, pci bus id: 0000:37:00.0, compute capability: 7.0)\n",
      "2021-04-23 13:16:09.348120: I tensorflow/core/common_runtime/gpu/gpu_device.cc:1247] Created TensorFlow device (/job:localhost/replica:0/task:0/device:GPU:1 with 14892 MB memory) -> physical GPU (device: 1, name: Tesla V100-PCIE-16GB, pci bus id: 0000:86:00.0, compute capability: 7.0)\n",
      "Epoch 1/10\n",
      "2021-04-23 13:16:10.451406: I tensorflow/stream_executor/platform/default/dso_loader.cc:44] Successfully opened dynamic library libcublas.so.10\n",
      "2021-04-23 13:16:10.665112: I tensorflow/stream_executor/platform/default/dso_loader.cc:44] Successfully opened dynamic library libcudnn.so.7\n",
      "1875/1875 [==============================] - 2s 1ms/step - loss: 0.1995 - accuracy: 0.9409\n",
      "Epoch 2/10\n",
      "1875/1875 [==============================] - 2s 1ms/step - loss: 0.0798 - accuracy: 0.9758\n",
      "Epoch 3/10\n",
      "1875/1875 [==============================] - 2s 1ms/step - loss: 0.0538 - accuracy: 0.9835\n",
      "Epoch 4/10\n",
      "1875/1875 [==============================] - 2s 1ms/step - loss: 0.0427 - accuracy: 0.9867\n",
      "Epoch 5/10\n",
      "1875/1875 [==============================] - 2s 1ms/step - loss: 0.0330 - accuracy: 0.9895\n",
      "Epoch 6/10\n",
      "1875/1875 [==============================] - 2s 1ms/step - loss: 0.0287 - accuracy: 0.9903\n",
      "Epoch 7/10\n",
      "1875/1875 [==============================] - 2s 1ms/step - loss: 0.0243 - accuracy: 0.9920\n",
      "Epoch 8/10\n",
      "1875/1875 [==============================] - 2s 1ms/step - loss: 0.0211 - accuracy: 0.9929\n",
      "Epoch 9/10\n",
      "1875/1875 [==============================] - 2s 1ms/step - loss: 0.0199 - accuracy: 0.9932\n",
      "Epoch 10/10\n",
      "1875/1875 [==============================] - 2s 1ms/step - loss: 0.0172 - accuracy: 0.9942\n",
      "313/313 [==============================] - 0s 1ms/step - loss: 0.0539 - accuracy: 0.9865\n",
      "9\n"
     ]
    }
   ],
   "source": [
    "!./mnist1.py"
   ]
  },
  {
   "cell_type": "code",
   "execution_count": 6,
   "id": "821896cc",
   "metadata": {},
   "outputs": [
    {
     "name": "stdout",
     "output_type": "stream",
     "text": [
      "#!/usr/bin/env python\n",
      "#####!/home/tkaiser2/.conda-envs/dompt/bin/python\n",
      "\n",
      "#https://towardsdatascience.com/image-classification-in-10-minutes-with-mnist-dataset-54c35b77a38d\n",
      "import os\n",
      "for x in os.environ:\n",
      "   #if x.find(\"SLURM\") > -1 or x.find(\"gpu\") > -1 :\n",
      "   if x.find(\"GPU\") > -1 or x.find(\"gpu\") > -1 :\n",
      "        print(x,\":\",os.environ[x])\n",
      "\n",
      "import tensorflow as tf\n",
      "(x_train, y_train), (x_test, y_test) = tf.keras.datasets.mnist.load_data()\n",
      "\n",
      "import matplotlib.pyplot as plt\n",
      "# Only use this if using iPython\n",
      "try:\n",
      "#%matplotlib inline\n",
      "   pass\n",
      "except:\n",
      "    pass\n",
      "# You may select anything up to 60,000\n",
      "image_index = 7777 \n",
      "# The label is 8\n",
      "print(y_train[image_index]) \n",
      "plt.imshow(x_train[image_index], cmap='Greys')\n",
      "\n",
      "\n",
      "x_train.shape\n",
      "\n",
      "\n",
      "\n",
      "# Reshaping the array to 4-dims so that it can work with the Keras API\n",
      "x_train = x_train.reshape(x_train.shape[0], 28, 28, 1)\n",
      "x_test = x_test.reshape(x_test.shape[0], 28, 28, 1)\n",
      "input_shape = (28, 28, 1)\n",
      "# Making sure that the values are float so that we can get decimal points after division\n",
      "x_train = x_train.astype('float32')\n",
      "x_test = x_test.astype('float32')\n",
      "# Normalizing the RGB codes by dividing it to the max RGB value.\n",
      "x_train /= 255\n",
      "x_test /= 255\n",
      "print('x_train shape:', x_train.shape)\n",
      "print('Number of images in x_train', x_train.shape[0])\n",
      "print('Number of images in x_test', x_test.shape[0])\n",
      "\n",
      "\n",
      "\n",
      "# Importing the required Keras modules containing model and layers\n",
      "from tensorflow.keras.models import Sequential\n",
      "from tensorflow.keras.layers import Dense, Conv2D, Dropout, Flatten, MaxPooling2D\n",
      "# Creating a Sequential Model and adding the layers\n",
      "model = Sequential()\n",
      "model.add(Conv2D(28, kernel_size=(3,3), input_shape=input_shape))\n",
      "model.add(MaxPooling2D(pool_size=(2, 2)))\n",
      "model.add(Flatten()) # Flattening the 2D arrays for fully connected layers\n",
      "model.add(Dense(128, activation=tf.nn.relu))\n",
      "model.add(Dropout(0.2))\n",
      "model.add(Dense(10,activation=tf.nn.softmax))\n",
      "\n",
      "\n",
      "model.compile(optimizer='adam', \n",
      "              loss='sparse_categorical_crossentropy', \n",
      "              metrics=['accuracy'])\n",
      "model.fit(x=x_train,y=y_train, epochs=10)\n",
      "\n",
      "\n",
      "\n",
      "model.evaluate(x_test, y_test)\n",
      "\n",
      "\n",
      "image_index = 4444\n",
      "plt.imshow(x_test[image_index].reshape(28, 28),cmap='Greys')\n",
      "pred = model.predict(x_test[image_index].reshape(1, 28, 28, 1))\n",
      "print(pred.argmax())\n",
      "\n",
      "\n",
      "\n",
      "SLURM_JOB_GPUS : 0,1\n",
      "GPU_DEVICE_ORDINAL : 0,1\n",
      "SLURM_GPUS_PER_NODE : 2\n",
      "8\n",
      "x_train shape: (60000, 28, 28, 1)\n",
      "Number of images in x_train 60000\n",
      "Number of images in x_test 10000\n",
      "Epoch 1/10\n",
      "1875/1875 [==============================] - 2s 1ms/step - loss: 0.2057 - accuracy: 0.9374\n",
      "Epoch 2/10\n",
      "1875/1875 [==============================] - 2s 1ms/step - loss: 0.0835 - accuracy: 0.9742\n",
      "Epoch 3/10\n",
      "1875/1875 [==============================] - 2s 1ms/step - loss: 0.0569 - accuracy: 0.9819\n",
      "Epoch 4/10\n",
      "1875/1875 [==============================] - 2s 1ms/step - loss: 0.0440 - accuracy: 0.9858\n",
      "Epoch 5/10\n",
      "1875/1875 [==============================] - 2s 1ms/step - loss: 0.0351 - accuracy: 0.9885\n",
      "Epoch 6/10\n",
      "1875/1875 [==============================] - 2s 1ms/step - loss: 0.0293 - accuracy: 0.9902\n",
      "Epoch 7/10\n",
      "1875/1875 [==============================] - 2s 1ms/step - loss: 0.0259 - accuracy: 0.9909\n",
      "Epoch 8/10\n",
      "1875/1875 [==============================] - 2s 1ms/step - loss: 0.0229 - accuracy: 0.9922\n",
      "Epoch 9/10\n",
      "1875/1875 [==============================] - 2s 1ms/step - loss: 0.0188 - accuracy: 0.9936\n",
      "Epoch 10/10\n",
      "1875/1875 [==============================] - 2s 1ms/step - loss: 0.0167 - accuracy: 0.9939\n",
      "313/313 [==============================] - 0s 1ms/step - loss: 0.0746 - accuracy: 0.9834\n",
      "9\n"
     ]
    },
    {
     "data": {
      "image/png": "[encoded data removed]",
      "text/plain": [
       "<Figure size 432x288 with 1 Axes>"
      ]
     },
     "metadata": {
      "needs_background": "light"
     },
     "output_type": "display_data"
    }
   ],
   "source": [
    "f=open(\"mnist1.py\",\"r\",newline=\"\\n\")\n",
    "bonk=f.read()\n",
    "for b in bonk.split(\"\\n\"):\n",
    "    print(b)\n",
    "\n",
    "exec(bonk)\n"
   ]
  },
  {
   "cell_type": "code",
   "execution_count": null,
   "id": "3052c807",
   "metadata": {},
   "outputs": [],
   "source": []
  },
  {
   "cell_type": "code",
   "execution_count": 7,
   "id": "4587c220",
   "metadata": {},
   "outputs": [
    {
     "name": "stdout",
     "output_type": "stream",
     "text": [
      "SLURM_JOB_GPUS : 0,1\n",
      "GPU_DEVICE_ORDINAL : 0,1\n",
      "SLURM_GPUS_PER_NODE : 2\n"
     ]
    }
   ],
   "source": [
    "#!/usr/bin/env python\n",
    "#from:\n",
    "#https://towardsdatascience.com/image-classification-in-10-minutes-with-mnist-dataset-54c35b77a38d\n",
    "import os\n",
    "for x in os.environ:\n",
    "   #if x.find(\"SLURM\") > -1 or x.find(\"gpu\") > -1 :\n",
    "   if x.find(\"GPU\") > -1 or x.find(\"gpu\") > -1 :\n",
    "        print(x,\":\",os.environ[x])\n",
    "\n",
    "import tensorflow as tf\n",
    "(x_train, y_train), (x_test, y_test) = tf.keras.datasets.mnist.load_data()"
   ]
  },
  {
   "cell_type": "code",
   "execution_count": 8,
   "id": "ae0ba991",
   "metadata": {},
   "outputs": [
    {
     "name": "stdout",
     "output_type": "stream",
     "text": [
      "8\n"
     ]
    },
    {
     "data": {
      "text/plain": [
       "<matplotlib.image.AxesImage at 0x2b77840aba00>"
      ]
     },
     "execution_count": 8,
     "metadata": {},
     "output_type": "execute_result"
    },
    {
     "data": {
      "image/png": "[encoded data removed]",
      "text/plain": [
       "<Figure size 432x288 with 1 Axes>"
      ]
     },
     "metadata": {
      "needs_background": "light"
     },
     "output_type": "display_data"
    }
   ],
   "source": [
    "import matplotlib.pyplot as plt\n",
    "# Only use this if using iPython\n",
    "try:\n",
    "#%matplotlib inline\n",
    "   pass\n",
    "except:\n",
    "    pass\n",
    "# You may select anything up to 60,000\n",
    "image_index = 7777 \n",
    "# The label is 8\n",
    "print(y_train[image_index]) \n",
    "plt.imshow(x_train[image_index], cmap='Greys')"
   ]
  },
  {
   "cell_type": "code",
   "execution_count": 9,
   "id": "e85eb25f",
   "metadata": {},
   "outputs": [
    {
     "data": {
      "text/plain": [
       "(60000, 28, 28)"
      ]
     },
     "execution_count": 9,
     "metadata": {},
     "output_type": "execute_result"
    }
   ],
   "source": [
    "x_train.shape"
   ]
  },
  {
   "cell_type": "code",
   "execution_count": 10,
   "id": "91192437",
   "metadata": {},
   "outputs": [
    {
     "name": "stdout",
     "output_type": "stream",
     "text": [
      "x_train shape: (60000, 28, 28, 1)\n",
      "Number of images in x_train 60000\n",
      "Number of images in x_test 10000\n"
     ]
    }
   ],
   "source": [
    "# Reshaping the array to 4-dims so that it can work with the Keras API\n",
    "x_train = x_train.reshape(x_train.shape[0], 28, 28, 1)\n",
    "x_test = x_test.reshape(x_test.shape[0], 28, 28, 1)\n",
    "input_shape = (28, 28, 1)\n",
    "# Making sure that the values are float so that we can get decimal points after division\n",
    "x_train = x_train.astype('float32')\n",
    "x_test = x_test.astype('float32')\n",
    "# Normalizing the RGB codes by dividing it to the max RGB value.\n",
    "x_train /= 255\n",
    "x_test /= 255\n",
    "print('x_train shape:', x_train.shape)\n",
    "print('Number of images in x_train', x_train.shape[0])\n",
    "print('Number of images in x_test', x_test.shape[0])"
   ]
  },
  {
   "cell_type": "code",
   "execution_count": 11,
   "id": "5a0dfc38",
   "metadata": {},
   "outputs": [],
   "source": [
    "# Importing the required Keras modules containing model and layers\n",
    "from tensorflow.keras.models import Sequential\n",
    "from tensorflow.keras.layers import Dense, Conv2D, Dropout, Flatten, MaxPooling2D\n",
    "# Creating a Sequential Model and adding the layers\n",
    "model = Sequential()\n",
    "model.add(Conv2D(28, kernel_size=(3,3), input_shape=input_shape))\n",
    "model.add(MaxPooling2D(pool_size=(2, 2)))\n",
    "model.add(Flatten()) # Flattening the 2D arrays for fully connected layers\n",
    "model.add(Dense(128, activation=tf.nn.relu))\n",
    "model.add(Dropout(0.2))\n",
    "model.add(Dense(10,activation=tf.nn.softmax))"
   ]
  },
  {
   "cell_type": "code",
   "execution_count": 12,
   "id": "388811fd",
   "metadata": {},
   "outputs": [
    {
     "name": "stdout",
     "output_type": "stream",
     "text": [
      "Epoch 1/10\n",
      "1875/1875 [==============================] - 2s 1ms/step - loss: 0.2090 - accuracy: 0.9370\n",
      "Epoch 2/10\n",
      "1875/1875 [==============================] - 2s 1ms/step - loss: 0.0857 - accuracy: 0.9731\n",
      "Epoch 3/10\n",
      "1875/1875 [==============================] - 2s 1ms/step - loss: 0.0592 - accuracy: 0.9819\n",
      "Epoch 4/10\n",
      "1875/1875 [==============================] - 2s 1ms/step - loss: 0.0448 - accuracy: 0.9853\n",
      "Epoch 5/10\n",
      "1875/1875 [==============================] - 2s 1ms/step - loss: 0.0350 - accuracy: 0.9885\n",
      "Epoch 6/10\n",
      "1875/1875 [==============================] - 2s 1ms/step - loss: 0.0315 - accuracy: 0.9898\n",
      "Epoch 7/10\n",
      "1875/1875 [==============================] - 2s 1ms/step - loss: 0.0245 - accuracy: 0.9919\n",
      "Epoch 8/10\n",
      "1875/1875 [==============================] - 2s 1ms/step - loss: 0.0224 - accuracy: 0.9925\n",
      "Epoch 9/10\n",
      "1875/1875 [==============================] - 2s 1ms/step - loss: 0.0184 - accuracy: 0.9935\n",
      "Epoch 10/10\n",
      "1875/1875 [==============================] - 2s 1ms/step - loss: 0.0180 - accuracy: 0.9938\n",
      "313/313 [==============================] - 0s 1ms/step - loss: 0.0618 - accuracy: 0.9845\n"
     ]
    },
    {
     "data": {
      "text/plain": [
       "[0.06175895407795906, 0.984499990940094]"
      ]
     },
     "execution_count": 12,
     "metadata": {},
     "output_type": "execute_result"
    }
   ],
   "source": [
    "model.compile(optimizer='adam', \n",
    "              loss='sparse_categorical_crossentropy', \n",
    "              metrics=['accuracy'])\n",
    "model.fit(x=x_train,y=y_train, epochs=10)\n",
    "\n",
    "\n",
    "\n",
    "model.evaluate(x_test, y_test)"
   ]
  },
  {
   "cell_type": "code",
   "execution_count": 13,
   "id": "c6fcd7ff",
   "metadata": {},
   "outputs": [
    {
     "name": "stdout",
     "output_type": "stream",
     "text": [
      "8\n"
     ]
    },
    {
     "data": {
      "image/png": "[encoded data removed]",
      "text/plain": [
       "<Figure size 432x288 with 1 Axes>"
      ]
     },
     "metadata": {
      "needs_background": "light"
     },
     "output_type": "display_data"
    }
   ],
   "source": [
    "image_index = 1234\n",
    "plt.imshow(x_test[image_index].reshape(28, 28),cmap='Greys')\n",
    "pred = model.predict(x_test[image_index].reshape(1, 28, 28, 1))\n",
    "print(pred.argmax())"
   ]
  },
  {
   "cell_type": "code",
   "execution_count": 14,
   "id": "f7d1a5c1",
   "metadata": {},
   "outputs": [],
   "source": [
    "# get the cupy gpu package\n",
    "import cupy as cp\n",
    "import numpy as np\n",
    "import time\n",
    "import sys\n"
   ]
  },
  {
   "cell_type": "code",
   "execution_count": 15,
   "id": "c077db6a",
   "metadata": {},
   "outputs": [],
   "source": [
    "# This is the blurring function.  It causes blurring\n",
    "# by adding random phase variations in Fourier space.\n",
    "# That is, this is a transfer function that preserves\n",
    "# overall intensity.\n",
    "\n",
    "# newimg= IFFT((FFT(image)*BLUR[p]))\n",
    "\n",
    "from cmath import exp,pi\n",
    "from random import random\n",
    "\n",
    "def blur(p):\n",
    "    return (exp(2*pi*1j*random()*p))"
   ]
  },
  {
   "cell_type": "code",
   "execution_count": 16,
   "id": "9bf41508",
   "metadata": {},
   "outputs": [],
   "source": [
    "# Get an image\n",
    "image_index=8888\n",
    "istart=x_test[image_index].reshape(28, 28)\n",
    "istart=cp.array(istart)"
   ]
  },
  {
   "cell_type": "code",
   "execution_count": 17,
   "id": "ed201a06",
   "metadata": {},
   "outputs": [],
   "source": [
    "# Set our blur values\n",
    "pvals=[0.0,0.01,0.02,0.04,0.08,0.10,0.15,0.20,0.25,0.30,0.35,0.40,0.45,0.50,0.55,0.60,0.65,0.70,0.75,0.80]"
   ]
  },
  {
   "cell_type": "code",
   "execution_count": 18,
   "id": "6bdb509b",
   "metadata": {},
   "outputs": [],
   "source": [
    "# Convert it to Fourier space\n",
    "# It is useful to have two copies\n",
    "fspace=cp.fft.fft2(istart)\n",
    "ospace=cp.fft.fft2(istart)"
   ]
  },
  {
   "cell_type": "code",
   "execution_count": 19,
   "id": "e58865a8",
   "metadata": {},
   "outputs": [
    {
     "data": {
      "image/png": "[encoded data removed]",
      "text/plain": [
       "<Figure size 432x288 with 1 Axes>"
      ]
     },
     "metadata": {
      "needs_background": "light"
     },
     "output_type": "display_data"
    },
    {
     "name": "stdout",
     "output_type": "stream",
     "text": [
      "blur= 0.0  0.000 0.000 0.000 0.000 0.000 0.000 1.000 0.000 0.000 0.000 selected= 6\n"
     ]
    },
    {
     "data": {
      "image/png": "[encoded data removed]",
      "text/plain": [
       "<Figure size 432x288 with 1 Axes>"
      ]
     },
     "metadata": {
      "needs_background": "light"
     },
     "output_type": "display_data"
    },
    {
     "name": "stdout",
     "output_type": "stream",
     "text": [
      "blur= 0.01  0.000 0.000 0.000 0.000 0.000 0.000 1.000 0.000 0.000 0.000 selected= 6\n"
     ]
    },
    {
     "data": {
      "image/png": "[encoded data removed]",
      "text/plain": [
       "<Figure size 432x288 with 1 Axes>"
      ]
     },
     "metadata": {
      "needs_background": "light"
     },
     "output_type": "display_data"
    },
    {
     "name": "stdout",
     "output_type": "stream",
     "text": [
      "blur= 0.02  0.000 0.000 0.000 0.000 0.000 0.000 1.000 0.000 0.000 0.000 selected= 6\n"
     ]
    },
    {
     "data": {
      "image/png": "[encoded data removed]",
      "text/plain": [
       "<Figure size 432x288 with 1 Axes>"
      ]
     },
     "metadata": {
      "needs_background": "light"
     },
     "output_type": "display_data"
    },
    {
     "name": "stdout",
     "output_type": "stream",
     "text": [
      "blur= 0.04  0.000 0.000 0.000 0.000 0.000 0.000 1.000 0.000 0.000 0.000 selected= 6\n"
     ]
    },
    {
     "data": {
      "image/png": "[encoded data removed]",
      "text/plain": [
       "<Figure size 432x288 with 1 Axes>"
      ]
     },
     "metadata": {
      "needs_background": "light"
     },
     "output_type": "display_data"
    },
    {
     "name": "stdout",
     "output_type": "stream",
     "text": [
      "blur= 0.08  0.000 0.000 0.000 0.000 0.000 0.000 1.000 0.000 0.000 0.000 selected= 6\n"
     ]
    },
    {
     "data": {
      "image/png": "[encoded data removed]",
      "text/plain": [
       "<Figure size 432x288 with 1 Axes>"
      ]
     },
     "metadata": {
      "needs_background": "light"
     },
     "output_type": "display_data"
    },
    {
     "name": "stdout",
     "output_type": "stream",
     "text": [
      "blur= 0.1  0.000 0.000 0.000 0.000 0.000 0.000 1.000 0.000 0.000 0.000 selected= 6\n"
     ]
    },
    {
     "data": {
      "image/png": "[encoded data removed]",
      "text/plain": [
       "<Figure size 432x288 with 1 Axes>"
      ]
     },
     "metadata": {
      "needs_background": "light"
     },
     "output_type": "display_data"
    },
    {
     "name": "stdout",
     "output_type": "stream",
     "text": [
      "blur= 0.15  0.000 0.000 0.000 0.000 0.000 0.000 1.000 0.000 0.000 0.000 selected= 6\n"
     ]
    },
    {
     "data": {
      "image/png": "[encoded data removed]",
      "text/plain": [
       "<Figure size 432x288 with 1 Axes>"
      ]
     },
     "metadata": {
      "needs_background": "light"
     },
     "output_type": "display_data"
    },
    {
     "name": "stdout",
     "output_type": "stream",
     "text": [
      "blur= 0.2  0.000 0.000 0.000 0.000 0.000 0.000 1.000 0.000 0.000 0.000 selected= 6\n"
     ]
    },
    {
     "data": {
      "image/png": "[encoded data removed]",
      "text/plain": [
       "<Figure size 432x288 with 1 Axes>"
      ]
     },
     "metadata": {
      "needs_background": "light"
     },
     "output_type": "display_data"
    },
    {
     "name": "stdout",
     "output_type": "stream",
     "text": [
      "blur= 0.25  0.000 0.000 0.000 0.000 0.000 0.000 1.000 0.000 0.000 0.000 selected= 6\n"
     ]
    },
    {
     "data": {
      "image/png": "[encoded data removed]",
      "text/plain": [
       "<Figure size 432x288 with 1 Axes>"
      ]
     },
     "metadata": {
      "needs_background": "light"
     },
     "output_type": "display_data"
    },
    {
     "name": "stdout",
     "output_type": "stream",
     "text": [
      "blur= 0.3  0.000 0.000 0.000 0.000 0.000 0.000 1.000 0.000 0.000 0.000 selected= 6\n"
     ]
    },
    {
     "data": {
      "image/png": "[encoded data removed]",
      "text/plain": [
       "<Figure size 432x288 with 1 Axes>"
      ]
     },
     "metadata": {
      "needs_background": "light"
     },
     "output_type": "display_data"
    },
    {
     "name": "stdout",
     "output_type": "stream",
     "text": [
      "blur= 0.35  0.000 0.000 0.000 0.000 0.000 0.000 1.000 0.000 0.000 0.000 selected= 6\n"
     ]
    },
    {
     "data": {
      "image/png": "[encoded data removed]",
      "text/plain": [
       "<Figure size 432x288 with 1 Axes>"
      ]
     },
     "metadata": {
      "needs_background": "light"
     },
     "output_type": "display_data"
    },
    {
     "name": "stdout",
     "output_type": "stream",
     "text": [
      "blur= 0.4  0.000 0.000 0.000 0.000 0.000 0.000 1.000 0.000 0.000 0.000 selected= 6\n"
     ]
    },
    {
     "data": {
      "image/png": "[encoded data removed]",
      "text/plain": [
       "<Figure size 432x288 with 1 Axes>"
      ]
     },
     "metadata": {
      "needs_background": "light"
     },
     "output_type": "display_data"
    },
    {
     "name": "stdout",
     "output_type": "stream",
     "text": [
      "blur= 0.45  0.000 0.000 0.000 0.000 0.000 0.000 1.000 0.000 0.000 0.000 selected= 6\n"
     ]
    },
    {
     "data": {
      "image/png": "[encoded data removed]",
      "text/plain": [
       "<Figure size 432x288 with 1 Axes>"
      ]
     },
     "metadata": {
      "needs_background": "light"
     },
     "output_type": "display_data"
    },
    {
     "name": "stdout",
     "output_type": "stream",
     "text": [
      "blur= 0.5  0.000 0.000 0.000 0.000 0.000 0.003 0.997 0.000 0.000 0.000 selected= 6\n"
     ]
    },
    {
     "data": {
      "image/png": "[encoded data removed]",
      "text/plain": [
       "<Figure size 432x288 with 1 Axes>"
      ]
     },
     "metadata": {
      "needs_background": "light"
     },
     "output_type": "display_data"
    },
    {
     "name": "stdout",
     "output_type": "stream",
     "text": [
      "blur= 0.55  0.000 0.000 0.000 0.000 0.000 0.000 1.000 0.000 0.000 0.000 selected= 6\n"
     ]
    },
    {
     "data": {
      "image/png": "[encoded data removed]",
      "text/plain": [
       "<Figure size 432x288 with 1 Axes>"
      ]
     },
     "metadata": {
      "needs_background": "light"
     },
     "output_type": "display_data"
    },
    {
     "name": "stdout",
     "output_type": "stream",
     "text": [
      "blur= 0.6  0.001 0.000 0.000 0.000 0.231 0.000 0.768 0.000 0.000 0.000 selected= 6\n"
     ]
    },
    {
     "data": {
      "image/png": "[encoded data removed]",
      "text/plain": [
       "<Figure size 432x288 with 1 Axes>"
      ]
     },
     "metadata": {
      "needs_background": "light"
     },
     "output_type": "display_data"
    },
    {
     "name": "stdout",
     "output_type": "stream",
     "text": [
      "blur= 0.65  0.000 0.000 0.000 0.000 0.000 0.000 1.000 0.000 0.000 0.000 selected= 6\n"
     ]
    },
    {
     "data": {
      "image/png": "[encoded data removed]",
      "text/plain": [
       "<Figure size 432x288 with 1 Axes>"
      ]
     },
     "metadata": {
      "needs_background": "light"
     },
     "output_type": "display_data"
    },
    {
     "name": "stdout",
     "output_type": "stream",
     "text": [
      "blur= 0.7  0.000 0.000 0.009 0.000 0.991 0.000 0.000 0.000 0.000 0.000 selected= 4\n"
     ]
    },
    {
     "data": {
      "image/png": "[encoded data removed]",
      "text/plain": [
       "<Figure size 432x288 with 1 Axes>"
      ]
     },
     "metadata": {
      "needs_background": "light"
     },
     "output_type": "display_data"
    },
    {
     "name": "stdout",
     "output_type": "stream",
     "text": [
      "blur= 0.75  0.283 0.000 0.014 0.000 0.000 0.024 0.670 0.000 0.010 0.000 selected= 6\n"
     ]
    },
    {
     "data": {
      "image/png": "[encoded data removed]",
      "text/plain": [
       "<Figure size 432x288 with 1 Axes>"
      ]
     },
     "metadata": {
      "needs_background": "light"
     },
     "output_type": "display_data"
    },
    {
     "name": "stdout",
     "output_type": "stream",
     "text": [
      "blur= 0.8  0.000 0.000 0.000 0.000 0.000 1.000 0.000 0.000 0.000 0.000 selected= 5\n"
     ]
    }
   ],
   "source": [
    "for p in pvals:\n",
    "    for nx in range(0,28):\n",
    "        for ny in range(0,28):\n",
    "            fspace[nx,ny]=ospace[nx,ny]*blur(p)\n",
    "            newimg=cp.fft.ifft2(fspace)\n",
    "            newimg=newimg.get()\n",
    "            newimg=abs(newimg)\n",
    "    plt.imshow(newimg,cmap='Greys')\n",
    "    #plt.imshow(newimg)\n",
    "\n",
    "\n",
    "    plt.show()\n",
    "    pred = model.predict(newimg.reshape(1, 28, 28, 1))\n",
    "    print(\"blur=\",p,end=\" \")\n",
    "    digits=pred[0]\n",
    "    for d in digits:\n",
    "        print(\"%6.3f\" % (d),end=\"\")\n",
    "    print(\" selected=\",pred.argmax())"
   ]
  },
  {
   "cell_type": "markdown",
   "id": "5ced0f4d",
   "metadata": {},
   "source": [
    "### script to create the environment with old cuda and tensorflow\n",
    "```\n",
    "### Build a new version of python with and mpt  MPI version of mpi4py\n",
    "CWD=`pwd`\n",
    "export MYVERSION=apr21\n",
    "cd ~\n",
    "module load conda 2> /dev/null || echo \"module load conda failed\"\n",
    "conda create --name $MYVERSION python=3.8 jupyter matplotlib scipy pandas xlwt dask -y\n",
    "\n",
    "### Don't do conda init\n",
    "### Just do source activate\n",
    "source activate \n",
    "source activate $MYVERSION\n",
    "\n",
    "which pip\n",
    "which python\n",
    "\n",
    "### Install mpi4py\n",
    "#module load intel-mpi/2020.1.217  2> /dev/null || echo \"module load mpi failed\"\n",
    "module load mpt  2> /dev/null || echo \"module load mpi failed\"\n",
    "module load gcc/8.4.0  2> /dev/null || echo \"module load gcc failed\"\n",
    "pip --no-cache-dir install mpi4py\n",
    "\n",
    "\n",
    "### Install slurm magic commands \n",
    "pip install git+git://github.com/NERSC/slurm-magic.git\n",
    "\n",
    "\n",
    "module use /projects/hpcapps/nvidia/cuda\n",
    "ml gcc/7.4.0 10.0-7.6.5 cuda/10.0.130\n",
    "\n",
    "pip --no-cache-dir install tensorflow==2.2.0\n",
    "pip --no-cache-dir install tensorflow-gpu==2.2.0\n",
    "pip --no-cache-dir install horovod[tensorflow]==0.20.0\n",
    "\n",
    "pip --no-cache-dirinstall cupy \n",
    "\n",
    "```"
   ]
  },
  {
   "cell_type": "markdown",
   "id": "9ebcd617",
   "metadata": {},
   "source": [
    "### start the notebook\n",
    "```\n",
    "#!/bin/bash\n",
    "#SBATCH --job-name=\"jupyter\"\n",
    "#SBATCH --nodes=1\n",
    "#SBATCH --account=hpcapps\n",
    "#SBATCH --time=01:00:00\n",
    "##SBATCH --mail-type=ALL\n",
    "##SBATCH --mail-user=tkaiser2@nrel.gov\n",
    "#SBATCH --gpus-per-node=2 \n",
    "#SBATCH --reservation=cuda_testing\n",
    "##SBATCH --partition=debug\n",
    "\n",
    "\n",
    "#export MYVERSION=dompt\n",
    "#module load conda\n",
    "#source activate\n",
    "#source activate $MYVERSION\n",
    "\n",
    "#module load mpt\n",
    "#module load gcc/6.5.0 \n",
    "#ml cuda/11.2\n",
    "#ml cudnn/8.1.1/cuda-11.2 \n",
    "\n",
    "module purge \n",
    "export MYVERSION=apr21\n",
    "module load conda\n",
    "source activate\n",
    "source activate $MYVERSION\n",
    "\n",
    "module use /projects/hpcapps/nvidia/cuda\n",
    "ml mpt/2.23   gcc/7.4.0   10.0-7.6.5   cuda/10.0.130\n",
    "\n",
    "export TF_XLA_FLAGS=--tf_xla_enable_xla_devices\n",
    "\n",
    "date      > ~/jupyter.log\n",
    "hostname >> ~/jupyter.log\n",
    "jupyter notebook --NotebookApp.password='' --no-browser  >> ~/jupyter.log 2>&1\n",
    "\n",
    "```"
   ]
  },
  {
   "cell_type": "code",
   "execution_count": 20,
   "id": "61649ddd",
   "metadata": {},
   "outputs": [
    {
     "name": "stdout",
     "output_type": "stream",
     "text": [
      "Fri Apr 23 13:17:31 MDT 2021\r\n"
     ]
    }
   ],
   "source": [
    "!date"
   ]
  },
  {
   "cell_type": "markdown",
   "id": "16e815c1",
   "metadata": {},
   "source": [
    "### For the new drivers\n",
    "\n",
    "```\n",
    "el2:newdriver> cat newdriver\n",
    "### Build a new version of python with and mpt  MPI version of mpi4py\n",
    "CWD=`pwd`\n",
    "export MYVERSION=apr22\n",
    "cd ~\n",
    "module load conda 2> /dev/null || echo \"module load conda failed\"\n",
    "conda create --name $MYVERSION python=3.8 jupyter matplotlib scipy pandas xlwt dask -y\n",
    "\n",
    "### Don't do conda init\n",
    "### Just do source activate\n",
    "source activate \n",
    "source activate $MYVERSION\n",
    "\n",
    "which pip\n",
    "which python\n",
    "\n",
    "### Install mpi4py\n",
    "#module load intel-mpi/2020.1.217  2> /dev/null || echo \"module load mpi failed\"\n",
    "module load mpt  2> /dev/null || echo \"module load mpi failed\"\n",
    "module load gcc/8.4.0  2> /dev/null || echo \"module load gcc failed\"\n",
    "pip --no-cache-dir install mpi4py\n",
    "\n",
    "\n",
    "### Install slurm magic commands \n",
    "pip install git+git://github.com/NERSC/slurm-magic.git\n",
    "\n",
    "\n",
    "\n",
    "ml cuda/11.2\n",
    "ml cudnn/8.1.1/cuda-11.2\n",
    "#lrwxrwxrwx. 1 tkaiser2 tkaiser2       24 Apr 16 16:21 libcusolver.so.10 -> libcusolver.so.11.0.2.68\n",
    "#lrwxrwxrwx. 1 tkaiser2 tkaiser2       56 Apr 16 16:20 libcusolver.so.11.0.2.68 -> /nopt/nrel/apps/cuda/11.2/lib64/libcusolver.so.11.0.2.68\n",
    "\n",
    "# latest versions sould work with these drivers\n",
    "pip --no-cache-dir install tensorflow\n",
    "pip --no-cache-dir install tensorflow-gpu\n",
    "pip --no-cache-dir install horovod[tensorflow]\n",
    "el2:newdriver> \n",
    "el2:newdriver> \n",
    "el2:newdriver> cat dojup2x\n",
    "#!/bin/bash\n",
    "#SBATCH --job-name=\"jupyter\"\n",
    "#SBATCH --nodes=1\n",
    "#SBATCH --account=hpcapps\n",
    "#SBATCH --time=01:00:00\n",
    "##SBATCH --mail-type=ALL\n",
    "##SBATCH --mail-user=tkaiser2@nrel.gov\n",
    "#SBATCH --gpus-per-node=2 \n",
    "#SBATCH --reservation=cuda_testing\n",
    "##SBATCH --partition=debug\n",
    "\n",
    "\n",
    "export MYVERSION=apr22\n",
    "module load conda\n",
    "source activate\n",
    "source activate $MYVERSION\n",
    "\n",
    "module load mpt\n",
    "module load gcc/6.5.0 \n",
    "ml cuda/11.2\n",
    "ml cudnn/8.1.1/cuda-11.2 \n",
    "#export TF_XLA_FLAGS=--tf_xla_enable_xla_devices\n",
    "export LD_LIBRARY_PATH=/projects/hpcapps/nvidia/hpc_sdk/Linux_x86_64/21.3/comm_libs/nccl/lib:$LD_LIBRARY_PATH\n",
    "export LD_LIBRARY_PATH=/projects/hpcapps/nvidia/hpc_sdk/Linux_x86_64/21.3/math_libs/11.2/targets/x86_64-linux/lib:$LD_LIBRARY_PATH\n",
    "\n",
    "\n",
    "\n",
    "date      > ~/jupyter.log\n",
    "hostname >> ~/jupyter.log\n",
    "jupyter notebook --NotebookApp.password='' --no-browser  >> ~/jupyter.log 2>&1\n",
    "\n",
    "\n",
    "el2:newdriver> \n",
    "```"
   ]
  },
  {
   "cell_type": "markdown",
   "id": "fb1caf95",
   "metadata": {},
   "source": [
    "### Another way to start a notebook\n",
    "- we run salloc to get a node\n",
    "- ssh to our node\n",
    "- run a script to set up our environment and start jupyter \n",
    "\n",
    "```\n",
    "\n",
    "(/home/tkaiser2/.conda-envs/apr22) el3:newdriver> salloc  --x11 --account=hpcapps --time=1:00:00 --ntasks=8 --cpus-per-task=4 --nodes=1 --gres=gpu:2  --reservation=cuda_testing bash\n",
    "salloc: Pending job allocation 6706234\n",
    "salloc: job 6706234 queued and waiting for resources\n",
    "salloc: job 6706234 has been allocated resources\n",
    "salloc: Granted job allocation 6706234\n",
    "el3:newdriver> sq\n",
    "JOBID             TIME_LIMIT     TIME_LEFT      NODES START_TIME          PARTITION      REASON         SUBMIT_TIME         NODELIST\n",
    "6706234           1:00:00        59:47          1     2021-04-22T11:55:02 gpu            None           2021-04-22T11:54:56 r103u15\n",
    "el3:newdriver> ssh r103u15\n",
    "Last login: Thu Apr 22 10:44:28 2021 from el2.ib0.cm.hpc.nrel.gov\n",
    "r103u15:~> cd newdriver/\n",
    "r103u15:newdriver> . dojup2x\n",
    "\n",
    "```"
   ]
  },
  {
   "cell_type": "code",
   "execution_count": null,
   "id": "e32a8491",
   "metadata": {},
   "outputs": [],
   "source": []
  }
 ],
 "metadata": {
  "kernelspec": {
   "display_name": "Python 3",
   "language": "python",
   "name": "python3"
  },
  "language_info": {
   "codemirror_mode": {
    "name": "ipython",
    "version": 3
   },
   "file_extension": ".py",
   "mimetype": "text/x-python",
   "name": "python",
   "nbconvert_exporter": "python",
   "pygments_lexer": "ipython3",
   "version": "3.8.8"
  }
 },
 "nbformat": 4,
 "nbformat_minor": 5
}
