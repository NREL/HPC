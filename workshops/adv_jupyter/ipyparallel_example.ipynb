{
 "cells": [
  {
   "cell_type": "code",
   "execution_count": 10,
   "id": "245696cc",
   "metadata": {},
   "outputs": [
    {
     "name": "stdout",
     "output_type": "stream",
     "text": [
      "Requirement already satisfied: ipyparallel in /Users/ksayers/opt/miniconda3/envs/jupyter/lib/python3.8/site-packages (6.3.0)\n",
      "Requirement already satisfied: ipython-genutils in /Users/ksayers/opt/miniconda3/envs/jupyter/lib/python3.8/site-packages (from ipyparallel) (0.2.0)\n",
      "Requirement already satisfied: pyzmq>=13 in /Users/ksayers/opt/miniconda3/envs/jupyter/lib/python3.8/site-packages (from ipyparallel) (22.0.3)\n",
      "Requirement already satisfied: jupyter-client in /Users/ksayers/opt/miniconda3/envs/jupyter/lib/python3.8/site-packages (from ipyparallel) (6.1.12)\n",
      "Requirement already satisfied: ipykernel>=4.4 in /Users/ksayers/opt/miniconda3/envs/jupyter/lib/python3.8/site-packages (from ipyparallel) (5.5.3)\n",
      "Requirement already satisfied: ipython>=4 in /Users/ksayers/opt/miniconda3/envs/jupyter/lib/python3.8/site-packages (from ipyparallel) (7.23.0)\n",
      "Requirement already satisfied: python-dateutil>=2.1 in /Users/ksayers/opt/miniconda3/envs/jupyter/lib/python3.8/site-packages (from ipyparallel) (2.8.1)\n",
      "Requirement already satisfied: traitlets>=4.3 in /Users/ksayers/opt/miniconda3/envs/jupyter/lib/python3.8/site-packages (from ipyparallel) (5.0.5)\n",
      "Requirement already satisfied: tornado>=4 in /Users/ksayers/opt/miniconda3/envs/jupyter/lib/python3.8/site-packages (from ipyparallel) (6.1)\n",
      "Requirement already satisfied: decorator in /Users/ksayers/opt/miniconda3/envs/jupyter/lib/python3.8/site-packages (from ipyparallel) (5.0.7)\n",
      "Requirement already satisfied: appnope in /Users/ksayers/opt/miniconda3/envs/jupyter/lib/python3.8/site-packages (from ipykernel>=4.4->ipyparallel) (0.1.2)\n",
      "Requirement already satisfied: pygments in /Users/ksayers/opt/miniconda3/envs/jupyter/lib/python3.8/site-packages (from ipython>=4->ipyparallel) (2.9.0)\n",
      "Requirement already satisfied: matplotlib-inline in /Users/ksayers/opt/miniconda3/envs/jupyter/lib/python3.8/site-packages (from ipython>=4->ipyparallel) (0.1.2)\n",
      "Requirement already satisfied: pickleshare in /Users/ksayers/opt/miniconda3/envs/jupyter/lib/python3.8/site-packages (from ipython>=4->ipyparallel) (0.7.5)\n",
      "Requirement already satisfied: pexpect>4.3 in /Users/ksayers/opt/miniconda3/envs/jupyter/lib/python3.8/site-packages (from ipython>=4->ipyparallel) (4.8.0)\n",
      "Requirement already satisfied: jedi>=0.16 in /Users/ksayers/opt/miniconda3/envs/jupyter/lib/python3.8/site-packages (from ipython>=4->ipyparallel) (0.18.0)\n",
      "Requirement already satisfied: setuptools>=18.5 in /Users/ksayers/opt/miniconda3/envs/jupyter/lib/python3.8/site-packages (from ipython>=4->ipyparallel) (52.0.0.post20210125)\n",
      "Requirement already satisfied: prompt-toolkit!=3.0.0,!=3.0.1,<3.1.0,>=2.0.0 in /Users/ksayers/opt/miniconda3/envs/jupyter/lib/python3.8/site-packages (from ipython>=4->ipyparallel) (3.0.18)\n",
      "Requirement already satisfied: backcall in /Users/ksayers/opt/miniconda3/envs/jupyter/lib/python3.8/site-packages (from ipython>=4->ipyparallel) (0.2.0)\n",
      "Requirement already satisfied: parso<0.9.0,>=0.8.0 in /Users/ksayers/opt/miniconda3/envs/jupyter/lib/python3.8/site-packages (from jedi>=0.16->ipython>=4->ipyparallel) (0.8.2)\n",
      "Requirement already satisfied: ptyprocess>=0.5 in /Users/ksayers/opt/miniconda3/envs/jupyter/lib/python3.8/site-packages (from pexpect>4.3->ipython>=4->ipyparallel) (0.7.0)\n",
      "Requirement already satisfied: wcwidth in /Users/ksayers/opt/miniconda3/envs/jupyter/lib/python3.8/site-packages (from prompt-toolkit!=3.0.0,!=3.0.1,<3.1.0,>=2.0.0->ipython>=4->ipyparallel) (0.2.5)\n",
      "Requirement already satisfied: six>=1.5 in /Users/ksayers/opt/miniconda3/envs/jupyter/lib/python3.8/site-packages (from python-dateutil>=2.1->ipyparallel) (1.15.0)\n",
      "Requirement already satisfied: jupyter-core>=4.6.0 in /Users/ksayers/opt/miniconda3/envs/jupyter/lib/python3.8/site-packages (from jupyter-client->ipyparallel) (4.7.1)\n",
      "Note: you may need to restart the kernel to use updated packages.\n"
     ]
    }
   ],
   "source": [
    "%pip install ipyparallel"
   ]
  },
  {
   "cell_type": "code",
   "execution_count": 1,
   "id": "9834362e",
   "metadata": {},
   "outputs": [],
   "source": [
    "# Start the workers run the below command in a separate terminal \n",
    "# ipcluster start -n 4 "
   ]
  },
  {
   "cell_type": "code",
   "execution_count": null,
   "id": "fifth-turkey",
   "metadata": {},
   "outputs": [],
   "source": [
    "# Imports and setup a client for the parallel workers\n",
    "import os\n",
    "import ipyparallel as ipp\n",
    "\n",
    "rc = ipp.Client()\n",
    "ar = rc[:].apply_async(os.getpid)\n",
    "pid_map = ar.get_dict()"
   ]
  },
  {
   "cell_type": "code",
   "execution_count": 3,
   "id": "mighty-upper",
   "metadata": {},
   "outputs": [
    {
     "name": "stdout",
     "output_type": "stream",
     "text": [
      "{0: 2388, 1: 2389, 2: 2390, 3: 2392}\n"
     ]
    }
   ],
   "source": [
    "print (pid_map)"
   ]
  },
  {
   "cell_type": "code",
   "execution_count": 4,
   "id": "appreciated-navigator",
   "metadata": {},
   "outputs": [
    {
     "name": "stdout",
     "output_type": "stream",
     "text": [
      "importing numpy on engine(s)\n"
     ]
    }
   ],
   "source": [
    "# Imports numpy on all workers\n",
    "with rc[:].sync_imports():\n",
    "    import numpy\n"
   ]
  },
  {
   "cell_type": "code",
   "execution_count": 5,
   "id": "minute-disease",
   "metadata": {},
   "outputs": [],
   "source": [
    "# Runs the numpy command on all workers in parallel\n",
    "%px a = numpy.random.rand(2,2)"
   ]
  },
  {
   "cell_type": "code",
   "execution_count": 6,
   "id": "matched-smile",
   "metadata": {},
   "outputs": [
    {
     "name": "stdout",
     "output_type": "stream",
     "text": [
      "[stdout:0] \n",
      "[[0.78924898 0.67065159]\n",
      " [0.05240222 0.52415446]]\n",
      "[stdout:1] \n",
      "[[0.35140494 0.88277812]\n",
      " [0.32626428 0.96795877]]\n",
      "[stdout:2] \n",
      "[[0.40722583 0.41925194]\n",
      " [0.6581767  0.91964991]]\n",
      "[stdout:3] \n",
      "[[0.96862513 0.9335422 ]\n",
      " [0.6563091  0.71454254]]\n"
     ]
    }
   ],
   "source": [
    "%px print (a)"
   ]
  },
  {
   "cell_type": "code",
   "execution_count": 7,
   "id": "gentle-voluntary",
   "metadata": {},
   "outputs": [
    {
     "data": {
      "text/plain": [
       "\u001b[0;31mOut[0:3]: \u001b[0marray([0.84165119, 1.19480605])"
      ]
     },
     "metadata": {
      "after": [],
      "completed": "2021-05-12T04:22:29.992883",
      "data": {},
      "engine_id": 0,
      "engine_uuid": "3b594759-f29d5c44fa3ab8ded01dcde5",
      "error": null,
      "execute_input": "sum(a)",
      "execute_result": {
       "data": {
        "text/plain": "array([0.84165119, 1.19480605])"
       },
       "execution_count": 3,
       "metadata": {}
      },
      "follow": [],
      "msg_id": "3dccb99a-c29fbb3f527cbc87392bcc4f_17",
      "outputs": [],
      "received": "2021-05-12T04:22:29.996263",
      "started": "2021-05-12T04:22:29.984026",
      "status": "ok",
      "stderr": "",
      "stdout": "",
      "submitted": "2021-05-12T04:22:29.980176"
     },
     "output_type": "display_data"
    },
    {
     "data": {
      "text/plain": [
       "\u001b[0;31mOut[1:3]: \u001b[0marray([0.67766922, 1.85073689])"
      ]
     },
     "metadata": {
      "after": [],
      "completed": "2021-05-12T04:22:29.994175",
      "data": {},
      "engine_id": 1,
      "engine_uuid": "e61a2476-df20e9509527ff4b770a5635",
      "error": null,
      "execute_input": "sum(a)",
      "execute_result": {
       "data": {
        "text/plain": "array([0.67766922, 1.85073689])"
       },
       "execution_count": 3,
       "metadata": {}
      },
      "follow": [],
      "msg_id": "3dccb99a-c29fbb3f527cbc87392bcc4f_18",
      "outputs": [],
      "received": "2021-05-12T04:22:29.997561",
      "started": "2021-05-12T04:22:29.984197",
      "status": "ok",
      "stderr": "",
      "stdout": "",
      "submitted": "2021-05-12T04:22:29.980471"
     },
     "output_type": "display_data"
    },
    {
     "data": {
      "text/plain": [
       "\u001b[0;31mOut[2:3]: \u001b[0marray([1.06540252, 1.33890186])"
      ]
     },
     "metadata": {
      "after": [],
      "completed": "2021-05-12T04:22:29.995349",
      "data": {},
      "engine_id": 2,
      "engine_uuid": "ef3dd993-98f06fb71f085b3ea23042f7",
      "error": null,
      "execute_input": "sum(a)",
      "execute_result": {
       "data": {
        "text/plain": "array([1.06540252, 1.33890186])"
       },
       "execution_count": 3,
       "metadata": {}
      },
      "follow": [],
      "msg_id": "3dccb99a-c29fbb3f527cbc87392bcc4f_19",
      "outputs": [],
      "received": "2021-05-12T04:22:29.998644",
      "started": "2021-05-12T04:22:29.985663",
      "status": "ok",
      "stderr": "",
      "stdout": "",
      "submitted": "2021-05-12T04:22:29.981253"
     },
     "output_type": "display_data"
    },
    {
     "data": {
      "text/plain": [
       "\u001b[0;31mOut[3:3]: \u001b[0marray([1.62493423, 1.64808474])"
      ]
     },
     "metadata": {
      "after": [],
      "completed": "2021-05-12T04:22:29.996170",
      "data": {},
      "engine_id": 3,
      "engine_uuid": "d13cb32a-b264fab2bd8697f2c3b01ef1",
      "error": null,
      "execute_input": "sum(a)",
      "execute_result": {
       "data": {
        "text/plain": "array([1.62493423, 1.64808474])"
       },
       "execution_count": 3,
       "metadata": {}
      },
      "follow": [],
      "msg_id": "3dccb99a-c29fbb3f527cbc87392bcc4f_20",
      "outputs": [],
      "received": "2021-05-12T04:22:29.999578",
      "started": "2021-05-12T04:22:29.986359",
      "status": "ok",
      "stderr": "",
      "stdout": "",
      "submitted": "2021-05-12T04:22:29.981558"
     },
     "output_type": "display_data"
    }
   ],
   "source": [
    "%px sum(a)"
   ]
  },
  {
   "cell_type": "code",
   "execution_count": 8,
   "id": "based-logic",
   "metadata": {},
   "outputs": [],
   "source": [
    "# Using the direct interface instead of %px magic\n",
    "dview = rc[:]\n",
    "parallel_result = dview.map_sync(lambda x: x**10, range(32))"
   ]
  },
  {
   "cell_type": "code",
   "execution_count": 9,
   "id": "sporting-shuttle",
   "metadata": {},
   "outputs": [
    {
     "name": "stdout",
     "output_type": "stream",
     "text": [
      "[0, 1, 1024, 59049, 1048576, 9765625, 60466176, 282475249, 1073741824, 3486784401, 10000000000, 25937424601, 61917364224, 137858491849, 289254654976, 576650390625, 1099511627776, 2015993900449, 3570467226624, 6131066257801, 10240000000000, 16679880978201, 26559922791424, 41426511213649, 63403380965376, 95367431640625, 141167095653376, 205891132094649, 296196766695424, 420707233300201, 590490000000000, 819628286980801]\n"
     ]
    }
   ],
   "source": [
    "print (parallel_result)"
   ]
  },
  {
   "cell_type": "code",
   "execution_count": null,
   "id": "df6ce9a5",
   "metadata": {},
   "outputs": [],
   "source": []
  }
 ],
 "metadata": {
  "kernelspec": {
   "display_name": "Python 3",
   "language": "python",
   "name": "python3"
  },
  "language_info": {
   "codemirror_mode": {
    "name": "ipython",
    "version": 3
   },
   "file_extension": ".py",
   "mimetype": "text/x-python",
   "name": "python",
   "nbconvert_exporter": "python",
   "pygments_lexer": "ipython3",
   "version": "3.8.8"
  }
 },
 "nbformat": 4,
 "nbformat_minor": 5
}
