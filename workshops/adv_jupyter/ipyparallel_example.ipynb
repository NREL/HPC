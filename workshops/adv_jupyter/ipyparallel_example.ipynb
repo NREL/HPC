{
 "cells": [
  {
   "cell_type": "code",
   "execution_count": 2,
   "id": "fifth-turkey",
   "metadata": {},
   "outputs": [],
   "source": [
    "import os\n",
    "import ipyparallel as ipp\n",
    "\n",
    "rc = ipp.Client()\n",
    "ar = rc[:].apply_async(os.getpid)\n",
    "pid_map = ar.get_dict()"
   ]
  },
  {
   "cell_type": "code",
   "execution_count": 3,
   "id": "mighty-upper",
   "metadata": {},
   "outputs": [
    {
     "name": "stdout",
     "output_type": "stream",
     "text": [
      "{0: 137576, 1: 137584, 2: 137594, 3: 137603, 4: 137612, 5: 137628, 6: 137644, 7: 137660, 8: 137676, 9: 137692}\n"
     ]
    }
   ],
   "source": [
    "print (pid_map)"
   ]
  },
  {
   "cell_type": "code",
   "execution_count": 4,
   "id": "appreciated-navigator",
   "metadata": {},
   "outputs": [
    {
     "name": "stdout",
     "output_type": "stream",
     "text": [
      "importing numpy on engine(s)\n"
     ]
    }
   ],
   "source": [
    "# Imports numpy on all workers\n",
    "with rc[:].sync_imports():\n",
    "    import numpy\n"
   ]
  },
  {
   "cell_type": "code",
   "execution_count": 5,
   "id": "minute-disease",
   "metadata": {},
   "outputs": [],
   "source": [
    "# Runs the numpy command on all workers in parallel\n",
    "%px a = numpy.random.rand(2,2)"
   ]
  },
  {
   "cell_type": "code",
   "execution_count": 6,
   "id": "matched-smile",
   "metadata": {},
   "outputs": [
    {
     "name": "stdout",
     "output_type": "stream",
     "text": [
      "[stdout:0] \n",
      "[[0.71885701 0.06126652]\n",
      " [0.30710547 0.42692788]]\n",
      "[stdout:1] \n",
      "[[0.90808758 0.10526718]\n",
      " [0.48471322 0.75031029]]\n",
      "[stdout:2] \n",
      "[[0.82613825 0.68223569]\n",
      " [0.44037102 0.34223406]]\n",
      "[stdout:3] \n",
      "[[0.78431795 0.07903946]\n",
      " [0.1922548  0.03219475]]\n",
      "[stdout:4] \n",
      "[[0.6282042  0.88717304]\n",
      " [0.02241576 0.91790965]]\n",
      "[stdout:5] \n",
      "[[0.86633801 0.70988761]\n",
      " [0.48736578 0.64169237]]\n",
      "[stdout:6] \n",
      "[[0.27918113 0.34382915]\n",
      " [0.13012983 0.01365304]]\n",
      "[stdout:7] \n",
      "[[0.93437622 0.57837283]\n",
      " [0.66729359 0.63954864]]\n",
      "[stdout:8] \n",
      "[[0.84512551 0.57386426]\n",
      " [0.33118626 0.65376472]]\n",
      "[stdout:9] \n",
      "[[0.19037971 0.82737999]\n",
      " [0.33484418 0.44597942]]\n"
     ]
    }
   ],
   "source": [
    "%px print (a)"
   ]
  },
  {
   "cell_type": "code",
   "execution_count": 7,
   "id": "gentle-voluntary",
   "metadata": {},
   "outputs": [
    {
     "data": {
      "text/plain": [
       "\u001b[0;31mOut[0:3]: \u001b[0marray([1.02596248, 0.4881944 ])"
      ]
     },
     "metadata": {
      "after": [],
      "completed": "2021-04-21T19:24:09.250882",
      "data": {},
      "engine_id": 0,
      "engine_uuid": "356a5927-3b0934dd8e96df9394704a31",
      "error": null,
      "execute_input": "sum(a)",
      "execute_result": {
       "data": {
        "text/plain": "array([1.02596248, 0.4881944 ])"
       },
       "execution_count": 3,
       "metadata": {}
      },
      "follow": [],
      "msg_id": "1b651b6c-ea37315c8c9525e4a6c85210_41",
      "outputs": [],
      "received": "2021-04-21T19:24:09.252405",
      "started": "2021-04-21T19:24:09.245574",
      "status": "ok",
      "stderr": "",
      "stdout": "",
      "submitted": "2021-04-21T19:24:09.243582"
     },
     "output_type": "display_data"
    },
    {
     "data": {
      "text/plain": [
       "\u001b[0;31mOut[1:3]: \u001b[0marray([1.3928008 , 0.85557747])"
      ]
     },
     "metadata": {
      "after": [],
      "completed": "2021-04-21T19:24:09.251837",
      "data": {},
      "engine_id": 1,
      "engine_uuid": "d1f1523a-76b87a9bc64c6e26ee517652",
      "error": null,
      "execute_input": "sum(a)",
      "execute_result": {
       "data": {
        "text/plain": "array([1.3928008 , 0.85557747])"
       },
       "execution_count": 3,
       "metadata": {}
      },
      "follow": [],
      "msg_id": "1b651b6c-ea37315c8c9525e4a6c85210_42",
      "outputs": [],
      "received": "2021-04-21T19:24:09.253779",
      "started": "2021-04-21T19:24:09.246403",
      "status": "ok",
      "stderr": "",
      "stdout": "",
      "submitted": "2021-04-21T19:24:09.244122"
     },
     "output_type": "display_data"
    },
    {
     "data": {
      "text/plain": [
       "\u001b[0;31mOut[2:3]: \u001b[0marray([1.26650928, 1.02446975])"
      ]
     },
     "metadata": {
      "after": [],
      "completed": "2021-04-21T19:24:09.251790",
      "data": {},
      "engine_id": 2,
      "engine_uuid": "2fd530c1-209b940f494f780fbb998d11",
      "error": null,
      "execute_input": "sum(a)",
      "execute_result": {
       "data": {
        "text/plain": "array([1.26650928, 1.02446975])"
       },
       "execution_count": 3,
       "metadata": {}
      },
      "follow": [],
      "msg_id": "1b651b6c-ea37315c8c9525e4a6c85210_43",
      "outputs": [],
      "received": "2021-04-21T19:24:09.255085",
      "started": "2021-04-21T19:24:09.246393",
      "status": "ok",
      "stderr": "",
      "stdout": "",
      "submitted": "2021-04-21T19:24:09.244217"
     },
     "output_type": "display_data"
    },
    {
     "data": {
      "text/plain": [
       "\u001b[0;31mOut[3:3]: \u001b[0marray([0.97657274, 0.1112342 ])"
      ]
     },
     "metadata": {
      "after": [],
      "completed": "2021-04-21T19:24:09.251973",
      "data": {},
      "engine_id": 3,
      "engine_uuid": "de626f29-e6d169893019bfd51d45a91b",
      "error": null,
      "execute_input": "sum(a)",
      "execute_result": {
       "data": {
        "text/plain": "array([0.97657274, 0.1112342 ])"
       },
       "execution_count": 3,
       "metadata": {}
      },
      "follow": [],
      "msg_id": "1b651b6c-ea37315c8c9525e4a6c85210_44",
      "outputs": [],
      "received": "2021-04-21T19:24:09.260728",
      "started": "2021-04-21T19:24:09.246499",
      "status": "ok",
      "stderr": "",
      "stdout": "",
      "submitted": "2021-04-21T19:24:09.244284"
     },
     "output_type": "display_data"
    },
    {
     "data": {
      "text/plain": [
       "\u001b[0;31mOut[4:3]: \u001b[0marray([0.65061996, 1.80508269])"
      ]
     },
     "metadata": {
      "after": [],
      "completed": "2021-04-21T19:24:09.251925",
      "data": {},
      "engine_id": 4,
      "engine_uuid": "34969f63-2fb1726ab5c7b7bb4c33b2d7",
      "error": null,
      "execute_input": "sum(a)",
      "execute_result": {
       "data": {
        "text/plain": "array([0.65061996, 1.80508269])"
       },
       "execution_count": 3,
       "metadata": {}
      },
      "follow": [],
      "msg_id": "1b651b6c-ea37315c8c9525e4a6c85210_45",
      "outputs": [],
      "received": "2021-04-21T19:24:09.259436",
      "started": "2021-04-21T19:24:09.246515",
      "status": "ok",
      "stderr": "",
      "stdout": "",
      "submitted": "2021-04-21T19:24:09.244450"
     },
     "output_type": "display_data"
    },
    {
     "data": {
      "text/plain": [
       "\u001b[0;31mOut[5:3]: \u001b[0marray([1.35370379, 1.35157998])"
      ]
     },
     "metadata": {
      "after": [],
      "completed": "2021-04-21T19:24:09.252070",
      "data": {},
      "engine_id": 5,
      "engine_uuid": "ab267532-758665c215fef949bce91b80",
      "error": null,
      "execute_input": "sum(a)",
      "execute_result": {
       "data": {
        "text/plain": "array([1.35370379, 1.35157998])"
       },
       "execution_count": 3,
       "metadata": {}
      },
      "follow": [],
      "msg_id": "1b651b6c-ea37315c8c9525e4a6c85210_46",
      "outputs": [],
      "received": "2021-04-21T19:24:09.263868",
      "started": "2021-04-21T19:24:09.246591",
      "status": "ok",
      "stderr": "",
      "stdout": "",
      "submitted": "2021-04-21T19:24:09.244520"
     },
     "output_type": "display_data"
    },
    {
     "data": {
      "text/plain": [
       "\u001b[0;31mOut[6:3]: \u001b[0marray([0.40931096, 0.35748219])"
      ]
     },
     "metadata": {
      "after": [],
      "completed": "2021-04-21T19:24:09.251950",
      "data": {},
      "engine_id": 6,
      "engine_uuid": "9280a894-5fa152e03855979dd9d09ac9",
      "error": null,
      "execute_input": "sum(a)",
      "execute_result": {
       "data": {
        "text/plain": "array([0.40931096, 0.35748219])"
       },
       "execution_count": 3,
       "metadata": {}
      },
      "follow": [],
      "msg_id": "1b651b6c-ea37315c8c9525e4a6c85210_47",
      "outputs": [],
      "received": "2021-04-21T19:24:09.258086",
      "started": "2021-04-21T19:24:09.246530",
      "status": "ok",
      "stderr": "",
      "stdout": "",
      "submitted": "2021-04-21T19:24:09.244591"
     },
     "output_type": "display_data"
    },
    {
     "data": {
      "text/plain": [
       "\u001b[0;31mOut[7:3]: \u001b[0marray([1.60166981, 1.21792147])"
      ]
     },
     "metadata": {
      "after": [],
      "completed": "2021-04-21T19:24:09.251919",
      "data": {},
      "engine_id": 7,
      "engine_uuid": "1ed0c60e-9b63daf4b4733c314b586f0e",
      "error": null,
      "execute_input": "sum(a)",
      "execute_result": {
       "data": {
        "text/plain": "array([1.60166981, 1.21792147])"
       },
       "execution_count": 3,
       "metadata": {}
      },
      "follow": [],
      "msg_id": "1b651b6c-ea37315c8c9525e4a6c85210_48",
      "outputs": [],
      "received": "2021-04-21T19:24:09.256395",
      "started": "2021-04-21T19:24:09.246554",
      "status": "ok",
      "stderr": "",
      "stdout": "",
      "submitted": "2021-04-21T19:24:09.244649"
     },
     "output_type": "display_data"
    },
    {
     "data": {
      "text/plain": [
       "\u001b[0;31mOut[8:3]: \u001b[0marray([1.17631177, 1.22762898])"
      ]
     },
     "metadata": {
      "after": [],
      "completed": "2021-04-21T19:24:09.252111",
      "data": {},
      "engine_id": 8,
      "engine_uuid": "21e8562c-8e4ea8d1079f7a088b044caf",
      "error": null,
      "execute_input": "sum(a)",
      "execute_result": {
       "data": {
        "text/plain": "array([1.17631177, 1.22762898])"
       },
       "execution_count": 3,
       "metadata": {}
      },
      "follow": [],
      "msg_id": "1b651b6c-ea37315c8c9525e4a6c85210_49",
      "outputs": [],
      "received": "2021-04-21T19:24:09.262303",
      "started": "2021-04-21T19:24:09.246617",
      "status": "ok",
      "stderr": "",
      "stdout": "",
      "submitted": "2021-04-21T19:24:09.244709"
     },
     "output_type": "display_data"
    },
    {
     "data": {
      "text/plain": [
       "\u001b[0;31mOut[9:3]: \u001b[0marray([0.5252239 , 1.27335941])"
      ]
     },
     "metadata": {
      "after": [],
      "completed": "2021-04-21T19:24:09.252207",
      "data": {},
      "engine_id": 9,
      "engine_uuid": "7689cee4-6072f015d25b7bee1e38b543",
      "error": null,
      "execute_input": "sum(a)",
      "execute_result": {
       "data": {
        "text/plain": "array([0.5252239 , 1.27335941])"
       },
       "execution_count": 3,
       "metadata": {}
      },
      "follow": [],
      "msg_id": "1b651b6c-ea37315c8c9525e4a6c85210_50",
      "outputs": [],
      "received": "2021-04-21T19:24:09.265473",
      "started": "2021-04-21T19:24:09.246656",
      "status": "ok",
      "stderr": "",
      "stdout": "",
      "submitted": "2021-04-21T19:24:09.244769"
     },
     "output_type": "display_data"
    }
   ],
   "source": [
    "%px sum(a)"
   ]
  },
  {
   "cell_type": "code",
   "execution_count": 10,
   "id": "based-logic",
   "metadata": {},
   "outputs": [],
   "source": [
    "# Using the direct interface instead of %px magic\n",
    "dview = rc[:]\n",
    "parallel_result = dview.map_sync(lambda x: x**10, range(32))"
   ]
  },
  {
   "cell_type": "code",
   "execution_count": 9,
   "id": "sporting-shuttle",
   "metadata": {},
   "outputs": [
    {
     "name": "stdout",
     "output_type": "stream",
     "text": [
      "[0, 1, 1024, 59049, 1048576, 9765625, 60466176, 282475249, 1073741824, 3486784401, 10000000000, 25937424601, 61917364224, 137858491849, 289254654976, 576650390625, 1099511627776, 2015993900449, 3570467226624, 6131066257801, 10240000000000, 16679880978201, 26559922791424, 41426511213649, 63403380965376, 95367431640625, 141167095653376, 205891132094649, 296196766695424, 420707233300201, 590490000000000, 819628286980801]\n"
     ]
    }
   ],
   "source": [
    "print (parallel_result)"
   ]
  }
 ],
 "metadata": {
  "kernelspec": {
   "display_name": "Python 3",
   "language": "python",
   "name": "python3"
  },
  "language_info": {
   "codemirror_mode": {
    "name": "ipython",
    "version": 3
   },
   "file_extension": ".py",
   "mimetype": "text/x-python",
   "name": "python",
   "nbconvert_exporter": "python",
   "pygments_lexer": "ipython3",
   "version": "3.8.8"
  }
 },
 "nbformat": 4,
 "nbformat_minor": 5
}
