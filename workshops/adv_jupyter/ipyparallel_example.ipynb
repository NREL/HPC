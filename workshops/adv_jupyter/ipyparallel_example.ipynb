{
 "cells": [
  {
   "cell_type": "code",
   "execution_count": 1,
   "id": "fifth-turkey",
   "metadata": {},
   "outputs": [],
   "source": [
    "import os\n",
    "import ipyparallel as ipp\n",
    "\n",
    "rc = ipp.Client()\n",
    "ar = rc[:].apply_async(os.getpid)\n",
    "pid_map = ar.get_dict()"
   ]
  },
  {
   "cell_type": "code",
   "execution_count": 2,
   "id": "mighty-upper",
   "metadata": {},
   "outputs": [
    {
     "name": "stdout",
     "output_type": "stream",
     "text": [
      "{0: 46735, 1: 46743, 2: 46752, 3: 46761, 4: 46770, 5: 46786, 6: 46802, 7: 46818, 8: 46835, 9: 46851}\n"
     ]
    }
   ],
   "source": [
    "print (pid_map)"
   ]
  },
  {
   "cell_type": "code",
   "execution_count": 9,
   "id": "appreciated-navigator",
   "metadata": {},
   "outputs": [
    {
     "name": "stdout",
     "output_type": "stream",
     "text": [
      "importing numpy on engine(s)\n"
     ]
    }
   ],
   "source": [
    "# Imports numpy on all workers\n",
    "with rc[:].sync_imports():\n",
    "    import numpy\n"
   ]
  },
  {
   "cell_type": "code",
   "execution_count": 13,
   "id": "minute-disease",
   "metadata": {},
   "outputs": [],
   "source": [
    "# Runs the numpy command on all workers in parallel\n",
    "%px a = numpy.random.rand(2,2)"
   ]
  },
  {
   "cell_type": "code",
   "execution_count": 15,
   "id": "matched-smile",
   "metadata": {},
   "outputs": [
    {
     "name": "stdout",
     "output_type": "stream",
     "text": [
      "[stdout:0] \n",
      "[[0.20237298 0.38307942]\n",
      " [0.70613644 0.08770603]]\n",
      "[stdout:1] \n",
      "[[0.58618203 0.69179008]\n",
      " [0.08336017 0.36715467]]\n",
      "[stdout:2] \n",
      "[[0.99506328 0.03451413]\n",
      " [0.71417828 0.51273679]]\n",
      "[stdout:3] \n",
      "[[0.32670426 0.21691912]\n",
      " [0.93437067 0.37388136]]\n",
      "[stdout:4] \n",
      "[[0.19922946 0.70604622]\n",
      " [0.22301556 0.25499656]]\n",
      "[stdout:5] \n",
      "[[0.07976548 0.73881196]\n",
      " [0.90999392 0.01561677]]\n",
      "[stdout:6] \n",
      "[[0.62862349 0.60812827]\n",
      " [0.58736609 0.78348685]]\n",
      "[stdout:7] \n",
      "[[0.99958034 0.01716913]\n",
      " [0.23347221 0.65804518]]\n",
      "[stdout:8] \n",
      "[[0.35327823 0.24312117]\n",
      " [0.21208876 0.62567883]]\n",
      "[stdout:9] \n",
      "[[0.77905299 0.7570841 ]\n",
      " [0.69437286 0.61570489]]\n"
     ]
    }
   ],
   "source": [
    "%px print (a)"
   ]
  },
  {
   "cell_type": "code",
   "execution_count": 16,
   "id": "gentle-voluntary",
   "metadata": {},
   "outputs": [
    {
     "data": {
      "text/plain": [
       "\u001b[0;31mOut[0:9]: \u001b[0marray([0.90850942, 0.47078545])"
      ]
     },
     "metadata": {
      "after": [],
      "completed": "2021-04-21T18:57:20.352516",
      "data": {},
      "engine_id": 0,
      "engine_uuid": "6d75301b-ff21a054803ef0defc73551a",
      "error": null,
      "execute_input": "sum(a)",
      "execute_result": {
       "data": {
        "text/plain": "array([0.90850942, 0.47078545])"
       },
       "execution_count": 9,
       "metadata": {}
      },
      "follow": [],
      "msg_id": "5703dd9c-92efcc0a7d6a302ca2502bbb_101",
      "outputs": [],
      "received": "2021-04-21T18:57:20.353943",
      "started": "2021-04-21T18:57:20.350420",
      "status": "ok",
      "stderr": "",
      "stdout": "",
      "submitted": "2021-04-21T18:57:20.349150"
     },
     "output_type": "display_data"
    },
    {
     "data": {
      "text/plain": [
       "\u001b[0;31mOut[1:9]: \u001b[0marray([0.6695422 , 1.05894475])"
      ]
     },
     "metadata": {
      "after": [],
      "completed": "2021-04-21T18:57:20.354023",
      "data": {},
      "engine_id": 1,
      "engine_uuid": "9764c774-279a0b678c06841f9e24e649",
      "error": null,
      "execute_input": "sum(a)",
      "execute_result": {
       "data": {
        "text/plain": "array([0.6695422 , 1.05894475])"
       },
       "execution_count": 9,
       "metadata": {}
      },
      "follow": [],
      "msg_id": "5703dd9c-92efcc0a7d6a302ca2502bbb_102",
      "outputs": [],
      "received": "2021-04-21T18:57:20.355296",
      "started": "2021-04-21T18:57:20.351989",
      "status": "ok",
      "stderr": "",
      "stdout": "",
      "submitted": "2021-04-21T18:57:20.349714"
     },
     "output_type": "display_data"
    },
    {
     "data": {
      "text/plain": [
       "\u001b[0;31mOut[2:9]: \u001b[0marray([1.70924156, 0.54725092])"
      ]
     },
     "metadata": {
      "after": [],
      "completed": "2021-04-21T18:57:20.354444",
      "data": {},
      "engine_id": 2,
      "engine_uuid": "6a4c1326-f89e51d46a4cbe71bd85f7cb",
      "error": null,
      "execute_input": "sum(a)",
      "execute_result": {
       "data": {
        "text/plain": "array([1.70924156, 0.54725092])"
       },
       "execution_count": 9,
       "metadata": {}
      },
      "follow": [],
      "msg_id": "5703dd9c-92efcc0a7d6a302ca2502bbb_103",
      "outputs": [],
      "received": "2021-04-21T18:57:20.357044",
      "started": "2021-04-21T18:57:20.352179",
      "status": "ok",
      "stderr": "",
      "stdout": "",
      "submitted": "2021-04-21T18:57:20.349803"
     },
     "output_type": "display_data"
    },
    {
     "data": {
      "text/plain": [
       "\u001b[0;31mOut[3:9]: \u001b[0marray([1.26107493, 0.59080047])"
      ]
     },
     "metadata": {
      "after": [],
      "completed": "2021-04-21T18:57:20.354224",
      "data": {},
      "engine_id": 3,
      "engine_uuid": "c759f0a9-db4201457f47c7dd595cdca8",
      "error": null,
      "execute_input": "sum(a)",
      "execute_result": {
       "data": {
        "text/plain": "array([1.26107493, 0.59080047])"
       },
       "execution_count": 9,
       "metadata": {}
      },
      "follow": [],
      "msg_id": "5703dd9c-92efcc0a7d6a302ca2502bbb_104",
      "outputs": [],
      "received": "2021-04-21T18:57:20.355882",
      "started": "2021-04-21T18:57:20.352169",
      "status": "ok",
      "stderr": "",
      "stdout": "",
      "submitted": "2021-04-21T18:57:20.349865"
     },
     "output_type": "display_data"
    },
    {
     "data": {
      "text/plain": [
       "\u001b[0;31mOut[4:9]: \u001b[0marray([0.42224503, 0.96104278])"
      ]
     },
     "metadata": {
      "after": [],
      "completed": "2021-04-21T18:57:20.354539",
      "data": {},
      "engine_id": 4,
      "engine_uuid": "f8f50a09-2aa6a89f7fa4e929890015f7",
      "error": null,
      "execute_input": "sum(a)",
      "execute_result": {
       "data": {
        "text/plain": "array([0.42224503, 0.96104278])"
       },
       "execution_count": 9,
       "metadata": {}
      },
      "follow": [],
      "msg_id": "5703dd9c-92efcc0a7d6a302ca2502bbb_105",
      "outputs": [],
      "received": "2021-04-21T18:57:20.359354",
      "started": "2021-04-21T18:57:20.352357",
      "status": "ok",
      "stderr": "",
      "stdout": "",
      "submitted": "2021-04-21T18:57:20.349925"
     },
     "output_type": "display_data"
    },
    {
     "data": {
      "text/plain": [
       "\u001b[0;31mOut[5:9]: \u001b[0marray([0.9897594 , 0.75442873])"
      ]
     },
     "metadata": {
      "after": [],
      "completed": "2021-04-21T18:57:20.354604",
      "data": {},
      "engine_id": 5,
      "engine_uuid": "ab2ac91a-b0dfefaf029d72c411b3c581",
      "error": null,
      "execute_input": "sum(a)",
      "execute_result": {
       "data": {
        "text/plain": "array([0.9897594 , 0.75442873])"
       },
       "execution_count": 9,
       "metadata": {}
      },
      "follow": [],
      "msg_id": "5703dd9c-92efcc0a7d6a302ca2502bbb_106",
      "outputs": [],
      "received": "2021-04-21T18:57:20.359926",
      "started": "2021-04-21T18:57:20.352399",
      "status": "ok",
      "stderr": "",
      "stdout": "",
      "submitted": "2021-04-21T18:57:20.349983"
     },
     "output_type": "display_data"
    },
    {
     "data": {
      "text/plain": [
       "\u001b[0;31mOut[6:9]: \u001b[0marray([1.21598958, 1.39161512])"
      ]
     },
     "metadata": {
      "after": [],
      "completed": "2021-04-21T18:57:20.354423",
      "data": {},
      "engine_id": 6,
      "engine_uuid": "e9239d0c-268219d6c2d60174e38de323",
      "error": null,
      "execute_input": "sum(a)",
      "execute_result": {
       "data": {
        "text/plain": "array([1.21598958, 1.39161512])"
       },
       "execution_count": 9,
       "metadata": {}
      },
      "follow": [],
      "msg_id": "5703dd9c-92efcc0a7d6a302ca2502bbb_107",
      "outputs": [],
      "received": "2021-04-21T18:57:20.358775",
      "started": "2021-04-21T18:57:20.352358",
      "status": "ok",
      "stderr": "",
      "stdout": "",
      "submitted": "2021-04-21T18:57:20.350041"
     },
     "output_type": "display_data"
    },
    {
     "data": {
      "text/plain": [
       "\u001b[0;31mOut[7:9]: \u001b[0marray([1.23305255, 0.6752143 ])"
      ]
     },
     "metadata": {
      "after": [],
      "completed": "2021-04-21T18:57:20.354513",
      "data": {},
      "engine_id": 7,
      "engine_uuid": "ae05e3f6-03e75437285559997cbd3540",
      "error": null,
      "execute_input": "sum(a)",
      "execute_result": {
       "data": {
        "text/plain": "array([1.23305255, 0.6752143 ])"
       },
       "execution_count": 9,
       "metadata": {}
      },
      "follow": [],
      "msg_id": "5703dd9c-92efcc0a7d6a302ca2502bbb_108",
      "outputs": [],
      "received": "2021-04-21T18:57:20.358197",
      "started": "2021-04-21T18:57:20.352389",
      "status": "ok",
      "stderr": "",
      "stdout": "",
      "submitted": "2021-04-21T18:57:20.350172"
     },
     "output_type": "display_data"
    },
    {
     "data": {
      "text/plain": [
       "\u001b[0;31mOut[8:9]: \u001b[0marray([0.565367, 0.8688  ])"
      ]
     },
     "metadata": {
      "after": [],
      "completed": "2021-04-21T18:57:20.354405",
      "data": {},
      "engine_id": 8,
      "engine_uuid": "33d871da-c4165afb014f8929d0e09cfb",
      "error": null,
      "execute_input": "sum(a)",
      "execute_result": {
       "data": {
        "text/plain": "array([0.565367, 0.8688  ])"
       },
       "execution_count": 9,
       "metadata": {}
      },
      "follow": [],
      "msg_id": "5703dd9c-92efcc0a7d6a302ca2502bbb_109",
      "outputs": [],
      "received": "2021-04-21T18:57:20.356463",
      "started": "2021-04-21T18:57:20.352381",
      "status": "ok",
      "stderr": "",
      "stdout": "",
      "submitted": "2021-04-21T18:57:20.350233"
     },
     "output_type": "display_data"
    },
    {
     "data": {
      "text/plain": [
       "\u001b[0;31mOut[9:9]: \u001b[0marray([1.47342585, 1.37278899])"
      ]
     },
     "metadata": {
      "after": [],
      "completed": "2021-04-21T18:57:20.354495",
      "data": {},
      "engine_id": 9,
      "engine_uuid": "f08b0619-f444d9caa4df0cb36e7de6dd",
      "error": null,
      "execute_input": "sum(a)",
      "execute_result": {
       "data": {
        "text/plain": "array([1.47342585, 1.37278899])"
       },
       "execution_count": 9,
       "metadata": {}
      },
      "follow": [],
      "msg_id": "5703dd9c-92efcc0a7d6a302ca2502bbb_110",
      "outputs": [],
      "received": "2021-04-21T18:57:20.357626",
      "started": "2021-04-21T18:57:20.352433",
      "status": "ok",
      "stderr": "",
      "stdout": "",
      "submitted": "2021-04-21T18:57:20.350300"
     },
     "output_type": "display_data"
    }
   ],
   "source": [
    "%px sum(a)"
   ]
  },
  {
   "cell_type": "code",
   "execution_count": null,
   "id": "based-logic",
   "metadata": {},
   "outputs": [],
   "source": []
  }
 ],
 "metadata": {
  "kernelspec": {
   "display_name": "Python 3",
   "language": "python",
   "name": "python3"
  },
  "language_info": {
   "codemirror_mode": {
    "name": "ipython",
    "version": 3
   },
   "file_extension": ".py",
   "mimetype": "text/x-python",
   "name": "python",
   "nbconvert_exporter": "python",
   "pygments_lexer": "ipython3",
   "version": "3.8.8"
  }
 },
 "nbformat": 4,
 "nbformat_minor": 5
}
