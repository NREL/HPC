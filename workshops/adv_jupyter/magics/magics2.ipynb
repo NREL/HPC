{
 "cells": [
  {
   "cell_type": "markdown",
   "id": "2a1bf27d",
   "metadata": {},
   "source": [
    "# The Basics\n"
   ]
  },
  {
   "cell_type": "code",
   "execution_count": 34,
   "id": "e84e7cd3",
   "metadata": {},
   "outputs": [
    {
     "data": {
      "application/json": {
       "cell": {
        "!": "OSMagics",
        "HTML": "Other",
        "SVG": "Other",
        "bash": "Other",
        "capture": "ExecutionMagics",
        "debug": "ExecutionMagics",
        "file": "Other",
        "html": "DisplayMagics",
        "javascript": "DisplayMagics",
        "js": "DisplayMagics",
        "latex": "DisplayMagics",
        "markdown": "DisplayMagics",
        "perl": "Other",
        "prun": "ExecutionMagics",
        "pypy": "Other",
        "python": "Other",
        "python2": "Other",
        "python3": "Other",
        "ruby": "Other",
        "script": "ScriptMagics",
        "sh": "Other",
        "svg": "DisplayMagics",
        "sx": "OSMagics",
        "system": "OSMagics",
        "time": "ExecutionMagics",
        "timeit": "ExecutionMagics",
        "writefile": "OSMagics"
       },
       "line": {
        "alias": "OSMagics",
        "alias_magic": "BasicMagics",
        "autoawait": "AsyncMagics",
        "autocall": "AutoMagics",
        "automagic": "AutoMagics",
        "autosave": "KernelMagics",
        "bookmark": "OSMagics",
        "cat": "Other",
        "cd": "OSMagics",
        "clear": "KernelMagics",
        "colors": "BasicMagics",
        "conda": "PackagingMagics",
        "config": "ConfigMagics",
        "connect_info": "KernelMagics",
        "cp": "Other",
        "debug": "ExecutionMagics",
        "dhist": "OSMagics",
        "dirs": "OSMagics",
        "doctest_mode": "BasicMagics",
        "ed": "Other",
        "edit": "KernelMagics",
        "env": "OSMagics",
        "gui": "BasicMagics",
        "hist": "Other",
        "history": "HistoryMagics",
        "killbgscripts": "ScriptMagics",
        "ldir": "Other",
        "less": "KernelMagics",
        "lf": "Other",
        "lk": "Other",
        "ll": "Other",
        "load": "CodeMagics",
        "load_ext": "ExtensionMagics",
        "loadpy": "CodeMagics",
        "logoff": "LoggingMagics",
        "logon": "LoggingMagics",
        "logstart": "LoggingMagics",
        "logstate": "LoggingMagics",
        "logstop": "LoggingMagics",
        "ls": "Other",
        "lsmagic": "BasicMagics",
        "lx": "Other",
        "macro": "ExecutionMagics",
        "magic": "BasicMagics",
        "man": "KernelMagics",
        "matplotlib": "PylabMagics",
        "mkdir": "Other",
        "more": "KernelMagics",
        "mv": "Other",
        "notebook": "BasicMagics",
        "page": "BasicMagics",
        "pastebin": "CodeMagics",
        "pdb": "ExecutionMagics",
        "pdef": "NamespaceMagics",
        "pdoc": "NamespaceMagics",
        "pfile": "NamespaceMagics",
        "pinfo": "NamespaceMagics",
        "pinfo2": "NamespaceMagics",
        "pip": "PackagingMagics",
        "popd": "OSMagics",
        "pprint": "BasicMagics",
        "precision": "BasicMagics",
        "prun": "ExecutionMagics",
        "psearch": "NamespaceMagics",
        "psource": "NamespaceMagics",
        "pushd": "OSMagics",
        "pwd": "OSMagics",
        "pycat": "OSMagics",
        "pylab": "PylabMagics",
        "qtconsole": "KernelMagics",
        "quickref": "BasicMagics",
        "recall": "HistoryMagics",
        "rehashx": "OSMagics",
        "reload_ext": "ExtensionMagics",
        "rep": "Other",
        "rerun": "HistoryMagics",
        "reset": "NamespaceMagics",
        "reset_selective": "NamespaceMagics",
        "rm": "Other",
        "rmdir": "Other",
        "run": "ExecutionMagics",
        "save": "CodeMagics",
        "sc": "OSMagics",
        "set_env": "OSMagics",
        "store": "StoreMagics",
        "sx": "OSMagics",
        "system": "OSMagics",
        "tb": "ExecutionMagics",
        "time": "ExecutionMagics",
        "timeit": "ExecutionMagics",
        "unalias": "OSMagics",
        "unload_ext": "ExtensionMagics",
        "who": "NamespaceMagics",
        "who_ls": "NamespaceMagics",
        "whos": "NamespaceMagics",
        "xdel": "NamespaceMagics",
        "xmode": "BasicMagics"
       }
      },
      "text/plain": [
       "Available line magics:\n",
       "%alias  %alias_magic  %autoawait  %autocall  %automagic  %autosave  %bookmark  %cat  %cd  %clear  %colors  %conda  %config  %connect_info  %cp  %debug  %dhist  %dirs  %doctest_mode  %ed  %edit  %env  %gui  %hist  %history  %killbgscripts  %ldir  %less  %lf  %lk  %ll  %load  %load_ext  %loadpy  %logoff  %logon  %logstart  %logstate  %logstop  %ls  %lsmagic  %lx  %macro  %magic  %man  %matplotlib  %mkdir  %more  %mv  %notebook  %page  %pastebin  %pdb  %pdef  %pdoc  %pfile  %pinfo  %pinfo2  %pip  %popd  %pprint  %precision  %prun  %psearch  %psource  %pushd  %pwd  %pycat  %pylab  %qtconsole  %quickref  %recall  %rehashx  %reload_ext  %rep  %rerun  %reset  %reset_selective  %rm  %rmdir  %run  %save  %sc  %set_env  %store  %sx  %system  %tb  %time  %timeit  %unalias  %unload_ext  %who  %who_ls  %whos  %xdel  %xmode\n",
       "\n",
       "Available cell magics:\n",
       "%%!  %%HTML  %%SVG  %%bash  %%capture  %%debug  %%file  %%html  %%javascript  %%js  %%latex  %%markdown  %%perl  %%prun  %%pypy  %%python  %%python2  %%python3  %%ruby  %%script  %%sh  %%svg  %%sx  %%system  %%time  %%timeit  %%writefile\n",
       "\n",
       "Automagic is ON, % prefix IS NOT needed for line magics."
      ]
     },
     "execution_count": 34,
     "metadata": {},
     "output_type": "execute_result"
    }
   ],
   "source": [
    "# List the available magic commands\n",
    "%lsmagic\n"
   ]
  },
  {
   "cell_type": "markdown",
   "id": "cfc4ad3a",
   "metadata": {},
   "source": [
    "### line vs cell magic\n",
    "**Line magic** A line magic, such as `%time`, runs the magic command just for the specified line. \n",
    "\n",
    "**Cell magic** Likewise, a cell magic such as `%%time` runs the magic command for the entire cell."
   ]
  },
  {
   "cell_type": "markdown",
   "id": "0a40e880",
   "metadata": {},
   "source": [
    "# Timing\n",
    "Using Jupyter magic commands can be useful for understanding the performance of your code and provide "
   ]
  },
  {
   "cell_type": "code",
   "execution_count": 1,
   "id": "8e1f8435",
   "metadata": {},
   "outputs": [
    {
     "name": "stdout",
     "output_type": "stream",
     "text": [
      "CPU times: user 2 µs, sys: 1 µs, total: 3 µs\n",
      "Wall time: 4.77 µs\n",
      "hello\n"
     ]
    }
   ],
   "source": [
    "%time\n",
    "print(\"hello\")"
   ]
  },
  {
   "cell_type": "code",
   "execution_count": 3,
   "id": "9533c8ce",
   "metadata": {
    "scrolled": true
   },
   "outputs": [
    {
     "name": "stdout",
     "output_type": "stream",
     "text": [
      "hello\n",
      "CPU times: user 128 µs, sys: 64 µs, total: 192 µs\n",
      "Wall time: 168 µs\n"
     ]
    }
   ],
   "source": [
    "%%time\n",
    "print(\"hello\")"
   ]
  },
  {
   "cell_type": "code",
   "execution_count": 30,
   "id": "c46e9ff8",
   "metadata": {},
   "outputs": [
    {
     "name": "stdout",
     "output_type": "stream",
     "text": [
      " "
     ]
    }
   ],
   "source": [
    "%%prun\n",
    "import time\n",
    "\n",
    "def test():\n",
    "    for i in range(5):\n",
    "        time.sleep(5)\n",
    "test()\n"
   ]
  },
  {
   "cell_type": "markdown",
   "id": "3fb7be44",
   "metadata": {},
   "source": [
    "The output from `prun` provides details for all function calls in the profiled code. This can be used to understand functions which are taking longer \n",
    "```\n",
    "9 function calls in 25.014 seconds\n",
    "\n",
    "   Ordered by: internal time\n",
    "\n",
    "   ncalls  tottime  percall  cumtime  percall filename:lineno(function)\n",
    "        5   25.014    5.003   25.014    5.003 {built-in method time.sleep}\n",
    "        1    0.000    0.000   25.014   25.014 {built-in method builtins.exec}\n",
    "        1    0.000    0.000   25.014   25.014 <string>:3(test)\n",
    "        1    0.000    0.000   25.014   25.014 <string>:1(<module>)\n",
    "        1    0.000    0.000    0.000    0.000 {method 'disable' of '_lsprof.Profiler' objects}\n",
    "```"
   ]
  },
  {
   "cell_type": "markdown",
   "id": "7068f583",
   "metadata": {},
   "source": [
    "# Getting information on variables\n"
   ]
  },
  {
   "cell_type": "code",
   "execution_count": 7,
   "id": "855bc12b",
   "metadata": {},
   "outputs": [],
   "source": [
    "x = \"my string\"\n",
    "y = 1\n",
    "%pinfo x\n"
   ]
  },
  {
   "cell_type": "code",
   "execution_count": 37,
   "id": "5a810d12",
   "metadata": {},
   "outputs": [
    {
     "name": "stdout",
     "output_type": "stream",
     "text": [
      "test\t test2\t time\t x\t y\t \n"
     ]
    }
   ],
   "source": [
    "%who "
   ]
  },
  {
   "cell_type": "code",
   "execution_count": 35,
   "id": "de10eb32",
   "metadata": {},
   "outputs": [],
   "source": [
    "%pinfo y"
   ]
  },
  {
   "cell_type": "code",
   "execution_count": 10,
   "id": "4cb4cc1f",
   "metadata": {},
   "outputs": [
    {
     "name": "stdout",
     "output_type": "stream",
     "text": [
      "\u001b[34mGPU\u001b[m\u001b[m                       ipyparallel_example.ipynb \u001b[34mstuff\u001b[m\u001b[m\r\n",
      "README.md                 magics.ipynb\r\n",
      "\u001b[34mSlurm_multinode\u001b[m\u001b[m           \u001b[34mpapermill\u001b[m\u001b[m\r\n"
     ]
    }
   ],
   "source": [
    "!ls\n"
   ]
  },
  {
   "cell_type": "markdown",
   "id": "4bc1b636",
   "metadata": {},
   "source": [
    "# Working with other files"
   ]
  },
  {
   "cell_type": "code",
   "execution_count": 14,
   "id": "abb2c3ac",
   "metadata": {},
   "outputs": [
    {
     "name": "stdout",
     "output_type": "stream",
     "text": [
      "Pre-processing some data\n"
     ]
    }
   ],
   "source": [
    "# Run another python script from within a notebook. \n",
    "# This can be useful to run scripts which handle pre-processing of your data or similar.\n",
    "%run preprocess.py"
   ]
  },
  {
   "cell_type": "markdown",
   "id": "b72883cf",
   "metadata": {},
   "source": [
    "### Load\n",
    "The `%load` magic command will load the contents of a file into the cell and execute the contents when the cell is run\n"
   ]
  },
  {
   "cell_type": "code",
   "execution_count": 18,
   "id": "be917238",
   "metadata": {},
   "outputs": [
    {
     "name": "stdout",
     "output_type": "stream",
     "text": [
      "Pre-processing some data\n"
     ]
    }
   ],
   "source": [
    "%load preprocess.py"
   ]
  },
  {
   "cell_type": "markdown",
   "id": "9c45f8d5",
   "metadata": {},
   "source": [
    "### Writing the contents of a cell to a file"
   ]
  },
  {
   "cell_type": "code",
   "execution_count": 22,
   "id": "a8513009",
   "metadata": {},
   "outputs": [
    {
     "name": "stdout",
     "output_type": "stream",
     "text": [
      "Writing cell_out.py\n"
     ]
    }
   ],
   "source": [
    "%%writefile cell_out.py\n",
    "\n",
    "def myfunc():\n",
    "    return 100"
   ]
  },
  {
   "cell_type": "code",
   "execution_count": null,
   "id": "0eb62292",
   "metadata": {},
   "outputs": [],
   "source": []
  },
  {
   "cell_type": "code",
   "execution_count": null,
   "id": "2be2fdbf",
   "metadata": {},
   "outputs": [],
   "source": []
  }
 ],
 "metadata": {
  "kernelspec": {
   "display_name": "Python 3",
   "language": "python",
   "name": "python3"
  },
  "language_info": {
   "codemirror_mode": {
    "name": "ipython",
    "version": 3
   },
   "file_extension": ".py",
   "mimetype": "text/x-python",
   "name": "python",
   "nbconvert_exporter": "python",
   "pygments_lexer": "ipython3",
   "version": "3.8.8"
  }
 },
 "nbformat": 4,
 "nbformat_minor": 5
}
