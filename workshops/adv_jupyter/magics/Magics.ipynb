{
 "cells": [
  {
   "cell_type": "markdown",
   "metadata": {},
   "source": [
    "## Meta-commands (about magics)"
   ]
  },
  {
   "cell_type": "code",
   "execution_count": null,
   "metadata": {},
   "outputs": [],
   "source": [
    "%lsmagic"
   ]
  },
  {
   "cell_type": "code",
   "execution_count": null,
   "metadata": {},
   "outputs": [],
   "source": [
    "%automagic"
   ]
  },
  {
   "cell_type": "code",
   "execution_count": null,
   "metadata": {},
   "outputs": [],
   "source": [
    "%magic"
   ]
  },
  {
   "cell_type": "code",
   "execution_count": null,
   "metadata": {},
   "outputs": [],
   "source": [
    "%quickref"
   ]
  },
  {
   "cell_type": "markdown",
   "metadata": {},
   "source": [
    "Magics come in _line_ and _cell_ flavors.\n",
    "* Line magics affect only one line within a cell\n",
    "* Cell magics affect everything inside the cell"
   ]
  },
  {
   "cell_type": "code",
   "execution_count": null,
   "metadata": {},
   "outputs": [],
   "source": [
    "%system ls | head -5\n",
    "print(\"The %system magic only affects the first line, so this cell runs correctly.\\nMy Python command however eclipses system output. See what happens if you comment me out.\")"
   ]
  },
  {
   "cell_type": "code",
   "execution_count": null,
   "metadata": {},
   "outputs": [],
   "source": [
    "%%bash\n",
    "ls | head -5\n",
    "print(\"As Python code, I will break this cell. Run this cell with and without commenting me out.\")\n",
    "echo; echo 'Hello'"
   ]
  },
  {
   "cell_type": "markdown",
   "metadata": {},
   "source": [
    "## Environment magics\n",
    "These are useful for querying and manipulating both the shell environment in which a notebook is running, and the notebook environment itself."
   ]
  },
  {
   "cell_type": "code",
   "execution_count": null,
   "metadata": {},
   "outputs": [],
   "source": [
    "# What directory am I in?\n",
    "%pwd"
   ]
  },
  {
   "cell_type": "code",
   "execution_count": null,
   "metadata": {},
   "outputs": [],
   "source": [
    "# What's in this directory?\n",
    "%ls"
   ]
  },
  {
   "cell_type": "code",
   "execution_count": null,
   "metadata": {},
   "outputs": [],
   "source": [
    "# Let's find just the non-hidden directories in this one with a Bash one-liner.\n",
    "#  Magics can be used on the right side of an assignment.\n",
    "mydirs_a = %sx find . -maxdepth 1 -type d -not -name '.*'\n",
    "print(mydirs_a[0:2])"
   ]
  },
  {
   "cell_type": "markdown",
   "metadata": {},
   "source": [
    "Shell environment variables can be queried and set via `%env`. However, the `%set_env` magic may make your intent clearer."
   ]
  },
  {
   "cell_type": "code",
   "execution_count": null,
   "metadata": {},
   "outputs": [],
   "source": [
    "# List all environment variables. Produces a dict\n",
    "%env"
   ]
  },
  {
   "cell_type": "code",
   "execution_count": null,
   "metadata": {},
   "outputs": [],
   "source": [
    "# Set with multiple values provided, using an optional equals sign; query specifically by leaving it out.\n",
    "%env GOOBERS1=true\n",
    "%set_env GOOBERS2=/arbitrary/path\n",
    "%env GOOBERS1 GOOBERS2 # Doesn't query two variables, rather sets the first equal to everything after it.\n",
    "%env GOOBERS1"
   ]
  },
  {
   "cell_type": "markdown",
   "metadata": {},
   "source": [
    "Although these are line magics, they have effects for all following cells.\n",
    "The `%precision` magic is a convenience magic with a similar property."
   ]
  },
  {
   "cell_type": "code",
   "execution_count": null,
   "metadata": {},
   "outputs": [],
   "source": [
    "a = 1/3.\n",
    "%precision 3\n",
    "a"
   ]
  },
  {
   "cell_type": "code",
   "execution_count": null,
   "metadata": {},
   "outputs": [],
   "source": [
    "b = 2/3.\n",
    "b"
   ]
  },
  {
   "cell_type": "markdown",
   "metadata": {},
   "source": [
    "Note that this has no effect on print functions or the underlying floating point representation."
   ]
  },
  {
   "cell_type": "code",
   "execution_count": null,
   "metadata": {},
   "outputs": [],
   "source": [
    "print(a)\n",
    "print(b)"
   ]
  },
  {
   "cell_type": "code",
   "execution_count": null,
   "metadata": {},
   "outputs": [],
   "source": [
    "# Leave off the argument to reset\n",
    "%precision\n",
    "a"
   ]
  },
  {
   "cell_type": "markdown",
   "metadata": {},
   "source": [
    "## Development Magics - Environment\n",
    "\n",
    "The `%history` magic can be useful for seeing the order of operations executed in a notebook since its instance inception. This might be helpful in troubleshooting the current state of variables, since cells can be executed out of order as one develops.\n",
    "\n",
    "The `-n` option adds line numbers and allows selection of a range of lines, and `-f` permits capture to a file. "
   ]
  },
  {
   "cell_type": "code",
   "execution_count": null,
   "metadata": {},
   "outputs": [],
   "source": [
    "%history"
   ]
  },
  {
   "cell_type": "markdown",
   "metadata": {},
   "source": [
    "You might just want to see the state of variables, rather than the path by which they got there.\n",
    "* `%who` lists names as a string\n",
    "* `%who_ls` lists names as a Python list\n",
    "* `%whos` provides names, types, and metadata (or values if a simple variable)\n",
    "\n",
    "The query can filter by variable type."
   ]
  },
  {
   "cell_type": "code",
   "execution_count": null,
   "metadata": {},
   "outputs": [],
   "source": [
    "%who"
   ]
  },
  {
   "cell_type": "code",
   "execution_count": null,
   "metadata": {},
   "outputs": [],
   "source": [
    "%who_ls"
   ]
  },
  {
   "cell_type": "code",
   "execution_count": null,
   "metadata": {},
   "outputs": [],
   "source": [
    "%whos"
   ]
  },
  {
   "cell_type": "code",
   "execution_count": null,
   "metadata": {},
   "outputs": [],
   "source": [
    "%whos float"
   ]
  },
  {
   "cell_type": "markdown",
   "metadata": {},
   "source": [
    "If you're developing and find that a set of variables has gotten corrupted in the process, the `%reset` magic is a quicker way of blowing everything away to start over than restarting the kernel. A subtler hand may use the `%reset_selective` magic to just delete variables according to a regex pattern match."
   ]
  },
  {
   "cell_type": "code",
   "execution_count": null,
   "metadata": {},
   "outputs": [],
   "source": [
    "%reset_selective -f \"^a\""
   ]
  },
  {
   "cell_type": "code",
   "execution_count": null,
   "metadata": {},
   "outputs": [],
   "source": [
    "%whos"
   ]
  },
  {
   "cell_type": "markdown",
   "metadata": {},
   "source": [
    "## Development Magics - Integration and Profiling\n",
    "\n",
    "Several magics exist for pulling in pieces of external code, as well as timing routines.\n",
    "\n",
    "For STEM, the `%pylab` magic pulls in numpy (as namespaces `numpy` and `np`), matplotlib (as namespaces `matplotlib` and `mpl`), and matplotlib.pyplot (as namespaces `matplotlib.pyplot`, `pyplot` and `plt`)."
   ]
  },
  {
   "cell_type": "code",
   "execution_count": null,
   "metadata": {},
   "outputs": [],
   "source": [
    "%pylab"
   ]
  },
  {
   "cell_type": "markdown",
   "metadata": {},
   "source": [
    "See if there is an interesting file containing functions."
   ]
  },
  {
   "cell_type": "code",
   "execution_count": null,
   "metadata": {},
   "outputs": [],
   "source": [
    "%sx ls MM.py"
   ]
  },
  {
   "cell_type": "markdown",
   "metadata": {},
   "source": [
    "See what function names are contained in that file."
   ]
  },
  {
   "cell_type": "code",
   "execution_count": null,
   "metadata": {},
   "outputs": [],
   "source": [
    "%sx grep def MM.py"
   ]
  },
  {
   "cell_type": "markdown",
   "metadata": {},
   "source": [
    "Bring in the array_multiply function for profiling"
   ]
  },
  {
   "cell_type": "code",
   "execution_count": null,
   "metadata": {},
   "outputs": [],
   "source": [
    "%load -s array_multiply MM.py"
   ]
  },
  {
   "cell_type": "code",
   "execution_count": null,
   "metadata": {},
   "outputs": [],
   "source": [
    "A = np.random.rand(200,100)\n",
    "B = np.random.rand(100,200)"
   ]
  },
  {
   "cell_type": "code",
   "execution_count": null,
   "metadata": {},
   "outputs": [],
   "source": [
    "%timeit C = array_multiply(A,B)"
   ]
  },
  {
   "cell_type": "markdown",
   "metadata": {},
   "source": [
    "Let's try to speed this up with Numba. First see if we have it installed. If not, `conda install -y numba`"
   ]
  },
  {
   "cell_type": "code",
   "execution_count": null,
   "metadata": {},
   "outputs": [],
   "source": [
    "%conda list numba"
   ]
  },
  {
   "cell_type": "markdown",
   "metadata": {},
   "source": [
    "Can now re-define the function that we brought in via the `%load` magic by pasting in after the numba decorator."
   ]
  },
  {
   "cell_type": "code",
   "execution_count": null,
   "metadata": {},
   "outputs": [],
   "source": [
    "from numba import jit\n",
    "@jit(nopython=True)\n",
    "# Paste in function from 4 cells above."
   ]
  },
  {
   "cell_type": "code",
   "execution_count": null,
   "metadata": {},
   "outputs": [],
   "source": [
    "%timeit D = array_multiply(A,B)"
   ]
  },
  {
   "cell_type": "markdown",
   "metadata": {},
   "source": [
    "Let's compare that to a numpy matrix multiplication."
   ]
  },
  {
   "cell_type": "code",
   "execution_count": null,
   "metadata": {},
   "outputs": [],
   "source": [
    "# %load -s matrix_multiply MM.py\n",
    "def matrix_multiply(a, b):\n",
    "\t\"\"\"Convert input arrays to two numpy matrices and use Numpy internals to multiply.\"\"\"\n",
    "\tassert np.shape(a)[1] == np.shape(b)[0]\n",
    "\ta_p = np.asmatrix(a)\n",
    "\tb_p = np.asmatrix(b)\n",
    "\treturn a_p * b_p\n"
   ]
  },
  {
   "cell_type": "code",
   "execution_count": null,
   "metadata": {},
   "outputs": [],
   "source": [
    "%timeit E = matrix_multiply(A,B)"
   ]
  },
  {
   "cell_type": "markdown",
   "metadata": {},
   "source": [
    "Note that although the above timings were written as assignments, no assignment is done. `%timeit` just times the function run, not overhead from making assignments."
   ]
  },
  {
   "cell_type": "code",
   "execution_count": null,
   "metadata": {},
   "outputs": [],
   "source": [
    "print(C[50,50])\n",
    "print(D[50,50])\n",
    "print(E[50,50])"
   ]
  },
  {
   "cell_type": "markdown",
   "metadata": {},
   "source": [
    "## Using Other Languages"
   ]
  },
  {
   "cell_type": "markdown",
   "metadata": {},
   "source": [
    "Maybe some LaTEX."
   ]
  },
  {
   "cell_type": "code",
   "execution_count": null,
   "metadata": {},
   "outputs": [],
   "source": [
    "%%latex\n",
    "\\begin{equation}\n",
    "\\left. \\begin{array}{lllll}\n",
    "\\lambda_{11} & = & \\cos(x'_1,x_1) & = & \\cos\\theta \\\\\n",
    "\\lambda_{12} & = & \\cos(x'_1,x_2) & = & \\cos \\bigg( \\frac{\\pi}{2} - \\theta \\bigg) = \\sin\\theta \\\\\n",
    "\\lambda_{21} & = & \\cos(x'_2,x_1) & = & \\cos \\bigg( \\frac{\\pi}{2} + \\theta \\bigg) = - \\sin\\theta \\\\\n",
    "\\lambda_{22} & = & \\cos(x'_2,x_2) & = & \\cos\\theta\n",
    "\\end{array} \\right\\}\n",
    "\\end{equation}"
   ]
  },
  {
   "cell_type": "markdown",
   "metadata": {},
   "source": [
    "Perl, because we can."
   ]
  },
  {
   "cell_type": "code",
   "execution_count": null,
   "metadata": {},
   "outputs": [],
   "source": [
    "%%perl\n",
    "\n",
    "$size=15;             # give $size value of 15\n",
    "$y = -7.78;           # give $y value of -7.78\n",
    "$z = 6 + $size;\n",
    "print $y, \"\\n\";\n",
    "print $z, \"\\n\";\n",
    "print $size-$y, \"\\n\";\n",
    "$num = 7;\n",
    "$txt = \"It is $num\";\n",
    "print $txt;"
   ]
  },
  {
   "cell_type": "markdown",
   "metadata": {},
   "source": [
    "## Repetition\n",
    "Maybe we need to do a particular selective print, or some other repetitive action. Rather than defining a function for it, a macro can be defined relative to something in the history, such as the last action you took. Say we're interested in particular matrix elements that change. Print them, define a macro relative to the last action, then just use the macro."
   ]
  },
  {
   "cell_type": "code",
   "execution_count": null,
   "metadata": {},
   "outputs": [],
   "source": [
    "print(A[0,0], B[3,10])"
   ]
  },
  {
   "cell_type": "code",
   "execution_count": null,
   "metadata": {},
   "outputs": [],
   "source": [
    "%hist -n -l 1"
   ]
  },
  {
   "cell_type": "code",
   "execution_count": null,
   "metadata": {},
   "outputs": [],
   "source": [
    "%macro myprint 43"
   ]
  },
  {
   "cell_type": "code",
   "execution_count": null,
   "metadata": {},
   "outputs": [],
   "source": [
    "myprint"
   ]
  },
  {
   "cell_type": "code",
   "execution_count": null,
   "metadata": {},
   "outputs": [],
   "source": []
  }
 ],
 "metadata": {
  "kernelspec": {
   "display_name": "Python 3",
   "language": "python",
   "name": "python3"
  },
  "language_info": {
   "codemirror_mode": {
    "name": "ipython",
    "version": 3
   },
   "file_extension": ".py",
   "mimetype": "text/x-python",
   "name": "python",
   "nbconvert_exporter": "python",
   "pygments_lexer": "ipython3",
   "version": "3.7.4"
  }
 },
 "nbformat": 4,
 "nbformat_minor": 2
}
