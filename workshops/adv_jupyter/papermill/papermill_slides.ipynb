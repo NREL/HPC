{
 "cells": [
  {
   "cell_type": "markdown",
   "id": "revolutionary-burden",
   "metadata": {
    "slideshow": {
     "slide_type": "slide"
    }
   },
   "source": [
    "# Papermill\n",
    "\n"
   ]
  },
  {
   "cell_type": "markdown",
   "id": "a2b0dac0",
   "metadata": {
    "slideshow": {
     "slide_type": "slide"
    }
   },
   "source": [
    "# Intro \n",
    "\n",
    "* Execute parameterized notebooks\n",
    "* Variables can be replaced in a notebook programmatically\n",
    "* CLI and API support\n",
    "\n",
    "## Usecases\n",
    "* Hyperparameter tuning\n",
    "* Generating individualized reports (notebook for each month)"
   ]
  },
  {
   "cell_type": "markdown",
   "id": "ea13f295",
   "metadata": {
    "slideshow": {
     "slide_type": "slide"
    }
   },
   "source": [
    "# Getting started\n",
    "\n",
    "### Install\n",
    "```\n",
    "pip install papermill \n",
    "```\n",
    "\n",
    "### Tagging cells\n",
    "* A cell with variables which can be injected must be labelled with `parameters`\n",
    "* Open the tag Cell Toolbar `View -> Cell Toolbar -> Tags`\n",
    "* In a cell with a variable you want to inject add the `parameters` tag\n",
    "\n",
    "### Template notebook\n",
    "* [Template notebook](template_mnist.ipynb)"
   ]
  },
  {
   "cell_type": "markdown",
   "id": "dddf41f8",
   "metadata": {
    "slideshow": {
     "slide_type": "slide"
    }
   },
   "source": [
    "# Problem\n",
    "* We want to use the trained TensorFlow model to predict a set of digits\n",
    "* Digits of interest specified as an `image_index` in dataset\n",
    "* We want each prediction to be in a unique Jupyter notebook"
   ]
  },
  {
   "cell_type": "code",
   "execution_count": 16,
   "id": "46239d34",
   "metadata": {
    "slideshow": {
     "slide_type": "-"
    }
   },
   "outputs": [
    {
     "data": {
      "application/vnd.jupyter.widget-view+json": {
       "model_id": "4de4a4516d314af2a54f892b5cb60edd",
       "version_major": 2,
       "version_minor": 0
      },
      "text/plain": [
       "Executing:   0%|          | 0/5 [00:00<?, ?cell/s]"
      ]
     },
     "metadata": {},
     "output_type": "display_data"
    },
    {
     "data": {
      "application/vnd.jupyter.widget-view+json": {
       "model_id": "45b43c39c0b14646967807d43d2919b9",
       "version_major": 2,
       "version_minor": 0
      },
      "text/plain": [
       "Executing:   0%|          | 0/5 [00:00<?, ?cell/s]"
      ]
     },
     "metadata": {},
     "output_type": "display_data"
    },
    {
     "data": {
      "application/vnd.jupyter.widget-view+json": {
       "model_id": "d5697da5626f4ee783020dff964cba43",
       "version_major": 2,
       "version_minor": 0
      },
      "text/plain": [
       "Executing:   0%|          | 0/5 [00:00<?, ?cell/s]"
      ]
     },
     "metadata": {},
     "output_type": "display_data"
    }
   ],
   "source": [
    "import papermill as pm\n",
    "\n",
    "digits = [50, 100, 650]\n",
    "for i in digits:\n",
    "   pm.execute_notebook(\n",
    "      'template_mnist.ipynb',\n",
    "      f'output_{i}.ipynb',\n",
    "      parameters=dict(image_index=i)\n",
    "   )\n"
   ]
  },
  {
   "cell_type": "markdown",
   "id": "1db47dcd",
   "metadata": {},
   "source": [
    "# Results\n",
    "[Notebook #1](output_50.ipynb)\n",
    "\n",
    "[Notebook #2](output_100.ipynb)\n",
    "\n",
    "[Notebook #3](output_650.ipynb)"
   ]
  },
  {
   "cell_type": "markdown",
   "id": "7f7a8648",
   "metadata": {
    "slideshow": {
     "slide_type": "slide"
    }
   },
   "source": [
    "# CLI"
   ]
  },
  {
   "cell_type": "code",
   "execution_count": 15,
   "id": "68fecc42",
   "metadata": {
    "slideshow": {
     "slide_type": "-"
    }
   },
   "outputs": [
    {
     "name": "stdout",
     "output_type": "stream",
     "text": [
      "Input Notebook:  template_mnist.ipynb\n",
      "Output Notebook: cliout.ipynb\n",
      "Generating grammar tables from /Users/ksayers/opt/miniconda3/envs/jupyter/lib/python3.8/site-packages/blib2to3/Grammar.txt\n",
      "Writing grammar tables to /Users/ksayers/Library/Caches/black/21.5b1/Grammar3.8.8.final.0.pickle\n",
      "Writing failed: [Errno 2] No such file or directory: '/Users/ksayers/Library/Caches/black/21.5b1/tmpbce4_yc3'\n",
      "Generating grammar tables from /Users/ksayers/opt/miniconda3/envs/jupyter/lib/python3.8/site-packages/blib2to3/PatternGrammar.txt\n",
      "Writing grammar tables to /Users/ksayers/Library/Caches/black/21.5b1/PatternGrammar3.8.8.final.0.pickle\n",
      "Writing failed: [Errno 2] No such file or directory: '/Users/ksayers/Library/Caches/black/21.5b1/tmpv0roqge7'\n",
      "Executing:   0%|                                        | 0/5 [00:00<?, ?cell/s]Executing notebook with kernel: python3\n",
      "2021-05-11 21:41:48.096591: I tensorflow/compiler/jit/xla_cpu_device.cc:41] Not creating XLA devices, tf_xla_enable_xla_devices not set\n",
      "2021-05-11 21:41:48.096899: I tensorflow/core/platform/cpu_feature_guard.cc:142] This TensorFlow binary is optimized with oneAPI Deep Neural Network Library (oneDNN) to use the following CPU instructions in performance-critical operations:  AVX2 FMA\n",
      "To enable them in other operations, rebuild TensorFlow with the appropriate compiler flags.\n",
      "Executing:  80%|█████████████████████████▌      | 4/5 [00:03<00:00,  1.53cell/s]2021-05-11 21:41:48.472210: I tensorflow/compiler/mlir/mlir_graph_optimization_pass.cc:116] None of the MLIR optimization passes are enabled (registered 2)\n",
      "Executing: 100%|████████████████████████████████| 5/5 [00:04<00:00,  1.24cell/s]\n"
     ]
    }
   ],
   "source": [
    "# Run Papermill from the CLI \n",
    "!papermill template_mnist.ipynb cliout.ipynb -p image_index 110"
   ]
  },
  {
   "cell_type": "markdown",
   "id": "2d00796a",
   "metadata": {
    "slideshow": {
     "slide_type": "slide"
    }
   },
   "source": [
    "# Conclusions\n",
    "* Effective tool for parameterized notebook runs\n",
    "* Can easily be incorporated into other code\n",
    "* Best used for sequential generation of notebooks\n",
    "\n",
    "https://papermill.readthedocs.io/en/latest/"
   ]
  }
 ],
 "metadata": {
  "celltoolbar": "Slideshow",
  "kernelspec": {
   "display_name": "Python 3",
   "language": "python",
   "name": "python3"
  },
  "language_info": {
   "codemirror_mode": {
    "name": "ipython",
    "version": 3
   },
   "file_extension": ".py",
   "mimetype": "text/x-python",
   "name": "python",
   "nbconvert_exporter": "python",
   "pygments_lexer": "ipython3",
   "version": "3.8.8"
  }
 },
 "nbformat": 4,
 "nbformat_minor": 5
}
