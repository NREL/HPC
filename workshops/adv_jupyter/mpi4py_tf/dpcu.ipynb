{
 "cells": [
  {
   "cell_type": "markdown",
   "id": "2cccdcb0",
   "metadata": {},
   "source": [
    "### cupy\n",
    "``` \n",
    "Run some ffts using cupy on gpus and numpy on cpu.  \n",
    "\n",
    "Do an inline kernel\n",
    "```"
   ]
  },
  {
   "cell_type": "code",
   "execution_count": 1,
   "id": "scenic-bronze",
   "metadata": {},
   "outputs": [],
   "source": [
    "import cupy as cp\n",
    "import numpy as np\n",
    "import time\n",
    "import sys"
   ]
  },
  {
   "cell_type": "code",
   "execution_count": 2,
   "id": "ce1a1eca",
   "metadata": {},
   "outputs": [
    {
     "name": "stdout",
     "output_type": "stream",
     "text": [
      "OS                           : Linux-3.10.0-1062.9.1.el7.x86_64-x86_64-with-glibc2.10\n",
      "CuPy Version                 : 8.6.0\n",
      "NumPy Version                : 1.19.2\n",
      "SciPy Version                : 1.4.1\n",
      "Cython Build Version         : 0.29.23\n",
      "CUDA Root                    : /nopt/nrel/apps/cuda/10.0.130\n",
      "CUDA Build Version           : 10000\n",
      "CUDA Driver Version          : 10020\n",
      "CUDA Runtime Version         : 10000\n",
      "cuBLAS Version               : 10000\n",
      "cuFFT Version                : 10000\n",
      "cuRAND Version               : 10000\n",
      "cuSOLVER Version             : (10, 0, 0)\n",
      "cuSPARSE Version             : 10000\n",
      "NVRTC Version                : (10, 0)\n",
      "Thrust Version               : 100903\n",
      "CUB Build Version            : <unknown>\n",
      "cuDNN Build Version          : None\n",
      "cuDNN Version                : None\n",
      "NCCL Build Version           : None\n",
      "NCCL Runtime Version         : None\n",
      "cuTENSOR Version             : None\n",
      "Device 0 Name                : Tesla V100-PCIE-16GB\n",
      "Device 0 Compute Capability  : 70\n",
      "Device 1 Name                : Tesla V100-PCIE-16GB\n",
      "Device 1 Compute Capability  : 70\n"
     ]
    }
   ],
   "source": [
    "cp.show_config()"
   ]
  },
  {
   "cell_type": "code",
   "execution_count": 3,
   "id": "4f9a1971",
   "metadata": {},
   "outputs": [
    {
     "name": "stdout",
     "output_type": "stream",
     "text": [
      "OS : Linux-3.10.0-1062.9.1.el7.x86_64-x86_64-with-glibc2.10\n",
      "CuPy Version : 8.6.0\n",
      "NumPy Version : 1.19.2\n",
      "SciPy Version : 1.4.1\n",
      "Cython Build Version : 0.29.23\n",
      "CUDA Root : /nopt/nrel/apps/cuda/10.0.130\n",
      "CUDA Build Version : 10000\n",
      "CUDA Driver Version : 10020\n",
      "CUDA Runtime Version : 10000\n",
      "cuBLAS Version : 10000\n",
      "cuFFT Version : 10000\n",
      "cuRAND Version : 10000\n",
      "cuSOLVER Version : (10, 0, 0)\n",
      "cuSPARSE Version : 10000\n",
      "NVRTC Version : (10, 0)\n",
      "Thrust Version : 100903\n",
      "CUB Build Version : <unknown>\n",
      "cuDNN Build Version : None\n",
      "cuDNN Version : None\n",
      "NCCL Build Version : None\n",
      "NCCL Runtime Version : None\n",
      "cuTENSOR Version : None\n",
      "Device 0 Name : Tesla V100-PCIE-16GB\n",
      "Device 0 Compute Capability : 70\n",
      "Device 1 Name : Tesla V100-PCIE-16GB\n",
      "Device 1 Compute Capability : 70\n"
     ]
    }
   ],
   "source": [
    "# get config as a dictionary\n",
    "# there has to an easier way to do this\n",
    "# but didn't find it in the docs\n",
    "from io import StringIO\n",
    "import sys\n",
    "old_stdout = sys.stdout\n",
    "result = StringIO()\n",
    "sys.stdout = result\n",
    "cp.show_config()\n",
    "sys.stdout = old_stdout\n",
    "result_string = result.getvalue()\n",
    "result=result_string.split(\"\\n\")\n",
    "config={}\n",
    "for x in result:\n",
    "    x=x.split(\":\")\n",
    "    #print(x)\n",
    "    if(len(x)> 1):\n",
    "        config[x[0].strip()]=x[1].strip()\n",
    "#print(config)\n",
    "nd=0\n",
    "for k in config:\n",
    "    # find number of devices\n",
    "    if(k.find(\"Name\") > -1):\n",
    "        nd=nd+1\n",
    "    print(k,\":\",config[k])\n"
   ]
  },
  {
   "cell_type": "code",
   "execution_count": 4,
   "id": "44a8ba19",
   "metadata": {},
   "outputs": [
    {
     "name": "stdout",
     "output_type": "stream",
     "text": [
      "Device  0\n",
      "AsyncEngineCount : 7\n",
      "CanFlushRemoteWrites : 0\n",
      "CanMapHostMemory : 1\n",
      "CanUseHostPointerForRegisteredMem : 1\n",
      "ClockRate : 1380000\n",
      "ComputeMode : 0\n",
      "ComputePreemptionSupported : 1\n",
      "ConcurrentKernels : 1\n",
      "ConcurrentManagedAccess : 1\n",
      "CooperativeLaunch : 1\n",
      "CooperativeMultiDeviceLaunch : 1\n",
      "DirectManagedMemAccessFromHost : 0\n",
      "EccEnabled : 1\n",
      "GlobalL1CacheSupported : 1\n",
      "GlobalMemoryBusWidth : 4096\n",
      "GpuOverlap : 1\n",
      "HostNativeAtomicSupported : 0\n",
      "HostRegisterSupported : 1\n",
      "Integrated : 0\n",
      "IsMultiGpuBoard : 0\n",
      "KernelExecTimeout : 0\n",
      "L2CacheSize : 6291456\n",
      "LocalL1CacheSupported : 1\n",
      "ManagedMemory : 1\n",
      "MaxBlockDimX : 1024\n",
      "MaxBlockDimY : 1024\n",
      "MaxBlockDimZ : 64\n",
      "MaxGridDimX : 2147483647\n",
      "MaxGridDimY : 65535\n",
      "MaxGridDimZ : 65535\n",
      "MaxPitch : 2147483647\n",
      "MaxRegistersPerBlock : 65536\n",
      "MaxRegistersPerMultiprocessor : 65536\n",
      "MaxSharedMemoryPerBlock : 49152\n",
      "MaxSharedMemoryPerBlockOptin : 98304\n",
      "MaxSharedMemoryPerMultiprocessor : 98304\n",
      "MaxSurface1DLayeredLayers : 2048\n",
      "MaxSurface1DLayeredWidth : 32768\n",
      "MaxSurface1DWidth : 32768\n",
      "MaxSurface2DHeight : 65536\n",
      "MaxSurface2DLayeredHeight : 32768\n",
      "MaxSurface2DLayeredLayers : 2048\n",
      "MaxSurface2DLayeredWidth : 32768\n",
      "MaxSurface2DWidth : 131072\n",
      "MaxSurface3DDepth : 16384\n",
      "MaxSurface3DHeight : 16384\n",
      "MaxSurface3DWidth : 16384\n",
      "MaxSurfaceCubemapLayeredLayers : 2046\n",
      "MaxSurfaceCubemapLayeredWidth : 32768\n",
      "MaxSurfaceCubemapWidth : 32768\n",
      "MaxTexture1DLayeredLayers : 2048\n",
      "MaxTexture1DLayeredWidth : 32768\n",
      "MaxTexture1DLinearWidth : 268435456\n",
      "MaxTexture1DMipmappedWidth : 32768\n",
      "MaxTexture1DWidth : 131072\n",
      "MaxTexture2DGatherHeight : 32768\n",
      "MaxTexture2DGatherWidth : 32768\n",
      "MaxTexture2DHeight : 65536\n",
      "MaxTexture2DLayeredHeight : 32768\n",
      "MaxTexture2DLayeredLayers : 2048\n",
      "MaxTexture2DLayeredWidth : 32768\n",
      "MaxTexture2DLinearHeight : 65000\n",
      "MaxTexture2DLinearPitch : 2097120\n",
      "MaxTexture2DLinearWidth : 131072\n",
      "MaxTexture2DMipmappedHeight : 32768\n",
      "MaxTexture2DMipmappedWidth : 32768\n",
      "MaxTexture2DWidth : 131072\n",
      "MaxTexture3DDepth : 16384\n",
      "MaxTexture3DDepthAlt : 32768\n",
      "MaxTexture3DHeight : 16384\n",
      "MaxTexture3DHeightAlt : 8192\n",
      "MaxTexture3DWidth : 16384\n",
      "MaxTexture3DWidthAlt : 8192\n",
      "MaxTextureCubemapLayeredLayers : 2046\n",
      "MaxTextureCubemapLayeredWidth : 32768\n",
      "MaxTextureCubemapWidth : 32768\n",
      "MaxThreadsPerBlock : 1024\n",
      "MaxThreadsPerMultiProcessor : 2048\n",
      "MemoryClockRate : 877000\n",
      "MultiGpuBoardGroupID : 0\n",
      "MultiProcessorCount : 80\n",
      "PageableMemoryAccess : 0\n",
      "PageableMemoryAccessUsesHostPageTables : 0\n",
      "PciBusId : 55\n",
      "PciDeviceId : 0\n",
      "PciDomainId : 0\n",
      "Reserved92 : 0\n",
      "Reserved93 : 0\n",
      "Reserved94 : 0\n",
      "SingleToDoublePrecisionPerfRatio : 2\n",
      "StreamPrioritiesSupported : 1\n",
      "SurfaceAlignment : 512\n",
      "TccDriver : 0\n",
      "TextureAlignment : 512\n",
      "TexturePitchAlignment : 32\n",
      "TotalConstantMemory : 65536\n",
      "UnifiedAddressing : 1\n",
      "WarpSize : 32\n",
      "Device  1\n",
      "AsyncEngineCount : 7\n",
      "CanFlushRemoteWrites : 0\n",
      "CanMapHostMemory : 1\n",
      "CanUseHostPointerForRegisteredMem : 1\n",
      "ClockRate : 1380000\n",
      "ComputeMode : 0\n",
      "ComputePreemptionSupported : 1\n",
      "ConcurrentKernels : 1\n",
      "ConcurrentManagedAccess : 1\n",
      "CooperativeLaunch : 1\n",
      "CooperativeMultiDeviceLaunch : 1\n",
      "DirectManagedMemAccessFromHost : 0\n",
      "EccEnabled : 1\n",
      "GlobalL1CacheSupported : 1\n",
      "GlobalMemoryBusWidth : 4096\n",
      "GpuOverlap : 1\n",
      "HostNativeAtomicSupported : 0\n",
      "HostRegisterSupported : 1\n",
      "Integrated : 0\n",
      "IsMultiGpuBoard : 0\n",
      "KernelExecTimeout : 0\n",
      "L2CacheSize : 6291456\n",
      "LocalL1CacheSupported : 1\n",
      "ManagedMemory : 1\n",
      "MaxBlockDimX : 1024\n",
      "MaxBlockDimY : 1024\n",
      "MaxBlockDimZ : 64\n",
      "MaxGridDimX : 2147483647\n",
      "MaxGridDimY : 65535\n",
      "MaxGridDimZ : 65535\n",
      "MaxPitch : 2147483647\n",
      "MaxRegistersPerBlock : 65536\n",
      "MaxRegistersPerMultiprocessor : 65536\n",
      "MaxSharedMemoryPerBlock : 49152\n",
      "MaxSharedMemoryPerBlockOptin : 98304\n",
      "MaxSharedMemoryPerMultiprocessor : 98304\n",
      "MaxSurface1DLayeredLayers : 2048\n",
      "MaxSurface1DLayeredWidth : 32768\n",
      "MaxSurface1DWidth : 32768\n",
      "MaxSurface2DHeight : 65536\n",
      "MaxSurface2DLayeredHeight : 32768\n",
      "MaxSurface2DLayeredLayers : 2048\n",
      "MaxSurface2DLayeredWidth : 32768\n",
      "MaxSurface2DWidth : 131072\n",
      "MaxSurface3DDepth : 16384\n",
      "MaxSurface3DHeight : 16384\n",
      "MaxSurface3DWidth : 16384\n",
      "MaxSurfaceCubemapLayeredLayers : 2046\n",
      "MaxSurfaceCubemapLayeredWidth : 32768\n",
      "MaxSurfaceCubemapWidth : 32768\n",
      "MaxTexture1DLayeredLayers : 2048\n",
      "MaxTexture1DLayeredWidth : 32768\n",
      "MaxTexture1DLinearWidth : 268435456\n",
      "MaxTexture1DMipmappedWidth : 32768\n",
      "MaxTexture1DWidth : 131072\n",
      "MaxTexture2DGatherHeight : 32768\n",
      "MaxTexture2DGatherWidth : 32768\n",
      "MaxTexture2DHeight : 65536\n",
      "MaxTexture2DLayeredHeight : 32768\n",
      "MaxTexture2DLayeredLayers : 2048\n",
      "MaxTexture2DLayeredWidth : 32768\n",
      "MaxTexture2DLinearHeight : 65000\n",
      "MaxTexture2DLinearPitch : 2097120\n",
      "MaxTexture2DLinearWidth : 131072\n",
      "MaxTexture2DMipmappedHeight : 32768\n",
      "MaxTexture2DMipmappedWidth : 32768\n",
      "MaxTexture2DWidth : 131072\n",
      "MaxTexture3DDepth : 16384\n",
      "MaxTexture3DDepthAlt : 32768\n",
      "MaxTexture3DHeight : 16384\n",
      "MaxTexture3DHeightAlt : 8192\n",
      "MaxTexture3DWidth : 16384\n",
      "MaxTexture3DWidthAlt : 8192\n",
      "MaxTextureCubemapLayeredLayers : 2046\n",
      "MaxTextureCubemapLayeredWidth : 32768\n",
      "MaxTextureCubemapWidth : 32768\n",
      "MaxThreadsPerBlock : 1024\n",
      "MaxThreadsPerMultiProcessor : 2048\n",
      "MemoryClockRate : 877000\n",
      "MultiGpuBoardGroupID : 1\n",
      "MultiProcessorCount : 80\n",
      "PageableMemoryAccess : 0\n",
      "PageableMemoryAccessUsesHostPageTables : 0\n",
      "PciBusId : 134\n",
      "PciDeviceId : 0\n",
      "PciDomainId : 0\n",
      "Reserved92 : 0\n",
      "Reserved93 : 0\n",
      "Reserved94 : 0\n",
      "SingleToDoublePrecisionPerfRatio : 2\n",
      "StreamPrioritiesSupported : 1\n",
      "SurfaceAlignment : 512\n",
      "TccDriver : 0\n",
      "TextureAlignment : 512\n",
      "TexturePitchAlignment : 32\n",
      "TotalConstantMemory : 65536\n",
      "UnifiedAddressing : 1\n",
      "WarpSize : 32\n"
     ]
    }
   ],
   "source": [
    "for n in range(0,nd):\n",
    "    print(\"Device \",n)\n",
    "    atts=cp.cuda.Device(n).attributes\n",
    "    for x in atts:\n",
    "        print(x,\":\",atts[x])"
   ]
  },
  {
   "cell_type": "code",
   "execution_count": null,
   "id": "cbe5897e",
   "metadata": {},
   "outputs": [],
   "source": []
  },
  {
   "cell_type": "code",
   "execution_count": 5,
   "id": "516305a6",
   "metadata": {},
   "outputs": [
    {
     "name": "stdout",
     "output_type": "stream",
     "text": [
      "2.094177007675171\n",
      "0.24394774436950684\n"
     ]
    }
   ],
   "source": [
    "### Numpy and CPU allocation times\n",
    "s = time.time()\n",
    "x_cpu = np.ones((1000,1000,1000))\n",
    "e = time.time()\n",
    "print(e - s)\n",
    "### CuPy and GPU\n",
    "s = time.time()\n",
    "x_gpu = cp.ones((1000,1000,1000))\n",
    "cp.cuda.Stream.null.synchronize()\n",
    "e = time.time()\n",
    "print(e - s)"
   ]
  },
  {
   "cell_type": "code",
   "execution_count": 6,
   "id": "encouraging-liability",
   "metadata": {},
   "outputs": [],
   "source": [
    "### Time some large ffts on GPU and CPU"
   ]
  },
  {
   "cell_type": "code",
   "execution_count": 7,
   "id": "pressed-copying",
   "metadata": {},
   "outputs": [],
   "source": [
    "a=cp.random.rand(10240,10240,dtype = 'float32')\n",
    "cp.cuda.Stream.null.synchronize()"
   ]
  },
  {
   "cell_type": "code",
   "execution_count": 8,
   "id": "cross-coordinator",
   "metadata": {},
   "outputs": [
    {
     "name": "stdout",
     "output_type": "stream",
     "text": [
      "13.4 ms ± 3.49 ms per loop (mean ± std. dev. of 7 runs, 200 loops each)\n"
     ]
    }
   ],
   "source": [
    "%timeit -n 200 b=cp.fft.fft2(a)"
   ]
  },
  {
   "cell_type": "code",
   "execution_count": 9,
   "id": "complimentary-entertainment",
   "metadata": {},
   "outputs": [
    {
     "name": "stdout",
     "output_type": "stream",
     "text": [
      "4.7 s ± 2.75 ms per loop (mean ± std. dev. of 7 runs, 2 loops each)\n"
     ]
    }
   ],
   "source": [
    "al=np.random.rand(10240,10240)\n",
    "%timeit -n 2 b=np.fft.fft2(al)\n",
    "#cp.cuda.Stream.null.synchronize()"
   ]
  },
  {
   "cell_type": "code",
   "execution_count": 10,
   "id": "convertible-spencer",
   "metadata": {},
   "outputs": [
    {
     "name": "stdout",
     "output_type": "stream",
     "text": [
      "Fri Apr 23 13:07:51 2021       \r\n",
      "+-----------------------------------------------------------------------------+\r\n",
      "| NVIDIA-SMI 440.33.01    Driver Version: 440.33.01    CUDA Version: 10.2     |\r\n",
      "|-------------------------------+----------------------+----------------------+\r\n",
      "| GPU  Name        Persistence-M| Bus-Id        Disp.A | Volatile Uncorr. ECC |\r\n",
      "| Fan  Temp  Perf  Pwr:Usage/Cap|         Memory-Usage | GPU-Util  Compute M. |\r\n",
      "|===============================+======================+======================|\r\n",
      "|   0  Tesla V100-PCIE...  Off  | 00000000:37:00.0 Off |                    0 |\r\n",
      "| N/A   43C    P0    37W / 250W |  11757MiB / 16160MiB |      0%      Default |\r\n",
      "+-------------------------------+----------------------+----------------------+\r\n",
      "|   1  Tesla V100-PCIE...  Off  | 00000000:86:00.0 Off |                    0 |\r\n",
      "| N/A   38C    P0    29W / 250W |     12MiB / 16160MiB |      0%      Default |\r\n",
      "+-------------------------------+----------------------+----------------------+\r\n",
      "                                                                               \r\n",
      "+-----------------------------------------------------------------------------+\r\n",
      "| Processes:                                                       GPU Memory |\r\n",
      "|  GPU       PID   Type   Process name                             Usage      |\r\n",
      "|=============================================================================|\r\n",
      "|    0     29421      C   ...e/tkaiser2/.conda-envs/apr21/bin/python 11745MiB |\r\n",
      "+-----------------------------------------------------------------------------+\r\n"
     ]
    }
   ],
   "source": [
    "!nvidia-smi"
   ]
  },
  {
   "cell_type": "code",
   "execution_count": 11,
   "id": "expressed-associate",
   "metadata": {},
   "outputs": [
    {
     "name": "stdout",
     "output_type": "stream",
     "text": [
      "13.4 ms ± 3.56 ms per loop (mean ± std. dev. of 7 runs, 200 loops each)\n"
     ]
    }
   ],
   "source": [
    "cp.cuda.runtime.setDevice(1)\n",
    "a=cp.random.rand(10240,10240,dtype = 'float32')\n",
    "cp.cuda.Stream.null.synchronize()\n",
    "%timeit -n 200 b=cp.fft.fft2(a)"
   ]
  },
  {
   "cell_type": "code",
   "execution_count": 12,
   "id": "604e926b",
   "metadata": {},
   "outputs": [
    {
     "name": "stdout",
     "output_type": "stream",
     "text": [
      "Fri Apr 23 13:08:11 2021       \r\n",
      "+-----------------------------------------------------------------------------+\r\n",
      "| NVIDIA-SMI 440.33.01    Driver Version: 440.33.01    CUDA Version: 10.2     |\r\n",
      "|-------------------------------+----------------------+----------------------+\r\n",
      "| GPU  Name        Persistence-M| Bus-Id        Disp.A | Volatile Uncorr. ECC |\r\n",
      "| Fan  Temp  Perf  Pwr:Usage/Cap|         Memory-Usage | GPU-Util  Compute M. |\r\n",
      "|===============================+======================+======================|\r\n",
      "|   0  Tesla V100-PCIE...  Off  | 00000000:37:00.0 Off |                    0 |\r\n",
      "| N/A   43C    P0    37W / 250W |  11757MiB / 16160MiB |      0%      Default |\r\n",
      "+-------------------------------+----------------------+----------------------+\r\n",
      "|   1  Tesla V100-PCIE...  Off  | 00000000:86:00.0 Off |                    0 |\r\n",
      "| N/A   51C    P0   175W / 250W |   3977MiB / 16160MiB |    100%      Default |\r\n",
      "+-------------------------------+----------------------+----------------------+\r\n",
      "                                                                               \r\n",
      "+-----------------------------------------------------------------------------+\r\n",
      "| Processes:                                                       GPU Memory |\r\n",
      "|  GPU       PID   Type   Process name                             Usage      |\r\n",
      "|=============================================================================|\r\n",
      "|    0     29421      C   ...e/tkaiser2/.conda-envs/apr21/bin/python 11745MiB |\r\n",
      "|    1     29421      C   ...e/tkaiser2/.conda-envs/apr21/bin/python  3965MiB |\r\n",
      "+-----------------------------------------------------------------------------+\r\n"
     ]
    }
   ],
   "source": [
    "!nvidia-smi"
   ]
  },
  {
   "cell_type": "markdown",
   "id": "f55b9048",
   "metadata": {},
   "source": [
    "### Another way to specify which gpu"
   ]
  },
  {
   "cell_type": "code",
   "execution_count": 13,
   "id": "regional-knowing",
   "metadata": {},
   "outputs": [
    {
     "name": "stdout",
     "output_type": "stream",
     "text": [
      "13.4 ms ± 3.81 ms per loop (mean ± std. dev. of 7 runs, 200 loops each)\n"
     ]
    }
   ],
   "source": [
    "with cp.cuda.Device(1):\n",
    "    a=cp.random.rand(10240,10240,dtype = 'float32')\n",
    "    cp.cuda.Stream.null.synchronize()\n",
    "    %timeit -n 200 b=cp.fft.fft2(a)"
   ]
  },
  {
   "cell_type": "code",
   "execution_count": 14,
   "id": "assisted-violin",
   "metadata": {},
   "outputs": [
    {
     "name": "stdout",
     "output_type": "stream",
     "text": [
      "13.3 ms ± 3.8 ms per loop (mean ± std. dev. of 7 runs, 200 loops each)\n"
     ]
    }
   ],
   "source": [
    "with cp.cuda.Device(0):\n",
    "    a=cp.random.rand(10240,10240,dtype = 'float32')\n",
    "    cp.cuda.Stream.null.synchronize()\n",
    "    %timeit -n 200 b=cp.fft.fft2(a)"
   ]
  },
  {
   "cell_type": "markdown",
   "id": "ee03cd25",
   "metadata": {},
   "source": [
    "### A linear solve"
   ]
  },
  {
   "cell_type": "code",
   "execution_count": 15,
   "id": "postal-treasurer",
   "metadata": {},
   "outputs": [
    {
     "data": {
      "text/plain": [
       "array([ 98.50158885,  32.14185012, -34.70445343, ...,  31.43735105,\n",
       "        21.59285238,  26.02087605])"
      ]
     },
     "execution_count": 15,
     "metadata": {},
     "output_type": "execute_result"
    }
   ],
   "source": [
    "a=cp.random.rand(10240,10240)\n",
    "b=cp.random.rand(10240)\n",
    "c=cp.linalg.solve(a, b)\n",
    "c"
   ]
  },
  {
   "cell_type": "markdown",
   "id": "c5cfe8a7",
   "metadata": {},
   "source": [
    "### A definition of an elementwise kernel consists of four parts: \n",
    "- an input argument list\n",
    "- an output argument list\n",
    "- a loop body code\n",
    "- and the kernel name. \n",
    "\n",
    "##### A kernel that computes a squared difference \n",
    "\n"
   ]
  },
  {
   "cell_type": "code",
   "execution_count": 16,
   "id": "5378ec0b",
   "metadata": {},
   "outputs": [],
   "source": [
    "\n",
    "inargs='float32 x, float32 y'\n",
    "outargs='float32 z'\n",
    "body='z = (x - y) * (x - y)'\n",
    "name='squared_diff'\n",
    "\n",
    "squared_diff = cp.ElementwiseKernel(inargs,outargs,body,name)\n"
   ]
  },
  {
   "cell_type": "code",
   "execution_count": 17,
   "id": "982f8f93",
   "metadata": {},
   "outputs": [
    {
     "data": {
      "text/plain": [
       "array([[ 0.,  0.,  0.,  0.,  0.],\n",
       "       [25., 25., 25., 25., 25.]], dtype=float32)"
      ]
     },
     "execution_count": 17,
     "metadata": {},
     "output_type": "execute_result"
    }
   ],
   "source": [
    "x = cp.arange(10, dtype=np.float32).reshape(2, 5)\n",
    "y = cp.arange(5, dtype=np.float32)\n",
    "squared_diff(x, y)"
   ]
  },
  {
   "cell_type": "code",
   "execution_count": 18,
   "id": "47bf4d46",
   "metadata": {},
   "outputs": [
    {
     "data": {
      "text/plain": [
       "array([[0., 1., 2., 3., 4.],\n",
       "       [5., 6., 7., 8., 9.]], dtype=float32)"
      ]
     },
     "execution_count": 18,
     "metadata": {},
     "output_type": "execute_result"
    }
   ],
   "source": [
    "x"
   ]
  },
  {
   "cell_type": "code",
   "execution_count": 19,
   "id": "fa2855ec",
   "metadata": {},
   "outputs": [
    {
     "data": {
      "text/plain": [
       "array([0., 1., 2., 3., 4.], dtype=float32)"
      ]
     },
     "execution_count": 19,
     "metadata": {},
     "output_type": "execute_result"
    }
   ],
   "source": [
    "y"
   ]
  },
  {
   "cell_type": "code",
   "execution_count": null,
   "id": "5f5eba75",
   "metadata": {},
   "outputs": [],
   "source": []
  }
 ],
 "metadata": {
  "kernelspec": {
   "display_name": "Python 3",
   "language": "python",
   "name": "python3"
  },
  "language_info": {
   "codemirror_mode": {
    "name": "ipython",
    "version": 3
   },
   "file_extension": ".py",
   "mimetype": "text/x-python",
   "name": "python",
   "nbconvert_exporter": "python",
   "pygments_lexer": "ipython3",
   "version": "3.8.8"
  }
 },
 "nbformat": 4,
 "nbformat_minor": 5
}
