{
 "cells": [
  {
   "cell_type": "markdown",
   "id": "fixed-table",
   "metadata": {},
   "source": [
    "# Create a mpi4py environement and run it <br>across multiple nodes\n",
    "This notebook shows how you can run MPI programs across multiple nodes<br>\n",
    "from within a notebook.  We provide a script to build  the environment and<br>\n",
    "a script to launch it.  We also provide a convience script for creating a <br>\n",
    "tunnel from your desktop machine to a compute node.\n",
    "\n",
    "We also show that you can compile mpi programs while you are in the notebook.\n",
    "\n",
    "## Note this environemnt contains the slurm magic commands, shown below."
   ]
  },
  {
   "cell_type": "code",
   "execution_count": 1,
   "id": "caroline-copyright",
   "metadata": {},
   "outputs": [],
   "source": [
    "%load_ext slurm_magic"
   ]
  },
  {
   "cell_type": "code",
   "execution_count": 2,
   "id": "iraqi-montana",
   "metadata": {},
   "outputs": [
    {
     "data": {
      "application/json": {
       "cell": {
        "!": "OSMagics",
        "HTML": "Other",
        "SVG": "Other",
        "bash": "Other",
        "capture": "ExecutionMagics",
        "debug": "ExecutionMagics",
        "file": "Other",
        "html": "DisplayMagics",
        "javascript": "DisplayMagics",
        "js": "DisplayMagics",
        "latex": "DisplayMagics",
        "markdown": "DisplayMagics",
        "perl": "Other",
        "prun": "ExecutionMagics",
        "pypy": "Other",
        "python": "Other",
        "python2": "Other",
        "python3": "Other",
        "ruby": "Other",
        "sbatch": "SlurmMagics",
        "script": "ScriptMagics",
        "sh": "Other",
        "svg": "DisplayMagics",
        "sx": "OSMagics",
        "system": "OSMagics",
        "time": "ExecutionMagics",
        "timeit": "ExecutionMagics",
        "writefile": "OSMagics"
       },
       "line": {
        "alias": "OSMagics",
        "alias_magic": "BasicMagics",
        "autoawait": "AsyncMagics",
        "autocall": "AutoMagics",
        "automagic": "AutoMagics",
        "autosave": "KernelMagics",
        "bookmark": "OSMagics",
        "cat": "Other",
        "cd": "OSMagics",
        "clear": "KernelMagics",
        "colors": "BasicMagics",
        "conda": "PackagingMagics",
        "config": "ConfigMagics",
        "connect_info": "KernelMagics",
        "cp": "Other",
        "debug": "ExecutionMagics",
        "dhist": "OSMagics",
        "dirs": "OSMagics",
        "doctest_mode": "BasicMagics",
        "ed": "Other",
        "edit": "KernelMagics",
        "env": "OSMagics",
        "gui": "BasicMagics",
        "hist": "Other",
        "history": "HistoryMagics",
        "killbgscripts": "ScriptMagics",
        "ldir": "Other",
        "less": "KernelMagics",
        "lf": "Other",
        "lk": "Other",
        "ll": "Other",
        "load": "CodeMagics",
        "load_ext": "ExtensionMagics",
        "loadpy": "CodeMagics",
        "logoff": "LoggingMagics",
        "logon": "LoggingMagics",
        "logstart": "LoggingMagics",
        "logstate": "LoggingMagics",
        "logstop": "LoggingMagics",
        "ls": "Other",
        "lsmagic": "BasicMagics",
        "lx": "Other",
        "macro": "ExecutionMagics",
        "magic": "BasicMagics",
        "man": "KernelMagics",
        "matplotlib": "PylabMagics",
        "mkdir": "Other",
        "more": "KernelMagics",
        "mv": "Other",
        "notebook": "BasicMagics",
        "page": "BasicMagics",
        "pastebin": "CodeMagics",
        "pdb": "ExecutionMagics",
        "pdef": "NamespaceMagics",
        "pdoc": "NamespaceMagics",
        "pfile": "NamespaceMagics",
        "pinfo": "NamespaceMagics",
        "pinfo2": "NamespaceMagics",
        "pip": "PackagingMagics",
        "popd": "OSMagics",
        "pprint": "BasicMagics",
        "precision": "BasicMagics",
        "prun": "ExecutionMagics",
        "psearch": "NamespaceMagics",
        "psource": "NamespaceMagics",
        "pushd": "OSMagics",
        "pwd": "OSMagics",
        "pycat": "OSMagics",
        "pylab": "PylabMagics",
        "qtconsole": "KernelMagics",
        "quickref": "BasicMagics",
        "recall": "HistoryMagics",
        "rehashx": "OSMagics",
        "reload_ext": "ExtensionMagics",
        "rep": "Other",
        "rerun": "HistoryMagics",
        "reset": "NamespaceMagics",
        "reset_selective": "NamespaceMagics",
        "rm": "Other",
        "rmdir": "Other",
        "run": "ExecutionMagics",
        "sacct": "SlurmMagics",
        "sacctmgr": "SlurmMagics",
        "salloc": "SlurmMagics",
        "sattach": "SlurmMagics",
        "save": "CodeMagics",
        "sbatch": "SlurmMagics",
        "sbcast": "SlurmMagics",
        "sc": "OSMagics",
        "scancel": "SlurmMagics",
        "scontrol": "SlurmMagics",
        "sdiag": "SlurmMagics",
        "set_env": "OSMagics",
        "sinfo": "SlurmMagics",
        "slurm": "SlurmMagics",
        "smap": "SlurmMagics",
        "sprio": "SlurmMagics",
        "squeue": "SlurmMagics",
        "sreport": "SlurmMagics",
        "srun": "SlurmMagics",
        "sshare": "SlurmMagics",
        "sstat": "SlurmMagics",
        "store": "StoreMagics",
        "strigger": "SlurmMagics",
        "sview": "SlurmMagics",
        "sx": "OSMagics",
        "system": "OSMagics",
        "tb": "ExecutionMagics",
        "time": "ExecutionMagics",
        "timeit": "ExecutionMagics",
        "unalias": "OSMagics",
        "unload_ext": "ExtensionMagics",
        "who": "NamespaceMagics",
        "who_ls": "NamespaceMagics",
        "whos": "NamespaceMagics",
        "xdel": "NamespaceMagics",
        "xmode": "BasicMagics"
       }
      },
      "text/plain": [
       "Available line magics:\n",
       "%alias  %alias_magic  %autoawait  %autocall  %automagic  %autosave  %bookmark  %cat  %cd  %clear  %colors  %conda  %config  %connect_info  %cp  %debug  %dhist  %dirs  %doctest_mode  %ed  %edit  %env  %gui  %hist  %history  %killbgscripts  %ldir  %less  %lf  %lk  %ll  %load  %load_ext  %loadpy  %logoff  %logon  %logstart  %logstate  %logstop  %ls  %lsmagic  %lx  %macro  %magic  %man  %matplotlib  %mkdir  %more  %mv  %notebook  %page  %pastebin  %pdb  %pdef  %pdoc  %pfile  %pinfo  %pinfo2  %pip  %popd  %pprint  %precision  %prun  %psearch  %psource  %pushd  %pwd  %pycat  %pylab  %qtconsole  %quickref  %recall  %rehashx  %reload_ext  %rep  %rerun  %reset  %reset_selective  %rm  %rmdir  %run  %sacct  %sacctmgr  %salloc  %sattach  %save  %sbatch  %sbcast  %sc  %scancel  %scontrol  %sdiag  %set_env  %sinfo  %slurm  %smap  %sprio  %squeue  %sreport  %srun  %sshare  %sstat  %store  %strigger  %sview  %sx  %system  %tb  %time  %timeit  %unalias  %unload_ext  %who  %who_ls  %whos  %xdel  %xmode\n",
       "\n",
       "Available cell magics:\n",
       "%%!  %%HTML  %%SVG  %%bash  %%capture  %%debug  %%file  %%html  %%javascript  %%js  %%latex  %%markdown  %%perl  %%prun  %%pypy  %%python  %%python2  %%python3  %%ruby  %%sbatch  %%script  %%sh  %%svg  %%sx  %%system  %%time  %%timeit  %%writefile\n",
       "\n",
       "Automagic is ON, % prefix IS NOT needed for line magics."
      ]
     },
     "execution_count": 2,
     "metadata": {},
     "output_type": "execute_result"
    }
   ],
   "source": [
    "%lsmagic"
   ]
  },
  {
   "cell_type": "markdown",
   "id": "recent-composite",
   "metadata": {},
   "source": [
    "## Here's the script that created an environment with MPI4py.  It also adds TF and CUPY.\n"
   ]
  },
  {
   "cell_type": "code",
   "execution_count": 3,
   "id": "ce81b2dd",
   "metadata": {},
   "outputs": [
    {
     "name": "stdout",
     "output_type": "stream",
     "text": [
      "CWD=`pwd`\r\n",
      "export MYVERSION=may12\r\n",
      "#BASEDIR=/scratch/$USER\r\n",
      "BASEDIR=/projects/hpcapps/tkaiser\r\n",
      "#cd ~\r\n",
      "module load conda 2> /dev/null || echo \"module load conda failed\"\r\n",
      "#conda create -p $BASEDIR/exampleenv --name $MYVERSION python=3.8 jupyter matplotlib scipy pandas xlwt dask -y\r\n",
      "conda create -p $BASEDIR/$MYVERSION python=3.8 jupyter matplotlib scipy pandas xlwt dask -y\r\n",
      "\r\n",
      "### Don't do conda init\r\n",
      "### Just do source activate\r\n",
      "source activate \r\n",
      "source activate $BASEDIR/$MYVERSION\r\n",
      "\r\n",
      "which pip\r\n",
      "which python\r\n",
      "\r\n",
      "### Install mpi4py\r\n",
      "#module load intel-mpi/2020.1.217  2> /dev/null || echo \"module load mpi failed\"\r\n",
      "module load mpt  2> /dev/null || echo \"module load mpi failed\"\r\n",
      "module load gcc/8.4.0  2> /dev/null || echo \"module load gcc failed\"\r\n",
      "pip --no-cache-dir install mpi4py\r\n",
      "\r\n",
      "\r\n",
      "### Install slurm magic commands \r\n",
      "pip install git+git://github.com/NERSC/slurm-magic.git\r\n",
      "\r\n",
      "\r\n",
      "if [ ! -e libcusolver.so.10  ] ; then\r\n",
      " ln -s /nopt/nrel/apps/cuda/11.2/targets/x86_64-linux/lib/libcusolver.so libcusolver.so.10\r\n",
      " fi\r\n",
      "\r\n",
      "ml cuda/11.2   cudnn/8.1.1/cuda-11.2   gcc/8.4.0\r\n",
      "\r\n",
      "\r\n",
      "\r\n",
      "pip --no-cache-dir install tensorflow==2.4.0\r\n",
      "pip --no-cache-dir install tensorflow-gpu==2.4.0\r\n",
      "pip --no-cache-dir install horovod[tensorflow]==0.21.3\r\n",
      "\r\n",
      "export CFLAGS=-L/nopt/nrel/apps/cuda/11.2/targets/x86_64-linux/lib\r\n",
      "export LDFLAGS=\"-L/nopt/nrel/apps/cuda/11.2/targets/x86_64-linux/lib -L/nopt/nrel/apps/cuda/11.2/compat\"\r\n",
      "export LIBRARY_PATH=/nopt/nrel/apps/cuda/11.2/targets/x86_64-linux/lib:/nopt/nrel/apps/base/2020-05-12/spack/opt/spack/linux-centos7-x86_64/gcc-4.8.5/gcc-6.5.0-aov4u2ocxtqf4bwif4hc7sga4cvccpxm/lib64:/nopt/nrel/apps/base/2020-05-12/spack/opt/spack/linux-centos\r\n",
      "export LD_LIBRARY_PATH=/nopt/nrel/apps/cuda/11.2/targets/x86_64-linux/lib:/nopt/nrel/apps/base/2020-05-12/spack/opt/spack/linux-centos7-x86_64/gcc-4.8.5/gcc-6.5.0-aov4u2ocxtqf4bwif4hc7sga4cvccpxm/lib64:/nopt/nrel/apps/base/2020-05-12/spack/opt/spack/linux-centos7-x86_64/gcc-4.8.5/gcc-6.5.0-aov4u2ocxtqf4bwif4hc7sga4cvccpxm/lib:/nopt/nrel/apps/cudnn/8.1.1-cuda-11.2/lib64:/nopt/nrel/apps/cuda/11.2/lib64:/nopt/mpi/mpt-2.23/lib:/home/tkaiser2/libs/zlib-1.2.11/lib:/home/tkaiser2/libs/bzip2-1.0.8/lib:/home/tkaiser2/bin/jdk-13.0.1/lib:/nopt/slurm/current/lib::\r\n",
      "\r\n",
      "\r\n",
      "pip --no-cache-dir install cupy\r\n",
      "\r\n",
      "\r\n",
      "#and a thread mapping module\r\n",
      "wget  https://raw.githubusercontent.com/NREL/HPC/master/slurm/source/setup.py\r\n",
      "wget  https://raw.githubusercontent.com/NREL/HPC/master/slurm/source/spam.c\r\n",
      "python3 setup.py install\r\n",
      "\r\n"
     ]
    }
   ],
   "source": [
    "cat makeit"
   ]
  },
  {
   "cell_type": "markdown",
   "id": "b1a42f9f",
   "metadata": {},
   "source": [
    "## Here's the script that launched this notebook"
   ]
  },
  {
   "cell_type": "code",
   "execution_count": 4,
   "id": "assisted-organic",
   "metadata": {},
   "outputs": [
    {
     "name": "stdout",
     "output_type": "stream",
     "text": [
      "#!/bin/bash\r\n",
      "#SBATCH --job-name=\"jupyter\"\r\n",
      "#SBATCH --nodes=2\r\n",
      "#SBATCH --account=hpcapps\r\n",
      "#SBATCH --time=01:00:00\r\n",
      "##SBATCH --gpus-per-node=2 \r\n",
      "#SBATCH --partition=debug\r\n",
      "\r\n",
      "\r\n",
      "export BASEDIR=/projects/hpcapps/tkaiser\r\n",
      "export MYVERSION=may12\r\n",
      "\r\n",
      "module load conda\r\n",
      "module load mpt\r\n",
      "module load cuda/11.2   cudnn/8.1.1/cuda-11.2   gcc/8.4.0\r\n",
      "\r\n",
      "### Don't do conda init\r\n",
      "### Just do source activate\r\n",
      "source activate \r\n",
      "source activate $BASEDIR/$MYVERSION\r\n",
      "\r\n",
      "\r\n",
      "#export LD_LIBRARY_PATH=/nopt/nrel/apps/cuda/11.2/targets/x86_64-linux/lib:/nopt/nrel/apps/base/2020-05-12/spack/opt/spack/linux-centos7-x86_64/gcc-4.8.5/gcc-6.5.0-aov4u2ocxtqf4bwif4hc7sga4cvccpxm/lib64:/nopt/nrel/apps/base/2020-05-12/spack/opt/spack/linux-centos7-x86_64/gcc-4.8.5/gcc-6.5.0-aov4u2ocxtqf4bwif4hc7sga4cvccpxm/lib:/nopt/nrel/apps/cudnn/8.1.1-cuda-11.2/lib64:/nopt/nrel/apps/cuda/11.2/lib64:/nopt/mpi/mpt-2.23/lib:/home/tkaiser2/libs/zlib-1.2.11/lib:/home/tkaiser2/libs/bzip2-1.0.8/lib:/home/tkaiser2/bin/jdk-13.0.1/lib:/nopt/slurm/current/lib::\r\n",
      "\r\n",
      "export LD_LIBRARY_PATH=/nopt/nrel/apps/cuda/11.2/targets/x86_64-linux/lib:/nopt/nrel/apps/base/2020-05-12/spack/opt/spack/linux-centos7-x86_64/gcc-4.8.5/gcc-6.5.0-aov4u2ocxtqf4bwif4hc7sga4cvccpxm/lib64:/nopt/nrel/apps/base/2020-05-12/spack/opt/spack/linux-centos7-x86_64/gcc-4.8.5/gcc-6.5.0-aov4u2ocxtqf4bwif4hc7sga4cvccpxm/lib:/nopt/nrel/apps/cudnn/8.1.1-cuda-11.2/lib64:/nopt/nrel/apps/cuda/11.2/lib64:/nopt/mpi/mpt-2.23/lib:/nopt/slurm/current/lib::\r\n",
      "\r\n",
      "\r\n",
      "\r\n",
      "date      > ~/jupyter.log\r\n",
      "hostname >> ~/jupyter.log\r\n",
      "jupyter notebook --NotebookApp.password='' --no-browser  >> ~/jupyter.log 2>&1\r\n"
     ]
    }
   ],
   "source": [
    "cat launch_2"
   ]
  },
  {
   "cell_type": "markdown",
   "id": "clear-proof",
   "metadata": {},
   "source": [
    "<hr> \n",
    "\n",
    "### After the job starts the file ~/jupyter.log will contain the information required to  connect to the notebook.  What we need is the node name, port number, and the html string.  <br><br>The bash function, tunnel, can provide a shortcut for connecting to the notebook.  After it is installed in your bash environment the syntax is \n",
    "\n",
    "`\n",
    "tunnel node_name port_number\n",
    "`\n",
    "### After it connects you copy/past the html string from ~/jupyter.log into a browser\n",
    "\n",
    "<hr> \n",
    "\n",
    "### To get tunnel\n",
    "\n",
    "`\n",
    "wget https://raw.githubusercontent.com/NREL/HPC/master/slurm/source/tunnel.sh\n",
    "`\n",
    "\n",
    "### We're going to get a few examples to play with:"
   ]
  },
  {
   "cell_type": "code",
   "execution_count": 6,
   "id": "c9f65c24",
   "metadata": {},
   "outputs": [
    {
     "name": "stdout",
     "output_type": "stream",
     "text": [
      "--2021-05-12 09:38:30--  https://raw.githubusercontent.com/NREL/HPC/master/slurm/source/c_ex02.c\n",
      "Resolving raw.githubusercontent.com (raw.githubusercontent.com)... 185.199.111.133, 185.199.109.133, 185.199.108.133, ...\n",
      "Connecting to raw.githubusercontent.com (raw.githubusercontent.com)|185.199.111.133|:443... connected.\n",
      "HTTP request sent, awaiting response... 200 OK\n",
      "Length: 1149 (1.1K) [text/plain]\n",
      "Saving to: ‘c_ex02.c’\n",
      "\n",
      "100%[======================================>] 1,149       --.-K/s   in 0s      \n",
      "\n",
      "2021-05-12 09:38:31 (91.4 MB/s) - ‘c_ex02.c’ saved [1149/1149]\n",
      "\n"
     ]
    }
   ],
   "source": [
    "!wget https://raw.githubusercontent.com/NREL/HPC/master/slurm/source/c_ex02.c"
   ]
  },
  {
   "cell_type": "code",
   "execution_count": 7,
   "id": "e6994579",
   "metadata": {},
   "outputs": [
    {
     "name": "stdout",
     "output_type": "stream",
     "text": [
      "--2021-05-12 09:38:48--  https://raw.githubusercontent.com/NREL/HPC/master/slurm/source/report.py\n",
      "Resolving raw.githubusercontent.com (raw.githubusercontent.com)... 185.199.111.133, 185.199.109.133, 185.199.108.133, ...\n",
      "Connecting to raw.githubusercontent.com (raw.githubusercontent.com)|185.199.111.133|:443... connected.\n",
      "HTTP request sent, awaiting response... 200 OK\n",
      "Length: 1565 (1.5K) [text/plain]\n",
      "Saving to: ‘report.py’\n",
      "\n",
      "100%[======================================>] 1,565       --.-K/s   in 0.001s  \n",
      "\n",
      "2021-05-12 09:38:48 (1.68 MB/s) - ‘report.py’ saved [1565/1565]\n",
      "\n"
     ]
    }
   ],
   "source": [
    "!wget  https://raw.githubusercontent.com/NREL/HPC/master/slurm/source/report.py"
   ]
  },
  {
   "cell_type": "code",
   "execution_count": 8,
   "id": "athletic-steps",
   "metadata": {},
   "outputs": [
    {
     "name": "stdout",
     "output_type": "stream",
     "text": [
      "\u001b[0m\u001b[38;5;27mbuild\u001b[0m/              makeit                      setup.py\r\n",
      "c_ex02.c            minst.out                   slurm-6812761.out\r\n",
      "dompi.ipynb         mninstcu.ipynb              spam.c\r\n",
      "dpcu.ipynb          \u001b[38;5;34mmnist1.py\u001b[0m*                  \u001b[38;5;34mtensorflow2_mnist.py\u001b[0m*\r\n",
      "launch12            mnist.err                   \u001b[38;5;34mtymer.py\u001b[0m*\r\n",
      "launch12_2          \u001b[38;5;27m__pycache__\u001b[0m/                worked\r\n",
      "\u001b[38;5;51mlibcusolver.so.10\u001b[0m@  \u001b[38;5;27mraw.githubusercontent.com\u001b[0m/\r\n",
      "links               report.py\r\n"
     ]
    }
   ],
   "source": [
    "ls"
   ]
  },
  {
   "cell_type": "markdown",
   "id": "2bb2028c",
   "metadata": {},
   "source": [
    "## Let's get to it:"
   ]
  },
  {
   "cell_type": "code",
   "execution_count": 9,
   "id": "handed-orchestra",
   "metadata": {},
   "outputs": [
    {
     "data": {
      "text/html": [
       "<div>\n",
       "<style scoped>\n",
       "    .dataframe tbody tr th:only-of-type {\n",
       "        vertical-align: middle;\n",
       "    }\n",
       "\n",
       "    .dataframe tbody tr th {\n",
       "        vertical-align: top;\n",
       "    }\n",
       "\n",
       "    .dataframe thead th {\n",
       "        text-align: right;\n",
       "    }\n",
       "</style>\n",
       "<table border=\"1\" class=\"dataframe\">\n",
       "  <thead>\n",
       "    <tr style=\"text-align: right;\">\n",
       "      <th></th>\n",
       "      <th>JOBID</th>\n",
       "      <th>PARTITION</th>\n",
       "      <th>NAME</th>\n",
       "      <th>USER</th>\n",
       "      <th>ST</th>\n",
       "      <th>TIME</th>\n",
       "      <th>NODES</th>\n",
       "      <th>NODELIST(REASON)</th>\n",
       "    </tr>\n",
       "  </thead>\n",
       "  <tbody>\n",
       "    <tr>\n",
       "      <th>0</th>\n",
       "      <td>6812761</td>\n",
       "      <td>debug</td>\n",
       "      <td>jupyter</td>\n",
       "      <td>tkaiser2</td>\n",
       "      <td>R</td>\n",
       "      <td>7:34</td>\n",
       "      <td>2</td>\n",
       "      <td>r102u[34-35]</td>\n",
       "    </tr>\n",
       "  </tbody>\n",
       "</table>\n",
       "</div>"
      ],
      "text/plain": [
       "     JOBID PARTITION     NAME      USER ST  TIME  NODES NODELIST(REASON)\n",
       "0  6812761     debug  jupyter  tkaiser2  R  7:34      2     r102u[34-35]"
      ]
     },
     "execution_count": 9,
     "metadata": {},
     "output_type": "execute_result"
    }
   ],
   "source": [
    "squeue -u tkaiser2"
   ]
  },
  {
   "cell_type": "markdown",
   "id": "average-citizen",
   "metadata": {},
   "source": [
    "<hr> \n",
    "\n",
    "### Get a list of our hosts we have available"
   ]
  },
  {
   "cell_type": "code",
   "execution_count": 10,
   "id": "meaningful-raleigh",
   "metadata": {},
   "outputs": [
    {
     "data": {
      "text/plain": [
       "'r102u34\\nr102u34\\nr102u35\\nr102u35\\n'"
      ]
     },
     "execution_count": 10,
     "metadata": {},
     "output_type": "execute_result"
    }
   ],
   "source": [
    "srun -n 4 --tasks-per-node=2 hostname"
   ]
  },
  {
   "cell_type": "code",
   "execution_count": 11,
   "id": "decreased-cooking",
   "metadata": {},
   "outputs": [
    {
     "name": "stdout",
     "output_type": "stream",
     "text": [
      "r102u34\n",
      "r102u34\n",
      "r102u35\n",
      "r102u35\n"
     ]
    }
   ],
   "source": [
    "out=_\n",
    "out=out.split()\n",
    "#print(out)\n",
    "for o in out :\n",
    "    print(o)"
   ]
  },
  {
   "cell_type": "markdown",
   "id": "fancy-lloyd",
   "metadata": {},
   "source": [
    "<hr> \n",
    "\n",
    "### Run a mpi4py program and put output in a file"
   ]
  },
  {
   "cell_type": "code",
   "execution_count": 14,
   "id": "second-invalid",
   "metadata": {},
   "outputs": [],
   "source": [
    "!chmod 755 report.py\n"
   ]
  },
  {
   "cell_type": "code",
   "execution_count": 15,
   "id": "49287f0f",
   "metadata": {},
   "outputs": [
    {
     "data": {
      "text/plain": [
       "''"
      ]
     },
     "execution_count": 15,
     "metadata": {},
     "output_type": "execute_result"
    }
   ],
   "source": [
    "srun -n 72 --tasks-per-node=36 -o report.out ./report.py"
   ]
  },
  {
   "cell_type": "code",
   "execution_count": 16,
   "id": "dutch-solomon",
   "metadata": {},
   "outputs": [
    {
     "name": "stdout",
     "output_type": "stream",
     "text": [
      "xxxxxx Hello from 42 on r102u35   ,   6   \r\n",
      "xxxxxx Hello from 32 on r102u34   ,  32   \r\n",
      "xxxxxx Hello from 40 on r102u35   ,   4   \r\n",
      "xxxxxx Hello from 45 on r102u35   ,   9   \r\n",
      "xxxxxx Hello from 48 on r102u35   ,  12   \r\n",
      "xxxxxx Hello from 50 on r102u35   ,  14   \r\n",
      "xxxxxx Hello from 59 on r102u35   ,  23   \r\n",
      "xxxxxx Hello from 61 on r102u35   ,  25   \r\n",
      "xxxxxx Hello from 62 on r102u35   ,  26   \r\n",
      "xxxxxx Hello from 63 on r102u35   ,  27   \r\n",
      "xxxxxx Hello from 67 on r102u35   ,  31   \r\n",
      "xxxxxx Hello from 36 on r102u35   ,   0   \r\n",
      "xxxxxx Hello from 70 on r102u35   ,  34   \r\n",
      "xxxxxx Hello from 39 on r102u35   ,   3   \r\n",
      "xxxxxx Hello from 41 on r102u35   ,   5   \r\n",
      "xxxxxx Hello from 43 on r102u35   ,   7   \r\n",
      "xxxxxx Hello from 46 on r102u35   ,  10   \r\n",
      "xxxxxx Hello from 49 on r102u35   ,  13   \r\n",
      "xxxxxx Hello from 51 on r102u35   ,  15   \r\n",
      "xxxxxx Hello from 52 on r102u35   ,  16   \r\n",
      "xxxxxx Hello from 53 on r102u35   ,  17   \r\n",
      "xxxxxx Hello from 55 on r102u35   ,  19   \r\n",
      "xxxxxx Hello from 54 on r102u35   ,  18   \r\n",
      "xxxxxx Hello from 57 on r102u35   ,  21   \r\n",
      "xxxxxx Hello from 58 on r102u35   ,  22   \r\n",
      "xxxxxx Hello from 60 on r102u35   ,  24   \r\n",
      "xxxxxx Hello from 64 on r102u35   ,  28   \r\n",
      "xxxxxx Hello from 38 on r102u35   ,   2   \r\n",
      "xxxxxx Hello from 66 on r102u35   ,  30   \r\n",
      "xxxxxx Hello from 69 on r102u35   ,  33   \r\n",
      "xxxxxx Hello from 37 on r102u35   ,   1   \r\n",
      "xxxxxx Hello from 47 on r102u35   ,  11   \r\n",
      "xxxxxx Hello from 56 on r102u35   ,  20   \r\n",
      "xxxxxx Hello from 65 on r102u35   ,  29   \r\n",
      "xxxxxx Hello from 71 on r102u35   ,  35   \r\n",
      "xxxxxx Hello from 44 on r102u35   ,   8   \r\n",
      "xxxxxx Hello from 68 on r102u35   ,  32   \r\n",
      "Tasks:  72  MPI Version  (3.1)\r\n",
      "Running MPI libary  HPE MPT 2.23  11/19/20 04:21:56\r\n",
      "xxxxxx Hello from  0 on r102u34   ,   0   \r\n",
      "xxxxxx Hello from  1 on r102u34   ,   1   \r\n",
      "xxxxxx Hello from  8 on r102u34   ,   8   \r\n",
      "xxxxxx Hello from 10 on r102u34   ,  10   \r\n",
      "xxxxxx Hello from 11 on r102u34   ,  11   \r\n",
      "xxxxxx Hello from 34 on r102u34   ,  34   \r\n",
      "xxxxxx Hello from 35 on r102u34   ,  35   \r\n",
      "xxxxxx Hello from 12 on r102u34   ,  12   \r\n",
      "xxxxxx Hello from 14 on r102u34   ,  14   \r\n",
      "xxxxxx Hello from 16 on r102u34   ,  16   \r\n",
      "xxxxxx Hello from 18 on r102u34   ,  18   \r\n",
      "xxxxxx Hello from 20 on r102u34   ,  20   \r\n",
      "xxxxxx Hello from 22 on r102u34   ,  22   \r\n",
      "xxxxxx Hello from 23 on r102u34   ,  23   \r\n",
      "xxxxxx Hello from 25 on r102u34   ,  25   \r\n",
      "xxxxxx Hello from 27 on r102u34   ,  27   \r\n",
      "xxxxxx Hello from 29 on r102u34   ,  29   \r\n",
      "xxxxxx Hello from 31 on r102u34   ,  31   \r\n",
      "xxxxxx Hello from 30 on r102u34   ,  30   \r\n",
      "xxxxxx Hello from  2 on r102u34   ,   2   \r\n",
      "xxxxxx Hello from  4 on r102u34   ,   4   \r\n",
      "xxxxxx Hello from  5 on r102u34   ,   5   \r\n",
      "xxxxxx Hello from  6 on r102u34   ,   6   \r\n",
      "xxxxxx Hello from  7 on r102u34   ,   7   \r\n",
      "xxxxxx Hello from  9 on r102u34   ,   9   \r\n",
      "xxxxxx Hello from 13 on r102u34   ,  13   \r\n",
      "xxxxxx Hello from 15 on r102u34   ,  15   \r\n",
      "xxxxxx Hello from 17 on r102u34   ,  17   \r\n",
      "xxxxxx Hello from 21 on r102u34   ,  21   \r\n",
      "xxxxxx Hello from 24 on r102u34   ,  24   \r\n",
      "xxxxxx Hello from 26 on r102u34   ,  26   \r\n",
      "xxxxxx Hello from 28 on r102u34   ,  28   \r\n",
      "xxxxxx Hello from 19 on r102u34   ,  19   \r\n",
      "xxxxxx Hello from  3 on r102u34   ,   3   \r\n",
      "xxxxxx Hello from 33 on r102u34   ,  33   \r\n"
     ]
    }
   ],
   "source": [
    "cat report.out"
   ]
  },
  {
   "cell_type": "markdown",
   "id": "accomplished-integrity",
   "metadata": {},
   "source": [
    "<hr> \n",
    "\n",
    "### Now we are going to build and run a C mpi program"
   ]
  },
  {
   "cell_type": "code",
   "execution_count": 20,
   "id": "growing-appliance",
   "metadata": {},
   "outputs": [
    {
     "name": "stdout",
     "output_type": "stream",
     "text": [
      "\u001b[0m\u001b[38;5;27mbuild\u001b[0m/              links                       report.out\r\n",
      "\u001b[38;5;34mc_ex02\u001b[0m*             makeit                      \u001b[38;5;34mreport.py\u001b[0m*\r\n",
      "c_ex02.c            minst.out                   setup.py\r\n",
      "dompi.ipynb         mninstcu.ipynb              slurm-6812761.out\r\n",
      "dpcu.ipynb          \u001b[38;5;34mmnist1.py\u001b[0m*                  spam.c\r\n",
      "launch12            mnist.err                   \u001b[38;5;34mtensorflow2_mnist.py\u001b[0m*\r\n",
      "launch12_2          \u001b[38;5;27m__pycache__\u001b[0m/                \u001b[38;5;34mtymer.py\u001b[0m*\r\n",
      "\u001b[38;5;51mlibcusolver.so.10\u001b[0m@  \u001b[38;5;27mraw.githubusercontent.com\u001b[0m/  worked\r\n"
     ]
    }
   ],
   "source": [
    "ls"
   ]
  },
  {
   "cell_type": "code",
   "execution_count": 21,
   "id": "simplified-business",
   "metadata": {},
   "outputs": [],
   "source": [
    "!mpicc c_ex02.c -o c_ex02"
   ]
  },
  {
   "cell_type": "code",
   "execution_count": 22,
   "id": "juvenile-enforcement",
   "metadata": {},
   "outputs": [
    {
     "data": {
      "text/plain": [
       "'Hello from c process      :    0  Numprocs is    2 r102u34\\nHello from c process      :    1  Numprocs is    2 r102u35\\ngetting 1\\ni= 200 \\n'"
      ]
     },
     "execution_count": 22,
     "metadata": {},
     "output_type": "execute_result"
    }
   ],
   "source": [
    "srun -n 2 ./c_ex02"
   ]
  },
  {
   "cell_type": "code",
   "execution_count": 23,
   "id": "eight-polish",
   "metadata": {},
   "outputs": [
    {
     "name": "stdout",
     "output_type": "stream",
     "text": [
      "Hello from c process      :    0  Numprocs is    2 r102u34\n",
      "Hello from c process      :    1  Numprocs is    2 r102u35\n",
      "getting 1\n",
      "i= 200 \n",
      "\n"
     ]
    }
   ],
   "source": [
    "out=_\n",
    "out=out.split(\"\\n\")\n",
    "for o in out:\n",
    "    print(o)"
   ]
  },
  {
   "cell_type": "markdown",
   "id": "floppy-procurement",
   "metadata": {},
   "source": [
    "<hr> \n",
    "\n",
    "### We note that we can also start slurm jobs from within a notebook.  The<br> syntax is simply\n",
    "\n",
    "`\n",
    "sbatch script\n",
    "`\n",
    "\n",
    "### We could, for example, start a notebook on europa and then launch the <br>batch script given above to start a parallel notebook.\n",
    "\n"
   ]
  },
  {
   "cell_type": "code",
   "execution_count": null,
   "id": "powered-retailer",
   "metadata": {},
   "outputs": [],
   "source": []
  }
 ],
 "metadata": {
  "kernelspec": {
   "display_name": "Python 3",
   "language": "python",
   "name": "python3"
  },
  "language_info": {
   "codemirror_mode": {
    "name": "ipython",
    "version": 3
   },
   "file_extension": ".py",
   "mimetype": "text/x-python",
   "name": "python",
   "nbconvert_exporter": "python",
   "pygments_lexer": "ipython3",
   "version": "3.8.8"
  }
 },
 "nbformat": 4,
 "nbformat_minor": 5
}
