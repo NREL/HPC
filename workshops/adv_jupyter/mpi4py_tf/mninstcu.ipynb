{
 "cells": [
  {
   "cell_type": "markdown",
   "id": "55d02549",
   "metadata": {},
   "source": [
    "# slurm magics, Mnist using Tensorflow,horovod,mpi4py and cupy\n",
    "\n",
    "```\n",
    "We run the \"mnist\" example using a single and multiple GPUs.  Multigpu \n",
    "support is enabled by using Horovod and Mpi4py.\n",
    "\n",
    "Finally we take an image and blur it using the GPU running Fourier \n",
    "transforms from the cupy package.  We progressively increase the blurring.\n",
    "As the the bluring gets more intense we use the trained network to \n",
    "check if we still recognize the image.\n",
    "```\n",
    "\n",
    "## Load slurm commands\n"
   ]
  },
  {
   "cell_type": "code",
   "execution_count": 1,
   "id": "d3c7f7d9",
   "metadata": {},
   "outputs": [],
   "source": [
    "%load_ext slurm_magic"
   ]
  },
  {
   "cell_type": "markdown",
   "id": "91496bbf",
   "metadata": {},
   "source": [
    "## Run a parallel version of mnist\n",
    "```\n",
    "This will use both GPUs with each GPU getting two tasks.\n",
    "\n",
    "We send output to mnist.err and minst.out.  You can let\n",
    "the output come back \"here\" but it is a bit messy.\n",
    "\n",
    "Note we are running \"srun\" directly because it is a command\n",
    "enabled by loading slurm_magic.\n",
    "\n",
    "We can run this multiple times.  However, if we try to run\n",
    "it after running the inline example below it will hang because\n",
    "the inline run ties up the GPUs\n",
    "\n",
    "```\n",
    "\n",
    "#### Here is the output from nvidia-smi while this is running:\n",
    "```\n",
    "\n",
    "Thu Apr 22 09:57:00 2021       \n",
    "+-----------------------------------------------------------------------------+\n",
    "| NVIDIA-SMI 460.32.03    Driver Version: 460.32.03    CUDA Version: 11.2     |\n",
    "|-------------------------------+----------------------+----------------------+\n",
    "| GPU  Name        Persistence-M| Bus-Id        Disp.A | Volatile Uncorr. ECC |\n",
    "| Fan  Temp  Perf  Pwr:Usage/Cap|         Memory-Usage | GPU-Util  Compute M. |\n",
    "|                               |                      |               MIG M. |\n",
    "|===============================+======================+======================|\n",
    "|   0  Tesla V100-PCIE...  Off  | 00000000:37:00.0 Off |                    0 |\n",
    "| N/A   47C    P0    63W / 250W |   3754MiB / 16160MiB |     36%      Default |\n",
    "|                               |                      |                  N/A |\n",
    "+-------------------------------+----------------------+----------------------+\n",
    "|   1  Tesla V100-PCIE...  Off  | 00000000:86:00.0 Off |                    0 |\n",
    "| N/A   45C    P0    83W / 250W |   3754MiB / 16160MiB |     38%      Default |\n",
    "|                               |                      |                  N/A |\n",
    "+-------------------------------+----------------------+----------------------+\n",
    "                                                                               \n",
    "+-----------------------------------------------------------------------------+\n",
    "| Processes:                                                                  |\n",
    "|  GPU   GI   CI        PID   Type   Process name                  GPU Memory |\n",
    "|        ID   ID                                                   Usage      |\n",
    "|=============================================================================|\n",
    "|    0   N/A  N/A       997      C   python                           1875MiB |\n",
    "|    0   N/A  N/A       999      C   python                           1875MiB |\n",
    "|    1   N/A  N/A       998      C   python                           1875MiB |\n",
    "|    1   N/A  N/A      1000      C   python                           1875MiB |\n",
    "+-----------------------------------------------------------------------------+\n",
    "```\n"
   ]
  },
  {
   "cell_type": "code",
   "execution_count": 2,
   "id": "faf9f6c8",
   "metadata": {},
   "outputs": [
    {
     "name": "stdout",
     "output_type": "stream",
     "text": [
      "dompi.ipynb  launch_gpu          mninstcu.ipynb     \u001b[0m\u001b[38;5;34mtensorflow2_mnist.py\u001b[0m*\r\n",
      "dpcu.ipynb   \u001b[38;5;51mlibcusolver.so.10\u001b[0m@  \u001b[38;5;34mmnist1.py\u001b[0m*         \u001b[38;5;34mtymer.py\u001b[0m*\r\n",
      "launch_2     makeit              slurm-6815976.out\r\n"
     ]
    }
   ],
   "source": [
    "ls"
   ]
  },
  {
   "cell_type": "code",
   "execution_count": 3,
   "id": "53d97d61",
   "metadata": {},
   "outputs": [
    {
     "data": {
      "text/plain": [
       "''"
      ]
     },
     "execution_count": 3,
     "metadata": {},
     "output_type": "execute_result"
    }
   ],
   "source": [
    "srun -n 4 -e mnist.err -o minst.out ./tensorflow2_mnist.py"
   ]
  },
  {
   "cell_type": "code",
   "execution_count": 4,
   "id": "8766c685",
   "metadata": {},
   "outputs": [
    {
     "name": "stdout",
     "output_type": "stream",
     "text": [
      "2021-05-12 11:28:20.106754: I tensorflow/stream_executor/platform/default/dso_loader.cc:49] Successfully opened dynamic library libcudart.so.11.0\r\n",
      "2021-05-12 11:28:20.106743: I tensorflow/stream_executor/platform/default/dso_loader.cc:49] Successfully opened dynamic library libcudart.so.11.0\r\n",
      "2021-05-12 11:28:20.106742: I tensorflow/stream_executor/platform/default/dso_loader.cc:49] Successfully opened dynamic library libcudart.so.11.0\r\n",
      "2021-05-12 11:28:20.106755: I tensorflow/stream_executor/platform/default/dso_loader.cc:49] Successfully opened dynamic library libcudart.so.11.0\r\n",
      "2021-05-12 11:29:15.126086: I tensorflow/compiler/jit/xla_cpu_device.cc:41] Not creating XLA devices, tf_xla_enable_xla_devices not set\r\n",
      "2021-05-12 11:29:15.126088: I tensorflow/compiler/jit/xla_cpu_device.cc:41] Not creating XLA devices, tf_xla_enable_xla_devices not set\r\n",
      "2021-05-12 11:29:15.126087: I tensorflow/compiler/jit/xla_cpu_device.cc:41] Not creating XLA devices, tf_xla_enable_xla_devices not set\r\n",
      "2021-05-12 11:29:15.126084: I tensorflow/compiler/jit/xla_cpu_device.cc:41] Not creating XLA devices, tf_xla_enable_xla_devices not set\r\n",
      "2021-05-12 11:29:15.161755: I tensorflow/stream_executor/platform/default/dso_loader.cc:49] Successfully opened dynamic library libcuda.so.1\r\n",
      "2021-05-12 11:29:15.161760: I tensorflow/stream_executor/platform/default/dso_loader.cc:49] Successfully opened dynamic library libcuda.so.1\r\n",
      "2021-05-12 11:29:15.161765: I tensorflow/stream_executor/platform/default/dso_loader.cc:49] Successfully opened dynamic library libcuda.so.1\r\n",
      "2021-05-12 11:29:15.161826: I tensorflow/stream_executor/platform/default/dso_loader.cc:49] Successfully opened dynamic library libcuda.so.1\r\n",
      "2021-05-12 11:29:17.034238: I tensorflow/core/common_runtime/gpu/gpu_device.cc:1720] Found device 0 with properties: \r\n",
      "pciBusID: 0000:37:00.0 name: Tesla V100-PCIE-16GB computeCapability: 7.0\r\n",
      "coreClock: 1.38GHz coreCount: 80 deviceMemorySize: 15.78GiB deviceMemoryBandwidth: 836.37GiB/s\r\n",
      "2021-05-12 11:29:17.034237: I tensorflow/core/common_runtime/gpu/gpu_device.cc:1720] Found device 0 with properties: \r\n",
      "pciBusID: 0000:37:00.0 name: Tesla V100-PCIE-16GB computeCapability: 7.0\r\n",
      "coreClock: 1.38GHz coreCount: 80 deviceMemorySize: 15.78GiB deviceMemoryBandwidth: 836.37GiB/s\r\n",
      "2021-05-12 11:29:17.034245: I tensorflow/core/common_runtime/gpu/gpu_device.cc:1720] Found device 0 with properties: \r\n",
      "pciBusID: 0000:37:00.0 name: Tesla V100-PCIE-16GB computeCapability: 7.0\r\n",
      "coreClock: 1.38GHz coreCount: 80 deviceMemorySize: 15.78GiB deviceMemoryBandwidth: 836.37GiB/s\r\n",
      "2021-05-12 11:29:17.034247: I tensorflow/core/common_runtime/gpu/gpu_device.cc:1720] Found device 0 with properties: \r\n",
      "pciBusID: 0000:37:00.0 name: Tesla V100-PCIE-16GB computeCapability: 7.0\r\n",
      "coreClock: 1.38GHz coreCount: 80 deviceMemorySize: 15.78GiB deviceMemoryBandwidth: 836.37GiB/s\r\n",
      "2021-05-12 11:29:17.036598: I tensorflow/core/common_runtime/gpu/gpu_device.cc:1720] Found device 1 with properties: \r\n",
      "pciBusID: 0000:86:00.0 name: Tesla V100-PCIE-16GB computeCapability: 7.0\r\n",
      "coreClock: 1.38GHz coreCount: 80 deviceMemorySize: 15.78GiB deviceMemoryBandwidth: 836.37GiB/s\r\n",
      "2021-05-12 11:29:17.036621: I tensorflow/core/common_runtime/gpu/gpu_device.cc:1720] Found device 1 with properties: \r\n",
      "pciBusID: 0000:86:00.0 name: Tesla V100-PCIE-16GB computeCapability: 7.0\r\n",
      "coreClock: 1.38GHz coreCount: 80 deviceMemorySize: 15.78GiB deviceMemoryBandwidth: 836.37GiB/s\r\n",
      "2021-05-12 11:29:17.036647: I tensorflow/core/common_runtime/gpu/gpu_device.cc:1720] Found device 1 with properties: \r\n",
      "pciBusID: 0000:86:00.0 name: Tesla V100-PCIE-16GB computeCapability: 7.0\r\n",
      "coreClock: 1.38GHz coreCount: 80 deviceMemorySize: 15.78GiB deviceMemoryBandwidth: 836.37GiB/s\r\n",
      "2021-05-12 11:29:17.036667: I tensorflow/core/common_runtime/gpu/gpu_device.cc:1720] Found device 1 with properties: \r\n",
      "pciBusID: 0000:86:00.0 name: Tesla V100-PCIE-16GB computeCapability: 7.0\r\n",
      "coreClock: 1.38GHz coreCount: 80 deviceMemorySize: 15.78GiB deviceMemoryBandwidth: 836.37GiB/s\r\n",
      "2021-05-12 11:29:17.052509: I tensorflow/stream_executor/platform/default/dso_loader.cc:49] Successfully opened dynamic library libcudart.so.11.0\r\n",
      "2021-05-12 11:29:17.052504: I tensorflow/stream_executor/platform/default/dso_loader.cc:49] Successfully opened dynamic library libcudart.so.11.0\r\n",
      "2021-05-12 11:29:17.052509: I tensorflow/stream_executor/platform/default/dso_loader.cc:49] Successfully opened dynamic library libcudart.so.11.0\r\n",
      "2021-05-12 11:29:17.052503: I tensorflow/stream_executor/platform/default/dso_loader.cc:49] Successfully opened dynamic library libcudart.so.11.0\r\n",
      "2021-05-12 11:29:17.110068: I tensorflow/stream_executor/platform/default/dso_loader.cc:49] Successfully opened dynamic library libcublas.so.11\r\n",
      "2021-05-12 11:29:17.110096: I tensorflow/stream_executor/platform/default/dso_loader.cc:49] Successfully opened dynamic library libcublas.so.11\r\n",
      "2021-05-12 11:29:17.110113: I tensorflow/stream_executor/platform/default/dso_loader.cc:49] Successfully opened dynamic library libcublasLt.so.11\r\n",
      "2021-05-12 11:29:17.110122: I tensorflow/stream_executor/platform/default/dso_loader.cc:49] Successfully opened dynamic library libcublas.so.11\r\n",
      "2021-05-12 11:29:17.110134: I tensorflow/stream_executor/platform/default/dso_loader.cc:49] Successfully opened dynamic library libcublasLt.so.11\r\n",
      "2021-05-12 11:29:17.110126: I tensorflow/stream_executor/platform/default/dso_loader.cc:49] Successfully opened dynamic library libcublas.so.11\r\n",
      "2021-05-12 11:29:17.110198: I tensorflow/stream_executor/platform/default/dso_loader.cc:49] Successfully opened dynamic library libcublasLt.so.11\r\n",
      "2021-05-12 11:29:17.110207: I tensorflow/stream_executor/platform/default/dso_loader.cc:49] Successfully opened dynamic library libcublasLt.so.11\r\n",
      "2021-05-12 11:29:17.148300: I tensorflow/stream_executor/platform/default/dso_loader.cc:49] Successfully opened dynamic library libcufft.so.10\r\n",
      "2021-05-12 11:29:17.148296: I tensorflow/stream_executor/platform/default/dso_loader.cc:49] Successfully opened dynamic library libcufft.so.10\r\n",
      "2021-05-12 11:29:17.148291: I tensorflow/stream_executor/platform/default/dso_loader.cc:49] Successfully opened dynamic library libcufft.so.10\r\n",
      "2021-05-12 11:29:17.148298: I tensorflow/stream_executor/platform/default/dso_loader.cc:49] Successfully opened dynamic library libcufft.so.10\r\n",
      "2021-05-12 11:29:17.195817: I tensorflow/stream_executor/platform/default/dso_loader.cc:49] Successfully opened dynamic library libcurand.so.10\r\n",
      "2021-05-12 11:29:17.195827: I tensorflow/stream_executor/platform/default/dso_loader.cc:49] Successfully opened dynamic library libcurand.so.10\r\n",
      "2021-05-12 11:29:17.196246: I tensorflow/stream_executor/platform/default/dso_loader.cc:49] Successfully opened dynamic library libcurand.so.10\r\n",
      "2021-05-12 11:29:17.196260: I tensorflow/stream_executor/platform/default/dso_loader.cc:49] Successfully opened dynamic library libcurand.so.10\r\n",
      "2021-05-12 11:29:17.238327: I tensorflow/stream_executor/platform/default/dso_loader.cc:49] Successfully opened dynamic library libcusolver.so.10\r\n",
      "2021-05-12 11:29:17.238345: I tensorflow/stream_executor/platform/default/dso_loader.cc:49] Successfully opened dynamic library libcusolver.so.10\r\n",
      "2021-05-12 11:29:17.238716: I tensorflow/stream_executor/platform/default/dso_loader.cc:49] Successfully opened dynamic library libcusolver.so.10\r\n",
      "2021-05-12 11:29:17.238768: I tensorflow/stream_executor/platform/default/dso_loader.cc:49] Successfully opened dynamic library libcusolver.so.10\r\n",
      "2021-05-12 11:29:17.258717: I tensorflow/stream_executor/platform/default/dso_loader.cc:49] Successfully opened dynamic library libcusparse.so.11\r\n",
      "2021-05-12 11:29:17.258823: I tensorflow/stream_executor/platform/default/dso_loader.cc:49] Successfully opened dynamic library libcusparse.so.11\r\n",
      "2021-05-12 11:29:17.258845: I tensorflow/stream_executor/platform/default/dso_loader.cc:49] Successfully opened dynamic library libcusparse.so.11\r\n",
      "2021-05-12 11:29:17.260363: I tensorflow/stream_executor/platform/default/dso_loader.cc:49] Successfully opened dynamic library libcusparse.so.11\r\n",
      "2021-05-12 11:29:17.273577: I tensorflow/stream_executor/platform/default/dso_loader.cc:49] Successfully opened dynamic library libcudnn.so.8\r\n",
      "2021-05-12 11:29:17.273573: I tensorflow/stream_executor/platform/default/dso_loader.cc:49] Successfully opened dynamic library libcudnn.so.8\r\n",
      "2021-05-12 11:29:17.273572: I tensorflow/stream_executor/platform/default/dso_loader.cc:49] Successfully opened dynamic library libcudnn.so.8\r\n",
      "2021-05-12 11:29:17.273591: I tensorflow/stream_executor/platform/default/dso_loader.cc:49] Successfully opened dynamic library libcudnn.so.8\r\n",
      "2021-05-12 11:29:17.311229: I tensorflow/core/common_runtime/gpu/gpu_device.cc:1862] Adding visible gpu devices: 0, 1\r\n",
      "2021-05-12 11:29:17.311245: I tensorflow/core/common_runtime/gpu/gpu_device.cc:1862] Adding visible gpu devices: 0, 1\r\n",
      "2021-05-12 11:29:17.311270: I tensorflow/core/common_runtime/gpu/gpu_device.cc:1862] Adding visible gpu devices: 0, 1\r\n",
      "2021-05-12 11:29:17.311290: I tensorflow/core/common_runtime/gpu/gpu_device.cc:1862] Adding visible gpu devices: 0, 1\r\n",
      "2021-05-12 11:29:17.743111: I tensorflow/core/platform/cpu_feature_guard.cc:142] This TensorFlow binary is optimized with oneAPI Deep Neural Network Library (oneDNN) to use the following CPU instructions in performance-critical operations:  AVX512F\r\n",
      "To enable them in other operations, rebuild TensorFlow with the appropriate compiler flags.\r\n",
      "2021-05-12 11:29:17.743110: I tensorflow/core/platform/cpu_feature_guard.cc:142] This TensorFlow binary is optimized with oneAPI Deep Neural Network Library (oneDNN) to use the following CPU instructions in performance-critical operations:  AVX512F\r\n",
      "To enable them in other operations, rebuild TensorFlow with the appropriate compiler flags.\r\n",
      "2021-05-12 11:29:17.743110: I tensorflow/core/platform/cpu_feature_guard.cc:142] This TensorFlow binary is optimized with oneAPI Deep Neural Network Library (oneDNN) to use the following CPU instructions in performance-critical operations:  AVX512F\r\n",
      "To enable them in other operations, rebuild TensorFlow with the appropriate compiler flags.\r\n",
      "2021-05-12 11:29:17.743112: I tensorflow/core/platform/cpu_feature_guard.cc:142] This TensorFlow binary is optimized with oneAPI Deep Neural Network Library (oneDNN) to use the following CPU instructions in performance-critical operations:  AVX512F\r\n",
      "To enable them in other operations, rebuild TensorFlow with the appropriate compiler flags.\r\n",
      "2021-05-12 11:29:17.745030: I tensorflow/compiler/jit/xla_gpu_device.cc:99] Not creating XLA devices, tf_xla_enable_xla_devices not set\r\n",
      "2021-05-12 11:29:17.745044: I tensorflow/compiler/jit/xla_gpu_device.cc:99] Not creating XLA devices, tf_xla_enable_xla_devices not set\r\n",
      "2021-05-12 11:29:17.745065: I tensorflow/compiler/jit/xla_gpu_device.cc:99] Not creating XLA devices, tf_xla_enable_xla_devices not set\r\n",
      "2021-05-12 11:29:17.745135: I tensorflow/compiler/jit/xla_gpu_device.cc:99] Not creating XLA devices, tf_xla_enable_xla_devices not set\r\n",
      "2021-05-12 11:29:17.747626: I tensorflow/core/common_runtime/gpu/gpu_device.cc:1720] Found device 0 with properties: \r\n",
      "pciBusID: 0000:37:00.0 name: Tesla V100-PCIE-16GB computeCapability: 7.0\r\n",
      "coreClock: 1.38GHz coreCount: 80 deviceMemorySize: 15.78GiB deviceMemoryBandwidth: 836.37GiB/s\r\n",
      "2021-05-12 11:29:17.747653: I tensorflow/stream_executor/platform/default/dso_loader.cc:49] Successfully opened dynamic library libcudart.so.11.0\r\n",
      "2021-05-12 11:29:17.747661: I tensorflow/core/common_runtime/gpu/gpu_device.cc:1720] Found device 0 with properties: \r\n",
      "pciBusID: 0000:37:00.0 name: Tesla V100-PCIE-16GB computeCapability: 7.0\r\n",
      "coreClock: 1.38GHz coreCount: 80 deviceMemorySize: 15.78GiB deviceMemoryBandwidth: 836.37GiB/s\r\n",
      "2021-05-12 11:29:17.747685: I tensorflow/stream_executor/platform/default/dso_loader.cc:49] Successfully opened dynamic library libcudart.so.11.0\r\n",
      "2021-05-12 11:29:17.747683: I tensorflow/stream_executor/platform/default/dso_loader.cc:49] Successfully opened dynamic library libcublas.so.11\r\n",
      "2021-05-12 11:29:17.747693: I tensorflow/stream_executor/platform/default/dso_loader.cc:49] Successfully opened dynamic library libcublasLt.so.11\r\n",
      "2021-05-12 11:29:17.747692: I tensorflow/core/common_runtime/gpu/gpu_device.cc:1720] Found device 0 with properties: \r\n",
      "pciBusID: 0000:86:00.0 name: Tesla V100-PCIE-16GB computeCapability: 7.0\r\n",
      "coreClock: 1.38GHz coreCount: 80 deviceMemorySize: 15.78GiB deviceMemoryBandwidth: 836.37GiB/s\r\n",
      "2021-05-12 11:29:17.747703: I tensorflow/stream_executor/platform/default/dso_loader.cc:49] Successfully opened dynamic library libcufft.so.10\r\n",
      "2021-05-12 11:29:17.747714: I tensorflow/stream_executor/platform/default/dso_loader.cc:49] Successfully opened dynamic library libcurand.so.10\r\n",
      "2021-05-12 11:29:17.747715: I tensorflow/stream_executor/platform/default/dso_loader.cc:49] Successfully opened dynamic library libcublas.so.11\r\n",
      "2021-05-12 11:29:17.747725: I tensorflow/stream_executor/platform/default/dso_loader.cc:49] Successfully opened dynamic library libcublasLt.so.11\r\n",
      "2021-05-12 11:29:17.747722: I tensorflow/stream_executor/platform/default/dso_loader.cc:49] Successfully opened dynamic library libcudart.so.11.0\r\n",
      "2021-05-12 11:29:17.747723: I tensorflow/stream_executor/platform/default/dso_loader.cc:49] Successfully opened dynamic library libcusolver.so.10\r\n",
      "2021-05-12 11:29:17.747734: I tensorflow/stream_executor/platform/default/dso_loader.cc:49] Successfully opened dynamic library libcusparse.so.11\r\n",
      "2021-05-12 11:29:17.747708: I tensorflow/core/common_runtime/gpu/gpu_device.cc:1720] Found device 0 with properties: \r\n",
      "pciBusID: 0000:86:00.0 name: Tesla V100-PCIE-16GB computeCapability: 7.0\r\n",
      "coreClock: 1.38GHz coreCount: 80 deviceMemorySize: 15.78GiB deviceMemoryBandwidth: 836.37GiB/s\r\n",
      "2021-05-12 11:29:17.747732: I tensorflow/stream_executor/platform/default/dso_loader.cc:49] Successfully opened dynamic library libcudart.so.11.0\r\n",
      "2021-05-12 11:29:17.747735: I tensorflow/stream_executor/platform/default/dso_loader.cc:49] Successfully opened dynamic library libcufft.so.10\r\n",
      "2021-05-12 11:29:17.747744: I tensorflow/stream_executor/platform/default/dso_loader.cc:49] Successfully opened dynamic library libcurand.so.10\r\n",
      "2021-05-12 11:29:17.747753: I tensorflow/stream_executor/platform/default/dso_loader.cc:49] Successfully opened dynamic library libcusolver.so.10\r\n",
      "2021-05-12 11:29:17.747756: I tensorflow/stream_executor/platform/default/dso_loader.cc:49] Successfully opened dynamic library libcublas.so.11\r\n",
      "2021-05-12 11:29:17.747745: I tensorflow/stream_executor/platform/default/dso_loader.cc:49] Successfully opened dynamic library libcudnn.so.8\r\n",
      "2021-05-12 11:29:17.747763: I tensorflow/stream_executor/platform/default/dso_loader.cc:49] Successfully opened dynamic library libcusparse.so.11\r\n",
      "2021-05-12 11:29:17.747774: I tensorflow/stream_executor/platform/default/dso_loader.cc:49] Successfully opened dynamic library libcudnn.so.8\r\n",
      "2021-05-12 11:29:17.747767: I tensorflow/stream_executor/platform/default/dso_loader.cc:49] Successfully opened dynamic library libcublasLt.so.11\r\n",
      "2021-05-12 11:29:17.747778: I tensorflow/stream_executor/platform/default/dso_loader.cc:49] Successfully opened dynamic library libcufft.so.10\r\n",
      "2021-05-12 11:29:17.747789: I tensorflow/stream_executor/platform/default/dso_loader.cc:49] Successfully opened dynamic library libcurand.so.10\r\n",
      "2021-05-12 11:29:17.747763: I tensorflow/stream_executor/platform/default/dso_loader.cc:49] Successfully opened dynamic library libcublas.so.11\r\n",
      "2021-05-12 11:29:17.747775: I tensorflow/stream_executor/platform/default/dso_loader.cc:49] Successfully opened dynamic library libcublasLt.so.11\r\n",
      "2021-05-12 11:29:17.747786: I tensorflow/stream_executor/platform/default/dso_loader.cc:49] Successfully opened dynamic library libcufft.so.10\r\n",
      "2021-05-12 11:29:17.747797: I tensorflow/stream_executor/platform/default/dso_loader.cc:49] Successfully opened dynamic library libcurand.so.10\r\n",
      "2021-05-12 11:29:17.747799: I tensorflow/stream_executor/platform/default/dso_loader.cc:49] Successfully opened dynamic library libcusolver.so.10\r\n",
      "2021-05-12 11:29:17.747809: I tensorflow/stream_executor/platform/default/dso_loader.cc:49] Successfully opened dynamic library libcusparse.so.11\r\n",
      "2021-05-12 11:29:17.747807: I tensorflow/stream_executor/platform/default/dso_loader.cc:49] Successfully opened dynamic library libcusolver.so.10\r\n",
      "2021-05-12 11:29:17.747818: I tensorflow/stream_executor/platform/default/dso_loader.cc:49] Successfully opened dynamic library libcusparse.so.11\r\n",
      "2021-05-12 11:29:17.747820: I tensorflow/stream_executor/platform/default/dso_loader.cc:49] Successfully opened dynamic library libcudnn.so.8\r\n",
      "2021-05-12 11:29:17.747829: I tensorflow/stream_executor/platform/default/dso_loader.cc:49] Successfully opened dynamic library libcudnn.so.8\r\n",
      "2021-05-12 11:29:17.752018: I tensorflow/core/common_runtime/gpu/gpu_device.cc:1862] Adding visible gpu devices: 0\r\n",
      "2021-05-12 11:29:17.752055: I tensorflow/stream_executor/platform/default/dso_loader.cc:49] Successfully opened dynamic library libcudart.so.11.0\r\n",
      "2021-05-12 11:29:17.752103: I tensorflow/core/common_runtime/gpu/gpu_device.cc:1862] Adding visible gpu devices: 0\r\n",
      "2021-05-12 11:29:17.752136: I tensorflow/stream_executor/platform/default/dso_loader.cc:49] Successfully opened dynamic library libcudart.so.11.0\r\n",
      "2021-05-12 11:29:17.752246: I tensorflow/core/common_runtime/gpu/gpu_device.cc:1862] Adding visible gpu devices: 1\r\n",
      "2021-05-12 11:29:17.752267: I tensorflow/core/common_runtime/gpu/gpu_device.cc:1862] Adding visible gpu devices: 1\r\n",
      "2021-05-12 11:29:17.752285: I tensorflow/stream_executor/platform/default/dso_loader.cc:49] Successfully opened dynamic library libcudart.so.11.0\r\n",
      "2021-05-12 11:29:17.752299: I tensorflow/stream_executor/platform/default/dso_loader.cc:49] Successfully opened dynamic library libcudart.so.11.0\r\n",
      "2021-05-12 11:29:18.967024: I tensorflow/core/common_runtime/gpu/gpu_device.cc:1261] Device interconnect StreamExecutor with strength 1 edge matrix:\r\n",
      "2021-05-12 11:29:18.967071: I tensorflow/core/common_runtime/gpu/gpu_device.cc:1267]      0 \r\n",
      "2021-05-12 11:29:18.967079: I tensorflow/core/common_runtime/gpu/gpu_device.cc:1280] 0:   N \r\n",
      "2021-05-12 11:29:18.969897: I tensorflow/core/common_runtime/gpu/gpu_device.cc:1406] Created TensorFlow device (/job:localhost/replica:0/task:0/device:GPU:0 with 14346 MB memory) -> physical GPU (device: 0, name: Tesla V100-PCIE-16GB, pci bus id: 0000:37:00.0, compute capability: 7.0)\r\n",
      "2021-05-12 11:29:18.971659: I tensorflow/core/common_runtime/gpu/gpu_device.cc:1261] Device interconnect StreamExecutor with strength 1 edge matrix:\r\n",
      "2021-05-12 11:29:18.971699: I tensorflow/core/common_runtime/gpu/gpu_device.cc:1267]      1 \r\n",
      "2021-05-12 11:29:18.971708: I tensorflow/core/common_runtime/gpu/gpu_device.cc:1280] 1:   N \r\n",
      "2021-05-12 11:29:18.972532: I tensorflow/core/common_runtime/gpu/gpu_device.cc:1261] Device interconnect StreamExecutor with strength 1 edge matrix:\r\n",
      "2021-05-12 11:29:18.972559: I tensorflow/core/common_runtime/gpu/gpu_device.cc:1267]      1 \r\n",
      "2021-05-12 11:29:18.972567: I tensorflow/core/common_runtime/gpu/gpu_device.cc:1280] 1:   N \r\n",
      "2021-05-12 11:29:18.974424: I tensorflow/core/common_runtime/gpu/gpu_device.cc:1406] Created TensorFlow device (/job:localhost/replica:0/task:0/device:GPU:0 with 14331 MB memory) -> physical GPU (device: 1, name: Tesla V100-PCIE-16GB, pci bus id: 0000:86:00.0, compute capability: 7.0)\r\n",
      "2021-05-12 11:29:18.975320: I tensorflow/core/common_runtime/gpu/gpu_device.cc:1406] Created TensorFlow device (/job:localhost/replica:0/task:0/device:GPU:0 with 14331 MB memory) -> physical GPU (device: 1, name: Tesla V100-PCIE-16GB, pci bus id: 0000:86:00.0, compute capability: 7.0)\r\n",
      "2021-05-12 11:29:19.015068: I tensorflow/core/common_runtime/gpu/gpu_device.cc:1261] Device interconnect StreamExecutor with strength 1 edge matrix:\r\n",
      "2021-05-12 11:29:19.015102: I tensorflow/core/common_runtime/gpu/gpu_device.cc:1267]      0 \r\n",
      "2021-05-12 11:29:19.015110: I tensorflow/core/common_runtime/gpu/gpu_device.cc:1280] 0:   N \r\n",
      "2021-05-12 11:29:19.016954: I tensorflow/core/common_runtime/gpu/gpu_device.cc:1406] Created TensorFlow device (/job:localhost/replica:0/task:0/device:GPU:0 with 14331 MB memory) -> physical GPU (device: 0, name: Tesla V100-PCIE-16GB, pci bus id: 0000:37:00.0, compute capability: 7.0)\r\n",
      "2021-05-12 11:29:22.027369: I tensorflow/compiler/mlir/mlir_graph_optimization_pass.cc:116] None of the MLIR optimization passes are enabled (registered 2)\r\n",
      "2021-05-12 11:29:22.027362: I tensorflow/compiler/mlir/mlir_graph_optimization_pass.cc:116] None of the MLIR optimization passes are enabled (registered 2)\r\n",
      "2021-05-12 11:29:22.027369: I tensorflow/compiler/mlir/mlir_graph_optimization_pass.cc:116] None of the MLIR optimization passes are enabled (registered 2)\r\n",
      "2021-05-12 11:29:22.027365: I tensorflow/compiler/mlir/mlir_graph_optimization_pass.cc:116] None of the MLIR optimization passes are enabled (registered 2)\r\n",
      "2021-05-12 11:29:22.033362: I tensorflow/core/platform/profile_utils/cpu_utils.cc:112] CPU Frequency: 3000000000 Hz\r\n",
      "2021-05-12 11:29:22.033364: I tensorflow/core/platform/profile_utils/cpu_utils.cc:112] CPU Frequency: 3000000000 Hz\r\n",
      "2021-05-12 11:29:22.033369: I tensorflow/core/platform/profile_utils/cpu_utils.cc:112] CPU Frequency: 3000000000 Hz\r\n",
      "2021-05-12 11:29:22.033373: I tensorflow/core/platform/profile_utils/cpu_utils.cc:112] CPU Frequency: 3000000000 Hz\r\n",
      "2021-05-12 11:29:22.660032: I tensorflow/stream_executor/platform/default/dso_loader.cc:49] Successfully opened dynamic library libcublas.so.11\r\n",
      "2021-05-12 11:29:22.660032: I tensorflow/stream_executor/platform/default/dso_loader.cc:49] Successfully opened dynamic library libcublas.so.11\r\n",
      "2021-05-12 11:29:22.660044: I tensorflow/stream_executor/platform/default/dso_loader.cc:49] Successfully opened dynamic library libcublas.so.11\r\n",
      "2021-05-12 11:29:22.660039: I tensorflow/stream_executor/platform/default/dso_loader.cc:49] Successfully opened dynamic library libcublas.so.11\r\n",
      "2021-05-12 11:29:23.020827: I tensorflow/stream_executor/platform/default/dso_loader.cc:49] Successfully opened dynamic library libcublasLt.so.11\r\n",
      "2021-05-12 11:29:23.030800: I tensorflow/stream_executor/platform/default/dso_loader.cc:49] Successfully opened dynamic library libcublasLt.so.11\r\n",
      "2021-05-12 11:29:23.032234: I tensorflow/stream_executor/platform/default/dso_loader.cc:49] Successfully opened dynamic library libcublasLt.so.11\r\n",
      "2021-05-12 11:29:23.032600: I tensorflow/stream_executor/platform/default/dso_loader.cc:49] Successfully opened dynamic library libcublasLt.so.11\r\n",
      "2021-05-12 11:29:23.050060: I tensorflow/stream_executor/platform/default/dso_loader.cc:49] Successfully opened dynamic library libcudnn.so.8\r\n",
      "2021-05-12 11:29:23.050086: I tensorflow/stream_executor/platform/default/dso_loader.cc:49] Successfully opened dynamic library libcudnn.so.8\r\n",
      "2021-05-12 11:29:23.050119: I tensorflow/stream_executor/platform/default/dso_loader.cc:49] Successfully opened dynamic library libcudnn.so.8\r\n",
      "2021-05-12 11:29:23.087856: I tensorflow/stream_executor/platform/default/dso_loader.cc:49] Successfully opened dynamic library libcudnn.so.8\r\n"
     ]
    }
   ],
   "source": [
    "cat mnist.err"
   ]
  },
  {
   "cell_type": "code",
   "execution_count": 5,
   "id": "189de10c",
   "metadata": {},
   "outputs": [
    {
     "name": "stdout",
     "output_type": "stream",
     "text": [
      "1620840550.005897 Wed May 12 11:29:10 2021      0.000      0.000 start\r\n",
      "hello from  1  of  4\r\n",
      "gpus  [PhysicalDevice(name='/physical_device:GPU:0', device_type='GPU'), PhysicalDevice(name='/physical_device:GPU:1', device_type='GPU')]  on  r103u21 mpi task  1  of  4\r\n",
      "1620840557.311423 Wed May 12 11:29:17 2021      7.306      7.306 [PhysicalDevice(name='/physical_device:GPU:0', device_type='GPU'), PhysicalDevice(name='/physical_device:GPU:1', device_type='GPU')]\r\n",
      "hvd.local_rank() 1\r\n",
      "gpu=  1 PhysicalDevice(name='/physical_device:GPU:0', device_type='GPU')\r\n",
      "gpu=  2 PhysicalDevice(name='/physical_device:GPU:1', device_type='GPU')\r\n",
      "gpus detected:  2\r\n",
      "1620840597.790245 Wed May 12 11:29:57 2021     47.784     40.479 done\r\n",
      "1620840550.004649 Wed May 12 11:29:10 2021      0.000      0.000 start\r\n",
      "hello from  3  of  4\r\n",
      "gpus  [PhysicalDevice(name='/physical_device:GPU:0', device_type='GPU'), PhysicalDevice(name='/physical_device:GPU:1', device_type='GPU')]  on  r103u21 mpi task  3  of  4\r\n",
      "1620840557.311361 Wed May 12 11:29:17 2021      7.307      7.307 [PhysicalDevice(name='/physical_device:GPU:0', device_type='GPU'), PhysicalDevice(name='/physical_device:GPU:1', device_type='GPU')]\r\n",
      "hvd.local_rank() 3\r\n",
      "gpu=  1 PhysicalDevice(name='/physical_device:GPU:0', device_type='GPU')\r\n",
      "gpu=  2 PhysicalDevice(name='/physical_device:GPU:1', device_type='GPU')\r\n",
      "gpus detected:  2\r\n",
      "1620840597.790247 Wed May 12 11:29:57 2021     47.786     40.479 done\r\n",
      "1620840550.005495 Wed May 12 11:29:10 2021      0.000      0.000 start\r\n",
      "hello from  2  of  4\r\n",
      "gpus  [PhysicalDevice(name='/physical_device:GPU:0', device_type='GPU'), PhysicalDevice(name='/physical_device:GPU:1', device_type='GPU')]  on  r103u21 mpi task  2  of  4\r\n",
      "1620840557.311373 Wed May 12 11:29:17 2021      7.306      7.306 [PhysicalDevice(name='/physical_device:GPU:0', device_type='GPU'), PhysicalDevice(name='/physical_device:GPU:1', device_type='GPU')]\r\n",
      "hvd.local_rank() 2\r\n",
      "gpu=  1 PhysicalDevice(name='/physical_device:GPU:0', device_type='GPU')\r\n",
      "gpu=  2 PhysicalDevice(name='/physical_device:GPU:1', device_type='GPU')\r\n",
      "gpus detected:  2\r\n",
      "1620840597.790245 Wed May 12 11:29:57 2021     47.785     40.479 done\r\n",
      "1620840550.005098 Wed May 12 11:29:10 2021      0.000      0.000 start\r\n",
      "hello from  0  of  4\r\n",
      "gpus  [PhysicalDevice(name='/physical_device:GPU:0', device_type='GPU'), PhysicalDevice(name='/physical_device:GPU:1', device_type='GPU')]  on  r103u21 mpi task  0  of  4\r\n",
      "1620840557.311401 Wed May 12 11:29:17 2021      7.306      7.306 [PhysicalDevice(name='/physical_device:GPU:0', device_type='GPU'), PhysicalDevice(name='/physical_device:GPU:1', device_type='GPU')]\r\n",
      "hvd.local_rank() 0\r\n",
      "gpu=  1 PhysicalDevice(name='/physical_device:GPU:0', device_type='GPU')\r\n",
      "gpu=  2 PhysicalDevice(name='/physical_device:GPU:1', device_type='GPU')\r\n",
      "gpus detected:  2\r\n",
      "Step #0\tLoss: 2.341968\r\n",
      "Step #10\tLoss: 0.529779\r\n",
      "Step #20\tLoss: 0.312010\r\n",
      "Step #30\tLoss: 0.315005\r\n",
      "Step #40\tLoss: 0.110497\r\n",
      "Step #50\tLoss: 0.193872\r\n",
      "Step #60\tLoss: 0.137658\r\n",
      "Step #70\tLoss: 0.090179\r\n",
      "Step #80\tLoss: 0.130216\r\n",
      "Step #90\tLoss: 0.086156\r\n",
      "Step #100\tLoss: 0.076225\r\n",
      "Step #110\tLoss: 0.065707\r\n",
      "Step #120\tLoss: 0.079579\r\n",
      "Step #130\tLoss: 0.146122\r\n",
      "Step #140\tLoss: 0.106551\r\n",
      "Step #150\tLoss: 0.048072\r\n",
      "Step #160\tLoss: 0.077912\r\n",
      "Step #170\tLoss: 0.050301\r\n",
      "Step #180\tLoss: 0.084926\r\n",
      "Step #190\tLoss: 0.048178\r\n",
      "Step #200\tLoss: 0.059758\r\n",
      "Step #210\tLoss: 0.079364\r\n",
      "Step #220\tLoss: 0.103047\r\n",
      "Step #230\tLoss: 0.023922\r\n",
      "Step #240\tLoss: 0.030807\r\n",
      "Step #250\tLoss: 0.100935\r\n",
      "Step #260\tLoss: 0.093782\r\n",
      "Step #270\tLoss: 0.050849\r\n",
      "Step #280\tLoss: 0.076009\r\n",
      "Step #290\tLoss: 0.055640\r\n",
      "Step #300\tLoss: 0.155513\r\n",
      "Step #310\tLoss: 0.040915\r\n",
      "Step #320\tLoss: 0.087772\r\n",
      "Step #330\tLoss: 0.098816\r\n",
      "Step #340\tLoss: 0.055362\r\n",
      "Step #350\tLoss: 0.059595\r\n",
      "Step #360\tLoss: 0.080288\r\n",
      "Step #370\tLoss: 0.057899\r\n",
      "Step #380\tLoss: 0.030177\r\n",
      "Step #390\tLoss: 0.041290\r\n",
      "Step #400\tLoss: 0.062230\r\n",
      "Step #410\tLoss: 0.019840\r\n",
      "Step #420\tLoss: 0.113044\r\n",
      "Step #430\tLoss: 0.036241\r\n",
      "Step #440\tLoss: 0.038880\r\n",
      "Step #450\tLoss: 0.025646\r\n",
      "Step #460\tLoss: 0.197536\r\n",
      "Step #470\tLoss: 0.039042\r\n",
      "Step #480\tLoss: 0.028531\r\n",
      "Step #490\tLoss: 0.016714\r\n",
      "Step #500\tLoss: 0.062478\r\n",
      "Step #510\tLoss: 0.020083\r\n",
      "Step #520\tLoss: 0.062593\r\n",
      "Step #530\tLoss: 0.009397\r\n",
      "Step #540\tLoss: 0.047911\r\n",
      "Step #550\tLoss: 0.006010\r\n",
      "Step #560\tLoss: 0.012298\r\n",
      "Step #570\tLoss: 0.093555\r\n",
      "Step #580\tLoss: 0.045609\r\n",
      "Step #590\tLoss: 0.022636\r\n",
      "Step #600\tLoss: 0.083793\r\n",
      "Step #610\tLoss: 0.019098\r\n",
      "Step #620\tLoss: 0.086731\r\n",
      "Step #630\tLoss: 0.087312\r\n",
      "Step #640\tLoss: 0.039970\r\n",
      "Step #650\tLoss: 0.049151\r\n",
      "Step #660\tLoss: 0.015975\r\n",
      "Step #670\tLoss: 0.059319\r\n",
      "Step #680\tLoss: 0.051559\r\n",
      "Step #690\tLoss: 0.041845\r\n",
      "Step #700\tLoss: 0.020095\r\n",
      "Step #710\tLoss: 0.052901\r\n",
      "Step #720\tLoss: 0.026606\r\n",
      "Step #730\tLoss: 0.023061\r\n",
      "Step #740\tLoss: 0.012675\r\n",
      "Step #750\tLoss: 0.021429\r\n",
      "Step #760\tLoss: 0.033480\r\n",
      "Step #770\tLoss: 0.096113\r\n",
      "Step #780\tLoss: 0.088203\r\n",
      "Step #790\tLoss: 0.014653\r\n",
      "Step #800\tLoss: 0.018406\r\n",
      "Step #810\tLoss: 0.078755\r\n",
      "Step #820\tLoss: 0.019014\r\n",
      "Step #830\tLoss: 0.008927\r\n",
      "Step #840\tLoss: 0.027826\r\n",
      "Step #850\tLoss: 0.055984\r\n",
      "Step #860\tLoss: 0.105209\r\n",
      "Step #870\tLoss: 0.027433\r\n",
      "Step #880\tLoss: 0.026212\r\n",
      "Step #890\tLoss: 0.004151\r\n",
      "Step #900\tLoss: 0.104325\r\n",
      "Step #910\tLoss: 0.052768\r\n",
      "Step #920\tLoss: 0.020877\r\n",
      "Step #930\tLoss: 0.011743\r\n",
      "Step #940\tLoss: 0.043292\r\n",
      "Step #950\tLoss: 0.009792\r\n",
      "Step #960\tLoss: 0.041783\r\n",
      "Step #970\tLoss: 0.005507\r\n",
      "Step #980\tLoss: 0.053564\r\n",
      "Step #990\tLoss: 0.005613\r\n",
      "Step #1000\tLoss: 0.010649\r\n",
      "Step #1010\tLoss: 0.011189\r\n",
      "Step #1020\tLoss: 0.019403\r\n",
      "Step #1030\tLoss: 0.019903\r\n",
      "Step #1040\tLoss: 0.021842\r\n",
      "Step #1050\tLoss: 0.018573\r\n",
      "Step #1060\tLoss: 0.010913\r\n",
      "Step #1070\tLoss: 0.058545\r\n",
      "Step #1080\tLoss: 0.013794\r\n",
      "Step #1090\tLoss: 0.005178\r\n",
      "Step #1100\tLoss: 0.037508\r\n",
      "Step #1110\tLoss: 0.018845\r\n",
      "Step #1120\tLoss: 0.020153\r\n",
      "Step #1130\tLoss: 0.019995\r\n",
      "Step #1140\tLoss: 0.004750\r\n",
      "Step #1150\tLoss: 0.043311\r\n",
      "Step #1160\tLoss: 0.026858\r\n",
      "Step #1170\tLoss: 0.013763\r\n",
      "Step #1180\tLoss: 0.037968\r\n",
      "Step #1190\tLoss: 0.063889\r\n",
      "Step #1200\tLoss: 0.002196\r\n",
      "Step #1210\tLoss: 0.008525\r\n",
      "Step #1220\tLoss: 0.027845\r\n",
      "Step #1230\tLoss: 0.024311\r\n",
      "Step #1240\tLoss: 0.013412\r\n",
      "Step #1250\tLoss: 0.067604\r\n",
      "Step #1260\tLoss: 0.052039\r\n",
      "Step #1270\tLoss: 0.010090\r\n",
      "Step #1280\tLoss: 0.033401\r\n",
      "Step #1290\tLoss: 0.031431\r\n",
      "Step #1300\tLoss: 0.047005\r\n",
      "Step #1310\tLoss: 0.003572\r\n",
      "Step #1320\tLoss: 0.015546\r\n",
      "Step #1330\tLoss: 0.015556\r\n",
      "Step #1340\tLoss: 0.015098\r\n",
      "Step #1350\tLoss: 0.080052\r\n",
      "Step #1360\tLoss: 0.012078\r\n",
      "Step #1370\tLoss: 0.046474\r\n",
      "Step #1380\tLoss: 0.017706\r\n",
      "Step #1390\tLoss: 0.012010\r\n",
      "Step #1400\tLoss: 0.007140\r\n",
      "Step #1410\tLoss: 0.014031\r\n",
      "Step #1420\tLoss: 0.008403\r\n",
      "Step #1430\tLoss: 0.013516\r\n",
      "Step #1440\tLoss: 0.008909\r\n",
      "Step #1450\tLoss: 0.013136\r\n",
      "Step #1460\tLoss: 0.039298\r\n",
      "Step #1470\tLoss: 0.007879\r\n",
      "Step #1480\tLoss: 0.019245\r\n",
      "Step #1490\tLoss: 0.003689\r\n",
      "Step #1500\tLoss: 0.012821\r\n",
      "Step #1510\tLoss: 0.014750\r\n",
      "Step #1520\tLoss: 0.069151\r\n",
      "Step #1530\tLoss: 0.002904\r\n",
      "Step #1540\tLoss: 0.034269\r\n",
      "Step #1550\tLoss: 0.007546\r\n",
      "Step #1560\tLoss: 0.017728\r\n",
      "Step #1570\tLoss: 0.011744\r\n",
      "Step #1580\tLoss: 0.003287\r\n",
      "Step #1590\tLoss: 0.067494\r\n",
      "Step #1600\tLoss: 0.021063\r\n",
      "Step #1610\tLoss: 0.002611\r\n",
      "Step #1620\tLoss: 0.029925\r\n",
      "Step #1630\tLoss: 0.012813\r\n",
      "Step #1640\tLoss: 0.016834\r\n",
      "Step #1650\tLoss: 0.004959\r\n",
      "Step #1660\tLoss: 0.005191\r\n",
      "Step #1670\tLoss: 0.025700\r\n",
      "Step #1680\tLoss: 0.023353\r\n",
      "Step #1690\tLoss: 0.026210\r\n",
      "Step #1700\tLoss: 0.016569\r\n",
      "Step #1710\tLoss: 0.014619\r\n",
      "Step #1720\tLoss: 0.032951\r\n",
      "Step #1730\tLoss: 0.001492\r\n",
      "Step #1740\tLoss: 0.004739\r\n",
      "Step #1750\tLoss: 0.015195\r\n",
      "Step #1760\tLoss: 0.014328\r\n",
      "Step #1770\tLoss: 0.021676\r\n",
      "Step #1780\tLoss: 0.053391\r\n",
      "Step #1790\tLoss: 0.004266\r\n",
      "Step #1800\tLoss: 0.076849\r\n",
      "Step #1810\tLoss: 0.008554\r\n",
      "Step #1820\tLoss: 0.023135\r\n",
      "Step #1830\tLoss: 0.024783\r\n",
      "Step #1840\tLoss: 0.041424\r\n",
      "Step #1850\tLoss: 0.011511\r\n",
      "Step #1860\tLoss: 0.011380\r\n",
      "Step #1870\tLoss: 0.009573\r\n",
      "Step #1880\tLoss: 0.024979\r\n",
      "Step #1890\tLoss: 0.009800\r\n",
      "Step #1900\tLoss: 0.004921\r\n",
      "Step #1910\tLoss: 0.026159\r\n",
      "Step #1920\tLoss: 0.029155\r\n",
      "Step #1930\tLoss: 0.011741\r\n",
      "Step #1940\tLoss: 0.005954\r\n",
      "Step #1950\tLoss: 0.004520\r\n",
      "Step #1960\tLoss: 0.008787\r\n",
      "Step #1970\tLoss: 0.014572\r\n",
      "Step #1980\tLoss: 0.023159\r\n",
      "Step #1990\tLoss: 0.028881\r\n",
      "Step #2000\tLoss: 0.016145\r\n",
      "Step #2010\tLoss: 0.028940\r\n",
      "Step #2020\tLoss: 0.006930\r\n",
      "Step #2030\tLoss: 0.004372\r\n",
      "Step #2040\tLoss: 0.079805\r\n",
      "Step #2050\tLoss: 0.013382\r\n",
      "Step #2060\tLoss: 0.001611\r\n",
      "Step #2070\tLoss: 0.003353\r\n",
      "Step #2080\tLoss: 0.003275\r\n",
      "Step #2090\tLoss: 0.078557\r\n",
      "Step #2100\tLoss: 0.025150\r\n",
      "Step #2110\tLoss: 0.012247\r\n",
      "Step #2120\tLoss: 0.000463\r\n",
      "Step #2130\tLoss: 0.019525\r\n",
      "Step #2140\tLoss: 0.020329\r\n",
      "Step #2150\tLoss: 0.004969\r\n",
      "Step #2160\tLoss: 0.008890\r\n",
      "Step #2170\tLoss: 0.007251\r\n",
      "Step #2180\tLoss: 0.007963\r\n",
      "Step #2190\tLoss: 0.062361\r\n",
      "Step #2200\tLoss: 0.017775\r\n",
      "Step #2210\tLoss: 0.008269\r\n",
      "Step #2220\tLoss: 0.001317\r\n",
      "Step #2230\tLoss: 0.050289\r\n",
      "Step #2240\tLoss: 0.004828\r\n",
      "Step #2250\tLoss: 0.005095\r\n",
      "Step #2260\tLoss: 0.012175\r\n",
      "Step #2270\tLoss: 0.045314\r\n",
      "Step #2280\tLoss: 0.036991\r\n",
      "Step #2290\tLoss: 0.005559\r\n",
      "Step #2300\tLoss: 0.041218\r\n",
      "Step #2310\tLoss: 0.007443\r\n",
      "Step #2320\tLoss: 0.045938\r\n",
      "Step #2330\tLoss: 0.015465\r\n",
      "Step #2340\tLoss: 0.005476\r\n",
      "Step #2350\tLoss: 0.030319\r\n",
      "Step #2360\tLoss: 0.003575\r\n",
      "Step #2370\tLoss: 0.045026\r\n",
      "Step #2380\tLoss: 0.030736\r\n",
      "Step #2390\tLoss: 0.008251\r\n",
      "Step #2400\tLoss: 0.030042\r\n",
      "Step #2410\tLoss: 0.005167\r\n",
      "Step #2420\tLoss: 0.015639\r\n",
      "Step #2430\tLoss: 0.005263\r\n",
      "Step #2440\tLoss: 0.040057\r\n",
      "Step #2450\tLoss: 0.010051\r\n",
      "Step #2460\tLoss: 0.002564\r\n",
      "Step #2470\tLoss: 0.043125\r\n",
      "Step #2480\tLoss: 0.058614\r\n",
      "Step #2490\tLoss: 0.003545\r\n",
      "1620840597.922012 Wed May 12 11:29:57 2021     47.917     40.611 done\r\n"
     ]
    }
   ],
   "source": [
    "cat minst.out"
   ]
  },
  {
   "cell_type": "markdown",
   "id": "bc259123",
   "metadata": {},
   "source": [
    "### Simpler example three different ways\n",
    "```\n",
    "Here we run the example from\n",
    "\n",
    "[https://towardsdatascience.com/image-classification-in-10-minutes-with-mnist-dataset-54c35b77a38d]\n",
    "\n",
    "three different ways.  We run it:\n",
    "```\n",
    "- From the command line\n",
    "- Reading it in as a file and then running exec on the input\n",
    "- As individual cells within the notebook\n"
   ]
  },
  {
   "cell_type": "code",
   "execution_count": 6,
   "id": "f9c9ca7a",
   "metadata": {},
   "outputs": [
    {
     "name": "stdout",
     "output_type": "stream",
     "text": [
      "SLURM_JOB_GPUS : 0,1\n",
      "GPU_DEVICE_ORDINAL : 0,1\n",
      "SLURM_GPUS_PER_NODE : 2\n",
      "2021-05-12 11:30:01.992643: I tensorflow/stream_executor/platform/default/dso_loader.cc:49] Successfully opened dynamic library libcudart.so.11.0\n",
      "8\n",
      "x_train shape: (60000, 28, 28, 1)\n",
      "Number of images in x_train 60000\n",
      "Number of images in x_test 10000\n",
      "2021-05-12 11:30:08.003756: I tensorflow/compiler/jit/xla_cpu_device.cc:41] Not creating XLA devices, tf_xla_enable_xla_devices not set\n",
      "2021-05-12 11:30:08.005126: I tensorflow/stream_executor/platform/default/dso_loader.cc:49] Successfully opened dynamic library libcuda.so.1\n",
      "2021-05-12 11:30:09.617290: I tensorflow/core/common_runtime/gpu/gpu_device.cc:1720] Found device 0 with properties: \n",
      "pciBusID: 0000:37:00.0 name: Tesla V100-PCIE-16GB computeCapability: 7.0\n",
      "coreClock: 1.38GHz coreCount: 80 deviceMemorySize: 15.78GiB deviceMemoryBandwidth: 836.37GiB/s\n",
      "2021-05-12 11:30:09.617930: I tensorflow/core/common_runtime/gpu/gpu_device.cc:1720] Found device 1 with properties: \n",
      "pciBusID: 0000:86:00.0 name: Tesla V100-PCIE-16GB computeCapability: 7.0\n",
      "coreClock: 1.38GHz coreCount: 80 deviceMemorySize: 15.78GiB deviceMemoryBandwidth: 836.37GiB/s\n",
      "2021-05-12 11:30:09.617975: I tensorflow/stream_executor/platform/default/dso_loader.cc:49] Successfully opened dynamic library libcudart.so.11.0\n",
      "2021-05-12 11:30:09.623067: I tensorflow/stream_executor/platform/default/dso_loader.cc:49] Successfully opened dynamic library libcublas.so.11\n",
      "2021-05-12 11:30:09.623141: I tensorflow/stream_executor/platform/default/dso_loader.cc:49] Successfully opened dynamic library libcublasLt.so.11\n",
      "2021-05-12 11:30:09.624697: I tensorflow/stream_executor/platform/default/dso_loader.cc:49] Successfully opened dynamic library libcufft.so.10\n",
      "2021-05-12 11:30:09.625787: I tensorflow/stream_executor/platform/default/dso_loader.cc:49] Successfully opened dynamic library libcurand.so.10\n",
      "2021-05-12 11:30:09.630445: I tensorflow/stream_executor/platform/default/dso_loader.cc:49] Successfully opened dynamic library libcusolver.so.10\n",
      "2021-05-12 11:30:09.631413: I tensorflow/stream_executor/platform/default/dso_loader.cc:49] Successfully opened dynamic library libcusparse.so.11\n",
      "2021-05-12 11:30:09.631954: I tensorflow/stream_executor/platform/default/dso_loader.cc:49] Successfully opened dynamic library libcudnn.so.8\n",
      "2021-05-12 11:30:09.634216: I tensorflow/core/common_runtime/gpu/gpu_device.cc:1862] Adding visible gpu devices: 0, 1\n",
      "2021-05-12 11:30:09.634577: I tensorflow/core/platform/cpu_feature_guard.cc:142] This TensorFlow binary is optimized with oneAPI Deep Neural Network Library (oneDNN) to use the following CPU instructions in performance-critical operations:  AVX512F\n",
      "To enable them in other operations, rebuild TensorFlow with the appropriate compiler flags.\n",
      "2021-05-12 11:30:09.636487: I tensorflow/compiler/jit/xla_gpu_device.cc:99] Not creating XLA devices, tf_xla_enable_xla_devices not set\n",
      "2021-05-12 11:30:09.842440: I tensorflow/core/common_runtime/gpu/gpu_device.cc:1720] Found device 0 with properties: \n",
      "pciBusID: 0000:37:00.0 name: Tesla V100-PCIE-16GB computeCapability: 7.0\n",
      "coreClock: 1.38GHz coreCount: 80 deviceMemorySize: 15.78GiB deviceMemoryBandwidth: 836.37GiB/s\n",
      "2021-05-12 11:30:09.843089: I tensorflow/core/common_runtime/gpu/gpu_device.cc:1720] Found device 1 with properties: \n",
      "pciBusID: 0000:86:00.0 name: Tesla V100-PCIE-16GB computeCapability: 7.0\n",
      "coreClock: 1.38GHz coreCount: 80 deviceMemorySize: 15.78GiB deviceMemoryBandwidth: 836.37GiB/s\n",
      "2021-05-12 11:30:09.843135: I tensorflow/stream_executor/platform/default/dso_loader.cc:49] Successfully opened dynamic library libcudart.so.11.0\n",
      "2021-05-12 11:30:09.843172: I tensorflow/stream_executor/platform/default/dso_loader.cc:49] Successfully opened dynamic library libcublas.so.11\n",
      "2021-05-12 11:30:09.843186: I tensorflow/stream_executor/platform/default/dso_loader.cc:49] Successfully opened dynamic library libcublasLt.so.11\n",
      "2021-05-12 11:30:09.843199: I tensorflow/stream_executor/platform/default/dso_loader.cc:49] Successfully opened dynamic library libcufft.so.10\n",
      "2021-05-12 11:30:09.843213: I tensorflow/stream_executor/platform/default/dso_loader.cc:49] Successfully opened dynamic library libcurand.so.10\n",
      "2021-05-12 11:30:09.843228: I tensorflow/stream_executor/platform/default/dso_loader.cc:49] Successfully opened dynamic library libcusolver.so.10\n",
      "2021-05-12 11:30:09.843242: I tensorflow/stream_executor/platform/default/dso_loader.cc:49] Successfully opened dynamic library libcusparse.so.11\n",
      "2021-05-12 11:30:09.843257: I tensorflow/stream_executor/platform/default/dso_loader.cc:49] Successfully opened dynamic library libcudnn.so.8\n",
      "2021-05-12 11:30:09.845424: I tensorflow/core/common_runtime/gpu/gpu_device.cc:1862] Adding visible gpu devices: 0, 1\n",
      "2021-05-12 11:30:09.845474: I tensorflow/stream_executor/platform/default/dso_loader.cc:49] Successfully opened dynamic library libcudart.so.11.0\n",
      "2021-05-12 11:30:10.674723: I tensorflow/core/common_runtime/gpu/gpu_device.cc:1261] Device interconnect StreamExecutor with strength 1 edge matrix:\n",
      "2021-05-12 11:30:10.674793: I tensorflow/core/common_runtime/gpu/gpu_device.cc:1267]      0 1 \n",
      "2021-05-12 11:30:10.674805: I tensorflow/core/common_runtime/gpu/gpu_device.cc:1280] 0:   N Y \n",
      "2021-05-12 11:30:10.674815: I tensorflow/core/common_runtime/gpu/gpu_device.cc:1280] 1:   Y N \n",
      "2021-05-12 11:30:10.677269: I tensorflow/core/common_runtime/gpu/gpu_device.cc:1406] Created TensorFlow device (/job:localhost/replica:0/task:0/device:GPU:0 with 14759 MB memory) -> physical GPU (device: 0, name: Tesla V100-PCIE-16GB, pci bus id: 0000:37:00.0, compute capability: 7.0)\n",
      "2021-05-12 11:30:10.678724: I tensorflow/core/common_runtime/gpu/gpu_device.cc:1406] Created TensorFlow device (/job:localhost/replica:0/task:0/device:GPU:1 with 14759 MB memory) -> physical GPU (device: 1, name: Tesla V100-PCIE-16GB, pci bus id: 0000:86:00.0, compute capability: 7.0)\n",
      "2021-05-12 11:30:10.997905: I tensorflow/compiler/mlir/mlir_graph_optimization_pass.cc:116] None of the MLIR optimization passes are enabled (registered 2)\n",
      "2021-05-12 11:30:10.998460: I tensorflow/core/platform/profile_utils/cpu_utils.cc:112] CPU Frequency: 3000000000 Hz\n",
      "Epoch 1/10\n",
      "2021-05-12 11:30:11.414808: I tensorflow/stream_executor/platform/default/dso_loader.cc:49] Successfully opened dynamic library libcublas.so.11\n",
      "2021-05-12 11:30:11.791098: I tensorflow/stream_executor/platform/default/dso_loader.cc:49] Successfully opened dynamic library libcublasLt.so.11\n",
      "2021-05-12 11:30:11.792559: I tensorflow/stream_executor/platform/default/dso_loader.cc:49] Successfully opened dynamic library libcudnn.so.8\n",
      "1875/1875 [==============================] - 5s 1ms/step - loss: 0.3613 - accuracy: 0.8918\n",
      "Epoch 2/10\n",
      "1875/1875 [==============================] - 2s 1ms/step - loss: 0.0857 - accuracy: 0.9747\n",
      "Epoch 3/10\n",
      "1875/1875 [==============================] - 2s 1ms/step - loss: 0.0586 - accuracy: 0.9818\n",
      "Epoch 4/10\n",
      "1875/1875 [==============================] - 2s 1ms/step - loss: 0.0444 - accuracy: 0.9851\n",
      "Epoch 5/10\n",
      "1875/1875 [==============================] - 2s 1ms/step - loss: 0.0315 - accuracy: 0.9900\n",
      "Epoch 6/10\n",
      "1875/1875 [==============================] - 2s 1ms/step - loss: 0.0262 - accuracy: 0.9908\n",
      "Epoch 7/10\n",
      "1875/1875 [==============================] - 2s 1ms/step - loss: 0.0244 - accuracy: 0.9923\n",
      "Epoch 8/10\n",
      "1875/1875 [==============================] - 2s 1ms/step - loss: 0.0203 - accuracy: 0.9935\n",
      "Epoch 9/10\n",
      "1875/1875 [==============================] - 2s 1ms/step - loss: 0.0196 - accuracy: 0.9933\n",
      "Epoch 10/10\n",
      "1875/1875 [==============================] - 2s 1ms/step - loss: 0.0166 - accuracy: 0.9943\n",
      "313/313 [==============================] - 0s 975us/step - loss: 0.0696 - accuracy: 0.9846\n",
      "9\n"
     ]
    }
   ],
   "source": [
    "!./mnist1.py"
   ]
  },
  {
   "cell_type": "code",
   "execution_count": 7,
   "id": "821896cc",
   "metadata": {},
   "outputs": [
    {
     "name": "stdout",
     "output_type": "stream",
     "text": [
      "#!/usr/bin/env python\n",
      "#####!/home/tkaiser2/.conda-envs/dompt/bin/python\n",
      "\n",
      "#https://towardsdatascience.com/image-classification-in-10-minutes-with-mnist-dataset-54c35b77a38d\n",
      "import os\n",
      "for x in os.environ:\n",
      "   #if x.find(\"SLURM\") > -1 or x.find(\"gpu\") > -1 :\n",
      "   if x.find(\"GPU\") > -1 or x.find(\"gpu\") > -1 :\n",
      "        print(x,\":\",os.environ[x])\n",
      "\n",
      "import tensorflow as tf\n",
      "(x_train, y_train), (x_test, y_test) = tf.keras.datasets.mnist.load_data()\n",
      "\n",
      "import matplotlib.pyplot as plt\n",
      "# Only use this if using iPython\n",
      "try:\n",
      "#%matplotlib inline\n",
      "   pass\n",
      "except:\n",
      "    pass\n",
      "# You may select anything up to 60,000\n",
      "image_index = 7777 \n",
      "# The label is 8\n",
      "print(y_train[image_index]) \n",
      "plt.imshow(x_train[image_index], cmap='Greys')\n",
      "\n",
      "\n",
      "x_train.shape\n",
      "\n",
      "\n",
      "\n",
      "# Reshaping the array to 4-dims so that it can work with the Keras API\n",
      "x_train = x_train.reshape(x_train.shape[0], 28, 28, 1)\n",
      "x_test = x_test.reshape(x_test.shape[0], 28, 28, 1)\n",
      "input_shape = (28, 28, 1)\n",
      "# Making sure that the values are float so that we can get decimal points after division\n",
      "x_train = x_train.astype('float32')\n",
      "x_test = x_test.astype('float32')\n",
      "# Normalizing the RGB codes by dividing it to the max RGB value.\n",
      "x_train /= 255\n",
      "x_test /= 255\n",
      "print('x_train shape:', x_train.shape)\n",
      "print('Number of images in x_train', x_train.shape[0])\n",
      "print('Number of images in x_test', x_test.shape[0])\n",
      "\n",
      "\n",
      "\n",
      "# Importing the required Keras modules containing model and layers\n",
      "from tensorflow.keras.models import Sequential\n",
      "from tensorflow.keras.layers import Dense, Conv2D, Dropout, Flatten, MaxPooling2D\n",
      "# Creating a Sequential Model and adding the layers\n",
      "model = Sequential()\n",
      "model.add(Conv2D(28, kernel_size=(3,3), input_shape=input_shape))\n",
      "model.add(MaxPooling2D(pool_size=(2, 2)))\n",
      "model.add(Flatten()) # Flattening the 2D arrays for fully connected layers\n",
      "model.add(Dense(128, activation=tf.nn.relu))\n",
      "model.add(Dropout(0.2))\n",
      "model.add(Dense(10,activation=tf.nn.softmax))\n",
      "\n",
      "\n",
      "model.compile(optimizer='adam', \n",
      "              loss='sparse_categorical_crossentropy', \n",
      "              metrics=['accuracy'])\n",
      "model.fit(x=x_train,y=y_train, epochs=10)\n",
      "\n",
      "\n",
      "\n",
      "model.evaluate(x_test, y_test)\n",
      "\n",
      "\n",
      "image_index = 4444\n",
      "plt.imshow(x_test[image_index].reshape(28, 28),cmap='Greys')\n",
      "pred = model.predict(x_test[image_index].reshape(1, 28, 28, 1))\n",
      "print(pred.argmax())\n",
      "\n",
      "\n",
      "\n",
      "SLURM_JOB_GPUS : 0,1\n",
      "GPU_DEVICE_ORDINAL : 0,1\n",
      "SLURM_GPUS_PER_NODE : 2\n",
      "8\n",
      "x_train shape: (60000, 28, 28, 1)\n",
      "Number of images in x_train 60000\n",
      "Number of images in x_test 10000\n",
      "Epoch 1/10\n",
      "1875/1875 [==============================] - 5s 1ms/step - loss: 0.3747 - accuracy: 0.8850\n",
      "Epoch 2/10\n",
      "1875/1875 [==============================] - 2s 1ms/step - loss: 0.0914 - accuracy: 0.9725\n",
      "Epoch 3/10\n",
      "1875/1875 [==============================] - 2s 1ms/step - loss: 0.0606 - accuracy: 0.9805\n",
      "Epoch 4/10\n",
      "1875/1875 [==============================] - 2s 1ms/step - loss: 0.0453 - accuracy: 0.9858\n",
      "Epoch 5/10\n",
      "1875/1875 [==============================] - 2s 1ms/step - loss: 0.0342 - accuracy: 0.9888\n",
      "Epoch 6/10\n",
      "1875/1875 [==============================] - 2s 1ms/step - loss: 0.0275 - accuracy: 0.9908\n",
      "Epoch 7/10\n",
      "1875/1875 [==============================] - 2s 1ms/step - loss: 0.0255 - accuracy: 0.9914\n",
      "Epoch 8/10\n",
      "1875/1875 [==============================] - 2s 1ms/step - loss: 0.0220 - accuracy: 0.9928\n",
      "Epoch 9/10\n",
      "1875/1875 [==============================] - 2s 1ms/step - loss: 0.0190 - accuracy: 0.9934\n",
      "Epoch 10/10\n",
      "1875/1875 [==============================] - 2s 1ms/step - loss: 0.0154 - accuracy: 0.9949\n",
      "313/313 [==============================] - 0s 1ms/step - loss: 0.0653 - accuracy: 0.9833\n",
      "9\n"
     ]
    },
    {
     "data": {
      "image/png": "[encoded data removed]",
      "text/plain": [
       "<Figure size 432x288 with 1 Axes>"
      ]
     },
     "metadata": {
      "needs_background": "light"
     },
     "output_type": "display_data"
    }
   ],
   "source": [
    "f=open(\"mnist1.py\",\"r\",newline=\"\\n\")\n",
    "bonk=f.read()\n",
    "for b in bonk.split(\"\\n\"):\n",
    "    print(b)\n",
    "\n",
    "exec(bonk)\n"
   ]
  },
  {
   "cell_type": "code",
   "execution_count": null,
   "id": "3052c807",
   "metadata": {},
   "outputs": [],
   "source": []
  },
  {
   "cell_type": "code",
   "execution_count": 8,
   "id": "4587c220",
   "metadata": {},
   "outputs": [
    {
     "name": "stdout",
     "output_type": "stream",
     "text": [
      "SLURM_JOB_GPUS : 0,1\n",
      "GPU_DEVICE_ORDINAL : 0,1\n",
      "SLURM_GPUS_PER_NODE : 2\n"
     ]
    }
   ],
   "source": [
    "#!/usr/bin/env python\n",
    "#from:\n",
    "#https://towardsdatascience.com/image-classification-in-10-minutes-with-mnist-dataset-54c35b77a38d\n",
    "import os\n",
    "for x in os.environ:\n",
    "   #if x.find(\"SLURM\") > -1 or x.find(\"gpu\") > -1 :\n",
    "   if x.find(\"GPU\") > -1 or x.find(\"gpu\") > -1 :\n",
    "        print(x,\":\",os.environ[x])\n",
    "\n",
    "import tensorflow as tf\n",
    "(x_train, y_train), (x_test, y_test) = tf.keras.datasets.mnist.load_data()"
   ]
  },
  {
   "cell_type": "code",
   "execution_count": 9,
   "id": "ae0ba991",
   "metadata": {},
   "outputs": [
    {
     "name": "stdout",
     "output_type": "stream",
     "text": [
      "8\n"
     ]
    },
    {
     "data": {
      "text/plain": [
       "<matplotlib.image.AxesImage at 0x2b30cc50fac0>"
      ]
     },
     "execution_count": 9,
     "metadata": {},
     "output_type": "execute_result"
    },
    {
     "data": {
      "image/png": "[encoded data removed]",
      "text/plain": [
       "<Figure size 432x288 with 1 Axes>"
      ]
     },
     "metadata": {
      "needs_background": "light"
     },
     "output_type": "display_data"
    }
   ],
   "source": [
    "import matplotlib.pyplot as plt\n",
    "# Only use this if using iPython\n",
    "try:\n",
    "#%matplotlib inline\n",
    "   pass\n",
    "except:\n",
    "    pass\n",
    "# You may select anything up to 60,000\n",
    "image_index = 7777 \n",
    "# The label is 8\n",
    "print(y_train[image_index]) \n",
    "plt.imshow(x_train[image_index], cmap='Greys')"
   ]
  },
  {
   "cell_type": "code",
   "execution_count": 10,
   "id": "e85eb25f",
   "metadata": {},
   "outputs": [
    {
     "data": {
      "text/plain": [
       "(60000, 28, 28)"
      ]
     },
     "execution_count": 10,
     "metadata": {},
     "output_type": "execute_result"
    }
   ],
   "source": [
    "x_train.shape"
   ]
  },
  {
   "cell_type": "code",
   "execution_count": 11,
   "id": "91192437",
   "metadata": {},
   "outputs": [
    {
     "name": "stdout",
     "output_type": "stream",
     "text": [
      "x_train shape: (60000, 28, 28, 1)\n",
      "Number of images in x_train 60000\n",
      "Number of images in x_test 10000\n"
     ]
    }
   ],
   "source": [
    "# Reshaping the array to 4-dims so that it can work with the Keras API\n",
    "x_train = x_train.reshape(x_train.shape[0], 28, 28, 1)\n",
    "x_test = x_test.reshape(x_test.shape[0], 28, 28, 1)\n",
    "input_shape = (28, 28, 1)\n",
    "# Making sure that the values are float so that we can get decimal points after division\n",
    "x_train = x_train.astype('float32')\n",
    "x_test = x_test.astype('float32')\n",
    "# Normalizing the RGB codes by dividing it to the max RGB value.\n",
    "x_train /= 255\n",
    "x_test /= 255\n",
    "print('x_train shape:', x_train.shape)\n",
    "print('Number of images in x_train', x_train.shape[0])\n",
    "print('Number of images in x_test', x_test.shape[0])"
   ]
  },
  {
   "cell_type": "code",
   "execution_count": 12,
   "id": "5a0dfc38",
   "metadata": {},
   "outputs": [],
   "source": [
    "# Importing the required Keras modules containing model and layers\n",
    "from tensorflow.keras.models import Sequential\n",
    "from tensorflow.keras.layers import Dense, Conv2D, Dropout, Flatten, MaxPooling2D\n",
    "# Creating a Sequential Model and adding the layers\n",
    "model = Sequential()\n",
    "model.add(Conv2D(28, kernel_size=(3,3), input_shape=input_shape))\n",
    "model.add(MaxPooling2D(pool_size=(2, 2)))\n",
    "model.add(Flatten()) # Flattening the 2D arrays for fully connected layers\n",
    "model.add(Dense(128, activation=tf.nn.relu))\n",
    "model.add(Dropout(0.2))\n",
    "model.add(Dense(10,activation=tf.nn.softmax))"
   ]
  },
  {
   "cell_type": "code",
   "execution_count": 13,
   "id": "388811fd",
   "metadata": {},
   "outputs": [
    {
     "name": "stdout",
     "output_type": "stream",
     "text": [
      "Epoch 1/10\n",
      "1875/1875 [==============================] - 3s 1ms/step - loss: 0.3703 - accuracy: 0.8888\n",
      "Epoch 2/10\n",
      "1875/1875 [==============================] - 2s 1ms/step - loss: 0.0907 - accuracy: 0.9722\n",
      "Epoch 3/10\n",
      "1875/1875 [==============================] - 2s 1ms/step - loss: 0.0563 - accuracy: 0.9823\n",
      "Epoch 4/10\n",
      "1875/1875 [==============================] - 2s 1ms/step - loss: 0.0387 - accuracy: 0.9877\n",
      "Epoch 5/10\n",
      "1875/1875 [==============================] - 2s 1ms/step - loss: 0.0332 - accuracy: 0.9892\n",
      "Epoch 6/10\n",
      "1875/1875 [==============================] - 2s 1ms/step - loss: 0.0279 - accuracy: 0.9904\n",
      "Epoch 7/10\n",
      "1875/1875 [==============================] - 2s 1ms/step - loss: 0.0229 - accuracy: 0.9920\n",
      "Epoch 8/10\n",
      "1875/1875 [==============================] - 2s 1ms/step - loss: 0.0196 - accuracy: 0.9938\n",
      "Epoch 9/10\n",
      "1875/1875 [==============================] - 3s 1ms/step - loss: 0.0192 - accuracy: 0.9938\n",
      "Epoch 10/10\n",
      "1875/1875 [==============================] - 3s 1ms/step - loss: 0.0196 - accuracy: 0.9937\n",
      "313/313 [==============================] - 0s 984us/step - loss: 0.0669 - accuracy: 0.9845\n"
     ]
    },
    {
     "data": {
      "text/plain": [
       "[0.06689585745334625, 0.984499990940094]"
      ]
     },
     "execution_count": 13,
     "metadata": {},
     "output_type": "execute_result"
    }
   ],
   "source": [
    "model.compile(optimizer='adam', \n",
    "              loss='sparse_categorical_crossentropy', \n",
    "              metrics=['accuracy'])\n",
    "model.fit(x=x_train,y=y_train, epochs=10)\n",
    "\n",
    "\n",
    "\n",
    "model.evaluate(x_test, y_test)"
   ]
  },
  {
   "cell_type": "code",
   "execution_count": 14,
   "id": "c6fcd7ff",
   "metadata": {},
   "outputs": [
    {
     "name": "stdout",
     "output_type": "stream",
     "text": [
      "8\n"
     ]
    },
    {
     "data": {
      "image/png": "[encoded data removed]",
      "text/plain": [
       "<Figure size 432x288 with 1 Axes>"
      ]
     },
     "metadata": {
      "needs_background": "light"
     },
     "output_type": "display_data"
    }
   ],
   "source": [
    "image_index = 1234\n",
    "plt.imshow(x_test[image_index].reshape(28, 28),cmap='Greys')\n",
    "pred = model.predict(x_test[image_index].reshape(1, 28, 28, 1))\n",
    "print(pred.argmax())"
   ]
  },
  {
   "cell_type": "code",
   "execution_count": 15,
   "id": "f7d1a5c1",
   "metadata": {},
   "outputs": [],
   "source": [
    "# get the cupy gpu package\n",
    "import cupy as cp\n",
    "import numpy as np\n",
    "import time\n",
    "import sys\n"
   ]
  },
  {
   "cell_type": "code",
   "execution_count": 16,
   "id": "c077db6a",
   "metadata": {},
   "outputs": [],
   "source": [
    "# This is the blurring function.  It causes blurring\n",
    "# by adding random phase variations in Fourier space.\n",
    "# That is, this is a transfer function that preserves\n",
    "# overall intensity.\n",
    "\n",
    "# newimg= IFFT((FFT(image)*BLUR[p]))\n",
    "\n",
    "from cmath import exp,pi\n",
    "from random import random\n",
    "\n",
    "def blur(p):\n",
    "    return (exp(2*pi*1j*random()*p))"
   ]
  },
  {
   "cell_type": "code",
   "execution_count": 17,
   "id": "9bf41508",
   "metadata": {},
   "outputs": [],
   "source": [
    "# Get an image\n",
    "image_index=8888\n",
    "istart=x_test[image_index].reshape(28, 28)\n",
    "istart=cp.array(istart)"
   ]
  },
  {
   "cell_type": "code",
   "execution_count": 18,
   "id": "ed201a06",
   "metadata": {},
   "outputs": [],
   "source": [
    "# Set our blur values\n",
    "pvals=[0.0,0.01,0.02,0.04,0.08,0.10,0.15,0.20,0.25,0.30,0.35,0.40,0.45,0.50,0.55,0.60,0.65,0.70,0.75,0.80]"
   ]
  },
  {
   "cell_type": "code",
   "execution_count": 19,
   "id": "6bdb509b",
   "metadata": {},
   "outputs": [],
   "source": [
    "# Convert it to Fourier space\n",
    "# It is useful to have two copies\n",
    "fspace=cp.fft.fft2(istart)\n",
    "ospace=cp.fft.fft2(istart)"
   ]
  },
  {
   "cell_type": "code",
   "execution_count": 20,
   "id": "e58865a8",
   "metadata": {},
   "outputs": [
    {
     "data": {
      "image/png": "[encoded data removed]",
      "text/plain": [
       "<Figure size 432x288 with 1 Axes>"
      ]
     },
     "metadata": {
      "needs_background": "light"
     },
     "output_type": "display_data"
    },
    {
     "name": "stdout",
     "output_type": "stream",
     "text": [
      "blur= 0.0  0.000 0.000 0.000 0.000 0.000 0.000 1.000 0.000 0.000 0.000 selected= 6\n"
     ]
    },
    {
     "data": {
      "image/png": "[encoded data removed]",
      "text/plain": [
       "<Figure size 432x288 with 1 Axes>"
      ]
     },
     "metadata": {
      "needs_background": "light"
     },
     "output_type": "display_data"
    },
    {
     "name": "stdout",
     "output_type": "stream",
     "text": [
      "blur= 0.01  0.000 0.000 0.000 0.000 0.000 0.000 1.000 0.000 0.000 0.000 selected= 6\n"
     ]
    },
    {
     "data": {
      "image/png": "[encoded data removed]",
      "text/plain": [
       "<Figure size 432x288 with 1 Axes>"
      ]
     },
     "metadata": {
      "needs_background": "light"
     },
     "output_type": "display_data"
    },
    {
     "name": "stdout",
     "output_type": "stream",
     "text": [
      "blur= 0.02  0.000 0.000 0.000 0.000 0.000 0.000 1.000 0.000 0.000 0.000 selected= 6\n"
     ]
    },
    {
     "data": {
      "image/png": "[encoded data removed]",
      "text/plain": [
       "<Figure size 432x288 with 1 Axes>"
      ]
     },
     "metadata": {
      "needs_background": "light"
     },
     "output_type": "display_data"
    },
    {
     "name": "stdout",
     "output_type": "stream",
     "text": [
      "blur= 0.04  0.000 0.000 0.000 0.000 0.000 0.000 1.000 0.000 0.000 0.000 selected= 6\n"
     ]
    },
    {
     "data": {
      "image/png": "[encoded data removed]",
      "text/plain": [
       "<Figure size 432x288 with 1 Axes>"
      ]
     },
     "metadata": {
      "needs_background": "light"
     },
     "output_type": "display_data"
    },
    {
     "name": "stdout",
     "output_type": "stream",
     "text": [
      "blur= 0.08  0.000 0.000 0.000 0.000 0.000 0.000 1.000 0.000 0.000 0.000 selected= 6\n"
     ]
    },
    {
     "data": {
      "image/png": "[encoded data removed]",
      "text/plain": [
       "<Figure size 432x288 with 1 Axes>"
      ]
     },
     "metadata": {
      "needs_background": "light"
     },
     "output_type": "display_data"
    },
    {
     "name": "stdout",
     "output_type": "stream",
     "text": [
      "blur= 0.1  0.000 0.000 0.000 0.000 0.000 0.000 1.000 0.000 0.000 0.000 selected= 6\n"
     ]
    },
    {
     "data": {
      "image/png": "[encoded data removed]",
      "text/plain": [
       "<Figure size 432x288 with 1 Axes>"
      ]
     },
     "metadata": {
      "needs_background": "light"
     },
     "output_type": "display_data"
    },
    {
     "name": "stdout",
     "output_type": "stream",
     "text": [
      "blur= 0.15  0.000 0.000 0.000 0.000 0.000 0.000 1.000 0.000 0.000 0.000 selected= 6\n"
     ]
    },
    {
     "data": {
      "image/png": "[encoded data removed]",
      "text/plain": [
       "<Figure size 432x288 with 1 Axes>"
      ]
     },
     "metadata": {
      "needs_background": "light"
     },
     "output_type": "display_data"
    },
    {
     "name": "stdout",
     "output_type": "stream",
     "text": [
      "blur= 0.2  0.000 0.000 0.000 0.000 0.000 0.000 1.000 0.000 0.000 0.000 selected= 6\n"
     ]
    },
    {
     "data": {
      "image/png": "[encoded data removed]",
      "text/plain": [
       "<Figure size 432x288 with 1 Axes>"
      ]
     },
     "metadata": {
      "needs_background": "light"
     },
     "output_type": "display_data"
    },
    {
     "name": "stdout",
     "output_type": "stream",
     "text": [
      "blur= 0.25  0.000 0.000 0.000 0.000 0.000 0.000 1.000 0.000 0.000 0.000 selected= 6\n"
     ]
    },
    {
     "data": {
      "image/png": "[encoded data removed]",
      "text/plain": [
       "<Figure size 432x288 with 1 Axes>"
      ]
     },
     "metadata": {
      "needs_background": "light"
     },
     "output_type": "display_data"
    },
    {
     "name": "stdout",
     "output_type": "stream",
     "text": [
      "blur= 0.3  0.000 0.000 0.000 0.000 0.000 0.000 1.000 0.000 0.000 0.000 selected= 6\n"
     ]
    },
    {
     "data": {
      "image/png": "[encoded data removed]",
      "text/plain": [
       "<Figure size 432x288 with 1 Axes>"
      ]
     },
     "metadata": {
      "needs_background": "light"
     },
     "output_type": "display_data"
    },
    {
     "name": "stdout",
     "output_type": "stream",
     "text": [
      "blur= 0.35  0.000 0.000 0.000 0.000 0.000 0.000 1.000 0.000 0.000 0.000 selected= 6\n"
     ]
    },
    {
     "data": {
      "image/png": "[encoded data removed]",
      "text/plain": [
       "<Figure size 432x288 with 1 Axes>"
      ]
     },
     "metadata": {
      "needs_background": "light"
     },
     "output_type": "display_data"
    },
    {
     "name": "stdout",
     "output_type": "stream",
     "text": [
      "blur= 0.4  0.000 0.000 0.000 0.000 0.000 0.000 1.000 0.000 0.000 0.000 selected= 6\n"
     ]
    },
    {
     "data": {
      "image/png": "[encoded data removed]",
      "text/plain": [
       "<Figure size 432x288 with 1 Axes>"
      ]
     },
     "metadata": {
      "needs_background": "light"
     },
     "output_type": "display_data"
    },
    {
     "name": "stdout",
     "output_type": "stream",
     "text": [
      "blur= 0.45  0.000 0.000 0.000 0.000 0.000 0.000 1.000 0.000 0.000 0.000 selected= 6\n"
     ]
    },
    {
     "data": {
      "image/png": "[encoded data removed]",
      "text/plain": [
       "<Figure size 432x288 with 1 Axes>"
      ]
     },
     "metadata": {
      "needs_background": "light"
     },
     "output_type": "display_data"
    },
    {
     "name": "stdout",
     "output_type": "stream",
     "text": [
      "blur= 0.5  0.000 0.000 0.027 0.000 0.000 0.000 0.973 0.000 0.000 0.000 selected= 6\n"
     ]
    },
    {
     "data": {
      "image/png": "[encoded data removed]",
      "text/plain": [
       "<Figure size 432x288 with 1 Axes>"
      ]
     },
     "metadata": {
      "needs_background": "light"
     },
     "output_type": "display_data"
    },
    {
     "name": "stdout",
     "output_type": "stream",
     "text": [
      "blur= 0.55  0.000 0.000 0.000 0.000 0.000 0.000 1.000 0.000 0.000 0.000 selected= 6\n"
     ]
    },
    {
     "data": {
      "image/png": "[encoded data removed]",
      "text/plain": [
       "<Figure size 432x288 with 1 Axes>"
      ]
     },
     "metadata": {
      "needs_background": "light"
     },
     "output_type": "display_data"
    },
    {
     "name": "stdout",
     "output_type": "stream",
     "text": [
      "blur= 0.6  0.000 0.000 0.000 0.000 0.000 0.000 1.000 0.000 0.000 0.000 selected= 6\n"
     ]
    },
    {
     "data": {
      "image/png": "[encoded data removed]",
      "text/plain": [
       "<Figure size 432x288 with 1 Axes>"
      ]
     },
     "metadata": {
      "needs_background": "light"
     },
     "output_type": "display_data"
    },
    {
     "name": "stdout",
     "output_type": "stream",
     "text": [
      "blur= 0.65  0.000 0.000 0.001 0.002 0.000 0.000 0.006 0.000 0.991 0.000 selected= 8\n"
     ]
    },
    {
     "data": {
      "image/png": "[encoded data removed]",
      "text/plain": [
       "<Figure size 432x288 with 1 Axes>"
      ]
     },
     "metadata": {
      "needs_background": "light"
     },
     "output_type": "display_data"
    },
    {
     "name": "stdout",
     "output_type": "stream",
     "text": [
      "blur= 0.7  0.000 0.000 0.344 0.639 0.000 0.000 0.013 0.002 0.001 0.000 selected= 3\n"
     ]
    },
    {
     "data": {
      "image/png": "[encoded data removed]",
      "text/plain": [
       "<Figure size 432x288 with 1 Axes>"
      ]
     },
     "metadata": {
      "needs_background": "light"
     },
     "output_type": "display_data"
    },
    {
     "name": "stdout",
     "output_type": "stream",
     "text": [
      "blur= 0.75  0.001 0.000 0.000 0.000 0.017 0.000 0.184 0.002 0.795 0.000 selected= 8\n"
     ]
    },
    {
     "data": {
      "image/png": "[encoded data removed]",
      "text/plain": [
       "<Figure size 432x288 with 1 Axes>"
      ]
     },
     "metadata": {
      "needs_background": "light"
     },
     "output_type": "display_data"
    },
    {
     "name": "stdout",
     "output_type": "stream",
     "text": [
      "blur= 0.8  0.021 0.000 0.013 0.053 0.000 0.003 0.000 0.000 0.907 0.002 selected= 8\n"
     ]
    }
   ],
   "source": [
    "for p in pvals:\n",
    "    for nx in range(0,28):\n",
    "        for ny in range(0,28):\n",
    "            fspace[nx,ny]=ospace[nx,ny]*blur(p)\n",
    "            newimg=cp.fft.ifft2(fspace)\n",
    "            newimg=newimg.get()\n",
    "            newimg=abs(newimg)\n",
    "    plt.imshow(newimg,cmap='Greys')\n",
    "    #plt.imshow(newimg)\n",
    "\n",
    "\n",
    "    plt.show()\n",
    "    pred = model.predict(newimg.reshape(1, 28, 28, 1))\n",
    "    print(\"blur=\",p,end=\" \")\n",
    "    digits=pred[0]\n",
    "    for d in digits:\n",
    "        print(\"%6.3f\" % (d),end=\"\")\n",
    "    print(\" selected=\",pred.argmax())"
   ]
  },
  {
   "cell_type": "markdown",
   "id": "5ced0f4d",
   "metadata": {},
   "source": [
    "### script to create the environment with cuda-11, tensorflow 2.4.0, horovod 0.21.3, cupy 9.0.0\n"
   ]
  },
  {
   "cell_type": "code",
   "execution_count": 21,
   "id": "a412d036",
   "metadata": {},
   "outputs": [
    {
     "name": "stdout",
     "output_type": "stream",
     "text": [
      "CWD=`pwd`\r\n",
      "export MYVERSION=may12\r\n",
      "#BASEDIR=/scratch/$USER\r\n",
      "BASEDIR=/projects/hpcapps/tkaiser\r\n",
      "#cd ~\r\n",
      "module load conda 2> /dev/null || echo \"module load conda failed\"\r\n",
      "#conda create -p $BASEDIR/exampleenv --name $MYVERSION python=3.8 jupyter matplotlib scipy pandas xlwt dask -y\r\n",
      "conda create -p $BASEDIR/$MYVERSION python=3.8 jupyter matplotlib scipy pandas xlwt dask -y\r\n",
      "\r\n",
      "### Don't do conda init\r\n",
      "### Just do source activate\r\n",
      "source activate \r\n",
      "source activate $BASEDIR/$MYVERSION\r\n",
      "\r\n",
      "which pip\r\n",
      "which python\r\n",
      "\r\n",
      "### Install mpi4py\r\n",
      "#module load intel-mpi/2020.1.217  2> /dev/null || echo \"module load mpi failed\"\r\n",
      "module load mpt  2> /dev/null || echo \"module load mpi failed\"\r\n",
      "module load gcc/8.4.0  2> /dev/null || echo \"module load gcc failed\"\r\n",
      "pip --no-cache-dir install mpi4py\r\n",
      "\r\n",
      "\r\n",
      "### Install slurm magic commands \r\n",
      "pip install git+git://github.com/NERSC/slurm-magic.git\r\n",
      "\r\n",
      "\r\n",
      "if [ ! -e libcusolver.so.10  ] ; then\r\n",
      " ln -s /nopt/nrel/apps/cuda/11.2/targets/x86_64-linux/lib/libcusolver.so libcusolver.so.10\r\n",
      " fi\r\n",
      "\r\n",
      "ml cuda/11.2   cudnn/8.1.1/cuda-11.2   gcc/8.4.0\r\n",
      "\r\n",
      "\r\n",
      "\r\n",
      "pip --no-cache-dir install tensorflow==2.4.0\r\n",
      "pip --no-cache-dir install tensorflow-gpu==2.4.0\r\n",
      "pip --no-cache-dir install horovod[tensorflow]==0.21.3\r\n",
      "\r\n",
      "export CFLAGS=-L/nopt/nrel/apps/cuda/11.2/targets/x86_64-linux/lib\r\n",
      "export LDFLAGS=\"-L/nopt/nrel/apps/cuda/11.2/targets/x86_64-linux/lib -L/nopt/nrel/apps/cuda/11.2/compat\"\r\n",
      "export LIBRARY_PATH=/nopt/nrel/apps/cuda/11.2/targets/x86_64-linux/lib:/nopt/nrel/apps/base/2020-05-12/spack/opt/spack/linux-centos7-x86_64/gcc-4.8.5/gcc-6.5.0-aov4u2ocxtqf4bwif4hc7sga4cvccpxm/lib64:/nopt/nrel/apps/base/2020-05-12/spack/opt/spack/linux-centos\r\n",
      "export LD_LIBRARY_PATH=/nopt/nrel/apps/cuda/11.2/targets/x86_64-linux/lib:/nopt/nrel/apps/base/2020-05-12/spack/opt/spack/linux-centos7-x86_64/gcc-4.8.5/gcc-6.5.0-aov4u2ocxtqf4bwif4hc7sga4cvccpxm/lib64:/nopt/nrel/apps/base/2020-05-12/spack/opt/spack/linux-centos7-x86_64/gcc-4.8.5/gcc-6.5.0-aov4u2ocxtqf4bwif4hc7sga4cvccpxm/lib:/nopt/nrel/apps/cudnn/8.1.1-cuda-11.2/lib64:/nopt/nrel/apps/cuda/11.2/lib64:/nopt/mpi/mpt-2.23/lib:/home/tkaiser2/libs/zlib-1.2.11/lib:/home/tkaiser2/libs/bzip2-1.0.8/lib:/home/tkaiser2/bin/jdk-13.0.1/lib:/nopt/slurm/current/lib::\r\n",
      "\r\n",
      "\r\n",
      "pip --no-cache-dir install cupy\r\n",
      "\r\n",
      "\r\n",
      "#and a thread mapping module\r\n",
      "wget  https://raw.githubusercontent.com/NREL/HPC/master/slurm/source/setup.py\r\n",
      "wget  https://raw.githubusercontent.com/NREL/HPC/master/slurm/source/spam.c\r\n",
      "python3 setup.py install\r\n",
      "\r\n"
     ]
    }
   ],
   "source": [
    "cat makeit"
   ]
  },
  {
   "cell_type": "markdown",
   "id": "9ebcd617",
   "metadata": {},
   "source": [
    "### start the notebook"
   ]
  },
  {
   "cell_type": "code",
   "execution_count": 22,
   "id": "685e8b3a",
   "metadata": {},
   "outputs": [
    {
     "name": "stdout",
     "output_type": "stream",
     "text": [
      "#!/bin/bash\r\n",
      "#SBATCH --job-name=\"jupyter\"\r\n",
      "#SBATCH --nodes=1\r\n",
      "#SBATCH --account=hpcapps\r\n",
      "#SBATCH --time=01:00:00\r\n",
      "#SBATCH --gpus-per-node=2 \r\n",
      "#SBATCH --partition=debug\r\n",
      "\r\n",
      "\r\n",
      "export BASEDIR=/projects/hpcapps/tkaiser\r\n",
      "export MYVERSION=may12\r\n",
      "\r\n",
      "module load conda\r\n",
      "module load mpt\r\n",
      "module load cuda/11.2   cudnn/8.1.1/cuda-11.2   gcc/8.4.0\r\n",
      "\r\n",
      "### Don't do conda init\r\n",
      "### Just do source activate\r\n",
      "source activate \r\n",
      "source activate $BASEDIR/$MYVERSION\r\n",
      "\r\n",
      "\r\n",
      "#export LD_LIBRARY_PATH=/nopt/nrel/apps/cuda/11.2/targets/x86_64-linux/lib:/nopt/nrel/apps/base/2020-05-12/spack/opt/spack/linux-centos7-x86_64/gcc-4.8.5/gcc-6.5.0-aov4u2ocxtqf4bwif4hc7sga4cvccpxm/lib64:/nopt/nrel/apps/base/2020-05-12/spack/opt/spack/linux-centos7-x86_64/gcc-4.8.5/gcc-6.5.0-aov4u2ocxtqf4bwif4hc7sga4cvccpxm/lib:/nopt/nrel/apps/cudnn/8.1.1-cuda-11.2/lib64:/nopt/nrel/apps/cuda/11.2/lib64:/nopt/mpi/mpt-2.23/lib:/home/tkaiser2/libs/zlib-1.2.11/lib:/home/tkaiser2/libs/bzip2-1.0.8/lib:/home/tkaiser2/bin/jdk-13.0.1/lib:/nopt/slurm/current/lib::\r\n",
      "\r\n",
      "export LD_LIBRARY_PATH=/nopt/nrel/apps/cuda/11.2/targets/x86_64-linux/lib:/nopt/nrel/apps/base/2020-05-12/spack/opt/spack/linux-centos7-x86_64/gcc-4.8.5/gcc-6.5.0-aov4u2ocxtqf4bwif4hc7sga4cvccpxm/lib64:/nopt/nrel/apps/base/2020-05-12/spack/opt/spack/linux-centos7-x86_64/gcc-4.8.5/gcc-6.5.0-aov4u2ocxtqf4bwif4hc7sga4cvccpxm/lib:/nopt/nrel/apps/cudnn/8.1.1-cuda-11.2/lib64:/nopt/nrel/apps/cuda/11.2/lib64:/nopt/mpi/mpt-2.23/lib:/nopt/slurm/current/lib::\r\n",
      "\r\n",
      "\r\n",
      "\r\n",
      "date      > ~/jupyter.log\r\n",
      "hostname >> ~/jupyter.log\r\n",
      "jupyter notebook --NotebookApp.password='' --no-browser  >> ~/jupyter.log 2>&1\r\n"
     ]
    }
   ],
   "source": [
    "cat launch_gpu"
   ]
  },
  {
   "cell_type": "code",
   "execution_count": 23,
   "id": "61649ddd",
   "metadata": {},
   "outputs": [
    {
     "name": "stdout",
     "output_type": "stream",
     "text": [
      "Wed May 12 11:31:51 MDT 2021\r\n"
     ]
    }
   ],
   "source": [
    "!date"
   ]
  },
  {
   "cell_type": "markdown",
   "id": "fb1caf95",
   "metadata": {},
   "source": [
    "### Another way to start a notebook\n",
    "- we run salloc to get a node\n",
    "- ssh to our node\n",
    "- run a script to set up our environment and start jupyter \n",
    "\n",
    "```\n",
    "\n",
    "(/home/tkaiser2/.conda-envs/apr22) el3:newdriver> salloc  --x11 --account=hpcapps --time=1:00:00 --ntasks=8 --cpus-per-task=4 --nodes=1 --gres=gpu:2  --reservation=cuda_testing bash\n",
    "salloc: Pending job allocation 6706234\n",
    "salloc: job 6706234 queued and waiting for resources\n",
    "salloc: job 6706234 has been allocated resources\n",
    "salloc: Granted job allocation 6706234\n",
    "el3:newdriver> sq\n",
    "JOBID             TIME_LIMIT     TIME_LEFT      NODES START_TIME          PARTITION      REASON         SUBMIT_TIME         NODELIST\n",
    "6706234           1:00:00        59:47          1     2021-04-22T11:55:02 gpu            None           2021-04-22T11:54:56 r103u15\n",
    "el3:newdriver> ssh r103u15\n",
    "Last login: Thu Apr 22 10:44:28 2021 from el2.ib0.cm.hpc.nrel.gov\n",
    "r103u15:~> cd newdriver/\n",
    "r103u15:newdriver> . dojup2x\n",
    "\n",
    "```"
   ]
  },
  {
   "cell_type": "code",
   "execution_count": null,
   "id": "e32a8491",
   "metadata": {},
   "outputs": [],
   "source": []
  }
 ],
 "metadata": {
  "kernelspec": {
   "display_name": "Python 3",
   "language": "python",
   "name": "python3"
  },
  "language_info": {
   "codemirror_mode": {
    "name": "ipython",
    "version": 3
   },
   "file_extension": ".py",
   "mimetype": "text/x-python",
   "name": "python",
   "nbconvert_exporter": "python",
   "pygments_lexer": "ipython3",
   "version": "3.8.8"
  }
 },
 "nbformat": 4,
 "nbformat_minor": 5
}
