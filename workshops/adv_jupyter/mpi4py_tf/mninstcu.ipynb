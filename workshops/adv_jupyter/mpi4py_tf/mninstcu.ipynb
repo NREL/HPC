{
 "cells": [
  {
   "cell_type": "markdown",
   "id": "eede21b9",
   "metadata": {},
   "source": [
    "# slurm magics, Mnist using Tensorflow,horovod,mpi4py and cupy\n",
    "\n",
    "```\n",
    "We run the \"mnist\" example using a single and multiple GPUs.  Multigpu \n",
    "support is enabled by using Horovod and Mpi4py.\n",
    "\n",
    "Finally we take an image and blur it using the GPU running Fourier \n",
    "transforms from the cupy package.  We progressively increase the blurring.\n",
    "As the the bluring gets more intense we use the trained network to \n",
    "check if we still recognize the image.\n",
    "```\n",
    "\n",
    "## \n",
    "\n",
    "## Install  slurm magic commands\n",
    "\n",
    "`\n",
    "To install the slurm magic commands run the command:\n",
    "`\n",
    "```\n",
    "pip install git+https://github.com/NERSC/slurm-magic.git\n",
    "\n",
    "```\n",
    "\n",
    "`\n",
    "Here is the source:\n",
    "`\n",
    "\n",
    "https://github.com/NERSC/slurm-magic/blob/master/slurm_magic.py\n",
    "\n",
    "\n",
    "\n"
   ]
  },
  {
   "cell_type": "code",
   "execution_count": 1,
   "id": "6a5d081b",
   "metadata": {},
   "outputs": [
    {
     "name": "stdout",
     "output_type": "stream",
     "text": [
      "1620848922.143556 Wed May 12 13:48:42 2021      0.000      0.000 start\n"
     ]
    }
   ],
   "source": [
    "#we are using my wall clock timer \"included\"\n",
    "from tymer import tymer\n",
    "tymer([\"-i\",\"start\"])"
   ]
  },
  {
   "cell_type": "markdown",
   "id": "a5eb594f",
   "metadata": {},
   "source": [
    "## Load slurm magic commands"
   ]
  },
  {
   "cell_type": "code",
   "execution_count": 2,
   "id": "d3c7f7d9",
   "metadata": {},
   "outputs": [],
   "source": [
    "%load_ext slurm_magic"
   ]
  },
  {
   "cell_type": "code",
   "execution_count": 3,
   "id": "18629e78",
   "metadata": {},
   "outputs": [
    {
     "data": {
      "application/json": {
       "cell": {
        "!": "OSMagics",
        "HTML": "Other",
        "SVG": "Other",
        "bash": "Other",
        "capture": "ExecutionMagics",
        "debug": "ExecutionMagics",
        "file": "Other",
        "html": "DisplayMagics",
        "javascript": "DisplayMagics",
        "js": "DisplayMagics",
        "latex": "DisplayMagics",
        "markdown": "DisplayMagics",
        "perl": "Other",
        "prun": "ExecutionMagics",
        "pypy": "Other",
        "python": "Other",
        "python2": "Other",
        "python3": "Other",
        "ruby": "Other",
        "sbatch": "SlurmMagics",
        "script": "ScriptMagics",
        "sh": "Other",
        "svg": "DisplayMagics",
        "sx": "OSMagics",
        "system": "OSMagics",
        "time": "ExecutionMagics",
        "timeit": "ExecutionMagics",
        "writefile": "OSMagics"
       },
       "line": {
        "alias": "OSMagics",
        "alias_magic": "BasicMagics",
        "autoawait": "AsyncMagics",
        "autocall": "AutoMagics",
        "automagic": "AutoMagics",
        "autosave": "KernelMagics",
        "bookmark": "OSMagics",
        "cat": "Other",
        "cd": "OSMagics",
        "clear": "KernelMagics",
        "colors": "BasicMagics",
        "conda": "PackagingMagics",
        "config": "ConfigMagics",
        "connect_info": "KernelMagics",
        "cp": "Other",
        "debug": "ExecutionMagics",
        "dhist": "OSMagics",
        "dirs": "OSMagics",
        "doctest_mode": "BasicMagics",
        "ed": "Other",
        "edit": "KernelMagics",
        "env": "OSMagics",
        "gui": "BasicMagics",
        "hist": "Other",
        "history": "HistoryMagics",
        "killbgscripts": "ScriptMagics",
        "ldir": "Other",
        "less": "KernelMagics",
        "lf": "Other",
        "lk": "Other",
        "ll": "Other",
        "load": "CodeMagics",
        "load_ext": "ExtensionMagics",
        "loadpy": "CodeMagics",
        "logoff": "LoggingMagics",
        "logon": "LoggingMagics",
        "logstart": "LoggingMagics",
        "logstate": "LoggingMagics",
        "logstop": "LoggingMagics",
        "ls": "Other",
        "lsmagic": "BasicMagics",
        "lx": "Other",
        "macro": "ExecutionMagics",
        "magic": "BasicMagics",
        "man": "KernelMagics",
        "matplotlib": "PylabMagics",
        "mkdir": "Other",
        "more": "KernelMagics",
        "mv": "Other",
        "notebook": "BasicMagics",
        "page": "BasicMagics",
        "pastebin": "CodeMagics",
        "pdb": "ExecutionMagics",
        "pdef": "NamespaceMagics",
        "pdoc": "NamespaceMagics",
        "pfile": "NamespaceMagics",
        "pinfo": "NamespaceMagics",
        "pinfo2": "NamespaceMagics",
        "pip": "PackagingMagics",
        "popd": "OSMagics",
        "pprint": "BasicMagics",
        "precision": "BasicMagics",
        "prun": "ExecutionMagics",
        "psearch": "NamespaceMagics",
        "psource": "NamespaceMagics",
        "pushd": "OSMagics",
        "pwd": "OSMagics",
        "pycat": "OSMagics",
        "pylab": "PylabMagics",
        "qtconsole": "KernelMagics",
        "quickref": "BasicMagics",
        "recall": "HistoryMagics",
        "rehashx": "OSMagics",
        "reload_ext": "ExtensionMagics",
        "rep": "Other",
        "rerun": "HistoryMagics",
        "reset": "NamespaceMagics",
        "reset_selective": "NamespaceMagics",
        "rm": "Other",
        "rmdir": "Other",
        "run": "ExecutionMagics",
        "sacct": "SlurmMagics",
        "sacctmgr": "SlurmMagics",
        "salloc": "SlurmMagics",
        "sattach": "SlurmMagics",
        "save": "CodeMagics",
        "sbatch": "SlurmMagics",
        "sbcast": "SlurmMagics",
        "sc": "OSMagics",
        "scancel": "SlurmMagics",
        "scontrol": "SlurmMagics",
        "sdiag": "SlurmMagics",
        "set_env": "OSMagics",
        "sinfo": "SlurmMagics",
        "slurm": "SlurmMagics",
        "smap": "SlurmMagics",
        "sprio": "SlurmMagics",
        "squeue": "SlurmMagics",
        "sreport": "SlurmMagics",
        "srun": "SlurmMagics",
        "sshare": "SlurmMagics",
        "sstat": "SlurmMagics",
        "store": "StoreMagics",
        "strigger": "SlurmMagics",
        "sview": "SlurmMagics",
        "sx": "OSMagics",
        "system": "OSMagics",
        "tb": "ExecutionMagics",
        "time": "ExecutionMagics",
        "timeit": "ExecutionMagics",
        "unalias": "OSMagics",
        "unload_ext": "ExtensionMagics",
        "who": "NamespaceMagics",
        "who_ls": "NamespaceMagics",
        "whos": "NamespaceMagics",
        "xdel": "NamespaceMagics",
        "xmode": "BasicMagics"
       }
      },
      "text/plain": [
       "Available line magics:\n",
       "%alias  %alias_magic  %autoawait  %autocall  %automagic  %autosave  %bookmark  %cat  %cd  %clear  %colors  %conda  %config  %connect_info  %cp  %debug  %dhist  %dirs  %doctest_mode  %ed  %edit  %env  %gui  %hist  %history  %killbgscripts  %ldir  %less  %lf  %lk  %ll  %load  %load_ext  %loadpy  %logoff  %logon  %logstart  %logstate  %logstop  %ls  %lsmagic  %lx  %macro  %magic  %man  %matplotlib  %mkdir  %more  %mv  %notebook  %page  %pastebin  %pdb  %pdef  %pdoc  %pfile  %pinfo  %pinfo2  %pip  %popd  %pprint  %precision  %prun  %psearch  %psource  %pushd  %pwd  %pycat  %pylab  %qtconsole  %quickref  %recall  %rehashx  %reload_ext  %rep  %rerun  %reset  %reset_selective  %rm  %rmdir  %run  %sacct  %sacctmgr  %salloc  %sattach  %save  %sbatch  %sbcast  %sc  %scancel  %scontrol  %sdiag  %set_env  %sinfo  %slurm  %smap  %sprio  %squeue  %sreport  %srun  %sshare  %sstat  %store  %strigger  %sview  %sx  %system  %tb  %time  %timeit  %unalias  %unload_ext  %who  %who_ls  %whos  %xdel  %xmode\n",
       "\n",
       "Available cell magics:\n",
       "%%!  %%HTML  %%SVG  %%bash  %%capture  %%debug  %%file  %%html  %%javascript  %%js  %%latex  %%markdown  %%perl  %%prun  %%pypy  %%python  %%python2  %%python3  %%ruby  %%sbatch  %%script  %%sh  %%svg  %%sx  %%system  %%time  %%timeit  %%writefile\n",
       "\n",
       "Automagic is ON, % prefix IS NOT needed for line magics."
      ]
     },
     "execution_count": 3,
     "metadata": {},
     "output_type": "execute_result"
    }
   ],
   "source": [
    "%lsmagic"
   ]
  },
  {
   "cell_type": "markdown",
   "id": "91496bbf",
   "metadata": {},
   "source": [
    "## Run a parallel version of mnist\n",
    "```\n",
    "This will use both GPUs with each GPU getting two tasks.\n",
    "\n",
    "We send output to mnist.err and minst.out.  You can let\n",
    "the output come back \"here\" but it is a bit messy.\n",
    "\n",
    "Note we are running \"srun\" directly because it is a command\n",
    "enabled by loading slurm_magic.\n",
    "\n",
    "We can run this multiple times.  However, if we try to run\n",
    "it after running the inline example below it will hang because\n",
    "the inline run ties up the GPUs\n",
    "\n",
    "```\n",
    "\n",
    "#### Here is the output from nvidia-smi while this is running:\n",
    "```\n",
    "\n",
    "Thu Apr 22 09:57:00 2021       \n",
    "+-----------------------------------------------------------------------------+\n",
    "| NVIDIA-SMI 460.32.03    Driver Version: 460.32.03    CUDA Version: 11.2     |\n",
    "|-------------------------------+----------------------+----------------------+\n",
    "| GPU  Name        Persistence-M| Bus-Id        Disp.A | Volatile Uncorr. ECC |\n",
    "| Fan  Temp  Perf  Pwr:Usage/Cap|         Memory-Usage | GPU-Util  Compute M. |\n",
    "|                               |                      |               MIG M. |\n",
    "|===============================+======================+======================|\n",
    "|   0  Tesla V100-PCIE...  Off  | 00000000:37:00.0 Off |                    0 |\n",
    "| N/A   47C    P0    63W / 250W |   3754MiB / 16160MiB |     36%      Default |\n",
    "|                               |                      |                  N/A |\n",
    "+-------------------------------+----------------------+----------------------+\n",
    "|   1  Tesla V100-PCIE...  Off  | 00000000:86:00.0 Off |                    0 |\n",
    "| N/A   45C    P0    83W / 250W |   3754MiB / 16160MiB |     38%      Default |\n",
    "|                               |                      |                  N/A |\n",
    "+-------------------------------+----------------------+----------------------+\n",
    "                                                                               \n",
    "+-----------------------------------------------------------------------------+\n",
    "| Processes:                                                                  |\n",
    "|  GPU   GI   CI        PID   Type   Process name                  GPU Memory |\n",
    "|        ID   ID                                                   Usage      |\n",
    "|=============================================================================|\n",
    "|    0   N/A  N/A       997      C   python                           1875MiB |\n",
    "|    0   N/A  N/A       999      C   python                           1875MiB |\n",
    "|    1   N/A  N/A       998      C   python                           1875MiB |\n",
    "|    1   N/A  N/A      1000      C   python                           1875MiB |\n",
    "+-----------------------------------------------------------------------------+\n",
    "```\n"
   ]
  },
  {
   "cell_type": "code",
   "execution_count": 4,
   "id": "faf9f6c8",
   "metadata": {},
   "outputs": [
    {
     "name": "stdout",
     "output_type": "stream",
     "text": [
      "checkpoint                         launch_gpu          \u001b[0m\u001b[38;5;27m__pycache__\u001b[0m/\r\n",
      "checkpoints-1.data-00000-of-00001  \u001b[38;5;51mlibcusolver.so.10\u001b[0m@  slurm-6819468.out\r\n",
      "checkpoints-1.index                makeit              start\r\n",
      "dompi.ipynb                        minst.out           \u001b[38;5;34mtensorflow2_mnist.py\u001b[0m*\r\n",
      "done                               mninstcu.ipynb      \u001b[38;5;34mtymer.py\u001b[0m*\r\n",
      "dpcu.ipynb                         \u001b[38;5;34mmnist1.py\u001b[0m*\r\n",
      "launch_2                           mnist.err\r\n"
     ]
    }
   ],
   "source": [
    "ls"
   ]
  },
  {
   "cell_type": "code",
   "execution_count": 5,
   "id": "53d97d61",
   "metadata": {},
   "outputs": [
    {
     "data": {
      "text/plain": [
       "''"
      ]
     },
     "execution_count": 5,
     "metadata": {},
     "output_type": "execute_result"
    }
   ],
   "source": [
    "srun -n 4 -e mnist.err -o minst.out ./tensorflow2_mnist.py"
   ]
  },
  {
   "cell_type": "code",
   "execution_count": 6,
   "id": "8766c685",
   "metadata": {},
   "outputs": [
    {
     "name": "stdout",
     "output_type": "stream",
     "text": [
      "2021-05-12 13:48:44.335969: I tensorflow/stream_executor/platform/default/dso_loader.cc:49] Successfully opened dynamic library libcudart.so.11.0\r\n",
      "2021-05-12 13:48:44.335965: I tensorflow/stream_executor/platform/default/dso_loader.cc:49] Successfully opened dynamic library libcudart.so.11.0\r\n",
      "2021-05-12 13:48:44.335967: I tensorflow/stream_executor/platform/default/dso_loader.cc:49] Successfully opened dynamic library libcudart.so.11.0\r\n",
      "2021-05-12 13:48:44.335997: I tensorflow/stream_executor/platform/default/dso_loader.cc:49] Successfully opened dynamic library libcudart.so.11.0\r\n",
      "2021-05-12 13:48:51.057009: I tensorflow/compiler/jit/xla_cpu_device.cc:41] Not creating XLA devices, tf_xla_enable_xla_devices not set\r\n",
      "2021-05-12 13:48:51.057011: I tensorflow/compiler/jit/xla_cpu_device.cc:41] Not creating XLA devices, tf_xla_enable_xla_devices not set\r\n",
      "2021-05-12 13:48:51.057010: I tensorflow/compiler/jit/xla_cpu_device.cc:41] Not creating XLA devices, tf_xla_enable_xla_devices not set\r\n",
      "2021-05-12 13:48:51.057008: I tensorflow/compiler/jit/xla_cpu_device.cc:41] Not creating XLA devices, tf_xla_enable_xla_devices not set\r\n",
      "2021-05-12 13:48:51.058973: I tensorflow/stream_executor/platform/default/dso_loader.cc:49] Successfully opened dynamic library libcuda.so.1\r\n",
      "2021-05-12 13:48:51.058971: I tensorflow/stream_executor/platform/default/dso_loader.cc:49] Successfully opened dynamic library libcuda.so.1\r\n",
      "2021-05-12 13:48:51.058980: I tensorflow/stream_executor/platform/default/dso_loader.cc:49] Successfully opened dynamic library libcuda.so.1\r\n",
      "2021-05-12 13:48:51.058980: I tensorflow/stream_executor/platform/default/dso_loader.cc:49] Successfully opened dynamic library libcuda.so.1\r\n",
      "2021-05-12 13:48:52.672754: I tensorflow/core/common_runtime/gpu/gpu_device.cc:1720] Found device 0 with properties: \r\n",
      "pciBusID: 0000:37:00.0 name: Tesla V100-PCIE-16GB computeCapability: 7.0\r\n",
      "coreClock: 1.38GHz coreCount: 80 deviceMemorySize: 15.78GiB deviceMemoryBandwidth: 836.37GiB/s\r\n",
      "2021-05-12 13:48:52.672755: I tensorflow/core/common_runtime/gpu/gpu_device.cc:1720] Found device 0 with properties: \r\n",
      "pciBusID: 0000:37:00.0 name: Tesla V100-PCIE-16GB computeCapability: 7.0\r\n",
      "coreClock: 1.38GHz coreCount: 80 deviceMemorySize: 15.78GiB deviceMemoryBandwidth: 836.37GiB/s\r\n",
      "2021-05-12 13:48:52.672756: I tensorflow/core/common_runtime/gpu/gpu_device.cc:1720] Found device 0 with properties: \r\n",
      "pciBusID: 0000:37:00.0 name: Tesla V100-PCIE-16GB computeCapability: 7.0\r\n",
      "coreClock: 1.38GHz coreCount: 80 deviceMemorySize: 15.78GiB deviceMemoryBandwidth: 836.37GiB/s\r\n",
      "2021-05-12 13:48:52.673458: I tensorflow/core/common_runtime/gpu/gpu_device.cc:1720] Found device 0 with properties: \r\n",
      "pciBusID: 0000:37:00.0 name: Tesla V100-PCIE-16GB computeCapability: 7.0\r\n",
      "coreClock: 1.38GHz coreCount: 80 deviceMemorySize: 15.78GiB deviceMemoryBandwidth: 836.37GiB/s\r\n",
      "2021-05-12 13:48:52.674915: I tensorflow/core/common_runtime/gpu/gpu_device.cc:1720] Found device 1 with properties: \r\n",
      "pciBusID: 0000:86:00.0 name: Tesla V100-PCIE-16GB computeCapability: 7.0\r\n",
      "coreClock: 1.38GHz coreCount: 80 deviceMemorySize: 15.78GiB deviceMemoryBandwidth: 836.37GiB/s\r\n",
      "2021-05-12 13:48:52.674940: I tensorflow/stream_executor/platform/default/dso_loader.cc:49] Successfully opened dynamic library libcudart.so.11.0\r\n",
      "2021-05-12 13:48:52.674936: I tensorflow/core/common_runtime/gpu/gpu_device.cc:1720] Found device 1 with properties: \r\n",
      "pciBusID: 0000:86:00.0 name: Tesla V100-PCIE-16GB computeCapability: 7.0\r\n",
      "coreClock: 1.38GHz coreCount: 80 deviceMemorySize: 15.78GiB deviceMemoryBandwidth: 836.37GiB/s\r\n",
      "2021-05-12 13:48:52.674957: I tensorflow/stream_executor/platform/default/dso_loader.cc:49] Successfully opened dynamic library libcudart.so.11.0\r\n",
      "2021-05-12 13:48:52.674967: I tensorflow/core/common_runtime/gpu/gpu_device.cc:1720] Found device 1 with properties: \r\n",
      "pciBusID: 0000:86:00.0 name: Tesla V100-PCIE-16GB computeCapability: 7.0\r\n",
      "coreClock: 1.38GHz coreCount: 80 deviceMemorySize: 15.78GiB deviceMemoryBandwidth: 836.37GiB/s\r\n",
      "2021-05-12 13:48:52.674991: I tensorflow/stream_executor/platform/default/dso_loader.cc:49] Successfully opened dynamic library libcudart.so.11.0\r\n",
      "2021-05-12 13:48:52.675368: I tensorflow/core/common_runtime/gpu/gpu_device.cc:1720] Found device 1 with properties: \r\n",
      "pciBusID: 0000:86:00.0 name: Tesla V100-PCIE-16GB computeCapability: 7.0\r\n",
      "coreClock: 1.38GHz coreCount: 80 deviceMemorySize: 15.78GiB deviceMemoryBandwidth: 836.37GiB/s\r\n",
      "2021-05-12 13:48:52.675391: I tensorflow/stream_executor/platform/default/dso_loader.cc:49] Successfully opened dynamic library libcudart.so.11.0\r\n",
      "2021-05-12 13:48:52.680560: I tensorflow/stream_executor/platform/default/dso_loader.cc:49] Successfully opened dynamic library libcublas.so.11\r\n",
      "2021-05-12 13:48:52.680608: I tensorflow/stream_executor/platform/default/dso_loader.cc:49] Successfully opened dynamic library libcublasLt.so.11\r\n",
      "2021-05-12 13:48:52.680666: I tensorflow/stream_executor/platform/default/dso_loader.cc:49] Successfully opened dynamic library libcublas.so.11\r\n",
      "2021-05-12 13:48:52.680728: I tensorflow/stream_executor/platform/default/dso_loader.cc:49] Successfully opened dynamic library libcublasLt.so.11\r\n",
      "2021-05-12 13:48:52.680801: I tensorflow/stream_executor/platform/default/dso_loader.cc:49] Successfully opened dynamic library libcublas.so.11\r\n",
      "2021-05-12 13:48:52.680844: I tensorflow/stream_executor/platform/default/dso_loader.cc:49] Successfully opened dynamic library libcublasLt.so.11\r\n",
      "2021-05-12 13:48:52.681019: I tensorflow/stream_executor/platform/default/dso_loader.cc:49] Successfully opened dynamic library libcublas.so.11\r\n",
      "2021-05-12 13:48:52.681077: I tensorflow/stream_executor/platform/default/dso_loader.cc:49] Successfully opened dynamic library libcublasLt.so.11\r\n",
      "2021-05-12 13:48:52.682554: I tensorflow/stream_executor/platform/default/dso_loader.cc:49] Successfully opened dynamic library libcufft.so.10\r\n",
      "2021-05-12 13:48:52.682552: I tensorflow/stream_executor/platform/default/dso_loader.cc:49] Successfully opened dynamic library libcufft.so.10\r\n",
      "2021-05-12 13:48:52.682549: I tensorflow/stream_executor/platform/default/dso_loader.cc:49] Successfully opened dynamic library libcufft.so.10\r\n",
      "2021-05-12 13:48:52.682567: I tensorflow/stream_executor/platform/default/dso_loader.cc:49] Successfully opened dynamic library libcufft.so.10\r\n",
      "2021-05-12 13:48:52.683449: I tensorflow/stream_executor/platform/default/dso_loader.cc:49] Successfully opened dynamic library libcurand.so.10\r\n",
      "2021-05-12 13:48:52.683769: I tensorflow/stream_executor/platform/default/dso_loader.cc:49] Successfully opened dynamic library libcurand.so.10\r\n",
      "2021-05-12 13:48:52.683807: I tensorflow/stream_executor/platform/default/dso_loader.cc:49] Successfully opened dynamic library libcurand.so.10\r\n",
      "2021-05-12 13:48:52.683854: I tensorflow/stream_executor/platform/default/dso_loader.cc:49] Successfully opened dynamic library libcurand.so.10\r\n",
      "2021-05-12 13:48:52.688448: I tensorflow/stream_executor/platform/default/dso_loader.cc:49] Successfully opened dynamic library libcusolver.so.10\r\n",
      "2021-05-12 13:48:52.688767: I tensorflow/stream_executor/platform/default/dso_loader.cc:49] Successfully opened dynamic library libcusolver.so.10\r\n",
      "2021-05-12 13:48:52.688800: I tensorflow/stream_executor/platform/default/dso_loader.cc:49] Successfully opened dynamic library libcusolver.so.10\r\n",
      "2021-05-12 13:48:52.688878: I tensorflow/stream_executor/platform/default/dso_loader.cc:49] Successfully opened dynamic library libcusolver.so.10\r\n",
      "2021-05-12 13:48:52.689927: I tensorflow/stream_executor/platform/default/dso_loader.cc:49] Successfully opened dynamic library libcusparse.so.11\r\n",
      "2021-05-12 13:48:52.689921: I tensorflow/stream_executor/platform/default/dso_loader.cc:49] Successfully opened dynamic library libcusparse.so.11\r\n",
      "2021-05-12 13:48:52.689930: I tensorflow/stream_executor/platform/default/dso_loader.cc:49] Successfully opened dynamic library libcusparse.so.11\r\n",
      "2021-05-12 13:48:52.689972: I tensorflow/stream_executor/platform/default/dso_loader.cc:49] Successfully opened dynamic library libcusparse.so.11\r\n",
      "2021-05-12 13:48:52.690759: I tensorflow/stream_executor/platform/default/dso_loader.cc:49] Successfully opened dynamic library libcudnn.so.8\r\n",
      "2021-05-12 13:48:52.690792: I tensorflow/stream_executor/platform/default/dso_loader.cc:49] Successfully opened dynamic library libcudnn.so.8\r\n",
      "2021-05-12 13:48:52.690807: I tensorflow/stream_executor/platform/default/dso_loader.cc:49] Successfully opened dynamic library libcudnn.so.8\r\n",
      "2021-05-12 13:48:52.690868: I tensorflow/stream_executor/platform/default/dso_loader.cc:49] Successfully opened dynamic library libcudnn.so.8\r\n",
      "2021-05-12 13:48:52.699861: I tensorflow/core/common_runtime/gpu/gpu_device.cc:1862] Adding visible gpu devices: 0, 1\r\n",
      "2021-05-12 13:48:52.699897: I tensorflow/core/common_runtime/gpu/gpu_device.cc:1862] Adding visible gpu devices: 0, 1\r\n",
      "2021-05-12 13:48:52.699943: I tensorflow/core/common_runtime/gpu/gpu_device.cc:1862] Adding visible gpu devices: 0, 1\r\n",
      "2021-05-12 13:48:52.699986: I tensorflow/core/common_runtime/gpu/gpu_device.cc:1862] Adding visible gpu devices: 0, 1\r\n",
      "2021-05-12 13:48:53.083841: I tensorflow/core/platform/cpu_feature_guard.cc:142] This TensorFlow binary is optimized with oneAPI Deep Neural Network Library (oneDNN) to use the following CPU instructions in performance-critical operations:  AVX512F\r\n",
      "To enable them in other operations, rebuild TensorFlow with the appropriate compiler flags.\r\n",
      "2021-05-12 13:48:53.085465: I tensorflow/core/platform/cpu_feature_guard.cc:142] This TensorFlow binary is optimized with oneAPI Deep Neural Network Library (oneDNN) to use the following CPU instructions in performance-critical operations:  AVX512F\r\n",
      "To enable them in other operations, rebuild TensorFlow with the appropriate compiler flags.\r\n",
      "2021-05-12 13:48:53.085675: I tensorflow/compiler/jit/xla_gpu_device.cc:99] Not creating XLA devices, tf_xla_enable_xla_devices not set\r\n",
      "2021-05-12 13:48:53.086504: I tensorflow/core/common_runtime/gpu/gpu_device.cc:1720] Found device 0 with properties: \r\n",
      "pciBusID: 0000:37:00.0 name: Tesla V100-PCIE-16GB computeCapability: 7.0\r\n",
      "coreClock: 1.38GHz coreCount: 80 deviceMemorySize: 15.78GiB deviceMemoryBandwidth: 836.37GiB/s\r\n",
      "2021-05-12 13:48:53.086536: I tensorflow/stream_executor/platform/default/dso_loader.cc:49] Successfully opened dynamic library libcudart.so.11.0\r\n",
      "2021-05-12 13:48:53.086568: I tensorflow/stream_executor/platform/default/dso_loader.cc:49] Successfully opened dynamic library libcublas.so.11\r\n",
      "2021-05-12 13:48:53.086580: I tensorflow/stream_executor/platform/default/dso_loader.cc:49] Successfully opened dynamic library libcublasLt.so.11\r\n",
      "2021-05-12 13:48:53.086590: I tensorflow/stream_executor/platform/default/dso_loader.cc:49] Successfully opened dynamic library libcufft.so.10\r\n",
      "2021-05-12 13:48:53.086600: I tensorflow/stream_executor/platform/default/dso_loader.cc:49] Successfully opened dynamic library libcurand.so.10\r\n",
      "2021-05-12 13:48:53.086609: I tensorflow/stream_executor/platform/default/dso_loader.cc:49] Successfully opened dynamic library libcusolver.so.10\r\n",
      "2021-05-12 13:48:53.086604: I tensorflow/core/platform/cpu_feature_guard.cc:142] This TensorFlow binary is optimized with oneAPI Deep Neural Network Library (oneDNN) to use the following CPU instructions in performance-critical operations:  AVX512F\r\n",
      "To enable them in other operations, rebuild TensorFlow with the appropriate compiler flags.\r\n",
      "2021-05-12 13:48:53.086619: I tensorflow/stream_executor/platform/default/dso_loader.cc:49] Successfully opened dynamic library libcusparse.so.11\r\n",
      "2021-05-12 13:48:53.086630: I tensorflow/stream_executor/platform/default/dso_loader.cc:49] Successfully opened dynamic library libcudnn.so.8\r\n",
      "2021-05-12 13:48:53.087194: I tensorflow/compiler/jit/xla_gpu_device.cc:99] Not creating XLA devices, tf_xla_enable_xla_devices not set\r\n",
      "2021-05-12 13:48:53.087933: I tensorflow/core/common_runtime/gpu/gpu_device.cc:1862] Adding visible gpu devices: 0\r\n",
      "2021-05-12 13:48:53.087970: I tensorflow/stream_executor/platform/default/dso_loader.cc:49] Successfully opened dynamic library libcudart.so.11.0\r\n",
      "2021-05-12 13:48:53.088233: I tensorflow/compiler/jit/xla_gpu_device.cc:99] Not creating XLA devices, tf_xla_enable_xla_devices not set\r\n",
      "2021-05-12 13:48:53.088870: I tensorflow/core/common_runtime/gpu/gpu_device.cc:1720] Found device 0 with properties: \r\n",
      "pciBusID: 0000:86:00.0 name: Tesla V100-PCIE-16GB computeCapability: 7.0\r\n",
      "coreClock: 1.38GHz coreCount: 80 deviceMemorySize: 15.78GiB deviceMemoryBandwidth: 836.37GiB/s\r\n",
      "2021-05-12 13:48:53.088901: I tensorflow/stream_executor/platform/default/dso_loader.cc:49] Successfully opened dynamic library libcudart.so.11.0\r\n",
      "2021-05-12 13:48:53.088941: I tensorflow/stream_executor/platform/default/dso_loader.cc:49] Successfully opened dynamic library libcublas.so.11\r\n",
      "2021-05-12 13:48:53.088953: I tensorflow/stream_executor/platform/default/dso_loader.cc:49] Successfully opened dynamic library libcublasLt.so.11\r\n",
      "2021-05-12 13:48:53.088963: I tensorflow/stream_executor/platform/default/dso_loader.cc:49] Successfully opened dynamic library libcufft.so.10\r\n",
      "2021-05-12 13:48:53.088972: I tensorflow/stream_executor/platform/default/dso_loader.cc:49] Successfully opened dynamic library libcurand.so.10\r\n",
      "2021-05-12 13:48:53.088981: I tensorflow/stream_executor/platform/default/dso_loader.cc:49] Successfully opened dynamic library libcusolver.so.10\r\n",
      "2021-05-12 13:48:53.088992: I tensorflow/stream_executor/platform/default/dso_loader.cc:49] Successfully opened dynamic library libcusparse.so.11\r\n",
      "2021-05-12 13:48:53.089007: I tensorflow/stream_executor/platform/default/dso_loader.cc:49] Successfully opened dynamic library libcudnn.so.8\r\n",
      "2021-05-12 13:48:53.089754: I tensorflow/core/common_runtime/gpu/gpu_device.cc:1720] Found device 0 with properties: \r\n",
      "pciBusID: 0000:37:00.0 name: Tesla V100-PCIE-16GB computeCapability: 7.0\r\n",
      "coreClock: 1.38GHz coreCount: 80 deviceMemorySize: 15.78GiB deviceMemoryBandwidth: 836.37GiB/s\r\n",
      "2021-05-12 13:48:53.089777: I tensorflow/stream_executor/platform/default/dso_loader.cc:49] Successfully opened dynamic library libcudart.so.11.0\r\n",
      "2021-05-12 13:48:53.089806: I tensorflow/stream_executor/platform/default/dso_loader.cc:49] Successfully opened dynamic library libcublas.so.11\r\n",
      "2021-05-12 13:48:53.089818: I tensorflow/stream_executor/platform/default/dso_loader.cc:49] Successfully opened dynamic library libcublasLt.so.11\r\n",
      "2021-05-12 13:48:53.089827: I tensorflow/stream_executor/platform/default/dso_loader.cc:49] Successfully opened dynamic library libcufft.so.10\r\n",
      "2021-05-12 13:48:53.089836: I tensorflow/stream_executor/platform/default/dso_loader.cc:49] Successfully opened dynamic library libcurand.so.10\r\n",
      "2021-05-12 13:48:53.089845: I tensorflow/stream_executor/platform/default/dso_loader.cc:49] Successfully opened dynamic library libcusolver.so.10\r\n",
      "2021-05-12 13:48:53.089856: I tensorflow/stream_executor/platform/default/dso_loader.cc:49] Successfully opened dynamic library libcusparse.so.11\r\n",
      "2021-05-12 13:48:53.089865: I tensorflow/stream_executor/platform/default/dso_loader.cc:49] Successfully opened dynamic library libcudnn.so.8\r\n",
      "2021-05-12 13:48:53.089911: I tensorflow/core/platform/cpu_feature_guard.cc:142] This TensorFlow binary is optimized with oneAPI Deep Neural Network Library (oneDNN) to use the following CPU instructions in performance-critical operations:  AVX512F\r\n",
      "To enable them in other operations, rebuild TensorFlow with the appropriate compiler flags.\r\n",
      "2021-05-12 13:48:53.091378: I tensorflow/compiler/jit/xla_gpu_device.cc:99] Not creating XLA devices, tf_xla_enable_xla_devices not set\r\n",
      "2021-05-12 13:48:53.092234: I tensorflow/core/common_runtime/gpu/gpu_device.cc:1862] Adding visible gpu devices: 1\r\n",
      "2021-05-12 13:48:53.092276: I tensorflow/stream_executor/platform/default/dso_loader.cc:49] Successfully opened dynamic library libcudart.so.11.0\r\n",
      "2021-05-12 13:48:53.093722: I tensorflow/core/common_runtime/gpu/gpu_device.cc:1862] Adding visible gpu devices: 0\r\n",
      "2021-05-12 13:48:53.093756: I tensorflow/stream_executor/platform/default/dso_loader.cc:49] Successfully opened dynamic library libcudart.so.11.0\r\n",
      "2021-05-12 13:48:53.094341: I tensorflow/core/common_runtime/gpu/gpu_device.cc:1720] Found device 0 with properties: \r\n",
      "pciBusID: 0000:86:00.0 name: Tesla V100-PCIE-16GB computeCapability: 7.0\r\n",
      "coreClock: 1.38GHz coreCount: 80 deviceMemorySize: 15.78GiB deviceMemoryBandwidth: 836.37GiB/s\r\n",
      "2021-05-12 13:48:53.094364: I tensorflow/stream_executor/platform/default/dso_loader.cc:49] Successfully opened dynamic library libcudart.so.11.0\r\n",
      "2021-05-12 13:48:53.094396: I tensorflow/stream_executor/platform/default/dso_loader.cc:49] Successfully opened dynamic library libcublas.so.11\r\n",
      "2021-05-12 13:48:53.094408: I tensorflow/stream_executor/platform/default/dso_loader.cc:49] Successfully opened dynamic library libcublasLt.so.11\r\n",
      "2021-05-12 13:48:53.094418: I tensorflow/stream_executor/platform/default/dso_loader.cc:49] Successfully opened dynamic library libcufft.so.10\r\n",
      "2021-05-12 13:48:53.094427: I tensorflow/stream_executor/platform/default/dso_loader.cc:49] Successfully opened dynamic library libcurand.so.10\r\n",
      "2021-05-12 13:48:53.094436: I tensorflow/stream_executor/platform/default/dso_loader.cc:49] Successfully opened dynamic library libcusolver.so.10\r\n",
      "2021-05-12 13:48:53.094446: I tensorflow/stream_executor/platform/default/dso_loader.cc:49] Successfully opened dynamic library libcusparse.so.11\r\n",
      "2021-05-12 13:48:53.094456: I tensorflow/stream_executor/platform/default/dso_loader.cc:49] Successfully opened dynamic library libcudnn.so.8\r\n",
      "2021-05-12 13:48:53.131750: I tensorflow/core/common_runtime/gpu/gpu_device.cc:1862] Adding visible gpu devices: 1\r\n",
      "2021-05-12 13:48:53.131836: I tensorflow/stream_executor/platform/default/dso_loader.cc:49] Successfully opened dynamic library libcudart.so.11.0\r\n",
      "2021-05-12 13:48:54.009094: I tensorflow/core/common_runtime/gpu/gpu_device.cc:1261] Device interconnect StreamExecutor with strength 1 edge matrix:\r\n",
      "2021-05-12 13:48:54.009131: I tensorflow/core/common_runtime/gpu/gpu_device.cc:1267]      0 \r\n",
      "2021-05-12 13:48:54.009140: I tensorflow/core/common_runtime/gpu/gpu_device.cc:1280] 0:   N \r\n",
      "2021-05-12 13:48:54.011011: I tensorflow/core/common_runtime/gpu/gpu_device.cc:1406] Created TensorFlow device (/job:localhost/replica:0/task:0/device:GPU:0 with 14341 MB memory) -> physical GPU (device: 0, name: Tesla V100-PCIE-16GB, pci bus id: 0000:37:00.0, compute capability: 7.0)\r\n",
      "2021-05-12 13:48:54.018067: I tensorflow/core/common_runtime/gpu/gpu_device.cc:1261] Device interconnect StreamExecutor with strength 1 edge matrix:\r\n",
      "2021-05-12 13:48:54.018101: I tensorflow/core/common_runtime/gpu/gpu_device.cc:1267]      1 \r\n",
      "2021-05-12 13:48:54.018109: I tensorflow/core/common_runtime/gpu/gpu_device.cc:1280] 1:   N \r\n",
      "2021-05-12 13:48:54.020128: I tensorflow/core/common_runtime/gpu/gpu_device.cc:1406] Created TensorFlow device (/job:localhost/replica:0/task:0/device:GPU:0 with 14333 MB memory) -> physical GPU (device: 1, name: Tesla V100-PCIE-16GB, pci bus id: 0000:86:00.0, compute capability: 7.0)\r\n",
      "2021-05-12 13:48:54.026660: I tensorflow/core/common_runtime/gpu/gpu_device.cc:1261] Device interconnect StreamExecutor with strength 1 edge matrix:\r\n",
      "2021-05-12 13:48:54.026697: I tensorflow/core/common_runtime/gpu/gpu_device.cc:1267]      1 \r\n",
      "2021-05-12 13:48:54.026705: I tensorflow/core/common_runtime/gpu/gpu_device.cc:1280] 1:   N \r\n",
      "2021-05-12 13:48:54.028655: I tensorflow/core/common_runtime/gpu/gpu_device.cc:1406] Created TensorFlow device (/job:localhost/replica:0/task:0/device:GPU:0 with 14331 MB memory) -> physical GPU (device: 1, name: Tesla V100-PCIE-16GB, pci bus id: 0000:86:00.0, compute capability: 7.0)\r\n",
      "2021-05-12 13:48:54.040155: I tensorflow/core/common_runtime/gpu/gpu_device.cc:1261] Device interconnect StreamExecutor with strength 1 edge matrix:\r\n",
      "2021-05-12 13:48:54.040196: I tensorflow/core/common_runtime/gpu/gpu_device.cc:1267]      0 \r\n",
      "2021-05-12 13:48:54.040204: I tensorflow/core/common_runtime/gpu/gpu_device.cc:1280] 0:   N \r\n",
      "2021-05-12 13:48:54.042130: I tensorflow/core/common_runtime/gpu/gpu_device.cc:1406] Created TensorFlow device (/job:localhost/replica:0/task:0/device:GPU:0 with 14331 MB memory) -> physical GPU (device: 0, name: Tesla V100-PCIE-16GB, pci bus id: 0000:37:00.0, compute capability: 7.0)\r\n",
      "2021-05-12 13:48:56.261712: I tensorflow/compiler/mlir/mlir_graph_optimization_pass.cc:116] None of the MLIR optimization passes are enabled (registered 2)\r\n",
      "2021-05-12 13:48:56.275361: I tensorflow/core/platform/profile_utils/cpu_utils.cc:112] CPU Frequency: 3000000000 Hz\r\n",
      "2021-05-12 13:48:56.276241: I tensorflow/compiler/mlir/mlir_graph_optimization_pass.cc:116] None of the MLIR optimization passes are enabled (registered 2)\r\n",
      "2021-05-12 13:48:56.277164: I tensorflow/compiler/mlir/mlir_graph_optimization_pass.cc:116] None of the MLIR optimization passes are enabled (registered 2)\r\n",
      "2021-05-12 13:48:56.281554: I tensorflow/core/platform/profile_utils/cpu_utils.cc:112] CPU Frequency: 3000000000 Hz\r\n",
      "2021-05-12 13:48:56.282571: I tensorflow/core/platform/profile_utils/cpu_utils.cc:112] CPU Frequency: 3000000000 Hz\r\n",
      "2021-05-12 13:48:56.336746: I tensorflow/compiler/mlir/mlir_graph_optimization_pass.cc:116] None of the MLIR optimization passes are enabled (registered 2)\r\n",
      "2021-05-12 13:48:56.342653: I tensorflow/core/platform/profile_utils/cpu_utils.cc:112] CPU Frequency: 3000000000 Hz\r\n",
      "2021-05-12 13:48:56.387262: I tensorflow/stream_executor/platform/default/dso_loader.cc:49] Successfully opened dynamic library libcublas.so.11\r\n",
      "2021-05-12 13:48:56.387424: I tensorflow/stream_executor/platform/default/dso_loader.cc:49] Successfully opened dynamic library libcublas.so.11\r\n",
      "2021-05-12 13:48:56.387558: I tensorflow/stream_executor/platform/default/dso_loader.cc:49] Successfully opened dynamic library libcublas.so.11\r\n",
      "2021-05-12 13:48:56.456245: I tensorflow/stream_executor/platform/default/dso_loader.cc:49] Successfully opened dynamic library libcublas.so.11\r\n",
      "2021-05-12 13:48:56.656679: I tensorflow/stream_executor/platform/default/dso_loader.cc:49] Successfully opened dynamic library libcublasLt.so.11\r\n",
      "2021-05-12 13:48:56.660072: I tensorflow/stream_executor/platform/default/dso_loader.cc:49] Successfully opened dynamic library libcudnn.so.8\r\n",
      "2021-05-12 13:48:56.663468: I tensorflow/stream_executor/platform/default/dso_loader.cc:49] Successfully opened dynamic library libcublasLt.so.11\r\n",
      "2021-05-12 13:48:56.665567: I tensorflow/stream_executor/platform/default/dso_loader.cc:49] Successfully opened dynamic library libcudnn.so.8\r\n",
      "2021-05-12 13:48:56.671384: I tensorflow/stream_executor/platform/default/dso_loader.cc:49] Successfully opened dynamic library libcublasLt.so.11\r\n",
      "2021-05-12 13:48:56.673674: I tensorflow/stream_executor/platform/default/dso_loader.cc:49] Successfully opened dynamic library libcudnn.so.8\r\n",
      "2021-05-12 13:48:56.725793: I tensorflow/stream_executor/platform/default/dso_loader.cc:49] Successfully opened dynamic library libcublasLt.so.11\r\n",
      "2021-05-12 13:48:56.728529: I tensorflow/stream_executor/platform/default/dso_loader.cc:49] Successfully opened dynamic library libcudnn.so.8\r\n"
     ]
    }
   ],
   "source": [
    "cat mnist.err"
   ]
  },
  {
   "cell_type": "code",
   "execution_count": 7,
   "id": "189de10c",
   "metadata": {},
   "outputs": [
    {
     "name": "stdout",
     "output_type": "stream",
     "text": [
      "1620848929.587650 Wed May 12 13:48:49 2021      0.000      0.000 start\r\n",
      "hello from  2  of  4\r\n",
      "gpus  [PhysicalDevice(name='/physical_device:GPU:0', device_type='GPU'), PhysicalDevice(name='/physical_device:GPU:1', device_type='GPU')]  on  r103u21 mpi task  2  of  4\r\n",
      "1620848932.700126 Wed May 12 13:48:52 2021      3.112      3.112 [PhysicalDevice(name='/physical_device:GPU:0', device_type='GPU'), PhysicalDevice(name='/physical_device:GPU:1', device_type='GPU')]\r\n",
      "hvd.local_rank() 2\r\n",
      "gpu=  1 PhysicalDevice(name='/physical_device:GPU:0', device_type='GPU')\r\n",
      "gpu=  2 PhysicalDevice(name='/physical_device:GPU:1', device_type='GPU')\r\n",
      "gpus detected:  2\r\n",
      "1620848969.834391 Wed May 12 13:49:29 2021     40.247     37.134 done\r\n",
      "1620848929.587642 Wed May 12 13:48:49 2021      0.000      0.000 start\r\n",
      "hello from  1  of  4\r\n",
      "gpus  [PhysicalDevice(name='/physical_device:GPU:0', device_type='GPU'), PhysicalDevice(name='/physical_device:GPU:1', device_type='GPU')]  on  r103u21 mpi task  1  of  4\r\n",
      "1620848932.700067 Wed May 12 13:48:52 2021      3.112      3.112 [PhysicalDevice(name='/physical_device:GPU:0', device_type='GPU'), PhysicalDevice(name='/physical_device:GPU:1', device_type='GPU')]\r\n",
      "hvd.local_rank() 1\r\n",
      "gpu=  1 PhysicalDevice(name='/physical_device:GPU:0', device_type='GPU')\r\n",
      "gpu=  2 PhysicalDevice(name='/physical_device:GPU:1', device_type='GPU')\r\n",
      "gpus detected:  2\r\n",
      "1620848969.836102 Wed May 12 13:49:29 2021     40.248     37.136 done\r\n",
      "1620848929.587728 Wed May 12 13:48:49 2021      0.000      0.000 start\r\n",
      "hello from  3  of  4\r\n",
      "gpus  [PhysicalDevice(name='/physical_device:GPU:0', device_type='GPU'), PhysicalDevice(name='/physical_device:GPU:1', device_type='GPU')]  on  r103u21 mpi task  3  of  4\r\n",
      "1620848932.700033 Wed May 12 13:48:52 2021      3.112      3.112 [PhysicalDevice(name='/physical_device:GPU:0', device_type='GPU'), PhysicalDevice(name='/physical_device:GPU:1', device_type='GPU')]\r\n",
      "hvd.local_rank() 3\r\n",
      "gpu=  1 PhysicalDevice(name='/physical_device:GPU:0', device_type='GPU')\r\n",
      "gpu=  2 PhysicalDevice(name='/physical_device:GPU:1', device_type='GPU')\r\n",
      "gpus detected:  2\r\n",
      "1620848969.837525 Wed May 12 13:49:29 2021     40.250     37.137 done\r\n",
      "1620848929.587641 Wed May 12 13:48:49 2021      0.000      0.000 start\r\n",
      "hello from  0  of  4\r\n",
      "gpus  [PhysicalDevice(name='/physical_device:GPU:0', device_type='GPU'), PhysicalDevice(name='/physical_device:GPU:1', device_type='GPU')]  on  r103u21 mpi task  0  of  4\r\n",
      "1620848932.699998 Wed May 12 13:48:52 2021      3.112      3.112 [PhysicalDevice(name='/physical_device:GPU:0', device_type='GPU'), PhysicalDevice(name='/physical_device:GPU:1', device_type='GPU')]\r\n",
      "hvd.local_rank() 0\r\n",
      "gpu=  1 PhysicalDevice(name='/physical_device:GPU:0', device_type='GPU')\r\n",
      "gpu=  2 PhysicalDevice(name='/physical_device:GPU:1', device_type='GPU')\r\n",
      "gpus detected:  2\r\n",
      "Step #0\tLoss: 2.295464\r\n",
      "Step #10\tLoss: 0.558696\r\n",
      "Step #20\tLoss: 0.190758\r\n",
      "Step #30\tLoss: 0.295822\r\n",
      "Step #40\tLoss: 0.146775\r\n",
      "Step #50\tLoss: 0.201799\r\n",
      "Step #60\tLoss: 0.057239\r\n",
      "Step #70\tLoss: 0.128999\r\n",
      "Step #80\tLoss: 0.214026\r\n",
      "Step #90\tLoss: 0.119956\r\n",
      "Step #100\tLoss: 0.057679\r\n",
      "Step #110\tLoss: 0.056712\r\n",
      "Step #120\tLoss: 0.091848\r\n",
      "Step #130\tLoss: 0.082889\r\n",
      "Step #140\tLoss: 0.060614\r\n",
      "Step #150\tLoss: 0.034283\r\n",
      "Step #160\tLoss: 0.078231\r\n",
      "Step #170\tLoss: 0.122676\r\n",
      "Step #180\tLoss: 0.035718\r\n",
      "Step #190\tLoss: 0.070505\r\n",
      "Step #200\tLoss: 0.044392\r\n",
      "Step #210\tLoss: 0.031141\r\n",
      "Step #220\tLoss: 0.075121\r\n",
      "Step #230\tLoss: 0.044770\r\n",
      "Step #240\tLoss: 0.078959\r\n",
      "Step #250\tLoss: 0.142952\r\n",
      "Step #260\tLoss: 0.039057\r\n",
      "Step #270\tLoss: 0.033065\r\n",
      "Step #280\tLoss: 0.072314\r\n",
      "Step #290\tLoss: 0.061836\r\n",
      "Step #300\tLoss: 0.049190\r\n",
      "Step #310\tLoss: 0.023764\r\n",
      "Step #320\tLoss: 0.049056\r\n",
      "Step #330\tLoss: 0.104359\r\n",
      "Step #340\tLoss: 0.054840\r\n",
      "Step #350\tLoss: 0.035336\r\n",
      "Step #360\tLoss: 0.049269\r\n",
      "Step #370\tLoss: 0.074485\r\n",
      "Step #380\tLoss: 0.026521\r\n",
      "Step #390\tLoss: 0.061084\r\n",
      "Step #400\tLoss: 0.047036\r\n",
      "Step #410\tLoss: 0.052455\r\n",
      "Step #420\tLoss: 0.025815\r\n",
      "Step #430\tLoss: 0.087155\r\n",
      "Step #440\tLoss: 0.010460\r\n",
      "Step #450\tLoss: 0.045087\r\n",
      "Step #460\tLoss: 0.053887\r\n",
      "Step #470\tLoss: 0.023888\r\n",
      "Step #480\tLoss: 0.035155\r\n",
      "Step #490\tLoss: 0.057923\r\n",
      "Step #500\tLoss: 0.011412\r\n",
      "Step #510\tLoss: 0.006369\r\n",
      "Step #520\tLoss: 0.033293\r\n",
      "Step #530\tLoss: 0.068243\r\n",
      "Step #540\tLoss: 0.015980\r\n",
      "Step #550\tLoss: 0.012780\r\n",
      "Step #560\tLoss: 0.012620\r\n",
      "Step #570\tLoss: 0.063433\r\n",
      "Step #580\tLoss: 0.027401\r\n",
      "Step #590\tLoss: 0.024645\r\n",
      "Step #600\tLoss: 0.055997\r\n",
      "Step #610\tLoss: 0.047209\r\n",
      "Step #620\tLoss: 0.001938\r\n",
      "Step #630\tLoss: 0.019096\r\n",
      "Step #640\tLoss: 0.048433\r\n",
      "Step #650\tLoss: 0.032878\r\n",
      "Step #660\tLoss: 0.023259\r\n",
      "Step #670\tLoss: 0.081455\r\n",
      "Step #680\tLoss: 0.038359\r\n",
      "Step #690\tLoss: 0.018387\r\n",
      "Step #700\tLoss: 0.021872\r\n",
      "Step #710\tLoss: 0.011790\r\n",
      "Step #720\tLoss: 0.044082\r\n",
      "Step #730\tLoss: 0.009203\r\n",
      "Step #740\tLoss: 0.117742\r\n",
      "Step #750\tLoss: 0.039671\r\n",
      "Step #760\tLoss: 0.073461\r\n",
      "Step #770\tLoss: 0.033495\r\n",
      "Step #780\tLoss: 0.010150\r\n",
      "Step #790\tLoss: 0.107838\r\n",
      "Step #800\tLoss: 0.032895\r\n",
      "Step #810\tLoss: 0.003796\r\n",
      "Step #820\tLoss: 0.045547\r\n",
      "Step #830\tLoss: 0.046127\r\n",
      "Step #840\tLoss: 0.032393\r\n",
      "Step #850\tLoss: 0.069004\r\n",
      "Step #860\tLoss: 0.029225\r\n",
      "Step #870\tLoss: 0.027255\r\n",
      "Step #880\tLoss: 0.033819\r\n",
      "Step #890\tLoss: 0.014195\r\n",
      "Step #900\tLoss: 0.022628\r\n",
      "Step #910\tLoss: 0.027881\r\n",
      "Step #920\tLoss: 0.034778\r\n",
      "Step #930\tLoss: 0.009434\r\n",
      "Step #940\tLoss: 0.053016\r\n",
      "Step #950\tLoss: 0.062333\r\n",
      "Step #960\tLoss: 0.005930\r\n",
      "Step #970\tLoss: 0.026849\r\n",
      "Step #980\tLoss: 0.044024\r\n",
      "Step #990\tLoss: 0.054078\r\n",
      "Step #1000\tLoss: 0.022083\r\n",
      "Step #1010\tLoss: 0.029328\r\n",
      "Step #1020\tLoss: 0.030382\r\n",
      "Step #1030\tLoss: 0.033277\r\n",
      "Step #1040\tLoss: 0.047349\r\n",
      "Step #1050\tLoss: 0.016389\r\n",
      "Step #1060\tLoss: 0.076254\r\n",
      "Step #1070\tLoss: 0.016879\r\n",
      "Step #1080\tLoss: 0.029707\r\n",
      "Step #1090\tLoss: 0.018178\r\n",
      "Step #1100\tLoss: 0.007743\r\n",
      "Step #1110\tLoss: 0.074119\r\n",
      "Step #1120\tLoss: 0.012555\r\n",
      "Step #1130\tLoss: 0.020522\r\n",
      "Step #1140\tLoss: 0.065728\r\n",
      "Step #1150\tLoss: 0.049287\r\n",
      "Step #1160\tLoss: 0.015064\r\n",
      "Step #1170\tLoss: 0.006158\r\n",
      "Step #1180\tLoss: 0.051547\r\n",
      "Step #1190\tLoss: 0.068669\r\n",
      "Step #1200\tLoss: 0.022173\r\n",
      "Step #1210\tLoss: 0.043890\r\n",
      "Step #1220\tLoss: 0.006961\r\n",
      "Step #1230\tLoss: 0.071188\r\n",
      "Step #1240\tLoss: 0.022862\r\n",
      "Step #1250\tLoss: 0.086832\r\n",
      "Step #1260\tLoss: 0.018709\r\n",
      "Step #1270\tLoss: 0.050039\r\n",
      "Step #1280\tLoss: 0.020369\r\n",
      "Step #1290\tLoss: 0.009909\r\n",
      "Step #1300\tLoss: 0.010512\r\n",
      "Step #1310\tLoss: 0.042685\r\n",
      "Step #1320\tLoss: 0.013699\r\n",
      "Step #1330\tLoss: 0.021859\r\n",
      "Step #1340\tLoss: 0.009770\r\n",
      "Step #1350\tLoss: 0.037657\r\n",
      "Step #1360\tLoss: 0.026923\r\n",
      "Step #1370\tLoss: 0.020309\r\n",
      "Step #1380\tLoss: 0.016643\r\n",
      "Step #1390\tLoss: 0.050618\r\n",
      "Step #1400\tLoss: 0.033460\r\n",
      "Step #1410\tLoss: 0.020108\r\n",
      "Step #1420\tLoss: 0.026696\r\n",
      "Step #1430\tLoss: 0.007647\r\n",
      "Step #1440\tLoss: 0.014903\r\n",
      "Step #1450\tLoss: 0.036084\r\n",
      "Step #1460\tLoss: 0.013524\r\n",
      "Step #1470\tLoss: 0.010165\r\n",
      "Step #1480\tLoss: 0.000823\r\n",
      "Step #1490\tLoss: 0.012829\r\n",
      "Step #1500\tLoss: 0.069291\r\n",
      "Step #1510\tLoss: 0.001678\r\n",
      "Step #1520\tLoss: 0.003818\r\n",
      "Step #1530\tLoss: 0.001018\r\n",
      "Step #1540\tLoss: 0.030026\r\n",
      "Step #1550\tLoss: 0.014823\r\n",
      "Step #1560\tLoss: 0.004046\r\n",
      "Step #1570\tLoss: 0.002811\r\n",
      "Step #1580\tLoss: 0.013058\r\n",
      "Step #1590\tLoss: 0.022944\r\n",
      "Step #1600\tLoss: 0.015435\r\n",
      "Step #1610\tLoss: 0.025583\r\n",
      "Step #1620\tLoss: 0.008145\r\n",
      "Step #1630\tLoss: 0.018313\r\n",
      "Step #1640\tLoss: 0.018926\r\n",
      "Step #1650\tLoss: 0.020220\r\n",
      "Step #1660\tLoss: 0.016529\r\n",
      "Step #1670\tLoss: 0.001463\r\n",
      "Step #1680\tLoss: 0.007516\r\n",
      "Step #1690\tLoss: 0.050467\r\n",
      "Step #1700\tLoss: 0.008451\r\n",
      "Step #1710\tLoss: 0.036939\r\n",
      "Step #1720\tLoss: 0.022572\r\n",
      "Step #1730\tLoss: 0.005778\r\n",
      "Step #1740\tLoss: 0.003837\r\n",
      "Step #1750\tLoss: 0.008327\r\n",
      "Step #1760\tLoss: 0.012619\r\n",
      "Step #1770\tLoss: 0.042683\r\n",
      "Step #1780\tLoss: 0.006968\r\n",
      "Step #1790\tLoss: 0.011877\r\n",
      "Step #1800\tLoss: 0.054349\r\n",
      "Step #1810\tLoss: 0.004324\r\n",
      "Step #1820\tLoss: 0.004418\r\n",
      "Step #1830\tLoss: 0.001736\r\n",
      "Step #1840\tLoss: 0.007946\r\n",
      "Step #1850\tLoss: 0.069704\r\n",
      "Step #1860\tLoss: 0.000659\r\n",
      "Step #1870\tLoss: 0.027089\r\n",
      "Step #1880\tLoss: 0.030352\r\n",
      "Step #1890\tLoss: 0.009166\r\n",
      "Step #1900\tLoss: 0.052675\r\n",
      "Step #1910\tLoss: 0.041146\r\n",
      "Step #1920\tLoss: 0.063308\r\n",
      "Step #1930\tLoss: 0.056052\r\n",
      "Step #1940\tLoss: 0.002912\r\n",
      "Step #1950\tLoss: 0.052781\r\n",
      "Step #1960\tLoss: 0.016337\r\n",
      "Step #1970\tLoss: 0.002438\r\n",
      "Step #1980\tLoss: 0.017881\r\n",
      "Step #1990\tLoss: 0.021258\r\n",
      "Step #2000\tLoss: 0.036986\r\n",
      "Step #2010\tLoss: 0.011163\r\n",
      "Step #2020\tLoss: 0.025500\r\n",
      "Step #2030\tLoss: 0.014151\r\n",
      "Step #2040\tLoss: 0.003786\r\n",
      "Step #2050\tLoss: 0.012202\r\n",
      "Step #2060\tLoss: 0.019716\r\n",
      "Step #2070\tLoss: 0.002452\r\n",
      "Step #2080\tLoss: 0.034474\r\n",
      "Step #2090\tLoss: 0.056572\r\n",
      "Step #2100\tLoss: 0.033253\r\n",
      "Step #2110\tLoss: 0.010487\r\n",
      "Step #2120\tLoss: 0.024281\r\n",
      "Step #2130\tLoss: 0.005273\r\n",
      "Step #2140\tLoss: 0.014176\r\n",
      "Step #2150\tLoss: 0.058867\r\n",
      "Step #2160\tLoss: 0.010852\r\n",
      "Step #2170\tLoss: 0.057187\r\n",
      "Step #2180\tLoss: 0.068411\r\n",
      "Step #2190\tLoss: 0.019940\r\n",
      "Step #2200\tLoss: 0.003749\r\n",
      "Step #2210\tLoss: 0.020360\r\n",
      "Step #2220\tLoss: 0.006074\r\n",
      "Step #2230\tLoss: 0.020491\r\n",
      "Step #2240\tLoss: 0.005337\r\n",
      "Step #2250\tLoss: 0.027913\r\n",
      "Step #2260\tLoss: 0.010496\r\n",
      "Step #2270\tLoss: 0.003032\r\n",
      "Step #2280\tLoss: 0.010069\r\n",
      "Step #2290\tLoss: 0.008243\r\n",
      "Step #2300\tLoss: 0.036564\r\n",
      "Step #2310\tLoss: 0.000474\r\n",
      "Step #2320\tLoss: 0.011054\r\n",
      "Step #2330\tLoss: 0.007870\r\n",
      "Step #2340\tLoss: 0.018206\r\n",
      "Step #2350\tLoss: 0.000289\r\n",
      "Step #2360\tLoss: 0.017652\r\n",
      "Step #2370\tLoss: 0.016658\r\n",
      "Step #2380\tLoss: 0.022636\r\n",
      "Step #2390\tLoss: 0.017650\r\n",
      "Step #2400\tLoss: 0.018598\r\n",
      "Step #2410\tLoss: 0.005778\r\n",
      "Step #2420\tLoss: 0.020737\r\n",
      "Step #2430\tLoss: 0.005466\r\n",
      "Step #2440\tLoss: 0.045053\r\n",
      "Step #2450\tLoss: 0.038512\r\n",
      "Step #2460\tLoss: 0.008588\r\n",
      "Step #2470\tLoss: 0.015278\r\n",
      "Step #2480\tLoss: 0.000528\r\n",
      "Step #2490\tLoss: 0.022416\r\n",
      "1620848969.872800 Wed May 12 13:49:29 2021     40.285     37.173 done\r\n"
     ]
    }
   ],
   "source": [
    "cat minst.out"
   ]
  },
  {
   "cell_type": "markdown",
   "id": "bc259123",
   "metadata": {},
   "source": [
    "### Simpler example three different ways\n",
    "```\n",
    "Here we run the example from\n",
    "\n",
    "[https://towardsdatascience.com/image-classification-in-10-minutes-with-mnist-dataset-54c35b77a38d]\n",
    "\n",
    "three different ways.  We run it:\n",
    "```\n",
    "- From the command line\n",
    "- Reading it in as a file and then running exec on the input\n",
    "- As individual cells within the notebook\n"
   ]
  },
  {
   "cell_type": "code",
   "execution_count": 8,
   "id": "f9c9ca7a",
   "metadata": {},
   "outputs": [
    {
     "name": "stdout",
     "output_type": "stream",
     "text": [
      "SLURM_JOB_GPUS : 0,1\n",
      "GPU_DEVICE_ORDINAL : 0,1\n",
      "SLURM_GPUS_PER_NODE : 2\n",
      "2021-05-12 13:49:32.099905: I tensorflow/stream_executor/platform/default/dso_loader.cc:49] Successfully opened dynamic library libcudart.so.11.0\n",
      "8\n",
      "x_train shape: (60000, 28, 28, 1)\n",
      "Number of images in x_train 60000\n",
      "Number of images in x_test 10000\n",
      "2021-05-12 13:49:34.806052: I tensorflow/compiler/jit/xla_cpu_device.cc:41] Not creating XLA devices, tf_xla_enable_xla_devices not set\n",
      "2021-05-12 13:49:34.810734: I tensorflow/stream_executor/platform/default/dso_loader.cc:49] Successfully opened dynamic library libcuda.so.1\n",
      "2021-05-12 13:49:36.416749: I tensorflow/core/common_runtime/gpu/gpu_device.cc:1720] Found device 0 with properties: \n",
      "pciBusID: 0000:37:00.0 name: Tesla V100-PCIE-16GB computeCapability: 7.0\n",
      "coreClock: 1.38GHz coreCount: 80 deviceMemorySize: 15.78GiB deviceMemoryBandwidth: 836.37GiB/s\n",
      "2021-05-12 13:49:36.417391: I tensorflow/core/common_runtime/gpu/gpu_device.cc:1720] Found device 1 with properties: \n",
      "pciBusID: 0000:86:00.0 name: Tesla V100-PCIE-16GB computeCapability: 7.0\n",
      "coreClock: 1.38GHz coreCount: 80 deviceMemorySize: 15.78GiB deviceMemoryBandwidth: 836.37GiB/s\n",
      "2021-05-12 13:49:36.417441: I tensorflow/stream_executor/platform/default/dso_loader.cc:49] Successfully opened dynamic library libcudart.so.11.0\n",
      "2021-05-12 13:49:36.422009: I tensorflow/stream_executor/platform/default/dso_loader.cc:49] Successfully opened dynamic library libcublas.so.11\n",
      "2021-05-12 13:49:36.422083: I tensorflow/stream_executor/platform/default/dso_loader.cc:49] Successfully opened dynamic library libcublasLt.so.11\n",
      "2021-05-12 13:49:36.423327: I tensorflow/stream_executor/platform/default/dso_loader.cc:49] Successfully opened dynamic library libcufft.so.10\n",
      "2021-05-12 13:49:36.424108: I tensorflow/stream_executor/platform/default/dso_loader.cc:49] Successfully opened dynamic library libcurand.so.10\n",
      "2021-05-12 13:49:36.428680: I tensorflow/stream_executor/platform/default/dso_loader.cc:49] Successfully opened dynamic library libcusolver.so.10\n",
      "2021-05-12 13:49:36.429656: I tensorflow/stream_executor/platform/default/dso_loader.cc:49] Successfully opened dynamic library libcusparse.so.11\n",
      "2021-05-12 13:49:36.429954: I tensorflow/stream_executor/platform/default/dso_loader.cc:49] Successfully opened dynamic library libcudnn.so.8\n",
      "2021-05-12 13:49:36.432271: I tensorflow/core/common_runtime/gpu/gpu_device.cc:1862] Adding visible gpu devices: 0, 1\n",
      "2021-05-12 13:49:36.432655: I tensorflow/core/platform/cpu_feature_guard.cc:142] This TensorFlow binary is optimized with oneAPI Deep Neural Network Library (oneDNN) to use the following CPU instructions in performance-critical operations:  AVX512F\n",
      "To enable them in other operations, rebuild TensorFlow with the appropriate compiler flags.\n",
      "2021-05-12 13:49:36.434717: I tensorflow/compiler/jit/xla_gpu_device.cc:99] Not creating XLA devices, tf_xla_enable_xla_devices not set\n",
      "2021-05-12 13:49:36.639737: I tensorflow/core/common_runtime/gpu/gpu_device.cc:1720] Found device 0 with properties: \n",
      "pciBusID: 0000:37:00.0 name: Tesla V100-PCIE-16GB computeCapability: 7.0\n",
      "coreClock: 1.38GHz coreCount: 80 deviceMemorySize: 15.78GiB deviceMemoryBandwidth: 836.37GiB/s\n",
      "2021-05-12 13:49:36.640399: I tensorflow/core/common_runtime/gpu/gpu_device.cc:1720] Found device 1 with properties: \n",
      "pciBusID: 0000:86:00.0 name: Tesla V100-PCIE-16GB computeCapability: 7.0\n",
      "coreClock: 1.38GHz coreCount: 80 deviceMemorySize: 15.78GiB deviceMemoryBandwidth: 836.37GiB/s\n",
      "2021-05-12 13:49:36.640450: I tensorflow/stream_executor/platform/default/dso_loader.cc:49] Successfully opened dynamic library libcudart.so.11.0\n",
      "2021-05-12 13:49:36.640484: I tensorflow/stream_executor/platform/default/dso_loader.cc:49] Successfully opened dynamic library libcublas.so.11\n",
      "2021-05-12 13:49:36.640497: I tensorflow/stream_executor/platform/default/dso_loader.cc:49] Successfully opened dynamic library libcublasLt.so.11\n",
      "2021-05-12 13:49:36.640510: I tensorflow/stream_executor/platform/default/dso_loader.cc:49] Successfully opened dynamic library libcufft.so.10\n",
      "2021-05-12 13:49:36.640523: I tensorflow/stream_executor/platform/default/dso_loader.cc:49] Successfully opened dynamic library libcurand.so.10\n",
      "2021-05-12 13:49:36.640537: I tensorflow/stream_executor/platform/default/dso_loader.cc:49] Successfully opened dynamic library libcusolver.so.10\n",
      "2021-05-12 13:49:36.640550: I tensorflow/stream_executor/platform/default/dso_loader.cc:49] Successfully opened dynamic library libcusparse.so.11\n",
      "2021-05-12 13:49:36.640563: I tensorflow/stream_executor/platform/default/dso_loader.cc:49] Successfully opened dynamic library libcudnn.so.8\n",
      "2021-05-12 13:49:36.642683: I tensorflow/core/common_runtime/gpu/gpu_device.cc:1862] Adding visible gpu devices: 0, 1\n",
      "2021-05-12 13:49:36.642729: I tensorflow/stream_executor/platform/default/dso_loader.cc:49] Successfully opened dynamic library libcudart.so.11.0\n",
      "2021-05-12 13:49:37.477412: I tensorflow/core/common_runtime/gpu/gpu_device.cc:1261] Device interconnect StreamExecutor with strength 1 edge matrix:\n",
      "2021-05-12 13:49:37.477482: I tensorflow/core/common_runtime/gpu/gpu_device.cc:1267]      0 1 \n",
      "2021-05-12 13:49:37.477505: I tensorflow/core/common_runtime/gpu/gpu_device.cc:1280] 0:   N Y \n",
      "2021-05-12 13:49:37.477515: I tensorflow/core/common_runtime/gpu/gpu_device.cc:1280] 1:   Y N \n",
      "2021-05-12 13:49:37.480028: I tensorflow/core/common_runtime/gpu/gpu_device.cc:1406] Created TensorFlow device (/job:localhost/replica:0/task:0/device:GPU:0 with 14759 MB memory) -> physical GPU (device: 0, name: Tesla V100-PCIE-16GB, pci bus id: 0000:37:00.0, compute capability: 7.0)\n",
      "2021-05-12 13:49:37.481557: I tensorflow/core/common_runtime/gpu/gpu_device.cc:1406] Created TensorFlow device (/job:localhost/replica:0/task:0/device:GPU:1 with 14759 MB memory) -> physical GPU (device: 1, name: Tesla V100-PCIE-16GB, pci bus id: 0000:86:00.0, compute capability: 7.0)\n",
      "2021-05-12 13:49:37.760998: I tensorflow/compiler/mlir/mlir_graph_optimization_pass.cc:116] None of the MLIR optimization passes are enabled (registered 2)\n",
      "2021-05-12 13:49:37.761565: I tensorflow/core/platform/profile_utils/cpu_utils.cc:112] CPU Frequency: 3000000000 Hz\n",
      "Epoch 1/10\n",
      "2021-05-12 13:49:38.028241: I tensorflow/stream_executor/platform/default/dso_loader.cc:49] Successfully opened dynamic library libcublas.so.11\n",
      "2021-05-12 13:49:38.393020: I tensorflow/stream_executor/platform/default/dso_loader.cc:49] Successfully opened dynamic library libcublasLt.so.11\n",
      "2021-05-12 13:49:38.394681: I tensorflow/stream_executor/platform/default/dso_loader.cc:49] Successfully opened dynamic library libcudnn.so.8\n",
      "1875/1875 [==============================] - 4s 1ms/step - loss: 0.3665 - accuracy: 0.8882\n",
      "Epoch 2/10\n",
      "1875/1875 [==============================] - 2s 1ms/step - loss: 0.0891 - accuracy: 0.9723\n",
      "Epoch 3/10\n",
      "1875/1875 [==============================] - 2s 1ms/step - loss: 0.0579 - accuracy: 0.9820\n",
      "Epoch 4/10\n",
      "1875/1875 [==============================] - 2s 1ms/step - loss: 0.0434 - accuracy: 0.9862\n",
      "Epoch 5/10\n",
      "1875/1875 [==============================] - 2s 1ms/step - loss: 0.0338 - accuracy: 0.9892\n",
      "Epoch 6/10\n",
      "1875/1875 [==============================] - 2s 1ms/step - loss: 0.0290 - accuracy: 0.9901\n",
      "Epoch 7/10\n",
      "1875/1875 [==============================] - 2s 1ms/step - loss: 0.0234 - accuracy: 0.9922\n",
      "Epoch 8/10\n",
      "1875/1875 [==============================] - 2s 1ms/step - loss: 0.0226 - accuracy: 0.9921\n",
      "Epoch 9/10\n",
      "1875/1875 [==============================] - 2s 1ms/step - loss: 0.0185 - accuracy: 0.9936\n",
      "Epoch 10/10\n",
      "1875/1875 [==============================] - 2s 1ms/step - loss: 0.0154 - accuracy: 0.9947\n",
      "313/313 [==============================] - 0s 919us/step - loss: 0.0561 - accuracy: 0.9856\n",
      "9\n"
     ]
    }
   ],
   "source": [
    "!./mnist1.py"
   ]
  },
  {
   "cell_type": "code",
   "execution_count": 9,
   "id": "821896cc",
   "metadata": {},
   "outputs": [
    {
     "name": "stdout",
     "output_type": "stream",
     "text": [
      "#!/usr/bin/env python\n",
      "#####!/home/tkaiser2/.conda-envs/dompt/bin/python\n",
      "\n",
      "#https://towardsdatascience.com/image-classification-in-10-minutes-with-mnist-dataset-54c35b77a38d\n",
      "import os\n",
      "for x in os.environ:\n",
      "   #if x.find(\"SLURM\") > -1 or x.find(\"gpu\") > -1 :\n",
      "   if x.find(\"GPU\") > -1 or x.find(\"gpu\") > -1 :\n",
      "        print(x,\":\",os.environ[x])\n",
      "\n",
      "import tensorflow as tf\n",
      "(x_train, y_train), (x_test, y_test) = tf.keras.datasets.mnist.load_data()\n",
      "\n",
      "import matplotlib.pyplot as plt\n",
      "# Only use this if using iPython\n",
      "try:\n",
      "#%matplotlib inline\n",
      "   pass\n",
      "except:\n",
      "    pass\n",
      "# You may select anything up to 60,000\n",
      "image_index = 7777 \n",
      "# The label is 8\n",
      "print(y_train[image_index]) \n",
      "plt.imshow(x_train[image_index], cmap='Greys')\n",
      "\n",
      "\n",
      "x_train.shape\n",
      "\n",
      "\n",
      "\n",
      "# Reshaping the array to 4-dims so that it can work with the Keras API\n",
      "x_train = x_train.reshape(x_train.shape[0], 28, 28, 1)\n",
      "x_test = x_test.reshape(x_test.shape[0], 28, 28, 1)\n",
      "input_shape = (28, 28, 1)\n",
      "# Making sure that the values are float so that we can get decimal points after division\n",
      "x_train = x_train.astype('float32')\n",
      "x_test = x_test.astype('float32')\n",
      "# Normalizing the RGB codes by dividing it to the max RGB value.\n",
      "x_train /= 255\n",
      "x_test /= 255\n",
      "print('x_train shape:', x_train.shape)\n",
      "print('Number of images in x_train', x_train.shape[0])\n",
      "print('Number of images in x_test', x_test.shape[0])\n",
      "\n",
      "\n",
      "\n",
      "# Importing the required Keras modules containing model and layers\n",
      "from tensorflow.keras.models import Sequential\n",
      "from tensorflow.keras.layers import Dense, Conv2D, Dropout, Flatten, MaxPooling2D\n",
      "# Creating a Sequential Model and adding the layers\n",
      "model = Sequential()\n",
      "model.add(Conv2D(28, kernel_size=(3,3), input_shape=input_shape))\n",
      "model.add(MaxPooling2D(pool_size=(2, 2)))\n",
      "model.add(Flatten()) # Flattening the 2D arrays for fully connected layers\n",
      "model.add(Dense(128, activation=tf.nn.relu))\n",
      "model.add(Dropout(0.2))\n",
      "model.add(Dense(10,activation=tf.nn.softmax))\n",
      "\n",
      "\n",
      "model.compile(optimizer='adam', \n",
      "              loss='sparse_categorical_crossentropy', \n",
      "              metrics=['accuracy'])\n",
      "model.fit(x=x_train,y=y_train, epochs=10)\n",
      "\n",
      "\n",
      "\n",
      "model.evaluate(x_test, y_test)\n",
      "\n",
      "\n",
      "image_index = 4444\n",
      "plt.imshow(x_test[image_index].reshape(28, 28),cmap='Greys')\n",
      "pred = model.predict(x_test[image_index].reshape(1, 28, 28, 1))\n",
      "print(pred.argmax())\n",
      "\n",
      "\n",
      "\n",
      "SLURM_JOB_GPUS : 0,1\n",
      "GPU_DEVICE_ORDINAL : 0,1\n",
      "SLURM_GPUS_PER_NODE : 2\n",
      "8\n",
      "x_train shape: (60000, 28, 28, 1)\n",
      "Number of images in x_train 60000\n",
      "Number of images in x_test 10000\n",
      "Epoch 1/10\n",
      "1875/1875 [==============================] - 5s 1ms/step - loss: 0.3763 - accuracy: 0.8839\n",
      "Epoch 2/10\n",
      "1875/1875 [==============================] - 2s 1ms/step - loss: 0.0911 - accuracy: 0.9718\n",
      "Epoch 3/10\n",
      "1875/1875 [==============================] - 2s 1ms/step - loss: 0.0575 - accuracy: 0.9811\n",
      "Epoch 4/10\n",
      "1875/1875 [==============================] - 2s 1ms/step - loss: 0.0414 - accuracy: 0.9870\n",
      "Epoch 5/10\n",
      "1875/1875 [==============================] - 2s 1ms/step - loss: 0.0334 - accuracy: 0.9891\n",
      "Epoch 6/10\n",
      "1875/1875 [==============================] - 2s 1ms/step - loss: 0.0263 - accuracy: 0.9905\n",
      "Epoch 7/10\n",
      "1875/1875 [==============================] - 2s 1ms/step - loss: 0.0204 - accuracy: 0.9936\n",
      "Epoch 8/10\n",
      "1875/1875 [==============================] - 2s 1ms/step - loss: 0.0216 - accuracy: 0.9927\n",
      "Epoch 9/10\n",
      "1875/1875 [==============================] - 2s 1ms/step - loss: 0.0164 - accuracy: 0.9946\n",
      "Epoch 10/10\n",
      "1875/1875 [==============================] - 2s 1ms/step - loss: 0.0196 - accuracy: 0.9936\n",
      "313/313 [==============================] - 0s 954us/step - loss: 0.0604 - accuracy: 0.9858\n",
      "9\n"
     ]
    },
    {
     "data": {
      "image/png": "[encoded data removed]",
      "text/plain": [
       "<Figure size 432x288 with 1 Axes>"
      ]
     },
     "metadata": {
      "needs_background": "light"
     },
     "output_type": "display_data"
    }
   ],
   "source": [
    "f=open(\"mnist1.py\",\"r\",newline=\"\\n\")\n",
    "bonk=f.read()\n",
    "for b in bonk.split(\"\\n\"):\n",
    "    print(b)\n",
    "\n",
    "exec(bonk)\n"
   ]
  },
  {
   "cell_type": "code",
   "execution_count": null,
   "id": "3052c807",
   "metadata": {},
   "outputs": [],
   "source": []
  },
  {
   "cell_type": "code",
   "execution_count": 10,
   "id": "4587c220",
   "metadata": {},
   "outputs": [
    {
     "name": "stdout",
     "output_type": "stream",
     "text": [
      "SLURM_JOB_GPUS : 0,1\n",
      "GPU_DEVICE_ORDINAL : 0,1\n",
      "SLURM_GPUS_PER_NODE : 2\n"
     ]
    }
   ],
   "source": [
    "#!/usr/bin/env python\n",
    "#from:\n",
    "#https://towardsdatascience.com/image-classification-in-10-minutes-with-mnist-dataset-54c35b77a38d\n",
    "import os\n",
    "for x in os.environ:\n",
    "   #if x.find(\"SLURM\") > -1 or x.find(\"gpu\") > -1 :\n",
    "   if x.find(\"GPU\") > -1 or x.find(\"gpu\") > -1 :\n",
    "        print(x,\":\",os.environ[x])\n",
    "\n",
    "import tensorflow as tf\n",
    "(x_train, y_train), (x_test, y_test) = tf.keras.datasets.mnist.load_data()"
   ]
  },
  {
   "cell_type": "code",
   "execution_count": 11,
   "id": "ae0ba991",
   "metadata": {},
   "outputs": [
    {
     "name": "stdout",
     "output_type": "stream",
     "text": [
      "8\n"
     ]
    },
    {
     "data": {
      "text/plain": [
       "<matplotlib.image.AxesImage at 0x2ab49fee67c0>"
      ]
     },
     "execution_count": 11,
     "metadata": {},
     "output_type": "execute_result"
    },
    {
     "data": {
      "image/png": "[encoded data removed]",
      "text/plain": [
       "<Figure size 432x288 with 1 Axes>"
      ]
     },
     "metadata": {
      "needs_background": "light"
     },
     "output_type": "display_data"
    }
   ],
   "source": [
    "import matplotlib.pyplot as plt\n",
    "# Only use this if using iPython\n",
    "try:\n",
    "#%matplotlib inline\n",
    "   pass\n",
    "except:\n",
    "    pass\n",
    "# You may select anything up to 60,000\n",
    "image_index = 7777 \n",
    "# The label is 8\n",
    "print(y_train[image_index]) \n",
    "plt.imshow(x_train[image_index], cmap='Greys')"
   ]
  },
  {
   "cell_type": "code",
   "execution_count": 12,
   "id": "e85eb25f",
   "metadata": {},
   "outputs": [
    {
     "data": {
      "text/plain": [
       "(60000, 28, 28)"
      ]
     },
     "execution_count": 12,
     "metadata": {},
     "output_type": "execute_result"
    }
   ],
   "source": [
    "x_train.shape"
   ]
  },
  {
   "cell_type": "code",
   "execution_count": 13,
   "id": "91192437",
   "metadata": {},
   "outputs": [
    {
     "name": "stdout",
     "output_type": "stream",
     "text": [
      "x_train shape: (60000, 28, 28, 1)\n",
      "Number of images in x_train 60000\n",
      "Number of images in x_test 10000\n"
     ]
    }
   ],
   "source": [
    "# Reshaping the array to 4-dims so that it can work with the Keras API\n",
    "x_train = x_train.reshape(x_train.shape[0], 28, 28, 1)\n",
    "x_test = x_test.reshape(x_test.shape[0], 28, 28, 1)\n",
    "input_shape = (28, 28, 1)\n",
    "# Making sure that the values are float so that we can get decimal points after division\n",
    "x_train = x_train.astype('float32')\n",
    "x_test = x_test.astype('float32')\n",
    "# Normalizing the RGB codes by dividing it to the max RGB value.\n",
    "x_train /= 255\n",
    "x_test /= 255\n",
    "print('x_train shape:', x_train.shape)\n",
    "print('Number of images in x_train', x_train.shape[0])\n",
    "print('Number of images in x_test', x_test.shape[0])"
   ]
  },
  {
   "cell_type": "code",
   "execution_count": 14,
   "id": "5a0dfc38",
   "metadata": {},
   "outputs": [],
   "source": [
    "# Importing the required Keras modules containing model and layers\n",
    "from tensorflow.keras.models import Sequential\n",
    "from tensorflow.keras.layers import Dense, Conv2D, Dropout, Flatten, MaxPooling2D\n",
    "# Creating a Sequential Model and adding the layers\n",
    "model = Sequential()\n",
    "model.add(Conv2D(28, kernel_size=(3,3), input_shape=input_shape))\n",
    "model.add(MaxPooling2D(pool_size=(2, 2)))\n",
    "model.add(Flatten()) # Flattening the 2D arrays for fully connected layers\n",
    "model.add(Dense(128, activation=tf.nn.relu))\n",
    "model.add(Dropout(0.2))\n",
    "model.add(Dense(10,activation=tf.nn.softmax))"
   ]
  },
  {
   "cell_type": "code",
   "execution_count": 15,
   "id": "388811fd",
   "metadata": {},
   "outputs": [
    {
     "name": "stdout",
     "output_type": "stream",
     "text": [
      "Epoch 1/10\n",
      "1875/1875 [==============================] - 3s 1ms/step - loss: 0.3543 - accuracy: 0.8950\n",
      "Epoch 2/10\n",
      "1875/1875 [==============================] - 2s 1ms/step - loss: 0.0835 - accuracy: 0.9748\n",
      "Epoch 3/10\n",
      "1875/1875 [==============================] - 2s 1ms/step - loss: 0.0596 - accuracy: 0.9810\n",
      "Epoch 4/10\n",
      "1875/1875 [==============================] - 2s 1ms/step - loss: 0.0432 - accuracy: 0.9865\n",
      "Epoch 5/10\n",
      "1875/1875 [==============================] - 2s 1ms/step - loss: 0.0343 - accuracy: 0.9884\n",
      "Epoch 6/10\n",
      "1875/1875 [==============================] - 2s 1ms/step - loss: 0.0306 - accuracy: 0.9898\n",
      "Epoch 7/10\n",
      "1875/1875 [==============================] - 2s 1ms/step - loss: 0.0259 - accuracy: 0.9911\n",
      "Epoch 8/10\n",
      "1875/1875 [==============================] - 2s 1ms/step - loss: 0.0222 - accuracy: 0.9926\n",
      "Epoch 9/10\n",
      "1875/1875 [==============================] - 2s 1ms/step - loss: 0.0187 - accuracy: 0.9937\n",
      "Epoch 10/10\n",
      "1875/1875 [==============================] - 2s 1ms/step - loss: 0.0164 - accuracy: 0.9946\n",
      "313/313 [==============================] - 0s 969us/step - loss: 0.0682 - accuracy: 0.9830\n"
     ]
    },
    {
     "data": {
      "text/plain": [
       "[0.0681806206703186, 0.9829999804496765]"
      ]
     },
     "execution_count": 15,
     "metadata": {},
     "output_type": "execute_result"
    }
   ],
   "source": [
    "model.compile(optimizer='adam', \n",
    "              loss='sparse_categorical_crossentropy', \n",
    "              metrics=['accuracy'])\n",
    "model.fit(x=x_train,y=y_train, epochs=10)\n",
    "\n",
    "\n",
    "\n",
    "model.evaluate(x_test, y_test)"
   ]
  },
  {
   "cell_type": "code",
   "execution_count": 16,
   "id": "c6fcd7ff",
   "metadata": {},
   "outputs": [
    {
     "name": "stdout",
     "output_type": "stream",
     "text": [
      "8\n"
     ]
    },
    {
     "data": {
      "image/png": "[encoded data removed]",
      "text/plain": [
       "<Figure size 432x288 with 1 Axes>"
      ]
     },
     "metadata": {
      "needs_background": "light"
     },
     "output_type": "display_data"
    }
   ],
   "source": [
    "image_index = 1234\n",
    "plt.imshow(x_test[image_index].reshape(28, 28),cmap='Greys')\n",
    "pred = model.predict(x_test[image_index].reshape(1, 28, 28, 1))\n",
    "print(pred.argmax())"
   ]
  },
  {
   "cell_type": "code",
   "execution_count": 17,
   "id": "f7d1a5c1",
   "metadata": {},
   "outputs": [],
   "source": [
    "# get the cupy gpu package\n",
    "import cupy as cp\n",
    "import numpy as np\n",
    "import time\n",
    "import sys\n"
   ]
  },
  {
   "cell_type": "code",
   "execution_count": 18,
   "id": "c077db6a",
   "metadata": {},
   "outputs": [],
   "source": [
    "# This is the blurring function.  It causes blurring\n",
    "# by adding random phase variations in Fourier space.\n",
    "# That is, this is a transfer function that preserves\n",
    "# overall intensity.\n",
    "\n",
    "# newimg= IFFT((FFT(image)*BLUR[p]))\n",
    "\n",
    "from cmath import exp,pi\n",
    "from random import random\n",
    "\n",
    "def blur(p):\n",
    "    return (exp(2*pi*1j*random()*p))"
   ]
  },
  {
   "cell_type": "code",
   "execution_count": 19,
   "id": "9bf41508",
   "metadata": {},
   "outputs": [],
   "source": [
    "# Get an image\n",
    "image_index=8888\n",
    "istart=x_test[image_index].reshape(28, 28)\n",
    "istart=cp.array(istart)"
   ]
  },
  {
   "cell_type": "code",
   "execution_count": 20,
   "id": "ed201a06",
   "metadata": {},
   "outputs": [],
   "source": [
    "# Set our blur values\n",
    "pvals=[0.0,0.01,0.02,0.04,0.08,0.10,0.15,0.20,0.25,0.30,0.35,0.40,0.45,0.50,0.55,0.60,0.65,0.70,0.75,0.80]"
   ]
  },
  {
   "cell_type": "code",
   "execution_count": 21,
   "id": "6bdb509b",
   "metadata": {},
   "outputs": [],
   "source": [
    "# Convert it to Fourier space\n",
    "# It is useful to have two copies\n",
    "fspace=cp.fft.fft2(istart)\n",
    "ospace=cp.fft.fft2(istart)"
   ]
  },
  {
   "cell_type": "code",
   "execution_count": 22,
   "id": "e58865a8",
   "metadata": {},
   "outputs": [
    {
     "data": {
      "image/png": "[encoded data removed]",
      "text/plain": [
       "<Figure size 432x288 with 1 Axes>"
      ]
     },
     "metadata": {
      "needs_background": "light"
     },
     "output_type": "display_data"
    },
    {
     "name": "stdout",
     "output_type": "stream",
     "text": [
      "blur= 0.0  0.000 0.000 0.000 0.000 0.000 0.000 1.000 0.000 0.000 0.000 selected= 6\n"
     ]
    },
    {
     "data": {
      "image/png": "[encoded data removed]",
      "text/plain": [
       "<Figure size 432x288 with 1 Axes>"
      ]
     },
     "metadata": {
      "needs_background": "light"
     },
     "output_type": "display_data"
    },
    {
     "name": "stdout",
     "output_type": "stream",
     "text": [
      "blur= 0.01  0.000 0.000 0.000 0.000 0.000 0.000 1.000 0.000 0.000 0.000 selected= 6\n"
     ]
    },
    {
     "data": {
      "image/png": "[encoded data removed]",
      "text/plain": [
       "<Figure size 432x288 with 1 Axes>"
      ]
     },
     "metadata": {
      "needs_background": "light"
     },
     "output_type": "display_data"
    },
    {
     "name": "stdout",
     "output_type": "stream",
     "text": [
      "blur= 0.02  0.000 0.000 0.000 0.000 0.000 0.000 1.000 0.000 0.000 0.000 selected= 6\n"
     ]
    },
    {
     "data": {
      "image/png": "[encoded data removed]",
      "text/plain": [
       "<Figure size 432x288 with 1 Axes>"
      ]
     },
     "metadata": {
      "needs_background": "light"
     },
     "output_type": "display_data"
    },
    {
     "name": "stdout",
     "output_type": "stream",
     "text": [
      "blur= 0.04  0.000 0.000 0.000 0.000 0.000 0.000 1.000 0.000 0.000 0.000 selected= 6\n"
     ]
    },
    {
     "data": {
      "image/png": "[encoded data removed]",
      "text/plain": [
       "<Figure size 432x288 with 1 Axes>"
      ]
     },
     "metadata": {
      "needs_background": "light"
     },
     "output_type": "display_data"
    },
    {
     "name": "stdout",
     "output_type": "stream",
     "text": [
      "blur= 0.08  0.000 0.000 0.000 0.000 0.000 0.000 1.000 0.000 0.000 0.000 selected= 6\n"
     ]
    },
    {
     "data": {
      "image/png": "[encoded data removed]",
      "text/plain": [
       "<Figure size 432x288 with 1 Axes>"
      ]
     },
     "metadata": {
      "needs_background": "light"
     },
     "output_type": "display_data"
    },
    {
     "name": "stdout",
     "output_type": "stream",
     "text": [
      "blur= 0.1  0.000 0.000 0.000 0.000 0.000 0.000 1.000 0.000 0.000 0.000 selected= 6\n"
     ]
    },
    {
     "data": {
      "image/png": "[encoded data removed]",
      "text/plain": [
       "<Figure size 432x288 with 1 Axes>"
      ]
     },
     "metadata": {
      "needs_background": "light"
     },
     "output_type": "display_data"
    },
    {
     "name": "stdout",
     "output_type": "stream",
     "text": [
      "blur= 0.15  0.000 0.000 0.000 0.000 0.000 0.000 1.000 0.000 0.000 0.000 selected= 6\n"
     ]
    },
    {
     "data": {
      "image/png": "[encoded data removed]",
      "text/plain": [
       "<Figure size 432x288 with 1 Axes>"
      ]
     },
     "metadata": {
      "needs_background": "light"
     },
     "output_type": "display_data"
    },
    {
     "name": "stdout",
     "output_type": "stream",
     "text": [
      "blur= 0.2  0.000 0.000 0.000 0.000 0.000 0.000 1.000 0.000 0.000 0.000 selected= 6\n"
     ]
    },
    {
     "data": {
      "image/png": "[encoded data removed]",
      "text/plain": [
       "<Figure size 432x288 with 1 Axes>"
      ]
     },
     "metadata": {
      "needs_background": "light"
     },
     "output_type": "display_data"
    },
    {
     "name": "stdout",
     "output_type": "stream",
     "text": [
      "blur= 0.25  0.000 0.000 0.000 0.000 0.000 0.000 1.000 0.000 0.000 0.000 selected= 6\n"
     ]
    },
    {
     "data": {
      "image/png": "[encoded data removed]",
      "text/plain": [
       "<Figure size 432x288 with 1 Axes>"
      ]
     },
     "metadata": {
      "needs_background": "light"
     },
     "output_type": "display_data"
    },
    {
     "name": "stdout",
     "output_type": "stream",
     "text": [
      "blur= 0.3  0.000 0.000 0.000 0.000 0.000 0.000 1.000 0.000 0.000 0.000 selected= 6\n"
     ]
    },
    {
     "data": {
      "image/png": "[encoded data removed]",
      "text/plain": [
       "<Figure size 432x288 with 1 Axes>"
      ]
     },
     "metadata": {
      "needs_background": "light"
     },
     "output_type": "display_data"
    },
    {
     "name": "stdout",
     "output_type": "stream",
     "text": [
      "blur= 0.35  0.000 0.000 0.000 0.000 0.000 0.000 1.000 0.000 0.000 0.000 selected= 6\n"
     ]
    },
    {
     "data": {
      "image/png": "[encoded data removed]",
      "text/plain": [
       "<Figure size 432x288 with 1 Axes>"
      ]
     },
     "metadata": {
      "needs_background": "light"
     },
     "output_type": "display_data"
    },
    {
     "name": "stdout",
     "output_type": "stream",
     "text": [
      "blur= 0.4  0.000 0.000 0.000 0.000 0.000 0.000 1.000 0.000 0.000 0.000 selected= 6\n"
     ]
    },
    {
     "data": {
      "image/png": "[encoded data removed]",
      "text/plain": [
       "<Figure size 432x288 with 1 Axes>"
      ]
     },
     "metadata": {
      "needs_background": "light"
     },
     "output_type": "display_data"
    },
    {
     "name": "stdout",
     "output_type": "stream",
     "text": [
      "blur= 0.45  0.000 0.000 0.000 0.000 0.000 0.000 1.000 0.000 0.000 0.000 selected= 6\n"
     ]
    },
    {
     "data": {
      "image/png": "[encoded data removed]",
      "text/plain": [
       "<Figure size 432x288 with 1 Axes>"
      ]
     },
     "metadata": {
      "needs_background": "light"
     },
     "output_type": "display_data"
    },
    {
     "name": "stdout",
     "output_type": "stream",
     "text": [
      "blur= 0.5  0.000 0.000 0.000 0.000 0.000 0.000 1.000 0.000 0.000 0.000 selected= 6\n"
     ]
    },
    {
     "data": {
      "image/png": "[encoded data removed]",
      "text/plain": [
       "<Figure size 432x288 with 1 Axes>"
      ]
     },
     "metadata": {
      "needs_background": "light"
     },
     "output_type": "display_data"
    },
    {
     "name": "stdout",
     "output_type": "stream",
     "text": [
      "blur= 0.55  0.000 0.000 0.008 0.000 0.000 0.000 0.987 0.000 0.004 0.000 selected= 6\n"
     ]
    },
    {
     "data": {
      "image/png": "[encoded data removed]",
      "text/plain": [
       "<Figure size 432x288 with 1 Axes>"
      ]
     },
     "metadata": {
      "needs_background": "light"
     },
     "output_type": "display_data"
    },
    {
     "name": "stdout",
     "output_type": "stream",
     "text": [
      "blur= 0.6  0.000 0.000 0.000 0.010 0.009 0.064 0.047 0.000 0.789 0.080 selected= 8\n"
     ]
    },
    {
     "data": {
      "image/png": "[encoded data removed]",
      "text/plain": [
       "<Figure size 432x288 with 1 Axes>"
      ]
     },
     "metadata": {
      "needs_background": "light"
     },
     "output_type": "display_data"
    },
    {
     "name": "stdout",
     "output_type": "stream",
     "text": [
      "blur= 0.65  0.004 0.000 0.996 0.000 0.000 0.000 0.000 0.000 0.000 0.000 selected= 2\n"
     ]
    },
    {
     "data": {
      "image/png": "[encoded data removed]",
      "text/plain": [
       "<Figure size 432x288 with 1 Axes>"
      ]
     },
     "metadata": {
      "needs_background": "light"
     },
     "output_type": "display_data"
    },
    {
     "name": "stdout",
     "output_type": "stream",
     "text": [
      "blur= 0.7  0.064 0.000 0.222 0.673 0.000 0.001 0.001 0.016 0.023 0.000 selected= 3\n"
     ]
    },
    {
     "data": {
      "image/png": "[encoded data removed]",
      "text/plain": [
       "<Figure size 432x288 with 1 Axes>"
      ]
     },
     "metadata": {
      "needs_background": "light"
     },
     "output_type": "display_data"
    },
    {
     "name": "stdout",
     "output_type": "stream",
     "text": [
      "blur= 0.75  0.000 0.000 0.003 0.001 0.000 0.000 0.000 0.000 0.995 0.001 selected= 8\n"
     ]
    },
    {
     "data": {
      "image/png": "[encoded data removed]",
      "text/plain": [
       "<Figure size 432x288 with 1 Axes>"
      ]
     },
     "metadata": {
      "needs_background": "light"
     },
     "output_type": "display_data"
    },
    {
     "name": "stdout",
     "output_type": "stream",
     "text": [
      "blur= 0.8  0.000 0.000 0.970 0.000 0.000 0.000 0.001 0.000 0.029 0.000 selected= 2\n"
     ]
    }
   ],
   "source": [
    "for p in pvals:\n",
    "    for nx in range(0,28):\n",
    "        for ny in range(0,28):\n",
    "            fspace[nx,ny]=ospace[nx,ny]*blur(p)\n",
    "            newimg=cp.fft.ifft2(fspace)\n",
    "            newimg=newimg.get()\n",
    "            newimg=abs(newimg)\n",
    "    plt.imshow(newimg,cmap='Greys')\n",
    "    #plt.imshow(newimg)\n",
    "\n",
    "\n",
    "    plt.show()\n",
    "    pred = model.predict(newimg.reshape(1, 28, 28, 1))\n",
    "    print(\"blur=\",p,end=\" \")\n",
    "    digits=pred[0]\n",
    "    for d in digits:\n",
    "        print(\"%6.3f\" % (d),end=\"\")\n",
    "    print(\" selected=\",pred.argmax())"
   ]
  },
  {
   "cell_type": "markdown",
   "id": "5ced0f4d",
   "metadata": {},
   "source": [
    "### script to create the environment with cuda-11, tensorflow 2.4.0, horovod 0.21.3, cupy 9.0.0\n"
   ]
  },
  {
   "cell_type": "code",
   "execution_count": 23,
   "id": "a412d036",
   "metadata": {},
   "outputs": [
    {
     "name": "stdout",
     "output_type": "stream",
     "text": [
      "#script for build conda environment with various packages including\r\n",
      "#jupyter matplotlib scipy pandas xlwt dask tensorflow horovod cupy\r\n",
      "#You'll need to change \"BASEDIR\" then\r\n",
      "#\r\n",
      "# source makeit\r\n",
      "#\r\n",
      "CWD=`pwd`\r\n",
      "export MYVERSION=may12\r\n",
      "#BASEDIR=/scratch/$USER\r\n",
      "BASEDIR=/projects/hpcapps/tkaiser\r\n",
      "#cd ~\r\n",
      "module load conda 2> /dev/null || echo \"module load conda failed\"\r\n",
      "#conda create -p $BASEDIR/exampleenv --name $MYVERSION python=3.8 jupyter matplotlib scipy pandas xlwt dask -y\r\n",
      "conda create -p $BASEDIR/$MYVERSION python=3.8 jupyter matplotlib scipy pandas xlwt dask -y\r\n",
      "\r\n",
      "### Don't do conda init\r\n",
      "### Just do source activate\r\n",
      "source activate \r\n",
      "source activate $BASEDIR/$MYVERSION\r\n",
      "\r\n",
      "which pip\r\n",
      "which python\r\n",
      "\r\n",
      "### Install mpi4py\r\n",
      "#module load intel-mpi/2020.1.217  2> /dev/null || echo \"module load mpi failed\"\r\n",
      "module load mpt  2> /dev/null || echo \"module load mpi failed\"\r\n",
      "module load gcc/8.4.0  2> /dev/null || echo \"module load gcc failed\"\r\n",
      "pip --no-cache-dir install mpi4py\r\n",
      "\r\n",
      "\r\n",
      "### Install slurm magic commands \r\n",
      "pip install git+git://github.com/NERSC/slurm-magic.git\r\n",
      "\r\n",
      "\r\n",
      "# The version of TF and/or cupy installed below\r\n",
      "# # expect libcusolver.so.10.  We actually link to\r\n",
      "# # version 11.x.x which works also\r\n",
      "#\r\n",
      "if [ ! -e libcusolver.so.10  ] ; then\r\n",
      " ln -s /nopt/nrel/apps/cuda/11.2/targets/x86_64-linux/lib/libcusolver.so libcusolver.so.10\r\n",
      "fi\r\n",
      "\r\n",
      "ml cuda/11.2   cudnn/8.1.1/cuda-11.2   gcc/8.4.0\r\n",
      "\r\n",
      "pip --no-cache-dir install tensorflow==2.4.0\r\n",
      "pip --no-cache-dir install tensorflow-gpu==2.4.0\r\n",
      "pip --no-cache-dir install horovod[tensorflow]==0.21.3\r\n",
      "\r\n",
      "export CFLAGS=-L/nopt/nrel/apps/cuda/11.2/targets/x86_64-linux/lib\r\n",
      "\r\n",
      "export LDFLAGS=\"-L/nopt/nrel/apps/cuda/11.2/targets/x86_64-linux/lib -L/nopt/nrel/apps/cuda/11.2/compat\"\r\n",
      "\r\n",
      "# These paths are most likely overkill but they work\r\n",
      "export LIBRARY_PATH=/nopt/nrel/apps/cuda/11.2/targets/x86_64-linux/lib:/nopt/nrel/apps/base/2020-05-12/spack/opt/spack/linux-centos7-x86_64/gcc-4.8.5/gcc-6.5.0-aov4u2ocxtqf4bwif4hc7sga4cvccpxm/lib64:/nopt/nrel/apps/base/2020-05-12/spack/opt/spack/linux-centos\r\n",
      "\r\n",
      "export LD_LIBRARY_PATH=/nopt/nrel/apps/cuda/11.2/targets/x86_64-linux/lib:/nopt/nrel/apps/base/2020-05-12/spack/opt/spack/linux-centos7-x86_64/gcc-4.8.5/gcc-6.5.0-aov4u2ocxtqf4bwif4hc7sga4cvccpxm/lib64:/nopt/nrel/apps/base/2020-05-12/spack/opt/spack/linux-centos7-x86_64/gcc-4.8.5/gcc-6.5.0-aov4u2ocxtqf4bwif4hc7sga4cvccpxm/lib:/nopt/nrel/apps/cudnn/8.1.1-cuda-11.2/lib64:/nopt/nrel/apps/cuda/11.2/lib64:/nopt/mpi/mpt-2.23/lib:/nopt/slurm/current/lib::\r\n",
      "\r\n",
      "\r\n",
      "pip --no-cache-dir install cupy\r\n",
      "\r\n",
      "\r\n",
      "#add Tim's thread mapping module\r\n",
      "wget  https://raw.githubusercontent.com/NREL/HPC/master/slurm/source/setup.py\r\n",
      "wget  https://raw.githubusercontent.com/NREL/HPC/master/slurm/source/spam.c\r\n",
      "python3 setup.py install\r\n",
      "\r\n"
     ]
    }
   ],
   "source": [
    "cat makeit"
   ]
  },
  {
   "cell_type": "markdown",
   "id": "9ebcd617",
   "metadata": {},
   "source": [
    "### start the notebook"
   ]
  },
  {
   "cell_type": "code",
   "execution_count": 24,
   "id": "685e8b3a",
   "metadata": {},
   "outputs": [
    {
     "name": "stdout",
     "output_type": "stream",
     "text": [
      "#!/bin/bash\r\n",
      "#SBATCH --job-name=\"jupyter\"\r\n",
      "#SBATCH --nodes=1\r\n",
      "#SBATCH --account=hpcapps\r\n",
      "#SBATCH --time=01:00:00\r\n",
      "#SBATCH --gpus-per-node=2 \r\n",
      "#SBATCH --partition=debug\r\n",
      "\r\n",
      "\r\n",
      "export BASEDIR=/projects/hpcapps/tkaiser\r\n",
      "export MYVERSION=may12\r\n",
      "\r\n",
      "module load conda\r\n",
      "module load mpt\r\n",
      "module load cuda/11.2   cudnn/8.1.1/cuda-11.2   gcc/8.4.0\r\n",
      "\r\n",
      "### Don't do conda init\r\n",
      "### Just do source activate\r\n",
      "source activate \r\n",
      "source activate $BASEDIR/$MYVERSION\r\n",
      "\r\n",
      "\r\n",
      "#export LD_LIBRARY_PATH=/nopt/nrel/apps/cuda/11.2/targets/x86_64-linux/lib:/nopt/nrel/apps/base/2020-05-12/spack/opt/spack/linux-centos7-x86_64/gcc-4.8.5/gcc-6.5.0-aov4u2ocxtqf4bwif4hc7sga4cvccpxm/lib64:/nopt/nrel/apps/base/2020-05-12/spack/opt/spack/linux-centos7-x86_64/gcc-4.8.5/gcc-6.5.0-aov4u2ocxtqf4bwif4hc7sga4cvccpxm/lib:/nopt/nrel/apps/cudnn/8.1.1-cuda-11.2/lib64:/nopt/nrel/apps/cuda/11.2/lib64:/nopt/mpi/mpt-2.23/lib:/home/tkaiser2/libs/zlib-1.2.11/lib:/home/tkaiser2/libs/bzip2-1.0.8/lib:/home/tkaiser2/bin/jdk-13.0.1/lib:/nopt/slurm/current/lib::\r\n",
      "\r\n",
      "export LD_LIBRARY_PATH=/nopt/nrel/apps/cuda/11.2/targets/x86_64-linux/lib:/nopt/nrel/apps/base/2020-05-12/spack/opt/spack/linux-centos7-x86_64/gcc-4.8.5/gcc-6.5.0-aov4u2ocxtqf4bwif4hc7sga4cvccpxm/lib64:/nopt/nrel/apps/base/2020-05-12/spack/opt/spack/linux-centos7-x86_64/gcc-4.8.5/gcc-6.5.0-aov4u2ocxtqf4bwif4hc7sga4cvccpxm/lib:/nopt/nrel/apps/cudnn/8.1.1-cuda-11.2/lib64:/nopt/nrel/apps/cuda/11.2/lib64:/nopt/mpi/mpt-2.23/lib:/nopt/slurm/current/lib::\r\n",
      "\r\n",
      "\r\n",
      "\r\n",
      "date      > ~/jupyter.log\r\n",
      "hostname >> ~/jupyter.log\r\n",
      "jupyter notebook --NotebookApp.password='' --no-browser  >> ~/jupyter.log 2>&1\r\n"
     ]
    }
   ],
   "source": [
    "cat launch_gpu"
   ]
  },
  {
   "cell_type": "code",
   "execution_count": null,
   "id": "3ca87a84",
   "metadata": {},
   "outputs": [],
   "source": []
  },
  {
   "cell_type": "markdown",
   "id": "fb1caf95",
   "metadata": {},
   "source": [
    "### Another way to start a notebook\n",
    "- we run salloc to get a node\n",
    "- ssh to our node\n",
    "- run a script to set up our environment and start jupyter \n",
    "\n",
    "```\n",
    "\n",
    "(/home/tkaiser2/.conda-envs/apr22) el3:newdriver> salloc  --x11 --account=hpcapps --time=1:00:00 --ntasks=8 --cpus-per-task=4 --nodes=1 --gres=gpu:2  bash\n",
    "salloc: Pending job allocation 6706234\n",
    "salloc: job 6706234 queued and waiting for resources\n",
    "salloc: job 6706234 has been allocated resources\n",
    "salloc: Granted job allocation 6706234\n",
    "el3:newdriver> sq\n",
    "JOBID             TIME_LIMIT     TIME_LEFT      NODES START_TIME          PARTITION      REASON         SUBMIT_TIME         NODELIST\n",
    "6706234           1:00:00        59:47          1     2021-04-22T11:55:02 gpu            None           2021-04-22T11:54:56 r103u15\n",
    "el3:newdriver> ssh r103u15\n",
    "Last login: Thu Apr 22 10:44:28 2021 from el2.ib0.cm.hpc.nrel.gov\n",
    "r103u15:~> cd newdriver/\n",
    "r103u15:newdriver> . dojup2x\n",
    "\n",
    "```"
   ]
  },
  {
   "cell_type": "code",
   "execution_count": 25,
   "id": "e32a8491",
   "metadata": {},
   "outputs": [
    {
     "name": "stdout",
     "output_type": "stream",
     "text": [
      "1620849067.794134 Wed May 12 13:51:07 2021    145.651    145.651 done\n"
     ]
    }
   ],
   "source": [
    "tymer([\"-i\",\"done\"])"
   ]
  },
  {
   "cell_type": "code",
   "execution_count": null,
   "id": "111975f9",
   "metadata": {},
   "outputs": [],
   "source": []
  }
 ],
 "metadata": {
  "kernelspec": {
   "display_name": "Python 3",
   "language": "python",
   "name": "python3"
  },
  "language_info": {
   "codemirror_mode": {
    "name": "ipython",
    "version": 3
   },
   "file_extension": ".py",
   "mimetype": "text/x-python",
   "name": "python",
   "nbconvert_exporter": "python",
   "pygments_lexer": "ipython3",
   "version": "3.8.8"
  }
 },
 "nbformat": 4,
 "nbformat_minor": 5
}
