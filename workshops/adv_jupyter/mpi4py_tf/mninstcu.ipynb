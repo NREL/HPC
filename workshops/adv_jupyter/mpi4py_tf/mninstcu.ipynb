{
 "cells": [
  {
   "cell_type": "markdown",
   "id": "55d02549",
   "metadata": {},
   "source": [
    "# slurm magics, Mnist using Tensorflow,horovod,mpi4py and cupy\n",
    "\n",
    "```\n",
    "We run the \"mnist\" example using a single and multiple GPUs.  Multigpu \n",
    "support is enabled by using Horovod and Mpi4py.\n",
    "\n",
    "Finally we take an image and blur it using the GPU running Fourier \n",
    "transforms from the cupy package.  We progressively increase the blurring.\n",
    "As the the bluring gets more intense we use the trained network to \n",
    "check if we still recognize the image.\n",
    "```\n",
    "\n",
    "## Load slurm commands\n"
   ]
  },
  {
   "cell_type": "code",
   "execution_count": 1,
   "id": "d3c7f7d9",
   "metadata": {},
   "outputs": [],
   "source": [
    "%load_ext slurm_magic"
   ]
  },
  {
   "cell_type": "markdown",
   "id": "91496bbf",
   "metadata": {},
   "source": [
    "## Run a parallel version of mnist\n",
    "```\n",
    "This will use both GPUs with each GPU getting two tasks.\n",
    "\n",
    "We send output to mnist.err and minst.out.  You can let\n",
    "the output come back \"here\" but it is a bit messy.\n",
    "\n",
    "Note we are running \"srun\" directly because it is a command\n",
    "enabled by loading slurm_magic.\n",
    "\n",
    "We can run this multiple times.  However, if we try to run\n",
    "it after running the inline example below it will hang because\n",
    "the inline run ties up the GPUs\n",
    "\n",
    "```\n",
    "\n",
    "#### Here is the output from nvidia-smi while this is running:\n",
    "```\n",
    "\n",
    "Thu Apr 22 09:57:00 2021       \n",
    "+-----------------------------------------------------------------------------+\n",
    "| NVIDIA-SMI 460.32.03    Driver Version: 460.32.03    CUDA Version: 11.2     |\n",
    "|-------------------------------+----------------------+----------------------+\n",
    "| GPU  Name        Persistence-M| Bus-Id        Disp.A | Volatile Uncorr. ECC |\n",
    "| Fan  Temp  Perf  Pwr:Usage/Cap|         Memory-Usage | GPU-Util  Compute M. |\n",
    "|                               |                      |               MIG M. |\n",
    "|===============================+======================+======================|\n",
    "|   0  Tesla V100-PCIE...  Off  | 00000000:37:00.0 Off |                    0 |\n",
    "| N/A   47C    P0    63W / 250W |   3754MiB / 16160MiB |     36%      Default |\n",
    "|                               |                      |                  N/A |\n",
    "+-------------------------------+----------------------+----------------------+\n",
    "|   1  Tesla V100-PCIE...  Off  | 00000000:86:00.0 Off |                    0 |\n",
    "| N/A   45C    P0    83W / 250W |   3754MiB / 16160MiB |     38%      Default |\n",
    "|                               |                      |                  N/A |\n",
    "+-------------------------------+----------------------+----------------------+\n",
    "                                                                               \n",
    "+-----------------------------------------------------------------------------+\n",
    "| Processes:                                                                  |\n",
    "|  GPU   GI   CI        PID   Type   Process name                  GPU Memory |\n",
    "|        ID   ID                                                   Usage      |\n",
    "|=============================================================================|\n",
    "|    0   N/A  N/A       997      C   python                           1875MiB |\n",
    "|    0   N/A  N/A       999      C   python                           1875MiB |\n",
    "|    1   N/A  N/A       998      C   python                           1875MiB |\n",
    "|    1   N/A  N/A      1000      C   python                           1875MiB |\n",
    "+-----------------------------------------------------------------------------+\n",
    "```\n"
   ]
  },
  {
   "cell_type": "code",
   "execution_count": 2,
   "id": "faf9f6c8",
   "metadata": {},
   "outputs": [
    {
     "name": "stdout",
     "output_type": "stream",
     "text": [
      "c_ex02.c                           \u001b[0m\u001b[38;5;51mlibcusolver.so.10\u001b[0m@  slurm-6805391.out\r\n",
      "checkpoint                         links               slurm-6810337.out\r\n",
      "checkpoints-1.data-00000-of-00001  makeit              slurm-6810390.out\r\n",
      "checkpoints-1.index                minst.out           slurm-6810500.out\r\n",
      "dompi.ipynb                        mninstcu.ipynb      slurm-6810771.out\r\n",
      "dpcu.ipynb                         \u001b[38;5;34mmnist1.py\u001b[0m*          slurm-6812186.out\r\n",
      "launch11                           mnist.err           slurm-6812236.out\r\n",
      "launch11s                          \u001b[38;5;27m__pycache__\u001b[0m/        slurm-6812295.out\r\n",
      "launch12                           \u001b[38;5;34mreport.py\u001b[0m*          \u001b[38;5;34mtensorflow2_mnist.py\u001b[0m*\r\n",
      "launch12_2                         rest                \u001b[38;5;34mtymer.py\u001b[0m*\r\n",
      "launchit                           slurm-6805354.out   worked\r\n"
     ]
    }
   ],
   "source": [
    "ls"
   ]
  },
  {
   "cell_type": "code",
   "execution_count": 3,
   "id": "53d97d61",
   "metadata": {},
   "outputs": [
    {
     "data": {
      "text/plain": [
       "''"
      ]
     },
     "execution_count": 3,
     "metadata": {},
     "output_type": "execute_result"
    }
   ],
   "source": [
    "srun -n 4 -e mnist.err -o minst.out ./tensorflow2_mnist.py"
   ]
  },
  {
   "cell_type": "code",
   "execution_count": 4,
   "id": "8766c685",
   "metadata": {},
   "outputs": [
    {
     "name": "stdout",
     "output_type": "stream",
     "text": [
      "2021-05-12 08:40:30.740940: I tensorflow/stream_executor/platform/default/dso_loader.cc:49] Successfully opened dynamic library libcudart.so.11.0\r\n",
      "2021-05-12 08:40:30.740941: I tensorflow/stream_executor/platform/default/dso_loader.cc:49] Successfully opened dynamic library libcudart.so.11.0\r\n",
      "2021-05-12 08:40:30.740941: I tensorflow/stream_executor/platform/default/dso_loader.cc:49] Successfully opened dynamic library libcudart.so.11.0\r\n",
      "2021-05-12 08:40:30.740938: I tensorflow/stream_executor/platform/default/dso_loader.cc:49] Successfully opened dynamic library libcudart.so.11.0\r\n",
      "2021-05-12 08:41:25.126476: I tensorflow/compiler/jit/xla_cpu_device.cc:41] Not creating XLA devices, tf_xla_enable_xla_devices not set\r\n",
      "2021-05-12 08:41:25.126477: I tensorflow/compiler/jit/xla_cpu_device.cc:41] Not creating XLA devices, tf_xla_enable_xla_devices not set\r\n",
      "2021-05-12 08:41:25.126487: I tensorflow/compiler/jit/xla_cpu_device.cc:41] Not creating XLA devices, tf_xla_enable_xla_devices not set\r\n",
      "2021-05-12 08:41:25.126480: I tensorflow/compiler/jit/xla_cpu_device.cc:41] Not creating XLA devices, tf_xla_enable_xla_devices not set\r\n",
      "2021-05-12 08:41:25.129344: I tensorflow/stream_executor/platform/default/dso_loader.cc:49] Successfully opened dynamic library libcuda.so.1\r\n",
      "2021-05-12 08:41:25.129338: I tensorflow/stream_executor/platform/default/dso_loader.cc:49] Successfully opened dynamic library libcuda.so.1\r\n",
      "2021-05-12 08:41:25.129368: I tensorflow/stream_executor/platform/default/dso_loader.cc:49] Successfully opened dynamic library libcuda.so.1\r\n",
      "2021-05-12 08:41:25.129372: I tensorflow/stream_executor/platform/default/dso_loader.cc:49] Successfully opened dynamic library libcuda.so.1\r\n",
      "2021-05-12 08:41:26.880537: I tensorflow/core/common_runtime/gpu/gpu_device.cc:1720] Found device 0 with properties: \r\n",
      "pciBusID: 0000:37:00.0 name: Tesla V100-PCIE-16GB computeCapability: 7.0\r\n",
      "coreClock: 1.38GHz coreCount: 80 deviceMemorySize: 15.78GiB deviceMemoryBandwidth: 836.37GiB/s\r\n",
      "2021-05-12 08:41:26.880536: I tensorflow/core/common_runtime/gpu/gpu_device.cc:1720] Found device 0 with properties: \r\n",
      "pciBusID: 0000:37:00.0 name: Tesla V100-PCIE-16GB computeCapability: 7.0\r\n",
      "coreClock: 1.38GHz coreCount: 80 deviceMemorySize: 15.78GiB deviceMemoryBandwidth: 836.37GiB/s\r\n",
      "2021-05-12 08:41:26.880545: I tensorflow/core/common_runtime/gpu/gpu_device.cc:1720] Found device 0 with properties: \r\n",
      "pciBusID: 0000:37:00.0 name: Tesla V100-PCIE-16GB computeCapability: 7.0\r\n",
      "coreClock: 1.38GHz coreCount: 80 deviceMemorySize: 15.78GiB deviceMemoryBandwidth: 836.37GiB/s\r\n",
      "2021-05-12 08:41:26.880545: I tensorflow/core/common_runtime/gpu/gpu_device.cc:1720] Found device 0 with properties: \r\n",
      "pciBusID: 0000:37:00.0 name: Tesla V100-PCIE-16GB computeCapability: 7.0\r\n",
      "coreClock: 1.38GHz coreCount: 80 deviceMemorySize: 15.78GiB deviceMemoryBandwidth: 836.37GiB/s\r\n",
      "2021-05-12 08:41:26.882926: I tensorflow/core/common_runtime/gpu/gpu_device.cc:1720] Found device 1 with properties: \r\n",
      "pciBusID: 0000:86:00.0 name: Tesla V100-PCIE-16GB computeCapability: 7.0\r\n",
      "coreClock: 1.38GHz coreCount: 80 deviceMemorySize: 15.78GiB deviceMemoryBandwidth: 836.37GiB/s\r\n",
      "2021-05-12 08:41:26.882951: I tensorflow/stream_executor/platform/default/dso_loader.cc:49] Successfully opened dynamic library libcudart.so.11.0\r\n",
      "2021-05-12 08:41:26.882975: I tensorflow/core/common_runtime/gpu/gpu_device.cc:1720] Found device 1 with properties: \r\n",
      "pciBusID: 0000:86:00.0 name: Tesla V100-PCIE-16GB computeCapability: 7.0\r\n",
      "coreClock: 1.38GHz coreCount: 80 deviceMemorySize: 15.78GiB deviceMemoryBandwidth: 836.37GiB/s\r\n",
      "2021-05-12 08:41:26.882995: I tensorflow/stream_executor/platform/default/dso_loader.cc:49] Successfully opened dynamic library libcudart.so.11.0\r\n",
      "2021-05-12 08:41:26.883020: I tensorflow/core/common_runtime/gpu/gpu_device.cc:1720] Found device 1 with properties: \r\n",
      "pciBusID: 0000:86:00.0 name: Tesla V100-PCIE-16GB computeCapability: 7.0\r\n",
      "coreClock: 1.38GHz coreCount: 80 deviceMemorySize: 15.78GiB deviceMemoryBandwidth: 836.37GiB/s\r\n",
      "2021-05-12 08:41:26.883037: I tensorflow/core/common_runtime/gpu/gpu_device.cc:1720] Found device 1 with properties: \r\n",
      "pciBusID: 0000:86:00.0 name: Tesla V100-PCIE-16GB computeCapability: 7.0\r\n",
      "coreClock: 1.38GHz coreCount: 80 deviceMemorySize: 15.78GiB deviceMemoryBandwidth: 836.37GiB/s\r\n",
      "2021-05-12 08:41:26.883047: I tensorflow/stream_executor/platform/default/dso_loader.cc:49] Successfully opened dynamic library libcudart.so.11.0\r\n",
      "2021-05-12 08:41:26.883060: I tensorflow/stream_executor/platform/default/dso_loader.cc:49] Successfully opened dynamic library libcudart.so.11.0\r\n",
      "2021-05-12 08:41:27.307657: I tensorflow/stream_executor/platform/default/dso_loader.cc:49] Successfully opened dynamic library libcublas.so.11\r\n",
      "2021-05-12 08:41:27.307705: I tensorflow/stream_executor/platform/default/dso_loader.cc:49] Successfully opened dynamic library libcublasLt.so.11\r\n",
      "2021-05-12 08:41:27.307807: I tensorflow/stream_executor/platform/default/dso_loader.cc:49] Successfully opened dynamic library libcublas.so.11\r\n",
      "2021-05-12 08:41:27.307866: I tensorflow/stream_executor/platform/default/dso_loader.cc:49] Successfully opened dynamic library libcublasLt.so.11\r\n",
      "2021-05-12 08:41:27.308151: I tensorflow/stream_executor/platform/default/dso_loader.cc:49] Successfully opened dynamic library libcublas.so.11\r\n",
      "2021-05-12 08:41:27.308171: I tensorflow/stream_executor/platform/default/dso_loader.cc:49] Successfully opened dynamic library libcublas.so.11\r\n",
      "2021-05-12 08:41:27.308215: I tensorflow/stream_executor/platform/default/dso_loader.cc:49] Successfully opened dynamic library libcublasLt.so.11\r\n",
      "2021-05-12 08:41:27.308232: I tensorflow/stream_executor/platform/default/dso_loader.cc:49] Successfully opened dynamic library libcublasLt.so.11\r\n",
      "2021-05-12 08:41:27.454602: I tensorflow/stream_executor/platform/default/dso_loader.cc:49] Successfully opened dynamic library libcufft.so.10\r\n",
      "2021-05-12 08:41:27.454607: I tensorflow/stream_executor/platform/default/dso_loader.cc:49] Successfully opened dynamic library libcufft.so.10\r\n",
      "2021-05-12 08:41:27.454621: I tensorflow/stream_executor/platform/default/dso_loader.cc:49] Successfully opened dynamic library libcufft.so.10\r\n",
      "2021-05-12 08:41:27.455037: I tensorflow/stream_executor/platform/default/dso_loader.cc:49] Successfully opened dynamic library libcufft.so.10\r\n",
      "2021-05-12 08:41:27.713676: I tensorflow/stream_executor/platform/default/dso_loader.cc:49] Successfully opened dynamic library libcurand.so.10\r\n",
      "2021-05-12 08:41:27.713681: I tensorflow/stream_executor/platform/default/dso_loader.cc:49] Successfully opened dynamic library libcurand.so.10\r\n",
      "2021-05-12 08:41:27.714081: I tensorflow/stream_executor/platform/default/dso_loader.cc:49] Successfully opened dynamic library libcurand.so.10\r\n",
      "2021-05-12 08:41:27.714078: I tensorflow/stream_executor/platform/default/dso_loader.cc:49] Successfully opened dynamic library libcurand.so.10\r\n",
      "2021-05-12 08:41:28.012494: I tensorflow/stream_executor/platform/default/dso_loader.cc:49] Successfully opened dynamic library libcusolver.so.10\r\n",
      "2021-05-12 08:41:28.012525: I tensorflow/stream_executor/platform/default/dso_loader.cc:49] Successfully opened dynamic library libcusolver.so.10\r\n",
      "2021-05-12 08:41:28.012953: I tensorflow/stream_executor/platform/default/dso_loader.cc:49] Successfully opened dynamic library libcusolver.so.10\r\n",
      "2021-05-12 08:41:28.012960: I tensorflow/stream_executor/platform/default/dso_loader.cc:49] Successfully opened dynamic library libcusolver.so.10\r\n",
      "2021-05-12 08:41:28.184750: I tensorflow/stream_executor/platform/default/dso_loader.cc:49] Successfully opened dynamic library libcusparse.so.11\r\n",
      "2021-05-12 08:41:28.184752: I tensorflow/stream_executor/platform/default/dso_loader.cc:49] Successfully opened dynamic library libcusparse.so.11\r\n",
      "2021-05-12 08:41:28.184838: I tensorflow/stream_executor/platform/default/dso_loader.cc:49] Successfully opened dynamic library libcusparse.so.11\r\n",
      "2021-05-12 08:41:28.187094: I tensorflow/stream_executor/platform/default/dso_loader.cc:49] Successfully opened dynamic library libcusparse.so.11\r\n",
      "2021-05-12 08:41:28.314767: I tensorflow/stream_executor/platform/default/dso_loader.cc:49] Successfully opened dynamic library libcudnn.so.8\r\n",
      "2021-05-12 08:41:28.314767: I tensorflow/stream_executor/platform/default/dso_loader.cc:49] Successfully opened dynamic library libcudnn.so.8\r\n",
      "2021-05-12 08:41:28.314772: I tensorflow/stream_executor/platform/default/dso_loader.cc:49] Successfully opened dynamic library libcudnn.so.8\r\n",
      "2021-05-12 08:41:28.314787: I tensorflow/stream_executor/platform/default/dso_loader.cc:49] Successfully opened dynamic library libcudnn.so.8\r\n",
      "2021-05-12 08:41:28.323775: I tensorflow/core/common_runtime/gpu/gpu_device.cc:1862] Adding visible gpu devices: 0, 1\r\n",
      "2021-05-12 08:41:28.323904: I tensorflow/core/common_runtime/gpu/gpu_device.cc:1862] Adding visible gpu devices: 0, 1\r\n",
      "2021-05-12 08:41:28.323948: I tensorflow/core/common_runtime/gpu/gpu_device.cc:1862] Adding visible gpu devices: 0, 1\r\n",
      "2021-05-12 08:41:28.323971: I tensorflow/core/common_runtime/gpu/gpu_device.cc:1862] Adding visible gpu devices: 0, 1\r\n",
      "2021-05-12 08:41:28.926139: I tensorflow/core/platform/cpu_feature_guard.cc:142] This TensorFlow binary is optimized with oneAPI Deep Neural Network Library (oneDNN) to use the following CPU instructions in performance-critical operations:  AVX512F\r\n",
      "To enable them in other operations, rebuild TensorFlow with the appropriate compiler flags.\r\n",
      "2021-05-12 08:41:28.927283: I tensorflow/core/platform/cpu_feature_guard.cc:142] This TensorFlow binary is optimized with oneAPI Deep Neural Network Library (oneDNN) to use the following CPU instructions in performance-critical operations:  AVX512F\r\n",
      "To enable them in other operations, rebuild TensorFlow with the appropriate compiler flags.\r\n",
      "2021-05-12 08:41:28.927904: I tensorflow/compiler/jit/xla_gpu_device.cc:99] Not creating XLA devices, tf_xla_enable_xla_devices not set\r\n",
      "2021-05-12 08:41:28.928530: I tensorflow/core/platform/cpu_feature_guard.cc:142] This TensorFlow binary is optimized with oneAPI Deep Neural Network Library (oneDNN) to use the following CPU instructions in performance-critical operations:  AVX512F\r\n",
      "To enable them in other operations, rebuild TensorFlow with the appropriate compiler flags.\r\n",
      "2021-05-12 08:41:28.928766: I tensorflow/core/common_runtime/gpu/gpu_device.cc:1720] Found device 0 with properties: \r\n",
      "pciBusID: 0000:37:00.0 name: Tesla V100-PCIE-16GB computeCapability: 7.0\r\n",
      "coreClock: 1.38GHz coreCount: 80 deviceMemorySize: 15.78GiB deviceMemoryBandwidth: 836.37GiB/s\r\n",
      "2021-05-12 08:41:28.928794: I tensorflow/stream_executor/platform/default/dso_loader.cc:49] Successfully opened dynamic library libcudart.so.11.0\r\n",
      "2021-05-12 08:41:28.928828: I tensorflow/stream_executor/platform/default/dso_loader.cc:49] Successfully opened dynamic library libcublas.so.11\r\n",
      "2021-05-12 08:41:28.928840: I tensorflow/stream_executor/platform/default/dso_loader.cc:49] Successfully opened dynamic library libcublasLt.so.11\r\n",
      "2021-05-12 08:41:28.928850: I tensorflow/stream_executor/platform/default/dso_loader.cc:49] Successfully opened dynamic library libcufft.so.10\r\n",
      "2021-05-12 08:41:28.928860: I tensorflow/stream_executor/platform/default/dso_loader.cc:49] Successfully opened dynamic library libcurand.so.10\r\n",
      "2021-05-12 08:41:28.928869: I tensorflow/stream_executor/platform/default/dso_loader.cc:49] Successfully opened dynamic library libcusolver.so.10\r\n",
      "2021-05-12 08:41:28.928878: I tensorflow/stream_executor/platform/default/dso_loader.cc:49] Successfully opened dynamic library libcusparse.so.11\r\n",
      "2021-05-12 08:41:28.928888: I tensorflow/stream_executor/platform/default/dso_loader.cc:49] Successfully opened dynamic library libcudnn.so.8\r\n",
      "2021-05-12 08:41:28.929067: I tensorflow/compiler/jit/xla_gpu_device.cc:99] Not creating XLA devices, tf_xla_enable_xla_devices not set\r\n",
      "2021-05-12 08:41:28.930195: I tensorflow/compiler/jit/xla_gpu_device.cc:99] Not creating XLA devices, tf_xla_enable_xla_devices not set\r\n",
      "2021-05-12 08:41:28.930309: I tensorflow/core/common_runtime/gpu/gpu_device.cc:1720] Found device 0 with properties: \r\n",
      "pciBusID: 0000:86:00.0 name: Tesla V100-PCIE-16GB computeCapability: 7.0\r\n",
      "coreClock: 1.38GHz coreCount: 80 deviceMemorySize: 15.78GiB deviceMemoryBandwidth: 836.37GiB/s\r\n",
      "2021-05-12 08:41:28.930337: I tensorflow/stream_executor/platform/default/dso_loader.cc:49] Successfully opened dynamic library libcudart.so.11.0\r\n",
      "2021-05-12 08:41:28.930369: I tensorflow/stream_executor/platform/default/dso_loader.cc:49] Successfully opened dynamic library libcublas.so.11\r\n",
      "2021-05-12 08:41:28.930380: I tensorflow/stream_executor/platform/default/dso_loader.cc:49] Successfully opened dynamic library libcublasLt.so.11\r\n",
      "2021-05-12 08:41:28.930390: I tensorflow/stream_executor/platform/default/dso_loader.cc:49] Successfully opened dynamic library libcufft.so.10\r\n",
      "2021-05-12 08:41:28.930400: I tensorflow/stream_executor/platform/default/dso_loader.cc:49] Successfully opened dynamic library libcurand.so.10\r\n",
      "2021-05-12 08:41:28.930409: I tensorflow/stream_executor/platform/default/dso_loader.cc:49] Successfully opened dynamic library libcusolver.so.10\r\n",
      "2021-05-12 08:41:28.930418: I tensorflow/stream_executor/platform/default/dso_loader.cc:49] Successfully opened dynamic library libcusparse.so.11\r\n",
      "2021-05-12 08:41:28.930428: I tensorflow/stream_executor/platform/default/dso_loader.cc:49] Successfully opened dynamic library libcudnn.so.8\r\n",
      "2021-05-12 08:41:28.930986: I tensorflow/core/common_runtime/gpu/gpu_device.cc:1862] Adding visible gpu devices: 0\r\n",
      "2021-05-12 08:41:28.931032: I tensorflow/stream_executor/platform/default/dso_loader.cc:49] Successfully opened dynamic library libcudart.so.11.0\r\n",
      "2021-05-12 08:41:28.932271: I tensorflow/core/common_runtime/gpu/gpu_device.cc:1720] Found device 0 with properties: \r\n",
      "pciBusID: 0000:37:00.0 name: Tesla V100-PCIE-16GB computeCapability: 7.0\r\n",
      "coreClock: 1.38GHz coreCount: 80 deviceMemorySize: 15.78GiB deviceMemoryBandwidth: 836.37GiB/s\r\n",
      "2021-05-12 08:41:28.932294: I tensorflow/stream_executor/platform/default/dso_loader.cc:49] Successfully opened dynamic library libcudart.so.11.0\r\n",
      "2021-05-12 08:41:28.932321: I tensorflow/stream_executor/platform/default/dso_loader.cc:49] Successfully opened dynamic library libcublas.so.11\r\n",
      "2021-05-12 08:41:28.932332: I tensorflow/stream_executor/platform/default/dso_loader.cc:49] Successfully opened dynamic library libcublasLt.so.11\r\n",
      "2021-05-12 08:41:28.932341: I tensorflow/stream_executor/platform/default/dso_loader.cc:49] Successfully opened dynamic library libcufft.so.10\r\n",
      "2021-05-12 08:41:28.932349: I tensorflow/stream_executor/platform/default/dso_loader.cc:49] Successfully opened dynamic library libcurand.so.10\r\n",
      "2021-05-12 08:41:28.932358: I tensorflow/stream_executor/platform/default/dso_loader.cc:49] Successfully opened dynamic library libcusolver.so.10\r\n",
      "2021-05-12 08:41:28.932367: I tensorflow/stream_executor/platform/default/dso_loader.cc:49] Successfully opened dynamic library libcusparse.so.11\r\n",
      "2021-05-12 08:41:28.932376: I tensorflow/stream_executor/platform/default/dso_loader.cc:49] Successfully opened dynamic library libcudnn.so.8\r\n",
      "2021-05-12 08:41:28.932747: I tensorflow/core/platform/cpu_feature_guard.cc:142] This TensorFlow binary is optimized with oneAPI Deep Neural Network Library (oneDNN) to use the following CPU instructions in performance-critical operations:  AVX512F\r\n",
      "To enable them in other operations, rebuild TensorFlow with the appropriate compiler flags.\r\n",
      "2021-05-12 08:41:28.933997: I tensorflow/core/common_runtime/gpu/gpu_device.cc:1862] Adding visible gpu devices: 1\r\n",
      "2021-05-12 08:41:28.934050: I tensorflow/stream_executor/platform/default/dso_loader.cc:49] Successfully opened dynamic library libcudart.so.11.0\r\n",
      "2021-05-12 08:41:28.934557: I tensorflow/compiler/jit/xla_gpu_device.cc:99] Not creating XLA devices, tf_xla_enable_xla_devices not set\r\n",
      "2021-05-12 08:41:28.935753: I tensorflow/core/common_runtime/gpu/gpu_device.cc:1862] Adding visible gpu devices: 0\r\n",
      "2021-05-12 08:41:28.935790: I tensorflow/stream_executor/platform/default/dso_loader.cc:49] Successfully opened dynamic library libcudart.so.11.0\r\n",
      "2021-05-12 08:41:28.937852: I tensorflow/core/common_runtime/gpu/gpu_device.cc:1720] Found device 0 with properties: \r\n",
      "pciBusID: 0000:86:00.0 name: Tesla V100-PCIE-16GB computeCapability: 7.0\r\n",
      "coreClock: 1.38GHz coreCount: 80 deviceMemorySize: 15.78GiB deviceMemoryBandwidth: 836.37GiB/s\r\n",
      "2021-05-12 08:41:28.937881: I tensorflow/stream_executor/platform/default/dso_loader.cc:49] Successfully opened dynamic library libcudart.so.11.0\r\n",
      "2021-05-12 08:41:28.937912: I tensorflow/stream_executor/platform/default/dso_loader.cc:49] Successfully opened dynamic library libcublas.so.11\r\n",
      "2021-05-12 08:41:28.937925: I tensorflow/stream_executor/platform/default/dso_loader.cc:49] Successfully opened dynamic library libcublasLt.so.11\r\n",
      "2021-05-12 08:41:28.937935: I tensorflow/stream_executor/platform/default/dso_loader.cc:49] Successfully opened dynamic library libcufft.so.10\r\n",
      "2021-05-12 08:41:28.937945: I tensorflow/stream_executor/platform/default/dso_loader.cc:49] Successfully opened dynamic library libcurand.so.10\r\n",
      "2021-05-12 08:41:28.937955: I tensorflow/stream_executor/platform/default/dso_loader.cc:49] Successfully opened dynamic library libcusolver.so.10\r\n",
      "2021-05-12 08:41:28.937965: I tensorflow/stream_executor/platform/default/dso_loader.cc:49] Successfully opened dynamic library libcusparse.so.11\r\n",
      "2021-05-12 08:41:28.937977: I tensorflow/stream_executor/platform/default/dso_loader.cc:49] Successfully opened dynamic library libcudnn.so.8\r\n",
      "2021-05-12 08:41:28.975509: I tensorflow/core/common_runtime/gpu/gpu_device.cc:1862] Adding visible gpu devices: 1\r\n",
      "2021-05-12 08:41:28.975609: I tensorflow/stream_executor/platform/default/dso_loader.cc:49] Successfully opened dynamic library libcudart.so.11.0\r\n",
      "2021-05-12 08:41:30.107155: I tensorflow/core/common_runtime/gpu/gpu_device.cc:1261] Device interconnect StreamExecutor with strength 1 edge matrix:\r\n",
      "2021-05-12 08:41:30.107190: I tensorflow/core/common_runtime/gpu/gpu_device.cc:1267]      1 \r\n",
      "2021-05-12 08:41:30.107199: I tensorflow/core/common_runtime/gpu/gpu_device.cc:1280] 1:   N \r\n",
      "2021-05-12 08:41:30.109103: I tensorflow/core/common_runtime/gpu/gpu_device.cc:1406] Created TensorFlow device (/job:localhost/replica:0/task:0/device:GPU:0 with 14339 MB memory) -> physical GPU (device: 1, name: Tesla V100-PCIE-16GB, pci bus id: 0000:86:00.0, compute capability: 7.0)\r\n",
      "2021-05-12 08:41:30.129207: I tensorflow/core/common_runtime/gpu/gpu_device.cc:1261] Device interconnect StreamExecutor with strength 1 edge matrix:\r\n",
      "2021-05-12 08:41:30.129245: I tensorflow/core/common_runtime/gpu/gpu_device.cc:1267]      0 \r\n",
      "2021-05-12 08:41:30.129253: I tensorflow/core/common_runtime/gpu/gpu_device.cc:1280] 0:   N \r\n",
      "2021-05-12 08:41:30.131129: I tensorflow/core/common_runtime/gpu/gpu_device.cc:1406] Created TensorFlow device (/job:localhost/replica:0/task:0/device:GPU:0 with 14344 MB memory) -> physical GPU (device: 0, name: Tesla V100-PCIE-16GB, pci bus id: 0000:37:00.0, compute capability: 7.0)\r\n",
      "2021-05-12 08:41:30.140444: I tensorflow/core/common_runtime/gpu/gpu_device.cc:1261] Device interconnect StreamExecutor with strength 1 edge matrix:\r\n",
      "2021-05-12 08:41:30.140473: I tensorflow/core/common_runtime/gpu/gpu_device.cc:1267]      1 \r\n",
      "2021-05-12 08:41:30.140480: I tensorflow/core/common_runtime/gpu/gpu_device.cc:1280] 1:   N \r\n",
      "2021-05-12 08:41:30.142309: I tensorflow/core/common_runtime/gpu/gpu_device.cc:1406] Created TensorFlow device (/job:localhost/replica:0/task:0/device:GPU:0 with 14331 MB memory) -> physical GPU (device: 1, name: Tesla V100-PCIE-16GB, pci bus id: 0000:86:00.0, compute capability: 7.0)\r\n",
      "2021-05-12 08:41:30.176947: I tensorflow/core/common_runtime/gpu/gpu_device.cc:1261] Device interconnect StreamExecutor with strength 1 edge matrix:\r\n",
      "2021-05-12 08:41:30.176982: I tensorflow/core/common_runtime/gpu/gpu_device.cc:1267]      0 \r\n",
      "2021-05-12 08:41:30.176989: I tensorflow/core/common_runtime/gpu/gpu_device.cc:1280] 0:   N \r\n",
      "2021-05-12 08:41:30.178937: I tensorflow/core/common_runtime/gpu/gpu_device.cc:1406] Created TensorFlow device (/job:localhost/replica:0/task:0/device:GPU:0 with 14331 MB memory) -> physical GPU (device: 0, name: Tesla V100-PCIE-16GB, pci bus id: 0000:37:00.0, compute capability: 7.0)\r\n",
      "2021-05-12 08:41:33.314337: I tensorflow/compiler/mlir/mlir_graph_optimization_pass.cc:116] None of the MLIR optimization passes are enabled (registered 2)\r\n",
      "2021-05-12 08:41:33.317815: I tensorflow/compiler/mlir/mlir_graph_optimization_pass.cc:116] None of the MLIR optimization passes are enabled (registered 2)\r\n",
      "2021-05-12 08:41:33.322449: I tensorflow/compiler/mlir/mlir_graph_optimization_pass.cc:116] None of the MLIR optimization passes are enabled (registered 2)\r\n",
      "2021-05-12 08:41:33.326008: I tensorflow/compiler/mlir/mlir_graph_optimization_pass.cc:116] None of the MLIR optimization passes are enabled (registered 2)\r\n",
      "2021-05-12 08:41:33.420537: I tensorflow/core/platform/profile_utils/cpu_utils.cc:112] CPU Frequency: 3000000000 Hz\r\n",
      "2021-05-12 08:41:33.420555: I tensorflow/core/platform/profile_utils/cpu_utils.cc:112] CPU Frequency: 3000000000 Hz\r\n",
      "2021-05-12 08:41:33.420694: I tensorflow/core/platform/profile_utils/cpu_utils.cc:112] CPU Frequency: 3000000000 Hz\r\n",
      "2021-05-12 08:41:33.420734: I tensorflow/core/platform/profile_utils/cpu_utils.cc:112] CPU Frequency: 3000000000 Hz\r\n",
      "2021-05-12 08:41:33.853809: I tensorflow/stream_executor/platform/default/dso_loader.cc:49] Successfully opened dynamic library libcublas.so.11\r\n",
      "2021-05-12 08:41:33.853804: I tensorflow/stream_executor/platform/default/dso_loader.cc:49] Successfully opened dynamic library libcublas.so.11\r\n",
      "2021-05-12 08:41:33.853810: I tensorflow/stream_executor/platform/default/dso_loader.cc:49] Successfully opened dynamic library libcublas.so.11\r\n",
      "2021-05-12 08:41:33.853814: I tensorflow/stream_executor/platform/default/dso_loader.cc:49] Successfully opened dynamic library libcublas.so.11\r\n",
      "2021-05-12 08:41:34.358723: I tensorflow/stream_executor/platform/default/dso_loader.cc:49] Successfully opened dynamic library libcublasLt.so.11\r\n",
      "2021-05-12 08:41:34.360490: I tensorflow/stream_executor/platform/default/dso_loader.cc:49] Successfully opened dynamic library libcublasLt.so.11\r\n",
      "2021-05-12 08:41:34.367163: I tensorflow/stream_executor/platform/default/dso_loader.cc:49] Successfully opened dynamic library libcublasLt.so.11\r\n",
      "2021-05-12 08:41:34.368520: I tensorflow/stream_executor/platform/default/dso_loader.cc:49] Successfully opened dynamic library libcublasLt.so.11\r\n",
      "2021-05-12 08:41:34.441618: I tensorflow/stream_executor/platform/default/dso_loader.cc:49] Successfully opened dynamic library libcudnn.so.8\r\n",
      "2021-05-12 08:41:34.441658: I tensorflow/stream_executor/platform/default/dso_loader.cc:49] Successfully opened dynamic library libcudnn.so.8\r\n",
      "2021-05-12 08:41:34.457036: I tensorflow/stream_executor/platform/default/dso_loader.cc:49] Successfully opened dynamic library libcudnn.so.8\r\n",
      "2021-05-12 08:41:34.457048: I tensorflow/stream_executor/platform/default/dso_loader.cc:49] Successfully opened dynamic library libcudnn.so.8\r\n"
     ]
    }
   ],
   "source": [
    "cat mnist.err"
   ]
  },
  {
   "cell_type": "code",
   "execution_count": 6,
   "id": "189de10c",
   "metadata": {},
   "outputs": [
    {
     "name": "stdout",
     "output_type": "stream",
     "text": [
      "1620830480.844949 Wed May 12 08:41:20 2021      0.000      0.000 start\r\n",
      "hello from  1  of  4\r\n",
      "gpus  [PhysicalDevice(name='/physical_device:GPU:0', device_type='GPU'), PhysicalDevice(name='/physical_device:GPU:1', device_type='GPU')]  on  r104u33 mpi task  1  of  4\r\n",
      "1620830488.324029 Wed May 12 08:41:28 2021      7.479      7.479 [PhysicalDevice(name='/physical_device:GPU:0', device_type='GPU'), PhysicalDevice(name='/physical_device:GPU:1', device_type='GPU')]\r\n",
      "hvd.local_rank() 1\r\n",
      "gpu=  1 PhysicalDevice(name='/physical_device:GPU:0', device_type='GPU')\r\n",
      "gpu=  2 PhysicalDevice(name='/physical_device:GPU:1', device_type='GPU')\r\n",
      "gpus detected:  2\r\n",
      "1620830528.398961 Wed May 12 08:42:08 2021     47.554     40.075 done\r\n",
      "1620830480.844851 Wed May 12 08:41:20 2021      0.000      0.000 start\r\n",
      "hello from  2  of  4\r\n",
      "gpus  [PhysicalDevice(name='/physical_device:GPU:0', device_type='GPU'), PhysicalDevice(name='/physical_device:GPU:1', device_type='GPU')]  on  r104u33 mpi task  2  of  4\r\n",
      "1620830488.324056 Wed May 12 08:41:28 2021      7.479      7.479 [PhysicalDevice(name='/physical_device:GPU:0', device_type='GPU'), PhysicalDevice(name='/physical_device:GPU:1', device_type='GPU')]\r\n",
      "hvd.local_rank() 2\r\n",
      "gpu=  1 PhysicalDevice(name='/physical_device:GPU:0', device_type='GPU')\r\n",
      "gpu=  2 PhysicalDevice(name='/physical_device:GPU:1', device_type='GPU')\r\n",
      "gpus detected:  2\r\n",
      "1620830528.398965 Wed May 12 08:42:08 2021     47.554     40.075 done\r\n",
      "1620830480.844867 Wed May 12 08:41:20 2021      0.000      0.000 start\r\n",
      "hello from  3  of  4\r\n",
      "gpus  [PhysicalDevice(name='/physical_device:GPU:0', device_type='GPU'), PhysicalDevice(name='/physical_device:GPU:1', device_type='GPU')]  on  r104u33 mpi task  3  of  4\r\n",
      "1620830488.323904 Wed May 12 08:41:28 2021      7.479      7.479 [PhysicalDevice(name='/physical_device:GPU:0', device_type='GPU'), PhysicalDevice(name='/physical_device:GPU:1', device_type='GPU')]\r\n",
      "hvd.local_rank() 3\r\n",
      "gpu=  1 PhysicalDevice(name='/physical_device:GPU:0', device_type='GPU')\r\n",
      "gpu=  2 PhysicalDevice(name='/physical_device:GPU:1', device_type='GPU')\r\n",
      "gpus detected:  2\r\n",
      "1620830528.398957 Wed May 12 08:42:08 2021     47.554     40.075 done\r\n",
      "1620830480.844877 Wed May 12 08:41:20 2021      0.000      0.000 start\r\n",
      "hello from  0  of  4\r\n",
      "gpus  [PhysicalDevice(name='/physical_device:GPU:0', device_type='GPU'), PhysicalDevice(name='/physical_device:GPU:1', device_type='GPU')]  on  r104u33 mpi task  0  of  4\r\n",
      "1620830488.324099 Wed May 12 08:41:28 2021      7.479      7.479 [PhysicalDevice(name='/physical_device:GPU:0', device_type='GPU'), PhysicalDevice(name='/physical_device:GPU:1', device_type='GPU')]\r\n",
      "hvd.local_rank() 0\r\n",
      "gpu=  1 PhysicalDevice(name='/physical_device:GPU:0', device_type='GPU')\r\n",
      "gpu=  2 PhysicalDevice(name='/physical_device:GPU:1', device_type='GPU')\r\n",
      "gpus detected:  2\r\n",
      "Step #0\tLoss: 2.315019\r\n",
      "Step #10\tLoss: 0.819473\r\n",
      "Step #20\tLoss: 0.442634\r\n",
      "Step #30\tLoss: 0.229242\r\n",
      "Step #40\tLoss: 0.190962\r\n",
      "Step #50\tLoss: 0.134687\r\n",
      "Step #60\tLoss: 0.249617\r\n",
      "Step #70\tLoss: 0.086580\r\n",
      "Step #80\tLoss: 0.068775\r\n",
      "Step #90\tLoss: 0.114491\r\n",
      "Step #100\tLoss: 0.098096\r\n",
      "Step #110\tLoss: 0.105347\r\n",
      "Step #120\tLoss: 0.096544\r\n",
      "Step #130\tLoss: 0.086985\r\n",
      "Step #140\tLoss: 0.050001\r\n",
      "Step #150\tLoss: 0.027273\r\n",
      "Step #160\tLoss: 0.064687\r\n",
      "Step #170\tLoss: 0.048557\r\n",
      "Step #180\tLoss: 0.131812\r\n",
      "Step #190\tLoss: 0.134053\r\n",
      "Step #200\tLoss: 0.124765\r\n",
      "Step #210\tLoss: 0.144223\r\n",
      "Step #220\tLoss: 0.099653\r\n",
      "Step #230\tLoss: 0.077289\r\n",
      "Step #240\tLoss: 0.061125\r\n",
      "Step #250\tLoss: 0.085355\r\n",
      "Step #260\tLoss: 0.050117\r\n",
      "Step #270\tLoss: 0.095989\r\n",
      "Step #280\tLoss: 0.035406\r\n",
      "Step #290\tLoss: 0.112861\r\n",
      "Step #300\tLoss: 0.060270\r\n",
      "Step #310\tLoss: 0.041986\r\n",
      "Step #320\tLoss: 0.045151\r\n",
      "Step #330\tLoss: 0.027356\r\n",
      "Step #340\tLoss: 0.053397\r\n",
      "Step #350\tLoss: 0.054579\r\n",
      "Step #360\tLoss: 0.072747\r\n",
      "Step #370\tLoss: 0.019561\r\n",
      "Step #380\tLoss: 0.043039\r\n",
      "Step #390\tLoss: 0.047200\r\n",
      "Step #400\tLoss: 0.077051\r\n",
      "Step #410\tLoss: 0.072106\r\n",
      "Step #420\tLoss: 0.069141\r\n",
      "Step #430\tLoss: 0.099917\r\n",
      "Step #440\tLoss: 0.047022\r\n",
      "Step #450\tLoss: 0.096342\r\n",
      "Step #460\tLoss: 0.045186\r\n",
      "Step #470\tLoss: 0.080854\r\n",
      "Step #480\tLoss: 0.033907\r\n",
      "Step #490\tLoss: 0.089785\r\n",
      "Step #500\tLoss: 0.102325\r\n",
      "Step #510\tLoss: 0.045961\r\n",
      "Step #520\tLoss: 0.066084\r\n",
      "Step #530\tLoss: 0.021744\r\n",
      "Step #540\tLoss: 0.016515\r\n",
      "Step #550\tLoss: 0.019382\r\n",
      "Step #560\tLoss: 0.079989\r\n",
      "Step #570\tLoss: 0.068729\r\n",
      "Step #580\tLoss: 0.012358\r\n",
      "Step #590\tLoss: 0.077156\r\n",
      "Step #600\tLoss: 0.067670\r\n",
      "Step #610\tLoss: 0.023044\r\n",
      "Step #620\tLoss: 0.028441\r\n",
      "Step #630\tLoss: 0.057671\r\n",
      "Step #640\tLoss: 0.017511\r\n",
      "Step #650\tLoss: 0.034803\r\n",
      "Step #660\tLoss: 0.087607\r\n",
      "Step #670\tLoss: 0.022215\r\n",
      "Step #680\tLoss: 0.077872\r\n",
      "Step #690\tLoss: 0.042241\r\n",
      "Step #700\tLoss: 0.043546\r\n",
      "Step #710\tLoss: 0.018619\r\n",
      "Step #720\tLoss: 0.030849\r\n",
      "Step #730\tLoss: 0.030440\r\n",
      "Step #740\tLoss: 0.009007\r\n",
      "Step #750\tLoss: 0.137554\r\n",
      "Step #760\tLoss: 0.079036\r\n",
      "Step #770\tLoss: 0.046677\r\n",
      "Step #780\tLoss: 0.027615\r\n",
      "Step #790\tLoss: 0.013337\r\n",
      "Step #800\tLoss: 0.046469\r\n",
      "Step #810\tLoss: 0.009537\r\n",
      "Step #820\tLoss: 0.013233\r\n",
      "Step #830\tLoss: 0.005067\r\n",
      "Step #840\tLoss: 0.113222\r\n",
      "Step #850\tLoss: 0.012052\r\n",
      "Step #860\tLoss: 0.004917\r\n",
      "Step #870\tLoss: 0.035153\r\n",
      "Step #880\tLoss: 0.031603\r\n",
      "Step #890\tLoss: 0.005472\r\n",
      "Step #900\tLoss: 0.055891\r\n",
      "Step #910\tLoss: 0.029050\r\n",
      "Step #920\tLoss: 0.082598\r\n",
      "Step #930\tLoss: 0.019220\r\n",
      "Step #940\tLoss: 0.010839\r\n",
      "Step #950\tLoss: 0.078992\r\n",
      "Step #960\tLoss: 0.062990\r\n",
      "Step #970\tLoss: 0.022003\r\n",
      "Step #980\tLoss: 0.061178\r\n",
      "Step #990\tLoss: 0.097203\r\n",
      "Step #1000\tLoss: 0.196687\r\n",
      "Step #1010\tLoss: 0.043281\r\n",
      "Step #1020\tLoss: 0.068721\r\n",
      "Step #1030\tLoss: 0.010681\r\n",
      "Step #1040\tLoss: 0.016043\r\n",
      "Step #1050\tLoss: 0.021756\r\n",
      "Step #1060\tLoss: 0.003783\r\n",
      "Step #1070\tLoss: 0.015962\r\n",
      "Step #1080\tLoss: 0.049384\r\n",
      "Step #1090\tLoss: 0.013915\r\n",
      "Step #1100\tLoss: 0.016841\r\n",
      "Step #1110\tLoss: 0.038078\r\n",
      "Step #1120\tLoss: 0.037550\r\n",
      "Step #1130\tLoss: 0.062354\r\n",
      "Step #1140\tLoss: 0.028273\r\n",
      "Step #1150\tLoss: 0.008482\r\n",
      "Step #1160\tLoss: 0.049737\r\n",
      "Step #1170\tLoss: 0.032784\r\n",
      "Step #1180\tLoss: 0.036417\r\n",
      "Step #1190\tLoss: 0.041246\r\n",
      "Step #1200\tLoss: 0.018950\r\n",
      "Step #1210\tLoss: 0.011011\r\n",
      "Step #1220\tLoss: 0.012514\r\n",
      "Step #1230\tLoss: 0.009307\r\n",
      "Step #1240\tLoss: 0.010307\r\n",
      "Step #1250\tLoss: 0.043517\r\n",
      "Step #1260\tLoss: 0.028853\r\n",
      "Step #1270\tLoss: 0.016369\r\n",
      "Step #1280\tLoss: 0.022615\r\n",
      "Step #1290\tLoss: 0.020445\r\n",
      "Step #1300\tLoss: 0.004227\r\n",
      "Step #1310\tLoss: 0.037634\r\n",
      "Step #1320\tLoss: 0.009922\r\n",
      "Step #1330\tLoss: 0.039466\r\n",
      "Step #1340\tLoss: 0.007662\r\n",
      "Step #1350\tLoss: 0.036805\r\n",
      "Step #1360\tLoss: 0.026649\r\n",
      "Step #1370\tLoss: 0.037167\r\n",
      "Step #1380\tLoss: 0.005758\r\n",
      "Step #1390\tLoss: 0.044471\r\n",
      "Step #1400\tLoss: 0.011053\r\n",
      "Step #1410\tLoss: 0.004586\r\n",
      "Step #1420\tLoss: 0.003995\r\n",
      "Step #1430\tLoss: 0.043695\r\n",
      "Step #1440\tLoss: 0.008169\r\n",
      "Step #1450\tLoss: 0.031040\r\n",
      "Step #1460\tLoss: 0.023429\r\n",
      "Step #1470\tLoss: 0.007994\r\n",
      "Step #1480\tLoss: 0.022019\r\n",
      "Step #1490\tLoss: 0.077620\r\n",
      "Step #1500\tLoss: 0.008801\r\n",
      "Step #1510\tLoss: 0.006009\r\n",
      "Step #1520\tLoss: 0.009880\r\n",
      "Step #1530\tLoss: 0.004729\r\n",
      "Step #1540\tLoss: 0.004556\r\n",
      "Step #1550\tLoss: 0.005709\r\n",
      "Step #1560\tLoss: 0.052361\r\n",
      "Step #1570\tLoss: 0.043104\r\n",
      "Step #1580\tLoss: 0.027022\r\n",
      "Step #1590\tLoss: 0.022999\r\n",
      "Step #1600\tLoss: 0.007507\r\n",
      "Step #1610\tLoss: 0.042544\r\n",
      "Step #1620\tLoss: 0.025685\r\n",
      "Step #1630\tLoss: 0.024698\r\n",
      "Step #1640\tLoss: 0.004103\r\n",
      "Step #1650\tLoss: 0.021926\r\n",
      "Step #1660\tLoss: 0.005775\r\n",
      "Step #1670\tLoss: 0.012286\r\n",
      "Step #1680\tLoss: 0.010164\r\n",
      "Step #1690\tLoss: 0.053646\r\n",
      "Step #1700\tLoss: 0.004706\r\n",
      "Step #1710\tLoss: 0.022285\r\n",
      "Step #1720\tLoss: 0.064499\r\n",
      "Step #1730\tLoss: 0.069754\r\n",
      "Step #1740\tLoss: 0.000730\r\n",
      "Step #1750\tLoss: 0.053533\r\n",
      "Step #1760\tLoss: 0.035268\r\n",
      "Step #1770\tLoss: 0.045107\r\n",
      "Step #1780\tLoss: 0.162541\r\n",
      "Step #1790\tLoss: 0.041333\r\n",
      "Step #1800\tLoss: 0.016272\r\n",
      "Step #1810\tLoss: 0.008474\r\n",
      "Step #1820\tLoss: 0.032687\r\n",
      "Step #1830\tLoss: 0.011971\r\n",
      "Step #1840\tLoss: 0.058533\r\n",
      "Step #1850\tLoss: 0.063670\r\n",
      "Step #1860\tLoss: 0.002430\r\n",
      "Step #1870\tLoss: 0.008697\r\n",
      "Step #1880\tLoss: 0.009553\r\n",
      "Step #1890\tLoss: 0.004042\r\n",
      "Step #1900\tLoss: 0.006432\r\n",
      "Step #1910\tLoss: 0.024975\r\n",
      "Step #1920\tLoss: 0.104460\r\n",
      "Step #1930\tLoss: 0.008645\r\n",
      "Step #1940\tLoss: 0.000691\r\n",
      "Step #1950\tLoss: 0.006149\r\n",
      "Step #1960\tLoss: 0.003802\r\n",
      "Step #1970\tLoss: 0.003794\r\n",
      "Step #1980\tLoss: 0.030468\r\n",
      "Step #1990\tLoss: 0.015896\r\n",
      "Step #2000\tLoss: 0.031900\r\n",
      "Step #2010\tLoss: 0.020953\r\n",
      "Step #2020\tLoss: 0.037967\r\n",
      "Step #2030\tLoss: 0.014631\r\n",
      "Step #2040\tLoss: 0.042074\r\n",
      "Step #2050\tLoss: 0.031528\r\n",
      "Step #2060\tLoss: 0.022541\r\n",
      "Step #2070\tLoss: 0.051128\r\n",
      "Step #2080\tLoss: 0.005649\r\n",
      "Step #2090\tLoss: 0.050102\r\n",
      "Step #2100\tLoss: 0.003849\r\n",
      "Step #2110\tLoss: 0.036428\r\n",
      "Step #2120\tLoss: 0.004752\r\n",
      "Step #2130\tLoss: 0.045349\r\n",
      "Step #2140\tLoss: 0.015902\r\n",
      "Step #2150\tLoss: 0.022723\r\n",
      "Step #2160\tLoss: 0.006602\r\n",
      "Step #2170\tLoss: 0.010878\r\n",
      "Step #2180\tLoss: 0.003523\r\n",
      "Step #2190\tLoss: 0.027555\r\n",
      "Step #2200\tLoss: 0.009000\r\n",
      "Step #2210\tLoss: 0.009427\r\n",
      "Step #2220\tLoss: 0.003964\r\n",
      "Step #2230\tLoss: 0.014010\r\n",
      "Step #2240\tLoss: 0.028744\r\n",
      "Step #2250\tLoss: 0.037846\r\n",
      "Step #2260\tLoss: 0.035135\r\n",
      "Step #2270\tLoss: 0.030793\r\n",
      "Step #2280\tLoss: 0.018773\r\n",
      "Step #2290\tLoss: 0.030474\r\n",
      "Step #2300\tLoss: 0.018092\r\n",
      "Step #2310\tLoss: 0.022270\r\n",
      "Step #2320\tLoss: 0.007251\r\n",
      "Step #2330\tLoss: 0.015856\r\n",
      "Step #2340\tLoss: 0.020293\r\n",
      "Step #2350\tLoss: 0.008975\r\n",
      "Step #2360\tLoss: 0.015197\r\n",
      "Step #2370\tLoss: 0.004052\r\n",
      "Step #2380\tLoss: 0.020897\r\n",
      "Step #2390\tLoss: 0.006769\r\n",
      "Step #2400\tLoss: 0.026616\r\n",
      "Step #2410\tLoss: 0.010042\r\n",
      "Step #2420\tLoss: 0.046299\r\n",
      "Step #2430\tLoss: 0.007965\r\n",
      "Step #2440\tLoss: 0.019454\r\n",
      "Step #2450\tLoss: 0.001049\r\n",
      "Step #2460\tLoss: 0.038362\r\n",
      "Step #2470\tLoss: 0.004218\r\n",
      "Step #2480\tLoss: 0.026630\r\n",
      "Step #2490\tLoss: 0.000704\r\n",
      "1620830528.519859 Wed May 12 08:42:08 2021     47.675     40.196 done\r\n"
     ]
    }
   ],
   "source": [
    "cat minst.out"
   ]
  },
  {
   "cell_type": "markdown",
   "id": "bc259123",
   "metadata": {},
   "source": [
    "### Simpler example three different ways\n",
    "```\n",
    "Here we run the example from\n",
    "\n",
    "[https://towardsdatascience.com/image-classification-in-10-minutes-with-mnist-dataset-54c35b77a38d]\n",
    "\n",
    "three different ways.  We run it:\n",
    "```\n",
    "- From the command line\n",
    "- Reading it in as a file and then running exec on the input\n",
    "- As individual cells within the notebook\n"
   ]
  },
  {
   "cell_type": "code",
   "execution_count": 7,
   "id": "f9c9ca7a",
   "metadata": {},
   "outputs": [
    {
     "name": "stdout",
     "output_type": "stream",
     "text": [
      "SLURM_JOB_GPUS : 0,1\n",
      "GPU_DEVICE_ORDINAL : 0,1\n",
      "SLURM_GPUS_PER_NODE : 2\n",
      "2021-05-12 08:44:11.943841: I tensorflow/stream_executor/platform/default/dso_loader.cc:49] Successfully opened dynamic library libcudart.so.11.0\n",
      "8\n",
      "x_train shape: (60000, 28, 28, 1)\n",
      "Number of images in x_train 60000\n",
      "Number of images in x_test 10000\n",
      "2021-05-12 08:44:17.803268: I tensorflow/compiler/jit/xla_cpu_device.cc:41] Not creating XLA devices, tf_xla_enable_xla_devices not set\n",
      "2021-05-12 08:44:17.804679: I tensorflow/stream_executor/platform/default/dso_loader.cc:49] Successfully opened dynamic library libcuda.so.1\n",
      "2021-05-12 08:44:19.492601: I tensorflow/core/common_runtime/gpu/gpu_device.cc:1720] Found device 0 with properties: \n",
      "pciBusID: 0000:37:00.0 name: Tesla V100-PCIE-16GB computeCapability: 7.0\n",
      "coreClock: 1.38GHz coreCount: 80 deviceMemorySize: 15.78GiB deviceMemoryBandwidth: 836.37GiB/s\n",
      "2021-05-12 08:44:19.493237: I tensorflow/core/common_runtime/gpu/gpu_device.cc:1720] Found device 1 with properties: \n",
      "pciBusID: 0000:86:00.0 name: Tesla V100-PCIE-16GB computeCapability: 7.0\n",
      "coreClock: 1.38GHz coreCount: 80 deviceMemorySize: 15.78GiB deviceMemoryBandwidth: 836.37GiB/s\n",
      "2021-05-12 08:44:19.493282: I tensorflow/stream_executor/platform/default/dso_loader.cc:49] Successfully opened dynamic library libcudart.so.11.0\n",
      "2021-05-12 08:44:19.498483: I tensorflow/stream_executor/platform/default/dso_loader.cc:49] Successfully opened dynamic library libcublas.so.11\n",
      "2021-05-12 08:44:19.498547: I tensorflow/stream_executor/platform/default/dso_loader.cc:49] Successfully opened dynamic library libcublasLt.so.11\n",
      "2021-05-12 08:44:19.500013: I tensorflow/stream_executor/platform/default/dso_loader.cc:49] Successfully opened dynamic library libcufft.so.10\n",
      "2021-05-12 08:44:19.501013: I tensorflow/stream_executor/platform/default/dso_loader.cc:49] Successfully opened dynamic library libcurand.so.10\n",
      "2021-05-12 08:44:19.506109: I tensorflow/stream_executor/platform/default/dso_loader.cc:49] Successfully opened dynamic library libcusolver.so.10\n",
      "2021-05-12 08:44:19.507340: I tensorflow/stream_executor/platform/default/dso_loader.cc:49] Successfully opened dynamic library libcusparse.so.11\n",
      "2021-05-12 08:44:19.507846: I tensorflow/stream_executor/platform/default/dso_loader.cc:49] Successfully opened dynamic library libcudnn.so.8\n",
      "2021-05-12 08:44:19.510158: I tensorflow/core/common_runtime/gpu/gpu_device.cc:1862] Adding visible gpu devices: 0, 1\n",
      "2021-05-12 08:44:19.510557: I tensorflow/core/platform/cpu_feature_guard.cc:142] This TensorFlow binary is optimized with oneAPI Deep Neural Network Library (oneDNN) to use the following CPU instructions in performance-critical operations:  AVX512F\n",
      "To enable them in other operations, rebuild TensorFlow with the appropriate compiler flags.\n",
      "2021-05-12 08:44:19.512595: I tensorflow/compiler/jit/xla_gpu_device.cc:99] Not creating XLA devices, tf_xla_enable_xla_devices not set\n",
      "2021-05-12 08:44:19.722001: I tensorflow/core/common_runtime/gpu/gpu_device.cc:1720] Found device 0 with properties: \n",
      "pciBusID: 0000:37:00.0 name: Tesla V100-PCIE-16GB computeCapability: 7.0\n",
      "coreClock: 1.38GHz coreCount: 80 deviceMemorySize: 15.78GiB deviceMemoryBandwidth: 836.37GiB/s\n",
      "2021-05-12 08:44:19.722625: I tensorflow/core/common_runtime/gpu/gpu_device.cc:1720] Found device 1 with properties: \n",
      "pciBusID: 0000:86:00.0 name: Tesla V100-PCIE-16GB computeCapability: 7.0\n",
      "coreClock: 1.38GHz coreCount: 80 deviceMemorySize: 15.78GiB deviceMemoryBandwidth: 836.37GiB/s\n",
      "2021-05-12 08:44:19.722671: I tensorflow/stream_executor/platform/default/dso_loader.cc:49] Successfully opened dynamic library libcudart.so.11.0\n",
      "2021-05-12 08:44:19.722708: I tensorflow/stream_executor/platform/default/dso_loader.cc:49] Successfully opened dynamic library libcublas.so.11\n",
      "2021-05-12 08:44:19.722722: I tensorflow/stream_executor/platform/default/dso_loader.cc:49] Successfully opened dynamic library libcublasLt.so.11\n",
      "2021-05-12 08:44:19.722735: I tensorflow/stream_executor/platform/default/dso_loader.cc:49] Successfully opened dynamic library libcufft.so.10\n",
      "2021-05-12 08:44:19.722749: I tensorflow/stream_executor/platform/default/dso_loader.cc:49] Successfully opened dynamic library libcurand.so.10\n",
      "2021-05-12 08:44:19.722762: I tensorflow/stream_executor/platform/default/dso_loader.cc:49] Successfully opened dynamic library libcusolver.so.10\n",
      "2021-05-12 08:44:19.722775: I tensorflow/stream_executor/platform/default/dso_loader.cc:49] Successfully opened dynamic library libcusparse.so.11\n",
      "2021-05-12 08:44:19.722789: I tensorflow/stream_executor/platform/default/dso_loader.cc:49] Successfully opened dynamic library libcudnn.so.8\n",
      "2021-05-12 08:44:19.724883: I tensorflow/core/common_runtime/gpu/gpu_device.cc:1862] Adding visible gpu devices: 0, 1\n",
      "2021-05-12 08:44:19.724929: I tensorflow/stream_executor/platform/default/dso_loader.cc:49] Successfully opened dynamic library libcudart.so.11.0\n",
      "2021-05-12 08:44:20.565942: I tensorflow/core/common_runtime/gpu/gpu_device.cc:1261] Device interconnect StreamExecutor with strength 1 edge matrix:\n",
      "2021-05-12 08:44:20.566000: I tensorflow/core/common_runtime/gpu/gpu_device.cc:1267]      0 1 \n",
      "2021-05-12 08:44:20.566013: I tensorflow/core/common_runtime/gpu/gpu_device.cc:1280] 0:   N Y \n",
      "2021-05-12 08:44:20.566022: I tensorflow/core/common_runtime/gpu/gpu_device.cc:1280] 1:   Y N \n",
      "2021-05-12 08:44:20.568524: I tensorflow/core/common_runtime/gpu/gpu_device.cc:1406] Created TensorFlow device (/job:localhost/replica:0/task:0/device:GPU:0 with 14759 MB memory) -> physical GPU (device: 0, name: Tesla V100-PCIE-16GB, pci bus id: 0000:37:00.0, compute capability: 7.0)\n",
      "2021-05-12 08:44:20.569934: I tensorflow/core/common_runtime/gpu/gpu_device.cc:1406] Created TensorFlow device (/job:localhost/replica:0/task:0/device:GPU:1 with 14759 MB memory) -> physical GPU (device: 1, name: Tesla V100-PCIE-16GB, pci bus id: 0000:86:00.0, compute capability: 7.0)\n",
      "2021-05-12 08:44:20.980720: I tensorflow/compiler/mlir/mlir_graph_optimization_pass.cc:116] None of the MLIR optimization passes are enabled (registered 2)\n",
      "2021-05-12 08:44:20.981252: I tensorflow/core/platform/profile_utils/cpu_utils.cc:112] CPU Frequency: 3000000000 Hz\n",
      "Epoch 1/10\n",
      "2021-05-12 08:44:21.344321: I tensorflow/stream_executor/platform/default/dso_loader.cc:49] Successfully opened dynamic library libcublas.so.11\n",
      "2021-05-12 08:44:21.710358: I tensorflow/stream_executor/platform/default/dso_loader.cc:49] Successfully opened dynamic library libcublasLt.so.11\n",
      "2021-05-12 08:44:21.711763: I tensorflow/stream_executor/platform/default/dso_loader.cc:49] Successfully opened dynamic library libcudnn.so.8\n",
      "1875/1875 [==============================] - 5s 1ms/step - loss: 0.3647 - accuracy: 0.8902\n",
      "Epoch 2/10\n",
      "1875/1875 [==============================] - 2s 1ms/step - loss: 0.0872 - accuracy: 0.9739\n",
      "Epoch 3/10\n",
      "1875/1875 [==============================] - 2s 1ms/step - loss: 0.0567 - accuracy: 0.9820\n",
      "Epoch 4/10\n",
      "1875/1875 [==============================] - 2s 1ms/step - loss: 0.0437 - accuracy: 0.9858\n",
      "Epoch 5/10\n",
      "1875/1875 [==============================] - 2s 1ms/step - loss: 0.0341 - accuracy: 0.9893\n",
      "Epoch 6/10\n",
      "1875/1875 [==============================] - 3s 1ms/step - loss: 0.0270 - accuracy: 0.9914\n",
      "Epoch 7/10\n",
      "1875/1875 [==============================] - 2s 1ms/step - loss: 0.0213 - accuracy: 0.9929\n",
      "Epoch 8/10\n",
      "1875/1875 [==============================] - 2s 1ms/step - loss: 0.0213 - accuracy: 0.9924\n",
      "Epoch 9/10\n",
      "1875/1875 [==============================] - 2s 1ms/step - loss: 0.0187 - accuracy: 0.9934\n",
      "Epoch 10/10\n",
      "1875/1875 [==============================] - 2s 1ms/step - loss: 0.0183 - accuracy: 0.9939\n",
      "313/313 [==============================] - 0s 951us/step - loss: 0.0628 - accuracy: 0.9843\n",
      "9\n"
     ]
    }
   ],
   "source": [
    "!./mnist1.py"
   ]
  },
  {
   "cell_type": "code",
   "execution_count": 8,
   "id": "821896cc",
   "metadata": {},
   "outputs": [
    {
     "name": "stdout",
     "output_type": "stream",
     "text": [
      "#!/usr/bin/env python\n",
      "#####!/home/tkaiser2/.conda-envs/dompt/bin/python\n",
      "\n",
      "#https://towardsdatascience.com/image-classification-in-10-minutes-with-mnist-dataset-54c35b77a38d\n",
      "import os\n",
      "for x in os.environ:\n",
      "   #if x.find(\"SLURM\") > -1 or x.find(\"gpu\") > -1 :\n",
      "   if x.find(\"GPU\") > -1 or x.find(\"gpu\") > -1 :\n",
      "        print(x,\":\",os.environ[x])\n",
      "\n",
      "import tensorflow as tf\n",
      "(x_train, y_train), (x_test, y_test) = tf.keras.datasets.mnist.load_data()\n",
      "\n",
      "import matplotlib.pyplot as plt\n",
      "# Only use this if using iPython\n",
      "try:\n",
      "#%matplotlib inline\n",
      "   pass\n",
      "except:\n",
      "    pass\n",
      "# You may select anything up to 60,000\n",
      "image_index = 7777 \n",
      "# The label is 8\n",
      "print(y_train[image_index]) \n",
      "plt.imshow(x_train[image_index], cmap='Greys')\n",
      "\n",
      "\n",
      "x_train.shape\n",
      "\n",
      "\n",
      "\n",
      "# Reshaping the array to 4-dims so that it can work with the Keras API\n",
      "x_train = x_train.reshape(x_train.shape[0], 28, 28, 1)\n",
      "x_test = x_test.reshape(x_test.shape[0], 28, 28, 1)\n",
      "input_shape = (28, 28, 1)\n",
      "# Making sure that the values are float so that we can get decimal points after division\n",
      "x_train = x_train.astype('float32')\n",
      "x_test = x_test.astype('float32')\n",
      "# Normalizing the RGB codes by dividing it to the max RGB value.\n",
      "x_train /= 255\n",
      "x_test /= 255\n",
      "print('x_train shape:', x_train.shape)\n",
      "print('Number of images in x_train', x_train.shape[0])\n",
      "print('Number of images in x_test', x_test.shape[0])\n",
      "\n",
      "\n",
      "\n",
      "# Importing the required Keras modules containing model and layers\n",
      "from tensorflow.keras.models import Sequential\n",
      "from tensorflow.keras.layers import Dense, Conv2D, Dropout, Flatten, MaxPooling2D\n",
      "# Creating a Sequential Model and adding the layers\n",
      "model = Sequential()\n",
      "model.add(Conv2D(28, kernel_size=(3,3), input_shape=input_shape))\n",
      "model.add(MaxPooling2D(pool_size=(2, 2)))\n",
      "model.add(Flatten()) # Flattening the 2D arrays for fully connected layers\n",
      "model.add(Dense(128, activation=tf.nn.relu))\n",
      "model.add(Dropout(0.2))\n",
      "model.add(Dense(10,activation=tf.nn.softmax))\n",
      "\n",
      "\n",
      "model.compile(optimizer='adam', \n",
      "              loss='sparse_categorical_crossentropy', \n",
      "              metrics=['accuracy'])\n",
      "model.fit(x=x_train,y=y_train, epochs=10)\n",
      "\n",
      "\n",
      "\n",
      "model.evaluate(x_test, y_test)\n",
      "\n",
      "\n",
      "image_index = 4444\n",
      "plt.imshow(x_test[image_index].reshape(28, 28),cmap='Greys')\n",
      "pred = model.predict(x_test[image_index].reshape(1, 28, 28, 1))\n",
      "print(pred.argmax())\n",
      "\n",
      "\n",
      "\n",
      "SLURM_JOB_GPUS : 0,1\n",
      "GPU_DEVICE_ORDINAL : 0,1\n",
      "SLURM_GPUS_PER_NODE : 2\n",
      "8\n",
      "x_train shape: (60000, 28, 28, 1)\n",
      "Number of images in x_train 60000\n",
      "Number of images in x_test 10000\n",
      "Epoch 1/10\n",
      "1875/1875 [==============================] - 5s 1ms/step - loss: 0.3605 - accuracy: 0.8906\n",
      "Epoch 2/10\n",
      "1875/1875 [==============================] - 2s 1ms/step - loss: 0.0887 - accuracy: 0.9728\n",
      "Epoch 3/10\n",
      "1875/1875 [==============================] - 2s 1ms/step - loss: 0.0605 - accuracy: 0.9809\n",
      "Epoch 4/10\n",
      "1875/1875 [==============================] - 2s 1ms/step - loss: 0.0443 - accuracy: 0.9855\n",
      "Epoch 5/10\n",
      "1875/1875 [==============================] - 2s 1ms/step - loss: 0.0363 - accuracy: 0.9880\n",
      "Epoch 6/10\n",
      "1875/1875 [==============================] - 2s 1ms/step - loss: 0.0301 - accuracy: 0.9896\n",
      "Epoch 7/10\n",
      "1875/1875 [==============================] - 2s 1ms/step - loss: 0.0232 - accuracy: 0.9918\n",
      "Epoch 8/10\n",
      "1875/1875 [==============================] - 2s 1ms/step - loss: 0.0207 - accuracy: 0.9926\n",
      "Epoch 9/10\n",
      "1875/1875 [==============================] - 2s 1ms/step - loss: 0.0168 - accuracy: 0.9943\n",
      "Epoch 10/10\n",
      "1875/1875 [==============================] - 2s 1ms/step - loss: 0.0174 - accuracy: 0.9937\n",
      "313/313 [==============================] - 0s 999us/step - loss: 0.0521 - accuracy: 0.9858\n",
      "9\n"
     ]
    },
    {
     "data": {
      "image/png": "[encoded data removed]",
      "text/plain": [
       "<Figure size 432x288 with 1 Axes>"
      ]
     },
     "metadata": {
      "needs_background": "light"
     },
     "output_type": "display_data"
    }
   ],
   "source": [
    "f=open(\"mnist1.py\",\"r\",newline=\"\\n\")\n",
    "bonk=f.read()\n",
    "for b in bonk.split(\"\\n\"):\n",
    "    print(b)\n",
    "\n",
    "exec(bonk)\n"
   ]
  },
  {
   "cell_type": "code",
   "execution_count": null,
   "id": "3052c807",
   "metadata": {},
   "outputs": [],
   "source": []
  },
  {
   "cell_type": "code",
   "execution_count": 9,
   "id": "4587c220",
   "metadata": {},
   "outputs": [
    {
     "name": "stdout",
     "output_type": "stream",
     "text": [
      "SLURM_JOB_GPUS : 0,1\n",
      "GPU_DEVICE_ORDINAL : 0,1\n",
      "SLURM_GPUS_PER_NODE : 2\n"
     ]
    }
   ],
   "source": [
    "#!/usr/bin/env python\n",
    "#from:\n",
    "#https://towardsdatascience.com/image-classification-in-10-minutes-with-mnist-dataset-54c35b77a38d\n",
    "import os\n",
    "for x in os.environ:\n",
    "   #if x.find(\"SLURM\") > -1 or x.find(\"gpu\") > -1 :\n",
    "   if x.find(\"GPU\") > -1 or x.find(\"gpu\") > -1 :\n",
    "        print(x,\":\",os.environ[x])\n",
    "\n",
    "import tensorflow as tf\n",
    "(x_train, y_train), (x_test, y_test) = tf.keras.datasets.mnist.load_data()"
   ]
  },
  {
   "cell_type": "code",
   "execution_count": 10,
   "id": "ae0ba991",
   "metadata": {},
   "outputs": [
    {
     "name": "stdout",
     "output_type": "stream",
     "text": [
      "8\n"
     ]
    },
    {
     "data": {
      "text/plain": [
       "<matplotlib.image.AxesImage at 0x2b7ad7d2f4f0>"
      ]
     },
     "execution_count": 10,
     "metadata": {},
     "output_type": "execute_result"
    },
    {
     "data": {
      "image/png": "[encoded data removed]",
      "text/plain": [
       "<Figure size 432x288 with 1 Axes>"
      ]
     },
     "metadata": {
      "needs_background": "light"
     },
     "output_type": "display_data"
    }
   ],
   "source": [
    "import matplotlib.pyplot as plt\n",
    "# Only use this if using iPython\n",
    "try:\n",
    "#%matplotlib inline\n",
    "   pass\n",
    "except:\n",
    "    pass\n",
    "# You may select anything up to 60,000\n",
    "image_index = 7777 \n",
    "# The label is 8\n",
    "print(y_train[image_index]) \n",
    "plt.imshow(x_train[image_index], cmap='Greys')"
   ]
  },
  {
   "cell_type": "code",
   "execution_count": 11,
   "id": "e85eb25f",
   "metadata": {},
   "outputs": [
    {
     "data": {
      "text/plain": [
       "(60000, 28, 28)"
      ]
     },
     "execution_count": 11,
     "metadata": {},
     "output_type": "execute_result"
    }
   ],
   "source": [
    "x_train.shape"
   ]
  },
  {
   "cell_type": "code",
   "execution_count": 12,
   "id": "91192437",
   "metadata": {},
   "outputs": [
    {
     "name": "stdout",
     "output_type": "stream",
     "text": [
      "x_train shape: (60000, 28, 28, 1)\n",
      "Number of images in x_train 60000\n",
      "Number of images in x_test 10000\n"
     ]
    }
   ],
   "source": [
    "# Reshaping the array to 4-dims so that it can work with the Keras API\n",
    "x_train = x_train.reshape(x_train.shape[0], 28, 28, 1)\n",
    "x_test = x_test.reshape(x_test.shape[0], 28, 28, 1)\n",
    "input_shape = (28, 28, 1)\n",
    "# Making sure that the values are float so that we can get decimal points after division\n",
    "x_train = x_train.astype('float32')\n",
    "x_test = x_test.astype('float32')\n",
    "# Normalizing the RGB codes by dividing it to the max RGB value.\n",
    "x_train /= 255\n",
    "x_test /= 255\n",
    "print('x_train shape:', x_train.shape)\n",
    "print('Number of images in x_train', x_train.shape[0])\n",
    "print('Number of images in x_test', x_test.shape[0])"
   ]
  },
  {
   "cell_type": "code",
   "execution_count": 13,
   "id": "5a0dfc38",
   "metadata": {},
   "outputs": [],
   "source": [
    "# Importing the required Keras modules containing model and layers\n",
    "from tensorflow.keras.models import Sequential\n",
    "from tensorflow.keras.layers import Dense, Conv2D, Dropout, Flatten, MaxPooling2D\n",
    "# Creating a Sequential Model and adding the layers\n",
    "model = Sequential()\n",
    "model.add(Conv2D(28, kernel_size=(3,3), input_shape=input_shape))\n",
    "model.add(MaxPooling2D(pool_size=(2, 2)))\n",
    "model.add(Flatten()) # Flattening the 2D arrays for fully connected layers\n",
    "model.add(Dense(128, activation=tf.nn.relu))\n",
    "model.add(Dropout(0.2))\n",
    "model.add(Dense(10,activation=tf.nn.softmax))"
   ]
  },
  {
   "cell_type": "code",
   "execution_count": 14,
   "id": "388811fd",
   "metadata": {},
   "outputs": [
    {
     "name": "stdout",
     "output_type": "stream",
     "text": [
      "Epoch 1/10\n",
      "1875/1875 [==============================] - 3s 1ms/step - loss: 0.3689 - accuracy: 0.8874\n",
      "Epoch 2/10\n",
      "1875/1875 [==============================] - 2s 1ms/step - loss: 0.0942 - accuracy: 0.9714\n",
      "Epoch 3/10\n",
      "1875/1875 [==============================] - 2s 1ms/step - loss: 0.0584 - accuracy: 0.9818\n",
      "Epoch 4/10\n",
      "1875/1875 [==============================] - 2s 1ms/step - loss: 0.0434 - accuracy: 0.9866\n",
      "Epoch 5/10\n",
      "1875/1875 [==============================] - 2s 1ms/step - loss: 0.0369 - accuracy: 0.9873\n",
      "Epoch 6/10\n",
      "1875/1875 [==============================] - 2s 1ms/step - loss: 0.0262 - accuracy: 0.9916\n",
      "Epoch 7/10\n",
      "1875/1875 [==============================] - 2s 1ms/step - loss: 0.0225 - accuracy: 0.9926\n",
      "Epoch 8/10\n",
      "1875/1875 [==============================] - 3s 1ms/step - loss: 0.0190 - accuracy: 0.9933\n",
      "Epoch 9/10\n",
      "1875/1875 [==============================] - 3s 1ms/step - loss: 0.0174 - accuracy: 0.9936\n",
      "Epoch 10/10\n",
      "1875/1875 [==============================] - 3s 1ms/step - loss: 0.0187 - accuracy: 0.9932\n",
      "313/313 [==============================] - 0s 958us/step - loss: 0.0579 - accuracy: 0.9861\n"
     ]
    },
    {
     "data": {
      "text/plain": [
       "[0.05789255350828171, 0.9861000180244446]"
      ]
     },
     "execution_count": 14,
     "metadata": {},
     "output_type": "execute_result"
    }
   ],
   "source": [
    "model.compile(optimizer='adam', \n",
    "              loss='sparse_categorical_crossentropy', \n",
    "              metrics=['accuracy'])\n",
    "model.fit(x=x_train,y=y_train, epochs=10)\n",
    "\n",
    "\n",
    "\n",
    "model.evaluate(x_test, y_test)"
   ]
  },
  {
   "cell_type": "code",
   "execution_count": 15,
   "id": "c6fcd7ff",
   "metadata": {},
   "outputs": [
    {
     "name": "stdout",
     "output_type": "stream",
     "text": [
      "8\n"
     ]
    },
    {
     "data": {
      "image/png": "[encoded data removed]",
      "text/plain": [
       "<Figure size 432x288 with 1 Axes>"
      ]
     },
     "metadata": {
      "needs_background": "light"
     },
     "output_type": "display_data"
    }
   ],
   "source": [
    "image_index = 1234\n",
    "plt.imshow(x_test[image_index].reshape(28, 28),cmap='Greys')\n",
    "pred = model.predict(x_test[image_index].reshape(1, 28, 28, 1))\n",
    "print(pred.argmax())"
   ]
  },
  {
   "cell_type": "code",
   "execution_count": 16,
   "id": "f7d1a5c1",
   "metadata": {},
   "outputs": [],
   "source": [
    "# get the cupy gpu package\n",
    "import cupy as cp\n",
    "import numpy as np\n",
    "import time\n",
    "import sys\n"
   ]
  },
  {
   "cell_type": "code",
   "execution_count": 17,
   "id": "c077db6a",
   "metadata": {},
   "outputs": [],
   "source": [
    "# This is the blurring function.  It causes blurring\n",
    "# by adding random phase variations in Fourier space.\n",
    "# That is, this is a transfer function that preserves\n",
    "# overall intensity.\n",
    "\n",
    "# newimg= IFFT((FFT(image)*BLUR[p]))\n",
    "\n",
    "from cmath import exp,pi\n",
    "from random import random\n",
    "\n",
    "def blur(p):\n",
    "    return (exp(2*pi*1j*random()*p))"
   ]
  },
  {
   "cell_type": "code",
   "execution_count": 18,
   "id": "9bf41508",
   "metadata": {},
   "outputs": [],
   "source": [
    "# Get an image\n",
    "image_index=8888\n",
    "istart=x_test[image_index].reshape(28, 28)\n",
    "istart=cp.array(istart)"
   ]
  },
  {
   "cell_type": "code",
   "execution_count": 19,
   "id": "ed201a06",
   "metadata": {},
   "outputs": [],
   "source": [
    "# Set our blur values\n",
    "pvals=[0.0,0.01,0.02,0.04,0.08,0.10,0.15,0.20,0.25,0.30,0.35,0.40,0.45,0.50,0.55,0.60,0.65,0.70,0.75,0.80]"
   ]
  },
  {
   "cell_type": "code",
   "execution_count": 20,
   "id": "6bdb509b",
   "metadata": {},
   "outputs": [],
   "source": [
    "# Convert it to Fourier space\n",
    "# It is useful to have two copies\n",
    "fspace=cp.fft.fft2(istart)\n",
    "ospace=cp.fft.fft2(istart)"
   ]
  },
  {
   "cell_type": "code",
   "execution_count": 21,
   "id": "e58865a8",
   "metadata": {},
   "outputs": [
    {
     "data": {
      "image/png": "[encoded data removed]",
      "text/plain": [
       "<Figure size 432x288 with 1 Axes>"
      ]
     },
     "metadata": {
      "needs_background": "light"
     },
     "output_type": "display_data"
    },
    {
     "name": "stdout",
     "output_type": "stream",
     "text": [
      "blur= 0.0  0.000 0.000 0.000 0.000 0.000 0.000 1.000 0.000 0.000 0.000 selected= 6\n"
     ]
    },
    {
     "data": {
      "image/png": "[encoded data removed]",
      "text/plain": [
       "<Figure size 432x288 with 1 Axes>"
      ]
     },
     "metadata": {
      "needs_background": "light"
     },
     "output_type": "display_data"
    },
    {
     "name": "stdout",
     "output_type": "stream",
     "text": [
      "blur= 0.01  0.000 0.000 0.000 0.000 0.000 0.000 1.000 0.000 0.000 0.000 selected= 6\n"
     ]
    },
    {
     "data": {
      "image/png": "[encoded data removed]",
      "text/plain": [
       "<Figure size 432x288 with 1 Axes>"
      ]
     },
     "metadata": {
      "needs_background": "light"
     },
     "output_type": "display_data"
    },
    {
     "name": "stdout",
     "output_type": "stream",
     "text": [
      "blur= 0.02  0.000 0.000 0.000 0.000 0.000 0.000 1.000 0.000 0.000 0.000 selected= 6\n"
     ]
    },
    {
     "data": {
      "image/png": "[encoded data removed]",
      "text/plain": [
       "<Figure size 432x288 with 1 Axes>"
      ]
     },
     "metadata": {
      "needs_background": "light"
     },
     "output_type": "display_data"
    },
    {
     "name": "stdout",
     "output_type": "stream",
     "text": [
      "blur= 0.04  0.000 0.000 0.000 0.000 0.000 0.000 1.000 0.000 0.000 0.000 selected= 6\n"
     ]
    },
    {
     "data": {
      "image/png": "[encoded data removed]",
      "text/plain": [
       "<Figure size 432x288 with 1 Axes>"
      ]
     },
     "metadata": {
      "needs_background": "light"
     },
     "output_type": "display_data"
    },
    {
     "name": "stdout",
     "output_type": "stream",
     "text": [
      "blur= 0.08  0.000 0.000 0.000 0.000 0.000 0.000 1.000 0.000 0.000 0.000 selected= 6\n"
     ]
    },
    {
     "data": {
      "image/png": "[encoded data removed]",
      "text/plain": [
       "<Figure size 432x288 with 1 Axes>"
      ]
     },
     "metadata": {
      "needs_background": "light"
     },
     "output_type": "display_data"
    },
    {
     "name": "stdout",
     "output_type": "stream",
     "text": [
      "blur= 0.1  0.000 0.000 0.000 0.000 0.000 0.000 1.000 0.000 0.000 0.000 selected= 6\n"
     ]
    },
    {
     "data": {
      "image/png": "[encoded data removed]",
      "text/plain": [
       "<Figure size 432x288 with 1 Axes>"
      ]
     },
     "metadata": {
      "needs_background": "light"
     },
     "output_type": "display_data"
    },
    {
     "name": "stdout",
     "output_type": "stream",
     "text": [
      "blur= 0.15  0.000 0.000 0.000 0.000 0.000 0.000 1.000 0.000 0.000 0.000 selected= 6\n"
     ]
    },
    {
     "data": {
      "image/png": "[encoded data removed]",
      "text/plain": [
       "<Figure size 432x288 with 1 Axes>"
      ]
     },
     "metadata": {
      "needs_background": "light"
     },
     "output_type": "display_data"
    },
    {
     "name": "stdout",
     "output_type": "stream",
     "text": [
      "blur= 0.2  0.000 0.000 0.000 0.000 0.000 0.000 1.000 0.000 0.000 0.000 selected= 6\n"
     ]
    },
    {
     "data": {
      "image/png": "[encoded data removed]",
      "text/plain": [
       "<Figure size 432x288 with 1 Axes>"
      ]
     },
     "metadata": {
      "needs_background": "light"
     },
     "output_type": "display_data"
    },
    {
     "name": "stdout",
     "output_type": "stream",
     "text": [
      "blur= 0.25  0.000 0.000 0.000 0.000 0.000 0.000 1.000 0.000 0.000 0.000 selected= 6\n"
     ]
    },
    {
     "data": {
      "image/png": "[encoded data removed]",
      "text/plain": [
       "<Figure size 432x288 with 1 Axes>"
      ]
     },
     "metadata": {
      "needs_background": "light"
     },
     "output_type": "display_data"
    },
    {
     "name": "stdout",
     "output_type": "stream",
     "text": [
      "blur= 0.3  0.000 0.000 0.000 0.000 0.000 0.000 1.000 0.000 0.000 0.000 selected= 6\n"
     ]
    },
    {
     "data": {
      "image/png": "[encoded data removed]",
      "text/plain": [
       "<Figure size 432x288 with 1 Axes>"
      ]
     },
     "metadata": {
      "needs_background": "light"
     },
     "output_type": "display_data"
    },
    {
     "name": "stdout",
     "output_type": "stream",
     "text": [
      "blur= 0.35  0.000 0.000 0.000 0.000 0.000 0.002 0.998 0.000 0.000 0.000 selected= 6\n"
     ]
    },
    {
     "data": {
      "image/png": "[encoded data removed]",
      "text/plain": [
       "<Figure size 432x288 with 1 Axes>"
      ]
     },
     "metadata": {
      "needs_background": "light"
     },
     "output_type": "display_data"
    },
    {
     "name": "stdout",
     "output_type": "stream",
     "text": [
      "blur= 0.4  0.000 0.000 0.000 0.000 0.000 0.001 0.999 0.000 0.000 0.000 selected= 6\n"
     ]
    },
    {
     "data": {
      "image/png": "[encoded data removed]",
      "text/plain": [
       "<Figure size 432x288 with 1 Axes>"
      ]
     },
     "metadata": {
      "needs_background": "light"
     },
     "output_type": "display_data"
    },
    {
     "name": "stdout",
     "output_type": "stream",
     "text": [
      "blur= 0.45  0.000 0.000 0.000 0.000 0.000 0.003 0.176 0.000 0.821 0.000 selected= 8\n"
     ]
    },
    {
     "data": {
      "image/png": "[encoded data removed]",
      "text/plain": [
       "<Figure size 432x288 with 1 Axes>"
      ]
     },
     "metadata": {
      "needs_background": "light"
     },
     "output_type": "display_data"
    },
    {
     "name": "stdout",
     "output_type": "stream",
     "text": [
      "blur= 0.5  0.000 0.000 0.000 0.000 0.000 0.002 0.995 0.000 0.003 0.000 selected= 6\n"
     ]
    },
    {
     "data": {
      "image/png": "[encoded data removed]",
      "text/plain": [
       "<Figure size 432x288 with 1 Axes>"
      ]
     },
     "metadata": {
      "needs_background": "light"
     },
     "output_type": "display_data"
    },
    {
     "name": "stdout",
     "output_type": "stream",
     "text": [
      "blur= 0.55  0.000 0.000 0.000 0.000 0.000 0.000 1.000 0.000 0.000 0.000 selected= 6\n"
     ]
    },
    {
     "data": {
      "image/png": "[encoded data removed]",
      "text/plain": [
       "<Figure size 432x288 with 1 Axes>"
      ]
     },
     "metadata": {
      "needs_background": "light"
     },
     "output_type": "display_data"
    },
    {
     "name": "stdout",
     "output_type": "stream",
     "text": [
      "blur= 0.6  0.000 0.000 0.000 0.001 0.000 0.999 0.000 0.000 0.000 0.000 selected= 5\n"
     ]
    },
    {
     "data": {
      "image/png": "[encoded data removed]",
      "text/plain": [
       "<Figure size 432x288 with 1 Axes>"
      ]
     },
     "metadata": {
      "needs_background": "light"
     },
     "output_type": "display_data"
    },
    {
     "name": "stdout",
     "output_type": "stream",
     "text": [
      "blur= 0.65  0.000 0.002 0.694 0.304 0.000 0.000 0.000 0.000 0.000 0.000 selected= 2\n"
     ]
    },
    {
     "data": {
      "image/png": "[encoded data removed]",
      "text/plain": [
       "<Figure size 432x288 with 1 Axes>"
      ]
     },
     "metadata": {
      "needs_background": "light"
     },
     "output_type": "display_data"
    },
    {
     "name": "stdout",
     "output_type": "stream",
     "text": [
      "blur= 0.7  0.000 0.000 0.000 0.000 0.014 0.233 0.000 0.000 0.000 0.753 selected= 9\n"
     ]
    },
    {
     "data": {
      "image/png": "[encoded data removed]",
      "text/plain": [
       "<Figure size 432x288 with 1 Axes>"
      ]
     },
     "metadata": {
      "needs_background": "light"
     },
     "output_type": "display_data"
    },
    {
     "name": "stdout",
     "output_type": "stream",
     "text": [
      "blur= 0.75  0.172 0.000 0.000 0.137 0.003 0.023 0.007 0.546 0.054 0.058 selected= 7\n"
     ]
    },
    {
     "data": {
      "image/png": "[encoded data removed]",
      "text/plain": [
       "<Figure size 432x288 with 1 Axes>"
      ]
     },
     "metadata": {
      "needs_background": "light"
     },
     "output_type": "display_data"
    },
    {
     "name": "stdout",
     "output_type": "stream",
     "text": [
      "blur= 0.8  0.000 0.000 0.000 0.067 0.915 0.000 0.000 0.002 0.000 0.016 selected= 4\n"
     ]
    }
   ],
   "source": [
    "for p in pvals:\n",
    "    for nx in range(0,28):\n",
    "        for ny in range(0,28):\n",
    "            fspace[nx,ny]=ospace[nx,ny]*blur(p)\n",
    "            newimg=cp.fft.ifft2(fspace)\n",
    "            newimg=newimg.get()\n",
    "            newimg=abs(newimg)\n",
    "    plt.imshow(newimg,cmap='Greys')\n",
    "    #plt.imshow(newimg)\n",
    "\n",
    "\n",
    "    plt.show()\n",
    "    pred = model.predict(newimg.reshape(1, 28, 28, 1))\n",
    "    print(\"blur=\",p,end=\" \")\n",
    "    digits=pred[0]\n",
    "    for d in digits:\n",
    "        print(\"%6.3f\" % (d),end=\"\")\n",
    "    print(\" selected=\",pred.argmax())"
   ]
  },
  {
   "cell_type": "markdown",
   "id": "5ced0f4d",
   "metadata": {},
   "source": [
    "### script to create the environment with cuda-11, tensorflow 2.4.0, horovod 0.21.3, cupy 9.0.0\n"
   ]
  },
  {
   "cell_type": "code",
   "execution_count": 23,
   "id": "a412d036",
   "metadata": {},
   "outputs": [
    {
     "name": "stdout",
     "output_type": "stream",
     "text": [
      "CWD=`pwd`\r\n",
      "export MYVERSION=may12\r\n",
      "#BASEDIR=/scratch/$USER\r\n",
      "BASEDIR=/projects/hpcapps/tkaiser\r\n",
      "#cd ~\r\n",
      "module load conda 2> /dev/null || echo \"module load conda failed\"\r\n",
      "#conda create -p $BASEDIR/exampleenv --name $MYVERSION python=3.8 jupyter matplotlib scipy pandas xlwt dask -y\r\n",
      "conda create -p $BASEDIR/$MYVERSION python=3.8 jupyter matplotlib scipy pandas xlwt dask -y\r\n",
      "\r\n",
      "### Don't do conda init\r\n",
      "### Just do source activate\r\n",
      "source activate \r\n",
      "source activate $BASEDIR/$MYVERSION\r\n",
      "\r\n",
      "which pip\r\n",
      "which python\r\n",
      "\r\n",
      "### Install mpi4py\r\n",
      "#module load intel-mpi/2020.1.217  2> /dev/null || echo \"module load mpi failed\"\r\n",
      "module load mpt  2> /dev/null || echo \"module load mpi failed\"\r\n",
      "module load gcc/8.4.0  2> /dev/null || echo \"module load gcc failed\"\r\n",
      "pip --no-cache-dir install mpi4py\r\n",
      "\r\n",
      "\r\n",
      "### Install slurm magic commands \r\n",
      "pip install git+git://github.com/NERSC/slurm-magic.git\r\n",
      "\r\n",
      "\r\n",
      "if [ ! -e libcusolver.so.10  ] ; then\r\n",
      " ln -s /nopt/nrel/apps/cuda/11.2/targets/x86_64-linux/lib/libcusolver.so libcusolver.so.10\r\n",
      " fi\r\n",
      "\r\n",
      "ml cuda/11.2   cudnn/8.1.1/cuda-11.2   gcc/8.4.0\r\n",
      "\r\n",
      "\r\n",
      "\r\n",
      "pip --no-cache-dir install tensorflow==2.4.0\r\n",
      "pip --no-cache-dir install tensorflow-gpu==2.4.0\r\n",
      "pip --no-cache-dir install horovod[tensorflow]==0.21.3\r\n",
      "\r\n",
      "export CFLAGS=-L/nopt/nrel/apps/cuda/11.2/targets/x86_64-linux/lib\r\n",
      "export LDFLAGS=\"-L/nopt/nrel/apps/cuda/11.2/targets/x86_64-linux/lib -L/nopt/nrel/apps/cuda/11.2/compat\"\r\n",
      "export LIBRARY_PATH=/nopt/nrel/apps/cuda/11.2/targets/x86_64-linux/lib:/nopt/nrel/apps/base/2020-05-12/spack/opt/spack/linux-centos7-x86_64/gcc-4.8.5/gcc-6.5.0-aov4u2ocxtqf4bwif4hc7sga4cvccpxm/lib64:/nopt/nrel/apps/base/2020-05-12/spack/opt/spack/linux-centos\r\n",
      "export LD_LIBRARY_PATH=/nopt/nrel/apps/cuda/11.2/targets/x86_64-linux/lib:/nopt/nrel/apps/base/2020-05-12/spack/opt/spack/linux-centos7-x86_64/gcc-4.8.5/gcc-6.5.0-aov4u2ocxtqf4bwif4hc7sga4cvccpxm/lib64:/nopt/nrel/apps/base/2020-05-12/spack/opt/spack/linux-centos7-x86_64/gcc-4.8.5/gcc-6.5.0-aov4u2ocxtqf4bwif4hc7sga4cvccpxm/lib:/nopt/nrel/apps/cudnn/8.1.1-cuda-11.2/lib64:/nopt/nrel/apps/cuda/11.2/lib64:/nopt/mpi/mpt-2.23/lib:/home/tkaiser2/libs/zlib-1.2.11/lib:/home/tkaiser2/libs/bzip2-1.0.8/lib:/home/tkaiser2/bin/jdk-13.0.1/lib:/nopt/slurm/current/lib::\r\n",
      "\r\n",
      "\r\n",
      "pip --no-cache-dir install cupy\r\n",
      "\r\n"
     ]
    }
   ],
   "source": [
    "cat makeit"
   ]
  },
  {
   "cell_type": "markdown",
   "id": "9ebcd617",
   "metadata": {},
   "source": [
    "### start the notebook"
   ]
  },
  {
   "cell_type": "code",
   "execution_count": 26,
   "id": "685e8b3a",
   "metadata": {},
   "outputs": [
    {
     "name": "stdout",
     "output_type": "stream",
     "text": [
      "#!/bin/bash\r\n",
      "#SBATCH --job-name=\"jupyter\"\r\n",
      "#SBATCH --nodes=1\r\n",
      "#SBATCH --account=hpcapps\r\n",
      "#SBATCH --time=01:00:00\r\n",
      "#SBATCH --gpus-per-node=2 \r\n",
      "#SBATCH --partition=debug\r\n",
      "\r\n",
      "\r\n",
      "export BASEDIR=/projects/hpcapps/tkaiser\r\n",
      "export MYVERSION=may12\r\n",
      "\r\n",
      "module load conda\r\n",
      "module load mpt\r\n",
      "module load cuda/11.2   cudnn/8.1.1/cuda-11.2   gcc/8.4.0\r\n",
      "\r\n",
      "### Don't do conda init\r\n",
      "### Just do source activate\r\n",
      "source activate \r\n",
      "source activate $BASEDIR/$MYVERSION\r\n",
      "\r\n",
      "\r\n",
      "#export LD_LIBRARY_PATH=/nopt/nrel/apps/cuda/11.2/targets/x86_64-linux/lib:/nopt/nrel/apps/base/2020-05-12/spack/opt/spack/linux-centos7-x86_64/gcc-4.8.5/gcc-6.5.0-aov4u2ocxtqf4bwif4hc7sga4cvccpxm/lib64:/nopt/nrel/apps/base/2020-05-12/spack/opt/spack/linux-centos7-x86_64/gcc-4.8.5/gcc-6.5.0-aov4u2ocxtqf4bwif4hc7sga4cvccpxm/lib:/nopt/nrel/apps/cudnn/8.1.1-cuda-11.2/lib64:/nopt/nrel/apps/cuda/11.2/lib64:/nopt/mpi/mpt-2.23/lib:/home/tkaiser2/libs/zlib-1.2.11/lib:/home/tkaiser2/libs/bzip2-1.0.8/lib:/home/tkaiser2/bin/jdk-13.0.1/lib:/nopt/slurm/current/lib::\r\n",
      "\r\n",
      "export LD_LIBRARY_PATH=/nopt/nrel/apps/cuda/11.2/targets/x86_64-linux/lib:/nopt/nrel/apps/base/2020-05-12/spack/opt/spack/linux-centos7-x86_64/gcc-4.8.5/gcc-6.5.0-aov4u2ocxtqf4bwif4hc7sga4cvccpxm/lib64:/nopt/nrel/apps/base/2020-05-12/spack/opt/spack/linux-centos7-x86_64/gcc-4.8.5/gcc-6.5.0-aov4u2ocxtqf4bwif4hc7sga4cvccpxm/lib:/nopt/nrel/apps/cudnn/8.1.1-cuda-11.2/lib64:/nopt/nrel/apps/cuda/11.2/lib64:/nopt/mpi/mpt-2.23/lib:/nopt/slurm/current/lib::\r\n",
      "\r\n",
      "\r\n",
      "\r\n",
      "date      > ~/jupyter.log\r\n",
      "hostname >> ~/jupyter.log\r\n",
      "jupyter notebook --NotebookApp.password='' --no-browser  >> ~/jupyter.log 2>&1\r\n"
     ]
    }
   ],
   "source": [
    "cat launch12"
   ]
  },
  {
   "cell_type": "code",
   "execution_count": 22,
   "id": "61649ddd",
   "metadata": {},
   "outputs": [
    {
     "name": "stdout",
     "output_type": "stream",
     "text": [
      "Wed May 12 08:46:04 MDT 2021\r\n"
     ]
    }
   ],
   "source": [
    "!date"
   ]
  },
  {
   "cell_type": "markdown",
   "id": "fb1caf95",
   "metadata": {},
   "source": [
    "### Another way to start a notebook\n",
    "- we run salloc to get a node\n",
    "- ssh to our node\n",
    "- run a script to set up our environment and start jupyter \n",
    "\n",
    "```\n",
    "\n",
    "(/home/tkaiser2/.conda-envs/apr22) el3:newdriver> salloc  --x11 --account=hpcapps --time=1:00:00 --ntasks=8 --cpus-per-task=4 --nodes=1 --gres=gpu:2  --reservation=cuda_testing bash\n",
    "salloc: Pending job allocation 6706234\n",
    "salloc: job 6706234 queued and waiting for resources\n",
    "salloc: job 6706234 has been allocated resources\n",
    "salloc: Granted job allocation 6706234\n",
    "el3:newdriver> sq\n",
    "JOBID             TIME_LIMIT     TIME_LEFT      NODES START_TIME          PARTITION      REASON         SUBMIT_TIME         NODELIST\n",
    "6706234           1:00:00        59:47          1     2021-04-22T11:55:02 gpu            None           2021-04-22T11:54:56 r103u15\n",
    "el3:newdriver> ssh r103u15\n",
    "Last login: Thu Apr 22 10:44:28 2021 from el2.ib0.cm.hpc.nrel.gov\n",
    "r103u15:~> cd newdriver/\n",
    "r103u15:newdriver> . dojup2x\n",
    "\n",
    "```"
   ]
  },
  {
   "cell_type": "code",
   "execution_count": null,
   "id": "e32a8491",
   "metadata": {},
   "outputs": [],
   "source": []
  }
 ],
 "metadata": {
  "kernelspec": {
   "display_name": "Python 3",
   "language": "python",
   "name": "python3"
  },
  "language_info": {
   "codemirror_mode": {
    "name": "ipython",
    "version": 3
   },
   "file_extension": ".py",
   "mimetype": "text/x-python",
   "name": "python",
   "nbconvert_exporter": "python",
   "pygments_lexer": "ipython3",
   "version": "3.8.8"
  }
 },
 "nbformat": 4,
 "nbformat_minor": 5
}
