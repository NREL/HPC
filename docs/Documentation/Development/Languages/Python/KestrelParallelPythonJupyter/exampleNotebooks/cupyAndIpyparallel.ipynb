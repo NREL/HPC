{
 "cells": [
  {
   "cell_type": "code",
   "execution_count": 1,
   "id": "a880d8b0-d919-463e-b4dc-402c23493efc",
   "metadata": {},
   "outputs": [],
   "source": [
    "numberOfNodes=2\n",
    "import mpi4py\n",
    "import os\n",
    "import ipyparallel as ipp"
   ]
  },
  {
   "cell_type": "code",
   "execution_count": 2,
   "id": "127dc93e-1745-49d8-a9e1-2351ed0092b4",
   "metadata": {},
   "outputs": [
    {
     "name": "stdout",
     "output_type": "stream",
     "text": [
      "Starting 2 engines with <class 'ipyparallel.cluster.launcher.MPIEngineSetLauncher'>\n"
     ]
    },
    {
     "data": {
      "application/vnd.jupyter.widget-view+json": {
       "model_id": "2c038b444550464b9ae0ccf07a6307b4",
       "version_major": 2,
       "version_minor": 0
      },
      "text/plain": [
       "  0%|          | 0/2 [00:00<?, ?engine/s]"
      ]
     },
     "metadata": {},
     "output_type": "display_data"
    }
   ],
   "source": [
    "cluster = ipp.Cluster(engines=\"mpi\", n=numberOfNodes,controller_ip='*')\n",
    "rc = cluster.start_and_connect_sync()"
   ]
  },
  {
   "cell_type": "code",
   "execution_count": 3,
   "id": "5ee27e14-31e3-46ed-a083-f99ad32410da",
   "metadata": {},
   "outputs": [
    {
     "data": {
      "text/plain": [
       "[0, 1]"
      ]
     },
     "execution_count": 3,
     "metadata": {},
     "output_type": "execute_result"
    }
   ],
   "source": [
    "rc.wait_for_engines(n=numberOfNodes)\n",
    "dview=rc[:]\n",
    "rc.ids"
   ]
  },
  {
   "cell_type": "code",
   "execution_count": 4,
   "id": "e1216bef-49eb-4c6f-8ef5-2ae3a6eb499d",
   "metadata": {},
   "outputs": [
    {
     "data": {
      "text/plain": [
       "[stdout:0] x3100c0s21b0n0\n"
      ]
     },
     "metadata": {},
     "output_type": "display_data"
    },
    {
     "data": {
      "text/plain": [
       "[stdout:1] x3101c0s13b0n0\n"
      ]
     },
     "metadata": {},
     "output_type": "display_data"
    }
   ],
   "source": [
    "%%px --target 0:2\n",
    "#%%px --target 0:1\n",
    "import os, socket\n",
    "#print(os.getpid())\n",
    "print(socket.gethostname())"
   ]
  },
  {
   "cell_type": "code",
   "execution_count": 5,
   "id": "3247f8c5-dea9-4bfa-8ba7-e14f920b2fa0",
   "metadata": {},
   "outputs": [
    {
     "data": {
      "text/plain": [
       "[stdout:0] Process 0 sent data: [[[[-0.00705688  0.1574703 ]\n",
       "   [-0.11614565 -1.36530107]]\n",
       "\n",
       "  [[ 1.9377235   0.19872024]\n",
       "   [ 0.20897026  1.86760844]]]\n",
       "\n",
       "\n",
       " [[[-1.19135132  1.44246809]\n",
       "   [-1.49924247  0.45127102]]\n",
       "\n",
       "  [[ 1.77763836  0.49243783]\n",
       "   [-0.4570443   0.96459175]]]]\n"
      ]
     },
     "metadata": {},
     "output_type": "display_data"
    },
    {
     "data": {
      "text/plain": [
       "[stdout:1] Process 1 received data: [[[[-0.00705688  0.1574703 ]\n",
       "   [-0.11614565 -1.36530107]]\n",
       "\n",
       "  [[ 1.9377235   0.19872024]\n",
       "   [ 0.20897026  1.86760844]]]\n",
       "\n",
       "\n",
       " [[[-1.19135132  1.44246809]\n",
       "   [-1.49924247  0.45127102]]\n",
       "\n",
       "  [[ 1.77763836  0.49243783]\n",
       "   [-0.4570443   0.96459175]]]]\n"
      ]
     },
     "metadata": {},
     "output_type": "display_data"
    }
   ],
   "source": [
    "%%px\n",
    "from mpi4py import MPI\n",
    "\n",
    "useGPU=False\n",
    "\n",
    "if useGPU:\n",
    "    import cupy as cp\n",
    "else:\n",
    "    import numpy as cp\n",
    "\n",
    "comm = MPI.COMM_WORLD\n",
    "size = comm.Get_size()\n",
    "rank = comm.Get_rank()\n",
    "\n",
    "if rank == 0:\n",
    "    N=2\n",
    "    data = cp.random.randn(N,N,N,N)\n",
    "    comm.send(data, dest=1, tag=42)\n",
    "    print('Process {} sent data:'.format(rank), data)\n",
    "    \n",
    "elif rank == 1:\n",
    "    data = comm.recv(source=0, tag=42)\n",
    "    print('Process {} received data:'.format(rank), data)"
   ]
  },
  {
   "cell_type": "code",
   "execution_count": null,
   "id": "d47a47d6-b7f0-4e5d-a8ba-37649d805a10",
   "metadata": {},
   "outputs": [],
   "source": []
  }
 ],
 "metadata": {
  "kernelspec": {
   "display_name": "myEnvJupyter",
   "language": "python",
   "name": "myenvjupyter"
  },
  "language_info": {
   "codemirror_mode": {
    "name": "ipython",
    "version": 3
   },
   "file_extension": ".py",
   "mimetype": "text/x-python",
   "name": "python",
   "nbconvert_exporter": "python",
   "pygments_lexer": "ipython3",
   "version": "3.12.8"
  }
 },
 "nbformat": 4,
 "nbformat_minor": 5
}
