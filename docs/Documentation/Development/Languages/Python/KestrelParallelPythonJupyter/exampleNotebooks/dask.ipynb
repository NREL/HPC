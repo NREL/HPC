{
 "cells": [
  {
   "cell_type": "code",
   "execution_count": 1,
   "id": "e71d7594-57ee-4e89-b75e-64e14027b85b",
   "metadata": {},
   "outputs": [],
   "source": [
    "import dask\n",
    "import time"
   ]
  },
  {
   "cell_type": "code",
   "execution_count": 2,
   "id": "6d395d05-2769-46fd-9bcb-f2bb17a48dce",
   "metadata": {},
   "outputs": [],
   "source": [
    "def square(n):\n",
    "    time.sleep(1)\n",
    "    return n * n\n",
    "    \n",
    "def add(m, n):\n",
    "    time.sleep(1)\n",
    "    return m + n"
   ]
  },
  {
   "cell_type": "code",
   "execution_count": 3,
   "id": "131eb7df-17bf-496e-890b-ad70e1c85222",
   "metadata": {},
   "outputs": [
    {
     "name": "stdout",
     "output_type": "stream",
     "text": [
      "CPU times: user 575 μs, sys: 238 μs, total: 813 μs\n",
      "Wall time: 3 s\n"
     ]
    }
   ],
   "source": [
    "%%time \n",
    "\n",
    "x = square(1)\n",
    "y = square(2)\n",
    "z = add(x, y)"
   ]
  },
  {
   "cell_type": "code",
   "execution_count": 4,
   "id": "78f7f49e-4020-46bf-9f00-325e1dfc98e4",
   "metadata": {},
   "outputs": [],
   "source": [
    "x = dask.delayed(square)(1)\n",
    "y = dask.delayed(square)(2)\n",
    "z = dask.delayed(add)(x, y)"
   ]
  },
  {
   "cell_type": "code",
   "execution_count": 5,
   "id": "b3252898-90a0-4726-95f6-a7993e0ce9ed",
   "metadata": {},
   "outputs": [],
   "source": [
    "#z.visualize(rankdir='LR')"
   ]
  },
  {
   "cell_type": "code",
   "execution_count": 6,
   "id": "383acc4d-9678-41fd-9086-ceae7dc54bfa",
   "metadata": {},
   "outputs": [
    {
     "name": "stdout",
     "output_type": "stream",
     "text": [
      "CPU times: user 13.2 s, sys: 52.4 ms, total: 13.3 s\n",
      "Wall time: 2.24 s\n"
     ]
    },
    {
     "data": {
      "text/plain": [
       "5"
      ]
     },
     "execution_count": 6,
     "metadata": {},
     "output_type": "execute_result"
    }
   ],
   "source": [
    "%%time\n",
    "z.compute()"
   ]
  },
  {
   "cell_type": "code",
   "execution_count": 7,
   "id": "a653bb4e-681c-488e-b12c-c847ec86e193",
   "metadata": {},
   "outputs": [
    {
     "name": "stdout",
     "output_type": "stream",
     "text": [
      "CPU times: user 3.69 ms, sys: 2.01 ms, total: 5.7 ms\n",
      "Wall time: 1min 40s\n"
     ]
    }
   ],
   "source": [
    "%%time\n",
    "\n",
    "x = [square(i) for i in range(100)]\n",
    "y = sum(x)"
   ]
  },
  {
   "cell_type": "code",
   "execution_count": 8,
   "id": "374cb747-fd77-45ee-9794-2223f8480a6b",
   "metadata": {},
   "outputs": [],
   "source": [
    "x = [dask.delayed(square)(i) for i in range(100)]\n",
    "y = dask.delayed(sum)(x)"
   ]
  },
  {
   "cell_type": "code",
   "execution_count": 9,
   "id": "d68b1a46-0194-4dec-a517-c51dcaaa5abe",
   "metadata": {},
   "outputs": [
    {
     "name": "stdout",
     "output_type": "stream",
     "text": [
      "CPU times: user 10.5 ms, sys: 31 ms, total: 41.5 ms\n",
      "Wall time: 1.04 s\n"
     ]
    },
    {
     "data": {
      "text/plain": [
       "328350"
      ]
     },
     "execution_count": 9,
     "metadata": {},
     "output_type": "execute_result"
    }
   ],
   "source": [
    "%%time\n",
    "\n",
    "y.compute()"
   ]
  },
  {
   "cell_type": "code",
   "execution_count": null,
   "id": "9891b6ad-2e1b-44db-b43c-7a0341b248ae",
   "metadata": {},
   "outputs": [],
   "source": []
  },
  {
   "cell_type": "code",
   "execution_count": null,
   "id": "ddfd0557-5ecc-4957-b2c0-9b1a1a0381d1",
   "metadata": {},
   "outputs": [],
   "source": []
  }
 ],
 "metadata": {
  "kernelspec": {
   "display_name": "myEnvJupyter",
   "language": "python",
   "name": "myenvjupyter"
  },
  "language_info": {
   "codemirror_mode": {
    "name": "ipython",
    "version": 3
   },
   "file_extension": ".py",
   "mimetype": "text/x-python",
   "name": "python",
   "nbconvert_exporter": "python",
   "pygments_lexer": "ipython3",
   "version": "3.12.8"
  }
 },
 "nbformat": 4,
 "nbformat_minor": 5
}
