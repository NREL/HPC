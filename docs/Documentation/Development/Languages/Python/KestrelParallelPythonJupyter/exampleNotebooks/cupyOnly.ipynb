{
 "cells": [
  {
   "cell_type": "code",
   "execution_count": 1,
   "id": "b173f1c1-467b-415b-8ee4-99257830d74b",
   "metadata": {},
   "outputs": [],
   "source": [
    "import numpy as np\n",
    "import cupy as cp\n",
    "from cupyx.profiler import benchmark"
   ]
  },
  {
   "cell_type": "code",
   "execution_count": 2,
   "id": "9282ca52-03a7-41f9-8074-15fb457b6894",
   "metadata": {},
   "outputs": [],
   "source": [
    "def my_func(a, b):\n",
    "    return cp.pi * cp.sin(-a) * cp.exp(b)"
   ]
  },
  {
   "cell_type": "code",
   "execution_count": 3,
   "id": "be231d9e-90f5-4a5a-b49c-58de8c9271c6",
   "metadata": {},
   "outputs": [
    {
     "name": "stdout",
     "output_type": "stream",
     "text": [
      "my_func             :    CPU:    36.410 us   +/-  5.270 (min:    34.873 / max:  1140.029) us     GPU-0:    94.612 us   +/-  4.973 (min:    91.424 / max:  1172.864) us\n"
     ]
    }
   ],
   "source": [
    "a = cp.random.random((2560, 1024))\n",
    "b = cp.random.random((2560, 1024))\n",
    "print(benchmark(my_func, (a,b), n_repeat=100000))"
   ]
  },
  {
   "cell_type": "code",
   "execution_count": 4,
   "id": "798d1913-b406-4629-aecf-988134d3b650",
   "metadata": {},
   "outputs": [],
   "source": [
    "np_rng = np.random.default_rng()\n",
    "\n",
    "A_cpu = np_rng.random((1000, 1000))\n",
    "b_cpu = np_rng.random(1000)\n",
    "\n",
    "A_gpu = cp.array(A_cpu)\n",
    "b_gpu = cp.array(b_cpu)"
   ]
  },
  {
   "cell_type": "code",
   "execution_count": 5,
   "id": "cad205a2-9ba1-4740-9182-57b82af9baf6",
   "metadata": {},
   "outputs": [
    {
     "name": "stdout",
     "output_type": "stream",
     "text": [
      "17.6 ms ± 62.1 μs per loop (mean ± std. dev. of 7 runs, 100 loops each)\n"
     ]
    }
   ],
   "source": [
    "%%timeit\n",
    "np.linalg.solve(A_cpu, b_cpu)"
   ]
  },
  {
   "cell_type": "code",
   "execution_count": 6,
   "id": "a8d96215-9b1f-4999-ab3e-cc926bb3284c",
   "metadata": {},
   "outputs": [
    {
     "name": "stdout",
     "output_type": "stream",
     "text": [
      "2.49 ms ± 268 ns per loop (mean ± std. dev. of 7 runs, 100 loops each)\n"
     ]
    }
   ],
   "source": [
    "%%timeit\n",
    "cp.linalg.solve(A_gpu, b_gpu)"
   ]
  },
  {
   "cell_type": "code",
   "execution_count": 7,
   "id": "042864d2-c29c-4be0-8779-935d25759072",
   "metadata": {},
   "outputs": [
    {
     "name": "stdout",
     "output_type": "stream",
     "text": [
      "Type of CPU array is: <class 'numpy.ndarray'>\n"
     ]
    }
   ],
   "source": [
    "x_gpu = cp.ones((1000, 1000))\n",
    "x_cpu = x_gpu.get()\n",
    "print(f'Type of CPU array is: {type(x_cpu)}')"
   ]
  },
  {
   "cell_type": "code",
   "execution_count": null,
   "id": "5beba59f-8d17-437d-a2f6-f8bbab28c6fd",
   "metadata": {},
   "outputs": [],
   "source": []
  }
 ],
 "metadata": {
  "kernelspec": {
   "display_name": "myEnvJupyter",
   "language": "python",
   "name": "myenvjupyter"
  },
  "language_info": {
   "codemirror_mode": {
    "name": "ipython",
    "version": 3
   },
   "file_extension": ".py",
   "mimetype": "text/x-python",
   "name": "python",
   "nbconvert_exporter": "python",
   "pygments_lexer": "ipython3",
   "version": "3.12.8"
  }
 },
 "nbformat": 4,
 "nbformat_minor": 5
}
