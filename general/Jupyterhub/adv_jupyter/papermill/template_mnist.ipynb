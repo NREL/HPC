{
 "cells": [
  {
   "cell_type": "code",
   "execution_count": 1,
   "id": "proper-presence",
   "metadata": {},
   "outputs": [],
   "source": [
    "import tensorflow as tf\n",
    "import matplotlib.pyplot as plt\n",
    "(x_train, y_train), (x_test, y_test) = tf.keras.datasets.mnist.load_data()\n",
    "model = tf.keras.models.load_model('tfmodel')"
   ]
  },
  {
   "cell_type": "code",
   "execution_count": 7,
   "id": "peripheral-renaissance",
   "metadata": {
    "tags": [
     "parameters"
    ]
   },
   "outputs": [],
   "source": [
    "# Variable to be overwritten by papermill\n",
    "image_index = 60"
   ]
  },
  {
   "cell_type": "code",
   "execution_count": 9,
   "id": "liberal-better",
   "metadata": {
    "scrolled": true
   },
   "outputs": [
    {
     "data": {
      "image/png": "[encoded data removed]",
      "text/plain": [
       "<Figure size 432x288 with 1 Axes>"
      ]
     },
     "metadata": {
      "needs_background": "light"
     },
     "output_type": "display_data"
    }
   ],
   "source": [
    "# Display the image of the digit which will be used for prediction\n",
    "plt.imshow(x_train[image_index], cmap='Greys')\n",
    "img = x_train[image_index]"
   ]
  },
  {
   "cell_type": "code",
   "execution_count": 10,
   "id": "detailed-carter",
   "metadata": {},
   "outputs": [
    {
     "name": "stdout",
     "output_type": "stream",
     "text": [
      "4\n"
     ]
    }
   ],
   "source": [
    "# Predict the number based on the image, and print the predicted value\n",
    "pred = model.predict(img.reshape(1, 28, 28, 1))\n",
    "print (pred.argmax())"
   ]
  }
 ],
 "metadata": {
  "celltoolbar": "Tags",
  "kernelspec": {
   "display_name": "Python 3",
   "language": "python",
   "name": "python3"
  },
  "language_info": {
   "codemirror_mode": {
    "name": "ipython",
    "version": 3
   },
   "file_extension": ".py",
   "mimetype": "text/x-python",
   "name": "python",
   "nbconvert_exporter": "python",
   "pygments_lexer": "ipython3",
   "version": "3.8.8"
  }
 },
 "nbformat": 4,
 "nbformat_minor": 5
}
