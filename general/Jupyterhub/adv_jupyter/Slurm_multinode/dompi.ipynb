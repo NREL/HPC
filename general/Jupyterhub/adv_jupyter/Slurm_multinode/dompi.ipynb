{
 "cells": [
  {
   "cell_type": "markdown",
   "id": "female-conjunction",
   "metadata": {},
   "source": [
    "# Create a mpi4py environement and run it <br>across multiple nodes\n",
    "This notebook shows how you can run MPI programs across multiple nodes<br>\n",
    "from within a notebook.  We provide a script to build  the environment and<br>\n",
    "a script to launch it.  We also provide a convience script for creating a <br>\n",
    "tunnel from your desktop machine to a compute node.\n",
    "\n",
    "We also show that you can compile mpi programs while you are in the notebook.\n",
    "\n",
    "## Note this environemnt contains the slurm magic commands, shown below."
   ]
  },
  {
   "cell_type": "code",
   "execution_count": 1,
   "id": "promising-symbol",
   "metadata": {},
   "outputs": [],
   "source": [
    "%load_ext slurm_magic"
   ]
  },
  {
   "cell_type": "code",
   "execution_count": 2,
   "id": "silver-suspension",
   "metadata": {},
   "outputs": [
    {
     "data": {
      "application/json": {
       "cell": {
        "!": "OSMagics",
        "HTML": "Other",
        "SVG": "Other",
        "bash": "Other",
        "capture": "ExecutionMagics",
        "debug": "ExecutionMagics",
        "file": "Other",
        "html": "DisplayMagics",
        "javascript": "DisplayMagics",
        "js": "DisplayMagics",
        "latex": "DisplayMagics",
        "markdown": "DisplayMagics",
        "perl": "Other",
        "prun": "ExecutionMagics",
        "pypy": "Other",
        "python": "Other",
        "python2": "Other",
        "python3": "Other",
        "ruby": "Other",
        "sbatch": "SlurmMagics",
        "script": "ScriptMagics",
        "sh": "Other",
        "svg": "DisplayMagics",
        "sx": "OSMagics",
        "system": "OSMagics",
        "time": "ExecutionMagics",
        "timeit": "ExecutionMagics",
        "writefile": "OSMagics"
       },
       "line": {
        "alias": "OSMagics",
        "alias_magic": "BasicMagics",
        "autoawait": "AsyncMagics",
        "autocall": "AutoMagics",
        "automagic": "AutoMagics",
        "autosave": "KernelMagics",
        "bookmark": "OSMagics",
        "cat": "Other",
        "cd": "OSMagics",
        "clear": "KernelMagics",
        "colors": "BasicMagics",
        "conda": "PackagingMagics",
        "config": "ConfigMagics",
        "connect_info": "KernelMagics",
        "cp": "Other",
        "debug": "ExecutionMagics",
        "dhist": "OSMagics",
        "dirs": "OSMagics",
        "doctest_mode": "BasicMagics",
        "ed": "Other",
        "edit": "KernelMagics",
        "env": "OSMagics",
        "gui": "BasicMagics",
        "hist": "Other",
        "history": "HistoryMagics",
        "killbgscripts": "ScriptMagics",
        "ldir": "Other",
        "less": "KernelMagics",
        "lf": "Other",
        "lk": "Other",
        "ll": "Other",
        "load": "CodeMagics",
        "load_ext": "ExtensionMagics",
        "loadpy": "CodeMagics",
        "logoff": "LoggingMagics",
        "logon": "LoggingMagics",
        "logstart": "LoggingMagics",
        "logstate": "LoggingMagics",
        "logstop": "LoggingMagics",
        "ls": "Other",
        "lsmagic": "BasicMagics",
        "lx": "Other",
        "macro": "ExecutionMagics",
        "magic": "BasicMagics",
        "man": "KernelMagics",
        "matplotlib": "PylabMagics",
        "mkdir": "Other",
        "more": "KernelMagics",
        "mv": "Other",
        "notebook": "BasicMagics",
        "page": "BasicMagics",
        "pastebin": "CodeMagics",
        "pdb": "ExecutionMagics",
        "pdef": "NamespaceMagics",
        "pdoc": "NamespaceMagics",
        "pfile": "NamespaceMagics",
        "pinfo": "NamespaceMagics",
        "pinfo2": "NamespaceMagics",
        "pip": "PackagingMagics",
        "popd": "OSMagics",
        "pprint": "BasicMagics",
        "precision": "BasicMagics",
        "prun": "ExecutionMagics",
        "psearch": "NamespaceMagics",
        "psource": "NamespaceMagics",
        "pushd": "OSMagics",
        "pwd": "OSMagics",
        "pycat": "OSMagics",
        "pylab": "PylabMagics",
        "qtconsole": "KernelMagics",
        "quickref": "BasicMagics",
        "recall": "HistoryMagics",
        "rehashx": "OSMagics",
        "reload_ext": "ExtensionMagics",
        "rep": "Other",
        "rerun": "HistoryMagics",
        "reset": "NamespaceMagics",
        "reset_selective": "NamespaceMagics",
        "rm": "Other",
        "rmdir": "Other",
        "run": "ExecutionMagics",
        "sacct": "SlurmMagics",
        "sacctmgr": "SlurmMagics",
        "salloc": "SlurmMagics",
        "sattach": "SlurmMagics",
        "save": "CodeMagics",
        "sbatch": "SlurmMagics",
        "sbcast": "SlurmMagics",
        "sc": "OSMagics",
        "scancel": "SlurmMagics",
        "scontrol": "SlurmMagics",
        "sdiag": "SlurmMagics",
        "set_env": "OSMagics",
        "sinfo": "SlurmMagics",
        "slurm": "SlurmMagics",
        "smap": "SlurmMagics",
        "sprio": "SlurmMagics",
        "squeue": "SlurmMagics",
        "sreport": "SlurmMagics",
        "srun": "SlurmMagics",
        "sshare": "SlurmMagics",
        "sstat": "SlurmMagics",
        "store": "StoreMagics",
        "strigger": "SlurmMagics",
        "sview": "SlurmMagics",
        "sx": "OSMagics",
        "system": "OSMagics",
        "tb": "ExecutionMagics",
        "time": "ExecutionMagics",
        "timeit": "ExecutionMagics",
        "unalias": "OSMagics",
        "unload_ext": "ExtensionMagics",
        "who": "NamespaceMagics",
        "who_ls": "NamespaceMagics",
        "whos": "NamespaceMagics",
        "xdel": "NamespaceMagics",
        "xmode": "BasicMagics"
       }
      },
      "text/plain": [
       "Available line magics:\n",
       "%alias  %alias_magic  %autoawait  %autocall  %automagic  %autosave  %bookmark  %cat  %cd  %clear  %colors  %conda  %config  %connect_info  %cp  %debug  %dhist  %dirs  %doctest_mode  %ed  %edit  %env  %gui  %hist  %history  %killbgscripts  %ldir  %less  %lf  %lk  %ll  %load  %load_ext  %loadpy  %logoff  %logon  %logstart  %logstate  %logstop  %ls  %lsmagic  %lx  %macro  %magic  %man  %matplotlib  %mkdir  %more  %mv  %notebook  %page  %pastebin  %pdb  %pdef  %pdoc  %pfile  %pinfo  %pinfo2  %pip  %popd  %pprint  %precision  %prun  %psearch  %psource  %pushd  %pwd  %pycat  %pylab  %qtconsole  %quickref  %recall  %rehashx  %reload_ext  %rep  %rerun  %reset  %reset_selective  %rm  %rmdir  %run  %sacct  %sacctmgr  %salloc  %sattach  %save  %sbatch  %sbcast  %sc  %scancel  %scontrol  %sdiag  %set_env  %sinfo  %slurm  %smap  %sprio  %squeue  %sreport  %srun  %sshare  %sstat  %store  %strigger  %sview  %sx  %system  %tb  %time  %timeit  %unalias  %unload_ext  %who  %who_ls  %whos  %xdel  %xmode\n",
       "\n",
       "Available cell magics:\n",
       "%%!  %%HTML  %%SVG  %%bash  %%capture  %%debug  %%file  %%html  %%javascript  %%js  %%latex  %%markdown  %%perl  %%prun  %%pypy  %%python  %%python2  %%python3  %%ruby  %%sbatch  %%script  %%sh  %%svg  %%sx  %%system  %%time  %%timeit  %%writefile\n",
       "\n",
       "Automagic is ON, % prefix IS NOT needed for line magics."
      ]
     },
     "execution_count": 2,
     "metadata": {},
     "output_type": "execute_result"
    }
   ],
   "source": [
    "%lsmagic"
   ]
  },
  {
   "cell_type": "markdown",
   "id": "similar-passenger",
   "metadata": {},
   "source": [
    "## Here's the script that created this environment.<br>It can be obtained from:\n",
    "###### conda is needed for git on compute nodes\n",
    "`\n",
    "ml conda\n",
    "git clone https://github.com/NREL/HPC.git ~/HPC\n",
    "`\n"
   ]
  },
  {
   "cell_type": "code",
   "execution_count": 3,
   "id": "breeding-header",
   "metadata": {},
   "outputs": [
    {
     "name": "stdout",
     "output_type": "stream",
     "text": [
      ":<<++++\r\n",
      "\r\n",
      "Author: Tim Kaiser\r\n",
      "\r\n",
      "Build a new version of python mpi4py.\r\n",
      "Works with IntelMPI, MPT, and OpenMPI, just change the module load commands.\r\n",
      "\r\n",
      "\r\n",
      "USAGE:\r\n",
      "    source jupyter.sh\r\n",
      "\r\n",
      " To use the new version after the initial Install\r\n",
      "   module load conda\r\n",
      "   source activate\r\n",
      "   source activate $MYVERSION\r\n",
      "   module load gcc/8.4.0 \r\n",
      "   #module load intel-mpi/2020.1.217\r\n",
      "   module load mpt\r\n",
      "\r\n",
      "++++\r\n",
      "\r\n",
      "### Build a new version of python with and mpt MPI version of mpi4py\r\n",
      "CWD=`pwd`\r\n",
      "export MYVERSION=dompt\r\n",
      "cd ~\r\n",
      "module load conda 2> /dev/null || echo \"module load conda failed\"\r\n",
      "conda create --name $MYVERSION python=3.8 jupyter matplotlib scipy pandas xlwt dask -y\r\n",
      "\r\n",
      "### Don't do conda init\r\n",
      "### Just do source activate\r\n",
      "source activate \r\n",
      "source activate $MYVERSION\r\n",
      "\r\n",
      "which pip\r\n",
      "which python\r\n",
      "\r\n",
      "### Install mpi4py\r\n",
      "module load gcc/8.4.0  2> /dev/null || echo \"module load gcc failed\"\r\n",
      "#module load intel-mpi/2020.1.217  2> /dev/null || echo \"module load mpi failed\"\r\n",
      "module load mpt  2> /dev/null || echo \"module load mpi failed\"\r\n",
      "pip --no-cache-dir install mpi4py\r\n",
      "\r\n",
      "\r\n",
      "### Install slurm magic commands \r\n",
      "pip install git+git://github.com/NERSC/slurm-magic.git\r\n",
      "\r\n",
      "cat <<++++\r\n",
      "In a jupyter activate slurm_magic with \r\n",
      "%load_ext slurm_magic\r\n",
      "++++\r\n",
      "\r\n",
      "cd $CWD\r\n",
      "\r\n",
      "### Install core mapping module\r\n",
      "python setup.py install\r\n",
      "\r\n",
      "\r\n"
     ]
    }
   ],
   "source": [
    "cat ~/HPC/slurm/source/jupyter.sh"
   ]
  },
  {
   "cell_type": "markdown",
   "id": "minor-welsh",
   "metadata": {},
   "source": [
    "### The examples shown below, as well as a vesion of the slurm script used to start this notebook can be obtained via\n",
    "`\n",
    "git clone https://github.com/NREL/HPC\n",
    "cd mpi/mpi4py\n",
    "`"
   ]
  },
  {
   "cell_type": "markdown",
   "id": "improving-lloyd",
   "metadata": {},
   "source": [
    "## Here is the script that started this notebook"
   ]
  },
  {
   "cell_type": "code",
   "execution_count": 4,
   "id": "elementary-globe",
   "metadata": {},
   "outputs": [
    {
     "name": "stdout",
     "output_type": "stream",
     "text": [
      "#!/bin/bash\r\n",
      "#SBATCH --job-name=\"jupyter\"\r\n",
      "#SBATCH --nodes=2\r\n",
      "#SBATCH --account=hpcapps\r\n",
      "#SBATCH --partition=debug\r\n",
      "#SBATCH --time=01:00:00\r\n",
      "##SBATCH --mail-type=ALL\r\n",
      "##SBATCH --mail-user=tkaiser2@nrel.gov\r\n",
      "\r\n",
      "\r\n",
      "export MYVERSION=dompt\r\n",
      "module load conda\r\n",
      "source activate\r\n",
      "source activate $MYVERSION\r\n",
      "module load gcc/8.4.0 \r\n",
      "module load mpt\r\n",
      "\r\n",
      "date      > ~/jupyter.log\r\n",
      "hostname >> ~/jupyter.log\r\n",
      "jupyter notebook --NotebookApp.password='' --no-browser  >> ~/jupyter.log 2>&1\r\n",
      "\r\n",
      "\r\n"
     ]
    }
   ],
   "source": [
    "cat start_jupyter.sh "
   ]
  },
  {
   "cell_type": "markdown",
   "id": "adaptive-mercy",
   "metadata": {},
   "source": [
    "<hr> \n",
    "\n",
    "### After the job starts the file ~/jupyter.log will contain the information required to  connect to the notebook.  What we need is the node name, port number, and the html string.  <br><br>The bash function, tunnel, also available from the git repository mentioned above can provide a shortcut for connecting to the notebook.  After it is installed in your bash environment the syntax is \n",
    "\n",
    "`\n",
    "tunnel node_name port_number\n",
    "`\n",
    "### After it connects you copy/past the html string from ~/jupyter.log into a browser\n",
    "\n",
    "<hr> \n",
    "\n",
    "### Let's look at what we have\n",
    "\n"
   ]
  },
  {
   "cell_type": "code",
   "execution_count": 5,
   "id": "artistic-cause",
   "metadata": {},
   "outputs": [
    {
     "name": "stdout",
     "output_type": "stream",
     "text": [
      "dompi.ipynb  slurm-6577450.out  start_jupyter.sh\r\n"
     ]
    }
   ],
   "source": [
    "ls"
   ]
  },
  {
   "cell_type": "code",
   "execution_count": 6,
   "id": "painted-syndication",
   "metadata": {},
   "outputs": [
    {
     "data": {
      "text/html": [
       "<div>\n",
       "<style scoped>\n",
       "    .dataframe tbody tr th:only-of-type {\n",
       "        vertical-align: middle;\n",
       "    }\n",
       "\n",
       "    .dataframe tbody tr th {\n",
       "        vertical-align: top;\n",
       "    }\n",
       "\n",
       "    .dataframe thead th {\n",
       "        text-align: right;\n",
       "    }\n",
       "</style>\n",
       "<table border=\"1\" class=\"dataframe\">\n",
       "  <thead>\n",
       "    <tr style=\"text-align: right;\">\n",
       "      <th></th>\n",
       "      <th>JOBID</th>\n",
       "      <th>PARTITION</th>\n",
       "      <th>NAME</th>\n",
       "      <th>USER</th>\n",
       "      <th>ST</th>\n",
       "      <th>TIME</th>\n",
       "      <th>NODES</th>\n",
       "      <th>NODELIST(REASON)</th>\n",
       "    </tr>\n",
       "  </thead>\n",
       "  <tbody>\n",
       "    <tr>\n",
       "      <th>0</th>\n",
       "      <td>6577450</td>\n",
       "      <td>debug</td>\n",
       "      <td>jupyter</td>\n",
       "      <td>tkaiser2</td>\n",
       "      <td>R</td>\n",
       "      <td>1:54</td>\n",
       "      <td>2</td>\n",
       "      <td>r102u[34-35]</td>\n",
       "    </tr>\n",
       "  </tbody>\n",
       "</table>\n",
       "</div>"
      ],
      "text/plain": [
       "     JOBID PARTITION     NAME      USER ST  TIME  NODES NODELIST(REASON)\n",
       "0  6577450     debug  jupyter  tkaiser2  R  1:54      2     r102u[34-35]"
      ]
     },
     "execution_count": 6,
     "metadata": {},
     "output_type": "execute_result"
    }
   ],
   "source": [
    "squeue -u tkaiser2"
   ]
  },
  {
   "cell_type": "markdown",
   "id": "collect-subscription",
   "metadata": {},
   "source": [
    "<hr> \n",
    "\n",
    "### Get a list of our hosts we have available"
   ]
  },
  {
   "cell_type": "code",
   "execution_count": 7,
   "id": "southwest-alfred",
   "metadata": {},
   "outputs": [
    {
     "data": {
      "text/plain": [
       "'r102u35\\nr102u34\\nr102u35\\nr102u34\\n'"
      ]
     },
     "execution_count": 7,
     "metadata": {},
     "output_type": "execute_result"
    }
   ],
   "source": [
    "srun -n 4 --tasks-per-node=2 hostname"
   ]
  },
  {
   "cell_type": "code",
   "execution_count": 8,
   "id": "correct-cassette",
   "metadata": {},
   "outputs": [
    {
     "name": "stdout",
     "output_type": "stream",
     "text": [
      "r102u35\n",
      "r102u34\n",
      "r102u35\n",
      "r102u34\n"
     ]
    }
   ],
   "source": [
    "out=_\n",
    "out=out.split()\n",
    "#print(out)\n",
    "for o in out :\n",
    "    print(o)"
   ]
  },
  {
   "cell_type": "code",
   "execution_count": 9,
   "id": "adult-highlight",
   "metadata": {},
   "outputs": [
    {
     "name": "stdout",
     "output_type": "stream",
     "text": [
      "/home/tkaiser2/examples/mpi/mpi4py\n"
     ]
    }
   ],
   "source": [
    "cd .."
   ]
  },
  {
   "cell_type": "markdown",
   "id": "lined-shock",
   "metadata": {},
   "source": [
    "<hr> \n",
    "\n",
    "### The examples shown below, as well as a vesion of the slurm script given above can be obtained via\n",
    "`\n",
    "git clone https://github.com/NREL/HPC\n",
    "cd mpi/mpi4py\n",
    "`"
   ]
  },
  {
   "cell_type": "code",
   "execution_count": 10,
   "id": "original-pregnancy",
   "metadata": {},
   "outputs": [
    {
     "name": "stdout",
     "output_type": "stream",
     "text": [
      "allinea.stdout  install.md   \u001b[0m\u001b[38;5;34mP_ex03.py\u001b[0m*    \u001b[38;5;34mq2.py\u001b[0m*             spam.c\r\n",
      "ccalc.c         lustre.py    \u001b[38;5;34mP_ex04.py\u001b[0m*    \u001b[38;5;34mq3.py\u001b[0m*             stc_03.c\r\n",
      "conda_build     makefile     \u001b[38;5;34mP_ex05.py\u001b[0m*    \u001b[38;5;34mq4.py\u001b[0m*             st.in\r\n",
      "conda_run       make_stripe  \u001b[38;5;34mP_ex06.py\u001b[0m*    \u001b[38;5;34mqueue.py\u001b[0m*          \u001b[38;5;34mstp_00.py\u001b[0m*\r\n",
      "doit            \u001b[38;5;34mmkview.py\u001b[0m*   \u001b[38;5;34mP_ex07.py\u001b[0m*    report.out         \u001b[38;5;34mstp.py\u001b[0m*\r\n",
      "dojup           \u001b[38;5;34mmpi1.py\u001b[0m*     \u001b[38;5;34mP_ex08.py\u001b[0m*    \u001b[38;5;34mreport.py\u001b[0m*         stripe.c\r\n",
      "ex10.in         \u001b[38;5;9mmpi4py.tgz\u001b[0m   \u001b[38;5;34mP_ex09.py\u001b[0m*    runMPI.py          \u001b[38;5;27msub\u001b[0m/\r\n",
      "f_ex01.f90      multimpi     \u001b[38;5;34mP_ex10.py\u001b[0m*    runscript          \u001b[38;5;34msurface.py\u001b[0m*\r\n",
      "flist           \u001b[38;5;34mpcalc.py\u001b[0m*    \u001b[38;5;34mP_ex12.py\u001b[0m*    save_index.html    tiny.in\r\n",
      "\u001b[38;5;34mfuture.py\u001b[0m*      \u001b[38;5;34mP_ex00.py\u001b[0m*   \u001b[38;5;34mP_ex13.py\u001b[0m*    scale              \u001b[38;5;34mwrite_grid.py\u001b[0m*\r\n",
      "\u001b[38;5;34mh5b\u001b[0m*            \u001b[38;5;34mP_ex01b.py\u001b[0m*  \u001b[38;5;34mppong.py\u001b[0m*     simple             z_README.html\r\n",
      "\u001b[38;5;34mh5.py\u001b[0m*          \u001b[38;5;34mP_ex01.py\u001b[0m*   primes.py     \u001b[38;5;34msimple.py\u001b[0m*\r\n",
      "h5_run          \u001b[38;5;34mP_ex02.py\u001b[0m*   \u001b[38;5;34mpwrite.py\u001b[0m*    slurm-6575258.out\r\n",
      "index.html      \u001b[38;5;34mP_ex03I.py\u001b[0m*  \u001b[38;5;27m__pycache__\u001b[0m/  small.in\r\n"
     ]
    }
   ],
   "source": [
    "ls"
   ]
  },
  {
   "cell_type": "markdown",
   "id": "organized-wilson",
   "metadata": {},
   "source": [
    "<hr> \n",
    "\n",
    "### Run a mpi4py program and put output in a file"
   ]
  },
  {
   "cell_type": "code",
   "execution_count": 11,
   "id": "likely-dragon",
   "metadata": {},
   "outputs": [
    {
     "data": {
      "text/plain": [
       "''"
      ]
     },
     "execution_count": 11,
     "metadata": {},
     "output_type": "execute_result"
    }
   ],
   "source": [
    "srun -n 72 --tasks-per-node=36 -o report.out ./report.py"
   ]
  },
  {
   "cell_type": "code",
   "execution_count": 12,
   "id": "experienced-ceremony",
   "metadata": {},
   "outputs": [
    {
     "name": "stdout",
     "output_type": "stream",
     "text": [
      "xxxxxx Hello from 36 on r102u35   ,   0   \r\n",
      "xxxxxx Hello from  4 on r102u34   ,   4   \r\n",
      "xxxxxx Hello from 38 on r102u35   ,   2   \r\n",
      "xxxxxx Hello from 40 on r102u35   ,   4   \r\n",
      "xxxxxx Hello from 44 on r102u35   ,   8   \r\n",
      "xxxxxx Hello from 61 on r102u35   ,  25   \r\n",
      "xxxxxx Hello from 39 on r102u35   ,   3   \r\n",
      "xxxxxx Hello from 41 on r102u35   ,   5   \r\n",
      "xxxxxx Hello from 42 on r102u35   ,   6   \r\n",
      "xxxxxx Hello from 43 on r102u35   ,   7   \r\n",
      "xxxxxx Hello from 45 on r102u35   ,   9   \r\n",
      "xxxxxx Hello from 46 on r102u35   ,  10   \r\n",
      "xxxxxx Hello from 47 on r102u35   ,  11   \r\n",
      "xxxxxx Hello from 48 on r102u35   ,  12   \r\n",
      "xxxxxx Hello from 49 on r102u35   ,  13   \r\n",
      "xxxxxx Hello from 50 on r102u35   ,  14   \r\n",
      "xxxxxx Hello from 51 on r102u35   ,  15   \r\n",
      "xxxxxx Hello from 53 on r102u35   ,  17   \r\n",
      "xxxxxx Hello from 54 on r102u35   ,  18   \r\n",
      "xxxxxx Hello from 55 on r102u35   ,  19   \r\n",
      "xxxxxx Hello from 56 on r102u35   ,  20   \r\n",
      "xxxxxx Hello from 58 on r102u35   ,  22   \r\n",
      "xxxxxx Hello from 60 on r102u35   ,  24   \r\n",
      "xxxxxx Hello from 62 on r102u35   ,  26   \r\n",
      "xxxxxx Hello from 63 on r102u35   ,  27   \r\n",
      "xxxxxx Hello from 64 on r102u35   ,  28   \r\n",
      "xxxxxx Hello from 65 on r102u35   ,  29   \r\n",
      "xxxxxx Hello from 66 on r102u35   ,  30   \r\n",
      "xxxxxx Hello from 67 on r102u35   ,  31   \r\n",
      "xxxxxx Hello from 68 on r102u35   ,  32   \r\n",
      "xxxxxx Hello from 69 on r102u35   ,  33   \r\n",
      "xxxxxx Hello from 70 on r102u35   ,  34   \r\n",
      "xxxxxx Hello from 71 on r102u35   ,  35   \r\n",
      "xxxxxx Hello from 57 on r102u35   ,  21   \r\n",
      "xxxxxx Hello from 59 on r102u35   ,  23   \r\n",
      "xxxxxx Hello from 52 on r102u35   ,  16   \r\n",
      "xxxxxx Hello from 37 on r102u35   ,   1   \r\n",
      "xxxxxx Hello from  5 on r102u34   ,   5   \r\n",
      "xxxxxx Hello from  6 on r102u34   ,   6   \r\n",
      "xxxxxx Hello from 10 on r102u34   ,  10   \r\n",
      "xxxxxx Hello from 12 on r102u34   ,  12   \r\n",
      "xxxxxx Hello from 20 on r102u34   ,  20   \r\n",
      "xxxxxx Hello from 21 on r102u34   ,  21   \r\n",
      "Tasks:  72  MPI Version  (3.1)\r\n",
      "Running MPI libary  HPE MPT 2.23  11/19/20 04:21:56\r\n",
      "xxxxxx Hello from  0 on r102u34   ,   0   \r\n",
      "xxxxxx Hello from  2 on r102u34   ,   2   \r\n",
      "xxxxxx Hello from 28 on r102u34   ,  28   \r\n",
      "xxxxxx Hello from  3 on r102u34   ,   3   \r\n",
      "xxxxxx Hello from  7 on r102u34   ,   7   \r\n",
      "xxxxxx Hello from  8 on r102u34   ,   8   \r\n",
      "xxxxxx Hello from  9 on r102u34   ,   9   \r\n",
      "xxxxxx Hello from 13 on r102u34   ,  13   \r\n",
      "xxxxxx Hello from 15 on r102u34   ,  15   \r\n",
      "xxxxxx Hello from 16 on r102u34   ,  16   \r\n",
      "xxxxxx Hello from 14 on r102u34   ,  14   \r\n",
      "xxxxxx Hello from 17 on r102u34   ,  17   \r\n",
      "xxxxxx Hello from 18 on r102u34   ,  18   \r\n",
      "xxxxxx Hello from 19 on r102u34   ,  19   \r\n",
      "xxxxxx Hello from 22 on r102u34   ,  22   \r\n",
      "xxxxxx Hello from 23 on r102u34   ,  23   \r\n",
      "xxxxxx Hello from 24 on r102u34   ,  24   \r\n",
      "xxxxxx Hello from 25 on r102u34   ,  25   \r\n",
      "xxxxxx Hello from 26 on r102u34   ,  26   \r\n",
      "xxxxxx Hello from 27 on r102u34   ,  27   \r\n",
      "xxxxxx Hello from 29 on r102u34   ,  29   \r\n",
      "xxxxxx Hello from 30 on r102u34   ,  30   \r\n",
      "xxxxxx Hello from 31 on r102u34   ,  31   \r\n",
      "xxxxxx Hello from 32 on r102u34   ,  32   \r\n",
      "xxxxxx Hello from 33 on r102u34   ,  33   \r\n",
      "xxxxxx Hello from 34 on r102u34   ,  34   \r\n",
      "xxxxxx Hello from 35 on r102u34   ,  35   \r\n",
      "xxxxxx Hello from 11 on r102u34   ,  11   \r\n",
      "xxxxxx Hello from  1 on r102u34   ,   1   \r\n"
     ]
    }
   ],
   "source": [
    "cat report.out"
   ]
  },
  {
   "cell_type": "markdown",
   "id": "moral-duncan",
   "metadata": {},
   "source": [
    "<hr> \n",
    "\n",
    "### Now we are going to build and run a C mpi program"
   ]
  },
  {
   "cell_type": "code",
   "execution_count": 13,
   "id": "favorite-quarter",
   "metadata": {},
   "outputs": [
    {
     "name": "stdout",
     "output_type": "stream",
     "text": [
      "/home/tkaiser2/examples/mpi\n"
     ]
    }
   ],
   "source": [
    "cd .."
   ]
  },
  {
   "cell_type": "code",
   "execution_count": 14,
   "id": "confident-majority",
   "metadata": {},
   "outputs": [
    {
     "name": "stdout",
     "output_type": "stream",
     "text": [
      "\u001b[0m\u001b[38;5;34mallr\u001b[0m*        c_ex04.c  com.c         f_ex06.f90  global.mod     runscript\r\n",
      "allr.f90     c_ex05.c  com.f90       f_ex07.f90  helloc.c       sim\r\n",
      "\u001b[38;5;34ma.out\u001b[0m*       c_ex06.c  \u001b[38;5;27mdepreciated\u001b[0m/  f_ex08.f90  hellof.f90     simple\r\n",
      "c_ex00.c     c_ex07.c  ex10.in       f_ex09.f90  hyper.py       split\r\n",
      "c_ex01.c     c_ex08.c  f_ex00.f90    f_ex10.f90  index.html     testall2all.f90\r\n",
      "\u001b[38;5;34mc_ex02\u001b[0m*      c_ex09.c  f_ex01.f90    f_ex11.f90  makefile\r\n",
      "c_ex02.c     c_ex10.c  f_ex02.f90    f_ex12.f90  \u001b[38;5;27mmpi2Examples\u001b[0m/\r\n",
      "\u001b[38;5;34mc_ex02.gcc\u001b[0m*  c_ex11.c  f_ex03.f90    f_ex13.f90  \u001b[38;5;27mmpi4py\u001b[0m/\r\n",
      "\u001b[38;5;34mc_ex02.icc\u001b[0m*  c_ex12.c  f_ex04.f90    fmpi.mod    proc.py\r\n",
      "c_ex03.c     c_ex13.c  f_ex05.f90    gadd.mod    report.out\r\n"
     ]
    }
   ],
   "source": [
    "ls"
   ]
  },
  {
   "cell_type": "code",
   "execution_count": 15,
   "id": "unlike-helmet",
   "metadata": {},
   "outputs": [],
   "source": [
    "!mpicc c_ex02.c -o c_ex02"
   ]
  },
  {
   "cell_type": "code",
   "execution_count": 16,
   "id": "another-republic",
   "metadata": {},
   "outputs": [
    {
     "data": {
      "text/plain": [
       "' Hello from c process: 0  Numprocs is 2\\n Hello from c process: 1  Numprocs is 2\\ngetting 1\\ni= 200 \\n'"
      ]
     },
     "execution_count": 16,
     "metadata": {},
     "output_type": "execute_result"
    }
   ],
   "source": [
    "srun -n 2 ./c_ex02"
   ]
  },
  {
   "cell_type": "code",
   "execution_count": 17,
   "id": "architectural-quest",
   "metadata": {},
   "outputs": [
    {
     "name": "stdout",
     "output_type": "stream",
     "text": [
      " Hello from c process: 0  Numprocs is 2\n",
      " Hello from c process: 1  Numprocs is 2\n",
      "getting 1\n",
      "i= 200 \n",
      "\n"
     ]
    }
   ],
   "source": [
    "out=_\n",
    "out=out.split(\"\\n\")\n",
    "for o in out:\n",
    "    print(o)"
   ]
  },
  {
   "cell_type": "markdown",
   "id": "latter-turner",
   "metadata": {},
   "source": [
    "<hr> \n",
    "\n",
    "### We note that we can also start slurm jobs from within a notebook.  The<br> syntax is simply\n",
    "\n",
    "`\n",
    "sbatch script\n",
    "`\n",
    "\n",
    "### We could, for example, start a notebook on europa and then launch the <br>batch script given above to start a parallel notebook.\n",
    "\n"
   ]
  },
  {
   "cell_type": "code",
   "execution_count": null,
   "id": "available-vampire",
   "metadata": {},
   "outputs": [],
   "source": []
  }
 ],
 "metadata": {
  "kernelspec": {
   "display_name": "Python 3",
   "language": "python",
   "name": "python3"
  },
  "language_info": {
   "codemirror_mode": {
    "name": "ipython",
    "version": 3
   },
   "file_extension": ".py",
   "mimetype": "text/x-python",
   "name": "python",
   "nbconvert_exporter": "python",
   "pygments_lexer": "ipython3",
   "version": "3.8.5"
  }
 },
 "nbformat": 4,
 "nbformat_minor": 5
}
