{
 "cells": [
  {
   "cell_type": "markdown",
   "metadata": {},
   "source": [
    "This notebook gives a quick demo of PyJulia which allows you to use Julia from within Python.  For more details and further examples, see the PyJulia [documentation](https://pyjulia.readthedocs.io/en/latest/)."
   ]
  },
  {
   "cell_type": "markdown",
   "metadata": {},
   "source": [
    "# Setup\n",
    "\n",
    "Running this notebook requires the following:\n",
    "* jupyter\n",
    "* python 3\n",
    "* julia\n",
    "\n",
    "To run on your local machine, do the following:\n",
    "1. **Install Anaconda**: The anaconda installer can be downloaded [here](https://www.anaconda.com/products/individual) (at the bottom of the page). Follow the install instructions.\n",
    "2. **Install Julia**: Prebuilt Julia binaries can be downloaded [here](https://julialang.org/) or the source code cloned from [here](https://github.com/JuliaLang/julia/tree/v1.5.1).  Follow the install or build instructions.\n",
    "3. **Create an environment with python 3 and jupyter**: Open a terminal and type\n",
    "```\n",
    "conda create -n pyjulia python=3 jupyter numpy\n",
    "conda activate pyjulia\n",
    "jupyter notebook PyJulia_Demo\n",
    "```\n",
    "4. **Run the cells under Install PyJulia**.\n",
    "\n",
    "To run on Eagle:\n",
    "1. See the instruction [here](https://github.com/NREL/HPC/blob/master/languages/python/jupyter/Kernels_and_Servers.ipynb) for running jupyter notebooks on Eagle.\n",
    "2. See the instruction [here](../../how_to_guides/build_Julia.md) for building Julia on Eagle.\n",
    "3. Run the cells under Install PyJulia."
   ]
  },
  {
   "cell_type": "markdown",
   "metadata": {},
   "source": [
    "# Install PyJulia\n",
    "\n",
    "Run the following cells to install the julia python module.  For more detailed installation instructions, see the PyJulia [install instructions](https://pyjulia.readthedocs.io/en/latest/installation.html#step-2-install-pyjulia).\n",
    "\n",
    "You may skip these if the julia python module is already installed."
   ]
  },
  {
   "cell_type": "code",
   "execution_count": null,
   "metadata": {},
   "outputs": [],
   "source": [
    "!pip install --user julia"
   ]
  },
  {
   "cell_type": "code",
   "execution_count": null,
   "metadata": {},
   "outputs": [],
   "source": [
    "import julia\n",
    "julia.install()"
   ]
  },
  {
   "cell_type": "markdown",
   "metadata": {},
   "source": [
    "# Demo"
   ]
  },
  {
   "cell_type": "markdown",
   "metadata": {},
   "source": [
    "Conda's python is statically linked to libpython which causes issues with Julia.  To get around this, we start julia without using compiled modules."
   ]
  },
  {
   "cell_type": "code",
   "execution_count": null,
   "metadata": {},
   "outputs": [],
   "source": [
    "from julia.api import Julia\n",
    "jl = Julia(compiled_modules=False)"
   ]
  },
  {
   "cell_type": "markdown",
   "metadata": {},
   "source": [
    "We can evaluate any Julia statement by calling `eval`.\n",
    "\n",
    "**NOTE:**  Any print statements given to julia will print to the terminal that you launched jupyter from rather than here in the notebook."
   ]
  },
  {
   "cell_type": "code",
   "execution_count": null,
   "metadata": {},
   "outputs": [],
   "source": [
    " jl.eval(\"println(\\\"Hello World! I'm printing using eval!\\\")\")"
   ]
  },
  {
   "cell_type": "markdown",
   "metadata": {},
   "source": [
    "The `eval` function returns whatever is returned by the julia expression in the string."
   ]
  },
  {
   "cell_type": "code",
   "execution_count": null,
   "metadata": {},
   "outputs": [],
   "source": [
    "jl.eval('5 + 3*2')"
   ]
  },
  {
   "cell_type": "markdown",
   "metadata": {},
   "source": [
    "We can also import julia packages and access them directly from python.  Again, we are calling a julia side print so it will print to the terminal and not the notebook."
   ]
  },
  {
   "cell_type": "code",
   "execution_count": null,
   "metadata": {},
   "outputs": [],
   "source": [
    "from julia import Base # make julia Base module python callable\n",
    "Base.println(\"Hello World! I'm printing directly from python!\")"
   ]
  },
  {
   "cell_type": "markdown",
   "metadata": {},
   "source": [
    "You can access the julia help for a function.\n",
    "\n",
    "**NOTE:** As of this writing, `help` is broken.  Below should be the help for sum but generates an error about `Markdown` not being defined. If that is package is installed, and we do `jl.using(\"Markdown\")` then the help for one of the `String` constructors is returned which is not correct."
   ]
  },
  {
   "cell_type": "code",
   "execution_count": null,
   "metadata": {},
   "outputs": [],
   "source": [
    "jl.help(\"Base.sum\") # BROKEN!!!"
   ]
  },
  {
   "cell_type": "markdown",
   "metadata": {},
   "source": [
    "We can activate a Julia environment and even instantiate it.  Julia's activation message will appear in the terminal."
   ]
  },
  {
   "cell_type": "code",
   "execution_count": null,
   "metadata": {},
   "outputs": [],
   "source": [
    "path = \".\" # path to desired Julia Project file\n",
    "jl.using(\"Pkg\")\n",
    "from julia import Pkg\n",
    "Pkg.activate(path)\n",
    "Pkg.instantiate()"
   ]
  },
  {
   "cell_type": "markdown",
   "metadata": {},
   "source": [
    "Julia's global scope is available from the Main package.  Importing it allows us access anything in it directly from python."
   ]
  },
  {
   "cell_type": "code",
   "execution_count": null,
   "metadata": {},
   "outputs": [],
   "source": [
    "from julia import Main\n",
    "Main.log(Main.exp(2))"
   ]
  },
  {
   "cell_type": "markdown",
   "metadata": {},
   "source": [
    "We can also create things in this scope"
   ]
  },
  {
   "cell_type": "code",
   "execution_count": null,
   "metadata": {},
   "outputs": [],
   "source": [
    "x = 5.25 # python variable\n",
    "Main.z = 1.5 * x "
   ]
  },
  {
   "cell_type": "markdown",
   "metadata": {},
   "source": [
    "We can now use `z` variable in Julia"
   ]
  },
  {
   "cell_type": "code",
   "execution_count": null,
   "metadata": {},
   "outputs": [],
   "source": [
    "jl.eval(\"z / 1.5\")"
   ]
  },
  {
   "cell_type": "markdown",
   "metadata": {},
   "source": [
    "We can do this with more complex types as well"
   ]
  },
  {
   "cell_type": "code",
   "execution_count": null,
   "metadata": {},
   "outputs": [],
   "source": [
    "py_dict = {'a':1,'b':2,'c':3}\n",
    "Main.jl_dict = py_dict\n",
    "print(Main.string(Main.jl_dict))\n",
    "print(py_dict)"
   ]
  },
  {
   "cell_type": "code",
   "execution_count": null,
   "metadata": {},
   "outputs": [],
   "source": [
    "import numpy as np\n",
    "t = np.random.uniform(size=10)\n",
    "Main.t = t + 1.0\n",
    "print(Main.typeof(Main.t))\n",
    "print(Main.t)"
   ]
  },
  {
   "cell_type": "markdown",
   "metadata": {},
   "source": [
    "**WARNING:** Julia types can change when going through python."
   ]
  },
  {
   "cell_type": "code",
   "execution_count": null,
   "metadata": {},
   "outputs": [],
   "source": [
    "print(jl.eval(\"typeof(Int32(5))\")) # Int32\n",
    "print(Main.typeof(Main.Int32(5))) # Int64"
   ]
  },
  {
   "cell_type": "markdown",
   "metadata": {},
   "source": [
    "Python functions can also be called from Julia"
   ]
  },
  {
   "cell_type": "code",
   "execution_count": null,
   "metadata": {},
   "outputs": [],
   "source": [
    "# Define a python function\n",
    "def my_function(arg):\n",
    "    return 5*arg\n",
    "\n",
    "# Make the above function visible in julia\n",
    "Main.my_function=my_function\n",
    "# Call directly\n",
    "print(Main.my_function(5.0))\n",
    "print(Main.my_function('q')) # Note we get python behavior and not julia--in julia this would throw an error\n",
    "\n",
    "# Create a julia function which calls the python function after converting the argument to a string\n",
    "jl.eval('function test(input::Any); return my_function(string(input)); end;')\n",
    "\n",
    "# Call it--note we still get python behavior and not julia behavior\n",
    "print(Main.test('s'))\n",
    "print(Main.test(5))\n",
    "print(Main.test(5.0))"
   ]
  },
  {
   "cell_type": "code",
   "execution_count": null,
   "metadata": {},
   "outputs": [],
   "source": [
    "def python(arg):\n",
    "    return 'My arg is \"{}\"'.format(arg)\n",
    "\n",
    "def monty(arg1, arg2):\n",
    "    return 'Black Knight: {}\\nArthur: {}'.format(arg1,arg2)\n",
    "\n",
    "import numpy as np\n",
    "def do_math(arg):\n",
    "    return np.exp(np.pi * arg)\n",
    "\n",
    "jl.eval('function call_it(f, args...); return f(args...); end;')\n",
    "print(Main.call_it(python, 'ARG!!'))\n",
    "print(Main.call_it(monty, \"'Tis but a flesh wound!\", \"A flesh wound! Your arms off!\"))\n",
    "print(Main.call_it(do_math, -1.0))"
   ]
  },
  {
   "cell_type": "markdown",
   "metadata": {},
   "source": [
    "We can also use more complicated Julia stuff like JuMP.  However, python doesn't like some of julia's exotic syntax (e.g. `@` for macro calls and `!` in function calls."
   ]
  },
  {
   "cell_type": "code",
   "execution_count": null,
   "metadata": {},
   "outputs": [],
   "source": [
    "# Build and solve a JuMP model in julia with Ipopt\n",
    "jl.using(\"JuMP\")\n",
    "from julia import JuMP\n",
    "\n",
    "model = JuMP.Model()\n",
    "Main.model = model # Make `model` a variable that julia can see\n",
    "\n",
    "jl.eval(\"@variable(model, x >= 0.0)\")\n",
    "jl.eval(\"@variable(model, y >= 0.0)\")\n",
    "jl.eval(\"@objective(model, Min, (x - 6)^2 + 0.1*x*y + (y - 7)^2)\")\n",
    "jl.eval(\"@constraint(model, x + y == 10.0)\")\n",
    "\n",
    "jl.using(\"Ipopt\")\n",
    "jl.eval('JuMP.set_optimizer(model, ()->Ipopt.Optimizer())') # Output from IPOPT will print to the terminal\n",
    "jl.eval('JuMP.optimize!(model)')\n",
    "\n",
    "print(JuMP.termination_status(model))\n",
    "print(JuMP.objective_value(model))\n",
    "print(JuMP.value(Main.x)) # Use Main.x instead of x b/c x is not visible to python\n",
    "print(JuMP.value(Main.y)) # Same as x"
   ]
  },
  {
   "cell_type": "code",
   "execution_count": null,
   "metadata": {},
   "outputs": [],
   "source": []
  }
 ],
 "metadata": {
  "kernelspec": {
   "display_name": "Python 3",
   "language": "python",
   "name": "python3"
  },
  "language_info": {
   "codemirror_mode": {
    "name": "ipython",
    "version": 3
   },
   "file_extension": ".py",
   "mimetype": "text/x-python",
   "name": "python",
   "nbconvert_exporter": "python",
   "pygments_lexer": "ipython3",
   "version": "3.8.5"
  }
 },
 "nbformat": 4,
 "nbformat_minor": 4
}
