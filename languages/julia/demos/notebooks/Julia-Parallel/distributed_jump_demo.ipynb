{
 "cells": [
  {
   "cell_type": "markdown",
   "id": "f4e01b55",
   "metadata": {},
   "source": [
    "# Distributed JuMP Optimization Demo\n",
    "\n",
    "This notebook demonstrates how to use Distributed.jl to solve multiple independent JuMP optimization problems in parallel, each on a different Julia process. Each problem is a simple linear program (LP) with a linear objective, variable bounds, and linear constraints. The notebook collects the optimal objective values from each process and displays them.\n",
    "\n",
    "Key features:\n",
    "- Each optimization uses a different starting point\n",
    "- Uses JuMP and Ipopt as the solver\n",
    "- Can be run on a single machine or across multiple nodes in an HPC environment\n",
    "- Uses the Project.toml environment provided"
   ]
  },
  {
   "cell_type": "markdown",
   "id": "0ede43f9",
   "metadata": {},
   "source": [
    "## Setup Distributed Environment\n",
    "\n",
    "First, we'll set up our distributed computing environment by adding worker processes and loading the necessary packages on all processes."
   ]
  },
  {
   "cell_type": "code",
   "execution_count": null,
   "id": "6c9e9373",
   "metadata": {},
   "outputs": [],
   "source": [
    "using Pkg;\n",
    "println(\"Active project: \", Pkg.project().path)"
   ]
  },
  {
   "cell_type": "code",
   "execution_count": null,
   "id": "0e477f21",
   "metadata": {},
   "outputs": [],
   "source": [
    "using Distributed\n",
    "\n",
    "println(\"Distributed JuMP Optimization Demo\")\n",
    "println(\"=\"^40)\n",
    "\n",
    "# Add worker processes if not already started\n",
    "if nprocs() == 1\n",
    "    n_workers = min(Sys.CPU_THREADS - 1, 4)\n",
    "    addprocs(n_workers)\n",
    "end\n",
    "\n",
    "println(\"Main process: $(myid())\")\n",
    "println(\"Worker processes: $(workers())\")\n",
    "println(\"Total processes: $(nprocs())\")"
   ]
  },
  {
   "cell_type": "markdown",
   "id": "635b8d89",
   "metadata": {},
   "source": [
    "## Load Required Packages on All Processes\n",
    "\n",
    "It's critical to load the required packages on all worker processes before using them. The `@everywhere` macro ensures that the code is executed on all processes."
   ]
  },
  {
   "cell_type": "code",
   "execution_count": null,
   "id": "291bbf8b",
   "metadata": {},
   "outputs": [],
   "source": [
    "# Important: Add packages to all processes (main and workers)\n",
    "# This must be done AFTER processes are added but BEFORE they're used\n",
    "@everywhere begin\n",
    "    using JuMP\n",
    "    using Ipopt\n",
    "end"
   ]
  },
  {
   "cell_type": "markdown",
   "id": "ff26d007",
   "metadata": {},
   "source": [
    "## Define the Optimization Function\n",
    "\n",
    "Next, we'll define the function that builds and solves our JuMP model. This function needs to be defined on all worker processes using the `@everywhere` macro."
   ]
  },
  {
   "cell_type": "markdown",
   "id": "c5f31cf1",
   "metadata": {},
   "source": [
    "### Mathematical Formulation of the Optimization Problem\n",
    "\n",
    "The JuMP model we'll solve is a simple linear programming problem that can be expressed mathematically as:\n",
    "\n",
    "$$\n",
    "\\begin{align}\n",
    "\\min_{x,y} \\quad & x + 2y \\\\\n",
    "\\text{subject to} \\quad & x + y \\geq 5 \\\\\n",
    "& x - y \\leq 3 \\\\\n",
    "& 0 \\leq x \\leq 10 \\\\\n",
    "& 0 \\leq y \\leq 10\n",
    "\\end{align}\n",
    "$$\n",
    "\n",
    "This is a classic linear programming problem with:\n",
    "- A linear objective function that we want to minimize\n",
    "- Two linear inequality constraints \n",
    "- Box constraints (bounds) on both variables\n",
    "\n",
    "The problem has a unique optimal solution regardless of the starting point. We'll solve this problem with different initial guesses for $x$ and $y$ on different worker processes and verify that they all reach the same optimal solution."
   ]
  },
  {
   "cell_type": "code",
   "execution_count": null,
   "id": "b25c09b8",
   "metadata": {},
   "outputs": [],
   "source": [
    "# Function to build and solve a simple LP\n",
    "@everywhere function solve_lp(start_x::Float64)\n",
    "    model = Model(Ipopt.Optimizer)\n",
    "    set_silent(model)\n",
    "    @variable(model, 0 <= x <= 10, start = start_x)\n",
    "    @variable(model, 0 <= y <= 10, start = start_x)\n",
    "    @objective(model, Min, x + 2y)\n",
    "    @constraint(model, x + y >= 5)\n",
    "    @constraint(model, x - y <= 3)\n",
    "    optimize!(model)\n",
    "    status = termination_status(model)\n",
    "    obj = objective_value(model)\n",
    "    return (status, obj, value(x), value(y))\n",
    "end"
   ]
  },
  {
   "cell_type": "markdown",
   "id": "e36bd477",
   "metadata": {},
   "source": [
    "## Set Up Different Starting Points\n",
    "\n",
    "We'll create a range of different starting points for our optimization problems. Each starting point will be used to initialize a separate optimization run on a different worker process."
   ]
  },
  {
   "cell_type": "code",
   "execution_count": null,
   "id": "74ca169b",
   "metadata": {},
   "outputs": [],
   "source": [
    "# Generate starting points based on number of processes\n",
    "n_points = nprocs() * 2  # 2 points per process, adjust as needed\n",
    "starting_points = vcat(\n",
    "    # Regular spacing across the domain\n",
    "    range(0.0, 10.0, length=nprocs()),\n",
    "    # Random points for additional diversity\n",
    "    rand(nprocs()) * 10.0\n",
    ")\n",
    "\n",
    "# Ensure we don't use more points than processes\n",
    "n_instances = min(length(starting_points), nprocs())\n",
    "\n",
    "println(\"Generated $(length(starting_points)) starting points\")\n",
    "println(\"Will solve $n_instances optimization problems in parallel using $(nprocs()) processes\")\n",
    "println(\"Starting points: $starting_points\")"
   ]
  },
  {
   "cell_type": "markdown",
   "id": "93ea4506",
   "metadata": {},
   "source": [
    "## Run Distributed Optimization\n",
    "\n",
    "Now we'll solve the optimization problems in parallel across all worker processes using the `pmap` function."
   ]
  },
  {
   "cell_type": "code",
   "execution_count": null,
   "id": "969200ae",
   "metadata": {},
   "outputs": [],
   "source": [
    "# Assign each optimization to a worker process\n",
    "println(\"Starting distributed optimization...\")\n",
    "results = pmap((sp, idx) -> begin\n",
    "        println(\"[Process $(myid())] Solving instance $idx with start_x=$sp\")\n",
    "        solve_lp(sp)\n",
    "    end, starting_points[1:n_instances], 1:n_instances)"
   ]
  },
  {
   "cell_type": "markdown",
   "id": "3543dcbb",
   "metadata": {},
   "source": [
    "## Display Results\n",
    "\n",
    "After all optimizations have completed, we'll display the results that have been collected on the main process."
   ]
  },
  {
   "cell_type": "code",
   "execution_count": null,
   "id": "7c20119a",
   "metadata": {},
   "outputs": [],
   "source": [
    "println(\"\\nResults (collected on main process):\")\n",
    "for (i, (status, obj, xval, yval)) in enumerate(results)\n",
    "    println(\"Instance $i: status=$status, optimal obj=$obj, x=$xval, y=$yval\")\n",
    "end\n",
    "\n",
    "println(\"\\nDemo complete.\")"
   ]
  },
  {
   "cell_type": "markdown",
   "id": "4dd615cc",
   "metadata": {},
   "source": [
    "## Visualize the Results\n",
    "\n",
    "Let's create a visualization of our optimization results. We'll plot the optimal solutions to visualize how they converge to the same point regardless of starting position."
   ]
  },
  {
   "cell_type": "code",
   "execution_count": null,
   "id": "5652dec6",
   "metadata": {},
   "outputs": [],
   "source": [
    "using Plots\n",
    "\n",
    "# Extract results\n",
    "x_vals = [r[3] for r in results]\n",
    "y_vals = [r[4] for r in results]\n",
    "obj_vals = [r[2] for r in results]\n",
    "\n",
    "# Create a scatter plot of solutions\n",
    "p = scatter(x_vals, y_vals, \n",
    "    label=\"Optimal Solutions\", \n",
    "    title=\"Optimization Results from Different Starting Points\",\n",
    "    xlabel=\"x\", \n",
    "    ylabel=\"y\",\n",
    "    markersize=8,\n",
    "    legend=:topright)\n",
    "\n",
    "# Add starting points\n",
    "scatter!(starting_points[1:n_instances], starting_points[1:n_instances], \n",
    "    label=\"Starting Points\", \n",
    "    markersize=6, \n",
    "    markershape=:cross,\n",
    "    markercolor=:red)\n",
    "\n",
    "# Draw the constraints\n",
    "x_range = 0:0.1:10\n",
    "plot!(x_range, 5 .- x_range, label=\"x + y = 5\", linestyle=:dash)\n",
    "plot!(x_range, x_range .- 3, label=\"x - y = 3\", linestyle=:dash)\n",
    "\n",
    "# Show the plot\n",
    "display(p)"
   ]
  },
  {
   "cell_type": "markdown",
   "id": "ebd782cc",
   "metadata": {},
   "source": [
    "## Running on HPC Clusters\n",
    "\n",
    "For running this notebook on an HPC cluster, you need to launch Julia with a machine file that specifies the nodes to use. Here's how to do it:\n",
    "\n",
    "1. Create a file `machines.txt` with the hostnames or IPs of the cluster nodes\n",
    "2. Start Julia with `julia --machine-file machines.txt`\n",
    "3. Then run this notebook"
   ]
  },
  {
   "cell_type": "markdown",
   "id": "f109c676",
   "metadata": {},
   "source": [
    "## Clean Up\n",
    "\n",
    "Finally, clean up by removing worker processes when you're done. This is optional in notebooks but recommended in scripts."
   ]
  },
  {
   "cell_type": "code",
   "execution_count": null,
   "id": "b0f54661",
   "metadata": {},
   "outputs": [],
   "source": [
    "# Optional: Remove worker processes when done\n",
    "# Note: In a notebook environment, you may want to keep workers for further computations\n",
    "rmprocs(workers())\n",
    "println(\"✓ Worker processes removed\")"
   ]
  }
 ],
 "metadata": {
  "kernelspec": {
   "display_name": "Julia 1.11.4",
   "language": "julia",
   "name": "julia-1.11"
  },
  "language_info": {
   "file_extension": ".jl",
   "mimetype": "application/julia",
   "name": "julia",
   "version": "1.11.4"
  }
 },
 "nbformat": 4,
 "nbformat_minor": 5
}
