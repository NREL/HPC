{
 "cells": [
  {
   "cell_type": "markdown",
   "id": "f316e657",
   "metadata": {
    "slideshow": {
     "slide_type": "slide"
    }
   },
   "source": [
    "# Calling Python and C from Julia\n",
    "\n",
    "1. Python -- the PyCall package\n",
    "2. C (and Fortran) Libraries -- the native Julia functions"
   ]
  },
  {
   "cell_type": "markdown",
   "id": "27ee9119",
   "metadata": {
    "slideshow": {
     "slide_type": "slide"
    }
   },
   "source": [
    "## Calling Python\n",
    "\n",
    "We can use the `PyCall` package to call Python code from Julia."
   ]
  },
  {
   "cell_type": "code",
   "execution_count": 1,
   "id": "9f2f35d5",
   "metadata": {
    "slideshow": {
     "slide_type": "fragment"
    }
   },
   "outputs": [],
   "source": [
    "using PyCall"
   ]
  },
  {
   "cell_type": "code",
   "execution_count": 2,
   "id": "a6e32445",
   "metadata": {
    "slideshow": {
     "slide_type": "skip"
    }
   },
   "outputs": [],
   "source": [
    "# The following makes it so that print statements in python will appear in this notebook\n",
    "# This is not necessary when using PyCall in a terminal based Julia instance\n",
    "pyimport(\"sys\").\"stdout\" = PyTextIO(stdout)\n",
    "pyimport(\"sys\").\"stderr\" = PyTextIO(stderr);"
   ]
  },
  {
   "cell_type": "markdown",
   "id": "d4e7e190",
   "metadata": {
    "slideshow": {
     "slide_type": "fragment"
    }
   },
   "source": [
    "We can execute arbitrary Python code with the special Julia strings `py\"...\"` and `py\"\"\"...\"\"\"`."
   ]
  },
  {
   "cell_type": "code",
   "execution_count": 3,
   "id": "a60ddef1",
   "metadata": {
    "slideshow": {
     "slide_type": "fragment"
    }
   },
   "outputs": [
    {
     "data": {
      "text/plain": [
       "PyObject <__main__.Point object at 0x7fa3d66bd340>"
      ]
     },
     "execution_count": 3,
     "metadata": {},
     "output_type": "execute_result"
    }
   ],
   "source": [
    "py\"\"\"\n",
    "import math\n",
    "class Point:\n",
    "    def __init__(self, x,y):\n",
    "        self.x = x\n",
    "        self.y = y\n",
    "    def distance(self, p):\n",
    "        return math.sqrt((self.x - p.x)**2 + (self.y - p.y)**2)\n",
    "\"\"\"\n",
    "\n",
    "p = py\"Point(1.0, 2.0)\""
   ]
  },
  {
   "cell_type": "markdown",
   "id": "9510370e",
   "metadata": {
    "slideshow": {
     "slide_type": "subslide"
    }
   },
   "source": [
    "## Calling Python\n",
    "\n",
    "We can even use Julia's string interpolation to give values to the Python code:"
   ]
  },
  {
   "cell_type": "code",
   "execution_count": 4,
   "id": "7a7895d0",
   "metadata": {
    "slideshow": {
     "slide_type": "fragment"
    }
   },
   "outputs": [
    {
     "data": {
      "text/plain": [
       "PyObject <__main__.Point object at 0x7fa3d66bdb80>"
      ]
     },
     "execution_count": 4,
     "metadata": {},
     "output_type": "execute_result"
    }
   ],
   "source": [
    "x = rand()\n",
    "q = py\"Point($(x), $rand())\""
   ]
  },
  {
   "cell_type": "markdown",
   "id": "05c02918",
   "metadata": {
    "slideshow": {
     "slide_type": "fragment"
    }
   },
   "source": [
    "Attributes are directly accessible through the standard dot syntax:"
   ]
  },
  {
   "cell_type": "code",
   "execution_count": 5,
   "id": "e3530772",
   "metadata": {
    "slideshow": {
     "slide_type": "fragment"
    }
   },
   "outputs": [
    {
     "name": "stdout",
     "output_type": "stream",
     "text": [
      "p.x = 1.0\n",
      "p.distance(q) = 1.7581695820873517\n"
     ]
    }
   ],
   "source": [
    "@show p.x\n",
    "@show p.distance(q);"
   ]
  },
  {
   "cell_type": "markdown",
   "id": "95db18bc",
   "metadata": {
    "slideshow": {
     "slide_type": "subslide"
    }
   },
   "source": [
    "## Calling Python\n",
    "\n",
    "But say we have a module in Python that we want to call from Julia.  We can do that too (otherwise this wouldn't be much use would it?). The `pyimport` function returns an object that gives us access to that modules functions:"
   ]
  },
  {
   "cell_type": "code",
   "execution_count": 6,
   "id": "463cb4ba",
   "metadata": {
    "slideshow": {
     "slide_type": "fragment"
    }
   },
   "outputs": [
    {
     "name": "stdout",
     "output_type": "stream",
     "text": [
      "maximum(abs.(A * x - b)) = 1.1102230246251565e-16\n"
     ]
    }
   ],
   "source": [
    "np = pyimport(\"numpy\")\n",
    "A = rand(3,3)\n",
    "b = rand(3)\n",
    "x = np.linalg.solve(A, b)\n",
    "@show maximum(abs.(A * x - b));"
   ]
  },
  {
   "cell_type": "markdown",
   "id": "8ab5e377",
   "metadata": {
    "slideshow": {
     "slide_type": "subslide"
    }
   },
   "source": [
    "## Calling Python\n",
    "\n",
    "In the previous slide `A` and `b` are created by Julia while `x` is created by Python but we are using them interchangeably. We can do this because PyCall handles most type conversions automatically."
   ]
  },
  {
   "cell_type": "code",
   "execution_count": 7,
   "id": "df78e3ba",
   "metadata": {
    "slideshow": {
     "slide_type": "fragment"
    }
   },
   "outputs": [
    {
     "name": "stdout",
     "output_type": "stream",
     "text": [
      "typeof(x) = Float64\n",
      "<class 'float'>\n",
      "typeof(x) = Int64\n",
      "<class 'int'>\n",
      "typeof(x) = Vector{String}\n",
      "<class 'list'>\n",
      "typeof(x) = Dict{String, Float64}\n",
      "<class 'dict'>\n",
      "typeof(x) = Matrix{Float64}\n",
      "<class 'numpy.ndarray'>\n"
     ]
    }
   ],
   "source": [
    "for x in [5.0, 2, [\"a\", \"b\"], Dict(\"a\"=>rand(), \"b\"=>rand()), A]\n",
    "    @show typeof(x)\n",
    "    py\"\"\"print(type($x))\"\"\"\n",
    "end"
   ]
  },
  {
   "cell_type": "markdown",
   "id": "198a5fc6",
   "metadata": {
    "slideshow": {
     "slide_type": "fragment"
    }
   },
   "source": [
    "Note that the matrix is converted to a numpy array if numpy is installed."
   ]
  },
  {
   "cell_type": "markdown",
   "id": "44fb52e3",
   "metadata": {
    "slideshow": {
     "slide_type": "subslide"
    }
   },
   "source": [
    "## Calling Python\n",
    "\n",
    "The same is true going from Python to Julia."
   ]
  },
  {
   "cell_type": "code",
   "execution_count": 8,
   "id": "b0c06832",
   "metadata": {
    "slideshow": {
     "slide_type": "fragment"
    }
   },
   "outputs": [
    {
     "name": "stdout",
     "output_type": "stream",
     "text": [
      "Dict{Any, Any}\n",
      "<class 'dict'>\n",
      "Vector{Any}\n",
      "<class 'list'>\n",
      "ComplexF64\n",
      "<class 'complex'>\n"
     ]
    }
   ],
   "source": [
    "py\"\"\"\n",
    "objs = [{'a':1,'b':2}, [1, 'a', 3.0], 2.0+3j]\n",
    "for k in range(len(objs)):\n",
    "    $println($typeof(objs[k]))\n",
    "    print(type(objs[k]))\n",
    "\"\"\""
   ]
  },
  {
   "cell_type": "markdown",
   "id": "e96a8087",
   "metadata": {
    "slideshow": {
     "slide_type": "subslide"
    }
   },
   "source": [
    "## Calling Python\n",
    "\n",
    "We do need to be a little careful with some of Julia's less common types especially if we give it to python and bring it back:"
   ]
  },
  {
   "cell_type": "code",
   "execution_count": 9,
   "id": "41acb527",
   "metadata": {
    "slideshow": {
     "slide_type": "fragment"
    }
   },
   "outputs": [
    {
     "name": "stdout",
     "output_type": "stream",
     "text": [
      "typeof(a) = Int32\n",
      "typeof(py\"$a\") = Int64\n"
     ]
    }
   ],
   "source": [
    "a = Int32(5)\n",
    "@show typeof(a)\n",
    "@show typeof(py\"$a\");"
   ]
  },
  {
   "cell_type": "markdown",
   "id": "d118cceb",
   "metadata": {
    "slideshow": {
     "slide_type": "fragment"
    }
   },
   "source": [
    "In these cases, we may want to handle the conversion ourselves. One option is getting the raw `PyObject` back by using the `py\"...\"o` syntax and then calling an appropriate `convert` function:"
   ]
  },
  {
   "cell_type": "code",
   "execution_count": 10,
   "id": "f7ccf797",
   "metadata": {
    "slideshow": {
     "slide_type": "fragment"
    }
   },
   "outputs": [
    {
     "name": "stdout",
     "output_type": "stream",
     "text": [
      "typeof(a) = Int32\n",
      "typeof(py\"$a\"o) = PyObject\n",
      "typeof(convert(Int32, py\"$a\"o)) = Int32\n"
     ]
    }
   ],
   "source": [
    "@show typeof(a)\n",
    "@show typeof(py\"$a\"o)\n",
    "@show typeof(convert(Int32, py\"$a\"o));"
   ]
  },
  {
   "cell_type": "markdown",
   "id": "cee85801",
   "metadata": {
    "slideshow": {
     "slide_type": "subslide"
    }
   },
   "source": [
    "## Calling Python\n",
    "\n",
    "Another way of handling (or preventing) type conversions is to use the `pycall` function. "
   ]
  },
  {
   "cell_type": "code",
   "execution_count": 11,
   "id": "425d0d01",
   "metadata": {
    "slideshow": {
     "slide_type": "fragment"
    }
   },
   "outputs": [
    {
     "data": {
      "text/plain": [
       "PyObject array([ 1.27173788, -0.55905635, -1.81371862])"
      ]
     },
     "execution_count": 11,
     "metadata": {},
     "output_type": "execute_result"
    }
   ],
   "source": [
    "pycall(np.random.normal, PyObject, size=3)"
   ]
  },
  {
   "cell_type": "markdown",
   "id": "8a2bf548",
   "metadata": {
    "slideshow": {
     "slide_type": "fragment"
    }
   },
   "source": [
    "Here we specified to leave the object as a raw PyObject (i.e. no type conversion at all)"
   ]
  },
  {
   "cell_type": "markdown",
   "id": "06b63ef7",
   "metadata": {
    "slideshow": {
     "slide_type": "fragment"
    }
   },
   "source": [
    "We can also give it a Julia type to convert to"
   ]
  },
  {
   "cell_type": "code",
   "execution_count": 12,
   "id": "2dc77f1d",
   "metadata": {
    "slideshow": {
     "slide_type": "fragment"
    }
   },
   "outputs": [
    {
     "data": {
      "text/plain": [
       "3-element Vector{ComplexF32}:\n",
       " 0.82824904f0 + 0.0f0im\n",
       " -1.8152742f0 + 0.0f0im\n",
       "  0.6555549f0 + 0.0f0im"
      ]
     },
     "execution_count": 12,
     "metadata": {},
     "output_type": "execute_result"
    }
   ],
   "source": [
    "pycall(np.random.normal, Vector{ComplexF32}, size=3)"
   ]
  },
  {
   "cell_type": "markdown",
   "id": "ccf014e3",
   "metadata": {
    "slideshow": {
     "slide_type": "fragment"
    }
   },
   "source": [
    "Here we forced the type conversion to complex numbers with 32-bit precision for the real and imaginary parts."
   ]
  },
  {
   "cell_type": "markdown",
   "id": "167150f3",
   "metadata": {
    "slideshow": {
     "slide_type": "subslide"
    }
   },
   "source": [
    "## Calling Python\n",
    "\n",
    "But what if we need to call a Python function that requires a callback? Not a problem. PyCall will automatically convert Julia functions to Python callable objects!"
   ]
  },
  {
   "cell_type": "code",
   "execution_count": 13,
   "id": "d8e80362",
   "metadata": {
    "slideshow": {
     "slide_type": "fragment"
    }
   },
   "outputs": [],
   "source": [
    "si = pyimport(\"scipy.integrate\")\n",
    "tk = 0.0:1e-2:10.0\n",
    "function my_ode(t::Float64, y::Vector{Float64})::Vector{Float64}\n",
    "    dy = zeros(length(y))\n",
    "    dy[1] = 5.0*y[1] - 5.0*y[1]*y[2]\n",
    "    dy[2] = y[1]*y[2] - y[2]\n",
    "    return dy\n",
    "end\n",
    "soln = si.solve_ivp(my_ode, (0.0, 10.0), [5.0, 1.0], t_eval=tk);"
   ]
  },
  {
   "cell_type": "code",
   "execution_count": 14,
   "id": "de969766",
   "metadata": {
    "slideshow": {
     "slide_type": "subslide"
    }
   },
   "outputs": [
    {
     "data": {
      "image/svg+xml": [
       "<?xml version=\"1.0\" encoding=\"utf-8\"?>\n",
       "<svg xmlns=\"http://www.w3.org/2000/svg\" xmlns:xlink=\"http://www.w3.org/1999/xlink\" width=\"600\" height=\"400\" viewBox=\"0 0 2400 1600\">\n",
       "<defs>\n",
       "  <clipPath id=\"clip090\">\n",
       "    <rect x=\"0\" y=\"0\" width=\"2400\" height=\"1600\"/>\n",
       "  </clipPath>\n",
       "</defs>\n",
       "<path clip-path=\"url(#clip090)\" d=\"\n",
       "M0 1600 L2400 1600 L2400 0 L0 0  Z\n",
       "  \" fill=\"#ffffff\" fill-rule=\"evenodd\" fill-opacity=\"1\"/>\n",
       "<defs>\n",
       "  <clipPath id=\"clip091\">\n",
       "    <rect x=\"480\" y=\"0\" width=\"1681\" height=\"1600\"/>\n",
       "  </clipPath>\n",
       "</defs>\n",
       "<path clip-path=\"url(#clip090)\" d=\"\n",
       "M112.177 1486.45 L2352.76 1486.45 L2352.76 47.2441 L112.177 47.2441  Z\n",
       "  \" fill=\"#ffffff\" fill-rule=\"evenodd\" fill-opacity=\"1\"/>\n",
       "<defs>\n",
       "  <clipPath id=\"clip092\">\n",
       "    <rect x=\"112\" y=\"47\" width=\"2242\" height=\"1440\"/>\n",
       "  </clipPath>\n",
       "</defs>\n",
       "<polyline clip-path=\"url(#clip092)\" style=\"stroke:#000000; stroke-linecap:butt; stroke-linejoin:round; stroke-width:2; stroke-opacity:0.1; fill:none\" points=\"\n",
       "  175.59,1486.45 175.59,47.2441 \n",
       "  \"/>\n",
       "<polyline clip-path=\"url(#clip092)\" style=\"stroke:#000000; stroke-linecap:butt; stroke-linejoin:round; stroke-width:2; stroke-opacity:0.1; fill:none\" points=\"\n",
       "  704.028,1486.45 704.028,47.2441 \n",
       "  \"/>\n",
       "<polyline clip-path=\"url(#clip092)\" style=\"stroke:#000000; stroke-linecap:butt; stroke-linejoin:round; stroke-width:2; stroke-opacity:0.1; fill:none\" points=\"\n",
       "  1232.47,1486.45 1232.47,47.2441 \n",
       "  \"/>\n",
       "<polyline clip-path=\"url(#clip092)\" style=\"stroke:#000000; stroke-linecap:butt; stroke-linejoin:round; stroke-width:2; stroke-opacity:0.1; fill:none\" points=\"\n",
       "  1760.9,1486.45 1760.9,47.2441 \n",
       "  \"/>\n",
       "<polyline clip-path=\"url(#clip092)\" style=\"stroke:#000000; stroke-linecap:butt; stroke-linejoin:round; stroke-width:2; stroke-opacity:0.1; fill:none\" points=\"\n",
       "  2289.34,1486.45 2289.34,47.2441 \n",
       "  \"/>\n",
       "<polyline clip-path=\"url(#clip090)\" style=\"stroke:#000000; stroke-linecap:butt; stroke-linejoin:round; stroke-width:4; stroke-opacity:1; fill:none\" points=\"\n",
       "  112.177,1486.45 2352.76,1486.45 \n",
       "  \"/>\n",
       "<polyline clip-path=\"url(#clip090)\" style=\"stroke:#000000; stroke-linecap:butt; stroke-linejoin:round; stroke-width:4; stroke-opacity:1; fill:none\" points=\"\n",
       "  175.59,1486.45 175.59,1467.55 \n",
       "  \"/>\n",
       "<polyline clip-path=\"url(#clip090)\" style=\"stroke:#000000; stroke-linecap:butt; stroke-linejoin:round; stroke-width:4; stroke-opacity:1; fill:none\" points=\"\n",
       "  704.028,1486.45 704.028,1467.55 \n",
       "  \"/>\n",
       "<polyline clip-path=\"url(#clip090)\" style=\"stroke:#000000; stroke-linecap:butt; stroke-linejoin:round; stroke-width:4; stroke-opacity:1; fill:none\" points=\"\n",
       "  1232.47,1486.45 1232.47,1467.55 \n",
       "  \"/>\n",
       "<polyline clip-path=\"url(#clip090)\" style=\"stroke:#000000; stroke-linecap:butt; stroke-linejoin:round; stroke-width:4; stroke-opacity:1; fill:none\" points=\"\n",
       "  1760.9,1486.45 1760.9,1467.55 \n",
       "  \"/>\n",
       "<polyline clip-path=\"url(#clip090)\" style=\"stroke:#000000; stroke-linecap:butt; stroke-linejoin:round; stroke-width:4; stroke-opacity:1; fill:none\" points=\"\n",
       "  2289.34,1486.45 2289.34,1467.55 \n",
       "  \"/>\n",
       "<path clip-path=\"url(#clip090)\" d=\"M152.974 1515.64 Q149.363 1515.64 147.534 1519.2 Q145.729 1522.75 145.729 1529.87 Q145.729 1536.98 147.534 1540.55 Q149.363 1544.09 152.974 1544.09 Q156.608 1544.09 158.414 1540.55 Q160.243 1536.98 160.243 1529.87 Q160.243 1522.75 158.414 1519.2 Q156.608 1515.64 152.974 1515.64 M152.974 1511.93 Q158.784 1511.93 161.84 1516.54 Q164.919 1521.12 164.919 1529.87 Q164.919 1538.6 161.84 1543.21 Q158.784 1547.79 152.974 1547.79 Q147.164 1547.79 144.085 1543.21 Q141.03 1538.6 141.03 1529.87 Q141.03 1521.12 144.085 1516.54 Q147.164 1511.93 152.974 1511.93 Z\" fill=\"#000000\" fill-rule=\"evenodd\" fill-opacity=\"1\" /><path clip-path=\"url(#clip090)\" d=\"M173.136 1541.24 L178.02 1541.24 L178.02 1547.12 L173.136 1547.12 L173.136 1541.24 Z\" fill=\"#000000\" fill-rule=\"evenodd\" fill-opacity=\"1\" /><path clip-path=\"url(#clip090)\" d=\"M198.205 1515.64 Q194.594 1515.64 192.766 1519.2 Q190.96 1522.75 190.96 1529.87 Q190.96 1536.98 192.766 1540.55 Q194.594 1544.09 198.205 1544.09 Q201.84 1544.09 203.645 1540.55 Q205.474 1536.98 205.474 1529.87 Q205.474 1522.75 203.645 1519.2 Q201.84 1515.64 198.205 1515.64 M198.205 1511.93 Q204.016 1511.93 207.071 1516.54 Q210.15 1521.12 210.15 1529.87 Q210.15 1538.6 207.071 1543.21 Q204.016 1547.79 198.205 1547.79 Q192.395 1547.79 189.317 1543.21 Q186.261 1538.6 186.261 1529.87 Q186.261 1521.12 189.317 1516.54 Q192.395 1511.93 198.205 1511.93 Z\" fill=\"#000000\" fill-rule=\"evenodd\" fill-opacity=\"1\" /><path clip-path=\"url(#clip090)\" d=\"M675.764 1543.18 L692.084 1543.18 L692.084 1547.12 L670.139 1547.12 L670.139 1543.18 Q672.801 1540.43 677.385 1535.8 Q681.991 1531.15 683.172 1529.81 Q685.417 1527.28 686.297 1525.55 Q687.2 1523.79 687.2 1522.1 Q687.2 1519.34 685.255 1517.61 Q683.334 1515.87 680.232 1515.87 Q678.033 1515.87 675.579 1516.63 Q673.149 1517.4 670.371 1518.95 L670.371 1514.23 Q673.195 1513.09 675.649 1512.51 Q678.102 1511.93 680.139 1511.93 Q685.51 1511.93 688.704 1514.62 Q691.899 1517.31 691.899 1521.8 Q691.899 1523.93 691.088 1525.85 Q690.301 1527.74 688.195 1530.34 Q687.616 1531.01 684.514 1534.23 Q681.413 1537.42 675.764 1543.18 Z\" fill=\"#000000\" fill-rule=\"evenodd\" fill-opacity=\"1\" /><path clip-path=\"url(#clip090)\" d=\"M701.899 1541.24 L706.783 1541.24 L706.783 1547.12 L701.899 1547.12 L701.899 1541.24 Z\" fill=\"#000000\" fill-rule=\"evenodd\" fill-opacity=\"1\" /><path clip-path=\"url(#clip090)\" d=\"M717.014 1512.56 L735.371 1512.56 L735.371 1516.5 L721.297 1516.5 L721.297 1524.97 Q722.315 1524.62 723.334 1524.46 Q724.352 1524.27 725.371 1524.27 Q731.158 1524.27 734.537 1527.44 Q737.917 1530.62 737.917 1536.03 Q737.917 1541.61 734.445 1544.71 Q730.972 1547.79 724.653 1547.79 Q722.477 1547.79 720.209 1547.42 Q717.963 1547.05 715.556 1546.31 L715.556 1541.61 Q717.639 1542.74 719.861 1543.3 Q722.084 1543.86 724.56 1543.86 Q728.565 1543.86 730.903 1541.75 Q733.241 1539.64 733.241 1536.03 Q733.241 1532.42 730.903 1530.31 Q728.565 1528.21 724.56 1528.21 Q722.685 1528.21 720.81 1528.62 Q718.959 1529.04 717.014 1529.92 L717.014 1512.56 Z\" fill=\"#000000\" fill-rule=\"evenodd\" fill-opacity=\"1\" /><path clip-path=\"url(#clip090)\" d=\"M1199.63 1512.56 L1217.99 1512.56 L1217.99 1516.5 L1203.91 1516.5 L1203.91 1524.97 Q1204.93 1524.62 1205.95 1524.46 Q1206.97 1524.27 1207.99 1524.27 Q1213.77 1524.27 1217.15 1527.44 Q1220.53 1530.62 1220.53 1536.03 Q1220.53 1541.61 1217.06 1544.71 Q1213.59 1547.79 1207.27 1547.79 Q1205.09 1547.79 1202.83 1547.42 Q1200.58 1547.05 1198.17 1546.31 L1198.17 1541.61 Q1200.26 1542.74 1202.48 1543.3 Q1204.7 1543.86 1207.18 1543.86 Q1211.18 1543.86 1213.52 1541.75 Q1215.86 1539.64 1215.86 1536.03 Q1215.86 1532.42 1213.52 1530.31 Q1211.18 1528.21 1207.18 1528.21 Q1205.3 1528.21 1203.43 1528.62 Q1201.58 1529.04 1199.63 1529.92 L1199.63 1512.56 Z\" fill=\"#000000\" fill-rule=\"evenodd\" fill-opacity=\"1\" /><path clip-path=\"url(#clip090)\" d=\"M1229.75 1541.24 L1234.63 1541.24 L1234.63 1547.12 L1229.75 1547.12 L1229.75 1541.24 Z\" fill=\"#000000\" fill-rule=\"evenodd\" fill-opacity=\"1\" /><path clip-path=\"url(#clip090)\" d=\"M1254.82 1515.64 Q1251.2 1515.64 1249.38 1519.2 Q1247.57 1522.75 1247.57 1529.87 Q1247.57 1536.98 1249.38 1540.55 Q1251.2 1544.09 1254.82 1544.09 Q1258.45 1544.09 1260.26 1540.55 Q1262.08 1536.98 1262.08 1529.87 Q1262.08 1522.75 1260.26 1519.2 Q1258.45 1515.64 1254.82 1515.64 M1254.82 1511.93 Q1260.63 1511.93 1263.68 1516.54 Q1266.76 1521.12 1266.76 1529.87 Q1266.76 1538.6 1263.68 1543.21 Q1260.63 1547.79 1254.82 1547.79 Q1249.01 1547.79 1245.93 1543.21 Q1242.87 1538.6 1242.87 1529.87 Q1242.87 1521.12 1245.93 1516.54 Q1249.01 1511.93 1254.82 1511.93 Z\" fill=\"#000000\" fill-rule=\"evenodd\" fill-opacity=\"1\" /><path clip-path=\"url(#clip090)\" d=\"M1727.22 1512.56 L1749.45 1512.56 L1749.45 1514.55 L1736.9 1547.12 L1732.02 1547.12 L1743.82 1516.5 L1727.22 1516.5 L1727.22 1512.56 Z\" fill=\"#000000\" fill-rule=\"evenodd\" fill-opacity=\"1\" /><path clip-path=\"url(#clip090)\" d=\"M1758.57 1541.24 L1763.45 1541.24 L1763.45 1547.12 L1758.57 1547.12 L1758.57 1541.24 Z\" fill=\"#000000\" fill-rule=\"evenodd\" fill-opacity=\"1\" /><path clip-path=\"url(#clip090)\" d=\"M1773.68 1512.56 L1792.04 1512.56 L1792.04 1516.5 L1777.97 1516.5 L1777.97 1524.97 Q1778.98 1524.62 1780 1524.46 Q1781.02 1524.27 1782.04 1524.27 Q1787.83 1524.27 1791.21 1527.44 Q1794.59 1530.62 1794.59 1536.03 Q1794.59 1541.61 1791.11 1544.71 Q1787.64 1547.79 1781.32 1547.79 Q1779.15 1547.79 1776.88 1547.42 Q1774.63 1547.05 1772.22 1546.31 L1772.22 1541.61 Q1774.31 1542.74 1776.53 1543.3 Q1778.75 1543.86 1781.23 1543.86 Q1785.23 1543.86 1787.57 1541.75 Q1789.91 1539.64 1789.91 1536.03 Q1789.91 1532.42 1787.57 1530.31 Q1785.23 1528.21 1781.23 1528.21 Q1779.35 1528.21 1777.48 1528.62 Q1775.63 1529.04 1773.68 1529.92 L1773.68 1512.56 Z\" fill=\"#000000\" fill-rule=\"evenodd\" fill-opacity=\"1\" /><path clip-path=\"url(#clip090)\" d=\"M2241.42 1543.18 L2249.05 1543.18 L2249.05 1516.82 L2240.74 1518.49 L2240.74 1514.23 L2249.01 1512.56 L2253.68 1512.56 L2253.68 1543.18 L2261.32 1543.18 L2261.32 1547.12 L2241.42 1547.12 L2241.42 1543.18 Z\" fill=\"#000000\" fill-rule=\"evenodd\" fill-opacity=\"1\" /><path clip-path=\"url(#clip090)\" d=\"M2280.77 1515.64 Q2277.16 1515.64 2275.33 1519.2 Q2273.52 1522.75 2273.52 1529.87 Q2273.52 1536.98 2275.33 1540.55 Q2277.16 1544.09 2280.77 1544.09 Q2284.4 1544.09 2286.21 1540.55 Q2288.04 1536.98 2288.04 1529.87 Q2288.04 1522.75 2286.21 1519.2 Q2284.4 1515.64 2280.77 1515.64 M2280.77 1511.93 Q2286.58 1511.93 2289.63 1516.54 Q2292.71 1521.12 2292.71 1529.87 Q2292.71 1538.6 2289.63 1543.21 Q2286.58 1547.79 2280.77 1547.79 Q2274.96 1547.79 2271.88 1543.21 Q2268.82 1538.6 2268.82 1529.87 Q2268.82 1521.12 2271.88 1516.54 Q2274.96 1511.93 2280.77 1511.93 Z\" fill=\"#000000\" fill-rule=\"evenodd\" fill-opacity=\"1\" /><path clip-path=\"url(#clip090)\" d=\"M2300.93 1541.24 L2305.81 1541.24 L2305.81 1547.12 L2300.93 1547.12 L2300.93 1541.24 Z\" fill=\"#000000\" fill-rule=\"evenodd\" fill-opacity=\"1\" /><path clip-path=\"url(#clip090)\" d=\"M2326 1515.64 Q2322.39 1515.64 2320.56 1519.2 Q2318.75 1522.75 2318.75 1529.87 Q2318.75 1536.98 2320.56 1540.55 Q2322.39 1544.09 2326 1544.09 Q2329.63 1544.09 2331.44 1540.55 Q2333.27 1536.98 2333.27 1529.87 Q2333.27 1522.75 2331.44 1519.2 Q2329.63 1515.64 2326 1515.64 M2326 1511.93 Q2331.81 1511.93 2334.86 1516.54 Q2337.94 1521.12 2337.94 1529.87 Q2337.94 1538.6 2334.86 1543.21 Q2331.81 1547.79 2326 1547.79 Q2320.19 1547.79 2317.11 1543.21 Q2314.05 1538.6 2314.05 1529.87 Q2314.05 1521.12 2317.11 1516.54 Q2320.19 1511.93 2326 1511.93 Z\" fill=\"#000000\" fill-rule=\"evenodd\" fill-opacity=\"1\" /><polyline clip-path=\"url(#clip092)\" style=\"stroke:#000000; stroke-linecap:butt; stroke-linejoin:round; stroke-width:2; stroke-opacity:0.1; fill:none\" points=\"\n",
       "  112.177,1454.69 2352.76,1454.69 \n",
       "  \"/>\n",
       "<polyline clip-path=\"url(#clip092)\" style=\"stroke:#000000; stroke-linecap:butt; stroke-linejoin:round; stroke-width:2; stroke-opacity:0.1; fill:none\" points=\"\n",
       "  112.177,1183.92 2352.76,1183.92 \n",
       "  \"/>\n",
       "<polyline clip-path=\"url(#clip092)\" style=\"stroke:#000000; stroke-linecap:butt; stroke-linejoin:round; stroke-width:2; stroke-opacity:0.1; fill:none\" points=\"\n",
       "  112.177,913.146 2352.76,913.146 \n",
       "  \"/>\n",
       "<polyline clip-path=\"url(#clip092)\" style=\"stroke:#000000; stroke-linecap:butt; stroke-linejoin:round; stroke-width:2; stroke-opacity:0.1; fill:none\" points=\"\n",
       "  112.177,642.373 2352.76,642.373 \n",
       "  \"/>\n",
       "<polyline clip-path=\"url(#clip092)\" style=\"stroke:#000000; stroke-linecap:butt; stroke-linejoin:round; stroke-width:2; stroke-opacity:0.1; fill:none\" points=\"\n",
       "  112.177,371.601 2352.76,371.601 \n",
       "  \"/>\n",
       "<polyline clip-path=\"url(#clip092)\" style=\"stroke:#000000; stroke-linecap:butt; stroke-linejoin:round; stroke-width:2; stroke-opacity:0.1; fill:none\" points=\"\n",
       "  112.177,100.829 2352.76,100.829 \n",
       "  \"/>\n",
       "<polyline clip-path=\"url(#clip090)\" style=\"stroke:#000000; stroke-linecap:butt; stroke-linejoin:round; stroke-width:4; stroke-opacity:1; fill:none\" points=\"\n",
       "  112.177,1486.45 112.177,47.2441 \n",
       "  \"/>\n",
       "<polyline clip-path=\"url(#clip090)\" style=\"stroke:#000000; stroke-linecap:butt; stroke-linejoin:round; stroke-width:4; stroke-opacity:1; fill:none\" points=\"\n",
       "  112.177,1454.69 131.075,1454.69 \n",
       "  \"/>\n",
       "<polyline clip-path=\"url(#clip090)\" style=\"stroke:#000000; stroke-linecap:butt; stroke-linejoin:round; stroke-width:4; stroke-opacity:1; fill:none\" points=\"\n",
       "  112.177,1183.92 131.075,1183.92 \n",
       "  \"/>\n",
       "<polyline clip-path=\"url(#clip090)\" style=\"stroke:#000000; stroke-linecap:butt; stroke-linejoin:round; stroke-width:4; stroke-opacity:1; fill:none\" points=\"\n",
       "  112.177,913.146 131.075,913.146 \n",
       "  \"/>\n",
       "<polyline clip-path=\"url(#clip090)\" style=\"stroke:#000000; stroke-linecap:butt; stroke-linejoin:round; stroke-width:4; stroke-opacity:1; fill:none\" points=\"\n",
       "  112.177,642.373 131.075,642.373 \n",
       "  \"/>\n",
       "<polyline clip-path=\"url(#clip090)\" style=\"stroke:#000000; stroke-linecap:butt; stroke-linejoin:round; stroke-width:4; stroke-opacity:1; fill:none\" points=\"\n",
       "  112.177,371.601 131.075,371.601 \n",
       "  \"/>\n",
       "<polyline clip-path=\"url(#clip090)\" style=\"stroke:#000000; stroke-linecap:butt; stroke-linejoin:round; stroke-width:4; stroke-opacity:1; fill:none\" points=\"\n",
       "  112.177,100.829 131.075,100.829 \n",
       "  \"/>\n",
       "<path clip-path=\"url(#clip090)\" d=\"M64.2328 1440.49 Q60.6217 1440.49 58.793 1444.05 Q56.9875 1447.6 56.9875 1454.72 Q56.9875 1461.83 58.793 1465.4 Q60.6217 1468.94 64.2328 1468.94 Q67.867 1468.94 69.6726 1465.4 Q71.5013 1461.83 71.5013 1454.72 Q71.5013 1447.6 69.6726 1444.05 Q67.867 1440.49 64.2328 1440.49 M64.2328 1436.78 Q70.0429 1436.78 73.0985 1441.39 Q76.1772 1445.97 76.1772 1454.72 Q76.1772 1463.45 73.0985 1468.06 Q70.0429 1472.64 64.2328 1472.64 Q58.4226 1472.64 55.344 1468.06 Q52.2884 1463.45 52.2884 1454.72 Q52.2884 1445.97 55.344 1441.39 Q58.4226 1436.78 64.2328 1436.78 Z\" fill=\"#000000\" fill-rule=\"evenodd\" fill-opacity=\"1\" /><path clip-path=\"url(#clip090)\" d=\"M56.2699 1197.26 L63.9087 1197.26 L63.9087 1170.9 L55.5986 1172.56 L55.5986 1168.3 L63.8624 1166.64 L68.5383 1166.64 L68.5383 1197.26 L76.1772 1197.26 L76.1772 1201.2 L56.2699 1201.2 L56.2699 1197.26 Z\" fill=\"#000000\" fill-rule=\"evenodd\" fill-opacity=\"1\" /><path clip-path=\"url(#clip090)\" d=\"M59.8578 926.49 L76.1772 926.49 L76.1772 930.426 L54.2328 930.426 L54.2328 926.49 Q56.8949 923.736 61.4782 919.106 Q66.0846 914.453 67.2652 913.111 Q69.5105 910.588 70.3902 908.852 Q71.2929 907.092 71.2929 905.403 Q71.2929 902.648 69.3485 900.912 Q67.4272 899.176 64.3254 899.176 Q62.1263 899.176 59.6726 899.94 Q57.2421 900.703 54.4643 902.254 L54.4643 897.532 Q57.2884 896.398 59.7421 895.819 Q62.1958 895.241 64.2328 895.241 Q69.6031 895.241 72.7976 897.926 Q75.992 900.611 75.992 905.102 Q75.992 907.231 75.1818 909.153 Q74.3948 911.051 72.2883 913.643 Q71.7096 914.315 68.6078 917.532 Q65.5059 920.727 59.8578 926.49 Z\" fill=\"#000000\" fill-rule=\"evenodd\" fill-opacity=\"1\" /><path clip-path=\"url(#clip090)\" d=\"M69.0476 641.019 Q72.404 641.737 74.279 644.005 Q76.1772 646.274 76.1772 649.607 Q76.1772 654.723 72.6587 657.524 Q69.1402 660.325 62.6587 660.325 Q60.4828 660.325 58.168 659.885 Q55.8764 659.468 53.4227 658.612 L53.4227 654.098 Q55.3671 655.232 57.6819 655.811 Q59.9967 656.389 62.5198 656.389 Q66.918 656.389 69.2096 654.653 Q71.5244 652.917 71.5244 649.607 Q71.5244 646.552 69.3717 644.839 Q67.242 643.103 63.4226 643.103 L59.3949 643.103 L59.3949 639.26 L63.6078 639.26 Q67.0569 639.26 68.8855 637.894 Q70.7142 636.505 70.7142 633.913 Q70.7142 631.251 68.8161 629.839 Q66.9411 628.404 63.4226 628.404 Q61.5013 628.404 59.3023 628.82 Q57.1032 629.237 54.4643 630.116 L54.4643 625.95 Q57.1264 625.209 59.4412 624.839 Q61.7791 624.468 63.8393 624.468 Q69.1633 624.468 72.2652 626.899 Q75.367 629.306 75.367 633.427 Q75.367 636.297 73.7235 638.288 Q72.08 640.255 69.0476 641.019 Z\" fill=\"#000000\" fill-rule=\"evenodd\" fill-opacity=\"1\" /><path clip-path=\"url(#clip090)\" d=\"M66.5939 358.395 L54.7884 376.844 L66.5939 376.844 L66.5939 358.395 M65.367 354.321 L71.2466 354.321 L71.2466 376.844 L76.1772 376.844 L76.1772 380.733 L71.2466 380.733 L71.2466 388.881 L66.5939 388.881 L66.5939 380.733 L50.9921 380.733 L50.9921 376.219 L65.367 354.321 Z\" fill=\"#000000\" fill-rule=\"evenodd\" fill-opacity=\"1\" /><path clip-path=\"url(#clip090)\" d=\"M55.2745 83.549 L73.6309 83.549 L73.6309 87.4842 L59.5569 87.4842 L59.5569 95.9564 Q60.5754 95.6091 61.5939 95.4471 Q62.6124 95.2619 63.6309 95.2619 Q69.418 95.2619 72.7976 98.4332 Q76.1772 101.604 76.1772 107.021 Q76.1772 112.6 72.705 115.702 Q69.2328 118.78 62.9134 118.78 Q60.7374 118.78 58.4689 118.41 Q56.2236 118.04 53.8162 117.299 L53.8162 112.6 Q55.8995 113.734 58.1217 114.29 Q60.3439 114.845 62.8208 114.845 Q66.8254 114.845 69.1633 112.739 Q71.5013 110.632 71.5013 107.021 Q71.5013 103.41 69.1633 101.304 Q66.8254 99.1971 62.8208 99.1971 Q60.9458 99.1971 59.0708 99.6138 Q57.2189 100.03 55.2745 100.91 L55.2745 83.549 Z\" fill=\"#000000\" fill-rule=\"evenodd\" fill-opacity=\"1\" /><polyline clip-path=\"url(#clip092)\" style=\"stroke:#009af9; stroke-linecap:butt; stroke-linejoin:round; stroke-width:4; stroke-opacity:1; fill:none\" points=\"\n",
       "  175.59,100.829 177.704,102.199 179.817,106.374 181.931,113.431 184.045,123.419 186.159,136.361 188.272,152.298 190.386,171.551 192.5,193.934 194.614,219.141 \n",
       "  196.727,246.879 198.841,276.863 200.955,308.816 203.069,342.474 205.182,377.58 207.296,413.887 209.41,451.16 211.524,489.171 213.637,527.701 215.751,566.544 \n",
       "  217.865,605.501 219.979,644.383 222.092,683.012 224.206,721.217 226.32,758.839 228.434,795.728 230.547,831.743 232.661,866.754 234.775,900.638 236.889,933.133 \n",
       "  239.002,964.118 241.116,993.627 243.23,1021.69 245.344,1048.36 247.457,1073.65 249.571,1097.61 251.685,1120.27 253.799,1141.68 255.912,1161.86 258.026,1180.86 \n",
       "  260.14,1198.71 262.254,1215.46 264.367,1231.14 266.481,1245.79 268.595,1259.46 270.709,1272.19 272.822,1284.01 274.936,1294.98 277.05,1305.12 279.164,1314.49 \n",
       "  281.277,1323.13 283.391,1331.08 285.505,1338.47 287.619,1345.34 289.732,1351.74 291.846,1357.7 293.96,1363.25 296.074,1368.43 298.187,1373.27 300.301,1377.78 \n",
       "  302.415,1381.99 304.529,1385.93 306.642,1389.62 308.756,1393.07 310.87,1396.29 312.984,1399.3 315.098,1402.11 317.211,1404.72 319.325,1407.15 321.439,1409.41 \n",
       "  323.553,1411.54 325.666,1413.52 327.78,1415.39 329.894,1417.14 332.008,1418.78 334.121,1420.32 336.235,1421.77 338.349,1423.13 340.463,1424.41 342.576,1425.62 \n",
       "  344.69,1426.76 346.804,1427.83 348.918,1428.84 351.031,1429.8 353.145,1430.69 355.259,1431.54 357.373,1432.34 359.486,1433.09 361.6,1433.81 363.714,1434.48 \n",
       "  365.828,1435.12 367.941,1435.72 370.055,1436.29 372.169,1436.83 374.283,1437.34 376.396,1437.82 378.51,1438.28 380.624,1438.71 382.738,1439.12 384.851,1439.51 \n",
       "  386.965,1439.88 389.079,1440.23 391.193,1440.57 393.306,1440.88 395.42,1441.18 397.534,1441.47 399.648,1441.74 401.761,1442 403.875,1442.24 405.989,1442.47 \n",
       "  408.103,1442.69 410.216,1442.89 412.33,1443.09 414.444,1443.27 416.558,1443.45 418.671,1443.61 420.785,1443.77 422.899,1443.91 425.013,1444.05 427.126,1444.18 \n",
       "  429.24,1444.31 431.354,1444.42 433.468,1444.53 435.581,1444.63 437.695,1444.72 439.809,1444.81 441.923,1444.89 444.036,1444.96 446.15,1445.03 448.264,1445.09 \n",
       "  450.378,1445.15 452.491,1445.2 454.605,1445.25 456.719,1445.29 458.833,1445.33 460.947,1445.36 463.06,1445.38 465.174,1445.41 467.288,1445.42 469.402,1445.44 \n",
       "  471.515,1445.44 473.629,1445.45 475.743,1445.45 477.857,1445.44 479.97,1445.43 482.084,1445.42 484.198,1445.4 486.312,1445.38 488.425,1445.35 490.539,1445.32 \n",
       "  492.653,1445.28 494.767,1445.24 496.88,1445.2 498.994,1445.15 501.108,1445.1 503.222,1445.04 505.335,1444.98 507.449,1444.91 509.563,1444.84 511.677,1444.76 \n",
       "  513.79,1444.68 515.904,1444.6 518.018,1444.51 520.132,1444.41 522.245,1444.31 524.359,1444.21 526.473,1444.1 528.587,1443.99 530.7,1443.86 532.814,1443.74 \n",
       "  534.928,1443.61 537.042,1443.47 539.155,1443.33 541.269,1443.18 543.383,1443.02 545.497,1442.86 547.61,1442.7 549.724,1442.52 551.838,1442.34 553.952,1442.15 \n",
       "  556.065,1441.96 558.179,1441.76 560.293,1441.55 562.407,1441.33 564.52,1441.1 566.634,1440.86 568.748,1440.62 570.862,1440.36 572.975,1440.09 575.089,1439.82 \n",
       "  577.203,1439.53 579.317,1439.23 581.43,1438.93 583.544,1438.61 585.658,1438.29 587.772,1437.95 589.885,1437.61 591.999,1437.25 594.113,1436.88 596.227,1436.5 \n",
       "  598.34,1436.11 600.454,1435.71 602.568,1435.29 604.682,1434.87 606.795,1434.42 608.909,1433.97 611.023,1433.5 613.137,1433.01 615.251,1432.51 617.364,1431.99 \n",
       "  619.478,1431.46 621.592,1430.91 623.706,1430.33 625.819,1429.74 627.933,1429.13 630.047,1428.5 632.161,1427.84 634.274,1427.16 636.388,1426.46 638.502,1425.73 \n",
       "  640.616,1424.98 642.729,1424.19 644.843,1423.38 646.957,1422.54 649.071,1421.67 651.184,1420.77 653.298,1419.83 655.412,1418.85 657.526,1417.85 659.639,1416.8 \n",
       "  661.753,1415.71 663.867,1414.59 665.981,1413.42 668.094,1412.21 670.208,1410.95 672.322,1409.65 674.436,1408.3 676.549,1406.9 678.663,1405.44 680.777,1403.94 \n",
       "  682.891,1402.37 685.004,1400.76 687.118,1399.08 689.232,1397.34 691.346,1395.54 693.459,1393.67 695.573,1391.74 697.687,1389.74 699.801,1387.67 701.914,1385.53 \n",
       "  704.028,1383.31 706.142,1381.01 708.256,1378.64 710.369,1376.18 712.483,1373.64 714.597,1371.02 716.711,1368.31 718.824,1365.5 720.938,1362.59 723.052,1359.58 \n",
       "  725.166,1356.46 727.279,1353.23 729.393,1349.87 731.507,1346.4 733.621,1342.79 735.734,1339.05 737.848,1335.18 739.962,1331.15 742.076,1326.97 744.189,1322.64 \n",
       "  746.303,1318.14 748.417,1313.47 750.531,1308.62 752.644,1303.59 754.758,1298.37 756.872,1292.96 758.986,1287.34 761.1,1281.51 763.213,1275.46 765.327,1269.19 \n",
       "  767.441,1262.68 769.555,1255.94 771.668,1248.94 773.782,1241.7 775.896,1234.18 778.01,1226.4 780.123,1218.34 782.237,1209.99 784.351,1201.34 786.465,1192.38 \n",
       "  788.578,1183.12 790.692,1173.53 792.806,1163.61 794.92,1153.34 797.033,1142.73 799.147,1131.76 801.261,1120.42 803.375,1108.7 805.488,1096.59 807.602,1084.08 \n",
       "  809.716,1071.17 811.83,1057.83 813.943,1044.07 816.057,1029.87 818.171,1015.22 820.285,1000.11 822.398,984.524 824.512,968.458 826.626,951.911 828.74,934.922 \n",
       "  830.853,917.471 832.967,899.537 835.081,881.101 837.195,862.151 839.308,842.677 841.422,822.674 843.536,802.142 845.65,781.085 847.763,759.51 849.877,737.43 \n",
       "  851.991,714.862 854.105,691.827 856.218,668.351 858.332,644.463 860.446,620.197 862.56,595.592 864.673,570.691 866.787,545.541 868.901,520.193 871.015,494.703 \n",
       "  873.128,469.13 875.242,443.541 877.356,418.003 879.47,392.589 881.583,367.377 883.697,342.448 885.811,317.879 887.925,293.656 890.038,269.946 892.152,246.964 \n",
       "  894.266,224.918 896.38,204.004 898.493,184.409 900.607,166.31 902.721,149.877 904.835,135.267 906.948,122.629 909.062,112.104 911.176,103.82 913.29,97.8989 \n",
       "  915.404,94.4505 917.517,93.5766 919.631,95.3687 921.745,99.9091 923.859,107.27 925.972,117.516 928.086,130.699 930.2,146.863 932.314,166.074 934.427,188.505 \n",
       "  936.541,213.917 938.655,241.995 940.769,272.436 942.882,304.945 944.996,339.239 947.11,375.044 949.224,412.097 951.337,450.146 953.451,488.945 955.565,528.264 \n",
       "  957.679,567.879 959.792,607.576 961.906,647.154 964.02,686.421 966.134,725.193 968.247,763.299 970.361,800.577 972.475,836.875 974.589,872.051 976.702,905.973 \n",
       "  978.816,938.518 980.93,969.597 983.044,999.203 985.157,1027.34 987.271,1054.02 989.385,1079.26 991.499,1103.09 993.612,1125.54 995.726,1146.63 997.84,1166.42 \n",
       "  999.954,1184.95 1002.07,1202.27 1004.18,1218.45 1006.29,1233.56 1008.41,1247.65 1010.52,1260.79 1012.64,1273.04 1014.75,1284.45 1016.86,1295.08 1018.98,1304.99 \n",
       "  1021.09,1314.21 1023.2,1322.81 1025.32,1330.82 1027.43,1338.28 1029.55,1345.22 1031.66,1351.69 1033.77,1357.7 1035.89,1363.29 1038,1368.47 1040.11,1373.3 \n",
       "  1042.23,1377.81 1044.34,1382 1046.46,1385.92 1048.57,1389.57 1050.68,1392.98 1052.8,1396.17 1054.91,1399.15 1057.02,1401.94 1059.14,1404.55 1061.25,1407 \n",
       "  1063.37,1409.29 1065.48,1411.44 1067.59,1413.45 1069.71,1415.34 1071.82,1417.1 1073.94,1418.75 1076.05,1420.3 1078.16,1421.75 1080.28,1423.12 1082.39,1424.4 \n",
       "  1084.5,1425.61 1086.62,1426.75 1088.73,1427.82 1090.85,1428.83 1092.96,1429.79 1095.07,1430.69 1097.19,1431.53 1099.3,1432.34 1101.41,1433.09 1103.53,1433.81 \n",
       "  1105.64,1434.49 1107.76,1435.13 1109.87,1435.74 1111.98,1436.31 1114.1,1436.85 1116.21,1437.36 1118.32,1437.85 1120.44,1438.31 1122.55,1438.75 1124.67,1439.16 \n",
       "  1126.78,1439.55 1128.89,1439.92 1131.01,1440.27 1133.12,1440.6 1135.23,1440.92 1137.35,1441.22 1139.46,1441.5 1141.58,1441.77 1143.69,1442.02 1145.8,1442.26 \n",
       "  1147.92,1442.49 1150.03,1442.71 1152.14,1442.91 1154.26,1443.11 1156.37,1443.29 1158.49,1443.47 1160.6,1443.63 1162.71,1443.79 1164.83,1443.94 1166.94,1444.08 \n",
       "  1169.05,1444.21 1171.17,1444.34 1173.28,1444.45 1175.4,1444.56 1177.51,1444.67 1179.62,1444.76 1181.74,1444.85 1183.85,1444.93 1185.96,1445.01 1188.08,1445.08 \n",
       "  1190.19,1445.14 1192.31,1445.2 1194.42,1445.25 1196.53,1445.3 1198.65,1445.34 1200.76,1445.38 1202.87,1445.41 1204.99,1445.44 1207.1,1445.46 1209.22,1445.48 \n",
       "  1211.33,1445.49 1213.44,1445.5 1215.56,1445.5 1217.67,1445.5 1219.78,1445.5 1221.9,1445.49 1224.01,1445.47 1226.13,1445.46 1228.24,1445.43 1230.35,1445.41 \n",
       "  1232.47,1445.38 1234.58,1445.34 1236.69,1445.3 1238.81,1445.26 1240.92,1445.21 1243.04,1445.16 1245.15,1445.1 1247.26,1445.04 1249.38,1444.97 1251.49,1444.9 \n",
       "  1253.6,1444.83 1255.72,1444.75 1257.83,1444.66 1259.95,1444.58 1262.06,1444.48 1264.17,1444.38 1266.29,1444.28 1268.4,1444.17 1270.51,1444.06 1272.63,1443.94 \n",
       "  1274.74,1443.81 1276.86,1443.68 1278.97,1443.55 1281.08,1443.41 1283.2,1443.26 1285.31,1443.11 1287.42,1442.95 1289.54,1442.78 1291.65,1442.61 1293.77,1442.44 \n",
       "  1295.88,1442.25 1297.99,1442.06 1300.11,1441.86 1302.22,1441.65 1304.33,1441.44 1306.45,1441.22 1308.56,1440.99 1310.68,1440.75 1312.79,1440.5 1314.9,1440.25 \n",
       "  1317.02,1439.98 1319.13,1439.71 1321.24,1439.42 1323.36,1439.13 1325.47,1438.82 1327.59,1438.51 1329.7,1438.18 1331.81,1437.84 1333.93,1437.49 1336.04,1437.13 \n",
       "  1338.15,1436.76 1340.27,1436.37 1342.38,1435.97 1344.5,1435.56 1346.61,1435.13 1348.72,1434.69 1350.84,1434.23 1352.95,1433.75 1355.06,1433.25 1357.18,1432.73 \n",
       "  1359.29,1432.19 1361.41,1431.62 1363.52,1431.04 1365.63,1430.43 1367.75,1429.81 1369.86,1429.17 1371.97,1428.5 1374.09,1427.81 1376.2,1427.11 1378.32,1426.38 \n",
       "  1380.43,1425.63 1382.54,1424.86 1384.66,1424.06 1386.77,1423.24 1388.88,1422.4 1391,1421.53 1393.11,1420.63 1395.23,1419.71 1397.34,1418.76 1399.45,1417.78 \n",
       "  1401.57,1416.76 1403.68,1415.72 1405.79,1414.64 1407.91,1413.52 1410.02,1412.37 1412.14,1411.17 1414.25,1409.94 1416.36,1408.66 1418.48,1407.34 1420.59,1405.96 \n",
       "  1422.7,1404.54 1424.82,1403.07 1426.93,1401.54 1429.05,1399.96 1431.16,1398.32 1433.27,1396.61 1435.39,1394.84 1437.5,1393 1439.61,1391.09 1441.73,1389.11 \n",
       "  1443.84,1387.05 1445.96,1384.91 1448.07,1382.69 1450.18,1380.38 1452.3,1377.98 1454.41,1375.49 1456.52,1372.9 1458.64,1370.21 1460.75,1367.42 1462.87,1364.52 \n",
       "  1464.98,1361.5 1467.09,1358.37 1469.21,1355.12 1471.32,1351.74 1473.43,1348.24 1475.55,1344.6 1477.66,1340.82 1479.78,1336.9 1481.89,1332.83 1484,1328.61 \n",
       "  1486.12,1324.23 1488.23,1319.7 1490.34,1314.99 1492.46,1310.11 1494.57,1305.06 1496.69,1299.82 1498.8,1294.4 1500.91,1288.78 1503.03,1282.97 1505.14,1276.95 \n",
       "  1507.25,1270.72 1509.37,1264.27 1511.48,1257.6 1513.6,1250.71 1515.71,1243.58 1517.82,1236.22 1519.94,1228.59 1522.05,1220.7 1524.16,1212.52 1526.28,1204.05 \n",
       "  1528.39,1195.28 1530.51,1186.18 1532.62,1176.75 1534.73,1166.99 1536.85,1156.87 1538.96,1146.38 1541.07,1135.53 1543.19,1124.29 1545.3,1112.66 1547.42,1100.63 \n",
       "  1549.53,1088.19 1551.64,1075.33 1553.76,1062.04 1555.87,1048.32 1557.98,1034.16 1560.1,1019.54 1562.21,1004.48 1564.33,988.944 1566.44,972.944 1568.55,956.469 \n",
       "  1570.67,939.515 1572.78,922.075 1574.89,904.145 1577.01,885.72 1579.12,866.797 1581.24,847.371 1583.35,827.439 1585.46,806.998 1587.58,786.045 1589.69,764.61 \n",
       "  1591.8,742.741 1593.92,720.432 1596.03,697.68 1598.15,674.49 1600.26,650.873 1602.37,626.849 1604.49,602.445 1606.6,577.692 1608.71,552.633 1610.83,527.314 \n",
       "  1612.94,501.789 1615.06,476.121 1617.17,450.378 1619.28,424.636 1621.4,398.978 1623.51,373.494 1625.62,348.281 1627.74,323.444 1629.85,299.093 1631.97,275.347 \n",
       "  1634.08,252.332 1636.19,230.18 1638.31,209.03 1640.42,189.031 1642.53,170.334 1644.65,153.102 1646.76,137.503 1648.88,123.711 1650.99,111.91 1653.1,102.287 \n",
       "  1655.22,95.0133 1657.33,90.1909 1659.44,87.9763 1661.56,88.5053 1663.67,91.8863 1665.79,98.1997 1667.9,107.499 1670.01,119.809 1672.13,135.128 1674.24,153.426 \n",
       "  1676.35,174.645 1678.47,198.705 1680.58,225.49 1682.7,254.801 1684.81,286.419 1686.92,320.111 1689.04,355.636 1691.15,392.741 1693.26,431.161 1695.38,470.624 \n",
       "  1697.49,510.841 1699.61,551.518 1701.72,592.344 1703.83,632.984 1705.95,673.212 1708.06,712.855 1710.17,751.754 1712.29,789.765 1714.4,826.757 1716.52,862.616 \n",
       "  1718.63,897.242 1720.74,930.55 1722.86,962.47 1724.97,992.947 1727.08,1021.94 1729.2,1049.42 1731.31,1075.38 1733.43,1099.83 1735.54,1122.78 1737.65,1144.26 \n",
       "  1739.77,1164.33 1741.88,1183.06 1743.99,1200.56 1746.11,1216.91 1748.22,1232.18 1750.34,1246.44 1752.45,1259.75 1754.56,1272.18 1756.68,1283.78 1758.79,1294.6 \n",
       "  1760.9,1304.69 1763.02,1314.09 1765.13,1322.85 1767.25,1330.99 1769.36,1338.55 1771.47,1345.56 1773.59,1352.03 1775.7,1358.03 1777.81,1363.62 1779.93,1368.81 \n",
       "  1782.04,1373.66 1784.16,1378.17 1786.27,1382.37 1788.38,1386.3 1790.5,1389.96 1792.61,1393.38 1794.72,1396.58 1796.84,1399.57 1798.95,1402.36 1801.07,1404.98 \n",
       "  1803.18,1407.42 1805.29,1409.71 1807.41,1411.84 1809.52,1413.83 1811.64,1415.7 1813.75,1417.45 1815.86,1419.1 1817.98,1420.64 1820.09,1422.09 1822.2,1423.45 \n",
       "  1824.32,1424.73 1826.43,1425.94 1828.55,1427.07 1830.66,1428.14 1832.77,1429.15 1834.89,1430.1 1837,1431 1839.11,1431.84 1841.23,1432.64 1843.34,1433.4 \n",
       "  1845.46,1434.11 1847.57,1434.78 1849.68,1435.41 1851.8,1436.02 1853.91,1436.58 1856.02,1437.12 1858.14,1437.63 1860.25,1438.11 1862.37,1438.57 1864.48,1439 \n",
       "  1866.59,1439.41 1868.71,1439.79 1870.82,1440.16 1872.93,1440.51 1875.05,1440.84 1877.16,1441.15 1879.28,1441.45 1881.39,1441.73 1883.5,1442 1885.62,1442.25 \n",
       "  1887.73,1442.49 1889.84,1442.72 1891.96,1442.94 1894.07,1443.15 1896.19,1443.34 1898.3,1443.53 1900.41,1443.7 1902.53,1443.86 1904.64,1444.02 1906.75,1444.17 \n",
       "  1908.87,1444.3 1910.98,1444.43 1913.1,1444.56 1915.21,1444.67 1917.32,1444.78 1919.44,1444.88 1921.55,1444.97 1923.66,1445.06 1925.78,1445.14 1927.89,1445.22 \n",
       "  1930.01,1445.28 1932.12,1445.35 1934.23,1445.41 1936.35,1445.46 1938.46,1445.51 1940.57,1445.55 1942.69,1445.59 1944.8,1445.62 1946.92,1445.65 1949.03,1445.67 \n",
       "  1951.14,1445.69 1953.26,1445.7 1955.37,1445.71 1957.48,1445.71 1959.6,1445.72 1961.71,1445.71 1963.83,1445.7 1965.94,1445.69 1968.05,1445.68 1970.17,1445.66 \n",
       "  1972.28,1445.63 1974.39,1445.6 1976.51,1445.57 1978.62,1445.53 1980.74,1445.49 1982.85,1445.44 1984.96,1445.39 1987.08,1445.34 1989.19,1445.28 1991.3,1445.22 \n",
       "  1993.42,1445.15 1995.53,1445.08 1997.65,1445 1999.76,1444.92 2001.87,1444.84 2003.99,1444.75 2006.1,1444.65 2008.21,1444.55 2010.33,1444.45 2012.44,1444.34 \n",
       "  2014.56,1444.23 2016.67,1444.11 2018.78,1443.98 2020.9,1443.85 2023.01,1443.71 2025.12,1443.57 2027.24,1443.42 2029.35,1443.27 2031.47,1443.11 2033.58,1442.94 \n",
       "  2035.69,1442.77 2037.81,1442.59 2039.92,1442.4 2042.03,1442.21 2044.15,1442.01 2046.26,1441.8 2048.38,1441.59 2050.49,1441.36 2052.6,1441.13 2054.72,1440.89 \n",
       "  2056.83,1440.64 2058.94,1440.39 2061.06,1440.12 2063.17,1439.84 2065.29,1439.54 2067.4,1439.24 2069.51,1438.92 2071.63,1438.59 2073.74,1438.25 2075.85,1437.89 \n",
       "  2077.97,1437.53 2080.08,1437.15 2082.2,1436.76 2084.31,1436.36 2086.42,1435.95 2088.54,1435.53 2090.65,1435.09 2092.76,1434.64 2094.88,1434.18 2096.99,1433.7 \n",
       "  2099.11,1433.21 2101.22,1432.71 2103.33,1432.19 2105.45,1431.65 2107.56,1431.1 2109.67,1430.53 2111.79,1429.95 2113.9,1429.34 2116.02,1428.71 2118.13,1428.07 \n",
       "  2120.24,1427.4 2122.36,1426.71 2124.47,1426 2126.58,1425.26 2128.7,1424.5 2130.81,1423.71 2132.93,1422.89 2135.04,1422.04 2137.15,1421.17 2139.27,1420.26 \n",
       "  2141.38,1419.31 2143.49,1418.33 2145.61,1417.32 2147.72,1416.26 2149.84,1415.17 2151.95,1414.03 2154.06,1412.85 2156.18,1411.63 2158.29,1410.36 2160.4,1409.04 \n",
       "  2162.52,1407.67 2164.63,1406.25 2166.75,1404.77 2168.86,1403.23 2170.97,1401.64 2173.09,1399.98 2175.2,1398.27 2177.31,1396.48 2179.43,1394.63 2181.54,1392.71 \n",
       "  2183.66,1390.71 2185.77,1388.64 2187.88,1386.49 2190,1384.27 2192.11,1381.95 2194.22,1379.56 2196.34,1377.07 2198.45,1374.5 2200.57,1371.83 2202.68,1369.06 \n",
       "  2204.79,1366.19 2206.91,1363.22 2209.02,1360.15 2211.13,1356.97 2213.25,1353.67 2215.36,1350.26 2217.48,1346.73 2219.59,1343.08 2221.7,1339.3 2223.82,1335.39 \n",
       "  2225.93,1331.33 2228.04,1327.12 2230.16,1322.76 2232.27,1318.23 2234.39,1313.54 2236.5,1308.68 2238.61,1303.64 2240.73,1298.41 2242.84,1292.99 2244.95,1287.37 \n",
       "  2247.07,1281.54 2249.18,1275.5 2251.3,1269.23 2253.41,1262.74 2255.52,1256.01 2257.64,1249.03 2259.75,1241.8 2261.86,1234.31 2263.98,1226.54 2266.09,1218.5 \n",
       "  2268.21,1210.17 2270.32,1201.55 2272.43,1192.61 2274.55,1183.37 2276.66,1173.79 2278.77,1163.88 2280.89,1153.63 2283,1143.02 2285.12,1132.05 2287.23,1120.7 \n",
       "  2289.34,1108.96 \n",
       "  \"/>\n",
       "<polyline clip-path=\"url(#clip092)\" style=\"stroke:#e26f46; stroke-linecap:butt; stroke-linejoin:round; stroke-width:4; stroke-opacity:1; fill:none\" points=\"\n",
       "  175.59,1183.92 177.704,1172.87 179.817,1161.41 181.931,1149.54 184.045,1137.29 186.159,1124.68 188.272,1111.75 190.386,1098.46 192.5,1084.89 194.614,1071.11 \n",
       "  196.727,1057.23 198.841,1043.32 200.955,1029.46 203.069,1015.72 205.182,1002.18 207.296,988.887 209.41,975.907 211.524,963.292 213.637,951.088 215.751,939.34 \n",
       "  217.865,928.084 219.979,917.353 222.092,907.176 224.206,897.576 226.32,888.57 228.434,880.172 230.547,872.39 232.661,865.226 234.775,858.68 236.889,852.79 \n",
       "  239.002,847.568 241.116,842.989 243.23,839.025 245.344,835.652 247.457,832.844 249.571,830.577 251.685,828.824 253.799,827.562 255.912,826.767 258.026,826.414 \n",
       "  260.14,826.481 262.254,826.944 264.367,827.779 266.481,828.966 268.595,830.481 270.709,832.302 272.822,834.407 274.936,836.776 277.05,839.387 279.164,842.219 \n",
       "  281.277,845.253 283.391,848.466 285.505,851.833 287.619,855.337 289.732,858.967 291.846,862.709 293.96,866.553 296.074,870.489 298.187,874.505 300.301,878.593 \n",
       "  302.415,882.745 304.529,886.951 306.642,891.206 308.756,895.501 310.87,899.831 312.984,904.191 315.098,908.576 317.211,912.982 319.325,917.405 321.439,921.838 \n",
       "  323.553,926.277 325.666,930.719 327.78,935.16 329.894,939.599 332.008,944.032 334.121,948.457 336.235,952.871 338.349,957.273 340.463,961.66 342.576,966.031 \n",
       "  344.69,970.384 346.804,974.718 348.918,979.031 351.031,983.322 353.145,987.59 355.259,991.835 357.373,996.055 359.486,1000.25 361.6,1004.42 363.714,1008.56 \n",
       "  365.828,1012.67 367.941,1016.76 370.055,1020.82 372.169,1024.85 374.283,1028.85 376.396,1032.82 378.51,1036.76 380.624,1040.67 382.738,1044.55 384.851,1048.4 \n",
       "  386.965,1052.22 389.079,1056.01 391.193,1059.77 393.306,1063.5 395.42,1067.2 397.534,1070.86 399.648,1074.5 401.761,1078.1 403.875,1081.67 405.989,1085.22 \n",
       "  408.103,1088.73 410.216,1092.21 412.33,1095.66 414.444,1099.08 416.558,1102.48 418.671,1105.84 420.785,1109.17 422.899,1112.47 425.013,1115.74 427.126,1118.98 \n",
       "  429.24,1122.19 431.354,1125.38 433.468,1128.53 435.581,1131.65 437.695,1134.75 439.809,1137.82 441.923,1140.86 444.036,1143.87 446.15,1146.85 448.264,1149.81 \n",
       "  450.378,1152.73 452.491,1155.63 454.605,1158.5 456.719,1161.35 458.833,1164.17 460.947,1166.96 463.06,1169.72 465.174,1172.46 467.288,1175.17 469.402,1177.86 \n",
       "  471.515,1180.52 473.629,1183.16 475.743,1185.77 477.857,1188.35 479.97,1190.91 482.084,1193.45 484.198,1195.96 486.312,1198.44 488.425,1200.91 490.539,1203.35 \n",
       "  492.653,1205.76 494.767,1208.15 496.88,1210.52 498.994,1212.86 501.108,1215.18 503.222,1217.48 505.335,1219.76 507.449,1222.01 509.563,1224.25 511.677,1226.46 \n",
       "  513.79,1228.64 515.904,1230.81 518.018,1232.95 520.132,1235.08 522.245,1237.18 524.359,1239.26 526.473,1241.32 528.587,1243.36 530.7,1245.38 532.814,1247.38 \n",
       "  534.928,1249.36 537.042,1251.32 539.155,1253.26 541.269,1255.18 543.383,1257.08 545.497,1258.96 547.61,1260.82 549.724,1262.67 551.838,1264.49 553.952,1266.3 \n",
       "  556.065,1268.08 558.179,1269.85 560.293,1271.6 562.407,1273.34 564.52,1275.05 566.634,1276.75 568.748,1278.43 570.862,1280.09 572.975,1281.74 575.089,1283.36 \n",
       "  577.203,1284.97 579.317,1286.57 581.43,1288.14 583.544,1289.7 585.658,1291.25 587.772,1292.77 589.885,1294.28 591.999,1295.78 594.113,1297.26 596.227,1298.72 \n",
       "  598.34,1300.17 600.454,1301.6 602.568,1303.02 604.682,1304.42 606.795,1305.81 608.909,1307.18 611.023,1308.53 613.137,1309.87 615.251,1311.2 617.364,1312.51 \n",
       "  619.478,1313.81 621.592,1315.09 623.706,1316.36 625.819,1317.61 627.933,1318.85 630.047,1320.07 632.161,1321.28 634.274,1322.48 636.388,1323.66 638.502,1324.83 \n",
       "  640.616,1325.98 642.729,1327.12 644.843,1328.25 646.957,1329.36 649.071,1330.46 651.184,1331.55 653.298,1332.62 655.412,1333.68 657.526,1334.72 659.639,1335.75 \n",
       "  661.753,1336.77 663.867,1337.77 665.981,1338.76 668.094,1339.74 670.208,1340.7 672.322,1341.65 674.436,1342.59 676.549,1343.51 678.663,1344.42 680.777,1345.31 \n",
       "  682.891,1346.2 685.004,1347.06 687.118,1347.92 689.232,1348.76 691.346,1349.59 693.459,1350.4 695.573,1351.2 697.687,1351.99 699.801,1352.77 701.914,1353.53 \n",
       "  704.028,1354.27 706.142,1355 708.256,1355.72 710.369,1356.43 712.483,1357.12 714.597,1357.79 716.711,1358.44 718.824,1359.09 720.938,1359.71 723.052,1360.32 \n",
       "  725.166,1360.92 727.279,1361.5 729.393,1362.07 731.507,1362.62 733.621,1363.16 735.734,1363.69 737.848,1364.19 739.962,1364.69 742.076,1365.17 744.189,1365.63 \n",
       "  746.303,1366.08 748.417,1366.51 750.531,1366.93 752.644,1367.33 754.758,1367.71 756.872,1368.08 758.986,1368.42 761.1,1368.75 763.213,1369.06 765.327,1369.35 \n",
       "  767.441,1369.62 769.555,1369.87 771.668,1370.09 773.782,1370.3 775.896,1370.48 778.01,1370.63 780.123,1370.77 782.237,1370.87 784.351,1370.95 786.465,1371 \n",
       "  788.578,1371.02 790.692,1371.01 792.806,1370.96 794.92,1370.89 797.033,1370.78 799.147,1370.64 801.261,1370.45 803.375,1370.24 805.488,1369.98 807.602,1369.68 \n",
       "  809.716,1369.34 811.83,1368.95 813.943,1368.52 816.057,1368.04 818.171,1367.52 820.285,1366.94 822.398,1366.31 824.512,1365.63 826.626,1364.89 828.74,1364.08 \n",
       "  830.853,1363.2 832.967,1362.25 835.081,1361.23 837.195,1360.13 839.308,1358.95 841.422,1357.69 843.536,1356.34 845.65,1354.9 847.763,1353.36 849.877,1351.72 \n",
       "  851.991,1349.97 854.105,1348.11 856.218,1346.12 858.332,1343.99 860.446,1341.73 862.56,1339.32 864.673,1336.75 866.787,1334.01 868.901,1331.09 871.015,1327.98 \n",
       "  873.128,1324.67 875.242,1321.14 877.356,1317.38 879.47,1313.39 881.583,1309.13 883.697,1304.61 885.811,1299.81 887.925,1294.73 890.038,1289.36 892.152,1283.67 \n",
       "  894.266,1277.63 896.38,1271.21 898.493,1264.4 900.607,1257.17 902.721,1249.51 904.835,1241.42 906.948,1232.88 909.062,1223.89 911.176,1214.44 913.29,1204.55 \n",
       "  915.404,1194.21 917.517,1183.43 919.631,1172.23 921.745,1160.62 923.859,1148.62 925.972,1136.25 928.086,1123.54 930.2,1110.51 932.314,1097.19 934.427,1083.57 \n",
       "  936.541,1069.73 938.655,1055.77 940.769,1041.75 942.882,1027.78 944.996,1013.92 947.11,1000.23 949.224,986.801 951.337,973.677 953.451,960.918 955.565,948.575 \n",
       "  957.679,936.694 959.792,925.316 961.906,914.477 964.02,904.209 966.134,894.537 968.247,885.484 970.361,877.065 972.475,869.293 974.589,862.173 976.702,855.708 \n",
       "  978.816,849.898 980.93,844.752 983.044,840.252 985.157,836.375 987.271,833.099 989.385,830.4 991.499,828.253 993.612,826.633 995.726,825.515 997.84,824.873 \n",
       "  999.954,824.678 1002.07,824.904 1004.18,825.522 1006.29,826.504 1008.41,827.82 1010.52,829.446 1012.64,831.359 1014.75,833.537 1016.86,835.958 1018.98,838.604 \n",
       "  1021.09,841.454 1023.2,844.492 1025.32,847.701 1027.43,851.065 1029.55,854.569 1031.66,858.201 1033.77,861.948 1035.89,865.799 1038,869.743 1040.11,873.767 \n",
       "  1042.23,877.862 1044.34,882.02 1046.46,886.234 1048.57,890.496 1050.68,894.799 1052.8,899.137 1054.91,903.505 1057.02,907.897 1059.14,912.308 1061.25,916.734 \n",
       "  1063.37,921.169 1065.48,925.611 1067.59,930.057 1069.71,934.502 1071.82,938.945 1073.94,943.383 1076.05,947.812 1078.16,952.231 1080.28,956.637 1082.39,961.028 \n",
       "  1084.5,965.404 1086.62,969.762 1088.73,974.101 1090.85,978.42 1092.96,982.717 1095.07,986.992 1097.19,991.242 1099.3,995.468 1101.41,999.669 1103.53,1003.84 \n",
       "  1105.64,1007.99 1107.76,1012.11 1109.87,1016.2 1111.98,1020.26 1114.1,1024.3 1116.21,1028.3 1118.32,1032.28 1120.44,1036.23 1122.55,1040.14 1124.67,1044.03 \n",
       "  1126.78,1047.88 1128.89,1051.71 1131.01,1055.5 1133.12,1059.27 1135.23,1063 1137.35,1066.7 1139.46,1070.37 1141.58,1074.02 1143.69,1077.63 1145.8,1081.21 \n",
       "  1147.92,1084.75 1150.03,1088.27 1152.14,1091.76 1154.26,1095.22 1156.37,1098.64 1158.49,1102.04 1160.6,1105.4 1162.71,1108.74 1164.83,1112.04 1166.94,1115.32 \n",
       "  1169.05,1118.56 1171.17,1121.78 1173.28,1124.97 1175.4,1128.12 1177.51,1131.25 1179.62,1134.35 1181.74,1137.42 1183.85,1140.47 1185.96,1143.48 1188.08,1146.47 \n",
       "  1190.19,1149.43 1192.31,1152.36 1194.42,1155.26 1196.53,1158.14 1198.65,1160.99 1200.76,1163.81 1202.87,1166.6 1204.99,1169.37 1207.1,1172.12 1209.22,1174.83 \n",
       "  1211.33,1177.52 1213.44,1180.19 1215.56,1182.83 1217.67,1185.44 1219.78,1188.03 1221.9,1190.59 1224.01,1193.13 1226.13,1195.65 1228.24,1198.14 1230.35,1200.6 \n",
       "  1232.47,1203.04 1234.58,1205.46 1236.69,1207.86 1238.81,1210.23 1240.92,1212.57 1243.04,1214.9 1245.15,1217.2 1247.26,1219.48 1249.38,1221.74 1251.49,1223.97 \n",
       "  1253.6,1226.19 1255.72,1228.38 1257.83,1230.55 1259.95,1232.69 1262.06,1234.82 1264.17,1236.93 1266.29,1239.01 1268.4,1241.07 1270.51,1243.12 1272.63,1245.14 \n",
       "  1274.74,1247.14 1276.86,1249.12 1278.97,1251.09 1281.08,1253.03 1283.2,1254.95 1285.31,1256.86 1287.42,1258.74 1289.54,1260.6 1291.65,1262.45 1293.77,1264.28 \n",
       "  1295.88,1266.09 1297.99,1267.88 1300.11,1269.65 1302.22,1271.4 1304.33,1273.14 1306.45,1274.86 1308.56,1276.56 1310.68,1278.24 1312.79,1279.9 1314.9,1281.55 \n",
       "  1317.02,1283.18 1319.13,1284.8 1321.24,1286.39 1323.36,1287.97 1325.47,1289.53 1327.59,1291.08 1329.7,1292.61 1331.81,1294.12 1333.93,1295.62 1336.04,1297.1 \n",
       "  1338.15,1298.57 1340.27,1300.02 1342.38,1301.45 1344.5,1302.87 1346.61,1304.27 1348.72,1305.66 1350.84,1307.04 1352.95,1308.39 1355.06,1309.73 1357.18,1311.06 \n",
       "  1359.29,1312.37 1361.41,1313.66 1363.52,1314.94 1365.63,1316.21 1367.75,1317.46 1369.86,1318.7 1371.97,1319.92 1374.09,1321.13 1376.2,1322.32 1378.32,1323.5 \n",
       "  1380.43,1324.67 1382.54,1325.82 1384.66,1326.96 1386.77,1328.09 1388.88,1329.2 1391,1330.3 1393.11,1331.38 1395.23,1332.45 1397.34,1333.51 1399.45,1334.56 \n",
       "  1401.57,1335.59 1403.68,1336.61 1405.79,1337.62 1407.91,1338.61 1410.02,1339.6 1412.14,1340.56 1414.25,1341.52 1416.36,1342.46 1418.48,1343.39 1420.59,1344.31 \n",
       "  1422.7,1345.21 1424.82,1346.1 1426.93,1346.98 1429.05,1347.85 1431.16,1348.7 1433.27,1349.54 1435.39,1350.36 1437.5,1351.17 1439.61,1351.97 1441.73,1352.76 \n",
       "  1443.84,1353.53 1445.96,1354.29 1448.07,1355.03 1450.18,1355.76 1452.3,1356.48 1454.41,1357.18 1456.52,1357.86 1458.64,1358.54 1460.75,1359.19 1462.87,1359.84 \n",
       "  1464.98,1360.47 1467.09,1361.08 1469.21,1361.68 1471.32,1362.26 1473.43,1362.83 1475.55,1363.38 1477.66,1363.91 1479.78,1364.43 1481.89,1364.93 1484,1365.41 \n",
       "  1486.12,1365.88 1488.23,1366.33 1490.34,1366.76 1492.46,1367.18 1494.57,1367.57 1496.69,1367.95 1498.8,1368.31 1500.91,1368.65 1503.03,1368.97 1505.14,1369.27 \n",
       "  1507.25,1369.55 1509.37,1369.81 1511.48,1370.05 1513.6,1370.27 1515.71,1370.47 1517.82,1370.63 1519.94,1370.78 1522.05,1370.89 1524.16,1370.99 1526.28,1371.05 \n",
       "  1528.39,1371.09 1530.51,1371.11 1532.62,1371.1 1534.73,1371.06 1536.85,1370.99 1538.96,1370.89 1541.07,1370.75 1543.19,1370.59 1545.3,1370.39 1547.42,1370.16 \n",
       "  1549.53,1369.89 1551.64,1369.57 1553.76,1369.22 1555.87,1368.83 1557.98,1368.38 1560.1,1367.89 1562.21,1367.35 1564.33,1366.75 1566.44,1366.1 1568.55,1365.39 \n",
       "  1570.67,1364.61 1572.78,1363.77 1574.89,1362.86 1577.01,1361.88 1579.12,1360.82 1581.24,1359.68 1583.35,1358.45 1585.46,1357.14 1587.58,1355.73 1589.69,1354.23 \n",
       "  1591.8,1352.61 1593.92,1350.89 1596.03,1349.04 1598.15,1347.07 1600.26,1344.97 1602.37,1342.72 1604.49,1340.32 1606.6,1337.77 1608.71,1335.04 1610.83,1332.14 \n",
       "  1612.94,1329.05 1615.06,1325.76 1617.17,1322.27 1619.28,1318.55 1621.4,1314.6 1623.51,1310.4 1625.62,1305.94 1627.74,1301.21 1629.85,1296.2 1631.97,1290.89 \n",
       "  1634.08,1285.26 1636.19,1279.3 1638.31,1272.99 1640.42,1266.32 1642.53,1259.27 1644.65,1251.83 1646.76,1243.97 1648.88,1235.68 1650.99,1226.94 1653.1,1217.73 \n",
       "  1655.22,1208.04 1657.33,1197.89 1659.44,1187.3 1661.56,1176.25 1663.67,1164.77 1665.79,1152.87 1667.9,1140.57 1670.01,1127.9 1672.13,1114.9 1674.24,1101.6 \n",
       "  1676.35,1088.04 1678.47,1074.28 1680.58,1060.37 1682.7,1046.37 1684.81,1032.35 1686.92,1018.39 1689.04,1004.55 1691.15,990.895 1693.26,977.489 1695.38,964.396 \n",
       "  1697.49,951.68 1699.61,939.401 1701.72,927.621 1703.83,916.414 1705.95,905.815 1708.06,895.84 1710.17,886.503 1712.29,877.813 1714.4,869.777 1716.52,862.402 \n",
       "  1718.63,855.686 1720.74,849.629 1722.86,844.226 1724.97,839.469 1727.08,835.348 1729.2,831.847 1731.31,828.951 1733.43,826.64 1735.54,824.89 1737.65,823.676 \n",
       "  1739.77,822.968 1741.88,822.731 1743.99,822.916 1746.11,823.495 1748.22,824.439 1750.34,825.723 1752.45,827.321 1754.56,829.211 1756.68,831.369 1758.79,833.775 \n",
       "  1760.9,836.409 1763.02,839.252 1765.13,842.287 1767.25,845.497 1769.36,848.869 1771.47,852.387 1773.59,856.04 1775.7,859.811 1777.81,863.684 1779.93,867.647 \n",
       "  1782.04,871.693 1784.16,875.81 1786.27,879.992 1788.38,884.229 1790.5,888.515 1792.61,892.842 1794.72,897.205 1796.84,901.596 1798.95,906.011 1801.07,910.444 \n",
       "  1803.18,914.893 1805.29,919.352 1807.41,923.818 1809.52,928.286 1811.64,932.754 1813.75,937.219 1815.86,941.678 1817.98,946.128 1820.09,950.568 1822.2,954.995 \n",
       "  1824.32,959.408 1826.43,963.805 1828.55,968.184 1830.66,972.543 1832.77,976.881 1834.89,981.198 1837,985.491 1839.11,989.76 1841.23,994.004 1843.34,998.222 \n",
       "  1845.46,1002.41 1847.57,1006.58 1849.68,1010.72 1851.8,1014.83 1853.91,1018.91 1856.02,1022.96 1858.14,1026.98 1860.25,1030.97 1862.37,1034.93 1864.48,1038.87 \n",
       "  1866.59,1042.77 1868.71,1046.64 1870.82,1050.48 1872.93,1054.29 1875.05,1058.07 1877.16,1061.82 1879.28,1065.54 1881.39,1069.22 1883.5,1072.88 1885.62,1076.5 \n",
       "  1887.73,1080.09 1889.84,1083.65 1891.96,1087.19 1894.07,1090.69 1896.19,1094.15 1898.3,1097.59 1900.41,1101 1902.53,1104.38 1904.64,1107.73 1906.75,1111.04 \n",
       "  1908.87,1114.33 1910.98,1117.59 1913.1,1120.82 1915.21,1124.02 1917.32,1127.19 1919.44,1130.33 1921.55,1133.44 1923.66,1136.52 1925.78,1139.58 1927.89,1142.6 \n",
       "  1930.01,1145.6 1932.12,1148.57 1934.23,1151.51 1936.35,1154.43 1938.46,1157.31 1940.57,1160.17 1942.69,1163.01 1944.8,1165.81 1946.92,1168.59 1949.03,1171.34 \n",
       "  1951.14,1174.07 1953.26,1176.77 1955.37,1179.44 1957.48,1182.09 1959.6,1184.71 1961.71,1187.31 1963.83,1189.88 1965.94,1192.43 1968.05,1194.95 1970.17,1197.45 \n",
       "  1972.28,1199.93 1974.39,1202.38 1976.51,1204.8 1978.62,1207.21 1980.74,1209.59 1982.85,1211.94 1984.96,1214.28 1987.08,1216.59 1989.19,1218.87 1991.3,1221.14 \n",
       "  1993.42,1223.38 1995.53,1225.6 1997.65,1227.8 1999.76,1229.98 2001.87,1232.13 2003.99,1234.27 2006.1,1236.38 2008.21,1238.47 2010.33,1240.54 2012.44,1242.59 \n",
       "  2014.56,1244.62 2016.67,1246.63 2018.78,1248.62 2020.9,1250.59 2023.01,1252.54 2025.12,1254.47 2027.24,1256.38 2029.35,1258.27 2031.47,1260.14 2033.58,1262 \n",
       "  2035.69,1263.83 2037.81,1265.64 2039.92,1267.44 2042.03,1269.22 2044.15,1270.98 2046.26,1272.72 2048.38,1274.45 2050.49,1276.15 2052.6,1277.84 2054.72,1279.51 \n",
       "  2056.83,1281.17 2058.94,1282.8 2061.06,1284.42 2063.17,1286.02 2065.29,1287.61 2067.4,1289.18 2069.51,1290.73 2071.63,1292.26 2073.74,1293.78 2075.85,1295.28 \n",
       "  2077.97,1296.77 2080.08,1298.24 2082.2,1299.69 2084.31,1301.13 2086.42,1302.55 2088.54,1303.96 2090.65,1305.35 2092.76,1306.73 2094.88,1308.09 2096.99,1309.44 \n",
       "  2099.11,1310.77 2101.22,1312.09 2103.33,1313.39 2105.45,1314.68 2107.56,1315.96 2109.67,1317.22 2111.79,1318.46 2113.9,1319.7 2116.02,1320.92 2118.13,1322.12 \n",
       "  2120.24,1323.31 2122.36,1324.49 2124.47,1325.65 2126.58,1326.8 2128.7,1327.93 2130.81,1329.06 2132.93,1330.17 2135.04,1331.26 2137.15,1332.34 2139.27,1333.41 \n",
       "  2141.38,1334.47 2143.49,1335.51 2145.61,1336.54 2147.72,1337.55 2149.84,1338.55 2151.95,1339.54 2154.06,1340.52 2156.18,1341.48 2158.29,1342.43 2160.4,1343.36 \n",
       "  2162.52,1344.28 2164.63,1345.19 2166.75,1346.09 2168.86,1346.97 2170.97,1347.84 2173.09,1348.69 2175.2,1349.53 2177.31,1350.36 2179.43,1351.18 2181.54,1351.98 \n",
       "  2183.66,1352.76 2185.77,1353.54 2187.88,1354.3 2190,1355.04 2192.11,1355.77 2194.22,1356.49 2196.34,1357.19 2198.45,1357.88 2200.57,1358.56 2202.68,1359.22 \n",
       "  2204.79,1359.86 2206.91,1360.49 2209.02,1361.11 2211.13,1361.71 2213.25,1362.3 2215.36,1362.87 2217.48,1363.43 2219.59,1363.97 2221.7,1364.49 2223.82,1365 \n",
       "  2225.93,1365.49 2228.04,1365.97 2230.16,1366.43 2232.27,1366.87 2234.39,1367.3 2236.5,1367.71 2238.61,1368.1 2240.73,1368.47 2242.84,1368.83 2244.95,1369.17 \n",
       "  2247.07,1369.48 2249.18,1369.78 2251.3,1370.06 2253.41,1370.32 2255.52,1370.55 2257.64,1370.77 2259.75,1370.96 2261.86,1371.13 2263.98,1371.27 2266.09,1371.4 \n",
       "  2268.21,1371.49 2270.32,1371.56 2272.43,1371.6 2274.55,1371.61 2276.66,1371.6 2278.77,1371.55 2280.89,1371.47 2283,1371.36 2285.12,1371.22 2287.23,1371.04 \n",
       "  2289.34,1370.83 \n",
       "  \"/>\n",
       "<path clip-path=\"url(#clip090)\" d=\"\n",
       "M1976.69 250.738 L2278.07 250.738 L2278.07 95.2176 L1976.69 95.2176  Z\n",
       "  \" fill=\"#ffffff\" fill-rule=\"evenodd\" fill-opacity=\"1\"/>\n",
       "<polyline clip-path=\"url(#clip090)\" style=\"stroke:#000000; stroke-linecap:butt; stroke-linejoin:round; stroke-width:4; stroke-opacity:1; fill:none\" points=\"\n",
       "  1976.69,250.738 2278.07,250.738 2278.07,95.2176 1976.69,95.2176 1976.69,250.738 \n",
       "  \"/>\n",
       "<polyline clip-path=\"url(#clip090)\" style=\"stroke:#009af9; stroke-linecap:butt; stroke-linejoin:round; stroke-width:4; stroke-opacity:1; fill:none\" points=\"\n",
       "  2001.58,147.058 2150.95,147.058 \n",
       "  \"/>\n",
       "<path clip-path=\"url(#clip090)\" d=\"M2189.69 166.745 Q2187.89 171.375 2186.17 172.787 Q2184.46 174.199 2181.59 174.199 L2178.19 174.199 L2178.19 170.634 L2180.69 170.634 Q2182.45 170.634 2183.42 169.8 Q2184.39 168.967 2185.57 165.865 L2186.34 163.921 L2175.85 138.412 L2180.36 138.412 L2188.46 158.689 L2196.57 138.412 L2201.08 138.412 L2189.69 166.745 Z\" fill=\"#000000\" fill-rule=\"evenodd\" fill-opacity=\"1\" /><path clip-path=\"url(#clip090)\" d=\"M2208.37 160.402 L2216.01 160.402 L2216.01 134.037 L2207.7 135.703 L2207.7 131.444 L2215.96 129.778 L2220.64 129.778 L2220.64 160.402 L2228.28 160.402 L2228.28 164.338 L2208.37 164.338 L2208.37 160.402 Z\" fill=\"#000000\" fill-rule=\"evenodd\" fill-opacity=\"1\" /><polyline clip-path=\"url(#clip090)\" style=\"stroke:#e26f46; stroke-linecap:butt; stroke-linejoin:round; stroke-width:4; stroke-opacity:1; fill:none\" points=\"\n",
       "  2001.58,198.898 2150.95,198.898 \n",
       "  \"/>\n",
       "<path clip-path=\"url(#clip090)\" d=\"M2189.69 218.585 Q2187.89 223.215 2186.17 224.627 Q2184.46 226.039 2181.59 226.039 L2178.19 226.039 L2178.19 222.474 L2180.69 222.474 Q2182.45 222.474 2183.42 221.64 Q2184.39 220.807 2185.57 217.705 L2186.34 215.761 L2175.85 190.252 L2180.36 190.252 L2188.46 210.529 L2196.57 190.252 L2201.08 190.252 L2189.69 218.585 Z\" fill=\"#000000\" fill-rule=\"evenodd\" fill-opacity=\"1\" /><path clip-path=\"url(#clip090)\" d=\"M2211.59 212.242 L2227.91 212.242 L2227.91 216.178 L2205.96 216.178 L2205.96 212.242 Q2208.63 209.488 2213.21 204.858 Q2217.82 200.205 2219 198.863 Q2221.24 196.34 2222.12 194.604 Q2223.02 192.844 2223.02 191.155 Q2223.02 188.4 2221.08 186.664 Q2219.16 184.928 2216.06 184.928 Q2213.86 184.928 2211.4 185.692 Q2208.97 186.455 2206.2 188.006 L2206.2 183.284 Q2209.02 182.15 2211.47 181.571 Q2213.93 180.993 2215.96 180.993 Q2221.33 180.993 2224.53 183.678 Q2227.72 186.363 2227.72 190.854 Q2227.72 192.983 2226.91 194.905 Q2226.13 196.803 2224.02 199.395 Q2223.44 200.067 2220.34 203.284 Q2217.24 206.479 2211.59 212.242 Z\" fill=\"#000000\" fill-rule=\"evenodd\" fill-opacity=\"1\" /></svg>\n"
      ]
     },
     "execution_count": 14,
     "metadata": {},
     "output_type": "execute_result"
    }
   ],
   "source": [
    "using Plots\n",
    "plot(soln[\"t\"], soln[\"y\"]')"
   ]
  },
  {
   "cell_type": "code",
   "execution_count": 15,
   "id": "c84e5075",
   "metadata": {
    "slideshow": {
     "slide_type": "subslide"
    }
   },
   "outputs": [
    {
     "data": {
      "image/svg+xml": [
       "<?xml version=\"1.0\" encoding=\"utf-8\"?>\n",
       "<svg xmlns=\"http://www.w3.org/2000/svg\" xmlns:xlink=\"http://www.w3.org/1999/xlink\" width=\"600\" height=\"400\" viewBox=\"0 0 2400 1600\">\n",
       "<defs>\n",
       "  <clipPath id=\"clip130\">\n",
       "    <rect x=\"0\" y=\"0\" width=\"2400\" height=\"1600\"/>\n",
       "  </clipPath>\n",
       "</defs>\n",
       "<path clip-path=\"url(#clip130)\" d=\"\n",
       "M0 1600 L2400 1600 L2400 0 L0 0  Z\n",
       "  \" fill=\"#ffffff\" fill-rule=\"evenodd\" fill-opacity=\"1\"/>\n",
       "<defs>\n",
       "  <clipPath id=\"clip131\">\n",
       "    <rect x=\"480\" y=\"0\" width=\"1681\" height=\"1600\"/>\n",
       "  </clipPath>\n",
       "</defs>\n",
       "<path clip-path=\"url(#clip130)\" d=\"\n",
       "M155.765 1486.45 L2352.76 1486.45 L2352.76 47.2441 L155.765 47.2441  Z\n",
       "  \" fill=\"#ffffff\" fill-rule=\"evenodd\" fill-opacity=\"1\"/>\n",
       "<defs>\n",
       "  <clipPath id=\"clip132\">\n",
       "    <rect x=\"155\" y=\"47\" width=\"2198\" height=\"1440\"/>\n",
       "  </clipPath>\n",
       "</defs>\n",
       "<polyline clip-path=\"url(#clip132)\" style=\"stroke:#000000; stroke-linecap:butt; stroke-linejoin:round; stroke-width:2; stroke-opacity:0.1; fill:none\" points=\"\n",
       "  204.244,1486.45 204.244,47.2441 \n",
       "  \"/>\n",
       "<polyline clip-path=\"url(#clip132)\" style=\"stroke:#000000; stroke-linecap:butt; stroke-linejoin:round; stroke-width:2; stroke-opacity:0.1; fill:none\" points=\"\n",
       "  617.587,1486.45 617.587,47.2441 \n",
       "  \"/>\n",
       "<polyline clip-path=\"url(#clip132)\" style=\"stroke:#000000; stroke-linecap:butt; stroke-linejoin:round; stroke-width:2; stroke-opacity:0.1; fill:none\" points=\"\n",
       "  1030.93,1486.45 1030.93,47.2441 \n",
       "  \"/>\n",
       "<polyline clip-path=\"url(#clip132)\" style=\"stroke:#000000; stroke-linecap:butt; stroke-linejoin:round; stroke-width:2; stroke-opacity:0.1; fill:none\" points=\"\n",
       "  1444.27,1486.45 1444.27,47.2441 \n",
       "  \"/>\n",
       "<polyline clip-path=\"url(#clip132)\" style=\"stroke:#000000; stroke-linecap:butt; stroke-linejoin:round; stroke-width:2; stroke-opacity:0.1; fill:none\" points=\"\n",
       "  1857.61,1486.45 1857.61,47.2441 \n",
       "  \"/>\n",
       "<polyline clip-path=\"url(#clip132)\" style=\"stroke:#000000; stroke-linecap:butt; stroke-linejoin:round; stroke-width:2; stroke-opacity:0.1; fill:none\" points=\"\n",
       "  2270.96,1486.45 2270.96,47.2441 \n",
       "  \"/>\n",
       "<polyline clip-path=\"url(#clip130)\" style=\"stroke:#000000; stroke-linecap:butt; stroke-linejoin:round; stroke-width:4; stroke-opacity:1; fill:none\" points=\"\n",
       "  155.765,1486.45 2352.76,1486.45 \n",
       "  \"/>\n",
       "<polyline clip-path=\"url(#clip130)\" style=\"stroke:#000000; stroke-linecap:butt; stroke-linejoin:round; stroke-width:4; stroke-opacity:1; fill:none\" points=\"\n",
       "  204.244,1486.45 204.244,1467.55 \n",
       "  \"/>\n",
       "<polyline clip-path=\"url(#clip130)\" style=\"stroke:#000000; stroke-linecap:butt; stroke-linejoin:round; stroke-width:4; stroke-opacity:1; fill:none\" points=\"\n",
       "  617.587,1486.45 617.587,1467.55 \n",
       "  \"/>\n",
       "<polyline clip-path=\"url(#clip130)\" style=\"stroke:#000000; stroke-linecap:butt; stroke-linejoin:round; stroke-width:4; stroke-opacity:1; fill:none\" points=\"\n",
       "  1030.93,1486.45 1030.93,1467.55 \n",
       "  \"/>\n",
       "<polyline clip-path=\"url(#clip130)\" style=\"stroke:#000000; stroke-linecap:butt; stroke-linejoin:round; stroke-width:4; stroke-opacity:1; fill:none\" points=\"\n",
       "  1444.27,1486.45 1444.27,1467.55 \n",
       "  \"/>\n",
       "<polyline clip-path=\"url(#clip130)\" style=\"stroke:#000000; stroke-linecap:butt; stroke-linejoin:round; stroke-width:4; stroke-opacity:1; fill:none\" points=\"\n",
       "  1857.61,1486.45 1857.61,1467.55 \n",
       "  \"/>\n",
       "<polyline clip-path=\"url(#clip130)\" style=\"stroke:#000000; stroke-linecap:butt; stroke-linejoin:round; stroke-width:4; stroke-opacity:1; fill:none\" points=\"\n",
       "  2270.96,1486.45 2270.96,1467.55 \n",
       "  \"/>\n",
       "<path clip-path=\"url(#clip130)\" d=\"M204.244 1515.64 Q200.633 1515.64 198.805 1519.2 Q196.999 1522.75 196.999 1529.87 Q196.999 1536.98 198.805 1540.55 Q200.633 1544.09 204.244 1544.09 Q207.879 1544.09 209.684 1540.55 Q211.513 1536.98 211.513 1529.87 Q211.513 1522.75 209.684 1519.2 Q207.879 1515.64 204.244 1515.64 M204.244 1511.93 Q210.055 1511.93 213.11 1516.54 Q216.189 1521.12 216.189 1529.87 Q216.189 1538.6 213.11 1543.21 Q210.055 1547.79 204.244 1547.79 Q198.434 1547.79 195.356 1543.21 Q192.3 1538.6 192.3 1529.87 Q192.3 1521.12 195.356 1516.54 Q198.434 1511.93 204.244 1511.93 Z\" fill=\"#000000\" fill-rule=\"evenodd\" fill-opacity=\"1\" /><path clip-path=\"url(#clip130)\" d=\"M607.969 1543.18 L615.608 1543.18 L615.608 1516.82 L607.298 1518.49 L607.298 1514.23 L615.562 1512.56 L620.237 1512.56 L620.237 1543.18 L627.876 1543.18 L627.876 1547.12 L607.969 1547.12 L607.969 1543.18 Z\" fill=\"#000000\" fill-rule=\"evenodd\" fill-opacity=\"1\" /><path clip-path=\"url(#clip130)\" d=\"M1025.58 1543.18 L1041.9 1543.18 L1041.9 1547.12 L1019.96 1547.12 L1019.96 1543.18 Q1022.62 1540.43 1027.2 1535.8 Q1031.81 1531.15 1032.99 1529.81 Q1035.23 1527.28 1036.11 1525.55 Q1037.02 1523.79 1037.02 1522.1 Q1037.02 1519.34 1035.07 1517.61 Q1033.15 1515.87 1030.05 1515.87 Q1027.85 1515.87 1025.4 1516.63 Q1022.97 1517.4 1020.19 1518.95 L1020.19 1514.23 Q1023.01 1513.09 1025.47 1512.51 Q1027.92 1511.93 1029.96 1511.93 Q1035.33 1511.93 1038.52 1514.62 Q1041.72 1517.31 1041.72 1521.8 Q1041.72 1523.93 1040.91 1525.85 Q1040.12 1527.74 1038.01 1530.34 Q1037.43 1531.01 1034.33 1534.23 Q1031.23 1537.42 1025.58 1543.18 Z\" fill=\"#000000\" fill-rule=\"evenodd\" fill-opacity=\"1\" /><path clip-path=\"url(#clip130)\" d=\"M1448.52 1528.49 Q1451.88 1529.2 1453.75 1531.47 Q1455.65 1533.74 1455.65 1537.07 Q1455.65 1542.19 1452.13 1544.99 Q1448.61 1547.79 1442.13 1547.79 Q1439.95 1547.79 1437.64 1547.35 Q1435.35 1546.93 1432.89 1546.08 L1432.89 1541.56 Q1434.84 1542.7 1437.15 1543.28 Q1439.47 1543.86 1441.99 1543.86 Q1446.39 1543.86 1448.68 1542.12 Q1451 1540.38 1451 1537.07 Q1451 1534.02 1448.84 1532.31 Q1446.71 1530.57 1442.89 1530.57 L1438.87 1530.57 L1438.87 1526.73 L1443.08 1526.73 Q1446.53 1526.73 1448.36 1525.36 Q1450.19 1523.97 1450.19 1521.38 Q1450.19 1518.72 1448.29 1517.31 Q1446.41 1515.87 1442.89 1515.87 Q1440.97 1515.87 1438.77 1516.29 Q1436.58 1516.7 1433.94 1517.58 L1433.94 1513.42 Q1436.6 1512.68 1438.91 1512.31 Q1441.25 1511.93 1443.31 1511.93 Q1448.64 1511.93 1451.74 1514.37 Q1454.84 1516.77 1454.84 1520.89 Q1454.84 1523.76 1453.2 1525.75 Q1451.55 1527.72 1448.52 1528.49 Z\" fill=\"#000000\" fill-rule=\"evenodd\" fill-opacity=\"1\" /><path clip-path=\"url(#clip130)\" d=\"M1860.62 1516.63 L1848.82 1535.08 L1860.62 1535.08 L1860.62 1516.63 M1859.4 1512.56 L1865.28 1512.56 L1865.28 1535.08 L1870.21 1535.08 L1870.21 1538.97 L1865.28 1538.97 L1865.28 1547.12 L1860.62 1547.12 L1860.62 1538.97 L1845.02 1538.97 L1845.02 1534.46 L1859.4 1512.56 Z\" fill=\"#000000\" fill-rule=\"evenodd\" fill-opacity=\"1\" /><path clip-path=\"url(#clip130)\" d=\"M2261.23 1512.56 L2279.59 1512.56 L2279.59 1516.5 L2265.52 1516.5 L2265.52 1524.97 Q2266.54 1524.62 2267.55 1524.46 Q2268.57 1524.27 2269.59 1524.27 Q2275.38 1524.27 2278.76 1527.44 Q2282.14 1530.62 2282.14 1536.03 Q2282.14 1541.61 2278.67 1544.71 Q2275.19 1547.79 2268.87 1547.79 Q2266.7 1547.79 2264.43 1547.42 Q2262.18 1547.05 2259.78 1546.31 L2259.78 1541.61 Q2261.86 1542.74 2264.08 1543.3 Q2266.3 1543.86 2268.78 1543.86 Q2272.79 1543.86 2275.12 1541.75 Q2277.46 1539.64 2277.46 1536.03 Q2277.46 1532.42 2275.12 1530.31 Q2272.79 1528.21 2268.78 1528.21 Q2266.91 1528.21 2265.03 1528.62 Q2263.18 1529.04 2261.23 1529.92 L2261.23 1512.56 Z\" fill=\"#000000\" fill-rule=\"evenodd\" fill-opacity=\"1\" /><polyline clip-path=\"url(#clip132)\" style=\"stroke:#000000; stroke-linecap:butt; stroke-linejoin:round; stroke-width:2; stroke-opacity:0.1; fill:none\" points=\"\n",
       "  155.765,1316.32 2352.76,1316.32 \n",
       "  \"/>\n",
       "<polyline clip-path=\"url(#clip132)\" style=\"stroke:#000000; stroke-linecap:butt; stroke-linejoin:round; stroke-width:2; stroke-opacity:0.1; fill:none\" points=\"\n",
       "  155.765,981.425 2352.76,981.425 \n",
       "  \"/>\n",
       "<polyline clip-path=\"url(#clip132)\" style=\"stroke:#000000; stroke-linecap:butt; stroke-linejoin:round; stroke-width:2; stroke-opacity:0.1; fill:none\" points=\"\n",
       "  155.765,646.528 2352.76,646.528 \n",
       "  \"/>\n",
       "<polyline clip-path=\"url(#clip132)\" style=\"stroke:#000000; stroke-linecap:butt; stroke-linejoin:round; stroke-width:2; stroke-opacity:0.1; fill:none\" points=\"\n",
       "  155.765,311.63 2352.76,311.63 \n",
       "  \"/>\n",
       "<polyline clip-path=\"url(#clip130)\" style=\"stroke:#000000; stroke-linecap:butt; stroke-linejoin:round; stroke-width:4; stroke-opacity:1; fill:none\" points=\"\n",
       "  155.765,1486.45 155.765,47.2441 \n",
       "  \"/>\n",
       "<polyline clip-path=\"url(#clip130)\" style=\"stroke:#000000; stroke-linecap:butt; stroke-linejoin:round; stroke-width:4; stroke-opacity:1; fill:none\" points=\"\n",
       "  155.765,1316.32 174.663,1316.32 \n",
       "  \"/>\n",
       "<polyline clip-path=\"url(#clip130)\" style=\"stroke:#000000; stroke-linecap:butt; stroke-linejoin:round; stroke-width:4; stroke-opacity:1; fill:none\" points=\"\n",
       "  155.765,981.425 174.663,981.425 \n",
       "  \"/>\n",
       "<polyline clip-path=\"url(#clip130)\" style=\"stroke:#000000; stroke-linecap:butt; stroke-linejoin:round; stroke-width:4; stroke-opacity:1; fill:none\" points=\"\n",
       "  155.765,646.528 174.663,646.528 \n",
       "  \"/>\n",
       "<polyline clip-path=\"url(#clip130)\" style=\"stroke:#000000; stroke-linecap:butt; stroke-linejoin:round; stroke-width:4; stroke-opacity:1; fill:none\" points=\"\n",
       "  155.765,311.63 174.663,311.63 \n",
       "  \"/>\n",
       "<path clip-path=\"url(#clip130)\" d=\"M63.5847 1302.12 Q59.9736 1302.12 58.1449 1305.69 Q56.3393 1309.23 56.3393 1316.36 Q56.3393 1323.46 58.1449 1327.03 Q59.9736 1330.57 63.5847 1330.57 Q67.2189 1330.57 69.0244 1327.03 Q70.8531 1323.46 70.8531 1316.36 Q70.8531 1309.23 69.0244 1305.69 Q67.2189 1302.12 63.5847 1302.12 M63.5847 1298.42 Q69.3948 1298.42 72.4503 1303.02 Q75.529 1307.61 75.529 1316.36 Q75.529 1325.08 72.4503 1329.69 Q69.3948 1334.27 63.5847 1334.27 Q57.7745 1334.27 54.6958 1329.69 Q51.6403 1325.08 51.6403 1316.36 Q51.6403 1307.61 54.6958 1303.02 Q57.7745 1298.42 63.5847 1298.42 Z\" fill=\"#000000\" fill-rule=\"evenodd\" fill-opacity=\"1\" /><path clip-path=\"url(#clip130)\" d=\"M83.7466 1327.72 L88.6308 1327.72 L88.6308 1333.6 L83.7466 1333.6 L83.7466 1327.72 Z\" fill=\"#000000\" fill-rule=\"evenodd\" fill-opacity=\"1\" /><path clip-path=\"url(#clip130)\" d=\"M98.8622 1299.04 L117.219 1299.04 L117.219 1302.98 L103.145 1302.98 L103.145 1311.45 Q104.163 1311.1 105.182 1310.94 Q106.2 1310.76 107.219 1310.76 Q113.006 1310.76 116.385 1313.93 Q119.765 1317.1 119.765 1322.51 Q119.765 1328.09 116.293 1331.2 Q112.82 1334.27 106.501 1334.27 Q104.325 1334.27 102.057 1333.9 Q99.8113 1333.53 97.4039 1332.79 L97.4039 1328.09 Q99.4872 1329.23 101.709 1329.78 Q103.932 1330.34 106.408 1330.34 Q110.413 1330.34 112.751 1328.23 Q115.089 1326.13 115.089 1322.51 Q115.089 1318.9 112.751 1316.8 Q110.413 1314.69 106.408 1314.69 Q104.534 1314.69 102.659 1315.11 Q100.807 1315.52 98.8622 1316.4 L98.8622 1299.04 Z\" fill=\"#000000\" fill-rule=\"evenodd\" fill-opacity=\"1\" /><path clip-path=\"url(#clip130)\" d=\"M53.3995 994.77 L61.0384 994.77 L61.0384 968.404 L52.7282 970.071 L52.7282 965.812 L60.9921 964.145 L65.668 964.145 L65.668 994.77 L73.3068 994.77 L73.3068 998.705 L53.3995 998.705 L53.3995 994.77 Z\" fill=\"#000000\" fill-rule=\"evenodd\" fill-opacity=\"1\" /><path clip-path=\"url(#clip130)\" d=\"M82.7512 992.826 L87.6354 992.826 L87.6354 998.705 L82.7512 998.705 L82.7512 992.826 Z\" fill=\"#000000\" fill-rule=\"evenodd\" fill-opacity=\"1\" /><path clip-path=\"url(#clip130)\" d=\"M107.821 967.224 Q104.209 967.224 102.381 970.789 Q100.575 974.33 100.575 981.46 Q100.575 988.566 102.381 992.131 Q104.209 995.673 107.821 995.673 Q111.455 995.673 113.26 992.131 Q115.089 988.566 115.089 981.46 Q115.089 974.33 113.26 970.789 Q111.455 967.224 107.821 967.224 M107.821 963.52 Q113.631 963.52 116.686 968.127 Q119.765 972.71 119.765 981.46 Q119.765 990.187 116.686 994.793 Q113.631 999.377 107.821 999.377 Q102.01 999.377 98.9317 994.793 Q95.8761 990.187 95.8761 981.46 Q95.8761 972.71 98.9317 968.127 Q102.01 963.52 107.821 963.52 Z\" fill=\"#000000\" fill-rule=\"evenodd\" fill-opacity=\"1\" /><path clip-path=\"url(#clip130)\" d=\"M54.3949 659.873 L62.0337 659.873 L62.0337 633.507 L53.7236 635.174 L53.7236 630.915 L61.9874 629.248 L66.6633 629.248 L66.6633 659.873 L74.3022 659.873 L74.3022 663.808 L54.3949 663.808 L54.3949 659.873 Z\" fill=\"#000000\" fill-rule=\"evenodd\" fill-opacity=\"1\" /><path clip-path=\"url(#clip130)\" d=\"M83.7466 657.928 L88.6308 657.928 L88.6308 663.808 L83.7466 663.808 L83.7466 657.928 Z\" fill=\"#000000\" fill-rule=\"evenodd\" fill-opacity=\"1\" /><path clip-path=\"url(#clip130)\" d=\"M98.8622 629.248 L117.219 629.248 L117.219 633.183 L103.145 633.183 L103.145 641.655 Q104.163 641.308 105.182 641.146 Q106.2 640.961 107.219 640.961 Q113.006 640.961 116.385 644.132 Q119.765 647.303 119.765 652.72 Q119.765 658.299 116.293 661.4 Q112.82 664.479 106.501 664.479 Q104.325 664.479 102.057 664.109 Q99.8113 663.738 97.4039 662.998 L97.4039 658.299 Q99.4872 659.433 101.709 659.988 Q103.932 660.544 106.408 660.544 Q110.413 660.544 112.751 658.438 Q115.089 656.331 115.089 652.72 Q115.089 649.109 112.751 647.002 Q110.413 644.896 106.408 644.896 Q104.534 644.896 102.659 645.313 Q100.807 645.729 98.8622 646.609 L98.8622 629.248 Z\" fill=\"#000000\" fill-rule=\"evenodd\" fill-opacity=\"1\" /><path clip-path=\"url(#clip130)\" d=\"M56.6171 324.975 L72.9365 324.975 L72.9365 328.91 L50.9921 328.91 L50.9921 324.975 Q53.6541 322.221 58.2375 317.591 Q62.8439 312.938 64.0245 311.596 Q66.2698 309.073 67.1494 307.337 Q68.0522 305.577 68.0522 303.887 Q68.0522 301.133 66.1078 299.397 Q64.1865 297.661 61.0847 297.661 Q58.8856 297.661 56.4319 298.425 Q54.0014 299.188 51.2236 300.739 L51.2236 296.017 Q54.0477 294.883 56.5014 294.304 Q58.955 293.725 60.9921 293.725 Q66.3624 293.725 69.5568 296.411 Q72.7513 299.096 72.7513 303.587 Q72.7513 305.716 71.9411 307.637 Q71.1541 309.536 69.0476 312.128 Q68.4689 312.799 65.367 316.017 Q62.2652 319.211 56.6171 324.975 Z\" fill=\"#000000\" fill-rule=\"evenodd\" fill-opacity=\"1\" /><path clip-path=\"url(#clip130)\" d=\"M82.7512 323.031 L87.6354 323.031 L87.6354 328.91 L82.7512 328.91 L82.7512 323.031 Z\" fill=\"#000000\" fill-rule=\"evenodd\" fill-opacity=\"1\" /><path clip-path=\"url(#clip130)\" d=\"M107.821 297.429 Q104.209 297.429 102.381 300.994 Q100.575 304.536 100.575 311.665 Q100.575 318.772 102.381 322.336 Q104.209 325.878 107.821 325.878 Q111.455 325.878 113.26 322.336 Q115.089 318.772 115.089 311.665 Q115.089 304.536 113.26 300.994 Q111.455 297.429 107.821 297.429 M107.821 293.725 Q113.631 293.725 116.686 298.332 Q119.765 302.915 119.765 311.665 Q119.765 320.392 116.686 324.998 Q113.631 329.582 107.821 329.582 Q102.01 329.582 98.9317 324.998 Q95.8761 320.392 95.8761 311.665 Q95.8761 302.915 98.9317 298.332 Q102.01 293.725 107.821 293.725 Z\" fill=\"#000000\" fill-rule=\"evenodd\" fill-opacity=\"1\" /><polyline clip-path=\"url(#clip132)\" style=\"stroke:#009af9; stroke-linecap:butt; stroke-linejoin:round; stroke-width:4; stroke-opacity:1; fill:none\" points=\"\n",
       "  2270.96,981.425 2268.87,954.102 2262.49,925.739 2251.72,896.377 2236.47,866.075 2216.72,834.902 2192.39,802.919 2163,770.045 2128.83,736.457 2090.35,702.383 \n",
       "  2048.01,668.039 2002.24,633.63 1953.46,599.347 1902.08,565.369 1848.49,531.864 1793.06,498.987 1736.17,466.88 1678.14,435.674 1619.32,405.487 1560.03,376.426 \n",
       "  1500.56,348.582 1441.2,322.039 1382.24,296.865 1323.91,273.117 1266.48,250.84 1210.17,230.066 1155.19,210.815 1101.75,193.095 1050.02,176.903 1000.42,162.332 \n",
       "  953.119,149.416 908.073,138.087 865.226,128.283 824.525,119.94 785.914,112.994 749.34,107.384 714.744,103.048 682.071,99.9267 651.263,97.9594 622.262,97.0874 \n",
       "  595.008,97.2525 569.442,98.3973 545.504,100.465 523.131,103.4 502.263,107.147 482.836,111.651 464.788,116.859 448.053,122.719 432.568,129.178 418.266,136.184 \n",
       "  405.081,143.687 392.936,151.636 381.661,159.964 371.169,168.633 361.4,177.611 352.302,186.868 343.824,196.377 335.918,206.112 328.541,216.047 321.653,226.16 \n",
       "  315.217,236.429 309.201,246.835 303.575,257.359 298.314,267.984 293.395,278.696 288.799,289.481 284.512,300.327 280.522,311.226 276.819,322.166 273.361,333.132 \n",
       "  270.121,344.113 267.085,355.101 264.238,366.088 261.568,377.067 259.062,388.032 256.708,398.978 254.497,409.897 252.417,420.786 250.46,431.638 248.617,442.45 \n",
       "  246.881,453.218 245.245,463.938 243.702,474.607 242.247,485.222 240.876,495.78 239.584,506.281 238.365,516.72 237.213,527.095 236.125,537.406 235.097,547.65 \n",
       "  234.124,557.827 233.205,567.935 232.336,577.973 231.513,587.94 230.735,597.835 229.998,607.658 229.299,617.407 228.638,627.083 228.01,636.683 227.415,646.208 \n",
       "  226.851,655.658 226.314,665.032 225.805,674.33 225.322,683.551 224.863,692.696 224.427,701.764 224.013,710.756 223.62,719.671 223.249,728.511 222.897,737.275 \n",
       "  222.566,745.964 222.252,754.578 221.955,763.115 221.673,771.578 221.407,779.966 221.155,788.279 220.918,796.518 220.693,804.683 220.482,812.775 220.284,820.794 \n",
       "  220.097,828.739 219.922,836.613 219.759,844.414 219.606,852.144 219.463,859.803 219.331,867.391 219.208,874.908 219.095,882.356 218.99,889.734 218.894,897.044 \n",
       "  218.807,904.284 218.728,911.457 218.657,918.562 218.594,925.599 218.539,932.571 218.491,939.475 218.45,946.315 218.416,953.089 218.39,959.798 218.37,966.443 \n",
       "  218.358,973.025 218.352,979.544 218.354,986 218.362,992.394 218.377,998.726 218.398,1005 218.426,1011.21 218.461,1017.36 218.502,1023.45 218.55,1029.48 \n",
       "  218.605,1035.45 218.666,1041.37 218.734,1047.23 218.808,1053.03 218.889,1058.77 218.977,1064.46 219.072,1070.09 219.173,1075.66 219.281,1081.18 219.397,1086.65 \n",
       "  219.519,1092.06 219.649,1097.42 219.786,1102.72 219.931,1107.98 220.083,1113.18 220.242,1118.33 220.41,1123.42 220.586,1128.47 220.769,1133.46 220.961,1138.41 \n",
       "  221.162,1143.31 221.371,1148.15 221.589,1152.95 221.816,1157.7 222.052,1162.4 222.298,1167.06 222.553,1171.66 222.819,1176.22 223.094,1180.73 223.381,1185.2 \n",
       "  223.677,1189.62 223.985,1194 224.304,1198.33 224.637,1202.62 224.986,1206.86 225.349,1211.06 225.728,1215.21 226.121,1219.32 226.528,1223.39 226.951,1227.42 \n",
       "  227.387,1231.4 227.839,1235.34 228.306,1239.24 228.787,1243.1 229.284,1246.92 229.796,1250.7 230.324,1254.43 230.868,1258.13 231.43,1261.79 232.008,1265.41 \n",
       "  232.604,1268.99 233.219,1272.53 233.852,1276.04 234.506,1279.5 235.18,1282.93 235.875,1286.32 236.593,1289.68 237.334,1292.99 238.099,1296.27 238.89,1299.52 \n",
       "  239.707,1302.72 240.551,1305.9 241.424,1309.03 242.327,1312.13 243.261,1315.19 244.228,1318.22 245.229,1321.22 246.266,1324.18 247.339,1327.1 248.452,1329.99 \n",
       "  249.604,1332.84 250.799,1335.67 252.037,1338.45 253.321,1341.2 254.652,1343.92 256.032,1346.61 257.463,1349.26 258.948,1351.87 260.488,1354.46 262.086,1357.01 \n",
       "  263.743,1359.52 265.461,1362 267.244,1364.45 269.093,1366.87 271.012,1369.25 273.001,1371.6 275.064,1373.91 277.203,1376.2 279.421,1378.45 281.721,1380.66 \n",
       "  284.105,1382.84 286.576,1384.99 289.137,1387.11 291.79,1389.19 294.539,1391.24 297.387,1393.25 300.336,1395.23 303.39,1397.18 306.552,1399.09 309.825,1400.97 \n",
       "  313.212,1402.82 316.716,1404.63 320.342,1406.41 324.091,1408.15 327.966,1409.85 331.971,1411.52 336.114,1413.14 340.4,1414.73 344.838,1416.28 349.435,1417.79 \n",
       "  354.197,1419.27 359.132,1420.71 364.249,1422.11 369.554,1423.48 375.057,1424.81 380.765,1426.11 386.687,1427.37 392.833,1428.59 399.21,1429.77 405.828,1430.92 \n",
       "  412.696,1432.03 419.825,1433.1 427.223,1434.13 434.9,1435.12 442.868,1436.06 451.135,1436.97 459.713,1437.82 468.613,1438.64 477.845,1439.4 487.421,1440.12 \n",
       "  497.351,1440.79 507.648,1441.4 518.323,1441.96 529.388,1442.47 540.855,1442.91 552.737,1443.3 565.045,1443.62 577.794,1443.88 590.995,1444.07 604.663,1444.19 \n",
       "  618.809,1444.24 633.448,1444.22 648.594,1444.11 664.26,1443.93 680.46,1443.66 697.21,1443.3 714.522,1442.85 732.413,1442.31 750.897,1441.67 769.988,1440.93 \n",
       "  789.704,1440.09 810.058,1439.13 831.066,1438.07 852.745,1436.88 875.111,1435.58 898.18,1434.15 921.968,1432.6 946.493,1430.91 971.752,1429.08 997.687,1427.08 \n",
       "  1024.33,1424.91 1051.7,1422.56 1079.85,1420.03 1108.77,1417.31 1138.5,1414.39 1169.04,1411.27 1200.38,1407.94 1232.52,1404.37 1265.46,1400.57 1299.16,1396.51 \n",
       "  1333.62,1392.18 1368.78,1387.57 1404.62,1382.65 1441.08,1377.4 1478.12,1371.8 1515.68,1365.84 1553.7,1359.48 1592.09,1352.7 1630.78,1345.48 1669.7,1337.79 \n",
       "  1708.73,1329.59 1747.8,1320.86 1786.78,1311.57 1825.58,1301.68 1864.06,1291.17 1902.12,1279.98 1939.62,1268.09 1976.6,1255.54 2012.79,1242.26 2047.88,1228.18 \n",
       "  2081.53,1213.23 2113.46,1197.35 2143.37,1180.5 2171,1162.62 2196.08,1143.68 2218.39,1123.66 2237.68,1102.54 2253.75,1080.29 2266.39,1056.93 2275.43,1032.46 \n",
       "  2280.69,1006.88 2282.03,980.227 2279.29,952.522 2272.36,923.804 2261.12,894.12 2245.48,863.522 2225.36,832.073 2200.68,799.843 2171.36,766.892 2137.12,733.206 \n",
       "  2098.32,698.976 2055.46,664.425 2008.99,629.764 1959.37,595.193 1907.02,560.899 1852.36,527.057 1795.8,493.828 1737.71,461.364 1678.48,429.803 1618.46,399.27 \n",
       "  1557.99,369.881 1497.39,341.735 1436.97,314.924 1377.03,289.524 1317.84,265.6 1259.67,243.205 1202.77,222.381 1147.36,203.154 1093.66,185.543 1041.88,169.551 \n",
       "  992.197,155.179 944.754,142.449 899.56,131.317 856.607,121.728 815.877,113.624 777.343,106.947 740.969,101.636 706.71,97.63 674.509,94.8643 644.303,93.2742 \n",
       "  616.018,92.7929 589.571,93.352 564.87,94.8815 541.813,97.3099 520.294,100.565 500.233,104.587 481.538,109.319 464.119,114.706 447.89,120.696 432.77,127.24 \n",
       "  418.684,134.292 405.562,141.807 393.338,149.744 381.953,158.064 371.351,166.733 361.483,175.717 352.304,184.986 343.774,194.511 335.856,204.268 328.483,214.222 \n",
       "  321.611,224.352 315.204,234.638 309.228,245.06 303.65,255.602 298.442,266.247 293.575,276.979 289.025,287.784 284.767,298.648 280.78,309.56 277.046,320.506 \n",
       "  273.546,331.479 270.266,342.467 267.192,353.462 264.315,364.459 261.626,375.45 259.109,386.427 256.746,397.384 254.525,408.313 252.438,419.212 250.475,430.075 \n",
       "  248.629,440.899 246.892,451.68 245.255,462.413 243.713,473.096 242.259,483.726 240.887,494.3 239.591,504.814 238.367,515.268 237.21,525.658 236.115,535.983 \n",
       "  235.08,546.242 234.101,556.432 233.175,566.554 232.301,576.605 231.475,586.586 230.693,596.494 229.952,606.329 229.25,616.089 228.584,625.776 227.954,635.388 \n",
       "  227.357,644.925 226.791,654.387 226.255,663.773 225.747,673.084 225.266,682.319 224.811,691.477 224.379,700.56 223.969,709.566 223.581,718.497 223.214,727.351 \n",
       "  222.865,736.129 222.534,744.831 222.221,753.457 221.923,762.007 221.642,770.482 221.374,778.881 221.121,787.206 220.881,795.455 220.655,803.631 220.44,811.732 \n",
       "  220.238,819.76 220.047,827.715 219.869,835.598 219.701,843.408 219.545,851.147 219.4,858.816 219.266,866.414 219.141,873.941 219.026,881.399 218.92,888.787 \n",
       "  218.822,896.106 218.734,903.357 218.653,910.539 218.58,917.654 218.516,924.702 218.459,931.683 218.41,938.598 218.369,945.447 218.334,952.232 218.308,958.951 \n",
       "  218.288,965.606 218.275,972.198 218.269,978.727 218.27,985.192 218.277,991.596 218.292,997.937 218.313,1004.22 218.34,1010.44 218.375,1016.6 218.415,1022.7 \n",
       "  218.462,1028.74 218.516,1034.72 218.576,1040.64 218.643,1046.51 218.716,1052.31 218.796,1058.06 218.883,1063.76 218.976,1069.4 219.077,1074.98 219.184,1080.51 \n",
       "  219.298,1085.98 219.42,1091.4 219.548,1096.77 219.684,1102.08 219.828,1107.34 219.979,1112.55 220.137,1117.7 220.303,1122.81 220.477,1127.86 220.659,1132.87 \n",
       "  220.848,1137.82 221.046,1142.72 221.253,1147.58 221.468,1152.38 221.692,1157.14 221.925,1161.85 222.167,1166.51 222.419,1171.12 222.68,1175.69 222.952,1180.21 \n",
       "  223.234,1184.68 223.526,1189.11 223.83,1193.49 224.145,1197.83 224.471,1202.13 224.81,1206.38 225.161,1210.58 225.524,1214.74 225.901,1218.86 226.292,1222.94 \n",
       "  226.696,1226.97 227.115,1230.96 227.549,1234.91 227.998,1238.82 228.464,1242.68 228.945,1246.51 229.443,1250.29 229.959,1254.04 230.493,1257.74 231.045,1261.41 \n",
       "  231.617,1265.03 232.208,1268.62 232.819,1272.17 233.451,1275.68 234.104,1279.15 234.78,1282.58 235.479,1285.97 236.209,1289.33 236.973,1292.65 237.769,1295.93 \n",
       "  238.598,1299.17 239.458,1302.37 240.349,1305.54 241.271,1308.67 242.224,1311.76 243.208,1314.82 244.224,1317.85 245.27,1320.83 246.349,1323.79 247.461,1326.71 \n",
       "  248.605,1329.59 249.784,1332.44 250.998,1335.26 252.249,1338.04 253.536,1340.8 254.863,1343.51 256.231,1346.2 257.64,1348.85 259.093,1351.47 260.593,1354.06 \n",
       "  262.14,1356.61 263.737,1359.14 265.387,1361.63 267.091,1364.09 268.853,1366.52 270.676,1368.91 272.561,1371.28 274.513,1373.61 276.533,1375.91 278.626,1378.18 \n",
       "  280.795,1380.41 283.043,1382.62 285.375,1384.79 287.793,1386.93 290.301,1389.03 292.905,1391.11 295.607,1393.15 298.413,1395.16 301.327,1397.13 304.353,1399.08 \n",
       "  307.496,1400.98 310.761,1402.86 314.152,1404.7 317.676,1406.5 321.337,1408.27 325.141,1410.01 329.093,1411.71 333.199,1413.37 337.464,1415 341.895,1416.59 \n",
       "  346.498,1418.14 351.278,1419.66 356.243,1421.14 361.398,1422.58 366.75,1423.98 372.306,1425.34 378.073,1426.66 384.057,1427.94 390.266,1429.18 396.708,1430.38 \n",
       "  403.388,1431.53 410.316,1432.65 417.498,1433.72 424.943,1434.74 432.658,1435.72 440.651,1436.66 448.931,1437.54 457.506,1438.38 466.384,1439.18 475.574,1439.92 \n",
       "  485.085,1440.62 494.925,1441.26 505.103,1441.86 515.628,1442.4 526.503,1442.88 537.75,1443.29 549.388,1443.65 561.437,1443.94 573.917,1444.17 586.848,1444.33 \n",
       "  600.247,1444.44 614.132,1444.47 628.522,1444.44 643.432,1444.34 658.881,1444.16 674.882,1443.92 691.454,1443.59 708.609,1443.19 726.362,1442.7 744.729,1442.12 \n",
       "  763.721,1441.44 783.352,1440.67 803.635,1439.8 824.581,1438.82 846.202,1437.73 868.509,1436.51 891.512,1435.17 915.221,1433.7 939.645,1432.08 964.794,1430.32 \n",
       "  990.676,1428.4 1017.3,1426.32 1044.67,1424.07 1072.79,1421.63 1101.68,1419.01 1131.34,1416.19 1161.76,1413.16 1192.97,1409.91 1224.95,1406.43 1257.67,1402.71 \n",
       "  1291.06,1398.72 1325.11,1394.45 1359.84,1389.88 1395.25,1385.01 1431.3,1379.8 1467.97,1374.24 1505.22,1368.31 1543.01,1361.99 1581.26,1355.25 1619.91,1348.08 \n",
       "  1658.88,1340.43 1698.06,1332.3 1737.36,1323.65 1776.65,1314.45 1815.82,1304.68 1854.72,1294.29 1893.21,1283.27 1931.13,1271.58 1968.3,1259.17 2004.55,1246.03 \n",
       "  2039.68,1232.1 2073.5,1217.36 2105.78,1201.76 2136.31,1185.26 2164.85,1167.83 2191.16,1149.41 2214.97,1129.97 2236.03,1109.46 2254.04,1087.84 2268.73,1065.06 \n",
       "  2279.83,1041.09 2287.2,1016 2290.58,989.786 2289.77,962.468 2284.61,934.069 2274.97,904.631 2260.78,874.208 2241.98,842.869 2218.6,810.697 2190.67,777.788 \n",
       "  2158.27,744.255 2121.55,710.218 2080.66,675.803 2035.91,641.177 1987.65,606.512 1936.22,571.977 1881.99,537.737 1825.34,503.956 1766.69,470.794 1706.45,438.407 \n",
       "  1645.06,406.951 1582.97,376.577 1520.64,347.438 1458.61,319.716 1397.2,293.498 1336.68,268.823 1277.3,245.725 1219.27,224.229 1162.8,204.353 1108.06,186.108 \n",
       "  1055.21,169.496 1004.36,154.514 955.634,141.149 909.111,129.382 864.853,119.186 822.9,110.527 783.268,103.364 745.951,97.6458 710.92,93.3173 678.124,90.3138 \n",
       "  647.487,88.5637 618.898,87.9763 592.186,88.435 567.23,89.8659 543.92,92.2014 522.152,95.377 501.827,99.3311 482.854,104.005 465.148,109.344 448.63,115.296 \n",
       "  433.227,121.811 418.872,128.844 405.507,136.351 393.076,144.293 381.533,152.632 370.836,161.336 360.951,170.372 351.795,179.701 343.273,189.28 335.337,199.084 \n",
       "  327.946,209.091 321.058,219.276 314.636,229.62 308.646,240.102 303.055,250.704 297.832,261.408 292.952,272.198 288.388,283.061 284.121,293.981 280.13,304.949 \n",
       "  276.399,315.952 272.914,326.982 269.662,338.03 266.619,349.084 263.766,360.136 261.09,371.18 258.58,382.209 256.224,393.218 254.012,404.201 251.933,415.152 \n",
       "  249.978,426.068 248.139,436.944 246.407,447.775 244.775,458.558 243.236,469.29 241.784,479.967 240.414,490.587 239.12,501.147 237.899,511.645 236.748,522.08 \n",
       "  235.662,532.45 234.638,542.753 233.669,552.987 232.752,563.152 231.885,573.245 231.065,583.267 230.289,593.216 229.554,603.092 228.859,612.894 228.2,622.621 \n",
       "  227.577,632.274 226.986,641.851 226.426,651.352 225.895,660.777 225.391,670.125 224.914,679.397 224.46,688.592 224.029,697.709 223.621,706.75 223.232,715.714 \n",
       "  222.864,724.6 222.513,733.41 222.181,742.144 221.866,750.801 221.568,759.382 221.286,767.888 221.02,776.319 220.77,784.675 220.534,792.957 220.311,801.164 \n",
       "  220.101,809.297 219.902,817.356 219.716,825.342 219.541,833.255 219.376,841.096 219.223,848.865 219.079,856.562 218.946,864.188 218.822,871.743 218.707,879.228 \n",
       "  218.602,886.643 218.505,893.989 218.417,901.266 218.336,908.475 218.264,915.616 218.2,922.689 218.143,929.695 218.094,936.635 218.052,943.508 218.017,950.317 \n",
       "  217.989,957.06 217.967,963.738 217.953,970.353 217.945,976.904 217.944,983.392 217.949,989.817 217.961,996.181 217.979,1002.48 218.004,1008.72 218.035,1014.91 \n",
       "  218.073,1021.03 218.117,1027.09 218.168,1033.09 218.225,1039.03 218.288,1044.92 218.358,1050.75 218.434,1056.52 218.517,1062.23 218.606,1067.89 218.702,1073.5 \n",
       "  218.805,1079.04 218.914,1084.54 219.03,1089.98 219.154,1095.36 219.284,1100.69 219.421,1105.97 219.566,1111.2 219.718,1116.37 219.877,1121.49 220.044,1126.57 \n",
       "  220.219,1131.59 220.402,1136.56 220.593,1141.48 220.793,1146.35 221.001,1151.17 221.218,1155.95 221.443,1160.67 221.678,1165.35 221.923,1169.98 222.177,1174.56 \n",
       "  222.441,1179.1 222.715,1183.59 222.999,1188.03 223.294,1192.43 223.601,1196.78 223.918,1201.09 224.247,1205.36 224.588,1209.58 224.941,1213.76 225.307,1217.89 \n",
       "  225.686,1221.98 226.078,1226.03 226.488,1230.04 226.919,1234 227.368,1237.92 227.835,1241.8 228.321,1245.63 228.825,1249.43 229.347,1253.19 229.886,1256.9 \n",
       "  230.443,1260.58 231.018,1264.21 231.61,1267.81 232.221,1271.37 232.849,1274.89 233.497,1278.37 234.163,1281.81 234.849,1285.22 235.555,1288.59 236.282,1291.92 \n",
       "  237.03,1295.22 237.8,1298.48 238.594,1301.7 239.411,1304.89 240.254,1308.05 241.122,1311.16 242.018,1314.25 242.942,1317.3 243.897,1320.31 244.882,1323.29 \n",
       "  245.9,1326.23 246.952,1329.14 248.04,1332.02 249.166,1334.86 250.33,1337.67 251.536,1340.45 252.785,1343.19 254.078,1345.9 255.419,1348.57 256.809,1351.22 \n",
       "  258.25,1353.83 259.745,1356.4 261.295,1358.95 262.904,1361.46 264.574,1363.94 266.308,1366.38 268.108,1368.79 269.976,1371.17 271.916,1373.52 273.931,1375.83 \n",
       "  276.023,1378.11 278.195,1380.36 280.452,1382.57 282.795,1384.76 285.228,1386.9 287.754,1389.02 290.377,1391.1 293.1,1393.15 295.928,1395.16 298.862,1397.14 \n",
       "  301.908,1399.09 305.068,1401 308.347,1402.88 311.749,1404.72 315.277,1406.53 318.936,1408.31 322.73,1410.05 326.662,1411.75 330.738,1413.42 334.962,1415.05 \n",
       "  339.338,1416.65 343.871,1418.21 348.564,1419.74 353.424,1421.23 358.455,1422.68 363.66,1424.09 369.046,1425.47 374.618,1426.8 380.385,1428.1 386.363,1429.36 \n",
       "  392.56,1430.58 398.984,1431.76 405.644,1432.9 412.549,1433.99 419.708,1435.05 427.132,1436.06 434.83,1437.03 442.812,1437.95 451.088,1438.83 459.669,1439.66 \n",
       "  468.566,1440.45 477.791,1441.19 487.354,1441.88 497.267,1442.51 507.543,1443.1 518.193,1443.63 529.23,1444.1 540.666,1444.52 552.516,1444.88 564.791,1445.18 \n",
       "  577.507,1445.41 590.675,1445.58 604.311,1445.68 618.429,1445.72 633.044,1445.68 648.169,1445.56 663.822,1445.37 680.016,1445.1 696.768,1444.74 714.093,1444.3 \n",
       "  732.008,1443.77 \n",
       "  \"/>\n",
       "<path clip-path=\"url(#clip130)\" d=\"\n",
       "M1982.98 198.898 L2279.52 198.898 L2279.52 95.2176 L1982.98 95.2176  Z\n",
       "  \" fill=\"#ffffff\" fill-rule=\"evenodd\" fill-opacity=\"1\"/>\n",
       "<polyline clip-path=\"url(#clip130)\" style=\"stroke:#000000; stroke-linecap:butt; stroke-linejoin:round; stroke-width:4; stroke-opacity:1; fill:none\" points=\"\n",
       "  1982.98,198.898 2279.52,198.898 2279.52,95.2176 1982.98,95.2176 1982.98,198.898 \n",
       "  \"/>\n",
       "<polyline clip-path=\"url(#clip130)\" style=\"stroke:#009af9; stroke-linecap:butt; stroke-linejoin:round; stroke-width:4; stroke-opacity:1; fill:none\" points=\"\n",
       "  2007.39,147.058 2153.86,147.058 \n",
       "  \"/>\n",
       "<path clip-path=\"url(#clip130)\" d=\"M2192.11 166.745 Q2190.31 171.375 2188.59 172.787 Q2186.88 174.199 2184.01 174.199 L2180.61 174.199 L2180.61 170.634 L2183.11 170.634 Q2184.87 170.634 2185.84 169.8 Q2186.81 168.967 2187.99 165.865 L2188.76 163.921 L2178.27 138.412 L2182.78 138.412 L2190.89 158.689 L2198.99 138.412 L2203.5 138.412 L2192.11 166.745 Z\" fill=\"#000000\" fill-rule=\"evenodd\" fill-opacity=\"1\" /><path clip-path=\"url(#clip130)\" d=\"M2210.79 160.402 L2218.43 160.402 L2218.43 134.037 L2210.12 135.703 L2210.12 131.444 L2218.39 129.778 L2223.06 129.778 L2223.06 160.402 L2230.7 160.402 L2230.7 164.338 L2210.79 164.338 L2210.79 160.402 Z\" fill=\"#000000\" fill-rule=\"evenodd\" fill-opacity=\"1\" /></svg>\n"
      ]
     },
     "execution_count": 15,
     "metadata": {},
     "output_type": "execute_result"
    }
   ],
   "source": [
    "plot(soln[\"y\"][1,:], soln[\"y\"][2,:])"
   ]
  },
  {
   "cell_type": "markdown",
   "id": "1063bd78",
   "metadata": {
    "slideshow": {
     "slide_type": "subslide"
    }
   },
   "source": [
    "## Calling Python\n",
    "\n",
    "For more details, see the [PyCall github repo](https://github.com/JuliaPy/PyCall.jl.git)."
   ]
  },
  {
   "cell_type": "markdown",
   "id": "f4c84e39",
   "metadata": {
    "slideshow": {
     "slide_type": "slide"
    }
   },
   "source": [
    "## Calling C/Fortran Library\n",
    "\n",
    "Here we will discuss how to call a C library function from within Julia."
   ]
  },
  {
   "cell_type": "markdown",
   "id": "23e96058",
   "metadata": {
    "slideshow": {
     "slide_type": "fragment"
    }
   },
   "source": [
    "Calling a Fortran library function is the same except that Fortran compilers \"mangle\" the function names. This means that they are not precisely the same names as in the source code and you need to know what compiler was used to compile the Fortran library so you can determine the mangling scheme."
   ]
  },
  {
   "cell_type": "markdown",
   "id": "79ff3293",
   "metadata": {
    "slideshow": {
     "slide_type": "fragment"
    }
   },
   "source": [
    "Note that the library we are calling must be compiled as a shared library."
   ]
  },
  {
   "cell_type": "markdown",
   "id": "5df7eea1",
   "metadata": {
    "slideshow": {
     "slide_type": "subslide"
    }
   },
   "source": [
    "## Calling C Library\n",
    "\n",
    "As an example we will use the \"silly\" library that was written just for this.\n",
    "\n",
    "Here are the functions available in the silly library:\n",
    "```C\n",
    "void fill_zeros(double *to_fill, int size);\n",
    "void fill_value(double *to_fill, int size, double value);\n",
    "void fill_cb(double *to_fill, int size, double (*func)(int));\n",
    "```"
   ]
  },
  {
   "cell_type": "markdown",
   "id": "f0ada1c4",
   "metadata": {
    "slideshow": {
     "slide_type": "subslide"
    }
   },
   "source": [
    "## Calling C Library\n",
    "\n",
    "To call one of these functions, we will use the builtin Julia function `ccall`:"
   ]
  },
  {
   "cell_type": "code",
   "execution_count": 16,
   "id": "0487fd49",
   "metadata": {
    "slideshow": {
     "slide_type": "fragment"
    }
   },
   "outputs": [
    {
     "name": "stdout",
     "output_type": "stream",
     "text": [
      "my_vector = [2.257468188e-314, 0.0, 2.257517705e-314, 2.257468188e-314]\n",
      "my_vector = [0.0, 0.0, 0.0, 0.0]\n",
      "my_vector = [3.141592653589793, 3.141592653589793, 3.141592653589793, 3.141592653589793]\n"
     ]
    }
   ],
   "source": [
    "N = 4\n",
    "my_vector = Vector{Float64}(undef, N)\n",
    "@show my_vector\n",
    "ccall((:fill_zeros,\"fake-lib/libsilly\"), # function and library\n",
    "    Cvoid, # return type\n",
    "    (Ref{Float64}, Cint), # argument types\n",
    "    my_vector, N # arguments\n",
    ")\n",
    "@show my_vector\n",
    "ccall((:fill_value,\"fake-lib/libsilly\"),\n",
    "    Cvoid,\n",
    "    (Ref{Float64}, Cint, Cdouble),\n",
    "    my_vector, N, pi\n",
    ")\n",
    "@show my_vector;"
   ]
  },
  {
   "cell_type": "markdown",
   "id": "026b4131",
   "metadata": {
    "slideshow": {
     "slide_type": "subslide"
    }
   },
   "source": [
    "## Calling C Library\n",
    "\n",
    "What if we want to use a function that requires a callback (so one of its arguments is a function pointer)? We can create a pointer to a Julia function with the `@cfunction` macro."
   ]
  },
  {
   "cell_type": "code",
   "execution_count": 17,
   "id": "5e72bd09",
   "metadata": {
    "slideshow": {
     "slide_type": "fragment"
    }
   },
   "outputs": [
    {
     "data": {
      "text/plain": [
       "Ptr{Nothing} @0x000000017ee10ec0"
      ]
     },
     "execution_count": 17,
     "metadata": {},
     "output_type": "execute_result"
    }
   ],
   "source": [
    "function my_filler(index::Int)::Float64\n",
    "    return index / 10.0\n",
    "end\n",
    "cfunc = @cfunction(my_filler, Float64, (Int,))"
   ]
  },
  {
   "cell_type": "markdown",
   "id": "2ea69208",
   "metadata": {
    "slideshow": {
     "slide_type": "fragment"
    }
   },
   "source": [
    "Now we call the C function with `ccall` as before. The type of the function pointer is `Ptr{Cvoid}`."
   ]
  },
  {
   "cell_type": "code",
   "execution_count": 18,
   "id": "af3fbc67",
   "metadata": {
    "slideshow": {
     "slide_type": "fragment"
    }
   },
   "outputs": [
    {
     "name": "stdout",
     "output_type": "stream",
     "text": [
      "my_vector = [0.0, 0.1, 0.2, 0.3]\n"
     ]
    }
   ],
   "source": [
    "ccall((:fill_cb, \"fake-lib/libsilly\"),\n",
    "    Cvoid,\n",
    "    (Ref{Float64}, Cint, Ptr{Cvoid}),\n",
    "    my_vector, N, cfunc)\n",
    "@show my_vector;"
   ]
  },
  {
   "cell_type": "markdown",
   "id": "763edfe5",
   "metadata": {
    "slideshow": {
     "slide_type": "subslide"
    }
   },
   "source": [
    "## Calling C Library\n",
    "\n",
    "For more details, see the [Calling C and Fortran Code](https://docs.julialang.org/en/v1/manual/calling-c-and-fortran-code/) section of the Julia documentation. (If the link does not work, just google \"julia call c library\".)\n",
    "\n",
    "A more complex example is provided by [Ipopt.jl](https://github.com/jump-dev/Ipopt.jl). You may also wish to look at the Ipopt library C API. The easiest way to do this is actually to just look at the header file at src/Interfaces/IpStdCInterface.h which is viewable at the [Ipopt github repo](https://github.com/coin-or/Ipopt)."
   ]
  },
  {
   "cell_type": "markdown",
   "id": "0a8f1b36",
   "metadata": {
    "slideshow": {
     "slide_type": "slide"
    }
   },
   "source": [
    "## Other Interfaces\n",
    "\n",
    "Interested in calling a function/library written in something other than Python, C or Fortran? Checkout the [Julia Interop](https://github.com/JuliaInterop) group on GitHub. Interfaces already exist for C++, MATLAB, Mathematica and R to name a few."
   ]
  }
 ],
 "metadata": {
  "celltoolbar": "Slideshow",
  "kernelspec": {
   "display_name": "Julia 1.6.2",
   "language": "julia",
   "name": "julia-1.6"
  },
  "language_info": {
   "file_extension": ".jl",
   "mimetype": "application/julia",
   "name": "julia",
   "version": "1.6.2"
  }
 },
 "nbformat": 4,
 "nbformat_minor": 5
}
