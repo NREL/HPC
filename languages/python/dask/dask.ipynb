{
 "cells": [
  {
   "cell_type": "markdown",
   "id": "1af12669",
   "metadata": {},
   "source": [
    "# Dask Parallel Computing Demo\n",
    "\n",
    "This notebook demonstrates how to use Dask for parallel computing in Python. We'll compare sequential execution with Dask's delayed execution to show performance improvements through parallelization.\n",
    "\n",
    "## What is Dask?\n",
    "\n",
    "Dask is a flexible library for parallel computing in Python that scales Python workflows from single machines to large clusters. It provides:\n",
    "- **Delayed execution**: Build computation graphs and execute them efficiently\n",
    "- **Parallel collections**: Arrays, DataFrames, and Bags that work in parallel\n",
    "- **Task scheduling**: Intelligent task scheduling for optimal performance"
   ]
  },
  {
   "cell_type": "markdown",
   "id": "a23ed61c",
   "metadata": {},
   "source": [
    "## Import Required Libraries\n",
    "\n",
    "Let's start by importing the necessary libraries:\n",
    "- `dask`: For parallel computing capabilities\n",
    "- `time`: To simulate computational delays in our examples"
   ]
  },
  {
   "cell_type": "code",
   "execution_count": null,
   "id": "e71d7594-57ee-4e89-b75e-64e14027b85b",
   "metadata": {},
   "outputs": [],
   "source": [
    "import dask\n",
    "import time"
   ]
  },
  {
   "cell_type": "markdown",
   "id": "38c5b8df",
   "metadata": {},
   "source": [
    "## Define Helper Functions\n",
    "\n",
    "We'll create two simple functions that include artificial delays using `time.sleep(1)` to simulate computationally expensive operations:\n",
    "\n",
    "- `square(n)`: Returns the square of a number\n",
    "- `add(m, n)`: Returns the sum of two numbers\n",
    "\n",
    "The 1-second delay in each function will help us see the performance difference between sequential and parallel execution."
   ]
  },
  {
   "cell_type": "code",
   "execution_count": null,
   "id": "6d395d05-2769-46fd-9bcb-f2bb17a48dce",
   "metadata": {},
   "outputs": [],
   "source": [
    "def square(n):\n",
    "    time.sleep(1)\n",
    "    return n * n\n",
    "    \n",
    "def add(m, n):\n",
    "    time.sleep(1)\n",
    "    return m + n"
   ]
  },
  {
   "cell_type": "markdown",
   "id": "34239793",
   "metadata": {},
   "source": [
    "## Sequential Execution Example\n",
    "\n",
    "First, let's run our functions sequentially (one after another) and measure the time:\n",
    "\n",
    "1. Calculate `square(1)` - takes ~1 second\n",
    "2. Calculate `square(2)` - takes ~1 second  \n",
    "3. Add the results together - takes ~1 second\n",
    "\n",
    "**Expected total time: ~3 seconds**"
   ]
  },
  {
   "cell_type": "code",
   "execution_count": null,
   "id": "131eb7df-17bf-496e-890b-ad70e1c85222",
   "metadata": {},
   "outputs": [],
   "source": [
    "%%time \n",
    "\n",
    "x = square(1)\n",
    "y = square(2)\n",
    "z = add(x, y)"
   ]
  },
  {
   "cell_type": "markdown",
   "id": "0ef2be87",
   "metadata": {},
   "source": [
    "## Dask Delayed Execution\n",
    "\n",
    "Now let's use Dask's `delayed` decorator to create a computation graph instead of executing immediately:\n",
    "\n",
    "- `dask.delayed()` wraps our functions to create lazy computation tasks\n",
    "- No computation happens yet - we're just building a graph of dependencies\n",
    "- The two `square()` operations can potentially run in parallel since they don't depend on each other"
   ]
  },
  {
   "cell_type": "code",
   "execution_count": null,
   "id": "78f7f49e-4020-46bf-9f00-325e1dfc98e4",
   "metadata": {},
   "outputs": [],
   "source": [
    "x = dask.delayed(square)(1)\n",
    "y = dask.delayed(square)(2)\n",
    "z = dask.delayed(add)(x, y)"
   ]
  },
  {
   "cell_type": "markdown",
   "id": "326969e7",
   "metadata": {},
   "source": [
    "## Visualize the Computation Graph (Optional)\n",
    "\n",
    "Dask can visualize the computation graph to show task dependencies. Uncomment the line below to see how Dask plans to execute our tasks:\n",
    "\n",
    "- You'll see that `square(1)` and `square(2)` can run in parallel\n",
    "- The `add` operation depends on both square operations completing first"
   ]
  },
  {
   "cell_type": "code",
   "execution_count": null,
   "id": "b3252898-90a0-4726-95f6-a7993e0ce9ed",
   "metadata": {},
   "outputs": [],
   "source": [
    "#z.visualize(rankdir='LR')"
   ]
  },
  {
   "cell_type": "markdown",
   "id": "7655804a",
   "metadata": {},
   "source": [
    "## Execute the Dask Computation\n",
    "\n",
    "Now let's trigger the actual computation using `.compute()` and measure the execution time:\n",
    "\n",
    "**Expected improvement**: Since `square(1)` and `square(2)` can run in parallel, the total time should be closer to ~2 seconds instead of 3 seconds."
   ]
  },
  {
   "cell_type": "code",
   "execution_count": null,
   "id": "383acc4d-9678-41fd-9086-ceae7dc54bfa",
   "metadata": {},
   "outputs": [],
   "source": [
    "%%time\n",
    "z.compute()"
   ]
  },
  {
   "cell_type": "markdown",
   "id": "882de4a7",
   "metadata": {},
   "source": [
    "## Scaling Up: Sequential Processing of 100 Items\n",
    "\n",
    "Let's see the performance difference with a larger workload. Here we'll process 100 numbers sequentially:\n",
    "\n",
    "- Each `square(i)` operation takes 1 second\n",
    "- With 100 operations running sequentially, this should take approximately **100 seconds**\n",
    "- Plus the time to sum all results"
   ]
  },
  {
   "cell_type": "code",
   "execution_count": null,
   "id": "a653bb4e-681c-488e-b12c-c847ec86e193",
   "metadata": {},
   "outputs": [],
   "source": [
    "%%time\n",
    "\n",
    "x = [square(i) for i in range(100)]\n",
    "y = sum(x)"
   ]
  },
  {
   "cell_type": "markdown",
   "id": "cbb664b6",
   "metadata": {},
   "source": [
    "## Scaling Up: Parallel Processing with Dask\n",
    "\n",
    "Now let's create the same computation using Dask delayed operations:\n",
    "\n",
    "- We create 100 delayed square operations\n",
    "- All of these can potentially run in parallel (limited by available CPU cores)\n",
    "- The final sum operation waits for all square operations to complete"
   ]
  },
  {
   "cell_type": "code",
   "execution_count": null,
   "id": "374cb747-fd77-45ee-9794-2223f8480a6b",
   "metadata": {},
   "outputs": [],
   "source": [
    "x = [dask.delayed(square)(i) for i in range(100)]\n",
    "y = dask.delayed(sum)(x)"
   ]
  },
  {
   "cell_type": "code",
   "execution_count": null,
   "id": "d68b1a46-0194-4dec-a517-c51dcaaa5abe",
   "metadata": {},
   "outputs": [],
   "source": [
    "%%time\n",
    "\n",
    "y.compute()"
   ]
  },
  {
   "cell_type": "markdown",
   "id": "9891b6ad-2e1b-44db-b43c-7a0341b248ae",
   "metadata": {},
   "source": [
    "## Key Takeaways\n",
    "\n",
    "This demo illustrates several important concepts about parallel computing with Dask:\n",
    "\n",
    "### 1. **Lazy Evaluation**\n",
    "- Dask builds a computation graph before executing anything\n",
    "- This allows for optimization and parallel execution planning\n",
    "\n",
    "### 2. **Automatic Parallelization**\n",
    "- Independent tasks can run simultaneously across multiple CPU cores\n",
    "- Dask handles task scheduling and resource management automatically\n",
    "\n",
    "### 3. **Scalability Benefits**\n",
    "- Small tasks (like our 3-operation example) may not show dramatic speedups due to overhead\n",
    "- Larger workloads (like our 100-operation example) demonstrate significant performance gains\n",
    "- Real-world data processing tasks with thousands or millions of operations see even greater benefits\n",
    "\n",
    "### 4. **Easy Integration**\n",
    "- Minimal code changes required to parallelize existing Python workflows\n",
    "- Works seamlessly with NumPy, Pandas, and other scientific Python libraries"
   ]
  }
 ],
 "metadata": {
  "kernelspec": {
   "display_name": "myEnvJupyter",
   "language": "python",
   "name": "myenvjupyter"
  },
  "language_info": {
   "codemirror_mode": {
    "name": "ipython",
    "version": 3
   },
   "file_extension": ".py",
   "mimetype": "text/x-python",
   "name": "python",
   "nbconvert_exporter": "python",
   "pygments_lexer": "ipython3",
   "version": "3.12.8"
  }
 },
 "nbformat": 4,
 "nbformat_minor": 5
}
