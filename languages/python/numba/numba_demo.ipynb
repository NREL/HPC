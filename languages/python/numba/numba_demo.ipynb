{
 "cells": [
  {
   "cell_type": "markdown",
   "metadata": {},
   "source": [
    "# Getting Started with Numba\n",
    "\n",
    "Numba is a just in time (JIT) compiler for Python and NumPy code.  From their website:\n",
    "\n",
    ">Numba translates Python functions to optimized machine code at runtime using the industry-standard LLVM compiler library. Numba-compiled numerical algorithms in Python can approach the speeds of C or FORTRAN.\n",
    "\n",
    "In this getting-started guide, we compare the performance of different combinations of Numba and NumPy and briefly discuss using this approach on Eagle.  For more Numba background and performance options, you're encouraged to review the following extremely helpful links:\n",
    "\n",
    "- [A ~5 minute guide to Numba](https://numba.readthedocs.io/en/stable/user/5minguide.html)\n",
    "- [Performance Tips](https://numba.readthedocs.io/en/stable/user/performance-tips.html#performance-tips)"
   ]
  },
  {
   "cell_type": "markdown",
   "metadata": {},
   "source": [
    "### Building a Numba Environemt\n",
    "\n",
    "In order to run this notebook, you'll need to build a minimal Conda environment with the Numba, Matplotlib, and Jupyter packages as shown below\n",
    "\n",
    "    conda create -n numba-env numba matplotlib jupyter\n",
    "    \n",
    "Follow the prompts to download the necessary packages and when installation has finished, activate the environment with\n",
    "\n",
    "    conda activate numba-env\n",
    "    \n",
    "Once activated, you should be able to execute the cell below without error"
   ]
  },
  {
   "cell_type": "code",
   "execution_count": 1,
   "metadata": {},
   "outputs": [],
   "source": [
    "%reset -f\n",
    "from numba import jit\n",
    "import numpy as np\n",
    "import matplotlib.pyplot as plt"
   ]
  },
  {
   "cell_type": "markdown",
   "metadata": {},
   "source": [
    "### Testing Numba Compilation Speedup\n",
    "\n",
    "With a working environment for testing built, we move on to testing the performance of Numba and experimenting with a common use option using an example that appears frequently in numerical methods: calculating Euclidean distances between points in 3D space.  We assume that `position` is an array of floating-point values with $N$ rows and 3 columns, where the $k$th row represents point $k$'s x-, y-, and z-position.  The first approach to this problem is shown in function `calc_all_distances`.  It represents a naive but workable first attempt at solving a problem like this, using a double for loop to consider each pair-wise interaction (note that it does not exclude comparing a point with itself, i.e., when `k=j`)."
   ]
  },
  {
   "cell_type": "code",
   "execution_count": 2,
   "metadata": {},
   "outputs": [],
   "source": [
    "def calc_all_distances(position):\n",
    "    num_points = np.shape(position)[0]\n",
    "    \n",
    "    distance = np.zeros((num_points, num_points))\n",
    "    \n",
    "    for k in range(num_points):\n",
    "        for j in range(num_points):\n",
    "            # Calculate the separation in the x, y, and z-directions\n",
    "            dx = position[k, :] - position[j, :]\n",
    "\n",
    "            # Compute the Euclidean between particle \"k\" and \"j\"\n",
    "            distance[k, j] = np.sqrt(dx[0]**2 + dx[1]**2 + dx[2]**2)\n",
    "    \n",
    "    return distance"
   ]
  },
  {
   "cell_type": "markdown",
   "metadata": {},
   "source": [
    "This version of the function is quick to write and easy to understand, but after some thought, a natural next step might be to remove the inner loop and replace it with a vectorized operation which compares a single point `k` with all its possible pairs from the range `j=1:N`.  This semi-vectorized function still retains good readability, and allowing NumPy to compute all the interactions at once using the library's highly-efficient operations should improve the execution speed."
   ]
  },
  {
   "cell_type": "code",
   "execution_count": 3,
   "metadata": {},
   "outputs": [],
   "source": [
    "def semi_vectorized_calc_all_distances(position):\n",
    "    num_points = np.shape(position)[0]\n",
    "    \n",
    "    distance = np.zeros((num_points, num_points))\n",
    "    \n",
    "    for k in range(num_points):\n",
    "        dx = position[k, :] - position[:, :]\n",
    "        \n",
    "        distance[k, :] = np.sqrt(dx[:, 0]**2 + dx[:, 1]**2 + dx[:, 2]**2)\n",
    "            \n",
    "    return distance"
   ]
  },
  {
   "cell_type": "markdown",
   "metadata": {},
   "source": [
    "To squeeze even more performance from this function, we can construct a version of this problem that allows us to remove even the outer loop such that *all* interactions between *all* pairs are calculated in a few fully-vecorized lines.  Here, the readability is significantly diminished (at first glance, it's not obvious what this function does) but the hope is that it more than makes up for its algorithmic density with execution speed."
   ]
  },
  {
   "cell_type": "code",
   "execution_count": 4,
   "metadata": {},
   "outputs": [],
   "source": [
    "def fully_vectorized_calc_all_distances(position):\n",
    "    \n",
    "    num_points = np.shape(position)[0]\n",
    "    \n",
    "    dx = np.reshape(position, (1, -1)) - np.tile(position, (1, num_points))\n",
    "    \n",
    "    distance = np.sqrt(dx[:, 0::3]**2 + dx[:, 1::3]**2 + dx[:, 2::3]**2)\n",
    "            \n",
    "    return distance"
   ]
  },
  {
   "cell_type": "markdown",
   "metadata": {},
   "source": [
    "Thus far, we haven't done any compilation with Numba, simply produced some different approaches to the same problem.  The last approach we'll use is a carbon-copy of the first implementation, `calc_all_distances`, using a nested loop.  The only change is that we've added a decorator to tell Numba to compile this function when it's first called and then execute the compiled version which contains optimizations and efficiency improvements specific to your machine."
   ]
  },
  {
   "cell_type": "code",
   "execution_count": 5,
   "metadata": {},
   "outputs": [],
   "source": [
    "@jit(nopython=True)\n",
    "def numba_calc_all_distances(position):\n",
    "    num_points = np.shape(position)[0]\n",
    "    \n",
    "    distance = np.zeros((num_points, num_points))\n",
    "    \n",
    "    for k in range(num_points):\n",
    "        for j in range(num_points):\n",
    "            dx = position[k, :] - position[j, :]\n",
    "\n",
    "            distance[k, j] = np.sqrt(dx[0]**2 + dx[1]**2 + dx[2]**2)\n",
    "            \n",
    "    return distance"
   ]
  },
  {
   "cell_type": "markdown",
   "metadata": {},
   "source": [
    "### Performance Results\n",
    "\n",
    "To compare the performance of each function, we use the `timeit` command to evaluate each function's average execution time over multiple runs consisting of 100 random points in 3D space."
   ]
  },
  {
   "cell_type": "code",
   "execution_count": 6,
   "metadata": {},
   "outputs": [
    {
     "name": "stdout",
     "output_type": "stream",
     "text": [
      "Running naive distance calculation...\n",
      "32.6 ms ± 920 µs per loop (mean ± std. dev. of 7 runs, 10 loops each)\n",
      "\n",
      "Running semi-vectorized distance calculation...\n",
      "707 µs ± 30.4 µs per loop (mean ± std. dev. of 7 runs, 1000 loops each)\n",
      "\n",
      "Running fully-vectorized distance calculation...\n",
      "96.2 µs ± 3.26 µs per loop (mean ± std. dev. of 7 runs, 10000 loops each)\n",
      "\n",
      "Running Numba-compiled distance calculation...\n",
      "1.31 ms ± 58.7 µs per loop (mean ± std. dev. of 7 runs, 1 loop each)\n",
      "\n"
     ]
    }
   ],
   "source": [
    "# Create N Points randomly\n",
    "N = 100\n",
    "pos = np.random.rand(N, 3)\n",
    "\n",
    "# Initialize a timing-statistics variable\n",
    "timeit_list = [0, 0, 0, 0]\n",
    "\n",
    "# Call each method while recording timing statistics\n",
    "print('Running naive distance calculation...')\n",
    "timeit_list[0] = %timeit -o calc_all_distances(pos)\n",
    "print()\n",
    "\n",
    "print('Running semi-vectorized distance calculation...')\n",
    "timeit_list[1] = %timeit -o semi_vectorized_calc_all_distances(pos)\n",
    "print()\n",
    "\n",
    "print('Running fully-vectorized distance calculation...')\n",
    "timeit_list[2] = %timeit -o fully_vectorized_calc_all_distances(pos)\n",
    "print()\n",
    "\n",
    "print('Running Numba-compiled distance calculation...')\n",
    "timeit_list[3] = %timeit -o numba_calc_all_distances(pos)\n",
    "print()"
   ]
  },
  {
   "cell_type": "markdown",
   "metadata": {},
   "source": [
    "Visualizing the results in a bar plot makes these relationships clearer."
   ]
  },
  {
   "cell_type": "code",
   "execution_count": 7,
   "metadata": {},
   "outputs": [
    {
     "data": {
      "image/png": "[encoded data removed]",
      "text/plain": [
       "<Figure size 700x500 with 1 Axes>"
      ]
     },
     "metadata": {
      "needs_background": "light"
     },
     "output_type": "display_data"
    }
   ],
   "source": [
    "# Format the timing results for plotting\n",
    "timing = [tt.average for tt in timeit_list]\n",
    "xpts = range(len(timing))\n",
    "\n",
    "# Plot the results\n",
    "plt.figure(figsize=(7, 5), dpi=100)\n",
    "plt.bar(xpts, timing)\n",
    "plt.xticks(xpts, ('Naive', 'Semi-Vectorized', 'Fully-Vectorized', 'Numba'))\n",
    "plt.ylabel('Average Execution Time (s)')\n",
    "plt.show()"
   ]
  },
  {
   "cell_type": "markdown",
   "metadata": {},
   "source": [
    "### Interpretation\n",
    "\n",
    "Clearly the Numba-compiled function is significantly faster than its non-compiled counterpart which, as a reminder, uses the exact same double-loop algorithm to compute each separation distance.  Both the uncompiled semi-vectorized and fully-vectorized functions offer additional performance benefits, highlighting that when possible, better performance may still be obtained simply by changing the algorithmic approach.  However, it's important to stress that it may not always be possible (or easy) to implement a vectorized solution for a given problem.  Suppose each pariwise interaction in this simple function had a rigorous collision test, additional dimensions, a complex property lookup table, or other complicating factors.  Vecotrizing such a calculation might be quite challenging and would almost certainly hurt the overall readability of the code.\n",
    "\n",
    "There will also be scenarios where vectorization of a given approach is impossible.  Consider the solution of a simple time-varying ordinary differential equation solved using the forward Euler method.  Given the initial value of the solution, the discretization returns the solution at time $t = \\Delta t$, uses this value to compute the solution at time $t = 2\\Delta t$, and so on.  With this method, a simple vectorization is not possible, but Numba still enables an order-of-magnitude faster simulation.\n",
    "\n",
    "### What Types of Functions will See Improvement?\n",
    "\n",
    "Unfortunately, adding Numba compilation is not a guarantee of attaining near-compiled speed.   Accoring to their documentation\n",
    "\n",
    ">If your code is numerically orientated (does a lot of math), uses NumPy a lot and/or has a lot of loops, then Numba is often a good choice.\n",
    "\n",
    "You are encouraged to read through some of the [official performance tips](https://numba.pydata.org/numba-doc/latest/user/performance-tips.html) to get a sense for what things will compile well and what functions may not show appreciable speedup.  For these real-world cases, a hybrid approach of compiling as many of the low-level, numerical portions of your algorithm as possible while leaving higher-order interactions with objects or other Python structures uncompiled may yield the best, easily-attainable performance boost."
   ]
  },
  {
   "cell_type": "code",
   "execution_count": null,
   "metadata": {},
   "outputs": [],
   "source": [
    "# Try it out!\n",
    "\n",
    "@jit(nopython=True)\n",
    "def new_function():\n",
    "    pass\n"
   ]
  }
 ],
 "metadata": {
  "kernelspec": {
   "display_name": "Python 3",
   "language": "python",
   "name": "python3"
  },
  "language_info": {
   "codemirror_mode": {
    "name": "ipython",
    "version": 3
   },
   "file_extension": ".py",
   "mimetype": "text/x-python",
   "name": "python",
   "nbconvert_exporter": "python",
   "pygments_lexer": "ipython3",
   "version": "3.8.2"
  }
 },
 "nbformat": 4,
 "nbformat_minor": 4
}
