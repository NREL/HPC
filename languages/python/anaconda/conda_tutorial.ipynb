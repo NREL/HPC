{
 "cells": [
  {
   "cell_type": "markdown",
   "metadata": {
    "slideshow": {
     "slide_type": "slide"
    }
   },
   "source": [
    "![conda logo](conda_logo.png)"
   ]
  },
  {
   "cell_type": "markdown",
   "metadata": {
    "slideshow": {
     "slide_type": "slide"
    }
   },
   "source": [
    "## Why Conda?\n",
    "\n",
    "Conda is a **package manager** which allows you to easily create and switch betwen different software environments in different languages for different purposes.  With Conda, it's easy to:\n",
    "\n",
    "* Manage different (potentially conflicting) versions of the same software without complication\n",
    "\n",
    "* Quickly stand up even complicated dependencies for stacks of software\n",
    "\n",
    "* Share your specific programming environment with others for reproducible results \n"
   ]
  },
  {
   "cell_type": "markdown",
   "metadata": {
    "slideshow": {
     "slide_type": "slide"
    }
   },
   "source": [
    "## Creating Environments by Name\n",
    "\n",
    "To create a basic Conda environment, we'll start by running\n",
    "\n",
    "`conda create --name mypy python`\n",
    "\n",
    "where the `--name` option (or the shortened `-n`) means the environment will be specified by **name** and `myenv` will be the name of the created environment.  Any arguments following the environment name are the packages to be installed."
   ]
  },
  {
   "cell_type": "markdown",
   "metadata": {
    "slideshow": {
     "slide_type": "fragment"
    }
   },
   "source": [
    "To specify a specific version of a package, simply add the version number after the \"=\" sign\n",
    "\n",
    "`conda create --name mypy37 python=3.7`"
   ]
  },
  {
   "cell_type": "markdown",
   "metadata": {
    "slideshow": {
     "slide_type": "subslide"
    }
   },
   "source": [
    "You can specify multiple packages for installation during environment creation\n",
    "\n",
    "`conda create --name mynumpy python=3.7 numpy`\n",
    "\n",
    "Conda ensures dependencies are satisfied when installing packages, so the version of the numpy package installed will be consistent with Python 3.7 (and any other packages specified)."
   ]
  },
  {
   "cell_type": "markdown",
   "metadata": {
    "slideshow": {
     "slide_type": "fragment"
    }
   },
   "source": [
    "<div class=\"alert alert-block alert-info\">\n",
    "<br><b>Tip:</b> It’s recommended to install all the packages you want to include in an environment at the same time to help avoid dependency conflicts.\n",
    "<br><br>\n",
    "</div>"
   ]
  },
  {
   "cell_type": "markdown",
   "metadata": {
    "slideshow": {
     "slide_type": "slide"
    }
   },
   "source": [
    "## Environment Navigation\n",
    "\n",
    "To see a list of all existing environments (useful to confirm the successful creation of a new environment):\n",
    "\n",
    "`conda env list`\n",
    "\n",
    "To activate your new environment:\n",
    "\n",
    "`conda activate mypy`\n",
    "\n",
    "Your usual command prompt should now be prefixed with `(mypy)`, which helps keep track of which environment is currently activated."
   ]
  },
  {
   "cell_type": "markdown",
   "metadata": {
    "slideshow": {
     "slide_type": "subslide"
    }
   },
   "source": [
    "To see which packages are installed from *within a currently active environment*:\n",
    "\n",
    "`conda list`\n",
    "\n",
    "When finished with this programming session, deactivate your environment with:\n",
    "\n",
    "`conda deactivate`"
   ]
  },
  {
   "cell_type": "markdown",
   "metadata": {
    "slideshow": {
     "slide_type": "slide"
    }
   },
   "source": [
    "## Creating Environments by Location\n",
    "\n",
    "Creating environments by location is especially helpful when working on the Eagle HPC, as the default location is your `/home/<username>/` directory, which is limited to 50 GB.  To create a Conda environment somewhere besides the default location, use the `--prefix` flag (or the shortened `-p`) instead of `--name` when creating.\n",
    "\n",
    "`conda create --prefix /path/to/mypy python=3.7 numpy`\n",
    "\n",
    "This re-creates the python+numpy environment from earlier, but with all downloaded packages stored in the specified location."
   ]
  },
  {
   "cell_type": "markdown",
   "metadata": {
    "slideshow": {
     "slide_type": "fragment"
    }
   },
   "source": [
    "<div class=\"alert alert-block alert-danger\">\n",
    "<br>\n",
    "<b>Warning:</b>  Keep in mind that scratch on Eagle is <b>temporary</b> in that files are purged after 28 days of inactivity.\n",
    "<br><br>\n",
    "</div>"
   ]
  },
  {
   "cell_type": "markdown",
   "metadata": {
    "slideshow": {
     "slide_type": "subslide"
    }
   },
   "source": [
    "Unfortunately, placing environments outside of the default /env folder means that it needs to be activated with the full path (`conda activate /path/to/mypy`) and will show the full path rather than the environment name at the command prompt. "
   ]
  },
  {
   "cell_type": "markdown",
   "metadata": {
    "slideshow": {
     "slide_type": "fragment"
    }
   },
   "source": [
    "To fix the cumbersome command prompt, simply modify the `env_prompt` setting in your `.condarc` file:\n",
    "\n",
    "`conda config --set env_prompt '({name}) '`\n",
    "\n",
    "Note that `'({name})'` is not a placeholder for your desired environment name but text to be copied literally.  This will edit your `.condarc` file if you already have one or create a `.condarc` file if you do not. For more on modifying your `.condarc` file, check out the [User Guide](https://docs.conda.io/projects/conda/en/latest/user-guide/configuration/use-condarc.html).  Once you've completed this step, the command prompt will show the shortened name (mypy, in the previous example)."
   ]
  },
  {
   "cell_type": "markdown",
   "metadata": {
    "slideshow": {
     "slide_type": "slide"
    }
   },
   "source": [
    "## Managing Conda Environments\n",
    "\n",
    "Over time, it may become necessary to add additional packages to your environments.  New packages can be installed in the currently active environment with:\n",
    "\n",
    "`conda install pandas`\n",
    "\n",
    "Conda will ensure that all dependencies are satisfied which may include upgrades to existing packages in this repository.  To install packages from other sources, specify the `channel` option:\n",
    "\n",
    "`conda install --channel conda-forge fenics`"
   ]
  },
  {
   "cell_type": "markdown",
   "metadata": {
    "slideshow": {
     "slide_type": "subslide"
    }
   },
   "source": [
    "To add a pip-installable package to your environment:\n",
    "\n",
    "`\n",
    "conda install pip\n",
    "pip <pip_subcommand>\n",
    "`"
   ]
  },
  {
   "cell_type": "markdown",
   "metadata": {
    "slideshow": {
     "slide_type": "fragment"
    }
   },
   "source": [
    "<div class=\"alert alert-block alert-danger\">\n",
    "<br>\n",
    "<b>A note on mixing Conda and Pip:</b>  Issues may arise when using pip and conda together. When combining conda and pip, it is best to use an isolated conda environment. <b>Only after conda has been used to install as many packages as possible should pip be used to install any remaining software</b>. If modifications are needed to the environment, it is best to create a new environment rather than running conda after pip. When appropriate, conda and pip requirements should be stored in text files.\n",
    "<br><br>\n",
    "</div>\n",
    "\n",
    "For more information on this point, check out the [User Guide](https://docs.conda.io/projects/conda/en/latest/user-guide/tasks/manage-environments.html#using-pip-in-an-environment)"
   ]
  },
  {
   "cell_type": "markdown",
   "metadata": {
    "slideshow": {
     "slide_type": "subslide"
    }
   },
   "source": [
    "We can use `conda list` to see which packages are currently installed, but for a more version-control-flavored approach:\n",
    "\n",
    "`conda list --revisions`\n",
    "\n",
    "which shows changes to the environment over time.  To revert back to a previous environemnt\n",
    "\n",
    "`conda install --revision 1`\n"
   ]
  },
  {
   "cell_type": "markdown",
   "metadata": {
    "slideshow": {
     "slide_type": "fragment"
    }
   },
   "source": [
    "To remove packages from the currently activated environment:\n",
    "\n",
    "`conda remove pkg1`\n",
    "\n",
    "To completely remove an environment and all installed packages:\n",
    "\n",
    "`conda remove --name mypy --all`"
   ]
  },
  {
   "cell_type": "markdown",
   "metadata": {
    "slideshow": {
     "slide_type": "subslide"
    }
   },
   "source": [
    "Conda environments can become large quickly due to the liberal creation of cached files.  To remove these files and free up space you can use\n",
    "\n",
    "`conda clean --all`\n",
    "\n",
    "or to simply preview the potential changes before doing any actual deletion\n",
    "\n",
    "`conda clean --all --dry-run`"
   ]
  },
  {
   "cell_type": "markdown",
   "metadata": {
    "slideshow": {
     "slide_type": "slide"
    }
   },
   "source": [
    "## Sharing Conda Environments\n",
    "\n",
    "To create a file with the the *exact* \"recipe\" used to create the current environment:\n",
    "\n",
    "`conda env export > environment.yaml`"
   ]
  },
  {
   "cell_type": "markdown",
   "metadata": {
    "slideshow": {
     "slide_type": "fragment"
    }
   },
   "source": [
    "In practice, this recipe may be overly-specific to the point of creating problems on different hardware.  To save an abbreviated version of the recipe with only the packages you *explicitly requested*: \n",
    "\n",
    "`conda env export --from-history > environment.yaml`"
   ]
  },
  {
   "cell_type": "markdown",
   "metadata": {
    "slideshow": {
     "slide_type": "subslide"
    }
   },
   "source": [
    "To create a new environment with the recipe specified in the .yaml file:\n",
    "\n",
    "`conda env create --name mypyeagle --file environment.yaml`\n",
    "\n",
    "If a name or prefix isn't specified, the environment will be given the same name as the original environment the recipe was exported from (which may be desirable if you're moving to a different computer)."
   ]
  },
  {
   "cell_type": "markdown",
   "metadata": {
    "slideshow": {
     "slide_type": "slide"
    }
   },
   "source": [
    "## Eagle Considerations\n",
    "\n",
    "Interacting with your Conda environments on Eagle should feel exactly the same as working on your desktop.  An example desktop-to-HPC workflow might go:\n",
    "\n",
    "1. Create the environment locally\n",
    "2. Verify that environment works on a minimal working example\n",
    "3. Export local environment file and copy to Eagle\n",
    "4. Duplicate local environment on Eagle\n",
    "5. Execute production-level runs on Eagle"
   ]
  },
  {
   "cell_type": "markdown",
   "metadata": {
    "slideshow": {
     "slide_type": "fragment"
    }
   },
   "source": [
    "```bash\n",
    "#!/bin/bash \n",
    "#SBATCH --ntasks=4\n",
    "#SBATCH --nodes=1\n",
    "#SBATCH --time=5\n",
    "#SBATCH --account=<project_handle>\n",
    "\n",
    "module purge\n",
    "modlue load conda\n",
    "conda activate mypy\n",
    "\n",
    "srun -n 8 python my_main.py\n",
    "```"
   ]
  },
  {
   "cell_type": "markdown",
   "metadata": {
    "slideshow": {
     "slide_type": "slide"
    }
   },
   "source": [
    "## Cheat Sheet of Common Commands\n",
    "\n",
    "| Task                | ... outside environment                       | ... inside environment                |\n",
    "|---------------------|-----------------------------------------------|---------------------------------------|\n",
    "| Create by name      | `conda create -n mypy pkg1 pkg2`              | N/A                                   |\n",
    "| Create by path      | `conda create -p path/to/mypy pkg1 pkg2`      | N/A                                   |\n",
    "| Create by file      | `conda env create -f environment.yml`         | N/A                                   |\n",
    "| Show environments   | `conda env list`                              | N/A                                   |\n",
    "| Activate            | `conda activate mypy`                         | N/A                                   |\n",
    "| Deactivate          | N/A                                           | `conda deactivate`                    |\n",
    "| Install New Package | `conda install -n mypy pkg1 pkg2`             | `conda install pkg1 pkg2`             |\n",
    "| List All Packages   | `conda list -n mypy`                          | `conda list`                          |\n",
    "| Revision Listing    | `conda list --revisions -n mypy`              | `conda list --revisions`              |\n",
    "| Export Environment  | `conda env export -n mypy > environment.yaml` | `conda env export > environment.yaml` |\n",
    "| Remove Package      | `conda remove -n mypy pkg1 pkg2`              | `conda remove pkg1 pkg2`              |"
   ]
  }
 ],
 "metadata": {
  "celltoolbar": "Slideshow",
  "kernelspec": {
   "display_name": "Python 2",
   "language": "python",
   "name": "python2"
  },
  "language_info": {
   "codemirror_mode": {
    "name": "ipython",
    "version": 2
   },
   "file_extension": ".py",
   "mimetype": "text/x-python",
   "name": "python",
   "nbconvert_exporter": "python",
   "pygments_lexer": "ipython2",
   "version": "2.7.15"
  }
 },
 "nbformat": 4,
 "nbformat_minor": 2
}
